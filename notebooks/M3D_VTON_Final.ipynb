{
  "nbformat": 4,
  "nbformat_minor": 0,
  "metadata": {
    "colab": {
      "name": "M3D-VTON_Final.ipynb",
      "provenance": [],
      "collapsed_sections": []
    },
    "kernelspec": {
      "name": "python3",
      "display_name": "Python 3"
    },
    "language_info": {
      "name": "python"
    },
    "accelerator": "GPU"
  },
  "cells": [
    {
      "cell_type": "markdown",
      "source": [
        "# Setup"
      ],
      "metadata": {
        "id": "0Y2rSXGjvHtx"
      }
    },
    {
      "cell_type": "markdown",
      "source": [
        "## Install dependencies"
      ],
      "metadata": {
        "id": "eEsG4KKNvfyX"
      }
    },
    {
      "cell_type": "code",
      "source": [
        "!pip install opencv-python\n",
        "!pip install pycocotools\n",
        "!pip install ipykernel\n",
        "!pip install scipy\n",
        "!pip install torch==1.7.1+cu110 torchvision==0.8.2+cu110 torchaudio==0.7.2 -f https://download.pytorch.org/whl/torch_stable.html\n",
        "!pip install networkx==2.6.2\n",
        "# !pip install torch==1.6.0 torchvision==0.7.0\n",
        "!pip install open3d"
      ],
      "metadata": {
        "id": "SN2Vu-ya8VOS"
      },
      "execution_count": null,
      "outputs": []
    },
    {
      "cell_type": "code",
      "source": [
        "import cv2\n",
        "import matplotlib.pyplot as plt\n",
        "from google.colab.patches import cv2_imshow\n",
        "import os\n",
        "from os.path import exists, join, basename, splitext\n",
        "import open3d as o3d "
      ],
      "metadata": {
        "id": "_6ws_llRx697"
      },
      "execution_count": 1,
      "outputs": []
    },
    {
      "cell_type": "code",
      "source": [
        "!python --version"
      ],
      "metadata": {
        "colab": {
          "base_uri": "https://localhost:8080/"
        },
        "id": "zdlzu-SUsJti",
        "outputId": "64aaa590-0002-4af8-f943-c8e206863493"
      },
      "execution_count": 2,
      "outputs": [
        {
          "output_type": "stream",
          "name": "stdout",
          "text": [
            "Python 3.7.12\n"
          ]
        }
      ]
    },
    {
      "cell_type": "code",
      "source": [
        "!nvcc --version"
      ],
      "metadata": {
        "colab": {
          "base_uri": "https://localhost:8080/"
        },
        "id": "febFIhGVsPQK",
        "outputId": "23f75abe-44f6-4483-ceb6-8c4a2f9f6922"
      },
      "execution_count": 3,
      "outputs": [
        {
          "output_type": "stream",
          "name": "stdout",
          "text": [
            "nvcc: NVIDIA (R) Cuda compiler driver\n",
            "Copyright (c) 2005-2020 NVIDIA Corporation\n",
            "Built on Mon_Oct_12_20:09:46_PDT_2020\n",
            "Cuda compilation tools, release 11.1, V11.1.105\n",
            "Build cuda_11.1.TC455_06.29190527_0\n"
          ]
        }
      ]
    },
    {
      "cell_type": "code",
      "source": [
        "!nvidia-smi "
      ],
      "metadata": {
        "colab": {
          "base_uri": "https://localhost:8080/"
        },
        "id": "dPpzPBwssP6o",
        "outputId": "7f141ad2-9143-4a2d-9b63-d7b95be0304d"
      },
      "execution_count": 4,
      "outputs": [
        {
          "output_type": "stream",
          "name": "stdout",
          "text": [
            "Thu Feb 10 10:40:17 2022       \n",
            "+-----------------------------------------------------------------------------+\n",
            "| NVIDIA-SMI 460.32.03    Driver Version: 460.32.03    CUDA Version: 11.2     |\n",
            "|-------------------------------+----------------------+----------------------+\n",
            "| GPU  Name        Persistence-M| Bus-Id        Disp.A | Volatile Uncorr. ECC |\n",
            "| Fan  Temp  Perf  Pwr:Usage/Cap|         Memory-Usage | GPU-Util  Compute M. |\n",
            "|                               |                      |               MIG M. |\n",
            "|===============================+======================+======================|\n",
            "|   0  Tesla K80           Off  | 00000000:00:04.0 Off |                    0 |\n",
            "| N/A   32C    P8    28W / 149W |      3MiB / 11441MiB |      0%      Default |\n",
            "|                               |                      |                  N/A |\n",
            "+-------------------------------+----------------------+----------------------+\n",
            "                                                                               \n",
            "+-----------------------------------------------------------------------------+\n",
            "| Processes:                                                                  |\n",
            "|  GPU   GI   CI        PID   Type   Process name                  GPU Memory |\n",
            "|        ID   ID                                                   Usage      |\n",
            "|=============================================================================|\n",
            "|  No running processes found                                                 |\n",
            "+-----------------------------------------------------------------------------+\n"
          ]
        }
      ]
    },
    {
      "cell_type": "markdown",
      "source": [
        "## Clone M3D-VTON repo and download pretrained models"
      ],
      "metadata": {
        "id": "md2gI04LvlPG"
      }
    },
    {
      "cell_type": "code",
      "execution_count": 5,
      "metadata": {
        "colab": {
          "base_uri": "https://localhost:8080/"
        },
        "id": "35UMtQnDIsKJ",
        "outputId": "3773bb0a-1eee-4040-efab-2e4bd0132187"
      },
      "outputs": [
        {
          "output_type": "stream",
          "name": "stdout",
          "text": [
            "fatal: destination path 'm3d-vton' already exists and is not an empty directory.\n"
          ]
        }
      ],
      "source": [
        "!git clone https://github.com/fyviezhao/m3d-vton"
      ]
    },
    {
      "cell_type": "code",
      "source": [
        "cd m3d-vton/pretrained"
      ],
      "metadata": {
        "colab": {
          "base_uri": "https://localhost:8080/"
        },
        "id": "8QNYAuFZJWVW",
        "outputId": "99cd6e37-1ccb-4c15-8af4-20ccc14d91a1"
      },
      "execution_count": 6,
      "outputs": [
        {
          "output_type": "stream",
          "name": "stdout",
          "text": [
            "/content/m3d-vton/pretrained\n"
          ]
        }
      ]
    },
    {
      "cell_type": "code",
      "source": [
        "!gdown https://drive.google.com/uc?id=1wpN-yfa1_MbezqkcLfVspa2jVTJV7bjN"
      ],
      "metadata": {
        "colab": {
          "base_uri": "https://localhost:8080/"
        },
        "id": "evdw8cvn5-6f",
        "outputId": "2ebb2a85-201b-4a88-803c-8f1264837b77"
      },
      "execution_count": 7,
      "outputs": [
        {
          "output_type": "stream",
          "name": "stdout",
          "text": [
            "Downloading...\n",
            "From: https://drive.google.com/uc?id=1wpN-yfa1_MbezqkcLfVspa2jVTJV7bjN\n",
            "To: /content/m3d-vton/pretrained/M3D-VTON.zip\n",
            "100% 513M/513M [00:05<00:00, 99.1MB/s]\n"
          ]
        }
      ]
    },
    {
      "cell_type": "code",
      "source": [
        "!unzip -o M3D-VTON.zip \n",
        "!rm M3D-VTON.zip"
      ],
      "metadata": {
        "colab": {
          "base_uri": "https://localhost:8080/"
        },
        "id": "vqJ2ZTXgB0vW",
        "outputId": "ae7a32eb-91ff-4802-d2da-a2bf6a92f448"
      },
      "execution_count": 8,
      "outputs": [
        {
          "output_type": "stream",
          "name": "stdout",
          "text": [
            "Archive:  M3D-VTON.zip\n",
            " extracting: latest_net_TFM.pth      \n",
            " extracting: latest_net_MTM.pth      \n",
            " extracting: latest_net_DRM.pth      \n",
            " extracting: readme.txt              \n"
          ]
        }
      ]
    },
    {
      "cell_type": "code",
      "source": [
        "!mv latest_net_DRM.pth ./aligned/DRM/\n",
        "!mv latest_net_MTM.pth ./aligned/MTM/\n",
        "!mv latest_net_TFM.pth ./aligned/TFM/"
      ],
      "metadata": {
        "id": "nPjxI3p_CE5G"
      },
      "execution_count": 9,
      "outputs": []
    },
    {
      "cell_type": "code",
      "source": [
        "cd .."
      ],
      "metadata": {
        "colab": {
          "base_uri": "https://localhost:8080/"
        },
        "id": "gRiQ1pI2CRAm",
        "outputId": "9cd1d3ad-3204-4e99-f516-fab823b515eb"
      },
      "execution_count": 10,
      "outputs": [
        {
          "output_type": "stream",
          "name": "stdout",
          "text": [
            "/content/m3d-vton\n"
          ]
        }
      ]
    },
    {
      "cell_type": "code",
      "source": [
        "cd .."
      ],
      "metadata": {
        "colab": {
          "base_uri": "https://localhost:8080/"
        },
        "id": "dpkEDt0Csb1J",
        "outputId": "3e32e9b7-0dfd-43a9-88e6-ab458138ab0b"
      },
      "execution_count": 11,
      "outputs": [
        {
          "output_type": "stream",
          "name": "stdout",
          "text": [
            "/content\n"
          ]
        }
      ]
    },
    {
      "cell_type": "markdown",
      "source": [
        "# Clone 2D Human Parsing Repo and download pretrained model"
      ],
      "metadata": {
        "id": "ipyZkIjtse_Z"
      }
    },
    {
      "cell_type": "code",
      "source": [
        "!git clone https://github.com/fyviezhao/2D-Human-Parsing"
      ],
      "metadata": {
        "colab": {
          "base_uri": "https://localhost:8080/"
        },
        "id": "x6Z-LYrWsdis",
        "outputId": "b293e0bd-05c9-43d6-96e3-badd4ca3b188"
      },
      "execution_count": 12,
      "outputs": [
        {
          "output_type": "stream",
          "name": "stdout",
          "text": [
            "fatal: destination path '2D-Human-Parsing' already exists and is not an empty directory.\n"
          ]
        }
      ]
    },
    {
      "cell_type": "code",
      "source": [
        "cd 2D-Human-Parsing/pretrained"
      ],
      "metadata": {
        "colab": {
          "base_uri": "https://localhost:8080/"
        },
        "id": "gbBRASSwsogk",
        "outputId": "575c3a44-6d53-4722-a564-639c4e82f90a"
      },
      "execution_count": 13,
      "outputs": [
        {
          "output_type": "stream",
          "name": "stdout",
          "text": [
            "/content/2D-Human-Parsing/pretrained\n"
          ]
        }
      ]
    },
    {
      "cell_type": "code",
      "source": [
        "!gdown https://drive.google.com/uc?id=1cTYhbKbtrPfREVI_EkredmIq5WaT5GY6"
      ],
      "metadata": {
        "colab": {
          "base_uri": "https://localhost:8080/"
        },
        "id": "24rsmpXHsodx",
        "outputId": "25565ef2-ab80-4f50-c29a-4ac73859926c"
      },
      "execution_count": 14,
      "outputs": [
        {
          "output_type": "stream",
          "name": "stdout",
          "text": [
            "Downloading...\n",
            "From: https://drive.google.com/uc?id=1cTYhbKbtrPfREVI_EkredmIq5WaT5GY6\n",
            "To: /content/2D-Human-Parsing/pretrained/deeplabv3plus-xception-vocNov14_20-51-38_epoch-89.pth\n",
            "100% 167M/167M [00:01<00:00, 152MB/s]\n"
          ]
        }
      ]
    },
    {
      "cell_type": "code",
      "source": [
        "cd .."
      ],
      "metadata": {
        "colab": {
          "base_uri": "https://localhost:8080/"
        },
        "id": "yuMuy5kNsobU",
        "outputId": "53eaeb9d-ba38-4f88-dad3-d26a92a23867"
      },
      "execution_count": 15,
      "outputs": [
        {
          "output_type": "stream",
          "name": "stdout",
          "text": [
            "/content/2D-Human-Parsing\n"
          ]
        }
      ]
    },
    {
      "cell_type": "code",
      "source": [
        "cd .."
      ],
      "metadata": {
        "colab": {
          "base_uri": "https://localhost:8080/"
        },
        "id": "13Hi_Z9Wszy8",
        "outputId": "3984f11d-2f33-4d89-9932-4b0d16459c55"
      },
      "execution_count": 16,
      "outputs": [
        {
          "output_type": "stream",
          "name": "stdout",
          "text": [
            "/content\n"
          ]
        }
      ]
    },
    {
      "cell_type": "markdown",
      "source": [
        "## Build Open Pose"
      ],
      "metadata": {
        "id": "fyOBNyfDs1OU"
      }
    },
    {
      "cell_type": "code",
      "source": [
        "git_repo_url = 'https://github.com/CMU-Perceptual-Computing-Lab/openpose.git'\n",
        "project_name = splitext(basename(git_repo_url))[0]\n",
        "if not exists(project_name):\n",
        "  # see: https://github.com/CMU-Perceptual-Computing-Lab/openpose/issues/949\n",
        "  # install new CMake becaue of CUDA10\n",
        "  !wget -q https://cmake.org/files/v3.13/cmake-3.13.0-Linux-x86_64.tar.gz\n",
        "  !tar xfz cmake-3.13.0-Linux-x86_64.tar.gz --strip-components=1 -C /usr/local\n",
        "  # clone openpose\n",
        "  !git clone -q --depth 1 $git_repo_url\n",
        "  !sed -i 's/execute_process(COMMAND git checkout master WORKING_DIRECTORY ${CMAKE_SOURCE_DIR}\\/3rdparty\\/caffe)/execute_process(COMMAND git checkout f019d0dfe86f49d1140961f8c7dec22130c83154 WORKING_DIRECTORY ${CMAKE_SOURCE_DIR}\\/3rdparty\\/caffe)/g' openpose/CMakeLists.txt\n",
        "  # install system dependencies\n",
        "  !apt-get -qq install -y libatlas-base-dev libprotobuf-dev libleveldb-dev libsnappy-dev libhdf5-serial-dev protobuf-compiler libgflags-dev libgoogle-glog-dev liblmdb-dev opencl-headers ocl-icd-opencl-dev libviennacl-dev\n",
        "  # install python dependencies\n",
        "  !pip install -q youtube-dl\n",
        "  # build openpose\n",
        "  !cd openpose && rm -rf build || true && mkdir build && cd build && cmake .. && make -j`nproc`"
      ],
      "metadata": {
        "colab": {
          "base_uri": "https://localhost:8080/"
        },
        "id": "Y4v-CVWus5Ax",
        "outputId": "0c87e0d9-7b9f-4632-8b71-28d2b4f9e930"
      },
      "execution_count": 17,
      "outputs": [
        {
          "output_type": "stream",
          "name": "stdout",
          "text": [
            "Selecting previously unselected package libgflags2.2.\n",
            "(Reading database ... 155113 files and directories currently installed.)\n",
            "Preparing to unpack .../00-libgflags2.2_2.2.1-1_amd64.deb ...\n",
            "Unpacking libgflags2.2 (2.2.1-1) ...\n",
            "Selecting previously unselected package libgflags-dev.\n",
            "Preparing to unpack .../01-libgflags-dev_2.2.1-1_amd64.deb ...\n",
            "Unpacking libgflags-dev (2.2.1-1) ...\n",
            "Selecting previously unselected package libgoogle-glog0v5.\n",
            "Preparing to unpack .../02-libgoogle-glog0v5_0.3.5-1_amd64.deb ...\n",
            "Unpacking libgoogle-glog0v5 (0.3.5-1) ...\n",
            "Selecting previously unselected package libgoogle-glog-dev.\n",
            "Preparing to unpack .../03-libgoogle-glog-dev_0.3.5-1_amd64.deb ...\n",
            "Unpacking libgoogle-glog-dev (0.3.5-1) ...\n",
            "Selecting previously unselected package libhdf5-serial-dev.\n",
            "Preparing to unpack .../04-libhdf5-serial-dev_1.10.0-patch1+docs-4_all.deb ...\n",
            "Unpacking libhdf5-serial-dev (1.10.0-patch1+docs-4) ...\n",
            "Selecting previously unselected package libleveldb1v5:amd64.\n",
            "Preparing to unpack .../05-libleveldb1v5_1.20-2_amd64.deb ...\n",
            "Unpacking libleveldb1v5:amd64 (1.20-2) ...\n",
            "Selecting previously unselected package libleveldb-dev:amd64.\n",
            "Preparing to unpack .../06-libleveldb-dev_1.20-2_amd64.deb ...\n",
            "Unpacking libleveldb-dev:amd64 (1.20-2) ...\n",
            "Selecting previously unselected package liblmdb0:amd64.\n",
            "Preparing to unpack .../07-liblmdb0_0.9.21-1ubuntu0.1_amd64.deb ...\n",
            "Unpacking liblmdb0:amd64 (0.9.21-1ubuntu0.1) ...\n",
            "Selecting previously unselected package liblmdb-dev:amd64.\n",
            "Preparing to unpack .../08-liblmdb-dev_0.9.21-1ubuntu0.1_amd64.deb ...\n",
            "Unpacking liblmdb-dev:amd64 (0.9.21-1ubuntu0.1) ...\n",
            "Selecting previously unselected package libprotobuf-lite10:amd64.\n",
            "Preparing to unpack .../09-libprotobuf-lite10_3.0.0-9.1ubuntu1_amd64.deb ...\n",
            "Unpacking libprotobuf-lite10:amd64 (3.0.0-9.1ubuntu1) ...\n",
            "Selecting previously unselected package lmdb-doc.\n",
            "Preparing to unpack .../10-lmdb-doc_0.9.21-1ubuntu0.1_all.deb ...\n",
            "Unpacking lmdb-doc (0.9.21-1ubuntu0.1) ...\n",
            "Selecting previously unselected package libprotobuf-dev:amd64.\n",
            "Preparing to unpack .../11-libprotobuf-dev_3.0.0-9.1ubuntu1_amd64.deb ...\n",
            "Unpacking libprotobuf-dev:amd64 (3.0.0-9.1ubuntu1) ...\n",
            "Selecting previously unselected package libsnappy-dev:amd64.\n",
            "Preparing to unpack .../12-libsnappy-dev_1.1.7-1_amd64.deb ...\n",
            "Unpacking libsnappy-dev:amd64 (1.1.7-1) ...\n",
            "Selecting previously unselected package libviennacl-dev.\n",
            "Preparing to unpack .../13-libviennacl-dev_1.7.1+dfsg1-2ubuntu1_all.deb ...\n",
            "Unpacking libviennacl-dev (1.7.1+dfsg1-2ubuntu1) ...\n",
            "Selecting previously unselected package opencl-clhpp-headers.\n",
            "Preparing to unpack .../14-opencl-clhpp-headers_2.0.10+git12-g5dd8bb9-1_all.deb ...\n",
            "Unpacking opencl-clhpp-headers (2.0.10+git12-g5dd8bb9-1) ...\n",
            "Selecting previously unselected package opencl-headers.\n",
            "Preparing to unpack .../15-opencl-headers_2.2~2018.02.21-gb5c3680-1_all.deb ...\n",
            "Unpacking opencl-headers (2.2~2018.02.21-gb5c3680-1) ...\n",
            "Setting up libviennacl-dev (1.7.1+dfsg1-2ubuntu1) ...\n",
            "Setting up libgflags2.2 (2.2.1-1) ...\n",
            "Setting up libgflags-dev (2.2.1-1) ...\n",
            "Setting up liblmdb0:amd64 (0.9.21-1ubuntu0.1) ...\n",
            "Setting up opencl-clhpp-headers (2.0.10+git12-g5dd8bb9-1) ...\n",
            "Setting up libleveldb1v5:amd64 (1.20-2) ...\n",
            "Setting up libhdf5-serial-dev (1.10.0-patch1+docs-4) ...\n",
            "Setting up libsnappy-dev:amd64 (1.1.7-1) ...\n",
            "Setting up libgoogle-glog0v5 (0.3.5-1) ...\n",
            "Setting up liblmdb-dev:amd64 (0.9.21-1ubuntu0.1) ...\n",
            "Setting up lmdb-doc (0.9.21-1ubuntu0.1) ...\n",
            "Setting up libprotobuf-lite10:amd64 (3.0.0-9.1ubuntu1) ...\n",
            "Setting up opencl-headers (2.2~2018.02.21-gb5c3680-1) ...\n",
            "Setting up libprotobuf-dev:amd64 (3.0.0-9.1ubuntu1) ...\n",
            "Setting up libleveldb-dev:amd64 (1.20-2) ...\n",
            "Setting up libgoogle-glog-dev (0.3.5-1) ...\n",
            "Processing triggers for man-db (2.8.3-2ubuntu0.1) ...\n",
            "Processing triggers for libc-bin (2.27-3ubuntu1.3) ...\n",
            "/sbin/ldconfig.real: /usr/local/lib/python3.7/dist-packages/ideep4py/lib/libmkldnn.so.0 is not a symbolic link\n",
            "\n",
            "\u001b[K     |████████████████████████████████| 1.9 MB 5.4 MB/s \n",
            "\u001b[?25h-- The C compiler identification is GNU 7.5.0\n",
            "-- The CXX compiler identification is GNU 7.5.0\n",
            "-- Check for working C compiler: /usr/bin/cc\n",
            "-- Check for working C compiler: /usr/bin/cc -- works\n",
            "-- Detecting C compiler ABI info\n",
            "-- Detecting C compiler ABI info - done\n",
            "-- Detecting C compile features\n",
            "-- Detecting C compile features - done\n",
            "-- Check for working CXX compiler: /usr/bin/c++\n",
            "-- Check for working CXX compiler: /usr/bin/c++ -- works\n",
            "-- Detecting CXX compiler ABI info\n",
            "-- Detecting CXX compiler ABI info - done\n",
            "-- Detecting CXX compile features\n",
            "-- Detecting CXX compile features - done\n",
            "-- GCC detected, adding compile flags\n",
            "-- GCC detected, adding compile flags\n",
            "-- Looking for pthread.h\n",
            "-- Looking for pthread.h - found\n",
            "-- Looking for pthread_create\n",
            "-- Looking for pthread_create - not found\n",
            "-- Looking for pthread_create in pthreads\n",
            "-- Looking for pthread_create in pthreads - not found\n",
            "-- Looking for pthread_create in pthread\n",
            "-- Looking for pthread_create in pthread - found\n",
            "-- Found Threads: TRUE  \n",
            "-- Found CUDA: /usr/local/cuda (found version \"11.1\") \n",
            "-- Building with CUDA.\n",
            "-- CUDA detected: 11.1\n",
            "-- Found cuDNN: ver. 7.6.5 found (include: /usr/include, library: /usr/lib/x86_64-linux-gnu/libcudnn.so)\n",
            "-- Added CUDA NVCC flags for: sm_37\n",
            "-- Found cuDNN: ver. 7.6.5 found (include: /usr/include, library: /usr/lib/x86_64-linux-gnu/libcudnn.so)\n",
            "-- Found GFlags: /usr/include  \n",
            "-- Found gflags  (include: /usr/include, library: /usr/lib/x86_64-linux-gnu/libgflags.so)\n",
            "-- Found Glog: /usr/include  \n",
            "-- Found glog    (include: /usr/include, library: /usr/lib/x86_64-linux-gnu/libglog.so)\n",
            "-- Found Protobuf: /usr/lib/x86_64-linux-gnu/libprotobuf.so;-lpthread (found version \"3.0.0\") \n",
            "-- Found OpenCV: /usr (found version \"3.2.0\") \n",
            "-- Caffe will be downloaded from source now. NOTE: This process might take several minutes depending\n",
            "        on your internet connection.\n",
            "Submodule '3rdparty/caffe' (https://github.com/CMU-Perceptual-Computing-Lab/caffe.git) registered for path '../3rdparty/caffe'\n",
            "Cloning into '/content/openpose/3rdparty/caffe'...\n",
            "Submodule path '../3rdparty/caffe': checked out 'b5ede488952e40861e84e51a9f9fd8fe2395cc8a'\n",
            "Previous HEAD position was b5ede488 Added TX2 JetPack3.3 support\n",
            "HEAD is now at 1807aada Added Ampere arch's (CUDA11)\n",
            "-- Caffe will be built from source now.\n",
            "-- Download the models.\n",
            "-- Downloading BODY_25 model...\n",
            "-- NOTE: This process might take several minutes depending on your internet connection.\n",
            "-- Not downloading body (COCO) model\n",
            "-- Not downloading body (MPI) model\n",
            "-- Downloading face model...\n",
            "-- NOTE: This process might take several minutes depending on your internet connection.\n",
            "-- Downloading hand model...\n",
            "-- NOTE: This process might take several minutes depending on your internet connection.\n",
            "-- Models Downloaded.\n",
            "-- Configuring done\n",
            "-- Generating done\n",
            "-- Build files have been written to: /content/openpose/build\n",
            "\u001b[35m\u001b[1mScanning dependencies of target openpose_lib\u001b[0m\n",
            "[ 12%] \u001b[34m\u001b[1mCreating directories for 'openpose_lib'\u001b[0m\n",
            "[ 25%] \u001b[34m\u001b[1mNo download step for 'openpose_lib'\u001b[0m\n",
            "[ 37%] \u001b[34m\u001b[1mNo patch step for 'openpose_lib'\u001b[0m\n",
            "[ 50%] \u001b[34m\u001b[1mNo update step for 'openpose_lib'\u001b[0m\n",
            "[ 62%] \u001b[34m\u001b[1mPerforming configure step for 'openpose_lib'\u001b[0m\n",
            "-- The C compiler identification is GNU 7.5.0\n",
            "-- The CXX compiler identification is GNU 7.5.0\n",
            "-- Check for working C compiler: /usr/bin/cc\n",
            "-- Check for working C compiler: /usr/bin/cc -- works\n",
            "-- Detecting C compiler ABI info\n",
            "-- Detecting C compiler ABI info - done\n",
            "-- Detecting C compile features\n",
            "-- Detecting C compile features - done\n",
            "-- Check for working CXX compiler: /usr/bin/c++\n",
            "-- Check for working CXX compiler: /usr/bin/c++ -- works\n",
            "-- Detecting CXX compiler ABI info\n",
            "-- Detecting CXX compiler ABI info - done\n",
            "-- Detecting CXX compile features\n",
            "-- Detecting CXX compile features - done\n",
            "-- Looking for pthread.h\n",
            "-- Looking for pthread.h - found\n",
            "-- Looking for pthread_create\n",
            "-- Looking for pthread_create - not found\n",
            "-- Looking for pthread_create in pthreads\n",
            "-- Looking for pthread_create in pthreads - not found\n",
            "-- Looking for pthread_create in pthread\n",
            "-- Looking for pthread_create in pthread - found\n",
            "-- Found Threads: TRUE  \n",
            "-- Boost version: 1.65.1\n",
            "-- Found the following Boost libraries:\n",
            "--   system\n",
            "--   thread\n",
            "--   filesystem\n",
            "--   chrono\n",
            "--   date_time\n",
            "--   atomic\n",
            "-- Found GFlags: /usr/include  \n",
            "-- Found gflags  (include: /usr/include, library: /usr/lib/x86_64-linux-gnu/libgflags.so)\n",
            "-- Found Glog: /usr/include  \n",
            "-- Found glog    (include: /usr/include, library: /usr/lib/x86_64-linux-gnu/libglog.so)\n",
            "-- Found Protobuf: /usr/lib/x86_64-linux-gnu/libprotobuf.so;-lpthread (found version \"3.0.0\") \n",
            "-- Found PROTOBUF Compiler: /usr/bin/protoc\n",
            "-- HDF5: Using hdf5 compiler wrapper to determine C configuration\n",
            "-- HDF5: Using hdf5 compiler wrapper to determine CXX configuration\n",
            "-- Found HDF5: /usr/lib/x86_64-linux-gnu/hdf5/serial/libhdf5_cpp.so;/usr/lib/x86_64-linux-gnu/hdf5/serial/libhdf5.so;/usr/lib/x86_64-linux-gnu/libpthread.so;/usr/lib/x86_64-linux-gnu/libsz.so;/usr/lib/x86_64-linux-gnu/libz.so;/usr/lib/x86_64-linux-gnu/libdl.so;/usr/lib/x86_64-linux-gnu/libm.so (found version \"1.10.0.1\") found components:  HL \n",
            "-- CUDA detected: 11.1\n",
            "-- Found cuDNN: ver. 7.6.5 found (include: /usr/include, library: /usr/lib/x86_64-linux-gnu/libcudnn.so)\n",
            "-- Added CUDA NVCC flags for: sm_37\n",
            "-- Found Atlas: /usr/include/x86_64-linux-gnu  \n",
            "-- Found Atlas (include: /usr/include/x86_64-linux-gnu library: /usr/lib/x86_64-linux-gnu/libatlas.so lapack: /usr/lib/x86_64-linux-gnu/liblapack.so\n",
            "-- Python interface is disabled or not all required dependencies found. Building without it...\n",
            "-- Found Git: /usr/bin/git (found version \"2.17.1\") \n",
            "-- \n",
            "-- ******************* Caffe Configuration Summary *******************\n",
            "-- General:\n",
            "--   Version           :   1.0.0\n",
            "--   Git               :   1.0-149-g1807aada\n",
            "--   System            :   Linux\n",
            "--   C++ compiler      :   /usr/bin/c++\n",
            "--   Release CXX flags :   -O3 -DNDEBUG -fPIC -Wall -std=c++11 -Wno-sign-compare -Wno-uninitialized\n",
            "--   Debug CXX flags   :   -g -fPIC -Wall -std=c++11 -Wno-sign-compare -Wno-uninitialized\n",
            "--   Build type        :   Release\n",
            "-- \n",
            "--   BUILD_SHARED_LIBS :   ON\n",
            "--   BUILD_python      :   OFF\n",
            "--   BUILD_matlab      :   OFF\n",
            "--   BUILD_docs        :   OFF\n",
            "--   CPU_ONLY          :   OFF\n",
            "--   USE_OPENCV        :   OFF\n",
            "--   USE_LEVELDB       :   OFF\n",
            "--   USE_LMDB          :   OFF\n",
            "--   USE_NCCL          :   OFF\n",
            "--   ALLOW_LMDB_NOLOCK :   OFF\n",
            "--   USE_HDF5          :   ON\n",
            "-- \n",
            "-- Dependencies:\n",
            "--   BLAS              :   Yes (Atlas)\n",
            "--   Boost             :   Yes (ver. 1.65)\n",
            "--   glog              :   Yes\n",
            "--   gflags            :   Yes\n",
            "--   protobuf          :   Yes (ver. 3.0.0)\n",
            "--   CUDA              :   Yes (ver. 11.1)\n",
            "-- \n",
            "-- NVIDIA CUDA:\n",
            "--   Target GPU(s)     :   Auto\n",
            "--   GPU arch(s)       :   sm_37\n",
            "--   cuDNN             :   Yes (ver. 7.6.5)\n",
            "-- \n",
            "-- Install:\n",
            "--   Install path      :   /content/openpose/build/caffe\n",
            "-- \n",
            "-- Configuring done\n",
            "-- Generating done\n",
            "CMake Warning:\n",
            "  Manually-specified variables were not used by the project:\n",
            "\n",
            "    CUDA_ARCH_BIN\n",
            "\n",
            "\n",
            "-- Build files have been written to: /content/openpose/build/caffe/src/openpose_lib-build\n",
            "[ 75%] \u001b[34m\u001b[1mPerforming build step for 'openpose_lib'\u001b[0m\n",
            "[  1%] \u001b[34m\u001b[1mRunning C++/Python protocol buffer compiler on /content/openpose/3rdparty/caffe/src/caffe/proto/caffe.proto\u001b[0m\n",
            "\u001b[35m\u001b[1mScanning dependencies of target caffeproto\u001b[0m\n",
            "[  1%] \u001b[32mBuilding CXX object src/caffe/CMakeFiles/caffeproto.dir/__/__/include/caffe/proto/caffe.pb.cc.o\u001b[0m\n",
            "[  1%] \u001b[32m\u001b[1mLinking CXX static library ../../lib/libcaffeproto.a\u001b[0m\n",
            "[  1%] Built target caffeproto\n",
            "[  1%] \u001b[34m\u001b[1mBuilding NVCC (Device) object src/caffe/CMakeFiles/cuda_compile_1.dir/util/cuda_compile_1_generated_math_functions.cu.o\u001b[0m\n",
            "[  1%] \u001b[34m\u001b[1mBuilding NVCC (Device) object src/caffe/CMakeFiles/cuda_compile_1.dir/layers/cuda_compile_1_generated_absval_layer.cu.o\u001b[0m\n",
            "nvcc warning : The 'compute_35', 'compute_37', 'compute_50', 'sm_35', 'sm_37' and 'sm_50' architectures are deprecated, and may be removed in a future release (Use -Wno-deprecated-gpu-targets to suppress warning).\n",
            "nvcc warning : The 'compute_35', 'compute_37', 'compute_50', 'sm_35', 'sm_37' and 'sm_50' architectures are deprecated, and may be removed in a future release (Use -Wno-deprecated-gpu-targets to suppress warning).\n",
            "In file included from /content/openpose/3rdparty/caffe/src/caffe/util/math_functions.cu:1:0:\n",
            "/usr/local/cuda/include/math_functions.h:54:2: warning: #warning \"math_functions.h is an internal header file and must not be used directly.  This file will be removed in a future CUDA release.  Please use cuda_runtime_api.h or cuda_runtime.h instead.\" [-Wcpp]\n",
            " #warning \"math_functions.h is an internal header file and must not be used directly.  This file will be removed in a future CUDA release.  Please use cuda_runtime_api.h or cuda_runtime.h instead.\"\n",
            "  ^~~~~~~\n",
            "In file included from /usr/local/cuda/include/thrust/detail/config/config.h:27:0,\n",
            "                 from /usr/local/cuda/include/thrust/detail/config.h:23,\n",
            "                 from /usr/local/cuda/include/thrust/device_vector.h:24,\n",
            "                 from /content/openpose/3rdparty/caffe/src/caffe/util/math_functions.cu:2:\n",
            "/usr/local/cuda/include/thrust/detail/config/cpp_dialect.h:104:13: warning: Thrust requires C++14. Please pass -std=c++14 to your compiler. Define THRUST_IGNORE_DEPRECATED_CPP_DIALECT to suppress this message.\n",
            "   THRUST_COMPILER_DEPRECATION(C++14, pass -std=c++14 to your compiler);\n",
            "             ^~~~~~~~~~~~~~~~~~~~~~~~~~~~~~~~~~~~~~~~~~~~~~~~~~~~~~~~~~~                                                                            \n",
            "In file included from /usr/local/cuda/include/cub/util_arch.cuh:36:0,\n",
            "                 from /usr/local/cuda/include/thrust/system/cuda/detail/util.h:32,\n",
            "                 from /usr/local/cuda/include/thrust/system/cuda/detail/for_each.h:34,\n",
            "                 from /usr/local/cuda/include/thrust/system/detail/adl/for_each.h:42,\n",
            "                 from /usr/local/cuda/include/thrust/detail/for_each.inl:27,\n",
            "                 from /usr/local/cuda/include/thrust/for_each.h:279,\n",
            "                 from /usr/local/cuda/include/thrust/system/detail/generic/transform.inl:19,\n",
            "                 from /usr/local/cuda/include/thrust/system/detail/generic/transform.h:105,\n",
            "                 from /usr/local/cuda/include/thrust/detail/transform.inl:25,\n",
            "                 from /usr/local/cuda/include/thrust/transform.h:724,\n",
            "                 from /usr/local/cuda/include/thrust/system/detail/generic/copy.inl:23,\n",
            "                 from /usr/local/cuda/include/thrust/system/detail/generic/copy.h:58,\n",
            "                 from /usr/local/cuda/include/thrust/detail/copy.inl:21,\n",
            "                 from /usr/local/cuda/include/thrust/detail/copy.h:90,\n",
            "                 from /usr/local/cuda/include/thrust/detail/allocator/copy_construct_range.inl:21,\n",
            "                 from /usr/local/cuda/include/thrust/detail/allocator/copy_construct_range.h:46,\n",
            "                 from /usr/local/cuda/include/thrust/detail/contiguous_storage.inl:23,\n",
            "                 from /usr/local/cuda/include/thrust/detail/contiguous_storage.h:235,\n",
            "                 from /usr/local/cuda/include/thrust/detail/vector_base.h:30,\n",
            "                 from /usr/local/cuda/include/thrust/device_vector.h:25,\n",
            "                 from /content/openpose/3rdparty/caffe/src/caffe/util/math_functions.cu:2:\n",
            "/usr/local/cuda/include/cub/util_cpp_dialect.cuh:129:13: warning: CUB requires C++14. Please pass -std=c++14 to your compiler. Define CUB_IGNORE_DEPRECATED_CPP_DIALECT to suppress this message.\n",
            "   CUB_COMPILER_DEPRECATION(C++14, pass -std=c++14 to your compiler);\n",
            "             ^~~~~~~~~~~~~~~~~~~~~~~~~~~~~~~~~~~~~~~~~~~~~~~~~~~~~~~~                                                                         \n",
            "nvcc warning : The 'compute_35', 'compute_37', 'compute_50', 'sm_35', 'sm_37' and 'sm_50' architectures are deprecated, and may be removed in a future release (Use -Wno-deprecated-gpu-targets to suppress warning).\n",
            "In file included from /content/openpose/3rdparty/caffe/src/caffe/util/math_functions.cu:1:0:\n",
            "/usr/local/cuda/include/math_functions.h:54:2: warning: #warning \"math_functions.h is an internal header file and must not be used directly.  This file will be removed in a future CUDA release.  Please use cuda_runtime_api.h or cuda_runtime.h instead.\" [-Wcpp]\n",
            " #warning \"math_functions.h is an internal header file and must not be used directly.  This file will be removed in a future CUDA release.  Please use cuda_runtime_api.h or cuda_runtime.h instead.\"\n",
            "  ^~~~~~~\n",
            "In file included from /usr/local/cuda/include/thrust/detail/config/config.h:27:0,\n",
            "                 from /usr/local/cuda/include/thrust/detail/config.h:23,\n",
            "                 from /usr/local/cuda/include/thrust/device_vector.h:24,\n",
            "                 from /content/openpose/3rdparty/caffe/src/caffe/util/math_functions.cu:2:\n",
            "/usr/local/cuda/include/thrust/detail/config/cpp_dialect.h:104:13: warning: Thrust requires C++14. Please pass -std=c++14 to your compiler. Define THRUST_IGNORE_DEPRECATED_CPP_DIALECT to suppress this message.\n",
            "   THRUST_COMPILER_DEPRECATION(C++14, pass -std=c++14 to your compiler);\n",
            "             ^~~~~~~~~~~~~~~~~~~~~~~~~~~~~~~~~~~~~~~~~~~~~~~~~~~~~~~~~~~                                                                            \n",
            "In file included from /usr/local/cuda/include/cub/util_arch.cuh:36:0,\n",
            "                 from /usr/local/cuda/include/thrust/system/cuda/detail/util.h:32,\n",
            "                 from /usr/local/cuda/include/thrust/system/cuda/detail/for_each.h:34,\n",
            "                 from /usr/local/cuda/include/thrust/system/detail/adl/for_each.h:42,\n",
            "                 from /usr/local/cuda/include/thrust/detail/for_each.inl:27,\n",
            "                 from /usr/local/cuda/include/thrust/for_each.h:279,\n",
            "                 from /usr/local/cuda/include/thrust/system/detail/generic/transform.inl:19,\n",
            "                 from /usr/local/cuda/include/thrust/system/detail/generic/transform.h:105,\n",
            "                 from /usr/local/cuda/include/thrust/detail/transform.inl:25,\n",
            "                 from /usr/local/cuda/include/thrust/transform.h:724,\n",
            "                 from /usr/local/cuda/include/thrust/system/detail/generic/copy.inl:23,\n",
            "                 from /usr/local/cuda/include/thrust/system/detail/generic/copy.h:58,\n",
            "                 from /usr/local/cuda/include/thrust/detail/copy.inl:21,\n",
            "                 from /usr/local/cuda/include/thrust/detail/copy.h:90,\n",
            "                 from /usr/local/cuda/include/thrust/detail/allocator/copy_construct_range.inl:21,\n",
            "                 from /usr/local/cuda/include/thrust/detail/allocator/copy_construct_range.h:46,\n",
            "                 from /usr/local/cuda/include/thrust/detail/contiguous_storage.inl:23,\n",
            "                 from /usr/local/cuda/include/thrust/detail/contiguous_storage.h:235,\n",
            "                 from /usr/local/cuda/include/thrust/detail/vector_base.h:30,\n",
            "                 from /usr/local/cuda/include/thrust/device_vector.h:25,\n",
            "                 from /content/openpose/3rdparty/caffe/src/caffe/util/math_functions.cu:2:\n",
            "/usr/local/cuda/include/cub/util_cpp_dialect.cuh:129:13: warning: CUB requires C++14. Please pass -std=c++14 to your compiler. Define CUB_IGNORE_DEPRECATED_CPP_DIALECT to suppress this message.\n",
            "   CUB_COMPILER_DEPRECATION(C++14, pass -std=c++14 to your compiler);\n",
            "             ^~~~~~~~~~~~~~~~~~~~~~~~~~~~~~~~~~~~~~~~~~~~~~~~~~~~~~~~                                                                         \n",
            "nvcc warning : The 'compute_35', 'compute_37', 'compute_50', 'sm_35', 'sm_37' and 'sm_50' architectures are deprecated, and may be removed in a future release (Use -Wno-deprecated-gpu-targets to suppress warning).\n",
            "In file included from /content/openpose/3rdparty/caffe/src/caffe/util/math_functions.cu:1:0:\n",
            "/usr/local/cuda/include/math_functions.h:54:2: warning: #warning \"math_functions.h is an internal header file and must not be used directly.  This file will be removed in a future CUDA release.  Please use cuda_runtime_api.h or cuda_runtime.h instead.\" [-Wcpp]\n",
            " #warning \"math_functions.h is an internal header file and must not be used directly.  This file will be removed in a future CUDA release.  Please use cuda_runtime_api.h or cuda_runtime.h instead.\"\n",
            "  ^~~~~~~\n",
            "In file included from /usr/local/cuda/include/thrust/detail/config/config.h:27:0,\n",
            "                 from /usr/local/cuda/include/thrust/detail/config.h:23,\n",
            "                 from /usr/local/cuda/include/thrust/device_vector.h:24,\n",
            "                 from /content/openpose/3rdparty/caffe/src/caffe/util/math_functions.cu:2:\n",
            "/usr/local/cuda/include/thrust/detail/config/cpp_dialect.h:104:13: warning: Thrust requires C++14. Please pass -std=c++14 to your compiler. Define THRUST_IGNORE_DEPRECATED_CPP_DIALECT to suppress this message.\n",
            "   THRUST_COMPILER_DEPRECATION(C++14, pass -std=c++14 to your compiler);\n",
            "             ^~~~~~~~~~~~~~~~~~~~~~~~~~~~~~~~~~~~~~~~~~~~~~~~~~~~~~~~~~~                                                                            \n",
            "In file included from /usr/local/cuda/include/cub/util_arch.cuh:36:0,\n",
            "                 from /usr/local/cuda/include/thrust/system/cuda/detail/util.h:32,\n",
            "                 from /usr/local/cuda/include/thrust/system/cuda/detail/for_each.h:34,\n",
            "                 from /usr/local/cuda/include/thrust/system/detail/adl/for_each.h:42,\n",
            "                 from /usr/local/cuda/include/thrust/detail/for_each.inl:27,\n",
            "                 from /usr/local/cuda/include/thrust/for_each.h:279,\n",
            "                 from /usr/local/cuda/include/thrust/system/detail/generic/transform.inl:19,\n",
            "                 from /usr/local/cuda/include/thrust/system/detail/generic/transform.h:105,\n",
            "                 from /usr/local/cuda/include/thrust/detail/transform.inl:25,\n",
            "                 from /usr/local/cuda/include/thrust/transform.h:724,\n",
            "                 from /usr/local/cuda/include/thrust/system/detail/generic/copy.inl:23,\n",
            "                 from /usr/local/cuda/include/thrust/system/detail/generic/copy.h:58,\n",
            "                 from /usr/local/cuda/include/thrust/detail/copy.inl:21,\n",
            "                 from /usr/local/cuda/include/thrust/detail/copy.h:90,\n",
            "                 from /usr/local/cuda/include/thrust/detail/allocator/copy_construct_range.inl:21,\n",
            "                 from /usr/local/cuda/include/thrust/detail/allocator/copy_construct_range.h:46,\n",
            "                 from /usr/local/cuda/include/thrust/detail/contiguous_storage.inl:23,\n",
            "                 from /usr/local/cuda/include/thrust/detail/contiguous_storage.h:235,\n",
            "                 from /usr/local/cuda/include/thrust/detail/vector_base.h:30,\n",
            "                 from /usr/local/cuda/include/thrust/device_vector.h:25,\n",
            "                 from /content/openpose/3rdparty/caffe/src/caffe/util/math_functions.cu:2:\n",
            "/usr/local/cuda/include/cub/util_cpp_dialect.cuh:129:13: warning: CUB requires C++14. Please pass -std=c++14 to your compiler. Define CUB_IGNORE_DEPRECATED_CPP_DIALECT to suppress this message.\n",
            "   CUB_COMPILER_DEPRECATION(C++14, pass -std=c++14 to your compiler);\n",
            "             ^~~~~~~~~~~~~~~~~~~~~~~~~~~~~~~~~~~~~~~~~~~~~~~~~~~~~~~~                                                                         \n",
            "In file included from /content/openpose/3rdparty/caffe/src/caffe/util/math_functions.cu:1:0:\n",
            "/usr/local/cuda/include/math_functions.h:54:2: warning: #warning \"math_functions.h is an internal header file and must not be used directly.  This file will be removed in a future CUDA release.  Please use cuda_runtime_api.h or cuda_runtime.h instead.\" [-Wcpp]\n",
            " #warning \"math_functions.h is an internal header file and must not be used directly.  This file will be removed in a future CUDA release.  Please use cuda_runtime_api.h or cuda_runtime.h instead.\"\n",
            "  ^~~~~~~\n",
            "In file included from /usr/local/cuda/include/thrust/detail/config/config.h:27:0,\n",
            "                 from /usr/local/cuda/include/thrust/detail/config.h:23,\n",
            "                 from /usr/local/cuda/include/thrust/device_vector.h:24,\n",
            "                 from /content/openpose/3rdparty/caffe/src/caffe/util/math_functions.cu:2:\n",
            "/usr/local/cuda/include/thrust/detail/config/cpp_dialect.h:104:13: warning: Thrust requires C++14. Please pass -std=c++14 to your compiler. Define THRUST_IGNORE_DEPRECATED_CPP_DIALECT to suppress this message.\n",
            "   THRUST_COMPILER_DEPRECATION(C++14, pass -std=c++14 to your compiler);\n",
            "             ^~~~~~~~~~~~~~~~~~~~~~~~~~~~~~~~~~~~~~~~~~~~~~~~~~~~~~~~~~~                                                                            \n",
            "In file included from /usr/local/cuda/include/cub/util_arch.cuh:36:0,\n",
            "                 from /usr/local/cuda/include/thrust/system/cuda/detail/util.h:32,\n",
            "                 from /usr/local/cuda/include/thrust/system/cuda/detail/for_each.h:34,\n",
            "                 from /usr/local/cuda/include/thrust/system/detail/adl/for_each.h:42,\n",
            "                 from /usr/local/cuda/include/thrust/detail/for_each.inl:27,\n",
            "                 from /usr/local/cuda/include/thrust/for_each.h:279,\n",
            "                 from /usr/local/cuda/include/thrust/system/detail/generic/transform.inl:19,\n",
            "                 from /usr/local/cuda/include/thrust/system/detail/generic/transform.h:105,\n",
            "                 from /usr/local/cuda/include/thrust/detail/transform.inl:25,\n",
            "                 from /usr/local/cuda/include/thrust/transform.h:724,\n",
            "                 from /usr/local/cuda/include/thrust/system/detail/generic/copy.inl:23,\n",
            "                 from /usr/local/cuda/include/thrust/system/detail/generic/copy.h:58,\n",
            "                 from /usr/local/cuda/include/thrust/detail/copy.inl:21,\n",
            "                 from /usr/local/cuda/include/thrust/detail/copy.h:90,\n",
            "                 from /usr/local/cuda/include/thrust/detail/allocator/copy_construct_range.inl:21,\n",
            "                 from /usr/local/cuda/include/thrust/detail/allocator/copy_construct_range.h:46,\n",
            "                 from /usr/local/cuda/include/thrust/detail/contiguous_storage.inl:23,\n",
            "                 from /usr/local/cuda/include/thrust/detail/contiguous_storage.h:235,\n",
            "                 from /usr/local/cuda/include/thrust/detail/vector_base.h:30,\n",
            "                 from /usr/local/cuda/include/thrust/device_vector.h:25,\n",
            "                 from /content/openpose/3rdparty/caffe/src/caffe/util/math_functions.cu:2:\n",
            "/usr/local/cuda/include/cub/util_cpp_dialect.cuh:129:13: warning: CUB requires C++14. Please pass -std=c++14 to your compiler. Define CUB_IGNORE_DEPRECATED_CPP_DIALECT to suppress this message.\n",
            "   CUB_COMPILER_DEPRECATION(C++14, pass -std=c++14 to your compiler);\n",
            "             ^~~~~~~~~~~~~~~~~~~~~~~~~~~~~~~~~~~~~~~~~~~~~~~~~~~~~~~~                                                                         \n",
            "[  1%] \u001b[34m\u001b[1mBuilding NVCC (Device) object src/caffe/CMakeFiles/cuda_compile_1.dir/layers/cuda_compile_1_generated_accuracy_layer.cu.o\u001b[0m\n",
            "nvcc warning : The 'compute_35', 'compute_37', 'compute_50', 'sm_35', 'sm_37' and 'sm_50' architectures are deprecated, and may be removed in a future release (Use -Wno-deprecated-gpu-targets to suppress warning).\n",
            "nvcc warning : The 'compute_35', 'compute_37', 'compute_50', 'sm_35', 'sm_37' and 'sm_50' architectures are deprecated, and may be removed in a future release (Use -Wno-deprecated-gpu-targets to suppress warning).\n",
            "[  2%] \u001b[34m\u001b[1mBuilding NVCC (Device) object src/caffe/CMakeFiles/cuda_compile_1.dir/layers/cuda_compile_1_generated_base_data_layer.cu.o\u001b[0m\n",
            "nvcc warning : The 'compute_35', 'compute_37', 'compute_50', 'sm_35', 'sm_37' and 'sm_50' architectures are deprecated, and may be removed in a future release (Use -Wno-deprecated-gpu-targets to suppress warning).\n",
            "nvcc warning : The 'compute_35', 'compute_37', 'compute_50', 'sm_35', 'sm_37' and 'sm_50' architectures are deprecated, and may be removed in a future release (Use -Wno-deprecated-gpu-targets to suppress warning).\n",
            "[  2%] \u001b[34m\u001b[1mBuilding NVCC (Device) object src/caffe/CMakeFiles/cuda_compile_1.dir/layers/cuda_compile_1_generated_batch_norm_layer.cu.o\u001b[0m\n",
            "nvcc warning : The 'compute_35', 'compute_37', 'compute_50', 'sm_35', 'sm_37' and 'sm_50' architectures are deprecated, and may be removed in a future release (Use -Wno-deprecated-gpu-targets to suppress warning).\n",
            "nvcc warning : The 'compute_35', 'compute_37', 'compute_50', 'sm_35', 'sm_37' and 'sm_50' architectures are deprecated, and may be removed in a future release (Use -Wno-deprecated-gpu-targets to suppress warning).\n",
            "[  2%] \u001b[34m\u001b[1mBuilding NVCC (Device) object src/caffe/CMakeFiles/cuda_compile_1.dir/layers/cuda_compile_1_generated_batch_reindex_layer.cu.o\u001b[0m\n",
            "nvcc warning : The 'compute_35', 'compute_37', 'compute_50', 'sm_35', 'sm_37' and 'sm_50' architectures are deprecated, and may be removed in a future release (Use -Wno-deprecated-gpu-targets to suppress warning).\n",
            "nvcc warning : The 'compute_35', 'compute_37', 'compute_50', 'sm_35', 'sm_37' and 'sm_50' architectures are deprecated, and may be removed in a future release (Use -Wno-deprecated-gpu-targets to suppress warning).\n",
            "[  4%] \u001b[34m\u001b[1mBuilding NVCC (Device) object src/caffe/CMakeFiles/cuda_compile_1.dir/layers/cuda_compile_1_generated_bias_layer.cu.o\u001b[0m\n",
            "nvcc warning : The 'compute_35', 'compute_37', 'compute_50', 'sm_35', 'sm_37' and 'sm_50' architectures are deprecated, and may be removed in a future release (Use -Wno-deprecated-gpu-targets to suppress warning).\n",
            "nvcc warning : The 'compute_35', 'compute_37', 'compute_50', 'sm_35', 'sm_37' and 'sm_50' architectures are deprecated, and may be removed in a future release (Use -Wno-deprecated-gpu-targets to suppress warning).\n",
            "[  4%] \u001b[34m\u001b[1mBuilding NVCC (Device) object src/caffe/CMakeFiles/cuda_compile_1.dir/layers/cuda_compile_1_generated_bnll_layer.cu.o\u001b[0m\n",
            "nvcc warning : The 'compute_35', 'compute_37', 'compute_50', 'sm_35', 'sm_37' and 'sm_50' architectures are deprecated, and may be removed in a future release (Use -Wno-deprecated-gpu-targets to suppress warning).\n",
            "nvcc warning : The 'compute_35', 'compute_37', 'compute_50', 'sm_35', 'sm_37' and 'sm_50' architectures are deprecated, and may be removed in a future release (Use -Wno-deprecated-gpu-targets to suppress warning).\n",
            "[  5%] \u001b[34m\u001b[1mBuilding NVCC (Device) object src/caffe/CMakeFiles/cuda_compile_1.dir/layers/cuda_compile_1_generated_clip_layer.cu.o\u001b[0m\n",
            "nvcc warning : The 'compute_35', 'compute_37', 'compute_50', 'sm_35', 'sm_37' and 'sm_50' architectures are deprecated, and may be removed in a future release (Use -Wno-deprecated-gpu-targets to suppress warning).\n",
            "nvcc warning : The 'compute_35', 'compute_37', 'compute_50', 'sm_35', 'sm_37' and 'sm_50' architectures are deprecated, and may be removed in a future release (Use -Wno-deprecated-gpu-targets to suppress warning).\n",
            "[  5%] \u001b[34m\u001b[1mBuilding NVCC (Device) object src/caffe/CMakeFiles/cuda_compile_1.dir/layers/cuda_compile_1_generated_concat_layer.cu.o\u001b[0m\n",
            "nvcc warning : The 'compute_35', 'compute_37', 'compute_50', 'sm_35', 'sm_37' and 'sm_50' architectures are deprecated, and may be removed in a future release (Use -Wno-deprecated-gpu-targets to suppress warning).\n",
            "nvcc warning : The 'compute_35', 'compute_37', 'compute_50', 'sm_35', 'sm_37' and 'sm_50' architectures are deprecated, and may be removed in a future release (Use -Wno-deprecated-gpu-targets to suppress warning).\n",
            "[  5%] \u001b[34m\u001b[1mBuilding NVCC (Device) object src/caffe/CMakeFiles/cuda_compile_1.dir/layers/cuda_compile_1_generated_contrastive_loss_layer.cu.o\u001b[0m\n",
            "nvcc warning : The 'compute_35', 'compute_37', 'compute_50', 'sm_35', 'sm_37' and 'sm_50' architectures are deprecated, and may be removed in a future release (Use -Wno-deprecated-gpu-targets to suppress warning).\n",
            "nvcc warning : The 'compute_35', 'compute_37', 'compute_50', 'sm_35', 'sm_37' and 'sm_50' architectures are deprecated, and may be removed in a future release (Use -Wno-deprecated-gpu-targets to suppress warning).\n",
            "[  6%] \u001b[34m\u001b[1mBuilding NVCC (Device) object src/caffe/CMakeFiles/cuda_compile_1.dir/layers/cuda_compile_1_generated_conv_layer.cu.o\u001b[0m\n",
            "nvcc warning : The 'compute_35', 'compute_37', 'compute_50', 'sm_35', 'sm_37' and 'sm_50' architectures are deprecated, and may be removed in a future release (Use -Wno-deprecated-gpu-targets to suppress warning).\n",
            "nvcc warning : The 'compute_35', 'compute_37', 'compute_50', 'sm_35', 'sm_37' and 'sm_50' architectures are deprecated, and may be removed in a future release (Use -Wno-deprecated-gpu-targets to suppress warning).\n",
            "[  6%] \u001b[34m\u001b[1mBuilding NVCC (Device) object src/caffe/CMakeFiles/cuda_compile_1.dir/layers/cuda_compile_1_generated_crop_layer.cu.o\u001b[0m\n",
            "nvcc warning : The 'compute_35', 'compute_37', 'compute_50', 'sm_35', 'sm_37' and 'sm_50' architectures are deprecated, and may be removed in a future release (Use -Wno-deprecated-gpu-targets to suppress warning).\n",
            "nvcc warning : The 'compute_35', 'compute_37', 'compute_50', 'sm_35', 'sm_37' and 'sm_50' architectures are deprecated, and may be removed in a future release (Use -Wno-deprecated-gpu-targets to suppress warning).\n",
            "[  6%] \u001b[34m\u001b[1mBuilding NVCC (Device) object src/caffe/CMakeFiles/cuda_compile_1.dir/layers/cuda_compile_1_generated_cudnn_conv_layer.cu.o\u001b[0m\n",
            "nvcc warning : The 'compute_35', 'compute_37', 'compute_50', 'sm_35', 'sm_37' and 'sm_50' architectures are deprecated, and may be removed in a future release (Use -Wno-deprecated-gpu-targets to suppress warning).\n",
            "nvcc warning : The 'compute_35', 'compute_37', 'compute_50', 'sm_35', 'sm_37' and 'sm_50' architectures are deprecated, and may be removed in a future release (Use -Wno-deprecated-gpu-targets to suppress warning).\n",
            "[  8%] \u001b[34m\u001b[1mBuilding NVCC (Device) object src/caffe/CMakeFiles/cuda_compile_1.dir/layers/cuda_compile_1_generated_cudnn_deconv_layer.cu.o\u001b[0m\n",
            "nvcc warning : The 'compute_35', 'compute_37', 'compute_50', 'sm_35', 'sm_37' and 'sm_50' architectures are deprecated, and may be removed in a future release (Use -Wno-deprecated-gpu-targets to suppress warning).\n",
            "nvcc warning : The 'compute_35', 'compute_37', 'compute_50', 'sm_35', 'sm_37' and 'sm_50' architectures are deprecated, and may be removed in a future release (Use -Wno-deprecated-gpu-targets to suppress warning).\n",
            "[  8%] \u001b[34m\u001b[1mBuilding NVCC (Device) object src/caffe/CMakeFiles/cuda_compile_1.dir/layers/cuda_compile_1_generated_cudnn_lcn_layer.cu.o\u001b[0m\n",
            "nvcc warning : The 'compute_35', 'compute_37', 'compute_50', 'sm_35', 'sm_37' and 'sm_50' architectures are deprecated, and may be removed in a future release (Use -Wno-deprecated-gpu-targets to suppress warning).\n",
            "nvcc warning : The 'compute_35', 'compute_37', 'compute_50', 'sm_35', 'sm_37' and 'sm_50' architectures are deprecated, and may be removed in a future release (Use -Wno-deprecated-gpu-targets to suppress warning).\n",
            "[  9%] \u001b[34m\u001b[1mBuilding NVCC (Device) object src/caffe/CMakeFiles/cuda_compile_1.dir/layers/cuda_compile_1_generated_cudnn_lrn_layer.cu.o\u001b[0m\n",
            "nvcc warning : The 'compute_35', 'compute_37', 'compute_50', 'sm_35', 'sm_37' and 'sm_50' architectures are deprecated, and may be removed in a future release (Use -Wno-deprecated-gpu-targets to suppress warning).\n",
            "nvcc warning : The 'compute_35', 'compute_37', 'compute_50', 'sm_35', 'sm_37' and 'sm_50' architectures are deprecated, and may be removed in a future release (Use -Wno-deprecated-gpu-targets to suppress warning).\n",
            "[  9%] \u001b[34m\u001b[1mBuilding NVCC (Device) object src/caffe/CMakeFiles/cuda_compile_1.dir/layers/cuda_compile_1_generated_cudnn_pooling_layer.cu.o\u001b[0m\n",
            "nvcc warning : The 'compute_35', 'compute_37', 'compute_50', 'sm_35', 'sm_37' and 'sm_50' architectures are deprecated, and may be removed in a future release (Use -Wno-deprecated-gpu-targets to suppress warning).\n",
            "nvcc warning : The 'compute_35', 'compute_37', 'compute_50', 'sm_35', 'sm_37' and 'sm_50' architectures are deprecated, and may be removed in a future release (Use -Wno-deprecated-gpu-targets to suppress warning).\n",
            "[  9%] \u001b[34m\u001b[1mBuilding NVCC (Device) object src/caffe/CMakeFiles/cuda_compile_1.dir/layers/cuda_compile_1_generated_cudnn_relu_layer.cu.o\u001b[0m\n",
            "nvcc warning : The 'compute_35', 'compute_37', 'compute_50', 'sm_35', 'sm_37' and 'sm_50' architectures are deprecated, and may be removed in a future release (Use -Wno-deprecated-gpu-targets to suppress warning).\n",
            "nvcc warning : The 'compute_35', 'compute_37', 'compute_50', 'sm_35', 'sm_37' and 'sm_50' architectures are deprecated, and may be removed in a future release (Use -Wno-deprecated-gpu-targets to suppress warning).\n",
            "[ 10%] \u001b[34m\u001b[1mBuilding NVCC (Device) object src/caffe/CMakeFiles/cuda_compile_1.dir/layers/cuda_compile_1_generated_cudnn_sigmoid_layer.cu.o\u001b[0m\n",
            "nvcc warning : The 'compute_35', 'compute_37', 'compute_50', 'sm_35', 'sm_37' and 'sm_50' architectures are deprecated, and may be removed in a future release (Use -Wno-deprecated-gpu-targets to suppress warning).\n",
            "nvcc warning : The 'compute_35', 'compute_37', 'compute_50', 'sm_35', 'sm_37' and 'sm_50' architectures are deprecated, and may be removed in a future release (Use -Wno-deprecated-gpu-targets to suppress warning).\n",
            "[ 10%] \u001b[34m\u001b[1mBuilding NVCC (Device) object src/caffe/CMakeFiles/cuda_compile_1.dir/layers/cuda_compile_1_generated_cudnn_softmax_layer.cu.o\u001b[0m\n",
            "nvcc warning : The 'compute_35', 'compute_37', 'compute_50', 'sm_35', 'sm_37' and 'sm_50' architectures are deprecated, and may be removed in a future release (Use -Wno-deprecated-gpu-targets to suppress warning).\n",
            "In file included from /usr/local/cuda/include/thrust/detail/config/config.h:27:0,\n",
            "                 from /usr/local/cuda/include/thrust/detail/config.h:23,\n",
            "                 from /usr/local/cuda/include/thrust/device_vector.h:24,\n",
            "                 from /content/openpose/3rdparty/caffe/src/caffe/layers/cudnn_softmax_layer.cu:4:\n",
            "/usr/local/cuda/include/thrust/detail/config/cpp_dialect.h:104:13: warning: Thrust requires C++14. Please pass -std=c++14 to your compiler. Define THRUST_IGNORE_DEPRECATED_CPP_DIALECT to suppress this message.\n",
            "   THRUST_COMPILER_DEPRECATION(C++14, pass -std=c++14 to your compiler);\n",
            "             ^~~~~~~~~~~~~~~~~~~~~~~~~~~~~~~~~~~~~~~~~~~~~~~~~~~~~~~~~~~                                                                            \n",
            "In file included from /usr/local/cuda/include/cub/util_arch.cuh:36:0,\n",
            "                 from /usr/local/cuda/include/thrust/system/cuda/detail/util.h:32,\n",
            "                 from /usr/local/cuda/include/thrust/system/cuda/detail/for_each.h:34,\n",
            "                 from /usr/local/cuda/include/thrust/system/detail/adl/for_each.h:42,\n",
            "                 from /usr/local/cuda/include/thrust/detail/for_each.inl:27,\n",
            "                 from /usr/local/cuda/include/thrust/for_each.h:279,\n",
            "                 from /usr/local/cuda/include/thrust/system/detail/generic/transform.inl:19,\n",
            "                 from /usr/local/cuda/include/thrust/system/detail/generic/transform.h:105,\n",
            "                 from /usr/local/cuda/include/thrust/detail/transform.inl:25,\n",
            "                 from /usr/local/cuda/include/thrust/transform.h:724,\n",
            "                 from /usr/local/cuda/include/thrust/system/detail/generic/copy.inl:23,\n",
            "                 from /usr/local/cuda/include/thrust/system/detail/generic/copy.h:58,\n",
            "                 from /usr/local/cuda/include/thrust/detail/copy.inl:21,\n",
            "                 from /usr/local/cuda/include/thrust/detail/copy.h:90,\n",
            "                 from /usr/local/cuda/include/thrust/detail/allocator/copy_construct_range.inl:21,\n",
            "                 from /usr/local/cuda/include/thrust/detail/allocator/copy_construct_range.h:46,\n",
            "                 from /usr/local/cuda/include/thrust/detail/contiguous_storage.inl:23,\n",
            "                 from /usr/local/cuda/include/thrust/detail/contiguous_storage.h:235,\n",
            "                 from /usr/local/cuda/include/thrust/detail/vector_base.h:30,\n",
            "                 from /usr/local/cuda/include/thrust/device_vector.h:25,\n",
            "                 from /content/openpose/3rdparty/caffe/src/caffe/layers/cudnn_softmax_layer.cu:4:\n",
            "/usr/local/cuda/include/cub/util_cpp_dialect.cuh:129:13: warning: CUB requires C++14. Please pass -std=c++14 to your compiler. Define CUB_IGNORE_DEPRECATED_CPP_DIALECT to suppress this message.\n",
            "   CUB_COMPILER_DEPRECATION(C++14, pass -std=c++14 to your compiler);\n",
            "             ^~~~~~~~~~~~~~~~~~~~~~~~~~~~~~~~~~~~~~~~~~~~~~~~~~~~~~~~                                                                         \n",
            "In file included from /usr/local/cuda/include/thrust/detail/config/config.h:27:0,\n",
            "                 from /usr/local/cuda/include/thrust/detail/config.h:23,\n",
            "                 from /usr/local/cuda/include/thrust/device_vector.h:24,\n",
            "                 from /content/openpose/3rdparty/caffe/src/caffe/layers/cudnn_softmax_layer.cu:4:\n",
            "/usr/local/cuda/include/thrust/detail/config/cpp_dialect.h:104:13: warning: Thrust requires C++14. Please pass -std=c++14 to your compiler. Define THRUST_IGNORE_DEPRECATED_CPP_DIALECT to suppress this message.\n",
            "   THRUST_COMPILER_DEPRECATION(C++14, pass -std=c++14 to your compiler);\n",
            "             ^~~~~~~~~~~~~~~~~~~~~~~~~~~~~~~~~~~~~~~~~~~~~~~~~~~~~~~~~~~                                                                            \n",
            "In file included from /usr/local/cuda/include/cub/util_arch.cuh:36:0,\n",
            "                 from /usr/local/cuda/include/thrust/system/cuda/detail/util.h:32,\n",
            "                 from /usr/local/cuda/include/thrust/system/cuda/detail/for_each.h:34,\n",
            "                 from /usr/local/cuda/include/thrust/system/detail/adl/for_each.h:42,\n",
            "                 from /usr/local/cuda/include/thrust/detail/for_each.inl:27,\n",
            "                 from /usr/local/cuda/include/thrust/for_each.h:279,\n",
            "                 from /usr/local/cuda/include/thrust/system/detail/generic/transform.inl:19,\n",
            "                 from /usr/local/cuda/include/thrust/system/detail/generic/transform.h:105,\n",
            "                 from /usr/local/cuda/include/thrust/detail/transform.inl:25,\n",
            "                 from /usr/local/cuda/include/thrust/transform.h:724,\n",
            "                 from /usr/local/cuda/include/thrust/system/detail/generic/copy.inl:23,\n",
            "                 from /usr/local/cuda/include/thrust/system/detail/generic/copy.h:58,\n",
            "                 from /usr/local/cuda/include/thrust/detail/copy.inl:21,\n",
            "                 from /usr/local/cuda/include/thrust/detail/copy.h:90,\n",
            "                 from /usr/local/cuda/include/thrust/detail/allocator/copy_construct_range.inl:21,\n",
            "                 from /usr/local/cuda/include/thrust/detail/allocator/copy_construct_range.h:46,\n",
            "                 from /usr/local/cuda/include/thrust/detail/contiguous_storage.inl:23,\n",
            "                 from /usr/local/cuda/include/thrust/detail/contiguous_storage.h:235,\n",
            "                 from /usr/local/cuda/include/thrust/detail/vector_base.h:30,\n",
            "                 from /usr/local/cuda/include/thrust/device_vector.h:25,\n",
            "                 from /content/openpose/3rdparty/caffe/src/caffe/layers/cudnn_softmax_layer.cu:4:\n",
            "/usr/local/cuda/include/cub/util_cpp_dialect.cuh:129:13: warning: CUB requires C++14. Please pass -std=c++14 to your compiler. Define CUB_IGNORE_DEPRECATED_CPP_DIALECT to suppress this message.\n",
            "   CUB_COMPILER_DEPRECATION(C++14, pass -std=c++14 to your compiler);\n",
            "             ^~~~~~~~~~~~~~~~~~~~~~~~~~~~~~~~~~~~~~~~~~~~~~~~~~~~~~~~                                                                         \n",
            "nvcc warning : The 'compute_35', 'compute_37', 'compute_50', 'sm_35', 'sm_37' and 'sm_50' architectures are deprecated, and may be removed in a future release (Use -Wno-deprecated-gpu-targets to suppress warning).\n",
            "In file included from /usr/local/cuda/include/thrust/detail/config/config.h:27:0,\n",
            "                 from /usr/local/cuda/include/thrust/detail/config.h:23,\n",
            "                 from /usr/local/cuda/include/thrust/device_vector.h:24,\n",
            "                 from /content/openpose/3rdparty/caffe/src/caffe/layers/cudnn_softmax_layer.cu:4:\n",
            "/usr/local/cuda/include/thrust/detail/config/cpp_dialect.h:104:13: warning: Thrust requires C++14. Please pass -std=c++14 to your compiler. Define THRUST_IGNORE_DEPRECATED_CPP_DIALECT to suppress this message.\n",
            "   THRUST_COMPILER_DEPRECATION(C++14, pass -std=c++14 to your compiler);\n",
            "             ^~~~~~~~~~~~~~~~~~~~~~~~~~~~~~~~~~~~~~~~~~~~~~~~~~~~~~~~~~~                                                                            \n",
            "In file included from /usr/local/cuda/include/cub/util_arch.cuh:36:0,\n",
            "                 from /usr/local/cuda/include/thrust/system/cuda/detail/util.h:32,\n",
            "                 from /usr/local/cuda/include/thrust/system/cuda/detail/for_each.h:34,\n",
            "                 from /usr/local/cuda/include/thrust/system/detail/adl/for_each.h:42,\n",
            "                 from /usr/local/cuda/include/thrust/detail/for_each.inl:27,\n",
            "                 from /usr/local/cuda/include/thrust/for_each.h:279,\n",
            "                 from /usr/local/cuda/include/thrust/system/detail/generic/transform.inl:19,\n",
            "                 from /usr/local/cuda/include/thrust/system/detail/generic/transform.h:105,\n",
            "                 from /usr/local/cuda/include/thrust/detail/transform.inl:25,\n",
            "                 from /usr/local/cuda/include/thrust/transform.h:724,\n",
            "                 from /usr/local/cuda/include/thrust/system/detail/generic/copy.inl:23,\n",
            "                 from /usr/local/cuda/include/thrust/system/detail/generic/copy.h:58,\n",
            "                 from /usr/local/cuda/include/thrust/detail/copy.inl:21,\n",
            "                 from /usr/local/cuda/include/thrust/detail/copy.h:90,\n",
            "                 from /usr/local/cuda/include/thrust/detail/allocator/copy_construct_range.inl:21,\n",
            "                 from /usr/local/cuda/include/thrust/detail/allocator/copy_construct_range.h:46,\n",
            "                 from /usr/local/cuda/include/thrust/detail/contiguous_storage.inl:23,\n",
            "                 from /usr/local/cuda/include/thrust/detail/contiguous_storage.h:235,\n",
            "                 from /usr/local/cuda/include/thrust/detail/vector_base.h:30,\n",
            "                 from /usr/local/cuda/include/thrust/device_vector.h:25,\n",
            "                 from /content/openpose/3rdparty/caffe/src/caffe/layers/cudnn_softmax_layer.cu:4:\n",
            "/usr/local/cuda/include/cub/util_cpp_dialect.cuh:129:13: warning: CUB requires C++14. Please pass -std=c++14 to your compiler. Define CUB_IGNORE_DEPRECATED_CPP_DIALECT to suppress this message.\n",
            "   CUB_COMPILER_DEPRECATION(C++14, pass -std=c++14 to your compiler);\n",
            "             ^~~~~~~~~~~~~~~~~~~~~~~~~~~~~~~~~~~~~~~~~~~~~~~~~~~~~~~~                                                                         \n",
            "In file included from /usr/local/cuda/include/thrust/detail/config/config.h:27:0,\n",
            "                 from /usr/local/cuda/include/thrust/detail/config.h:23,\n",
            "                 from /usr/local/cuda/include/thrust/device_vector.h:24,\n",
            "                 from /content/openpose/3rdparty/caffe/src/caffe/layers/cudnn_softmax_layer.cu:4:\n",
            "/usr/local/cuda/include/thrust/detail/config/cpp_dialect.h:104:13: warning: Thrust requires C++14. Please pass -std=c++14 to your compiler. Define THRUST_IGNORE_DEPRECATED_CPP_DIALECT to suppress this message.\n",
            "   THRUST_COMPILER_DEPRECATION(C++14, pass -std=c++14 to your compiler);\n",
            "             ^~~~~~~~~~~~~~~~~~~~~~~~~~~~~~~~~~~~~~~~~~~~~~~~~~~~~~~~~~~                                                                            \n",
            "In file included from /usr/local/cuda/include/cub/util_arch.cuh:36:0,\n",
            "                 from /usr/local/cuda/include/thrust/system/cuda/detail/util.h:32,\n",
            "                 from /usr/local/cuda/include/thrust/system/cuda/detail/for_each.h:34,\n",
            "                 from /usr/local/cuda/include/thrust/system/detail/adl/for_each.h:42,\n",
            "                 from /usr/local/cuda/include/thrust/detail/for_each.inl:27,\n",
            "                 from /usr/local/cuda/include/thrust/for_each.h:279,\n",
            "                 from /usr/local/cuda/include/thrust/system/detail/generic/transform.inl:19,\n",
            "                 from /usr/local/cuda/include/thrust/system/detail/generic/transform.h:105,\n",
            "                 from /usr/local/cuda/include/thrust/detail/transform.inl:25,\n",
            "                 from /usr/local/cuda/include/thrust/transform.h:724,\n",
            "                 from /usr/local/cuda/include/thrust/system/detail/generic/copy.inl:23,\n",
            "                 from /usr/local/cuda/include/thrust/system/detail/generic/copy.h:58,\n",
            "                 from /usr/local/cuda/include/thrust/detail/copy.inl:21,\n",
            "                 from /usr/local/cuda/include/thrust/detail/copy.h:90,\n",
            "                 from /usr/local/cuda/include/thrust/detail/allocator/copy_construct_range.inl:21,\n",
            "                 from /usr/local/cuda/include/thrust/detail/allocator/copy_construct_range.h:46,\n",
            "                 from /usr/local/cuda/include/thrust/detail/contiguous_storage.inl:23,\n",
            "                 from /usr/local/cuda/include/thrust/detail/contiguous_storage.h:235,\n",
            "                 from /usr/local/cuda/include/thrust/detail/vector_base.h:30,\n",
            "                 from /usr/local/cuda/include/thrust/device_vector.h:25,\n",
            "                 from /content/openpose/3rdparty/caffe/src/caffe/layers/cudnn_softmax_layer.cu:4:\n",
            "/usr/local/cuda/include/cub/util_cpp_dialect.cuh:129:13: warning: CUB requires C++14. Please pass -std=c++14 to your compiler. Define CUB_IGNORE_DEPRECATED_CPP_DIALECT to suppress this message.\n",
            "   CUB_COMPILER_DEPRECATION(C++14, pass -std=c++14 to your compiler);\n",
            "             ^~~~~~~~~~~~~~~~~~~~~~~~~~~~~~~~~~~~~~~~~~~~~~~~~~~~~~~~                                                                         \n",
            "[ 10%] \u001b[34m\u001b[1mBuilding NVCC (Device) object src/caffe/CMakeFiles/cuda_compile_1.dir/layers/cuda_compile_1_generated_cudnn_tanh_layer.cu.o\u001b[0m\n",
            "nvcc warning : The 'compute_35', 'compute_37', 'compute_50', 'sm_35', 'sm_37' and 'sm_50' architectures are deprecated, and may be removed in a future release (Use -Wno-deprecated-gpu-targets to suppress warning).\n",
            "nvcc warning : The 'compute_35', 'compute_37', 'compute_50', 'sm_35', 'sm_37' and 'sm_50' architectures are deprecated, and may be removed in a future release (Use -Wno-deprecated-gpu-targets to suppress warning).\n",
            "[ 12%] \u001b[34m\u001b[1mBuilding NVCC (Device) object src/caffe/CMakeFiles/cuda_compile_1.dir/layers/cuda_compile_1_generated_deconv_layer.cu.o\u001b[0m\n",
            "nvcc warning : The 'compute_35', 'compute_37', 'compute_50', 'sm_35', 'sm_37' and 'sm_50' architectures are deprecated, and may be removed in a future release (Use -Wno-deprecated-gpu-targets to suppress warning).\n",
            "nvcc warning : The 'compute_35', 'compute_37', 'compute_50', 'sm_35', 'sm_37' and 'sm_50' architectures are deprecated, and may be removed in a future release (Use -Wno-deprecated-gpu-targets to suppress warning).\n",
            "[ 12%] \u001b[34m\u001b[1mBuilding NVCC (Device) object src/caffe/CMakeFiles/cuda_compile_1.dir/layers/cuda_compile_1_generated_dropout_layer.cu.o\u001b[0m\n",
            "nvcc warning : The 'compute_35', 'compute_37', 'compute_50', 'sm_35', 'sm_37' and 'sm_50' architectures are deprecated, and may be removed in a future release (Use -Wno-deprecated-gpu-targets to suppress warning).\n",
            "nvcc warning : The 'compute_35', 'compute_37', 'compute_50', 'sm_35', 'sm_37' and 'sm_50' architectures are deprecated, and may be removed in a future release (Use -Wno-deprecated-gpu-targets to suppress warning).\n",
            "[ 13%] \u001b[34m\u001b[1mBuilding NVCC (Device) object src/caffe/CMakeFiles/cuda_compile_1.dir/layers/cuda_compile_1_generated_eltwise_layer.cu.o\u001b[0m\n",
            "nvcc warning : The 'compute_35', 'compute_37', 'compute_50', 'sm_35', 'sm_37' and 'sm_50' architectures are deprecated, and may be removed in a future release (Use -Wno-deprecated-gpu-targets to suppress warning).\n",
            "nvcc warning : The 'compute_35', 'compute_37', 'compute_50', 'sm_35', 'sm_37' and 'sm_50' architectures are deprecated, and may be removed in a future release (Use -Wno-deprecated-gpu-targets to suppress warning).\n",
            "[ 13%] \u001b[34m\u001b[1mBuilding NVCC (Device) object src/caffe/CMakeFiles/cuda_compile_1.dir/layers/cuda_compile_1_generated_elu_layer.cu.o\u001b[0m\n",
            "nvcc warning : The 'compute_35', 'compute_37', 'compute_50', 'sm_35', 'sm_37' and 'sm_50' architectures are deprecated, and may be removed in a future release (Use -Wno-deprecated-gpu-targets to suppress warning).\n",
            "nvcc warning : The 'compute_35', 'compute_37', 'compute_50', 'sm_35', 'sm_37' and 'sm_50' architectures are deprecated, and may be removed in a future release (Use -Wno-deprecated-gpu-targets to suppress warning).\n",
            "[ 13%] \u001b[34m\u001b[1mBuilding NVCC (Device) object src/caffe/CMakeFiles/cuda_compile_1.dir/layers/cuda_compile_1_generated_embed_layer.cu.o\u001b[0m\n",
            "nvcc warning : The 'compute_35', 'compute_37', 'compute_50', 'sm_35', 'sm_37' and 'sm_50' architectures are deprecated, and may be removed in a future release (Use -Wno-deprecated-gpu-targets to suppress warning).\n",
            "nvcc warning : The 'compute_35', 'compute_37', 'compute_50', 'sm_35', 'sm_37' and 'sm_50' architectures are deprecated, and may be removed in a future release (Use -Wno-deprecated-gpu-targets to suppress warning).\n",
            "[ 15%] \u001b[34m\u001b[1mBuilding NVCC (Device) object src/caffe/CMakeFiles/cuda_compile_1.dir/layers/cuda_compile_1_generated_euclidean_loss_layer.cu.o\u001b[0m\n",
            "nvcc warning : The 'compute_35', 'compute_37', 'compute_50', 'sm_35', 'sm_37' and 'sm_50' architectures are deprecated, and may be removed in a future release (Use -Wno-deprecated-gpu-targets to suppress warning).\n",
            "nvcc warning : The 'compute_35', 'compute_37', 'compute_50', 'sm_35', 'sm_37' and 'sm_50' architectures are deprecated, and may be removed in a future release (Use -Wno-deprecated-gpu-targets to suppress warning).\n",
            "[ 15%] \u001b[34m\u001b[1mBuilding NVCC (Device) object src/caffe/CMakeFiles/cuda_compile_1.dir/layers/cuda_compile_1_generated_exp_layer.cu.o\u001b[0m\n",
            "nvcc warning : The 'compute_35', 'compute_37', 'compute_50', 'sm_35', 'sm_37' and 'sm_50' architectures are deprecated, and may be removed in a future release (Use -Wno-deprecated-gpu-targets to suppress warning).\n",
            "nvcc warning : The 'compute_35', 'compute_37', 'compute_50', 'sm_35', 'sm_37' and 'sm_50' architectures are deprecated, and may be removed in a future release (Use -Wno-deprecated-gpu-targets to suppress warning).\n",
            "[ 15%] \u001b[34m\u001b[1mBuilding NVCC (Device) object src/caffe/CMakeFiles/cuda_compile_1.dir/layers/cuda_compile_1_generated_filter_layer.cu.o\u001b[0m\n",
            "nvcc warning : The 'compute_35', 'compute_37', 'compute_50', 'sm_35', 'sm_37' and 'sm_50' architectures are deprecated, and may be removed in a future release (Use -Wno-deprecated-gpu-targets to suppress warning).\n",
            "nvcc warning : The 'compute_35', 'compute_37', 'compute_50', 'sm_35', 'sm_37' and 'sm_50' architectures are deprecated, and may be removed in a future release (Use -Wno-deprecated-gpu-targets to suppress warning).\n",
            "[ 16%] \u001b[34m\u001b[1mBuilding NVCC (Device) object src/caffe/CMakeFiles/cuda_compile_1.dir/layers/cuda_compile_1_generated_hdf5_data_layer.cu.o\u001b[0m\n",
            "nvcc warning : The 'compute_35', 'compute_37', 'compute_50', 'sm_35', 'sm_37' and 'sm_50' architectures are deprecated, and may be removed in a future release (Use -Wno-deprecated-gpu-targets to suppress warning).\n",
            "nvcc warning : The 'compute_35', 'compute_37', 'compute_50', 'sm_35', 'sm_37' and 'sm_50' architectures are deprecated, and may be removed in a future release (Use -Wno-deprecated-gpu-targets to suppress warning).\n",
            "[ 16%] \u001b[34m\u001b[1mBuilding NVCC (Device) object src/caffe/CMakeFiles/cuda_compile_1.dir/layers/cuda_compile_1_generated_hdf5_output_layer.cu.o\u001b[0m\n",
            "nvcc warning : The 'compute_35', 'compute_37', 'compute_50', 'sm_35', 'sm_37' and 'sm_50' architectures are deprecated, and may be removed in a future release (Use -Wno-deprecated-gpu-targets to suppress warning).\n",
            "nvcc warning : The 'compute_35', 'compute_37', 'compute_50', 'sm_35', 'sm_37' and 'sm_50' architectures are deprecated, and may be removed in a future release (Use -Wno-deprecated-gpu-targets to suppress warning).\n",
            "[ 17%] \u001b[34m\u001b[1mBuilding NVCC (Device) object src/caffe/CMakeFiles/cuda_compile_1.dir/layers/cuda_compile_1_generated_im2col_layer.cu.o\u001b[0m\n",
            "nvcc warning : The 'compute_35', 'compute_37', 'compute_50', 'sm_35', 'sm_37' and 'sm_50' architectures are deprecated, and may be removed in a future release (Use -Wno-deprecated-gpu-targets to suppress warning).\n",
            "nvcc warning : The 'compute_35', 'compute_37', 'compute_50', 'sm_35', 'sm_37' and 'sm_50' architectures are deprecated, and may be removed in a future release (Use -Wno-deprecated-gpu-targets to suppress warning).\n",
            "[ 17%] \u001b[34m\u001b[1mBuilding NVCC (Device) object src/caffe/CMakeFiles/cuda_compile_1.dir/layers/cuda_compile_1_generated_inner_product_layer.cu.o\u001b[0m\n",
            "nvcc warning : The 'compute_35', 'compute_37', 'compute_50', 'sm_35', 'sm_37' and 'sm_50' architectures are deprecated, and may be removed in a future release (Use -Wno-deprecated-gpu-targets to suppress warning).\n",
            "nvcc warning : The 'compute_35', 'compute_37', 'compute_50', 'sm_35', 'sm_37' and 'sm_50' architectures are deprecated, and may be removed in a future release (Use -Wno-deprecated-gpu-targets to suppress warning).\n",
            "[ 17%] \u001b[34m\u001b[1mBuilding NVCC (Device) object src/caffe/CMakeFiles/cuda_compile_1.dir/layers/cuda_compile_1_generated_log_layer.cu.o\u001b[0m\n",
            "nvcc warning : The 'compute_35', 'compute_37', 'compute_50', 'sm_35', 'sm_37' and 'sm_50' architectures are deprecated, and may be removed in a future release (Use -Wno-deprecated-gpu-targets to suppress warning).\n",
            "nvcc warning : The 'compute_35', 'compute_37', 'compute_50', 'sm_35', 'sm_37' and 'sm_50' architectures are deprecated, and may be removed in a future release (Use -Wno-deprecated-gpu-targets to suppress warning).\n",
            "[ 19%] \u001b[34m\u001b[1mBuilding NVCC (Device) object src/caffe/CMakeFiles/cuda_compile_1.dir/layers/cuda_compile_1_generated_lrn_layer.cu.o\u001b[0m\n",
            "nvcc warning : The 'compute_35', 'compute_37', 'compute_50', 'sm_35', 'sm_37' and 'sm_50' architectures are deprecated, and may be removed in a future release (Use -Wno-deprecated-gpu-targets to suppress warning).\n",
            "nvcc warning : The 'compute_35', 'compute_37', 'compute_50', 'sm_35', 'sm_37' and 'sm_50' architectures are deprecated, and may be removed in a future release (Use -Wno-deprecated-gpu-targets to suppress warning).\n",
            "[ 19%] \u001b[34m\u001b[1mBuilding NVCC (Device) object src/caffe/CMakeFiles/cuda_compile_1.dir/layers/cuda_compile_1_generated_lstm_unit_layer.cu.o\u001b[0m\n",
            "nvcc warning : The 'compute_35', 'compute_37', 'compute_50', 'sm_35', 'sm_37' and 'sm_50' architectures are deprecated, and may be removed in a future release (Use -Wno-deprecated-gpu-targets to suppress warning).\n",
            "nvcc warning : The 'compute_35', 'compute_37', 'compute_50', 'sm_35', 'sm_37' and 'sm_50' architectures are deprecated, and may be removed in a future release (Use -Wno-deprecated-gpu-targets to suppress warning).\n",
            "[ 19%] \u001b[34m\u001b[1mBuilding NVCC (Device) object src/caffe/CMakeFiles/cuda_compile_1.dir/layers/cuda_compile_1_generated_mvn_layer.cu.o\u001b[0m\n",
            "nvcc warning : The 'compute_35', 'compute_37', 'compute_50', 'sm_35', 'sm_37' and 'sm_50' architectures are deprecated, and may be removed in a future release (Use -Wno-deprecated-gpu-targets to suppress warning).\n",
            "nvcc warning : The 'compute_35', 'compute_37', 'compute_50', 'sm_35', 'sm_37' and 'sm_50' architectures are deprecated, and may be removed in a future release (Use -Wno-deprecated-gpu-targets to suppress warning).\n",
            "[ 20%] \u001b[34m\u001b[1mBuilding NVCC (Device) object src/caffe/CMakeFiles/cuda_compile_1.dir/layers/cuda_compile_1_generated_pooling_layer.cu.o\u001b[0m\n",
            "nvcc warning : The 'compute_35', 'compute_37', 'compute_50', 'sm_35', 'sm_37' and 'sm_50' architectures are deprecated, and may be removed in a future release (Use -Wno-deprecated-gpu-targets to suppress warning).\n",
            "nvcc warning : The 'compute_35', 'compute_37', 'compute_50', 'sm_35', 'sm_37' and 'sm_50' architectures are deprecated, and may be removed in a future release (Use -Wno-deprecated-gpu-targets to suppress warning).\n",
            "[ 20%] \u001b[34m\u001b[1mBuilding NVCC (Device) object src/caffe/CMakeFiles/cuda_compile_1.dir/layers/cuda_compile_1_generated_power_layer.cu.o\u001b[0m\n",
            "nvcc warning : The 'compute_35', 'compute_37', 'compute_50', 'sm_35', 'sm_37' and 'sm_50' architectures are deprecated, and may be removed in a future release (Use -Wno-deprecated-gpu-targets to suppress warning).\n",
            "nvcc warning : The 'compute_35', 'compute_37', 'compute_50', 'sm_35', 'sm_37' and 'sm_50' architectures are deprecated, and may be removed in a future release (Use -Wno-deprecated-gpu-targets to suppress warning).\n",
            "[ 21%] \u001b[34m\u001b[1mBuilding NVCC (Device) object src/caffe/CMakeFiles/cuda_compile_1.dir/layers/cuda_compile_1_generated_prelu_layer.cu.o\u001b[0m\n",
            "nvcc warning : The 'compute_35', 'compute_37', 'compute_50', 'sm_35', 'sm_37' and 'sm_50' architectures are deprecated, and may be removed in a future release (Use -Wno-deprecated-gpu-targets to suppress warning).\n",
            "nvcc warning : The 'compute_35', 'compute_37', 'compute_50', 'sm_35', 'sm_37' and 'sm_50' architectures are deprecated, and may be removed in a future release (Use -Wno-deprecated-gpu-targets to suppress warning).\n",
            "[ 21%] \u001b[34m\u001b[1mBuilding NVCC (Device) object src/caffe/CMakeFiles/cuda_compile_1.dir/layers/cuda_compile_1_generated_recurrent_layer.cu.o\u001b[0m\n",
            "nvcc warning : The 'compute_35', 'compute_37', 'compute_50', 'sm_35', 'sm_37' and 'sm_50' architectures are deprecated, and may be removed in a future release (Use -Wno-deprecated-gpu-targets to suppress warning).\n",
            "nvcc warning : The 'compute_35', 'compute_37', 'compute_50', 'sm_35', 'sm_37' and 'sm_50' architectures are deprecated, and may be removed in a future release (Use -Wno-deprecated-gpu-targets to suppress warning).\n",
            "[ 21%] \u001b[34m\u001b[1mBuilding NVCC (Device) object src/caffe/CMakeFiles/cuda_compile_1.dir/layers/cuda_compile_1_generated_reduction_layer.cu.o\u001b[0m\n",
            "nvcc warning : The 'compute_35', 'compute_37', 'compute_50', 'sm_35', 'sm_37' and 'sm_50' architectures are deprecated, and may be removed in a future release (Use -Wno-deprecated-gpu-targets to suppress warning).\n",
            "[ 23%] \u001b[34m\u001b[1mBuilding NVCC (Device) object src/caffe/CMakeFiles/cuda_compile_1.dir/layers/cuda_compile_1_generated_relu_layer.cu.o\u001b[0m\n",
            "nvcc warning : The 'compute_35', 'compute_37', 'compute_50', 'sm_35', 'sm_37' and 'sm_50' architectures are deprecated, and may be removed in a future release (Use -Wno-deprecated-gpu-targets to suppress warning).\n",
            "nvcc warning : The 'compute_35', 'compute_37', 'compute_50', 'sm_35', 'sm_37' and 'sm_50' architectures are deprecated, and may be removed in a future release (Use -Wno-deprecated-gpu-targets to suppress warning).\n",
            "nvcc warning : The 'compute_35', 'compute_37', 'compute_50', 'sm_35', 'sm_37' and 'sm_50' architectures are deprecated, and may be removed in a future release (Use -Wno-deprecated-gpu-targets to suppress warning).\n",
            "[ 23%] \u001b[34m\u001b[1mBuilding NVCC (Device) object src/caffe/CMakeFiles/cuda_compile_1.dir/layers/cuda_compile_1_generated_scale_layer.cu.o\u001b[0m\n",
            "nvcc warning : The 'compute_35', 'compute_37', 'compute_50', 'sm_35', 'sm_37' and 'sm_50' architectures are deprecated, and may be removed in a future release (Use -Wno-deprecated-gpu-targets to suppress warning).\n",
            "[ 23%] \u001b[34m\u001b[1mBuilding NVCC (Device) object src/caffe/CMakeFiles/cuda_compile_1.dir/layers/cuda_compile_1_generated_sigmoid_cross_entropy_loss_layer.cu.o\u001b[0m\n",
            "nvcc warning : The 'compute_35', 'compute_37', 'compute_50', 'sm_35', 'sm_37' and 'sm_50' architectures are deprecated, and may be removed in a future release (Use -Wno-deprecated-gpu-targets to suppress warning).\n",
            "nvcc warning : The 'compute_35', 'compute_37', 'compute_50', 'sm_35', 'sm_37' and 'sm_50' architectures are deprecated, and may be removed in a future release (Use -Wno-deprecated-gpu-targets to suppress warning).\n",
            "nvcc warning : The 'compute_35', 'compute_37', 'compute_50', 'sm_35', 'sm_37' and 'sm_50' architectures are deprecated, and may be removed in a future release (Use -Wno-deprecated-gpu-targets to suppress warning).\n",
            "[ 24%] \u001b[34m\u001b[1mBuilding NVCC (Device) object src/caffe/CMakeFiles/cuda_compile_1.dir/layers/cuda_compile_1_generated_sigmoid_layer.cu.o\u001b[0m\n",
            "nvcc warning : The 'compute_35', 'compute_37', 'compute_50', 'sm_35', 'sm_37' and 'sm_50' architectures are deprecated, and may be removed in a future release (Use -Wno-deprecated-gpu-targets to suppress warning).\n",
            "[ 24%] \u001b[34m\u001b[1mBuilding NVCC (Device) object src/caffe/CMakeFiles/cuda_compile_1.dir/layers/cuda_compile_1_generated_silence_layer.cu.o\u001b[0m\n",
            "nvcc warning : The 'compute_35', 'compute_37', 'compute_50', 'sm_35', 'sm_37' and 'sm_50' architectures are deprecated, and may be removed in a future release (Use -Wno-deprecated-gpu-targets to suppress warning).\n",
            "nvcc warning : The 'compute_35', 'compute_37', 'compute_50', 'sm_35', 'sm_37' and 'sm_50' architectures are deprecated, and may be removed in a future release (Use -Wno-deprecated-gpu-targets to suppress warning).\n",
            "nvcc warning : The 'compute_35', 'compute_37', 'compute_50', 'sm_35', 'sm_37' and 'sm_50' architectures are deprecated, and may be removed in a future release (Use -Wno-deprecated-gpu-targets to suppress warning).\n",
            "[ 26%] \u001b[34m\u001b[1mBuilding NVCC (Device) object src/caffe/CMakeFiles/cuda_compile_1.dir/layers/cuda_compile_1_generated_slice_layer.cu.o\u001b[0m\n",
            "nvcc warning : The 'compute_35', 'compute_37', 'compute_50', 'sm_35', 'sm_37' and 'sm_50' architectures are deprecated, and may be removed in a future release (Use -Wno-deprecated-gpu-targets to suppress warning).\n",
            "[ 26%] \u001b[34m\u001b[1mBuilding NVCC (Device) object src/caffe/CMakeFiles/cuda_compile_1.dir/layers/cuda_compile_1_generated_softmax_layer.cu.o\u001b[0m\n",
            "nvcc warning : The 'compute_35', 'compute_37', 'compute_50', 'sm_35', 'sm_37' and 'sm_50' architectures are deprecated, and may be removed in a future release (Use -Wno-deprecated-gpu-targets to suppress warning).\n",
            "In file included from /usr/local/cuda/include/thrust/detail/config/config.h:27:0,\n",
            "                 from /usr/local/cuda/include/thrust/detail/config.h:23,\n",
            "                 from /usr/local/cuda/include/thrust/device_vector.h:24,\n",
            "                 from /content/openpose/3rdparty/caffe/src/caffe/layers/softmax_layer.cu:5:\n",
            "/usr/local/cuda/include/thrust/detail/config/cpp_dialect.h:104:13: warning: Thrust requires C++14. Please pass -std=c++14 to your compiler. Define THRUST_IGNORE_DEPRECATED_CPP_DIALECT to suppress this message.\n",
            "   THRUST_COMPILER_DEPRECATION(C++14, pass -std=c++14 to your compiler);\n",
            "             ^~~~~~~~~~~~~~~~~~~~~~~~~~~~~~~~~~~~~~~~~~~~~~~~~~~~~~~~~~~                                                                            \n",
            "In file included from /usr/local/cuda/include/cub/util_arch.cuh:36:0,\n",
            "                 from /usr/local/cuda/include/thrust/system/cuda/detail/util.h:32,\n",
            "                 from /usr/local/cuda/include/thrust/system/cuda/detail/for_each.h:34,\n",
            "                 from /usr/local/cuda/include/thrust/system/detail/adl/for_each.h:42,\n",
            "                 from /usr/local/cuda/include/thrust/detail/for_each.inl:27,\n",
            "                 from /usr/local/cuda/include/thrust/for_each.h:279,\n",
            "                 from /usr/local/cuda/include/thrust/system/detail/generic/transform.inl:19,\n",
            "                 from /usr/local/cuda/include/thrust/system/detail/generic/transform.h:105,\n",
            "                 from /usr/local/cuda/include/thrust/detail/transform.inl:25,\n",
            "                 from /usr/local/cuda/include/thrust/transform.h:724,\n",
            "                 from /usr/local/cuda/include/thrust/system/detail/generic/copy.inl:23,\n",
            "                 from /usr/local/cuda/include/thrust/system/detail/generic/copy.h:58,\n",
            "                 from /usr/local/cuda/include/thrust/detail/copy.inl:21,\n",
            "                 from /usr/local/cuda/include/thrust/detail/copy.h:90,\n",
            "                 from /usr/local/cuda/include/thrust/detail/allocator/copy_construct_range.inl:21,\n",
            "                 from /usr/local/cuda/include/thrust/detail/allocator/copy_construct_range.h:46,\n",
            "                 from /usr/local/cuda/include/thrust/detail/contiguous_storage.inl:23,\n",
            "                 from /usr/local/cuda/include/thrust/detail/contiguous_storage.h:235,\n",
            "                 from /usr/local/cuda/include/thrust/detail/vector_base.h:30,\n",
            "                 from /usr/local/cuda/include/thrust/device_vector.h:25,\n",
            "                 from /content/openpose/3rdparty/caffe/src/caffe/layers/softmax_layer.cu:5:\n",
            "/usr/local/cuda/include/cub/util_cpp_dialect.cuh:129:13: warning: CUB requires C++14. Please pass -std=c++14 to your compiler. Define CUB_IGNORE_DEPRECATED_CPP_DIALECT to suppress this message.\n",
            "   CUB_COMPILER_DEPRECATION(C++14, pass -std=c++14 to your compiler);\n",
            "             ^~~~~~~~~~~~~~~~~~~~~~~~~~~~~~~~~~~~~~~~~~~~~~~~~~~~~~~~                                                                         \n",
            "nvcc warning : The 'compute_35', 'compute_37', 'compute_50', 'sm_35', 'sm_37' and 'sm_50' architectures are deprecated, and may be removed in a future release (Use -Wno-deprecated-gpu-targets to suppress warning).\n",
            "In file included from /usr/local/cuda/include/thrust/detail/config/config.h:27:0,\n",
            "                 from /usr/local/cuda/include/thrust/detail/config.h:23,\n",
            "                 from /usr/local/cuda/include/thrust/device_vector.h:24,\n",
            "                 from /content/openpose/3rdparty/caffe/src/caffe/layers/softmax_layer.cu:5:\n",
            "/usr/local/cuda/include/thrust/detail/config/cpp_dialect.h:104:13: warning: Thrust requires C++14. Please pass -std=c++14 to your compiler. Define THRUST_IGNORE_DEPRECATED_CPP_DIALECT to suppress this message.\n",
            "   THRUST_COMPILER_DEPRECATION(C++14, pass -std=c++14 to your compiler);\n",
            "             ^~~~~~~~~~~~~~~~~~~~~~~~~~~~~~~~~~~~~~~~~~~~~~~~~~~~~~~~~~~                                                                            \n",
            "In file included from /usr/local/cuda/include/cub/util_arch.cuh:36:0,\n",
            "                 from /usr/local/cuda/include/thrust/system/cuda/detail/util.h:32,\n",
            "                 from /usr/local/cuda/include/thrust/system/cuda/detail/for_each.h:34,\n",
            "                 from /usr/local/cuda/include/thrust/system/detail/adl/for_each.h:42,\n",
            "                 from /usr/local/cuda/include/thrust/detail/for_each.inl:27,\n",
            "                 from /usr/local/cuda/include/thrust/for_each.h:279,\n",
            "                 from /usr/local/cuda/include/thrust/system/detail/generic/transform.inl:19,\n",
            "                 from /usr/local/cuda/include/thrust/system/detail/generic/transform.h:105,\n",
            "                 from /usr/local/cuda/include/thrust/detail/transform.inl:25,\n",
            "                 from /usr/local/cuda/include/thrust/transform.h:724,\n",
            "                 from /usr/local/cuda/include/thrust/system/detail/generic/copy.inl:23,\n",
            "                 from /usr/local/cuda/include/thrust/system/detail/generic/copy.h:58,\n",
            "                 from /usr/local/cuda/include/thrust/detail/copy.inl:21,\n",
            "                 from /usr/local/cuda/include/thrust/detail/copy.h:90,\n",
            "                 from /usr/local/cuda/include/thrust/detail/allocator/copy_construct_range.inl:21,\n",
            "                 from /usr/local/cuda/include/thrust/detail/allocator/copy_construct_range.h:46,\n",
            "                 from /usr/local/cuda/include/thrust/detail/contiguous_storage.inl:23,\n",
            "                 from /usr/local/cuda/include/thrust/detail/contiguous_storage.h:235,\n",
            "                 from /usr/local/cuda/include/thrust/detail/vector_base.h:30,\n",
            "                 from /usr/local/cuda/include/thrust/device_vector.h:25,\n",
            "                 from /content/openpose/3rdparty/caffe/src/caffe/layers/softmax_layer.cu:5:\n",
            "/usr/local/cuda/include/cub/util_cpp_dialect.cuh:129:13: warning: CUB requires C++14. Please pass -std=c++14 to your compiler. Define CUB_IGNORE_DEPRECATED_CPP_DIALECT to suppress this message.\n",
            "   CUB_COMPILER_DEPRECATION(C++14, pass -std=c++14 to your compiler);\n",
            "             ^~~~~~~~~~~~~~~~~~~~~~~~~~~~~~~~~~~~~~~~~~~~~~~~~~~~~~~~                                                                         \n",
            "nvcc warning : The 'compute_35', 'compute_37', 'compute_50', 'sm_35', 'sm_37' and 'sm_50' architectures are deprecated, and may be removed in a future release (Use -Wno-deprecated-gpu-targets to suppress warning).\n",
            "In file included from /usr/local/cuda/include/thrust/detail/config/config.h:27:0,\n",
            "                 from /usr/local/cuda/include/thrust/detail/config.h:23,\n",
            "                 from /usr/local/cuda/include/thrust/device_vector.h:24,\n",
            "                 from /content/openpose/3rdparty/caffe/src/caffe/layers/softmax_layer.cu:5:\n",
            "/usr/local/cuda/include/thrust/detail/config/cpp_dialect.h:104:13: warning: Thrust requires C++14. Please pass -std=c++14 to your compiler. Define THRUST_IGNORE_DEPRECATED_CPP_DIALECT to suppress this message.\n",
            "   THRUST_COMPILER_DEPRECATION(C++14, pass -std=c++14 to your compiler);\n",
            "             ^~~~~~~~~~~~~~~~~~~~~~~~~~~~~~~~~~~~~~~~~~~~~~~~~~~~~~~~~~~                                                                            \n",
            "In file included from /usr/local/cuda/include/cub/util_arch.cuh:36:0,\n",
            "                 from /usr/local/cuda/include/thrust/system/cuda/detail/util.h:32,\n",
            "                 from /usr/local/cuda/include/thrust/system/cuda/detail/for_each.h:34,\n",
            "                 from /usr/local/cuda/include/thrust/system/detail/adl/for_each.h:42,\n",
            "                 from /usr/local/cuda/include/thrust/detail/for_each.inl:27,\n",
            "                 from /usr/local/cuda/include/thrust/for_each.h:279,\n",
            "                 from /usr/local/cuda/include/thrust/system/detail/generic/transform.inl:19,\n",
            "                 from /usr/local/cuda/include/thrust/system/detail/generic/transform.h:105,\n",
            "                 from /usr/local/cuda/include/thrust/detail/transform.inl:25,\n",
            "                 from /usr/local/cuda/include/thrust/transform.h:724,\n",
            "                 from /usr/local/cuda/include/thrust/system/detail/generic/copy.inl:23,\n",
            "                 from /usr/local/cuda/include/thrust/system/detail/generic/copy.h:58,\n",
            "                 from /usr/local/cuda/include/thrust/detail/copy.inl:21,\n",
            "                 from /usr/local/cuda/include/thrust/detail/copy.h:90,\n",
            "                 from /usr/local/cuda/include/thrust/detail/allocator/copy_construct_range.inl:21,\n",
            "                 from /usr/local/cuda/include/thrust/detail/allocator/copy_construct_range.h:46,\n",
            "                 from /usr/local/cuda/include/thrust/detail/contiguous_storage.inl:23,\n",
            "                 from /usr/local/cuda/include/thrust/detail/contiguous_storage.h:235,\n",
            "                 from /usr/local/cuda/include/thrust/detail/vector_base.h:30,\n",
            "                 from /usr/local/cuda/include/thrust/device_vector.h:25,\n",
            "                 from /content/openpose/3rdparty/caffe/src/caffe/layers/softmax_layer.cu:5:\n",
            "/usr/local/cuda/include/cub/util_cpp_dialect.cuh:129:13: warning: CUB requires C++14. Please pass -std=c++14 to your compiler. Define CUB_IGNORE_DEPRECATED_CPP_DIALECT to suppress this message.\n",
            "   CUB_COMPILER_DEPRECATION(C++14, pass -std=c++14 to your compiler);\n",
            "             ^~~~~~~~~~~~~~~~~~~~~~~~~~~~~~~~~~~~~~~~~~~~~~~~~~~~~~~~                                                                         \n",
            "In file included from /usr/local/cuda/include/thrust/detail/config/config.h:27:0,\n",
            "                 from /usr/local/cuda/include/thrust/detail/config.h:23,\n",
            "                 from /usr/local/cuda/include/thrust/device_vector.h:24,\n",
            "                 from /content/openpose/3rdparty/caffe/src/caffe/layers/softmax_layer.cu:5:\n",
            "/usr/local/cuda/include/thrust/detail/config/cpp_dialect.h:104:13: warning: Thrust requires C++14. Please pass -std=c++14 to your compiler. Define THRUST_IGNORE_DEPRECATED_CPP_DIALECT to suppress this message.\n",
            "   THRUST_COMPILER_DEPRECATION(C++14, pass -std=c++14 to your compiler);\n",
            "             ^~~~~~~~~~~~~~~~~~~~~~~~~~~~~~~~~~~~~~~~~~~~~~~~~~~~~~~~~~~                                                                            \n",
            "In file included from /usr/local/cuda/include/cub/util_arch.cuh:36:0,\n",
            "                 from /usr/local/cuda/include/thrust/system/cuda/detail/util.h:32,\n",
            "                 from /usr/local/cuda/include/thrust/system/cuda/detail/for_each.h:34,\n",
            "                 from /usr/local/cuda/include/thrust/system/detail/adl/for_each.h:42,\n",
            "                 from /usr/local/cuda/include/thrust/detail/for_each.inl:27,\n",
            "                 from /usr/local/cuda/include/thrust/for_each.h:279,\n",
            "                 from /usr/local/cuda/include/thrust/system/detail/generic/transform.inl:19,\n",
            "                 from /usr/local/cuda/include/thrust/system/detail/generic/transform.h:105,\n",
            "                 from /usr/local/cuda/include/thrust/detail/transform.inl:25,\n",
            "                 from /usr/local/cuda/include/thrust/transform.h:724,\n",
            "                 from /usr/local/cuda/include/thrust/system/detail/generic/copy.inl:23,\n",
            "                 from /usr/local/cuda/include/thrust/system/detail/generic/copy.h:58,\n",
            "                 from /usr/local/cuda/include/thrust/detail/copy.inl:21,\n",
            "                 from /usr/local/cuda/include/thrust/detail/copy.h:90,\n",
            "                 from /usr/local/cuda/include/thrust/detail/allocator/copy_construct_range.inl:21,\n",
            "                 from /usr/local/cuda/include/thrust/detail/allocator/copy_construct_range.h:46,\n",
            "                 from /usr/local/cuda/include/thrust/detail/contiguous_storage.inl:23,\n",
            "                 from /usr/local/cuda/include/thrust/detail/contiguous_storage.h:235,\n",
            "                 from /usr/local/cuda/include/thrust/detail/vector_base.h:30,\n",
            "                 from /usr/local/cuda/include/thrust/device_vector.h:25,\n",
            "                 from /content/openpose/3rdparty/caffe/src/caffe/layers/softmax_layer.cu:5:\n",
            "/usr/local/cuda/include/cub/util_cpp_dialect.cuh:129:13: warning: CUB requires C++14. Please pass -std=c++14 to your compiler. Define CUB_IGNORE_DEPRECATED_CPP_DIALECT to suppress this message.\n",
            "   CUB_COMPILER_DEPRECATION(C++14, pass -std=c++14 to your compiler);\n",
            "             ^~~~~~~~~~~~~~~~~~~~~~~~~~~~~~~~~~~~~~~~~~~~~~~~~~~~~~~~                                                                         \n",
            "[ 26%] \u001b[34m\u001b[1mBuilding NVCC (Device) object src/caffe/CMakeFiles/cuda_compile_1.dir/layers/cuda_compile_1_generated_softmax_loss_layer.cu.o\u001b[0m\n",
            "nvcc warning : The 'compute_35', 'compute_37', 'compute_50', 'sm_35', 'sm_37' and 'sm_50' architectures are deprecated, and may be removed in a future release (Use -Wno-deprecated-gpu-targets to suppress warning).\n",
            "nvcc warning : The 'compute_35', 'compute_37', 'compute_50', 'sm_35', 'sm_37' and 'sm_50' architectures are deprecated, and may be removed in a future release (Use -Wno-deprecated-gpu-targets to suppress warning).\n",
            "[ 27%] \u001b[34m\u001b[1mBuilding NVCC (Device) object src/caffe/CMakeFiles/cuda_compile_1.dir/layers/cuda_compile_1_generated_split_layer.cu.o\u001b[0m\n",
            "nvcc warning : The 'compute_35', 'compute_37', 'compute_50', 'sm_35', 'sm_37' and 'sm_50' architectures are deprecated, and may be removed in a future release (Use -Wno-deprecated-gpu-targets to suppress warning).\n",
            "nvcc warning : The 'compute_35', 'compute_37', 'compute_50', 'sm_35', 'sm_37' and 'sm_50' architectures are deprecated, and may be removed in a future release (Use -Wno-deprecated-gpu-targets to suppress warning).\n",
            "[ 27%] \u001b[34m\u001b[1mBuilding NVCC (Device) object src/caffe/CMakeFiles/cuda_compile_1.dir/layers/cuda_compile_1_generated_swish_layer.cu.o\u001b[0m\n",
            "nvcc warning : The 'compute_35', 'compute_37', 'compute_50', 'sm_35', 'sm_37' and 'sm_50' architectures are deprecated, and may be removed in a future release (Use -Wno-deprecated-gpu-targets to suppress warning).\n",
            "nvcc warning : The 'compute_35', 'compute_37', 'compute_50', 'sm_35', 'sm_37' and 'sm_50' architectures are deprecated, and may be removed in a future release (Use -Wno-deprecated-gpu-targets to suppress warning).\n",
            "[ 28%] \u001b[34m\u001b[1mBuilding NVCC (Device) object src/caffe/CMakeFiles/cuda_compile_1.dir/layers/cuda_compile_1_generated_tanh_layer.cu.o\u001b[0m\n",
            "nvcc warning : The 'compute_35', 'compute_37', 'compute_50', 'sm_35', 'sm_37' and 'sm_50' architectures are deprecated, and may be removed in a future release (Use -Wno-deprecated-gpu-targets to suppress warning).\n",
            "nvcc warning : The 'compute_35', 'compute_37', 'compute_50', 'sm_35', 'sm_37' and 'sm_50' architectures are deprecated, and may be removed in a future release (Use -Wno-deprecated-gpu-targets to suppress warning).\n",
            "[ 28%] \u001b[34m\u001b[1mBuilding NVCC (Device) object src/caffe/CMakeFiles/cuda_compile_1.dir/layers/cuda_compile_1_generated_threshold_layer.cu.o\u001b[0m\n",
            "nvcc warning : The 'compute_35', 'compute_37', 'compute_50', 'sm_35', 'sm_37' and 'sm_50' architectures are deprecated, and may be removed in a future release (Use -Wno-deprecated-gpu-targets to suppress warning).\n",
            "nvcc warning : The 'compute_35', 'compute_37', 'compute_50', 'sm_35', 'sm_37' and 'sm_50' architectures are deprecated, and may be removed in a future release (Use -Wno-deprecated-gpu-targets to suppress warning).\n",
            "[ 28%] \u001b[34m\u001b[1mBuilding NVCC (Device) object src/caffe/CMakeFiles/cuda_compile_1.dir/layers/cuda_compile_1_generated_tile_layer.cu.o\u001b[0m\n",
            "nvcc warning : The 'compute_35', 'compute_37', 'compute_50', 'sm_35', 'sm_37' and 'sm_50' architectures are deprecated, and may be removed in a future release (Use -Wno-deprecated-gpu-targets to suppress warning).\n",
            "nvcc warning : The 'compute_35', 'compute_37', 'compute_50', 'sm_35', 'sm_37' and 'sm_50' architectures are deprecated, and may be removed in a future release (Use -Wno-deprecated-gpu-targets to suppress warning).\n",
            "[ 30%] \u001b[34m\u001b[1mBuilding NVCC (Device) object src/caffe/CMakeFiles/cuda_compile_1.dir/solvers/cuda_compile_1_generated_adadelta_solver.cu.o\u001b[0m\n",
            "nvcc warning : The 'compute_35', 'compute_37', 'compute_50', 'sm_35', 'sm_37' and 'sm_50' architectures are deprecated, and may be removed in a future release (Use -Wno-deprecated-gpu-targets to suppress warning).\n",
            "nvcc warning : The 'compute_35', 'compute_37', 'compute_50', 'sm_35', 'sm_37' and 'sm_50' architectures are deprecated, and may be removed in a future release (Use -Wno-deprecated-gpu-targets to suppress warning).\n",
            "[ 30%] \u001b[34m\u001b[1mBuilding NVCC (Device) object src/caffe/CMakeFiles/cuda_compile_1.dir/solvers/cuda_compile_1_generated_adagrad_solver.cu.o\u001b[0m\n",
            "nvcc warning : The 'compute_35', 'compute_37', 'compute_50', 'sm_35', 'sm_37' and 'sm_50' architectures are deprecated, and may be removed in a future release (Use -Wno-deprecated-gpu-targets to suppress warning).\n",
            "nvcc warning : The 'compute_35', 'compute_37', 'compute_50', 'sm_35', 'sm_37' and 'sm_50' architectures are deprecated, and may be removed in a future release (Use -Wno-deprecated-gpu-targets to suppress warning).\n",
            "[ 30%] \u001b[34m\u001b[1mBuilding NVCC (Device) object src/caffe/CMakeFiles/cuda_compile_1.dir/solvers/cuda_compile_1_generated_adam_solver.cu.o\u001b[0m\n",
            "nvcc warning : The 'compute_35', 'compute_37', 'compute_50', 'sm_35', 'sm_37' and 'sm_50' architectures are deprecated, and may be removed in a future release (Use -Wno-deprecated-gpu-targets to suppress warning).\n",
            "nvcc warning : The 'compute_35', 'compute_37', 'compute_50', 'sm_35', 'sm_37' and 'sm_50' architectures are deprecated, and may be removed in a future release (Use -Wno-deprecated-gpu-targets to suppress warning).\n",
            "[ 31%] \u001b[34m\u001b[1mBuilding NVCC (Device) object src/caffe/CMakeFiles/cuda_compile_1.dir/solvers/cuda_compile_1_generated_nesterov_solver.cu.o\u001b[0m\n",
            "nvcc warning : The 'compute_35', 'compute_37', 'compute_50', 'sm_35', 'sm_37' and 'sm_50' architectures are deprecated, and may be removed in a future release (Use -Wno-deprecated-gpu-targets to suppress warning).\n",
            "nvcc warning : The 'compute_35', 'compute_37', 'compute_50', 'sm_35', 'sm_37' and 'sm_50' architectures are deprecated, and may be removed in a future release (Use -Wno-deprecated-gpu-targets to suppress warning).\n",
            "[ 31%] \u001b[34m\u001b[1mBuilding NVCC (Device) object src/caffe/CMakeFiles/cuda_compile_1.dir/solvers/cuda_compile_1_generated_rmsprop_solver.cu.o\u001b[0m\n",
            "nvcc warning : The 'compute_35', 'compute_37', 'compute_50', 'sm_35', 'sm_37' and 'sm_50' architectures are deprecated, and may be removed in a future release (Use -Wno-deprecated-gpu-targets to suppress warning).\n",
            "nvcc warning : The 'compute_35', 'compute_37', 'compute_50', 'sm_35', 'sm_37' and 'sm_50' architectures are deprecated, and may be removed in a future release (Use -Wno-deprecated-gpu-targets to suppress warning).\n",
            "[ 32%] \u001b[34m\u001b[1mBuilding NVCC (Device) object src/caffe/CMakeFiles/cuda_compile_1.dir/solvers/cuda_compile_1_generated_sgd_solver.cu.o\u001b[0m\n",
            "nvcc warning : The 'compute_35', 'compute_37', 'compute_50', 'sm_35', 'sm_37' and 'sm_50' architectures are deprecated, and may be removed in a future release (Use -Wno-deprecated-gpu-targets to suppress warning).\n",
            "nvcc warning : The 'compute_35', 'compute_37', 'compute_50', 'sm_35', 'sm_37' and 'sm_50' architectures are deprecated, and may be removed in a future release (Use -Wno-deprecated-gpu-targets to suppress warning).\n",
            "[ 32%] \u001b[34m\u001b[1mBuilding NVCC (Device) object src/caffe/CMakeFiles/cuda_compile_1.dir/util/cuda_compile_1_generated_im2col.cu.o\u001b[0m\n",
            "nvcc warning : The 'compute_35', 'compute_37', 'compute_50', 'sm_35', 'sm_37' and 'sm_50' architectures are deprecated, and may be removed in a future release (Use -Wno-deprecated-gpu-targets to suppress warning).\n",
            "nvcc warning : The 'compute_35', 'compute_37', 'compute_50', 'sm_35', 'sm_37' and 'sm_50' architectures are deprecated, and may be removed in a future release (Use -Wno-deprecated-gpu-targets to suppress warning).\n",
            "\u001b[35m\u001b[1mScanning dependencies of target caffe\u001b[0m\n",
            "[ 34%] \u001b[32mBuilding CXX object src/caffe/CMakeFiles/caffe.dir/common.cpp.o\u001b[0m\n",
            "[ 34%] \u001b[32mBuilding CXX object src/caffe/CMakeFiles/caffe.dir/blob.cpp.o\u001b[0m\n",
            "[ 34%] \u001b[32mBuilding CXX object src/caffe/CMakeFiles/caffe.dir/data_transformer.cpp.o\u001b[0m\n",
            "[ 35%] \u001b[32mBuilding CXX object src/caffe/CMakeFiles/caffe.dir/internal_thread.cpp.o\u001b[0m\n",
            "[ 35%] \u001b[32mBuilding CXX object src/caffe/CMakeFiles/caffe.dir/layer.cpp.o\u001b[0m\n",
            "[ 36%] \u001b[32mBuilding CXX object src/caffe/CMakeFiles/caffe.dir/layer_factory.cpp.o\u001b[0m\n",
            "[ 36%] \u001b[32mBuilding CXX object src/caffe/CMakeFiles/caffe.dir/layers/absval_layer.cpp.o\u001b[0m\n",
            "[ 36%] \u001b[32mBuilding CXX object src/caffe/CMakeFiles/caffe.dir/layers/accuracy_layer.cpp.o\u001b[0m\n",
            "[ 38%] \u001b[32mBuilding CXX object src/caffe/CMakeFiles/caffe.dir/layers/argmax_layer.cpp.o\u001b[0m\n",
            "[ 38%] \u001b[32mBuilding CXX object src/caffe/CMakeFiles/caffe.dir/layers/base_conv_layer.cpp.o\u001b[0m\n",
            "[ 38%] \u001b[32mBuilding CXX object src/caffe/CMakeFiles/caffe.dir/layers/base_data_layer.cpp.o\u001b[0m\n",
            "[ 39%] \u001b[32mBuilding CXX object src/caffe/CMakeFiles/caffe.dir/layers/batch_norm_layer.cpp.o\u001b[0m\n",
            "[ 39%] \u001b[32mBuilding CXX object src/caffe/CMakeFiles/caffe.dir/layers/batch_reindex_layer.cpp.o\u001b[0m\n",
            "[ 41%] \u001b[32mBuilding CXX object src/caffe/CMakeFiles/caffe.dir/layers/bias_layer.cpp.o\u001b[0m\n",
            "[ 41%] \u001b[32mBuilding CXX object src/caffe/CMakeFiles/caffe.dir/layers/bnll_layer.cpp.o\u001b[0m\n",
            "[ 41%] \u001b[32mBuilding CXX object src/caffe/CMakeFiles/caffe.dir/layers/clip_layer.cpp.o\u001b[0m\n",
            "[ 42%] \u001b[32mBuilding CXX object src/caffe/CMakeFiles/caffe.dir/layers/concat_layer.cpp.o\u001b[0m\n",
            "[ 42%] \u001b[32mBuilding CXX object src/caffe/CMakeFiles/caffe.dir/layers/contrastive_loss_layer.cpp.o\u001b[0m\n",
            "[ 42%] \u001b[32mBuilding CXX object src/caffe/CMakeFiles/caffe.dir/layers/conv_layer.cpp.o\u001b[0m\n",
            "[ 43%] \u001b[32mBuilding CXX object src/caffe/CMakeFiles/caffe.dir/layers/crop_layer.cpp.o\u001b[0m\n",
            "[ 43%] \u001b[32mBuilding CXX object src/caffe/CMakeFiles/caffe.dir/layers/cudnn_conv_layer.cpp.o\u001b[0m\n",
            "[ 45%] \u001b[32mBuilding CXX object src/caffe/CMakeFiles/caffe.dir/layers/cudnn_deconv_layer.cpp.o\u001b[0m\n",
            "[ 45%] \u001b[32mBuilding CXX object src/caffe/CMakeFiles/caffe.dir/layers/cudnn_lcn_layer.cpp.o\u001b[0m\n",
            "[ 45%] \u001b[32mBuilding CXX object src/caffe/CMakeFiles/caffe.dir/layers/cudnn_lrn_layer.cpp.o\u001b[0m\n",
            "[ 46%] \u001b[32mBuilding CXX object src/caffe/CMakeFiles/caffe.dir/layers/cudnn_pooling_layer.cpp.o\u001b[0m\n",
            "[ 46%] \u001b[32mBuilding CXX object src/caffe/CMakeFiles/caffe.dir/layers/cudnn_relu_layer.cpp.o\u001b[0m\n",
            "[ 46%] \u001b[32mBuilding CXX object src/caffe/CMakeFiles/caffe.dir/layers/cudnn_sigmoid_layer.cpp.o\u001b[0m\n",
            "[ 47%] \u001b[32mBuilding CXX object src/caffe/CMakeFiles/caffe.dir/layers/cudnn_softmax_layer.cpp.o\u001b[0m\n",
            "In file included from \u001b[01m\u001b[K/usr/local/cuda/include/thrust/detail/config/config.h:27:0\u001b[m\u001b[K,\n",
            "                 from \u001b[01m\u001b[K/usr/local/cuda/include/thrust/detail/config.h:23\u001b[m\u001b[K,\n",
            "                 from \u001b[01m\u001b[K/usr/local/cuda/include/thrust/device_vector.h:24\u001b[m\u001b[K,\n",
            "                 from \u001b[01m\u001b[K/content/openpose/3rdparty/caffe/src/caffe/layers/cudnn_softmax_layer.cpp:4\u001b[m\u001b[K:\n",
            "\u001b[01m\u001b[K/usr/local/cuda/include/thrust/detail/config/cpp_dialect.h:104:13:\u001b[m\u001b[K \u001b[01;35m\u001b[Kwarning: \u001b[m\u001b[KThrust requires C++14. Please pass -std=c++14 to your compiler. Define THRUST_IGNORE_DEPRECATED_CPP_DIALECT to suppress this message.\n",
            "   THRUST_COM\u001b[01;35m\u001b[KPILER_DEPRECATION(C++14, pass -std=c++14 to your compiler);\u001b[m\u001b[K\n",
            "             \u001b[01;35m\u001b[K^~~~~~~~~~~~~~~~~~~~~~~~~~~~~~~~~~~~~~~~~~~~~~~~~~~~~~~~~~~\u001b[m\u001b[K                                                                            \n",
            "In file included from \u001b[01m\u001b[K/usr/local/cuda/include/cub/util_arch.cuh:36:0\u001b[m\u001b[K,\n",
            "                 from \u001b[01m\u001b[K/usr/local/cuda/include/thrust/system/cuda/detail/util.h:32\u001b[m\u001b[K,\n",
            "                 from \u001b[01m\u001b[K/usr/local/cuda/include/thrust/system/cuda/detail/internal/copy_cross_system.h:39\u001b[m\u001b[K,\n",
            "                 from \u001b[01m\u001b[K/usr/local/cuda/include/thrust/system/cuda/detail/copy.h:100\u001b[m\u001b[K,\n",
            "                 from \u001b[01m\u001b[K/usr/local/cuda/include/thrust/system/detail/adl/copy.h:42\u001b[m\u001b[K,\n",
            "                 from \u001b[01m\u001b[K/usr/local/cuda/include/thrust/detail/copy.inl:22\u001b[m\u001b[K,\n",
            "                 from \u001b[01m\u001b[K/usr/local/cuda/include/thrust/detail/copy.h:90\u001b[m\u001b[K,\n",
            "                 from \u001b[01m\u001b[K/usr/local/cuda/include/thrust/detail/allocator/copy_construct_range.inl:21\u001b[m\u001b[K,\n",
            "                 from \u001b[01m\u001b[K/usr/local/cuda/include/thrust/detail/allocator/copy_construct_range.h:46\u001b[m\u001b[K,\n",
            "                 from \u001b[01m\u001b[K/usr/local/cuda/include/thrust/detail/contiguous_storage.inl:23\u001b[m\u001b[K,\n",
            "                 from \u001b[01m\u001b[K/usr/local/cuda/include/thrust/detail/contiguous_storage.h:235\u001b[m\u001b[K,\n",
            "                 from \u001b[01m\u001b[K/usr/local/cuda/include/thrust/detail/vector_base.h:30\u001b[m\u001b[K,\n",
            "                 from \u001b[01m\u001b[K/usr/local/cuda/include/thrust/device_vector.h:25\u001b[m\u001b[K,\n",
            "                 from \u001b[01m\u001b[K/content/openpose/3rdparty/caffe/src/caffe/layers/cudnn_softmax_layer.cpp:4\u001b[m\u001b[K:\n",
            "\u001b[01m\u001b[K/usr/local/cuda/include/cub/util_cpp_dialect.cuh:129:13:\u001b[m\u001b[K \u001b[01;35m\u001b[Kwarning: \u001b[m\u001b[KCUB requires C++14. Please pass -std=c++14 to your compiler. Define CUB_IGNORE_DEPRECATED_CPP_DIALECT to suppress this message.\n",
            "   CUB_COMPIL\u001b[01;35m\u001b[KER_DEPRECATION(C++14, pass -std=c++14 to your compiler);\u001b[m\u001b[K\n",
            "             \u001b[01;35m\u001b[K^~~~~~~~~~~~~~~~~~~~~~~~~~~~~~~~~~~~~~~~~~~~~~~~~~~~~~~~\u001b[m\u001b[K                                                                         \n",
            "[ 47%] \u001b[32mBuilding CXX object src/caffe/CMakeFiles/caffe.dir/layers/cudnn_tanh_layer.cpp.o\u001b[0m\n",
            "[ 49%] \u001b[32mBuilding CXX object src/caffe/CMakeFiles/caffe.dir/layers/data_layer.cpp.o\u001b[0m\n",
            "[ 49%] \u001b[32mBuilding CXX object src/caffe/CMakeFiles/caffe.dir/layers/deconv_layer.cpp.o\u001b[0m\n",
            "[ 49%] \u001b[32mBuilding CXX object src/caffe/CMakeFiles/caffe.dir/layers/dropout_layer.cpp.o\u001b[0m\n",
            "[ 50%] \u001b[32mBuilding CXX object src/caffe/CMakeFiles/caffe.dir/layers/dummy_data_layer.cpp.o\u001b[0m\n",
            "[ 50%] \u001b[32mBuilding CXX object src/caffe/CMakeFiles/caffe.dir/layers/eltwise_layer.cpp.o\u001b[0m\n",
            "[ 50%] \u001b[32mBuilding CXX object src/caffe/CMakeFiles/caffe.dir/layers/elu_layer.cpp.o\u001b[0m\n",
            "[ 52%] \u001b[32mBuilding CXX object src/caffe/CMakeFiles/caffe.dir/layers/embed_layer.cpp.o\u001b[0m\n",
            "[ 52%] \u001b[32mBuilding CXX object src/caffe/CMakeFiles/caffe.dir/layers/euclidean_loss_layer.cpp.o\u001b[0m\n",
            "[ 53%] \u001b[32mBuilding CXX object src/caffe/CMakeFiles/caffe.dir/layers/exp_layer.cpp.o\u001b[0m\n",
            "[ 53%] \u001b[32mBuilding CXX object src/caffe/CMakeFiles/caffe.dir/layers/filter_layer.cpp.o\u001b[0m\n",
            "[ 53%] \u001b[32mBuilding CXX object src/caffe/CMakeFiles/caffe.dir/layers/flatten_layer.cpp.o\u001b[0m\n",
            "[ 54%] \u001b[32mBuilding CXX object src/caffe/CMakeFiles/caffe.dir/layers/hdf5_data_layer.cpp.o\u001b[0m\n",
            "[ 54%] \u001b[32mBuilding CXX object src/caffe/CMakeFiles/caffe.dir/layers/hdf5_output_layer.cpp.o\u001b[0m\n",
            "[ 56%] \u001b[32mBuilding CXX object src/caffe/CMakeFiles/caffe.dir/layers/hinge_loss_layer.cpp.o\u001b[0m\n",
            "[ 56%] \u001b[32mBuilding CXX object src/caffe/CMakeFiles/caffe.dir/layers/im2col_layer.cpp.o\u001b[0m\n",
            "[ 56%] \u001b[32mBuilding CXX object src/caffe/CMakeFiles/caffe.dir/layers/image_data_layer.cpp.o\u001b[0m\n",
            "[ 57%] \u001b[32mBuilding CXX object src/caffe/CMakeFiles/caffe.dir/layers/infogain_loss_layer.cpp.o\u001b[0m\n",
            "[ 57%] \u001b[32mBuilding CXX object src/caffe/CMakeFiles/caffe.dir/layers/inner_product_layer.cpp.o\u001b[0m\n",
            "[ 57%] \u001b[32mBuilding CXX object src/caffe/CMakeFiles/caffe.dir/layers/input_layer.cpp.o\u001b[0m\n",
            "[ 58%] \u001b[32mBuilding CXX object src/caffe/CMakeFiles/caffe.dir/layers/log_layer.cpp.o\u001b[0m\n",
            "[ 58%] \u001b[32mBuilding CXX object src/caffe/CMakeFiles/caffe.dir/layers/loss_layer.cpp.o\u001b[0m\n",
            "[ 60%] \u001b[32mBuilding CXX object src/caffe/CMakeFiles/caffe.dir/layers/lrn_layer.cpp.o\u001b[0m\n",
            "[ 60%] \u001b[32mBuilding CXX object src/caffe/CMakeFiles/caffe.dir/layers/lstm_layer.cpp.o\u001b[0m\n",
            "[ 60%] \u001b[32mBuilding CXX object src/caffe/CMakeFiles/caffe.dir/layers/lstm_unit_layer.cpp.o\u001b[0m\n",
            "[ 61%] \u001b[32mBuilding CXX object src/caffe/CMakeFiles/caffe.dir/layers/memory_data_layer.cpp.o\u001b[0m\n",
            "[ 61%] \u001b[32mBuilding CXX object src/caffe/CMakeFiles/caffe.dir/layers/multinomial_logistic_loss_layer.cpp.o\u001b[0m\n",
            "[ 61%] \u001b[32mBuilding CXX object src/caffe/CMakeFiles/caffe.dir/layers/mvn_layer.cpp.o\u001b[0m\n",
            "[ 63%] \u001b[32mBuilding CXX object src/caffe/CMakeFiles/caffe.dir/layers/neuron_layer.cpp.o\u001b[0m\n",
            "[ 63%] \u001b[32mBuilding CXX object src/caffe/CMakeFiles/caffe.dir/layers/parameter_layer.cpp.o\u001b[0m\n",
            "[ 64%] \u001b[32mBuilding CXX object src/caffe/CMakeFiles/caffe.dir/layers/pooling_layer.cpp.o\u001b[0m\n",
            "[ 64%] \u001b[32mBuilding CXX object src/caffe/CMakeFiles/caffe.dir/layers/power_layer.cpp.o\u001b[0m\n",
            "[ 64%] \u001b[32mBuilding CXX object src/caffe/CMakeFiles/caffe.dir/layers/prelu_layer.cpp.o\u001b[0m\n",
            "[ 65%] \u001b[32mBuilding CXX object src/caffe/CMakeFiles/caffe.dir/layers/recurrent_layer.cpp.o\u001b[0m\n",
            "[ 65%] \u001b[32mBuilding CXX object src/caffe/CMakeFiles/caffe.dir/layers/reduction_layer.cpp.o\u001b[0m\n",
            "[ 65%] \u001b[32mBuilding CXX object src/caffe/CMakeFiles/caffe.dir/layers/relu_layer.cpp.o\u001b[0m\n",
            "[ 67%] \u001b[32mBuilding CXX object src/caffe/CMakeFiles/caffe.dir/layers/reshape_layer.cpp.o\u001b[0m\n",
            "[ 67%] \u001b[32mBuilding CXX object src/caffe/CMakeFiles/caffe.dir/layers/rnn_layer.cpp.o\u001b[0m\n",
            "[ 68%] \u001b[32mBuilding CXX object src/caffe/CMakeFiles/caffe.dir/layers/scale_layer.cpp.o\u001b[0m\n",
            "[ 68%] \u001b[32mBuilding CXX object src/caffe/CMakeFiles/caffe.dir/layers/sigmoid_cross_entropy_loss_layer.cpp.o\u001b[0m\n",
            "[ 68%] \u001b[32mBuilding CXX object src/caffe/CMakeFiles/caffe.dir/layers/sigmoid_layer.cpp.o\u001b[0m\n",
            "[ 69%] \u001b[32mBuilding CXX object src/caffe/CMakeFiles/caffe.dir/layers/silence_layer.cpp.o\u001b[0m\n",
            "[ 69%] \u001b[32mBuilding CXX object src/caffe/CMakeFiles/caffe.dir/layers/slice_layer.cpp.o\u001b[0m\n",
            "[ 69%] \u001b[32mBuilding CXX object src/caffe/CMakeFiles/caffe.dir/layers/softmax_layer.cpp.o\u001b[0m\n",
            "[ 71%] \u001b[32mBuilding CXX object src/caffe/CMakeFiles/caffe.dir/layers/softmax_loss_layer.cpp.o\u001b[0m\n",
            "[ 71%] \u001b[32mBuilding CXX object src/caffe/CMakeFiles/caffe.dir/layers/split_layer.cpp.o\u001b[0m\n",
            "[ 72%] \u001b[32mBuilding CXX object src/caffe/CMakeFiles/caffe.dir/layers/spp_layer.cpp.o\u001b[0m\n",
            "[ 72%] \u001b[32mBuilding CXX object src/caffe/CMakeFiles/caffe.dir/layers/swish_layer.cpp.o\u001b[0m\n",
            "[ 72%] \u001b[32mBuilding CXX object src/caffe/CMakeFiles/caffe.dir/layers/tanh_layer.cpp.o\u001b[0m\n",
            "[ 73%] \u001b[32mBuilding CXX object src/caffe/CMakeFiles/caffe.dir/layers/threshold_layer.cpp.o\u001b[0m\n",
            "[ 73%] \u001b[32mBuilding CXX object src/caffe/CMakeFiles/caffe.dir/layers/tile_layer.cpp.o\u001b[0m\n",
            "[ 73%] \u001b[32mBuilding CXX object src/caffe/CMakeFiles/caffe.dir/layers/window_data_layer.cpp.o\u001b[0m\n",
            "[ 75%] \u001b[32mBuilding CXX object src/caffe/CMakeFiles/caffe.dir/net.cpp.o\u001b[0m\n",
            "[ 75%] \u001b[32mBuilding CXX object src/caffe/CMakeFiles/caffe.dir/parallel.cpp.o\u001b[0m\n",
            "[ 76%] \u001b[32mBuilding CXX object src/caffe/CMakeFiles/caffe.dir/solver.cpp.o\u001b[0m\n",
            "[ 76%] \u001b[32mBuilding CXX object src/caffe/CMakeFiles/caffe.dir/solvers/adadelta_solver.cpp.o\u001b[0m\n",
            "[ 76%] \u001b[32mBuilding CXX object src/caffe/CMakeFiles/caffe.dir/solvers/adagrad_solver.cpp.o\u001b[0m\n",
            "[ 78%] \u001b[32mBuilding CXX object src/caffe/CMakeFiles/caffe.dir/solvers/adam_solver.cpp.o\u001b[0m\n",
            "[ 78%] \u001b[32mBuilding CXX object src/caffe/CMakeFiles/caffe.dir/solvers/nesterov_solver.cpp.o\u001b[0m\n",
            "[ 78%] \u001b[32mBuilding CXX object src/caffe/CMakeFiles/caffe.dir/solvers/rmsprop_solver.cpp.o\u001b[0m\n",
            "[ 79%] \u001b[32mBuilding CXX object src/caffe/CMakeFiles/caffe.dir/solvers/sgd_solver.cpp.o\u001b[0m\n",
            "[ 79%] \u001b[32mBuilding CXX object src/caffe/CMakeFiles/caffe.dir/syncedmem.cpp.o\u001b[0m\n",
            "[ 80%] \u001b[32mBuilding CXX object src/caffe/CMakeFiles/caffe.dir/util/benchmark.cpp.o\u001b[0m\n",
            "[ 80%] \u001b[32mBuilding CXX object src/caffe/CMakeFiles/caffe.dir/util/blocking_queue.cpp.o\u001b[0m\n",
            "[ 80%] \u001b[32mBuilding CXX object src/caffe/CMakeFiles/caffe.dir/util/cudnn.cpp.o\u001b[0m\n",
            "[ 82%] \u001b[32mBuilding CXX object src/caffe/CMakeFiles/caffe.dir/util/db.cpp.o\u001b[0m\n",
            "[ 82%] \u001b[32mBuilding CXX object src/caffe/CMakeFiles/caffe.dir/util/db_leveldb.cpp.o\u001b[0m\n",
            "[ 83%] \u001b[32mBuilding CXX object src/caffe/CMakeFiles/caffe.dir/util/db_lmdb.cpp.o\u001b[0m\n",
            "[ 83%] \u001b[32mBuilding CXX object src/caffe/CMakeFiles/caffe.dir/util/hdf5.cpp.o\u001b[0m\n",
            "[ 83%] \u001b[32mBuilding CXX object src/caffe/CMakeFiles/caffe.dir/util/im2col.cpp.o\u001b[0m\n",
            "[ 84%] \u001b[32mBuilding CXX object src/caffe/CMakeFiles/caffe.dir/util/insert_splits.cpp.o\u001b[0m\n",
            "[ 84%] \u001b[32mBuilding CXX object src/caffe/CMakeFiles/caffe.dir/util/io.cpp.o\u001b[0m\n",
            "[ 84%] \u001b[32mBuilding CXX object src/caffe/CMakeFiles/caffe.dir/util/math_functions.cpp.o\u001b[0m\n",
            "[ 86%] \u001b[32mBuilding CXX object src/caffe/CMakeFiles/caffe.dir/util/signal_handler.cpp.o\u001b[0m\n",
            "[ 86%] \u001b[32mBuilding CXX object src/caffe/CMakeFiles/caffe.dir/util/upgrade_proto.cpp.o\u001b[0m\n",
            "[ 87%] \u001b[32m\u001b[1mLinking CXX shared library ../../lib/libcaffe.so\u001b[0m\n",
            "[ 87%] Built target caffe\n",
            "\u001b[35m\u001b[1mScanning dependencies of target upgrade_solver_proto_text\u001b[0m\n",
            "\u001b[35m\u001b[1mScanning dependencies of target compute_image_mean\u001b[0m\n",
            "[ 89%] \u001b[32mBuilding CXX object tools/CMakeFiles/compute_image_mean.dir/compute_image_mean.cpp.o\u001b[0m\n",
            "[ 89%] \u001b[32mBuilding CXX object tools/CMakeFiles/upgrade_solver_proto_text.dir/upgrade_solver_proto_text.cpp.o\u001b[0m\n",
            "[ 89%] \u001b[32m\u001b[1mLinking CXX executable compute_image_mean\u001b[0m\n",
            "[ 89%] Built target compute_image_mean\n",
            "\u001b[35m\u001b[1mScanning dependencies of target caffe.bin\u001b[0m\n",
            "[ 89%] \u001b[32mBuilding CXX object tools/CMakeFiles/caffe.bin.dir/caffe.cpp.o\u001b[0m\n",
            "[ 90%] \u001b[32m\u001b[1mLinking CXX executable upgrade_solver_proto_text\u001b[0m\n",
            "[ 90%] Built target upgrade_solver_proto_text\n",
            "\u001b[35m\u001b[1mScanning dependencies of target upgrade_net_proto_binary\u001b[0m\n",
            "[ 91%] \u001b[32mBuilding CXX object tools/CMakeFiles/upgrade_net_proto_binary.dir/upgrade_net_proto_binary.cpp.o\u001b[0m\n",
            "[ 91%] \u001b[32m\u001b[1mLinking CXX executable upgrade_net_proto_binary\u001b[0m\n",
            "[ 91%] Built target upgrade_net_proto_binary\n",
            "\u001b[35m\u001b[1mScanning dependencies of target convert_imageset\u001b[0m\n",
            "[ 91%] \u001b[32mBuilding CXX object tools/CMakeFiles/convert_imageset.dir/convert_imageset.cpp.o\u001b[0m\n",
            "[ 91%] \u001b[32m\u001b[1mLinking CXX executable caffe\u001b[0m\n",
            "[ 91%] Built target caffe.bin\n",
            "\u001b[35m\u001b[1mScanning dependencies of target extract_features\u001b[0m\n",
            "[ 91%] \u001b[32mBuilding CXX object tools/CMakeFiles/extract_features.dir/extract_features.cpp.o\u001b[0m\n",
            "[ 91%] \u001b[32m\u001b[1mLinking CXX executable convert_imageset\u001b[0m\n",
            "[ 91%] Built target convert_imageset\n",
            "\u001b[35m\u001b[1mScanning dependencies of target upgrade_net_proto_text\u001b[0m\n",
            "[ 91%] \u001b[32mBuilding CXX object tools/CMakeFiles/upgrade_net_proto_text.dir/upgrade_net_proto_text.cpp.o\u001b[0m\n",
            "[ 93%] \u001b[32m\u001b[1mLinking CXX executable extract_features\u001b[0m\n",
            "[ 93%] Built target extract_features\n",
            "\u001b[35m\u001b[1mScanning dependencies of target classification\u001b[0m\n",
            "[ 94%] \u001b[32mBuilding CXX object examples/CMakeFiles/classification.dir/cpp_classification/classification.cpp.o\u001b[0m\n",
            "[ 95%] \u001b[32m\u001b[1mLinking CXX executable upgrade_net_proto_text\u001b[0m\n",
            "[ 95%] Built target upgrade_net_proto_text\n",
            "\u001b[35m\u001b[1mScanning dependencies of target convert_mnist_data\u001b[0m\n",
            "[ 97%] \u001b[32mBuilding CXX object examples/CMakeFiles/convert_mnist_data.dir/mnist/convert_mnist_data.cpp.o\u001b[0m\n",
            "[ 97%] \u001b[32m\u001b[1mLinking CXX executable mnist/convert_mnist_data\u001b[0m\n",
            "[ 97%] Built target convert_mnist_data\n",
            "\u001b[35m\u001b[1mScanning dependencies of target convert_cifar_data\u001b[0m\n",
            "[ 97%] \u001b[32mBuilding CXX object examples/CMakeFiles/convert_cifar_data.dir/cifar10/convert_cifar_data.cpp.o\u001b[0m\n",
            "[ 97%] \u001b[32m\u001b[1mLinking CXX executable cpp_classification/classification\u001b[0m\n",
            "[ 97%] Built target classification\n",
            "\u001b[35m\u001b[1mScanning dependencies of target convert_mnist_siamese_data\u001b[0m\n",
            "[ 98%] \u001b[32mBuilding CXX object examples/CMakeFiles/convert_mnist_siamese_data.dir/siamese/convert_mnist_siamese_data.cpp.o\u001b[0m\n",
            "[100%] \u001b[32m\u001b[1mLinking CXX executable cifar10/convert_cifar_data\u001b[0m\n",
            "[100%] Built target convert_cifar_data\n",
            "[100%] \u001b[32m\u001b[1mLinking CXX executable siamese/convert_mnist_siamese_data\u001b[0m\n",
            "[100%] Built target convert_mnist_siamese_data\n",
            "[ 87%] \u001b[34m\u001b[1mPerforming install step for 'openpose_lib'\u001b[0m\n",
            "-- Boost version: 1.65.1\n",
            "-- Found the following Boost libraries:\n",
            "--   system\n",
            "--   thread\n",
            "--   filesystem\n",
            "--   chrono\n",
            "--   date_time\n",
            "--   atomic\n",
            "-- Found gflags  (include: /usr/include, library: /usr/lib/x86_64-linux-gnu/libgflags.so)\n",
            "-- Found glog    (include: /usr/include, library: /usr/lib/x86_64-linux-gnu/libglog.so)\n",
            "-- Found PROTOBUF Compiler: /usr/bin/protoc\n",
            "-- HDF5: Using hdf5 compiler wrapper to determine C configuration\n",
            "-- HDF5: Using hdf5 compiler wrapper to determine CXX configuration\n",
            "-- CUDA detected: 11.1\n",
            "-- Found cuDNN: ver. 7.6.5 found (include: /usr/include, library: /usr/lib/x86_64-linux-gnu/libcudnn.so)\n",
            "-- Added CUDA NVCC flags for: sm_37\n",
            "-- Found Atlas (include: /usr/include/x86_64-linux-gnu library: /usr/lib/x86_64-linux-gnu/libatlas.so lapack: /usr/lib/x86_64-linux-gnu/liblapack.so\n",
            "-- Python interface is disabled or not all required dependencies found. Building without it...\n",
            "-- \n",
            "-- ******************* Caffe Configuration Summary *******************\n",
            "-- General:\n",
            "--   Version           :   1.0.0\n",
            "--   Git               :   1.0-149-g1807aada\n",
            "--   System            :   Linux\n",
            "--   C++ compiler      :   /usr/bin/c++\n",
            "--   Release CXX flags :   -O3 -DNDEBUG -fPIC -Wall -std=c++11 -Wno-sign-compare -Wno-uninitialized\n",
            "--   Debug CXX flags   :   -g -fPIC -Wall -std=c++11 -Wno-sign-compare -Wno-uninitialized\n",
            "--   Build type        :   Release\n",
            "-- \n",
            "--   BUILD_SHARED_LIBS :   ON\n",
            "--   BUILD_python      :   OFF\n",
            "--   BUILD_matlab      :   OFF\n",
            "--   BUILD_docs        :   OFF\n",
            "--   CPU_ONLY          :   OFF\n",
            "--   USE_OPENCV        :   OFF\n",
            "--   USE_LEVELDB       :   OFF\n",
            "--   USE_LMDB          :   OFF\n",
            "--   USE_NCCL          :   OFF\n",
            "--   ALLOW_LMDB_NOLOCK :   OFF\n",
            "--   USE_HDF5          :   ON\n",
            "-- \n",
            "-- Dependencies:\n",
            "--   BLAS              :   Yes (Atlas)\n",
            "--   Boost             :   Yes (ver. 1.65)\n",
            "--   glog              :   Yes\n",
            "--   gflags            :   Yes\n",
            "--   protobuf          :   Yes (ver. 3.0.0)\n",
            "--   CUDA              :   Yes (ver. 11.1)\n",
            "-- \n",
            "-- NVIDIA CUDA:\n",
            "--   Target GPU(s)     :   Auto\n",
            "--   GPU arch(s)       :   sm_37\n",
            "--   cuDNN             :   Yes (ver. 7.6.5)\n",
            "-- \n",
            "-- Install:\n",
            "--   Install path      :   /content/openpose/build/caffe\n",
            "-- \n",
            "-- Configuring done\n",
            "-- Generating done\n",
            "-- Build files have been written to: /content/openpose/build/caffe/src/openpose_lib-build\n",
            "[  2%] Built target caffeproto\n",
            "\u001b[35m\u001b[1mScanning dependencies of target caffe\u001b[0m\n",
            "[  4%] \u001b[32m\u001b[1mLinking CXX shared library ../../lib/libcaffe.so\u001b[0m\n",
            "[ 89%] Built target caffe\n",
            "[ 90%] \u001b[32m\u001b[1mLinking CXX executable compute_image_mean\u001b[0m\n",
            "[ 90%] \u001b[32m\u001b[1mLinking CXX executable upgrade_solver_proto_text\u001b[0m\n",
            "[ 91%] Built target compute_image_mean\n",
            "[ 91%] \u001b[32m\u001b[1mLinking CXX executable caffe\u001b[0m\n",
            "[ 91%] Built target upgrade_solver_proto_text\n",
            "[ 91%] \u001b[32m\u001b[1mLinking CXX executable upgrade_net_proto_binary\u001b[0m\n",
            "[ 91%] Built target caffe.bin\n",
            "[ 93%] \u001b[32m\u001b[1mLinking CXX executable convert_imageset\u001b[0m\n",
            "[ 94%] Built target upgrade_net_proto_binary\n",
            "[ 95%] \u001b[32m\u001b[1mLinking CXX executable extract_features\u001b[0m\n",
            "[ 95%] Built target convert_imageset\n",
            "[ 97%] \u001b[32m\u001b[1mLinking CXX executable upgrade_net_proto_text\u001b[0m\n",
            "[ 97%] Built target extract_features\n",
            "[ 97%] \u001b[32m\u001b[1mLinking CXX executable cpp_classification/classification\u001b[0m\n",
            "[ 97%] Built target upgrade_net_proto_text\n",
            "[ 97%] \u001b[32m\u001b[1mLinking CXX executable mnist/convert_mnist_data\u001b[0m\n",
            "[ 97%] Built target classification\n",
            "[ 98%] \u001b[32m\u001b[1mLinking CXX executable cifar10/convert_cifar_data\u001b[0m\n",
            "[ 98%] Built target convert_mnist_data\n",
            "[ 98%] \u001b[32m\u001b[1mLinking CXX executable siamese/convert_mnist_siamese_data\u001b[0m\n",
            "[100%] Built target convert_mnist_siamese_data\n",
            "[100%] Built target convert_cifar_data\n",
            "\u001b[36mInstall the project...\u001b[0m\n",
            "-- Install configuration: \"Release\"\n",
            "-- Installing: /content/openpose/build/caffe/share/Caffe/CaffeConfig.cmake\n",
            "-- Installing: /content/openpose/build/caffe/share/Caffe/CaffeTargets.cmake\n",
            "-- Installing: /content/openpose/build/caffe/share/Caffe/CaffeTargets-release.cmake\n",
            "-- Installing: /content/openpose/build/caffe/include/caffe\n",
            "-- Installing: /content/openpose/build/caffe/include/caffe/sgd_solvers.hpp\n",
            "-- Installing: /content/openpose/build/caffe/include/caffe/filler.hpp\n",
            "-- Installing: /content/openpose/build/caffe/include/caffe/layer_factory.hpp\n",
            "-- Installing: /content/openpose/build/caffe/include/caffe/layer.hpp\n",
            "-- Installing: /content/openpose/build/caffe/include/caffe/internal_thread.hpp\n",
            "-- Installing: /content/openpose/build/caffe/include/caffe/net.hpp\n",
            "-- Installing: /content/openpose/build/caffe/include/caffe/test\n",
            "-- Installing: /content/openpose/build/caffe/include/caffe/test/test_caffe_main.hpp\n",
            "-- Installing: /content/openpose/build/caffe/include/caffe/test/test_gradient_check_util.hpp\n",
            "-- Installing: /content/openpose/build/caffe/include/caffe/syncedmem.hpp\n",
            "-- Installing: /content/openpose/build/caffe/include/caffe/solver.hpp\n",
            "-- Installing: /content/openpose/build/caffe/include/caffe/caffe.hpp\n",
            "-- Installing: /content/openpose/build/caffe/include/caffe/util\n",
            "-- Installing: /content/openpose/build/caffe/include/caffe/util/upgrade_proto.hpp\n",
            "-- Installing: /content/openpose/build/caffe/include/caffe/util/signal_handler.h\n",
            "-- Installing: /content/openpose/build/caffe/include/caffe/util/device_alternate.hpp\n",
            "-- Installing: /content/openpose/build/caffe/include/caffe/util/im2col.hpp\n",
            "-- Installing: /content/openpose/build/caffe/include/caffe/util/db_lmdb.hpp\n",
            "-- Installing: /content/openpose/build/caffe/include/caffe/util/io.hpp\n",
            "-- Installing: /content/openpose/build/caffe/include/caffe/util/insert_splits.hpp\n",
            "-- Installing: /content/openpose/build/caffe/include/caffe/util/format.hpp\n",
            "-- Installing: /content/openpose/build/caffe/include/caffe/util/db.hpp\n",
            "-- Installing: /content/openpose/build/caffe/include/caffe/util/benchmark.hpp\n",
            "-- Installing: /content/openpose/build/caffe/include/caffe/util/cudnn.hpp\n",
            "-- Installing: /content/openpose/build/caffe/include/caffe/util/gpu_util.cuh\n",
            "-- Installing: /content/openpose/build/caffe/include/caffe/util/math_functions.hpp\n",
            "-- Installing: /content/openpose/build/caffe/include/caffe/util/hdf5.hpp\n",
            "-- Installing: /content/openpose/build/caffe/include/caffe/util/nccl.hpp\n",
            "-- Installing: /content/openpose/build/caffe/include/caffe/util/db_leveldb.hpp\n",
            "-- Installing: /content/openpose/build/caffe/include/caffe/util/blocking_queue.hpp\n",
            "-- Installing: /content/openpose/build/caffe/include/caffe/util/mkl_alternate.hpp\n",
            "-- Installing: /content/openpose/build/caffe/include/caffe/util/rng.hpp\n",
            "-- Installing: /content/openpose/build/caffe/include/caffe/data_transformer.hpp\n",
            "-- Installing: /content/openpose/build/caffe/include/caffe/blob.hpp\n",
            "-- Installing: /content/openpose/build/caffe/include/caffe/layers\n",
            "-- Installing: /content/openpose/build/caffe/include/caffe/layers/cudnn_sigmoid_layer.hpp\n",
            "-- Installing: /content/openpose/build/caffe/include/caffe/layers/image_data_layer.hpp\n",
            "-- Installing: /content/openpose/build/caffe/include/caffe/layers/rnn_layer.hpp\n",
            "-- Installing: /content/openpose/build/caffe/include/caffe/layers/dropout_layer.hpp\n",
            "-- Installing: /content/openpose/build/caffe/include/caffe/layers/cudnn_tanh_layer.hpp\n",
            "-- Installing: /content/openpose/build/caffe/include/caffe/layers/swish_layer.hpp\n",
            "-- Installing: /content/openpose/build/caffe/include/caffe/layers/softmax_loss_layer.hpp\n",
            "-- Installing: /content/openpose/build/caffe/include/caffe/layers/cudnn_pooling_layer.hpp\n",
            "-- Installing: /content/openpose/build/caffe/include/caffe/layers/sigmoid_cross_entropy_loss_layer.hpp\n",
            "-- Installing: /content/openpose/build/caffe/include/caffe/layers/lrn_layer.hpp\n",
            "-- Installing: /content/openpose/build/caffe/include/caffe/layers/exp_layer.hpp\n",
            "-- Installing: /content/openpose/build/caffe/include/caffe/layers/scale_layer.hpp\n",
            "-- Installing: /content/openpose/build/caffe/include/caffe/layers/bias_layer.hpp\n",
            "-- Installing: /content/openpose/build/caffe/include/caffe/layers/slice_layer.hpp\n",
            "-- Installing: /content/openpose/build/caffe/include/caffe/layers/hinge_loss_layer.hpp\n",
            "-- Installing: /content/openpose/build/caffe/include/caffe/layers/hdf5_data_layer.hpp\n",
            "-- Installing: /content/openpose/build/caffe/include/caffe/layers/concat_layer.hpp\n",
            "-- Installing: /content/openpose/build/caffe/include/caffe/layers/python_layer.hpp\n",
            "-- Installing: /content/openpose/build/caffe/include/caffe/layers/dummy_data_layer.hpp\n",
            "-- Installing: /content/openpose/build/caffe/include/caffe/layers/conv_layer.hpp\n",
            "-- Installing: /content/openpose/build/caffe/include/caffe/layers/cudnn_lrn_layer.hpp\n",
            "-- Installing: /content/openpose/build/caffe/include/caffe/layers/memory_data_layer.hpp\n",
            "-- Installing: /content/openpose/build/caffe/include/caffe/layers/batch_norm_layer.hpp\n",
            "-- Installing: /content/openpose/build/caffe/include/caffe/layers/base_conv_layer.hpp\n",
            "-- Installing: /content/openpose/build/caffe/include/caffe/layers/euclidean_loss_layer.hpp\n",
            "-- Installing: /content/openpose/build/caffe/include/caffe/layers/flatten_layer.hpp\n",
            "-- Installing: /content/openpose/build/caffe/include/caffe/layers/recurrent_layer.hpp\n",
            "-- Installing: /content/openpose/build/caffe/include/caffe/layers/accuracy_layer.hpp\n",
            "-- Installing: /content/openpose/build/caffe/include/caffe/layers/argmax_layer.hpp\n",
            "-- Installing: /content/openpose/build/caffe/include/caffe/layers/spp_layer.hpp\n",
            "-- Installing: /content/openpose/build/caffe/include/caffe/layers/clip_layer.hpp\n",
            "-- Installing: /content/openpose/build/caffe/include/caffe/layers/data_layer.hpp\n",
            "-- Installing: /content/openpose/build/caffe/include/caffe/layers/mvn_layer.hpp\n",
            "-- Installing: /content/openpose/build/caffe/include/caffe/layers/cudnn_deconv_layer.hpp\n",
            "-- Installing: /content/openpose/build/caffe/include/caffe/layers/power_layer.hpp\n",
            "-- Installing: /content/openpose/build/caffe/include/caffe/layers/tile_layer.hpp\n",
            "-- Installing: /content/openpose/build/caffe/include/caffe/layers/inner_product_layer.hpp\n",
            "-- Installing: /content/openpose/build/caffe/include/caffe/layers/reduction_layer.hpp\n",
            "-- Installing: /content/openpose/build/caffe/include/caffe/layers/window_data_layer.hpp\n",
            "-- Installing: /content/openpose/build/caffe/include/caffe/layers/im2col_layer.hpp\n",
            "-- Installing: /content/openpose/build/caffe/include/caffe/layers/eltwise_layer.hpp\n",
            "-- Installing: /content/openpose/build/caffe/include/caffe/layers/silence_layer.hpp\n",
            "-- Installing: /content/openpose/build/caffe/include/caffe/layers/split_layer.hpp\n",
            "-- Installing: /content/openpose/build/caffe/include/caffe/layers/bnll_layer.hpp\n",
            "-- Installing: /content/openpose/build/caffe/include/caffe/layers/cudnn_lcn_layer.hpp\n",
            "-- Installing: /content/openpose/build/caffe/include/caffe/layers/contrastive_loss_layer.hpp\n",
            "-- Installing: /content/openpose/build/caffe/include/caffe/layers/elu_layer.hpp\n",
            "-- Installing: /content/openpose/build/caffe/include/caffe/layers/crop_layer.hpp\n",
            "-- Installing: /content/openpose/build/caffe/include/caffe/layers/lstm_layer.hpp\n",
            "-- Installing: /content/openpose/build/caffe/include/caffe/layers/deconv_layer.hpp\n",
            "-- Installing: /content/openpose/build/caffe/include/caffe/layers/pooling_layer.hpp\n",
            "-- Installing: /content/openpose/build/caffe/include/caffe/layers/loss_layer.hpp\n",
            "-- Installing: /content/openpose/build/caffe/include/caffe/layers/sigmoid_layer.hpp\n",
            "-- Installing: /content/openpose/build/caffe/include/caffe/layers/parameter_layer.hpp\n",
            "-- Installing: /content/openpose/build/caffe/include/caffe/layers/cudnn_relu_layer.hpp\n",
            "-- Installing: /content/openpose/build/caffe/include/caffe/layers/batch_reindex_layer.hpp\n",
            "-- Installing: /content/openpose/build/caffe/include/caffe/layers/relu_layer.hpp\n",
            "-- Installing: /content/openpose/build/caffe/include/caffe/layers/base_data_layer.hpp\n",
            "-- Installing: /content/openpose/build/caffe/include/caffe/layers/cudnn_conv_layer.hpp\n",
            "-- Installing: /content/openpose/build/caffe/include/caffe/layers/tanh_layer.hpp\n",
            "-- Installing: /content/openpose/build/caffe/include/caffe/layers/embed_layer.hpp\n",
            "-- Installing: /content/openpose/build/caffe/include/caffe/layers/infogain_loss_layer.hpp\n",
            "-- Installing: /content/openpose/build/caffe/include/caffe/layers/prelu_layer.hpp\n",
            "-- Installing: /content/openpose/build/caffe/include/caffe/layers/filter_layer.hpp\n",
            "-- Installing: /content/openpose/build/caffe/include/caffe/layers/input_layer.hpp\n",
            "-- Installing: /content/openpose/build/caffe/include/caffe/layers/cudnn_softmax_layer.hpp\n",
            "-- Installing: /content/openpose/build/caffe/include/caffe/layers/softmax_layer.hpp\n",
            "-- Installing: /content/openpose/build/caffe/include/caffe/layers/multinomial_logistic_loss_layer.hpp\n",
            "-- Installing: /content/openpose/build/caffe/include/caffe/layers/reshape_layer.hpp\n",
            "-- Installing: /content/openpose/build/caffe/include/caffe/layers/neuron_layer.hpp\n",
            "-- Installing: /content/openpose/build/caffe/include/caffe/layers/hdf5_output_layer.hpp\n",
            "-- Installing: /content/openpose/build/caffe/include/caffe/layers/threshold_layer.hpp\n",
            "-- Installing: /content/openpose/build/caffe/include/caffe/layers/log_layer.hpp\n",
            "-- Installing: /content/openpose/build/caffe/include/caffe/layers/absval_layer.hpp\n",
            "-- Installing: /content/openpose/build/caffe/include/caffe/solver_factory.hpp\n",
            "-- Installing: /content/openpose/build/caffe/include/caffe/common.hpp\n",
            "-- Installing: /content/openpose/build/caffe/include/caffe/parallel.hpp\n",
            "-- Installing: /content/openpose/build/caffe/include/caffe/proto/caffe.pb.h\n",
            "-- Installing: /content/openpose/build/caffe/lib/libcaffe.so.1.0.0\n",
            "-- Set runtime path of \"/content/openpose/build/caffe/lib/libcaffe.so.1.0.0\" to \"/content/openpose/build/caffe/lib:/usr/lib/x86_64-linux-gnu/hdf5/serial:/usr/local/cuda/lib64\"\n",
            "-- Installing: /content/openpose/build/caffe/lib/libcaffe.so\n",
            "-- Installing: /content/openpose/build/caffe/lib/libcaffeproto.a\n",
            "-- Installing: /content/openpose/build/caffe/python/caffe/proto/caffe_pb2.py\n",
            "-- Installing: /content/openpose/build/caffe/python/caffe/proto/__init__.py\n",
            "-- Installing: /content/openpose/build/caffe/bin/caffe\n",
            "-- Set runtime path of \"/content/openpose/build/caffe/bin/caffe\" to \"/content/openpose/build/caffe/lib:/usr/lib/x86_64-linux-gnu/hdf5/serial:/usr/local/cuda/lib64\"\n",
            "-- Installing: /content/openpose/build/caffe/bin/compute_image_mean\n",
            "-- Set runtime path of \"/content/openpose/build/caffe/bin/compute_image_mean\" to \"/content/openpose/build/caffe/lib:/usr/lib/x86_64-linux-gnu/hdf5/serial:/usr/local/cuda/lib64\"\n",
            "-- Installing: /content/openpose/build/caffe/bin/convert_imageset\n",
            "-- Set runtime path of \"/content/openpose/build/caffe/bin/convert_imageset\" to \"/content/openpose/build/caffe/lib:/usr/lib/x86_64-linux-gnu/hdf5/serial:/usr/local/cuda/lib64\"\n",
            "-- Installing: /content/openpose/build/caffe/bin/extract_features\n",
            "-- Set runtime path of \"/content/openpose/build/caffe/bin/extract_features\" to \"/content/openpose/build/caffe/lib:/usr/lib/x86_64-linux-gnu/hdf5/serial:/usr/local/cuda/lib64\"\n",
            "-- Installing: /content/openpose/build/caffe/bin/upgrade_net_proto_binary\n",
            "-- Set runtime path of \"/content/openpose/build/caffe/bin/upgrade_net_proto_binary\" to \"/content/openpose/build/caffe/lib:/usr/lib/x86_64-linux-gnu/hdf5/serial:/usr/local/cuda/lib64\"\n",
            "-- Installing: /content/openpose/build/caffe/bin/upgrade_net_proto_text\n",
            "-- Set runtime path of \"/content/openpose/build/caffe/bin/upgrade_net_proto_text\" to \"/content/openpose/build/caffe/lib:/usr/lib/x86_64-linux-gnu/hdf5/serial:/usr/local/cuda/lib64\"\n",
            "-- Installing: /content/openpose/build/caffe/bin/upgrade_solver_proto_text\n",
            "-- Set runtime path of \"/content/openpose/build/caffe/bin/upgrade_solver_proto_text\" to \"/content/openpose/build/caffe/lib:/usr/lib/x86_64-linux-gnu/hdf5/serial:/usr/local/cuda/lib64\"\n",
            "-- Installing: /content/openpose/build/caffe/bin/convert_cifar_data\n",
            "-- Set runtime path of \"/content/openpose/build/caffe/bin/convert_cifar_data\" to \"/content/openpose/build/caffe/lib:/usr/lib/x86_64-linux-gnu/hdf5/serial:/usr/local/cuda/lib64\"\n",
            "-- Installing: /content/openpose/build/caffe/bin/classification\n",
            "-- Set runtime path of \"/content/openpose/build/caffe/bin/classification\" to \"/content/openpose/build/caffe/lib:/usr/lib/x86_64-linux-gnu/hdf5/serial:/usr/local/cuda/lib64\"\n",
            "-- Installing: /content/openpose/build/caffe/bin/convert_mnist_data\n",
            "-- Set runtime path of \"/content/openpose/build/caffe/bin/convert_mnist_data\" to \"/content/openpose/build/caffe/lib:/usr/lib/x86_64-linux-gnu/hdf5/serial:/usr/local/cuda/lib64\"\n",
            "-- Installing: /content/openpose/build/caffe/bin/convert_mnist_siamese_data\n",
            "-- Set runtime path of \"/content/openpose/build/caffe/bin/convert_mnist_siamese_data\" to \"/content/openpose/build/caffe/lib:/usr/lib/x86_64-linux-gnu/hdf5/serial:/usr/local/cuda/lib64\"\n",
            "[100%] \u001b[34m\u001b[1mCompleted 'openpose_lib'\u001b[0m\n",
            "\u001b[34m\u001b[1mRerunning cmake after building Caffe submodule\u001b[0m\n",
            "-- GCC detected, adding compile flags\n",
            "-- GCC detected, adding compile flags\n",
            "-- Building with CUDA.\n",
            "-- CUDA detected: 11.1\n",
            "-- Found cuDNN: ver. 7.6.5 found (include: /usr/include, library: /usr/lib/x86_64-linux-gnu/libcudnn.so)\n",
            "-- Added CUDA NVCC flags for: sm_37\n",
            "-- Found cuDNN: ver. 7.6.5 found (include: /usr/include, library: /usr/lib/x86_64-linux-gnu/libcudnn.so)\n",
            "-- Found gflags  (include: /usr/include, library: /usr/lib/x86_64-linux-gnu/libgflags.so)\n",
            "-- Found glog    (include: /usr/include, library: /usr/lib/x86_64-linux-gnu/libglog.so)\n",
            "-- Caffe will be downloaded from source now. NOTE: This process might take several minutes depending\n",
            "        on your internet connection.\n",
            "-- Caffe has already been downloaded.\n",
            "HEAD is now at 1807aada Added Ampere arch's (CUDA11)\n",
            "-- Caffe will be built from source now.\n",
            "-- Adding Example calibration.bin\n",
            "-- Adding Example tutorial_add_module_custom_post_processing.bin\n",
            "-- Adding Example tutorial_api_thread_1_user_processing_function.bin\n",
            "-- Adding Example tutorial_api_thread_2_user_input_processing_output_and_datum.bin\n",
            "-- Adding Example openpose.bin\n",
            "-- Adding Example 01_body_from_image_default.bin\n",
            "-- Adding Example 02_whole_body_from_image_default.bin\n",
            "-- Adding Example 03_keypoints_from_image.bin\n",
            "-- Adding Example 04_keypoints_from_images.bin\n",
            "-- Adding Example 05_keypoints_from_images_multi_gpu.bin\n",
            "-- Adding Example 06_face_from_image.bin\n",
            "-- Adding Example 07_hand_from_image.bin\n",
            "-- Adding Example 08_heatmaps_from_image.bin\n",
            "-- Adding Example 09_keypoints_from_heatmaps.bin\n",
            "-- Adding Example 10_asynchronous_custom_input.bin\n",
            "-- Adding Example 11_asynchronous_custom_input_multi_camera.bin\n",
            "-- Adding Example 12_asynchronous_custom_output.bin\n",
            "-- Adding Example 13_asynchronous_custom_input_output_and_datum.bin\n",
            "-- Adding Example 14_synchronous_custom_input.bin\n",
            "-- Adding Example 15_synchronous_custom_preprocessing.bin\n",
            "-- Adding Example 16_synchronous_custom_postprocessing.bin\n",
            "-- Adding Example 17_synchronous_custom_output.bin\n",
            "-- Adding Example 18_synchronous_custom_all_and_datum.bin\n",
            "-- Adding Example handFromJsonTest.bin\n",
            "-- Adding Example resizeTest.bin\n",
            "-- Download the models.\n",
            "-- Downloading BODY_25 model...\n",
            "-- Model already exists.\n",
            "-- Not downloading body (COCO) model\n",
            "-- Not downloading body (MPI) model\n",
            "-- Downloading face model...\n",
            "-- Model already exists.\n",
            "-- Downloading hand model...\n",
            "-- Model already exists.\n",
            "-- Models Downloaded.\n",
            "-- Configuring done\n",
            "-- Generating done\n",
            "-- Build files have been written to: /content/openpose/build\n",
            "[  0%] \u001b[34m\u001b[1mBuilding NVCC (Device) object src/openpose/CMakeFiles/openpose.dir/tracking/openpose_generated_pyramidalLK.cu.o\u001b[0m\n",
            "[  2%] Built target openpose_lib\n",
            "[  2%] \u001b[34m\u001b[1mBuilding NVCC (Device) object src/openpose/CMakeFiles/openpose.dir/face/openpose_generated_renderFace.cu.o\u001b[0m\n",
            "nvcc warning : The 'compute_35', 'compute_37', 'compute_50', 'sm_35', 'sm_37' and 'sm_50' architectures are deprecated, and may be removed in a future release (Use -Wno-deprecated-gpu-targets to suppress warning).\n",
            "nvcc warning : The 'compute_35', 'compute_37', 'compute_50', 'sm_35', 'sm_37' and 'sm_50' architectures are deprecated, and may be removed in a future release (Use -Wno-deprecated-gpu-targets to suppress warning).\n",
            "nvcc warning : The 'compute_35', 'compute_37', 'compute_50', 'sm_35', 'sm_37' and 'sm_50' architectures are deprecated, and may be removed in a future release (Use -Wno-deprecated-gpu-targets to suppress warning).\n",
            "nvcc warning : The 'compute_35', 'compute_37', 'compute_50', 'sm_35', 'sm_37' and 'sm_50' architectures are deprecated, and may be removed in a future release (Use -Wno-deprecated-gpu-targets to suppress warning).\n",
            "[  2%] \u001b[34m\u001b[1mBuilding NVCC (Device) object src/openpose/CMakeFiles/openpose.dir/gpu/openpose_generated_cuda.cu.o\u001b[0m\n",
            "nvcc warning : The 'compute_35', 'compute_37', 'compute_50', 'sm_35', 'sm_37' and 'sm_50' architectures are deprecated, and may be removed in a future release (Use -Wno-deprecated-gpu-targets to suppress warning).\n",
            "nvcc warning : The 'compute_35', 'compute_37', 'compute_50', 'sm_35', 'sm_37' and 'sm_50' architectures are deprecated, and may be removed in a future release (Use -Wno-deprecated-gpu-targets to suppress warning).\n",
            "[  3%] \u001b[34m\u001b[1mBuilding NVCC (Device) object src/openpose/CMakeFiles/openpose.dir/hand/openpose_generated_renderHand.cu.o\u001b[0m\n",
            "nvcc warning : The 'compute_35', 'compute_37', 'compute_50', 'sm_35', 'sm_37' and 'sm_50' architectures are deprecated, and may be removed in a future release (Use -Wno-deprecated-gpu-targets to suppress warning).\n",
            "nvcc warning : The 'compute_35', 'compute_37', 'compute_50', 'sm_35', 'sm_37' and 'sm_50' architectures are deprecated, and may be removed in a future release (Use -Wno-deprecated-gpu-targets to suppress warning).\n",
            "[  3%] \u001b[34m\u001b[1mBuilding NVCC (Device) object src/openpose/CMakeFiles/openpose.dir/net/openpose_generated_bodyPartConnectorBase.cu.o\u001b[0m\n",
            "nvcc warning : The 'compute_35', 'compute_37', 'compute_50', 'sm_35', 'sm_37' and 'sm_50' architectures are deprecated, and may be removed in a future release (Use -Wno-deprecated-gpu-targets to suppress warning).\n",
            "nvcc warning : The 'compute_35', 'compute_37', 'compute_50', 'sm_35', 'sm_37' and 'sm_50' architectures are deprecated, and may be removed in a future release (Use -Wno-deprecated-gpu-targets to suppress warning).\n",
            "[  3%] \u001b[34m\u001b[1mBuilding NVCC (Device) object src/openpose/CMakeFiles/openpose.dir/net/openpose_generated_maximumBase.cu.o\u001b[0m\n",
            "nvcc warning : The 'compute_35', 'compute_37', 'compute_50', 'sm_35', 'sm_37' and 'sm_50' architectures are deprecated, and may be removed in a future release (Use -Wno-deprecated-gpu-targets to suppress warning).\n",
            "nvcc warning : The 'compute_35', 'compute_37', 'compute_50', 'sm_35', 'sm_37' and 'sm_50' architectures are deprecated, and may be removed in a future release (Use -Wno-deprecated-gpu-targets to suppress warning).\n",
            "[  3%] \u001b[34m\u001b[1mBuilding NVCC (Device) object src/openpose/CMakeFiles/openpose.dir/net/openpose_generated_nmsBase.cu.o\u001b[0m\n",
            "nvcc warning : The 'compute_35', 'compute_37', 'compute_50', 'sm_35', 'sm_37' and 'sm_50' architectures are deprecated, and may be removed in a future release (Use -Wno-deprecated-gpu-targets to suppress warning).\n",
            "nvcc warning : The 'compute_35', 'compute_37', 'compute_50', 'sm_35', 'sm_37' and 'sm_50' architectures are deprecated, and may be removed in a future release (Use -Wno-deprecated-gpu-targets to suppress warning).\n",
            "[  4%] \u001b[34m\u001b[1mBuilding NVCC (Device) object src/openpose/CMakeFiles/openpose.dir/net/openpose_generated_resizeAndMergeBase.cu.o\u001b[0m\n",
            "nvcc warning : The 'compute_35', 'compute_37', 'compute_50', 'sm_35', 'sm_37' and 'sm_50' architectures are deprecated, and may be removed in a future release (Use -Wno-deprecated-gpu-targets to suppress warning).\n",
            "nvcc warning : The 'compute_35', 'compute_37', 'compute_50', 'sm_35', 'sm_37' and 'sm_50' architectures are deprecated, and may be removed in a future release (Use -Wno-deprecated-gpu-targets to suppress warning).\n",
            "[  4%] \u001b[34m\u001b[1mBuilding NVCC (Device) object src/openpose/CMakeFiles/openpose.dir/pose/openpose_generated_renderPose.cu.o\u001b[0m\n",
            "nvcc warning : The 'compute_35', 'compute_37', 'compute_50', 'sm_35', 'sm_37' and 'sm_50' architectures are deprecated, and may be removed in a future release (Use -Wno-deprecated-gpu-targets to suppress warning).\n",
            "nvcc warning : The 'compute_35', 'compute_37', 'compute_50', 'sm_35', 'sm_37' and 'sm_50' architectures are deprecated, and may be removed in a future release (Use -Wno-deprecated-gpu-targets to suppress warning).\n",
            "\u001b[35m\u001b[1mScanning dependencies of target openpose\u001b[0m\n",
            "[  5%] \u001b[32mBuilding CXX object src/openpose/CMakeFiles/openpose.dir/3d/cameraParameterReader.cpp.o\u001b[0m\n",
            "[  5%] \u001b[32mBuilding CXX object src/openpose/CMakeFiles/openpose.dir/3d/defineTemplates.cpp.o\u001b[0m\n",
            "[  5%] \u001b[32mBuilding CXX object src/openpose/CMakeFiles/openpose.dir/3d/jointAngleEstimation.cpp.o\u001b[0m\n",
            "[  6%] \u001b[32mBuilding CXX object src/openpose/CMakeFiles/openpose.dir/3d/poseTriangulation.cpp.o\u001b[0m\n",
            "[  6%] \u001b[32mBuilding CXX object src/openpose/CMakeFiles/openpose.dir/3d/poseTriangulationPrivate.cpp.o\u001b[0m\n",
            "[  6%] \u001b[32mBuilding CXX object src/openpose/CMakeFiles/openpose.dir/calibration/cameraParameterEstimation.cpp.o\u001b[0m\n",
            "[  6%] \u001b[32mBuilding CXX object src/openpose/CMakeFiles/openpose.dir/calibration/gridPatternFunctions.cpp.o\u001b[0m\n",
            "[  7%] \u001b[32mBuilding CXX object src/openpose/CMakeFiles/openpose.dir/core/array.cpp.o\u001b[0m\n",
            "[  7%] \u001b[32mBuilding CXX object src/openpose/CMakeFiles/openpose.dir/core/arrayCpuGpu.cpp.o\u001b[0m\n",
            "[  7%] \u001b[32mBuilding CXX object src/openpose/CMakeFiles/openpose.dir/core/cvMatToOpInput.cpp.o\u001b[0m\n",
            "[  8%] \u001b[32mBuilding CXX object src/openpose/CMakeFiles/openpose.dir/core/cvMatToOpOutput.cpp.o\u001b[0m\n",
            "[  8%] \u001b[32mBuilding CXX object src/openpose/CMakeFiles/openpose.dir/core/datum.cpp.o\u001b[0m\n",
            "[  8%] \u001b[32mBuilding CXX object src/openpose/CMakeFiles/openpose.dir/core/defineTemplates.cpp.o\u001b[0m\n",
            "[  9%] \u001b[32mBuilding CXX object src/openpose/CMakeFiles/openpose.dir/core/gpuRenderer.cpp.o\u001b[0m\n",
            "[  9%] \u001b[32mBuilding CXX object src/openpose/CMakeFiles/openpose.dir/core/keepTopNPeople.cpp.o\u001b[0m\n",
            "[  9%] \u001b[32mBuilding CXX object src/openpose/CMakeFiles/openpose.dir/core/keypointScaler.cpp.o\u001b[0m\n",
            "[ 10%] \u001b[32mBuilding CXX object src/openpose/CMakeFiles/openpose.dir/core/matrix.cpp.o\u001b[0m\n",
            "[ 10%] \u001b[32mBuilding CXX object src/openpose/CMakeFiles/openpose.dir/core/opOutputToCvMat.cpp.o\u001b[0m\n",
            "[ 10%] \u001b[32mBuilding CXX object src/openpose/CMakeFiles/openpose.dir/core/point.cpp.o\u001b[0m\n",
            "[ 10%] \u001b[32mBuilding CXX object src/openpose/CMakeFiles/openpose.dir/core/rectangle.cpp.o\u001b[0m\n",
            "[ 11%] \u001b[32mBuilding CXX object src/openpose/CMakeFiles/openpose.dir/core/renderer.cpp.o\u001b[0m\n",
            "[ 11%] \u001b[32mBuilding CXX object src/openpose/CMakeFiles/openpose.dir/core/scaleAndSizeExtractor.cpp.o\u001b[0m\n",
            "[ 11%] \u001b[32mBuilding CXX object src/openpose/CMakeFiles/openpose.dir/core/string.cpp.o\u001b[0m\n",
            "[ 12%] \u001b[32mBuilding CXX object src/openpose/CMakeFiles/openpose.dir/core/verbosePrinter.cpp.o\u001b[0m\n",
            "[ 12%] \u001b[32mBuilding CXX object src/openpose/CMakeFiles/openpose.dir/face/defineTemplates.cpp.o\u001b[0m\n",
            "[ 12%] \u001b[32mBuilding CXX object src/openpose/CMakeFiles/openpose.dir/face/faceDetector.cpp.o\u001b[0m\n",
            "[ 13%] \u001b[32mBuilding CXX object src/openpose/CMakeFiles/openpose.dir/face/faceDetectorOpenCV.cpp.o\u001b[0m\n",
            "[ 13%] \u001b[32mBuilding CXX object src/openpose/CMakeFiles/openpose.dir/face/faceExtractorCaffe.cpp.o\u001b[0m\n",
            "[ 13%] \u001b[32mBuilding CXX object src/openpose/CMakeFiles/openpose.dir/face/faceExtractorNet.cpp.o\u001b[0m\n",
            "[ 13%] \u001b[32mBuilding CXX object src/openpose/CMakeFiles/openpose.dir/face/faceCpuRenderer.cpp.o\u001b[0m\n",
            "[ 14%] \u001b[32mBuilding CXX object src/openpose/CMakeFiles/openpose.dir/face/faceGpuRenderer.cpp.o\u001b[0m\n",
            "[ 14%] \u001b[32mBuilding CXX object src/openpose/CMakeFiles/openpose.dir/face/faceRenderer.cpp.o\u001b[0m\n",
            "[ 14%] \u001b[32mBuilding CXX object src/openpose/CMakeFiles/openpose.dir/face/renderFace.cpp.o\u001b[0m\n",
            "[ 15%] \u001b[32mBuilding CXX object src/openpose/CMakeFiles/openpose.dir/filestream/bvhSaver.cpp.o\u001b[0m\n",
            "[ 15%] \u001b[32mBuilding CXX object src/openpose/CMakeFiles/openpose.dir/filestream/cocoJsonSaver.cpp.o\u001b[0m\n",
            "[ 15%] \u001b[32mBuilding CXX object src/openpose/CMakeFiles/openpose.dir/filestream/defineTemplates.cpp.o\u001b[0m\n",
            "[ 16%] \u001b[32mBuilding CXX object src/openpose/CMakeFiles/openpose.dir/filestream/fileSaver.cpp.o\u001b[0m\n",
            "[ 16%] \u001b[32mBuilding CXX object src/openpose/CMakeFiles/openpose.dir/filestream/fileStream.cpp.o\u001b[0m\n",
            "[ 16%] \u001b[32mBuilding CXX object src/openpose/CMakeFiles/openpose.dir/filestream/heatMapSaver.cpp.o\u001b[0m\n",
            "[ 16%] \u001b[32mBuilding CXX object src/openpose/CMakeFiles/openpose.dir/filestream/imageSaver.cpp.o\u001b[0m\n",
            "[ 17%] \u001b[32mBuilding CXX object src/openpose/CMakeFiles/openpose.dir/filestream/jsonOfstream.cpp.o\u001b[0m\n",
            "[ 17%] \u001b[32mBuilding CXX object src/openpose/CMakeFiles/openpose.dir/filestream/keypointSaver.cpp.o\u001b[0m\n",
            "[ 17%] \u001b[32mBuilding CXX object src/openpose/CMakeFiles/openpose.dir/filestream/peopleJsonSaver.cpp.o\u001b[0m\n",
            "[ 18%] \u001b[32mBuilding CXX object src/openpose/CMakeFiles/openpose.dir/filestream/udpSender.cpp.o\u001b[0m\n",
            "[ 18%] \u001b[32mBuilding CXX object src/openpose/CMakeFiles/openpose.dir/filestream/videoSaver.cpp.o\u001b[0m\n",
            "[ 18%] \u001b[32mBuilding CXX object src/openpose/CMakeFiles/openpose.dir/gpu/cuda.cpp.o\u001b[0m\n",
            "[ 19%] \u001b[32mBuilding CXX object src/openpose/CMakeFiles/openpose.dir/gpu/gpu.cpp.o\u001b[0m\n",
            "[ 19%] \u001b[32mBuilding CXX object src/openpose/CMakeFiles/openpose.dir/gpu/opencl.cpp.o\u001b[0m\n",
            "[ 19%] \u001b[32mBuilding CXX object src/openpose/CMakeFiles/openpose.dir/gui/defineTemplates.cpp.o\u001b[0m\n",
            "[ 20%] \u001b[32mBuilding CXX object src/openpose/CMakeFiles/openpose.dir/gui/frameDisplayer.cpp.o\u001b[0m\n",
            "[ 20%] \u001b[32mBuilding CXX object src/openpose/CMakeFiles/openpose.dir/gui/gui.cpp.o\u001b[0m\n",
            "[ 20%] \u001b[32mBuilding CXX object src/openpose/CMakeFiles/openpose.dir/gui/guiAdam.cpp.o\u001b[0m\n",
            "[ 20%] \u001b[32mBuilding CXX object src/openpose/CMakeFiles/openpose.dir/gui/gui3D.cpp.o\u001b[0m\n",
            "[ 21%] \u001b[32mBuilding CXX object src/openpose/CMakeFiles/openpose.dir/gui/guiInfoAdder.cpp.o\u001b[0m\n",
            "[ 21%] \u001b[32mBuilding CXX object src/openpose/CMakeFiles/openpose.dir/hand/defineTemplates.cpp.o\u001b[0m\n",
            "[ 21%] \u001b[32mBuilding CXX object src/openpose/CMakeFiles/openpose.dir/hand/handDetector.cpp.o\u001b[0m\n",
            "[ 22%] \u001b[32mBuilding CXX object src/openpose/CMakeFiles/openpose.dir/hand/handDetectorFromTxt.cpp.o\u001b[0m\n",
            "[ 22%] \u001b[32mBuilding CXX object src/openpose/CMakeFiles/openpose.dir/hand/handExtractorCaffe.cpp.o\u001b[0m\n",
            "[ 22%] \u001b[32mBuilding CXX object src/openpose/CMakeFiles/openpose.dir/hand/handExtractorNet.cpp.o\u001b[0m\n",
            "[ 23%] \u001b[32mBuilding CXX object src/openpose/CMakeFiles/openpose.dir/hand/handCpuRenderer.cpp.o\u001b[0m\n",
            "[ 23%] \u001b[32mBuilding CXX object src/openpose/CMakeFiles/openpose.dir/hand/handGpuRenderer.cpp.o\u001b[0m\n",
            "[ 23%] \u001b[32mBuilding CXX object src/openpose/CMakeFiles/openpose.dir/hand/handRenderer.cpp.o\u001b[0m\n",
            "[ 23%] \u001b[32mBuilding CXX object src/openpose/CMakeFiles/openpose.dir/hand/renderHand.cpp.o\u001b[0m\n",
            "[ 24%] \u001b[32mBuilding CXX object src/openpose/CMakeFiles/openpose.dir/net/bodyPartConnectorBase.cpp.o\u001b[0m\n",
            "[ 24%] \u001b[32mBuilding CXX object src/openpose/CMakeFiles/openpose.dir/net/bodyPartConnectorBaseCL.cpp.o\u001b[0m\n",
            "[ 24%] \u001b[32mBuilding CXX object src/openpose/CMakeFiles/openpose.dir/net/bodyPartConnectorCaffe.cpp.o\u001b[0m\n",
            "[ 25%] \u001b[32mBuilding CXX object src/openpose/CMakeFiles/openpose.dir/net/maximumBase.cpp.o\u001b[0m\n",
            "[ 25%] \u001b[32mBuilding CXX object src/openpose/CMakeFiles/openpose.dir/net/maximumCaffe.cpp.o\u001b[0m\n",
            "[ 25%] \u001b[32mBuilding CXX object src/openpose/CMakeFiles/openpose.dir/net/netCaffe.cpp.o\u001b[0m\n",
            "[ 26%] \u001b[32mBuilding CXX object src/openpose/CMakeFiles/openpose.dir/net/netOpenCv.cpp.o\u001b[0m\n",
            "[ 26%] \u001b[32mBuilding CXX object src/openpose/CMakeFiles/openpose.dir/net/nmsBase.cpp.o\u001b[0m\n",
            "[ 26%] \u001b[32mBuilding CXX object src/openpose/CMakeFiles/openpose.dir/net/nmsBaseCL.cpp.o\u001b[0m\n",
            "[ 26%] \u001b[32mBuilding CXX object src/openpose/CMakeFiles/openpose.dir/net/nmsCaffe.cpp.o\u001b[0m\n",
            "[ 27%] \u001b[32mBuilding CXX object src/openpose/CMakeFiles/openpose.dir/net/resizeAndMergeBase.cpp.o\u001b[0m\n",
            "[ 27%] \u001b[32mBuilding CXX object src/openpose/CMakeFiles/openpose.dir/net/resizeAndMergeBaseCL.cpp.o\u001b[0m\n",
            "[ 27%] \u001b[32mBuilding CXX object src/openpose/CMakeFiles/openpose.dir/net/resizeAndMergeCaffe.cpp.o\u001b[0m\n",
            "[ 28%] \u001b[32mBuilding CXX object src/openpose/CMakeFiles/openpose.dir/pose/defineTemplates.cpp.o\u001b[0m\n",
            "[ 28%] \u001b[32mBuilding CXX object src/openpose/CMakeFiles/openpose.dir/pose/poseCpuRenderer.cpp.o\u001b[0m\n",
            "[ 28%] \u001b[32mBuilding CXX object src/openpose/CMakeFiles/openpose.dir/pose/poseExtractor.cpp.o\u001b[0m\n",
            "[ 29%] \u001b[32mBuilding CXX object src/openpose/CMakeFiles/openpose.dir/pose/poseExtractorCaffe.cpp.o\u001b[0m\n",
            "[ 29%] \u001b[32mBuilding CXX object src/openpose/CMakeFiles/openpose.dir/pose/poseExtractorNet.cpp.o\u001b[0m\n",
            "[ 29%] \u001b[32mBuilding CXX object src/openpose/CMakeFiles/openpose.dir/pose/poseGpuRenderer.cpp.o\u001b[0m\n",
            "[ 30%] \u001b[32mBuilding CXX object src/openpose/CMakeFiles/openpose.dir/pose/poseParameters.cpp.o\u001b[0m\n",
            "[ 30%] \u001b[32mBuilding CXX object src/openpose/CMakeFiles/openpose.dir/pose/poseParametersRender.cpp.o\u001b[0m\n",
            "[ 30%] \u001b[32mBuilding CXX object src/openpose/CMakeFiles/openpose.dir/pose/poseRenderer.cpp.o\u001b[0m\n",
            "[ 30%] \u001b[32mBuilding CXX object src/openpose/CMakeFiles/openpose.dir/pose/renderPose.cpp.o\u001b[0m\n",
            "[ 31%] \u001b[32mBuilding CXX object src/openpose/CMakeFiles/openpose.dir/producer/datumProducer.cpp.o\u001b[0m\n",
            "[ 31%] \u001b[32mBuilding CXX object src/openpose/CMakeFiles/openpose.dir/producer/defineTemplates.cpp.o\u001b[0m\n",
            "[ 31%] \u001b[32mBuilding CXX object src/openpose/CMakeFiles/openpose.dir/producer/flirReader.cpp.o\u001b[0m\n",
            "[ 32%] \u001b[32mBuilding CXX object src/openpose/CMakeFiles/openpose.dir/producer/imageDirectoryReader.cpp.o\u001b[0m\n",
            "[ 32%] \u001b[32mBuilding CXX object src/openpose/CMakeFiles/openpose.dir/producer/ipCameraReader.cpp.o\u001b[0m\n",
            "[ 32%] \u001b[32mBuilding CXX object src/openpose/CMakeFiles/openpose.dir/producer/producer.cpp.o\u001b[0m\n",
            "[ 33%] \u001b[32mBuilding CXX object src/openpose/CMakeFiles/openpose.dir/producer/spinnakerWrapper.cpp.o\u001b[0m\n",
            "[ 33%] \u001b[32mBuilding CXX object src/openpose/CMakeFiles/openpose.dir/producer/videoCaptureReader.cpp.o\u001b[0m\n",
            "[ 33%] \u001b[32mBuilding CXX object src/openpose/CMakeFiles/openpose.dir/producer/videoReader.cpp.o\u001b[0m\n",
            "[ 33%] \u001b[32mBuilding CXX object src/openpose/CMakeFiles/openpose.dir/producer/webcamReader.cpp.o\u001b[0m\n",
            "[ 34%] \u001b[32mBuilding CXX object src/openpose/CMakeFiles/openpose.dir/thread/defineTemplates.cpp.o\u001b[0m\n",
            "[ 34%] \u001b[32mBuilding CXX object src/openpose/CMakeFiles/openpose.dir/tracking/defineTemplates.cpp.o\u001b[0m\n",
            "[ 34%] \u001b[32mBuilding CXX object src/openpose/CMakeFiles/openpose.dir/tracking/personIdExtractor.cpp.o\u001b[0m\n",
            "[ 35%] \u001b[32mBuilding CXX object src/openpose/CMakeFiles/openpose.dir/tracking/personTracker.cpp.o\u001b[0m\n",
            "[ 35%] \u001b[32mBuilding CXX object src/openpose/CMakeFiles/openpose.dir/tracking/pyramidalLK.cpp.o\u001b[0m\n",
            "[ 35%] \u001b[32mBuilding CXX object src/openpose/CMakeFiles/openpose.dir/unity/unityBinding.cpp.o\u001b[0m\n",
            "[ 36%] \u001b[32mBuilding CXX object src/openpose/CMakeFiles/openpose.dir/utilities/errorAndLog.cpp.o\u001b[0m\n",
            "[ 36%] \u001b[32mBuilding CXX object src/openpose/CMakeFiles/openpose.dir/utilities/fileSystem.cpp.o\u001b[0m\n",
            "[ 36%] \u001b[32mBuilding CXX object src/openpose/CMakeFiles/openpose.dir/utilities/flagsToOpenPose.cpp.o\u001b[0m\n",
            "[ 36%] \u001b[32mBuilding CXX object src/openpose/CMakeFiles/openpose.dir/utilities/keypoint.cpp.o\u001b[0m\n",
            "[ 37%] \u001b[32mBuilding CXX object src/openpose/CMakeFiles/openpose.dir/utilities/openCv.cpp.o\u001b[0m\n",
            "[ 37%] \u001b[32mBuilding CXX object src/openpose/CMakeFiles/openpose.dir/utilities/openCvPrivate.cpp.o\u001b[0m\n",
            "[ 37%] \u001b[32mBuilding CXX object src/openpose/CMakeFiles/openpose.dir/utilities/profiler.cpp.o\u001b[0m\n",
            "[ 38%] \u001b[32mBuilding CXX object src/openpose/CMakeFiles/openpose.dir/utilities/string.cpp.o\u001b[0m\n",
            "[ 38%] \u001b[32mBuilding CXX object src/openpose/CMakeFiles/openpose.dir/wrapper/defineTemplates.cpp.o\u001b[0m\n",
            "[ 38%] \u001b[32mBuilding CXX object src/openpose/CMakeFiles/openpose.dir/wrapper/wrapperAuxiliary.cpp.o\u001b[0m\n",
            "[ 39%] \u001b[32mBuilding CXX object src/openpose/CMakeFiles/openpose.dir/wrapper/wrapperStructExtra.cpp.o\u001b[0m\n",
            "[ 39%] \u001b[32mBuilding CXX object src/openpose/CMakeFiles/openpose.dir/wrapper/wrapperStructFace.cpp.o\u001b[0m\n",
            "[ 39%] \u001b[32mBuilding CXX object src/openpose/CMakeFiles/openpose.dir/wrapper/wrapperStructGui.cpp.o\u001b[0m\n",
            "[ 40%] \u001b[32mBuilding CXX object src/openpose/CMakeFiles/openpose.dir/wrapper/wrapperStructHand.cpp.o\u001b[0m\n",
            "[ 40%] \u001b[32mBuilding CXX object src/openpose/CMakeFiles/openpose.dir/wrapper/wrapperStructInput.cpp.o\u001b[0m\n",
            "[ 40%] \u001b[32mBuilding CXX object src/openpose/CMakeFiles/openpose.dir/wrapper/wrapperStructOutput.cpp.o\u001b[0m\n",
            "[ 40%] \u001b[32mBuilding CXX object src/openpose/CMakeFiles/openpose.dir/wrapper/wrapperStructPose.cpp.o\u001b[0m\n",
            "[ 41%] \u001b[32m\u001b[1mLinking CXX shared library libopenpose.so\u001b[0m\n",
            "[ 41%] Built target openpose\n",
            "\u001b[35m\u001b[1mScanning dependencies of target calibration.bin\u001b[0m\n",
            "\u001b[35m\u001b[1mScanning dependencies of target openpose_core\u001b[0m\n",
            "[ 42%] \u001b[32mBuilding CXX object examples/calibration/CMakeFiles/calibration.bin.dir/calibration.cpp.o\u001b[0m\n",
            "[ 42%] \u001b[32mBuilding CXX object src/openpose/core/CMakeFiles/openpose_core.dir/array.cpp.o\u001b[0m\n",
            "[ 42%] \u001b[32m\u001b[1mLinking CXX executable calibration.bin\u001b[0m\n",
            "[ 42%] Built target calibration.bin\n",
            "\u001b[35m\u001b[1mScanning dependencies of target tutorial_api_thread_1_user_processing_function.bin\u001b[0m\n",
            "[ 43%] \u001b[32mBuilding CXX object examples/deprecated/CMakeFiles/tutorial_api_thread_1_user_processing_function.bin.dir/tutorial_api_thread_1_user_processing_function.cpp.o\u001b[0m\n",
            "[ 43%] \u001b[32m\u001b[1mLinking CXX executable tutorial_api_thread_1_user_processing_function.bin\u001b[0m\n",
            "[ 43%] Built target tutorial_api_thread_1_user_processing_function.bin\n",
            "\u001b[35m\u001b[1mScanning dependencies of target tutorial_add_module_custom_post_processing.bin\u001b[0m\n",
            "[ 43%] \u001b[32mBuilding CXX object examples/deprecated/CMakeFiles/tutorial_add_module_custom_post_processing.bin.dir/tutorial_add_module_custom_post_processing.cpp.o\u001b[0m\n",
            "[ 44%] \u001b[32mBuilding CXX object src/openpose/core/CMakeFiles/openpose_core.dir/arrayCpuGpu.cpp.o\u001b[0m\n",
            "[ 44%] \u001b[32mBuilding CXX object src/openpose/core/CMakeFiles/openpose_core.dir/cvMatToOpInput.cpp.o\u001b[0m\n",
            "[ 44%] \u001b[32mBuilding CXX object src/openpose/core/CMakeFiles/openpose_core.dir/cvMatToOpOutput.cpp.o\u001b[0m\n",
            "[ 45%] \u001b[32mBuilding CXX object src/openpose/core/CMakeFiles/openpose_core.dir/datum.cpp.o\u001b[0m\n",
            "[ 45%] \u001b[32mBuilding CXX object src/openpose/core/CMakeFiles/openpose_core.dir/defineTemplates.cpp.o\u001b[0m\n",
            "[ 45%] \u001b[32mBuilding CXX object src/openpose/core/CMakeFiles/openpose_core.dir/gpuRenderer.cpp.o\u001b[0m\n",
            "[ 45%] \u001b[32mBuilding CXX object src/openpose/core/CMakeFiles/openpose_core.dir/keepTopNPeople.cpp.o\u001b[0m\n",
            "[ 46%] \u001b[32mBuilding CXX object src/openpose/core/CMakeFiles/openpose_core.dir/keypointScaler.cpp.o\u001b[0m\n",
            "[ 46%] \u001b[32mBuilding CXX object src/openpose/core/CMakeFiles/openpose_core.dir/matrix.cpp.o\u001b[0m\n",
            "[ 46%] \u001b[32mBuilding CXX object src/openpose/core/CMakeFiles/openpose_core.dir/opOutputToCvMat.cpp.o\u001b[0m\n",
            "[ 47%] \u001b[32mBuilding CXX object src/openpose/core/CMakeFiles/openpose_core.dir/point.cpp.o\u001b[0m\n",
            "[ 47%] \u001b[32m\u001b[1mLinking CXX executable tutorial_add_module_custom_post_processing.bin\u001b[0m\n",
            "[ 47%] Built target tutorial_add_module_custom_post_processing.bin\n",
            "\u001b[35m\u001b[1mScanning dependencies of target tutorial_api_thread_2_user_input_processing_output_and_datum.bin\u001b[0m\n",
            "[ 47%] \u001b[32mBuilding CXX object examples/deprecated/CMakeFiles/tutorial_api_thread_2_user_input_processing_output_and_datum.bin.dir/tutorial_api_thread_2_user_input_processing_output_and_datum.cpp.o\u001b[0m\n",
            "[ 47%] \u001b[32mBuilding CXX object src/openpose/core/CMakeFiles/openpose_core.dir/rectangle.cpp.o\u001b[0m\n",
            "[ 47%] \u001b[32mBuilding CXX object src/openpose/core/CMakeFiles/openpose_core.dir/renderer.cpp.o\u001b[0m\n",
            "[ 48%] \u001b[32mBuilding CXX object src/openpose/core/CMakeFiles/openpose_core.dir/scaleAndSizeExtractor.cpp.o\u001b[0m\n",
            "[ 49%] \u001b[32m\u001b[1mLinking CXX executable tutorial_api_thread_2_user_input_processing_output_and_datum.bin\u001b[0m\n",
            "[ 49%] \u001b[32mBuilding CXX object src/openpose/core/CMakeFiles/openpose_core.dir/string.cpp.o\u001b[0m\n",
            "[ 49%] \u001b[32mBuilding CXX object src/openpose/core/CMakeFiles/openpose_core.dir/verbosePrinter.cpp.o\u001b[0m\n",
            "[ 49%] Built target tutorial_api_thread_2_user_input_processing_output_and_datum.bin\n",
            "\u001b[35m\u001b[1mScanning dependencies of target openpose.bin\u001b[0m\n",
            "[ 49%] \u001b[32mBuilding CXX object examples/openpose/CMakeFiles/openpose.bin.dir/openpose.cpp.o\u001b[0m\n",
            "[ 50%] \u001b[32m\u001b[1mLinking CXX shared library libopenpose_core.so\u001b[0m\n",
            "[ 50%] Built target openpose_core\n",
            "\u001b[35m\u001b[1mScanning dependencies of target 18_synchronous_custom_all_and_datum.bin\u001b[0m\n",
            "[ 50%] \u001b[32mBuilding CXX object examples/tutorial_api_cpp/CMakeFiles/18_synchronous_custom_all_and_datum.bin.dir/18_synchronous_custom_all_and_datum.cpp.o\u001b[0m\n",
            "[ 50%] \u001b[32m\u001b[1mLinking CXX executable openpose.bin\u001b[0m\n",
            "[ 50%] Built target openpose.bin\n",
            "\u001b[35m\u001b[1mScanning dependencies of target 17_synchronous_custom_output.bin\u001b[0m\n",
            "[ 51%] \u001b[32mBuilding CXX object examples/tutorial_api_cpp/CMakeFiles/17_synchronous_custom_output.bin.dir/17_synchronous_custom_output.cpp.o\u001b[0m\n",
            "[ 51%] \u001b[32m\u001b[1mLinking CXX executable 17_synchronous_custom_output.bin\u001b[0m\n",
            "[ 51%] Built target 17_synchronous_custom_output.bin\n",
            "\u001b[35m\u001b[1mScanning dependencies of target 05_keypoints_from_images_multi_gpu.bin\u001b[0m\n",
            "[ 51%] \u001b[32mBuilding CXX object examples/tutorial_api_cpp/CMakeFiles/05_keypoints_from_images_multi_gpu.bin.dir/05_keypoints_from_images_multi_gpu.cpp.o\u001b[0m\n",
            "[ 52%] \u001b[32m\u001b[1mLinking CXX executable 05_keypoints_from_images_multi_gpu.bin\u001b[0m\n",
            "[ 52%] Built target 05_keypoints_from_images_multi_gpu.bin\n",
            "\u001b[35m\u001b[1mScanning dependencies of target 03_keypoints_from_image.bin\u001b[0m\n",
            "[ 52%] \u001b[32mBuilding CXX object examples/tutorial_api_cpp/CMakeFiles/03_keypoints_from_image.bin.dir/03_keypoints_from_image.cpp.o\u001b[0m\n",
            "[ 52%] \u001b[32m\u001b[1mLinking CXX executable 03_keypoints_from_image.bin\u001b[0m\n",
            "[ 52%] Built target 03_keypoints_from_image.bin\n",
            "\u001b[35m\u001b[1mScanning dependencies of target 06_face_from_image.bin\u001b[0m\n",
            "[ 52%] \u001b[32mBuilding CXX object examples/tutorial_api_cpp/CMakeFiles/06_face_from_image.bin.dir/06_face_from_image.cpp.o\u001b[0m\n",
            "[ 52%] \u001b[32m\u001b[1mLinking CXX executable 18_synchronous_custom_all_and_datum.bin\u001b[0m\n",
            "[ 52%] Built target 18_synchronous_custom_all_and_datum.bin\n",
            "\u001b[35m\u001b[1mScanning dependencies of target 07_hand_from_image.bin\u001b[0m\n",
            "[ 52%] \u001b[32mBuilding CXX object examples/tutorial_api_cpp/CMakeFiles/07_hand_from_image.bin.dir/07_hand_from_image.cpp.o\u001b[0m\n",
            "[ 52%] \u001b[32m\u001b[1mLinking CXX executable 06_face_from_image.bin\u001b[0m\n",
            "[ 52%] Built target 06_face_from_image.bin\n",
            "\u001b[35m\u001b[1mScanning dependencies of target 04_keypoints_from_images.bin\u001b[0m\n",
            "[ 53%] \u001b[32mBuilding CXX object examples/tutorial_api_cpp/CMakeFiles/04_keypoints_from_images.bin.dir/04_keypoints_from_images.cpp.o\u001b[0m\n",
            "[ 54%] \u001b[32m\u001b[1mLinking CXX executable 07_hand_from_image.bin\u001b[0m\n",
            "[ 54%] Built target 07_hand_from_image.bin\n",
            "\u001b[35m\u001b[1mScanning dependencies of target 01_body_from_image_default.bin\u001b[0m\n",
            "[ 54%] \u001b[32mBuilding CXX object examples/tutorial_api_cpp/CMakeFiles/01_body_from_image_default.bin.dir/01_body_from_image_default.cpp.o\u001b[0m\n",
            "[ 54%] \u001b[32m\u001b[1mLinking CXX executable 04_keypoints_from_images.bin\u001b[0m\n",
            "[ 54%] Built target 04_keypoints_from_images.bin\n",
            "\u001b[35m\u001b[1mScanning dependencies of target 09_keypoints_from_heatmaps.bin\u001b[0m\n",
            "[ 55%] \u001b[32mBuilding CXX object examples/tutorial_api_cpp/CMakeFiles/09_keypoints_from_heatmaps.bin.dir/09_keypoints_from_heatmaps.cpp.o\u001b[0m\n",
            "[ 55%] \u001b[32m\u001b[1mLinking CXX executable 01_body_from_image_default.bin\u001b[0m\n",
            "[ 55%] Built target 01_body_from_image_default.bin\n",
            "\u001b[35m\u001b[1mScanning dependencies of target 02_whole_body_from_image_default.bin\u001b[0m\n",
            "[ 55%] \u001b[32mBuilding CXX object examples/tutorial_api_cpp/CMakeFiles/02_whole_body_from_image_default.bin.dir/02_whole_body_from_image_default.cpp.o\u001b[0m\n",
            "[ 55%] \u001b[32m\u001b[1mLinking CXX executable 09_keypoints_from_heatmaps.bin\u001b[0m\n",
            "[ 55%] Built target 09_keypoints_from_heatmaps.bin\n",
            "\u001b[35m\u001b[1mScanning dependencies of target 13_asynchronous_custom_input_output_and_datum.bin\u001b[0m\n",
            "[ 55%] \u001b[32mBuilding CXX object examples/tutorial_api_cpp/CMakeFiles/13_asynchronous_custom_input_output_and_datum.bin.dir/13_asynchronous_custom_input_output_and_datum.cpp.o\u001b[0m\n",
            "[ 56%] \u001b[32m\u001b[1mLinking CXX executable 02_whole_body_from_image_default.bin\u001b[0m\n",
            "[ 56%] Built target 02_whole_body_from_image_default.bin\n",
            "\u001b[35m\u001b[1mScanning dependencies of target 08_heatmaps_from_image.bin\u001b[0m\n",
            "[ 56%] \u001b[32mBuilding CXX object examples/tutorial_api_cpp/CMakeFiles/08_heatmaps_from_image.bin.dir/08_heatmaps_from_image.cpp.o\u001b[0m\n",
            "[ 56%] \u001b[32m\u001b[1mLinking CXX executable 08_heatmaps_from_image.bin\u001b[0m\n",
            "[ 56%] Built target 08_heatmaps_from_image.bin\n",
            "\u001b[35m\u001b[1mScanning dependencies of target 16_synchronous_custom_postprocessing.bin\u001b[0m\n",
            "[ 56%] \u001b[32mBuilding CXX object examples/tutorial_api_cpp/CMakeFiles/16_synchronous_custom_postprocessing.bin.dir/16_synchronous_custom_postprocessing.cpp.o\u001b[0m\n",
            "[ 56%] \u001b[32m\u001b[1mLinking CXX executable 16_synchronous_custom_postprocessing.bin\u001b[0m\n",
            "[ 56%] Built target 16_synchronous_custom_postprocessing.bin\n",
            "\u001b[35m\u001b[1mScanning dependencies of target 11_asynchronous_custom_input_multi_camera.bin\u001b[0m\n",
            "[ 56%] \u001b[32mBuilding CXX object examples/tutorial_api_cpp/CMakeFiles/11_asynchronous_custom_input_multi_camera.bin.dir/11_asynchronous_custom_input_multi_camera.cpp.o\u001b[0m\n",
            "[ 56%] \u001b[32m\u001b[1mLinking CXX executable 11_asynchronous_custom_input_multi_camera.bin\u001b[0m\n",
            "[ 56%] Built target 11_asynchronous_custom_input_multi_camera.bin\n",
            "\u001b[35m\u001b[1mScanning dependencies of target 14_synchronous_custom_input.bin\u001b[0m\n",
            "[ 57%] \u001b[32mBuilding CXX object examples/tutorial_api_cpp/CMakeFiles/14_synchronous_custom_input.bin.dir/14_synchronous_custom_input.cpp.o\u001b[0m\n",
            "[ 57%] \u001b[32m\u001b[1mLinking CXX executable 13_asynchronous_custom_input_output_and_datum.bin\u001b[0m\n",
            "[ 57%] Built target 13_asynchronous_custom_input_output_and_datum.bin\n",
            "\u001b[35m\u001b[1mScanning dependencies of target 15_synchronous_custom_preprocessing.bin\u001b[0m\n",
            "[ 57%] \u001b[32mBuilding CXX object examples/tutorial_api_cpp/CMakeFiles/15_synchronous_custom_preprocessing.bin.dir/15_synchronous_custom_preprocessing.cpp.o\u001b[0m\n",
            "[ 57%] \u001b[32m\u001b[1mLinking CXX executable 14_synchronous_custom_input.bin\u001b[0m\n",
            "[ 57%] Built target 14_synchronous_custom_input.bin\n",
            "\u001b[35m\u001b[1mScanning dependencies of target 10_asynchronous_custom_input.bin\u001b[0m\n",
            "[ 57%] \u001b[32mBuilding CXX object examples/tutorial_api_cpp/CMakeFiles/10_asynchronous_custom_input.bin.dir/10_asynchronous_custom_input.cpp.o\u001b[0m\n",
            "[ 58%] \u001b[32m\u001b[1mLinking CXX executable 15_synchronous_custom_preprocessing.bin\u001b[0m\n",
            "[ 58%] Built target 15_synchronous_custom_preprocessing.bin\n",
            "\u001b[35m\u001b[1mScanning dependencies of target 12_asynchronous_custom_output.bin\u001b[0m\n",
            "[ 58%] \u001b[32mBuilding CXX object examples/tutorial_api_cpp/CMakeFiles/12_asynchronous_custom_output.bin.dir/12_asynchronous_custom_output.cpp.o\u001b[0m\n",
            "[ 59%] \u001b[32m\u001b[1mLinking CXX executable 10_asynchronous_custom_input.bin\u001b[0m\n",
            "[ 59%] Built target 10_asynchronous_custom_input.bin\n",
            "\u001b[35m\u001b[1mScanning dependencies of target resizeTest.bin\u001b[0m\n",
            "[ 59%] \u001b[32mBuilding CXX object examples/tests/CMakeFiles/resizeTest.bin.dir/resizeTest.cpp.o\u001b[0m\n",
            "[ 60%] \u001b[32m\u001b[1mLinking CXX executable 12_asynchronous_custom_output.bin\u001b[0m\n",
            "[ 60%] Built target 12_asynchronous_custom_output.bin\n",
            "\u001b[35m\u001b[1mScanning dependencies of target handFromJsonTest.bin\u001b[0m\n",
            "[ 60%] \u001b[32mBuilding CXX object examples/tests/CMakeFiles/handFromJsonTest.bin.dir/handFromJsonTest.cpp.o\u001b[0m\n",
            "[ 61%] \u001b[32m\u001b[1mLinking CXX executable resizeTest.bin\u001b[0m\n",
            "[ 61%] Built target resizeTest.bin\n",
            "\u001b[35m\u001b[1mScanning dependencies of target openpose_3d\u001b[0m\n",
            "[ 62%] \u001b[32mBuilding CXX object src/openpose/3d/CMakeFiles/openpose_3d.dir/cameraParameterReader.cpp.o\u001b[0m\n",
            "[ 62%] \u001b[32mBuilding CXX object src/openpose/3d/CMakeFiles/openpose_3d.dir/defineTemplates.cpp.o\u001b[0m\n",
            "[ 63%] \u001b[32m\u001b[1mLinking CXX executable handFromJsonTest.bin\u001b[0m\n",
            "[ 63%] \u001b[32mBuilding CXX object src/openpose/3d/CMakeFiles/openpose_3d.dir/jointAngleEstimation.cpp.o\u001b[0m\n",
            "[ 64%] \u001b[32mBuilding CXX object src/openpose/3d/CMakeFiles/openpose_3d.dir/poseTriangulation.cpp.o\u001b[0m\n",
            "[ 64%] Built target handFromJsonTest.bin\n",
            "[ 64%] \u001b[32mBuilding CXX object src/openpose/3d/CMakeFiles/openpose_3d.dir/poseTriangulationPrivate.cpp.o\u001b[0m\n",
            "\u001b[35m\u001b[1mScanning dependencies of target openpose_calibration\u001b[0m\n",
            "[ 64%] \u001b[32mBuilding CXX object src/openpose/calibration/CMakeFiles/openpose_calibration.dir/cameraParameterEstimation.cpp.o\u001b[0m\n",
            "[ 64%] \u001b[32m\u001b[1mLinking CXX shared library libopenpose_3d.so\u001b[0m\n",
            "[ 64%] Built target openpose_3d\n",
            "[ 64%] \u001b[34m\u001b[1mBuilding NVCC (Device) object src/openpose/face/CMakeFiles/openpose_face.dir/openpose_face_generated_renderFace.cu.o\u001b[0m\n",
            "nvcc warning : The 'compute_35', 'compute_37', 'compute_50', 'sm_35', 'sm_37' and 'sm_50' architectures are deprecated, and may be removed in a future release (Use -Wno-deprecated-gpu-targets to suppress warning).\n",
            "nvcc warning : The 'compute_35', 'compute_37', 'compute_50', 'sm_35', 'sm_37' and 'sm_50' architectures are deprecated, and may be removed in a future release (Use -Wno-deprecated-gpu-targets to suppress warning).\n",
            "\u001b[35m\u001b[1mScanning dependencies of target openpose_face\u001b[0m\n",
            "[ 64%] \u001b[32mBuilding CXX object src/openpose/face/CMakeFiles/openpose_face.dir/defineTemplates.cpp.o\u001b[0m\n",
            "[ 65%] \u001b[32mBuilding CXX object src/openpose/calibration/CMakeFiles/openpose_calibration.dir/gridPatternFunctions.cpp.o\u001b[0m\n",
            "[ 65%] \u001b[32mBuilding CXX object src/openpose/face/CMakeFiles/openpose_face.dir/faceDetector.cpp.o\u001b[0m\n",
            "[ 66%] \u001b[32mBuilding CXX object src/openpose/face/CMakeFiles/openpose_face.dir/faceDetectorOpenCV.cpp.o\u001b[0m\n",
            "[ 66%] \u001b[32m\u001b[1mLinking CXX shared library libopenpose_calibration.so\u001b[0m\n",
            "[ 66%] \u001b[32mBuilding CXX object src/openpose/face/CMakeFiles/openpose_face.dir/faceExtractorCaffe.cpp.o\u001b[0m\n",
            "[ 66%] Built target openpose_calibration\n",
            "\u001b[35m\u001b[1mScanning dependencies of target openpose_filestream\u001b[0m\n",
            "[ 66%] \u001b[32mBuilding CXX object src/openpose/filestream/CMakeFiles/openpose_filestream.dir/bvhSaver.cpp.o\u001b[0m\n",
            "[ 66%] \u001b[32mBuilding CXX object src/openpose/filestream/CMakeFiles/openpose_filestream.dir/cocoJsonSaver.cpp.o\u001b[0m\n",
            "[ 67%] \u001b[32mBuilding CXX object src/openpose/filestream/CMakeFiles/openpose_filestream.dir/defineTemplates.cpp.o\u001b[0m\n",
            "[ 67%] \u001b[32mBuilding CXX object src/openpose/filestream/CMakeFiles/openpose_filestream.dir/fileSaver.cpp.o\u001b[0m\n",
            "[ 67%] \u001b[32mBuilding CXX object src/openpose/face/CMakeFiles/openpose_face.dir/faceExtractorNet.cpp.o\u001b[0m\n",
            "[ 67%] \u001b[32mBuilding CXX object src/openpose/filestream/CMakeFiles/openpose_filestream.dir/fileStream.cpp.o\u001b[0m\n",
            "[ 68%] \u001b[32mBuilding CXX object src/openpose/face/CMakeFiles/openpose_face.dir/faceCpuRenderer.cpp.o\u001b[0m\n",
            "[ 68%] \u001b[32mBuilding CXX object src/openpose/face/CMakeFiles/openpose_face.dir/faceGpuRenderer.cpp.o\u001b[0m\n",
            "[ 68%] \u001b[32mBuilding CXX object src/openpose/face/CMakeFiles/openpose_face.dir/faceRenderer.cpp.o\u001b[0m\n",
            "[ 69%] \u001b[32mBuilding CXX object src/openpose/filestream/CMakeFiles/openpose_filestream.dir/heatMapSaver.cpp.o\u001b[0m\n",
            "[ 70%] \u001b[32mBuilding CXX object src/openpose/face/CMakeFiles/openpose_face.dir/renderFace.cpp.o\u001b[0m\n",
            "[ 70%] \u001b[32mBuilding CXX object src/openpose/filestream/CMakeFiles/openpose_filestream.dir/imageSaver.cpp.o\u001b[0m\n",
            "[ 70%] \u001b[32m\u001b[1mLinking CXX shared library libopenpose_face.so\u001b[0m\n",
            "[ 70%] Built target openpose_face\n",
            "[ 70%] \u001b[34m\u001b[1mBuilding NVCC (Device) object src/openpose/gpu/CMakeFiles/openpose_gpu.dir/openpose_gpu_generated_cuda.cu.o\u001b[0m\n",
            "nvcc warning : The 'compute_35', 'compute_37', 'compute_50', 'sm_35', 'sm_37' and 'sm_50' architectures are deprecated, and may be removed in a future release (Use -Wno-deprecated-gpu-targets to suppress warning).\n",
            "[ 70%] \u001b[32mBuilding CXX object src/openpose/filestream/CMakeFiles/openpose_filestream.dir/jsonOfstream.cpp.o\u001b[0m\n",
            "nvcc warning : The 'compute_35', 'compute_37', 'compute_50', 'sm_35', 'sm_37' and 'sm_50' architectures are deprecated, and may be removed in a future release (Use -Wno-deprecated-gpu-targets to suppress warning).\n",
            "[ 71%] \u001b[32mBuilding CXX object src/openpose/filestream/CMakeFiles/openpose_filestream.dir/keypointSaver.cpp.o\u001b[0m\n",
            "[ 71%] \u001b[32mBuilding CXX object src/openpose/filestream/CMakeFiles/openpose_filestream.dir/peopleJsonSaver.cpp.o\u001b[0m\n",
            "[ 71%] \u001b[32mBuilding CXX object src/openpose/filestream/CMakeFiles/openpose_filestream.dir/udpSender.cpp.o\u001b[0m\n",
            "\u001b[35m\u001b[1mScanning dependencies of target openpose_gpu\u001b[0m\n",
            "[ 71%] \u001b[32mBuilding CXX object src/openpose/filestream/CMakeFiles/openpose_filestream.dir/videoSaver.cpp.o\u001b[0m\n",
            "[ 71%] \u001b[32mBuilding CXX object src/openpose/gpu/CMakeFiles/openpose_gpu.dir/cuda.cpp.o\u001b[0m\n",
            "[ 72%] \u001b[32mBuilding CXX object src/openpose/gpu/CMakeFiles/openpose_gpu.dir/gpu.cpp.o\u001b[0m\n",
            "[ 72%] \u001b[32mBuilding CXX object src/openpose/gpu/CMakeFiles/openpose_gpu.dir/opencl.cpp.o\u001b[0m\n",
            "[ 73%] \u001b[32m\u001b[1mLinking CXX shared library libopenpose_filestream.so\u001b[0m\n",
            "[ 73%] \u001b[32m\u001b[1mLinking CXX shared library libopenpose_gpu.so\u001b[0m\n",
            "[ 73%] Built target openpose_filestream\n",
            "[ 73%] \u001b[34m\u001b[1mBuilding NVCC (Device) object src/openpose/pose/CMakeFiles/openpose_pose.dir/openpose_pose_generated_renderPose.cu.o\u001b[0m\n",
            "nvcc warning : The 'compute_35', 'compute_37', 'compute_50', 'sm_35', 'sm_37' and 'sm_50' architectures are deprecated, and may be removed in a future release (Use -Wno-deprecated-gpu-targets to suppress warning).\n",
            "[ 73%] Built target openpose_gpu\n",
            "[ 74%] \u001b[34m\u001b[1mBuilding NVCC (Device) object src/openpose/hand/CMakeFiles/openpose_hand.dir/openpose_hand_generated_renderHand.cu.o\u001b[0m\n",
            "nvcc warning : The 'compute_35', 'compute_37', 'compute_50', 'sm_35', 'sm_37' and 'sm_50' architectures are deprecated, and may be removed in a future release (Use -Wno-deprecated-gpu-targets to suppress warning).\n",
            "nvcc warning : The 'compute_35', 'compute_37', 'compute_50', 'sm_35', 'sm_37' and 'sm_50' architectures are deprecated, and may be removed in a future release (Use -Wno-deprecated-gpu-targets to suppress warning).\n",
            "nvcc warning : The 'compute_35', 'compute_37', 'compute_50', 'sm_35', 'sm_37' and 'sm_50' architectures are deprecated, and may be removed in a future release (Use -Wno-deprecated-gpu-targets to suppress warning).\n",
            "\u001b[35m\u001b[1mScanning dependencies of target openpose_hand\u001b[0m\n",
            "[ 74%] \u001b[32mBuilding CXX object src/openpose/hand/CMakeFiles/openpose_hand.dir/defineTemplates.cpp.o\u001b[0m\n",
            "[ 74%] \u001b[32mBuilding CXX object src/openpose/hand/CMakeFiles/openpose_hand.dir/handDetector.cpp.o\u001b[0m\n",
            "\u001b[35m\u001b[1mScanning dependencies of target openpose_pose\u001b[0m\n",
            "[ 74%] \u001b[32mBuilding CXX object src/openpose/pose/CMakeFiles/openpose_pose.dir/defineTemplates.cpp.o\u001b[0m\n",
            "[ 75%] \u001b[32mBuilding CXX object src/openpose/hand/CMakeFiles/openpose_hand.dir/handDetectorFromTxt.cpp.o\u001b[0m\n",
            "[ 76%] \u001b[32mBuilding CXX object src/openpose/pose/CMakeFiles/openpose_pose.dir/poseCpuRenderer.cpp.o\u001b[0m\n",
            "[ 76%] \u001b[32mBuilding CXX object src/openpose/hand/CMakeFiles/openpose_hand.dir/handExtractorCaffe.cpp.o\u001b[0m\n",
            "[ 76%] \u001b[32mBuilding CXX object src/openpose/pose/CMakeFiles/openpose_pose.dir/poseExtractor.cpp.o\u001b[0m\n",
            "[ 76%] \u001b[32mBuilding CXX object src/openpose/pose/CMakeFiles/openpose_pose.dir/poseExtractorCaffe.cpp.o\u001b[0m\n",
            "[ 76%] \u001b[32mBuilding CXX object src/openpose/hand/CMakeFiles/openpose_hand.dir/handExtractorNet.cpp.o\u001b[0m\n",
            "[ 76%] \u001b[32mBuilding CXX object src/openpose/pose/CMakeFiles/openpose_pose.dir/poseExtractorNet.cpp.o\u001b[0m\n",
            "[ 77%] \u001b[32mBuilding CXX object src/openpose/hand/CMakeFiles/openpose_hand.dir/handCpuRenderer.cpp.o\u001b[0m\n",
            "[ 78%] \u001b[32mBuilding CXX object src/openpose/pose/CMakeFiles/openpose_pose.dir/poseGpuRenderer.cpp.o\u001b[0m\n",
            "[ 78%] \u001b[32mBuilding CXX object src/openpose/hand/CMakeFiles/openpose_hand.dir/handGpuRenderer.cpp.o\u001b[0m\n",
            "[ 78%] \u001b[32mBuilding CXX object src/openpose/hand/CMakeFiles/openpose_hand.dir/handRenderer.cpp.o\u001b[0m\n",
            "[ 78%] \u001b[32mBuilding CXX object src/openpose/pose/CMakeFiles/openpose_pose.dir/poseParameters.cpp.o\u001b[0m\n",
            "[ 78%] \u001b[32mBuilding CXX object src/openpose/hand/CMakeFiles/openpose_hand.dir/renderHand.cpp.o\u001b[0m\n",
            "[ 79%] \u001b[32m\u001b[1mLinking CXX shared library libopenpose_hand.so\u001b[0m\n",
            "[ 79%] \u001b[32mBuilding CXX object src/openpose/pose/CMakeFiles/openpose_pose.dir/poseParametersRender.cpp.o\u001b[0m\n",
            "[ 79%] Built target openpose_hand\n",
            "[ 79%] \u001b[34m\u001b[1mBuilding NVCC (Device) object src/openpose/net/CMakeFiles/openpose_net.dir/openpose_net_generated_resizeAndMergeBase.cu.o\u001b[0m\n",
            "nvcc warning : The 'compute_35', 'compute_37', 'compute_50', 'sm_35', 'sm_37' and 'sm_50' architectures are deprecated, and may be removed in a future release (Use -Wno-deprecated-gpu-targets to suppress warning).\n",
            "nvcc warning : The 'compute_35', 'compute_37', 'compute_50', 'sm_35', 'sm_37' and 'sm_50' architectures are deprecated, and may be removed in a future release (Use -Wno-deprecated-gpu-targets to suppress warning).\n",
            "[ 80%] \u001b[32mBuilding CXX object src/openpose/pose/CMakeFiles/openpose_pose.dir/poseRenderer.cpp.o\u001b[0m\n",
            "[ 80%] \u001b[32mBuilding CXX object src/openpose/pose/CMakeFiles/openpose_pose.dir/renderPose.cpp.o\u001b[0m\n",
            "[ 80%] \u001b[32m\u001b[1mLinking CXX shared library libopenpose_pose.so\u001b[0m\n",
            "[ 80%] Built target openpose_pose\n",
            "[ 80%] \u001b[34m\u001b[1mBuilding NVCC (Device) object src/openpose/net/CMakeFiles/openpose_net.dir/openpose_net_generated_bodyPartConnectorBase.cu.o\u001b[0m\n",
            "nvcc warning : The 'compute_35', 'compute_37', 'compute_50', 'sm_35', 'sm_37' and 'sm_50' architectures are deprecated, and may be removed in a future release (Use -Wno-deprecated-gpu-targets to suppress warning).\n",
            "nvcc warning : The 'compute_35', 'compute_37', 'compute_50', 'sm_35', 'sm_37' and 'sm_50' architectures are deprecated, and may be removed in a future release (Use -Wno-deprecated-gpu-targets to suppress warning).\n",
            "[ 81%] \u001b[34m\u001b[1mBuilding NVCC (Device) object src/openpose/net/CMakeFiles/openpose_net.dir/openpose_net_generated_maximumBase.cu.o\u001b[0m\n",
            "nvcc warning : The 'compute_35', 'compute_37', 'compute_50', 'sm_35', 'sm_37' and 'sm_50' architectures are deprecated, and may be removed in a future release (Use -Wno-deprecated-gpu-targets to suppress warning).\n",
            "nvcc warning : The 'compute_35', 'compute_37', 'compute_50', 'sm_35', 'sm_37' and 'sm_50' architectures are deprecated, and may be removed in a future release (Use -Wno-deprecated-gpu-targets to suppress warning).\n",
            "[ 81%] \u001b[34m\u001b[1mBuilding NVCC (Device) object src/openpose/net/CMakeFiles/openpose_net.dir/openpose_net_generated_nmsBase.cu.o\u001b[0m\n",
            "nvcc warning : The 'compute_35', 'compute_37', 'compute_50', 'sm_35', 'sm_37' and 'sm_50' architectures are deprecated, and may be removed in a future release (Use -Wno-deprecated-gpu-targets to suppress warning).\n",
            "nvcc warning : The 'compute_35', 'compute_37', 'compute_50', 'sm_35', 'sm_37' and 'sm_50' architectures are deprecated, and may be removed in a future release (Use -Wno-deprecated-gpu-targets to suppress warning).\n",
            "\u001b[35m\u001b[1mScanning dependencies of target openpose_thread\u001b[0m\n",
            "[ 81%] \u001b[32mBuilding CXX object src/openpose/thread/CMakeFiles/openpose_thread.dir/defineTemplates.cpp.o\u001b[0m\n",
            "\u001b[35m\u001b[1mScanning dependencies of target openpose_net\u001b[0m\n",
            "[ 82%] \u001b[32mBuilding CXX object src/openpose/net/CMakeFiles/openpose_net.dir/bodyPartConnectorBase.cpp.o\u001b[0m\n",
            "[ 82%] \u001b[32m\u001b[1mLinking CXX shared library libopenpose_thread.so\u001b[0m\n",
            "[ 82%] Built target openpose_thread\n",
            "\u001b[35m\u001b[1mScanning dependencies of target openpose_tracking\u001b[0m\n",
            "[ 83%] \u001b[32mBuilding CXX object src/openpose/tracking/CMakeFiles/openpose_tracking.dir/defineTemplates.cpp.o\u001b[0m\n",
            "[ 83%] \u001b[32mBuilding CXX object src/openpose/tracking/CMakeFiles/openpose_tracking.dir/personIdExtractor.cpp.o\u001b[0m\n",
            "[ 83%] \u001b[32mBuilding CXX object src/openpose/net/CMakeFiles/openpose_net.dir/bodyPartConnectorBaseCL.cpp.o\u001b[0m\n",
            "[ 83%] \u001b[32mBuilding CXX object src/openpose/net/CMakeFiles/openpose_net.dir/bodyPartConnectorCaffe.cpp.o\u001b[0m\n",
            "[ 83%] \u001b[32mBuilding CXX object src/openpose/tracking/CMakeFiles/openpose_tracking.dir/personTracker.cpp.o\u001b[0m\n",
            "[ 84%] \u001b[32mBuilding CXX object src/openpose/net/CMakeFiles/openpose_net.dir/maximumBase.cpp.o\u001b[0m\n",
            "[ 84%] \u001b[32mBuilding CXX object src/openpose/net/CMakeFiles/openpose_net.dir/maximumCaffe.cpp.o\u001b[0m\n",
            "[ 84%] \u001b[32mBuilding CXX object src/openpose/tracking/CMakeFiles/openpose_tracking.dir/pyramidalLK.cpp.o\u001b[0m\n",
            "[ 84%] \u001b[32mBuilding CXX object src/openpose/net/CMakeFiles/openpose_net.dir/netCaffe.cpp.o\u001b[0m\n",
            "[ 85%] \u001b[32m\u001b[1mLinking CXX shared library libopenpose_tracking.so\u001b[0m\n",
            "[ 85%] Built target openpose_tracking\n",
            "\u001b[35m\u001b[1mScanning dependencies of target openpose_unity\u001b[0m\n",
            "[ 85%] \u001b[32mBuilding CXX object src/openpose/unity/CMakeFiles/openpose_unity.dir/unityBinding.cpp.o\u001b[0m\n",
            "[ 85%] \u001b[32m\u001b[1mLinking CXX shared library libopenpose_unity.so\u001b[0m\n",
            "[ 85%] Built target openpose_unity\n",
            "\u001b[35m\u001b[1mScanning dependencies of target openpose_gui\u001b[0m\n",
            "[ 86%] \u001b[32mBuilding CXX object src/openpose/gui/CMakeFiles/openpose_gui.dir/defineTemplates.cpp.o\u001b[0m\n",
            "[ 87%] \u001b[32mBuilding CXX object src/openpose/net/CMakeFiles/openpose_net.dir/netOpenCv.cpp.o\u001b[0m\n",
            "[ 87%] \u001b[32mBuilding CXX object src/openpose/gui/CMakeFiles/openpose_gui.dir/frameDisplayer.cpp.o\u001b[0m\n",
            "[ 87%] \u001b[32mBuilding CXX object src/openpose/gui/CMakeFiles/openpose_gui.dir/gui.cpp.o\u001b[0m\n",
            "[ 87%] \u001b[32mBuilding CXX object src/openpose/net/CMakeFiles/openpose_net.dir/nmsBase.cpp.o\u001b[0m\n",
            "[ 88%] \u001b[32mBuilding CXX object src/openpose/gui/CMakeFiles/openpose_gui.dir/guiAdam.cpp.o\u001b[0m\n",
            "[ 88%] \u001b[32mBuilding CXX object src/openpose/gui/CMakeFiles/openpose_gui.dir/gui3D.cpp.o\u001b[0m\n",
            "[ 88%] \u001b[32mBuilding CXX object src/openpose/net/CMakeFiles/openpose_net.dir/nmsBaseCL.cpp.o\u001b[0m\n",
            "[ 88%] \u001b[32mBuilding CXX object src/openpose/gui/CMakeFiles/openpose_gui.dir/guiInfoAdder.cpp.o\u001b[0m\n",
            "[ 88%] \u001b[32mBuilding CXX object src/openpose/net/CMakeFiles/openpose_net.dir/nmsCaffe.cpp.o\u001b[0m\n",
            "[ 88%] \u001b[32m\u001b[1mLinking CXX shared library libopenpose_gui.so\u001b[0m\n",
            "[ 88%] Built target openpose_gui\n",
            "\u001b[35m\u001b[1mScanning dependencies of target openpose_producer\u001b[0m\n",
            "[ 89%] \u001b[32mBuilding CXX object src/openpose/producer/CMakeFiles/openpose_producer.dir/datumProducer.cpp.o\u001b[0m\n",
            "[ 90%] \u001b[32mBuilding CXX object src/openpose/net/CMakeFiles/openpose_net.dir/resizeAndMergeBase.cpp.o\u001b[0m\n",
            "[ 90%] \u001b[32mBuilding CXX object src/openpose/producer/CMakeFiles/openpose_producer.dir/defineTemplates.cpp.o\u001b[0m\n",
            "[ 90%] \u001b[32mBuilding CXX object src/openpose/producer/CMakeFiles/openpose_producer.dir/flirReader.cpp.o\u001b[0m\n",
            "[ 90%] \u001b[32mBuilding CXX object src/openpose/net/CMakeFiles/openpose_net.dir/resizeAndMergeBaseCL.cpp.o\u001b[0m\n",
            "[ 90%] \u001b[32mBuilding CXX object src/openpose/net/CMakeFiles/openpose_net.dir/resizeAndMergeCaffe.cpp.o\u001b[0m\n",
            "[ 90%] \u001b[32mBuilding CXX object src/openpose/producer/CMakeFiles/openpose_producer.dir/imageDirectoryReader.cpp.o\u001b[0m\n",
            "[ 91%] \u001b[32m\u001b[1mLinking CXX shared library libopenpose_net.so\u001b[0m\n",
            "[ 91%] Built target openpose_net\n",
            "[ 92%] \u001b[32mBuilding CXX object src/openpose/producer/CMakeFiles/openpose_producer.dir/ipCameraReader.cpp.o\u001b[0m\n",
            "[ 92%] \u001b[32mBuilding CXX object src/openpose/producer/CMakeFiles/openpose_producer.dir/producer.cpp.o\u001b[0m\n",
            "[ 92%] \u001b[32mBuilding CXX object src/openpose/producer/CMakeFiles/openpose_producer.dir/spinnakerWrapper.cpp.o\u001b[0m\n",
            "[ 93%] \u001b[32mBuilding CXX object src/openpose/producer/CMakeFiles/openpose_producer.dir/videoCaptureReader.cpp.o\u001b[0m\n",
            "[ 93%] \u001b[32mBuilding CXX object src/openpose/producer/CMakeFiles/openpose_producer.dir/videoReader.cpp.o\u001b[0m\n",
            "[ 93%] \u001b[32mBuilding CXX object src/openpose/producer/CMakeFiles/openpose_producer.dir/webcamReader.cpp.o\u001b[0m\n",
            "[ 94%] \u001b[32m\u001b[1mLinking CXX shared library libopenpose_producer.so\u001b[0m\n",
            "[ 94%] Built target openpose_producer\n",
            "\u001b[35m\u001b[1mScanning dependencies of target openpose_utilities\u001b[0m\n",
            "[ 95%] \u001b[32mBuilding CXX object src/openpose/utilities/CMakeFiles/openpose_utilities.dir/errorAndLog.cpp.o\u001b[0m\n",
            "[ 95%] \u001b[32mBuilding CXX object src/openpose/utilities/CMakeFiles/openpose_utilities.dir/fileSystem.cpp.o\u001b[0m\n",
            "[ 95%] \u001b[32mBuilding CXX object src/openpose/utilities/CMakeFiles/openpose_utilities.dir/flagsToOpenPose.cpp.o\u001b[0m\n",
            "[ 96%] \u001b[32mBuilding CXX object src/openpose/utilities/CMakeFiles/openpose_utilities.dir/keypoint.cpp.o\u001b[0m\n",
            "[ 96%] \u001b[32mBuilding CXX object src/openpose/utilities/CMakeFiles/openpose_utilities.dir/openCv.cpp.o\u001b[0m\n",
            "[ 96%] \u001b[32mBuilding CXX object src/openpose/utilities/CMakeFiles/openpose_utilities.dir/openCvPrivate.cpp.o\u001b[0m\n",
            "[ 96%] \u001b[32mBuilding CXX object src/openpose/utilities/CMakeFiles/openpose_utilities.dir/profiler.cpp.o\u001b[0m\n",
            "[ 97%] \u001b[32mBuilding CXX object src/openpose/utilities/CMakeFiles/openpose_utilities.dir/string.cpp.o\u001b[0m\n",
            "[ 97%] \u001b[32m\u001b[1mLinking CXX shared library libopenpose_utilities.so\u001b[0m\n",
            "[ 97%] Built target openpose_utilities\n",
            "\u001b[35m\u001b[1mScanning dependencies of target openpose_wrapper\u001b[0m\n",
            "[ 97%] \u001b[32mBuilding CXX object src/openpose/wrapper/CMakeFiles/openpose_wrapper.dir/defineTemplates.cpp.o\u001b[0m\n",
            "[ 98%] \u001b[32mBuilding CXX object src/openpose/wrapper/CMakeFiles/openpose_wrapper.dir/wrapperAuxiliary.cpp.o\u001b[0m\n",
            "[ 98%] \u001b[32mBuilding CXX object src/openpose/wrapper/CMakeFiles/openpose_wrapper.dir/wrapperStructExtra.cpp.o\u001b[0m\n",
            "[ 98%] \u001b[32mBuilding CXX object src/openpose/wrapper/CMakeFiles/openpose_wrapper.dir/wrapperStructFace.cpp.o\u001b[0m\n",
            "[ 99%] \u001b[32mBuilding CXX object src/openpose/wrapper/CMakeFiles/openpose_wrapper.dir/wrapperStructGui.cpp.o\u001b[0m\n",
            "[ 99%] \u001b[32mBuilding CXX object src/openpose/wrapper/CMakeFiles/openpose_wrapper.dir/wrapperStructHand.cpp.o\u001b[0m\n",
            "[ 99%] \u001b[32mBuilding CXX object src/openpose/wrapper/CMakeFiles/openpose_wrapper.dir/wrapperStructInput.cpp.o\u001b[0m\n",
            "[ 99%] \u001b[32mBuilding CXX object src/openpose/wrapper/CMakeFiles/openpose_wrapper.dir/wrapperStructOutput.cpp.o\u001b[0m\n",
            "[100%] \u001b[32mBuilding CXX object src/openpose/wrapper/CMakeFiles/openpose_wrapper.dir/wrapperStructPose.cpp.o\u001b[0m\n",
            "[100%] \u001b[32m\u001b[1mLinking CXX shared library libopenpose_wrapper.so\u001b[0m\n",
            "[100%] Built target openpose_wrapper\n",
            "Built target openpose_lib\n"
          ]
        }
      ]
    },
    {
      "cell_type": "markdown",
      "source": [
        "# Input setup (Upload input_data)"
      ],
      "metadata": {
        "id": "ci73LcEsuGZ5"
      }
    },
    {
      "cell_type": "markdown",
      "source": [
        "Upload the input_data folder with the following:\n",
        "- cloth (contains the image of the cloth)\n",
        "- cloth-mask\n",
        "- image (contains the image of the person)\n",
        "- image-parse\n",
        "- pose\n",
        "- train_pairs.txt\n",
        "- test_paris.txt\n",
        "\n",
        "The cloth file image should be named as follows: cloth@1=cloth_front.jpg\n",
        "\n",
        "The image file image should be named as follows: person@1=person_whole_front.png"
      ],
      "metadata": {
        "id": "SHclx55VvGHs"
      }
    },
    {
      "cell_type": "code",
      "source": [
        "cd /content/m3d-vton"
      ],
      "metadata": {
        "colab": {
          "base_uri": "https://localhost:8080/"
        },
        "id": "NOq9w0g8zdKi",
        "outputId": "4216a5e6-72fa-448e-f586-ccce186b11e3"
      },
      "execution_count": 18,
      "outputs": [
        {
          "output_type": "stream",
          "name": "stdout",
          "text": [
            "/content/m3d-vton\n"
          ]
        }
      ]
    },
    {
      "cell_type": "code",
      "source": [
        "from google.colab import files\n",
        "files.upload()"
      ],
      "metadata": {
        "colab": {
          "resources": {
            "http://localhost:8080/nbextensions/google.colab/files.js": {
              "data": "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",
              "ok": true,
              "headers": [
                [
                  "content-type",
                  "application/javascript"
                ]
              ],
              "status": 200,
              "status_text": ""
            }
          },
          "base_uri": "https://localhost:8080/",
          "height": 112
        },
        "id": "qkbuyqlKUBMj",
        "outputId": "048a46fc-3a34-4259-844a-42b7b60faea1"
      },
      "execution_count": 19,
      "outputs": [
        {
          "output_type": "display_data",
          "data": {
            "text/html": [
              "\n",
              "     <input type=\"file\" id=\"files-f9c7e132-3f2e-44f6-9927-3459f605143b\" name=\"files[]\" multiple disabled\n",
              "        style=\"border:none\" />\n",
              "     <output id=\"result-f9c7e132-3f2e-44f6-9927-3459f605143b\">\n",
              "      Upload widget is only available when the cell has been executed in the\n",
              "      current browser session. Please rerun this cell to enable.\n",
              "      </output>\n",
              "      <script src=\"/nbextensions/google.colab/files.js\"></script> "
            ],
            "text/plain": [
              "<IPython.core.display.HTML object>"
            ]
          },
          "metadata": {}
        },
        {
          "output_type": "stream",
          "name": "stdout",
          "text": [
            "Saving input_data.zip to input_data.zip\n"
          ]
        },
        {
          "output_type": "execute_result",
          "data": {
            "text/plain": [
              "{'input_data.zip': b'PK\\x03\\x04\\x14\\x00\\x00\\x00\\x00\\x00\\xc1\\x01IT\\x00\\x00\\x00\\x00\\x00\\x00\\x00\\x00\\x00\\x00\\x00\\x00\\x11\\x00\\x00\\x00input_data/cloth/PK\\x03\\x04\\x14\\x00\\x00\\x00\\x08\\x00\\xe7\\x90ET\\x9a\\xb03\\xb9\\x00\\x1e\\x00\\x00\\xe6\\x1e\\x00\\x00(\\x00\\x00\\x00input_data/cloth/cloth@1=cloth_front.jpg\\xa5xuT\\x1c\\xcf\\xb6n\\x0f\\x83\\x07gpw\\x18$\\xb8\\x06\\x87\\x00\\x83{ \\x86\\xbb\\r\\xc1]\\x83\\x06\\x1d\\xdc5\\x0c\\x0e\\x01\\x12\\x08\\x90\\x04\\t\\xee\\x12\\x9c\\xe0\\x10\\x82\\x07\\xb7K\\xce\\xef\\xbc{\\xcfzo\\xad\\xfb\\xcf\\xdb\\xdd\\xab\\xd7\\xaa\\xda\\xd5\\xbb\\xf7\\xfe\\xaa\\xf6W\\xbd\\xeb~\\xe6\\xfe\\'@\\x00{\\xaa\\xf2\\x14\\x00\\x81\\x00\\x00\\xf4p\\x01\\xf7w\\x00\\x9d\\xbc\\xb3\\xa3\\x8b\\xab\\xe5\\x9b7\\x96\\x16\\xf4f\\xde\\xf4v.\\x96\\xd6\\xdc\\xae\\x96\\xe6\\xff\\xee\\xbc\\x9f\\x07\\xc2\\x00\\xd4\\xff\\x16tt4ttL\\x8c\\x07\\xc1\\xc4\\xc1\\xfa+8\\xc48x8\\x0f71!\\x84\\x00\\x9f\\x00BHKFBBF\\xcbHCE\\xc3\\x08ea\\x81\\n\\xf2\\x0b*(\\xbc\\x00\\xfd\\xff\\x1a\\xb8\\xef\\x00\\x081Q\\x00\\x90\\x0c\\x18\\xc4\\x08\\xa0\\x10\\x82\\xc0\\x84\\xa0\\xfb.\\x80\\xfao\\x1c(\\xe0\\xbf\\xc1\\xfc\\x1fA\\x01c\\x80P\\xd1\\xd10\\xef\\xe7\\x00\\xcc\\x7f\\xfaoo\\x80\\xff]\\xf0D7zUse\\x00\\x00uM\\x00\\x83\\xbc^\\x0b\\x00\\xc0\\x11\\xc3\\x87R\"\\xee\\xb7\\xaf\\xbc\\xb6rKKg_\\x9b}Z{\\xd0\\x13\\xc6\\x05\\xb06\\xfe\\x90\\x96j_\\x9a9_\\xcc\\x95B\\xcf;\\x14kk\\x1a;#\\x1d\\xe8\\x05\\xd0\\xa5I\\xcaZ\\x91\\xf1\\xc2*\\x07>5i[W\\xd5\\xd5\\xb0?T\\x8fm<\\xbe\\x02\\xbb\\xad\\x1e\\x85G\\xa7\\x99\\xe9\\xfd{\\xe6\\xdf\\x7fm\\xf6\\xc9\\xef\\x06\\x04]\\xa7\\xa4%`\\xd0jj\\xdb\\xb7\\x7fW\\xeb\\xe3\\xdd\\xec\\x89o\\x13\\x80\\x96hj\\xee\\xfe\\xbeM;\\x15\\x03E\\x0c\\xdb\\xe6\\x11\\xbe\\x0cX\\xa3\\xcf\\xc8\\x9eMwY/DN\\xec\\xdd\\x1c\\xa8\\xd4\\xdf.\\xcf\\x0eS\\x07\\xf8M\\x9dd\\xd5\\x89U\\xd41\\xc7\\xda\\x95\\x93\\xa8I\\xc6r\\xa5\\x1c\\x9c\\xe7\\xca\\xdct\\xff\\xac\\x101\\xcb\\x89\\r\\xb1\\x8dK\\x91\\xd5\\x15\\x12c\\xad\\xbbZ\\x1ek\\xa0\\x8c\\x90\\xd9\\x1c\\xca\\xfc` \\x03AI?\\xd6[\\xab\\x9e\\x1e\\x9b\\xffy\\x92\\x97T\\xd1\\x98\\xf4\\x81\\x1f*\\xcf\\xa80e@=(\\xf6A\\xe4\\xa0~]|9\\xd5o\\xd3i\\x04\\xda\\'\\xa3c\\xcbb@}\\xaed\\xfd\\xa7\\xc7\\x8f\\xdc\\xcd\\xa0\\xbcof(\\x82U\\x11%Y\\x05Z{\\xc6!&\\x99{\\xd9\\x8b\\xdev\\xb3\\x95\\xccj\\xb1n\\x81\\xae\\x92\\xa0K\\xe6\\xd0\\'\\x11c\\r\\\\~I2\\xe2=g\\xcd\\x00%Y@\\xba\\xe7\\xcd\\xb3\\xf3J\\xdbGq\\xa43\\x9f\\xa4j|\\xb1\\x17\\xa0\\xa7`\\x81r\\xc4}~\\xb6\\xb5\\x7f\\x978\\x08\\xa6M\\x99\\x14k\\xb9\\xad\\x9c\\x92\\xb1@\\x94\\x15\\xd5,\\xf4I\\xd0\\xb9Z\\x82\\xe2\\xbb\\x02<z&\\xae2\\xf8\\x95)\\x88\\x053+\\xbd\\xd9\\x84,\\x96\\xa4\\x96\\xe9\\xf1\\xc4\\xe9\\x92\\xe17\\xf7@\\xc9\\x1c\\x12\\xcc(\\xe7rF\\x1e\\x90\\xaa\\xb2|W\\xf8\\xd5e:g\\xa4\\xad\\xac\\x95EE\\xc7Bm\\x8a\\xc4\\x1f\\xdf\\xb9\\xdd\\xb5~=\\x1f\\x0f\\xcf\\xed{\\xb5\\x8aN\\xb9\\x8a\\xa2\\xa1\\xa6\\xfd\\xbe*\\x00\\x8c\\xcf}c\\x81!\\xa1$/\\xfd\\xf3Z\\x9a\\x01\\xd0\\xf7\\x94\\xe9\\xf4\\xaf\\x95\\xe9\\x13\\t\\xbax\\xfd\\x8b7A\\xc0\\x1al\\x97\\x03\\xa5\\x9aXO\\x17\\xafw\\xe9I\\x10`\\xeb\\xf8R\\x07\\xfbS\\xa6\\x0e|YB\\xc4\\xdd\\x15\\x00\\x95\\n\\xb9\\xca\\x1a\\x12\\xc34\\x84\\xf6\\xd4\\xfb\\x1ef7g\\x8a\\x03\\xed\\x0564K\\xd5\\x05\\x00\\x84\\xf0\\x8a7e\\x8d\\xf8\\xa2\\xff\\xdd\\x12\\xceW\\xce\\xacL\\x9f\\xcc\\xd4\\x17\\xce]\\x06\\x00\\xbb6\\t~\\xd6\\nV!\\xd6\\x14\\xf5\\xf7\\x1f\\xbf\\x02\\x94\\x1f\\xd5\\xfb\\xe5\\xea\\xd5\\xc6\\xf5z\\xe7|\\xfd\\x00P\\x85\\xdbB1\\xb4X\\x1d\\x9ae\\xed\\x18\\x04\\x08\\x19\\xe4\"\\xc2\\xf5\\x92\\xc5\\xd0\\x1co\\xab\\x01`\\xca\\x18N_\\x99\\xbe\\x99\\xac\\x1b\\xcf\\xea\\xd8\\xd9\\xf0\\x15\\x10\\x9d\\xf2\\xb1\\x81\\xc5&\\xc7Eg\\xf4e\\xb98\\xd2\\x03\\xe8\\xa5\\x13]\\xbd\\x0f\\x03B\\xca\\xcf\\xd1\\'\\xd7\\x01\\xb0\\xf6/H\\x9f@\\xd2{\\x1a\\x9d\\x14\\xc3O\\xc2\\xef\\xe9\\x01\\xd1\\x89\\xb9\\xd4\\xa7O\\xd2g\\xeb\\x86\\x15*X\\x9f\\xae\\xcf\\xfd\\x13S\\xacyvr&|\\xbd<\\x1b\\x913\\xd0\\xd0\\xfc\\x00\\x8a\\xf1g\\xe6~\\xf8g\\x12\\x8e\\xde\\x02\\x89\\x08\\x87\\x878\\x0bO\\xdb\\xd4\\xd2\\xb7\\x84\\x15\\x86\\xd5\\xd2\\xf5\\xd5?\\xfc\\xf5\\x98\\xf8+s\\x06\\xbf\\xde0\\xacG_\\xb7\\xfe\\xdc\\x9a\\x1e\\xa0\\xcbk\\xa5\\xd7\\x10G\\xf6f\\x87 \\x0f<{\\x1e\\xda9\\xad:Q\\xdf\\x87\\xe2\\xec\\xca,\\x90g\\xd2\\x056\\x00\\xf8$\"\\xa1\\xb8nr\\xdd\\xbc2\\xca\\xa2o\\xd0\\xc7y\\x1c\\x02\\x80.\\xdf\\x0fLF\\xf7\\xa8\\x05\\x95kN\\xdf\\xca\\xf7\\x02x\\xd2\"\\xde\\x86\\xd4\\x034\\xda\\xba*\\xe5\\x1em\"\\xdb\\x0f\\xb9\\x04?\\xb1\\x8e\\xa56\\xbf\\xfc\\xf28\\x16\\xdeC6\\x10\\xf7\\xe3\\xc7\\x95d\\xf5\\xa6\\xf1\\xff\\x9a\\xa6\\xff\\xb7\\xfc\\x8b\\x00\\xfe\\x9d\\xff\\xffA\\x00 \\x140:\\x06\\x1a\\xea?\\x04\\x80B\\xf0\\x1f/\\x1022\\x03\\x86\\xbd\\xa3\\xed\\x01i\\xdb\\xbb\\xc6R\\xb7\\x07\\xc62\\xd5_F\\x84\\xa2\\xb5\\xcf.\\xc74\\x03+\\x1c\\x92\\x98\\xba\\xb6|\\x86\\xa1\\x8a\\xf0q\\xfb8\\x01g\\x1a\\xaa\\x99\\x0f\\xcf\\xd6\\xe10\\x9d\\xc4\\xb8\\xc6*\\xd2\\xa8\\xdf\\xbe\\x03\\xc3+\\x17k$\\x9c\\xb0q\\x84\\xba\\xd5\\x97|\\xff?piR\\xceh\\x0e\\xe3\\xa7\\xcck\\xfe\\xf7@\\xd1\\xfe\\x1bn\\xd2\\xc6*\\x8e8\\x0e\\xb9w\\'\\xf5\\xeft\\x93&h\\x18\\x11\\xd5\\xec\\x9c4\\x15\\x9etlh~\\xa7\\xb1n\\xb1\\xcc\\x96\\x01\\xe1\\xa7\\n\\xde\\xaf\\xa4\\xe9\"{\\xd4\\xf8\\x08%k\\\\ZC\\x9f\\xad\\x11\\x92\\x1fN\\x97\\x8f\\xb8\\xcc\\x7f\\xb5\\x7fb\\xd6X\\xc2\\x11\\xeb\\xb1\\xf7\\x15\\xbd\\xb9\\x9b1\\xa5\\'\\xae,\\xee\\xa0!\\xe8\\x87WRC\\xa7\\xb2\\x81\\xc4\\xf0(\\xf8\\xf5\\xcav)\\xa5\\x1c\\xe7\\x92G\\x10\\xe59\\x81\\xc1\\'{\\x9d\\xb6\\x13\\x0bP\\xcd\\x11\\xe5w(\\x1f\\xe1R\\x93\\x16\\xe59\\xa4\\xd2\\xbc\\x87D\\'\\xe7\\xdc\\x1cTu\\x14=\\xcd\\xa7\\r\\xfb\\xd1\\xf6;H(@\\x84$\\x96\\xa0\\xc3\\xd31\\x1f\\xbd\\xa8\\xd7\\x16R\\x05\\x1f\\xdd\\xcbJ\\xc0\\x95N\\xec\\xe6P.\\x15<\\xa39D\\xcf\\xea\\xe7[+\\xb1\\x7f\\x01O\\xaev\\xfe\\xc9\\x11O\\xfb8\\x9e\\xc6Jj\\xe4\\xc3v\\xed\\xff\\xc0\\xf6\\x003\\xd5\\xffC\\xb3\\x00\\x08\\x03\\x05\\r\\x1d\\x8c\\xfa/\\x94\\xc1\\xff\\x892&B\\x19\\xd0\\x18h:\\xadi\\xe7\\xde2\\xef\\xde\\t\\xa2\\xca\\xbd\\x07\\x8a\\xff\\xc4\\xd3\\xc5\\x98f\\xa9<\\xb75\\x11\\xbe=P\\xcf\\x1e\\x0c\\x8e \\xeb\\xdc\\x8d{;9\\xf2d\\x82^\\xc1\\xdc\\xc0u\\xa4i\\xebt\\x80#\\x03\\x85Vo\\xba\\xec\\x93\\xa7\\x91J\\x02\\xf9\\xf7\\xf6\\xe4\\x90\\xce}\\xbeS~\\xf0\\xb0W\\xff\\xa4[j\\x93T}\\x06\\x06b\\xca\\xef\\xd3y\\xeb\\xab\\xdeA\\xf2\\x8b\\xcb\\tiL\\x87\\xa6\\xd4\\x0e\\x0b\\xf2\\xc9\\x9bM\\xc0y\\xefO/c\\xd1\\x16\\xe0\\\\\\x8d\\xdaKB&\\n\\xf6uQ\\xebe\\xcc\\x1b\\x05\\x16\\x17\\\\\\x13\\xcc\\xb5l\\x00\\'\\'\\xa3\\x04\\xbe2A@\\x84\\xec\\x89\\x05\\xaa\\xae\\x8f\\x0cUV&?\\nG\\x0e/\\xeeF\\'WP\\xa9[\\xbe\\xc8\\x0f\\xa0\\x172\\x8c\\xc0Pt\\xecK\\xe0X\\xc4\\xc4\\xcb\\xfc\\x81\\xb0\\xc2N\\xce\\x04M\\xcdi\\xa7\\xca\\xe8g\\'\\xe0\\xd5\\x0f\\xf7\\xbb\\xf6\\xc5\\xae\\xbd\\xb3\\xee\\t\\xca3\\xfas\\xf5!\\xdd\\xcb/@\\xe6\\x7f\\xc0x\\xc0H\\x8d\\xe0\\xef\\xd2\\x03c\\xa2a<lnh\\x7f\\xa1z\\xd8\\xae\\xc0\\xa8Dh\\x84|\\xe8\\x18\\x04\\xf4\\x0c\\x8c\\xfc\\xb2\\xc4\\xbc2r:\\x10&\\x01S3\\xd7z\\x12fA!\\xed7n!dz\\xe6\\x16\\xf0\\xe0$\\x16E]\\xfd\\xc4\\xc2o\\xa4\\xf2.Ac\\x87\\xff\\xde\\xbb@\\xd2\\xc0=02|.\\xb4\\xad\\x9e\\x97Tu\\xda\\xb7O\\xaa\\xbf\\x94q\\xe04\\xf7\\x8c4\\xd8sI=\\xf2d:\\xaac\\xa7V\\xd6\\x1de\\xb1\\xfeH7\\x15\\x81\\x08c\\x8c\\x11\\xa2\\x96AkB.\\xac\\xf4~\\x13\\r\\xe6\\x92d\\x0bC4\\xc1\\xdf\\x17\\xcc\\x93\\x0c\\x86^r\\xa4\\x08^\\xe8\\xe7\\xd8\\xc2\\xe6\\xb4\\x8c\\x9f\\x14\\x1b\\xf0r\\xe9\\xaf\\xd6X\\xbe\\xaeQT+5\\xff\\x16\\x8cY\\xa8(lJS\\xfd\\xfe$f\\xd4\\x12\"F\\x0ezQ%\\xf1\\xbd\\xf2\\xdan\\xb8!c\\xce\\xc0\\x02\\xab\\x87\\xf4\\x9a\\xc4\\xccK*f\\xca\\xf1\\xac\\x94>\\xe0\\xbbb\\x13\\xe2\\x15\\xd5\\x97LW\\x13\\xaa\\xc1&\\x11!\\x1bK\\x96dky\\xc6w\\x82x\\xaf\\xb0?\\xa6 \\xb3\\xd3K\\xb5\\x19f\\x0e\\xab}\\xe0\\xd1\\xfdv\\x13\\r\\xd6k\\x84=q\\xbe\\x0b\\x0e\\x9a-\\xcd\\xd51%\\xfc\\x94\\xfa\\x89Ns\\x06\\xcc\\xcf\\x9cy|+_\\xb0tT\\xfa}I\\xce\\x86\\x87\\x8a\\xf3\\x10J\\x8c,\\xeaL$M0\\xb2\\xa1\\x88\\xd2\\xdc\\x91i\\xee\\x17\\xc2A\\xad\\xd1\\x07\\xabU\\\\\\xc5\\x1f\\x1cz\\x15\\tV\\xa3\\xf2\\x82s\\x9e{\\xbf\\x96\\xb4\\x17\\xeb\\x08{I\\xdd\\xcc.\\xe5a%\\xe8g\\xbb\\x88\\x94\\xcb\\x8dg!.I\\xcd\\xf0\\x82\\xfb~\\xf6T1\\x12\\xebmbyajLC\\xade\\xba\\x82\\xbed\\xc0j\\xfc\\xec\\xacVw\\xa2\\x01\\xb3\\x1d\\xb3\\x06\\xf6\\xd6\\xcc\\xdc\\x97<\\xa1\\x9d\\x8c\\xf5\\x0e\\xb6;a:\\x13\\x97j\\xc6\\xe6A\\xe2\\xb8\\x91\\x92b>\\x85\\xb9\\xfa\\'\\x11Y\\xa6\\xe0\\x19\\xfe\\xdc\\xc8\\xd1\\xc1\\xb8Z\\x1es\\xc9\\x18\\xbf\\xf6Fy\\xb9\\x9f\\xb69=\\x1er\\xa3\\x10c\\xef\\xf4[Fj*`\\x8c\\xc7\\x8e\\x82\\x0c&\\xb7D\\xf2\\xe6\\xc0\\x99\\'z\\xb3\\xbcj\\x83\\xc1a\\xce\\xc3Au\\xa3(\\x07\\xb7C\\xa4``\\xde\\xbch\\x89\\xe6`\\xb5\\xf4\\xb8\\xe9G6\\x11Q\\x06/\\x9d%\\xc5\\xe0`\\xb3B\\x0cun\\xf5y\\xd4\\xd3tr^F\\xbeW\\xcf[az\\xe2\\x1cvO\\xe4u\\xde\\x81K\\xe1\\x94Z\\xb0H\\xa93)\\xe6\\xd1\\x16\\xfej\\xda\\x99\\xd6wF\\xcd\\x9a\\xce\\xb3#\\x9f\\x85\\xe1\\xc1\\x9f\\xdf\\xc2:\\x87\\x99[g;S\\x1aL\\xffX\\xbd\\\\9b\\xe7+\\xe8&\\x14}\\xca\\x8a?\\x94W\\xfb\\xea|\\x8fD\\x7fH\\x1f\\xb60`\\xcf\\xd3\\x13N\\x94L>&\\xe3\\x19\\xf4\\x1a\\xcdv\\x0be\\xae12D}\\t\\x82BM\\xd6\\xaa\\xb1\\xfe\\xbcKa\\xa7\\xc03\\x85\\xa3v\\xd2\\x93\\xd5\\x8cA\\x96Zb\\'\\x93\\xf0\\x9dYLg\\xfe\\x8b\\x8fm\\xb9$\\xc4\\xc3\\x8a\\xe4\\xf2\\x9d]\\xca\\xcb6\\xf1\\xe1\\xc2S\\x03\\x9a\\nl\\xb5M>S\\x11)\\x1eU\\xc1D\\xd4\\xac\"\\xef\\xb8\\r\\x0e+(\\x97\\x92\\x9bXV\\xbaS\\xa3\\x85\\x08\\x0e0\\xc2\\x89\\xf7N9\\x17\\xaf\\x91\\xb5\\xbf\\x961\\x0c\\xbe\\xeb\\xcc\\x1a(\\x10\\xb1\\x8fu\\x8d|\\x1di\\xad\\xaali\\xe0f\\x88$\\x1a>\\xdcXN\\xdfOj\\x88c\\xe8\\x9f|\\xba\\xafDL&#\\x89\\x8aR\\xe3\\x86\\xa4%\\x19\\xf3Lv\\xda\\xafh\\xc0\\x8b\\xb3\\x11\\xc9M\\xd2.\\t\\xfbU\"\\x8fY\\xeb)Q\\x98\\x151]\\xad\\x04\\x91Q\\xed\\xe9\\x937\\r!I\\xa3`\\xc2m\\xf4J\\x16\\x92\\xa8H}\\xfb\\x8d\\xca)\\xf5\\xd8\\x14Z\\x90\\xf0\\x9b\\xce\\xd6\\xe8D\\x80\\x7f\\x8ca\\xb0\\xbf\\x87\\xdd\\x8a\\xa5c\\xa4\\x0564\\xac\\x90\\x0f\\x11\\xf3\\xd5\\xa0\\xfa\\xb3 \\x84\\x8f\\x9d\\xd8\\xc0\\xf2~\\xc5\\xad\\xbe\\xeeY\\r5\\xc5\\x84\\xe9d\\xe2b\\xd7\\xb9\\xc8\\\\\\x95\\x03\\xb2\\xbe\\xd2K\\xe1\\r1\\xd8p\\xa6\\x7fvX\\xfd\\xbd\\xad\\x98\\\\B\\xbb1\\xc9\\xf3\\xd2\\x91\\xaeB\\xa5\\x18!H\\xd1`V\\xb6\\xce&\\xac<=\\x0cqq3G~a\\x86\\xe2A\\x9e/\\xe4\\x8cE\\x1f(\\xccnD\\xd4\\xfd\\xb2`\\xde\\xae\\xd3KK\\xb1\"J\\x8f\\x96\\xa5\\xe5v\\x83 R\\xd4\\xa3\\xd4nA-\\xc2[\\xe2uw\\xb1\\xdb\\x84/\\t\\x8c\\x83x?@[K\\xb6\\x83<\\xe6\\'c,\\xba\\x99U\\xd2M\\xb9\\xf1d^]4]\\x92z:\\x18\\xce[\\xc1)zh6J|\\xd8\"\\x99\\xa6\\x7f\\x86T\\r\\x18\\xce\\r\\xcc\\x1a\\x8c\\xb9\\x07 \\xdd\\xbaK#\\x9f+/\\xc4\\x07\\xa8\\x7fj\\x86\\xfd\\xde\\x88\\xb7^\\xc6\\xc8\\x87\\xc2\\xaa\\x8fc\\x8f\\xcc\\xbf\\xa4(E\\xc3\\xd5\\xce#\\x9d\\x9f*\\x0c\\xb3>\\x07w\\x04OHM\\x89|\\xc1\\xa3\\xbf\\xd0\\x03\\x9f\\x98A\\x89_\\xe2\\xe8\\x9aD\\xe1ej\\xbd\\xdb\\x99y\\x1e\\xa5\\x1dpH\\xfa+?+\\xb2\\x89\\xd5\\xf7\\x93\\xae\\xafqh\\xe95B\\xd4\\xfd;\\xe3~}\\xac\\'Hd\\xae\\xc4$r\\nr\\xc9\\xde\\xe5$\\xaf1\\xc6\\xac\\xa61\\xdf\\x19\\xd8\\x12\"\\xa8\\xcc\\xc7\\x90\\xcd^\\x8aa\\xb0?e\\xba\\xd1p\\xd3\\xa0\\xec:\\xb1\\xe4\\x85\\xb9C\\x95@\\x0c\\xe1\\x13\\xde\\xfc\\xb1k\\xcd?HA]\\xc0\\xbe\\x82o1)~pD\\xe6\\xad\\xa7\\xd8\\xfdaQm\\xc9)d~\\x8f^}Uoz\\xc3\\xd0\\x1b\\xd0\\x86\\xc8\\xb8\\xc8\\xb6\\xe1\\x18P\\x166C\\xa1\\xab\\xcc\\xdfTu\\xa0Yg\\x0c G\\x11\\xce\\x94\\xfe\\x1c\\x8c\\x900\\x0b\\xdenr\\x84\\xdc\\xd2~\\x11\\x9f\\x8d[\\xbc\\x10*\\x8eW\\xad\"\\xb9q\\x01\\x12 \\xec*\\xfb\\xe4[\\xc1\\xc2\\x8c\\xee\\xba\\x88@\\xb1_\\x89\\xc8\\x0e\\xf4~\\xc4\\x1b\\x19\\xd7\\xe4\\xce\\xb5\\x9f\\xdb\\x97\\x92\\x07ZJy\\xa7\\xe2[\\x9a^#\\x17\\x9cP\\xba*\\xf3\\xa3\\x1b)\\xfb\\xc7\\xa78B\\xe6\\x14\\\\\\x98B\\xe6AA\\x16\\xce{n\\x00]q\\\\\\xd5$\\x8f\\xf7\\xa0\\x0c\\xe7\\xd48\\xaa\\xc6mMu\\xb4|l{\\xb9F\\x93\\x82\\x19zc|)\\xcfr\\x9c\\x13o\\xa32\\xd1\\xf03E\\xeax\\xbb\\x9f\\xe2\\xe9\\xdb\\x172zi\\xeb2\"\\x13{\\xf4\\x16\\x9d\\x8b\\n\"\\xec\\x8apv&5\\xc9\\xbf\\x8en\\xb8\\x92\\xcaW\\xb9:fZI\\xe2\\xc8\\x1e\\xb1:\\x16\\xbf\\x1a\\xe2X\\xc5g\\xd5\\x83(\\xb5\\x14\\xf3\\x86QyFa\\x11\\x1f1\\xfd\\x81\\x93*\\xc1\\x04SB\\xd9>7\\xf1\\\\\\x06\\xf8\\xbbR\\xced\\x1c\\xb2\\xa4\\x9cy\\xf6]\\xaaH\\xf30\\xb9(\\xf0$\\x182\\xf0\\xed\\xef\\x17\\xc8F\\x0b\\xabG\\x96\\x05\\xc4\\n\\xe2}\\xda\\xa1\\xd1\\x1e\\xe3\\xdb\\xee\\x13\\xc6\\x0bC\\xdfp\\xa9Gb\\'\\x07\\x9d\\xe8\\xd6\\xd7w\\xfc\\xf8A\\xa0\\x08\\x93\\xa5\\xb0\\xb5\\xe1\\xa5\\x02\\xde2UO\\xfd\\\\\\xfdP\\xc5\\xeabU9\\xaf \\xb7\\xc2\\xc7nu7Nm\\x06r\\x99\\x0cGg\\x9f\\xfb\\xf3\\xd8{biE\\xab\\t\\xd8\\xa6\\xf1\\xe8,\\xa3!\\xa6\\x8dM\\x16\\xee\\x9az\\x913 \\xef\\xd9\\xa6\\xca\\xb0\\x9e\\xeb:\\x17A\\x1a\\xd3\\x819\\xbd-\\x1fS6,\\x99\\xb7\\xd1,\\xc6G\\xf0\\xb4(-\\x00\\xa1\\xcb\\x1b\\x9a\\xf2\\xfa\\x8e\\x99+\\x14b\\r\\x0b\\xa1\\xd6\\xf6/O0\\t\\xc7\\xcb\\xdfq\\x10\\xeaQsVPm\\x81&\\x1d\\xb1\\xe2~\\xd6\\x15`\\\\\\x880\\xdc0\\xfa\\x98\\xc8\\xee\\xe1\\xe7=\\x13\\xda\\xc4\\xf1B\\xea@\\xd7V\\x15\\xf57b\\x10\\xd9\\xd4[\\xdb\\xabgd\\x16L*\\x88\\xb9\\xf0\\x92E:\\x03\\xdbA\\xcfz\\x1eFTh\\xc0\\xd6R\\xdd\\x8cM#;>c\\x1f\\x97\\xbe\\x14\\x99lR\\xcd\\xec$\\xf3\\x96\\x81\\xde\\x95?\\xe2Q\\x17\\xac+\\x99\\xe2\\x11\\xbf\\x86\\x1e\\x1c\\xd3<P\\x970\\xdc\\xb2+\"\\xc1\\x12\\xb2\\xfcV$\\x8fn8\\x1c|p\\xfd\\xb9\\xdf\\xdc\\x95>/6\\xf9\\x8a=\\xf4\\xf7\\xb6\\x83\\xcf\\xdbN=7\\xbc\\xf4*?\\xf6\\xa2\\xdfe\\x18z\\x84\\x8f)\\xbfX\\xf6f\\xbc\\xa87S\\x1dp\\x9c\\x97zN\\xfaV?\\xad\\xa5\\xe0\\xdd\\xd0\\xa5O\\xb2\\xfd\\xb4\\xbb\\x85TU\\x83R\\x97V\\xdf\\xa3R\\xfb\\xafH\\xed\\x98b\\x86\\xc3\\x10.T?\\xbd\\xfc%KO\\xad\\x19\\xbb\\xb8\\xe0\\xf1\\x0b\\xa2\\xa4@A\\xd9;B\\x9d\\xf4\\x1a\\xb7\\xbd\\x0fO\\x9d,\\x8c\\x99\\x176\\n_~\\xdb\\xfeR\\x85\\xce2\\xd920\\x8b\\x9e\\xdb7[jR\\xb6\\xe2\\x1c\\x8f\\x94\\x03\\x95R\\x90\\xf9\\xe3|m\\xda\\x90\\x98\\xa2\\x07WSc{d\\x10\\x12\\xb2\\x7f\\x95\\x85((\\xb5\\x14\\xb8\\x9c\\xa2d\\xe1>\\xf9\\xc1\\xcdX\\x13\\x88]~\\\\B\\xc5a\\x82/\\xba0X\\xfe\\x14mq&\\xbd\\x97*\\xd0\\xce\\x0c\\xc3\\x08\\x8b\\x9d\\x97\\x8b\\xddR}\\x04\\x12\\x19u7\\x89\\xfb&M\\xc7\\x0by\\xe9\\x91\\x91\\x94\\x15\\xb4\\xe7\\xef\\x12\\x1b8W\\xba\\x92\\xdd0ik>\\xa3UH\\xfe\\xbe$;\\xd2O\\x88\\xa3\\x88\\xe1\\x1d\\'D5\\xc2\\xad\\x89\\x1d\\xeec\\xdb\\xa2\\xd4\\x91\\x85G\\x9b\\xaf\\xb5\\xb3\\xd9lSBc\\xe8t\\xf4X4?XL\\x0ff\\xf1\\xfd\\n\\xaa%c\\xd2LH\\xb2.\\xaf\\\\\\xc6O\\x8a\\xf8\\x1a\\x85\\x93\\xb1\\x08\\x93\\x10\\x1e\\xb3*\\xd9PO62H\\xbe\\x07f\\x84\\x92jW\\xd1\\xc2\\xe9\\t)W\\xad8\\'\\xd9>E]\\x15R\\xa6\\x94deA\\xc7\\x1b\\x984\\x14c\\xc8\\xed\\xa1\\x91\\n\\x888g\\x071\\xd5\\x8b\\xd5\\xbd\\x83\\xfc\\xbe,\\x08\\xda|\\xaf\\xa9\\xe4=`\\xc3\\xd5V\\xc7\\xec\\x80\\xbc\\x14H\\xc6\\x16\\xf7\\xb2\\xd6\\xc5F/i\\xb4\\x1d\\xe7.\\x87\\xe6\\x88\\xd0\\xf3<\\xd6\\xc9\\xb0_\\x8b\\xbc\\x08\\xb7\\xf0\\x0f\\xc5\\x9b\\xcd2K\\xa7\\xe3{\\xe4-\\x9b\\x80\\x08\\xc5\\x01\\xe8\\xc3\\x19\\'\\x7fFk\\xe8}\\xca\\x07\\xdf\\x03,\\xeb:y?1\\xae\\xe8C\\xf1\\x08\\xc6q]n#\\xe5+H\\x91\\xc96\\xc3\\x81\\x13\\\\5.w\\xcc\\x922\\xbft\\xc2\\x1b\\xd10\\xbc\\x15\\xed7M\\xb9f\\x14\\x18/\\xb5\\x1e\\x81\\xe4\\xeb\"j\\x96\\'\\xb2\\xcf/\\xf7R\\xa5\\xeb\\x1fG=r\\x98\\xaaP\\xfe\\x85\\xf7\\x81d\\xf8U\\x83\\xfa\\xd6\\xaf3\\x03G\\xbc\\x9dy\\x05*\\xbc\\xc8\\x00\\xe6\\x19\\x0f\\xae\\xad[S\\xcb\\xdb1?\\xd54-\\xce\\xa4\\xcd\\x18=\\xb77J;\\x06\\x8e\\x01\\xf5y\\xd7\\x05\\x17\\xc9\\xa63\\x1fr\\xea=\\x06\\xa4\\x0e\\x14^\\x13mL\\xe2\\x95\\xed\\xd0\\xe06Nj\\x88\\xa7:J\\xfd\\xb7\\xbex\\xc9c\\xf0\\xba\\xfe\"\\xe1\\x97\\x88\\xaf\\x96;\\x1a^\\x9a\\x8f\\x91[\\xd8[\\xfa\\xfaV\\xf5>\\xabA)_\\x9b\\xbc\\xdf\\x11\\xab/\\xa7\\x7f\\x1b\\x8d\\xffi\\xf2\\\\L\\xeb._\\xdc\\x93\\x9d\\x84\\x88\\xab\\x94[\\xcayI@D\\xdd\\x1c\\x8d\\xeai\\xae\\x15\\xda\\xe4\\x8fX;\\xeb\\xac\\x15\\x9c\\x1f\\t\\xb6\\x1d\\xa9Gh\\x89\\x17\\x95\\x89\\x8bq\\xcd\\xac\\xd9\\x06\\xbc\\xea\\xc9^i\\xc7\\xcd:G\\x94\\x1e\\xf8.\\xcaT\\x1b\\x87\\xfe\\x87b\\xfa2,\\xe6\\xe48\\xfe.\\xffk\\xa2\\xdd\\xc9\\x8b\\x84jc%=7W\\x96\\xcc{\\xe0@:\\xb0nK\\xe2\\xd7%]\\x176\\x0e\\x16i\\x8dP\\x1f\\xf6F\\xb1\\xbb\\x92\\x12\\xa3Q\\xcd\\xdd\\xc9\\xf95\\xed\\x9b3\\xa3z\\x96\\xeb\\xaf\\xa5\\x9de\\x90\\x05q%uc\\xa8z\\xa3\\xe2\\x0c\\x0bl(\\xb5\\xd7#\\xca\\x83\\xcdh\\xe4\\xaa^\\xe9\\x08\\xa5\\x99\\xc7g\\xb5\\xd9N/j\\xc2$B\\xa6\\xac\\x95S\\xf8\\x9d\\x1b\\xd6\\xf1m\\xc9b\\xd4\\xf4\\x9b\\xb3\\xd9q\\xf5\\xeb\\xde{\\xa0\\xdf\\xb1\\xaa\\xb0\\xca\\xd4R#S[h\\xb0\\xbaMx\\xd7\\xa6R\\x97\\xd2\\x7f\\xd3\\xa8\\xe1\\xd1\\xfa\\xd6\\xc8y\\\\\\xd7\\xae\\xd8\\x17C\\xe5;\\xfa\\xc0\\ra\\xec*\\xb8{\\x1fi\\xb0\\x7fd\\x9e\\x19\\r\\xea\\x14\\xbf\\x0b3N\\xf5\\xcc\\x07\\xab\\xe5\\xd9\\xb3\\x88Ub\\x0f\\xae\\xcd\\xb4Af\\xa5\\xf3\\xe0{ e@\\xe74 Q=\\x84\\x1b\\x9c\\xaf\\xaf\\xb2l\\xf5\\xabu\\xd4\\x17vdT\\xefq)5z#\\xe7\\xd4\\x9d}\\x0f\\x14(\\xfb\\x9f\\x15\\xad!u\\xc8\\x0c\\x7f+\\xfc*\\xe6\\xa91\\xdc\\x81p\\\\\\x84[\\xf5l\\x93\\xc6\\xff\\xb5\\xb4-=\\xb8\\x1ep\\xe4\\xd5x \\xd7\\xcchX\\xe0\\x1f]\\xa2C\\x83\\x12.MP9s\\x8b2\\xf6`\\xa1\\xe3B|\\xd8[\\x87\\xd4&\\x7f\\x85F\\xc3\\x98\\xfc#!\\x83z\\x88\\x9f\\xa00%\\x87^\\x81\\x05G\\xad\\xc6\\xaep\\x9e\\xc1\\xf0\\x1d\\x830M\\x8c\\xb8\\xb3g\\xdf\\xd2\\x8e\\x9fj\\x8bxv\\xc3\\xebFW\\xb9,\\xd4\\x0b\\x1b\\x07b\\xb3jC\\xa8\\xd66K\\x96f\\x85u A\\x16^w\\x0eJ\\xb9\\xd90\\xfe,YWh\\xf0\\xcbr\\xb5,\\x08\\x0e{\\xc3\\xcb|7\\xbc\\xe8\\x06iw\\xab\\xc9\\xd6\\xa9B\\xea\\xf2\\xf6\\xf5\\x87\\xc5\\xb5Is\\x86\\x08\\n\\xe8jg\\xe6\\xf6\\xc8\\xdf\\xd9\\x0c\\xfe\\xe3:\\x0eE\\x1c4>\\xaa\\x980\\xf9\\\\\\xfc\\xc1\\xc20\\xa7p)?\\xa0\\';\\xe9n\\x0eA\\x87C[\\xb8\\xf2\\x8c\\xde?&5Q\\x9f\\xb3F\\r\\xec\\x93\\xaf\\xcfq\\xc8\\x92\\xf5l\\x984\\xec\\x06\\xfd\\xdb\\n~\\xd7\\xc3G\\xb3\\x05\\xaa\\x97M\\x0f\\xe5!\\x17\\x15\\xa7YQ:5\\xcd\\x8f\\nG\\xc5\\x15\\xf5\\xdf\\x8b\\xc0y\\x9a\\xd60\\xa2\\x89\\x1c$H]`\\xd9\\x05\\xe9\\x8f-\\x02 \\xca\\xcf\\x15\\x7f\\x9d~^5\\xa4_\\x1b\\x95]Bb-\\xc0\\x8a\\xe7\\x8d\\xf4]k&+\\xd4\\x0cK\\xed\\xa7\\xe6I\\xce\\xb9\\x82\\xc5\\xf9\\xdf\\xe271/\\xef\\xa9\\x9d\\x7f\\xf0\\xe0\\xfa\"~\\x1c\\xed\\xe2\\xc7(\\x8d\\xbd\\x1eN\\x1a\\x07;Ro\\x14!B\\xbe\\xae\\xd3n\\xd4\\xc9\\xc2\\x85T4\\x15X\\x88\\xbb\\n\\x8b\\xc8;\\xf7~\\x89.P\\xef\\x9c\\xa9_(\\xef\\xf7U\\x9dd8,X\\xb2\\x0b\\xc7\\xfb\\xae\\xb0V\\xe4\\xd9\\x16b\\x12t\\xbb1\\xe6%j\\xf8\\x14\\x16\\xa2\\x86^6Sf\\x08\\xc5zQ\\xc6\\x0c=\\xb2|\\xd6\\xc2bB\\xdcXg\\x9dp\\x0f\\xc4b\\xd5:u\\x18\\xbe\\xa8\\x1f6\\x96\\xbeU\\xb4U:6\\xe7\\x15w9\\xd7\\x95\\x8d\\x1b\\x14\\x1c\\xa0\\xe2\\x89\\x93\\x10R\\xc4L7\\xf8eF\\x95\\xb2\\x16p\\xcc\\x1a1`G\\xe7\\x83X\\x1a{\\xf5\\xd1\\x8f\\xa7m\\xccmy\\xc8\\xa9\\xda\\xee6\\xfa\\xd4`I\\x90\\x95{\\xd7\\xb0\\x93\\xe7\\xb4\\xd73\\xcf\\r\\xeb\\xd6\\x0e\\'l\\xfd\\x9b.:(\\xcfg\\xc3d\\xc6\\xe0\\x93\\xb1+|\\xb5\\x8f\\nP(\\xaf@\\x88\\x98\\x81\\x02:.(c\\x18\\xd8(\\x16\\x8a\\x06\\x82?\\x9f\\xc0\\xd5-\\x8c>\\xfac\\x93]\\xb1\\xd5\\xfd\\xee\\xb06K\\x08\\xbd\\xe5\\\\\\xa7b\\xbai\\xc2\\xf8S\\x93\\xc0\\x95w\\xbcM7\\x1e\\xcf\\xf6;\\x94\\x08?9\\xbf\\xf1\\xae?>Q\\xf8\\x89\\xc7\\xcf\\xa2\\x0b~\\xae\\x85g\\xebw\\xa9\\xfc~\\xf3\\xcf\\xf6\\x97r\\xf9o)f\\xee\\x81\\xca\\x1e\\xc5,NN\\xc4\\x82\\xfb\\x15_}\\x9e\\xf9P\\xcf\\xeb\\xc2]\\xa6\\xd3\\xbe\\xb0\\xd9\\xfa\\xbap\\xe4q\\xd9\\xee\\x1fk\\xf3\\xbbF\\x9a\\x80w\\\\\\xce\\xd3E\\xa5C)\\x89\\xbe7\\x9bB\\xfd\\xa4N\\xbf\\x9f=\\xd6\\x87\\xd3]\\x94\\x89\\xd1\\x99\\xcb:\\x17\\x81\\xae\\x07\\x0bf\\x0c\\xd4\\x84\\x17\\x1f\\xdc\\x80\\x92\\xe4\\xb1a\\xf8PW\\xf2\\x9e\\x1bi1.H\\x10\\xfc\\x94\\xbeZ{(\\xe4\\x14\\t\\x1f\\xea6\\x14T\\x14Tl4\\xccG\\xff\\x94w\\x00\\n!\\x18\\x15\\r\\x9d\\x80\\x8f\\x88\\x81\\x9eW\\x16N\\x0c\\xe1\\x17\\xd26uM\\xac\\xab\\'e\\x94K*\\xc0\\xd0\\xd57y\\x13\\\\8\\xc6\\xc4\" ,\\xaf\\xa8\\xa3\\x17\\x12\\xfa\\xed\\x9f\\xc3\\x07\\xd0C\\x05w+\\x9f\\xc8\\xf7\\xe4\\x8a~\\xc4\\xf8%\\xa1\\x84GJ\\xa4\\xf9\\x8c\\x15\\xf5\\xb8\\xfd\\xc2\\xc7\\x98\\xbaw\\x9b\\xabu\\xd4G\\xde\\xc6F\\xa6j:\\xa6\\xb3\\xc3\\x9b\\x1ba\\xd6\\xd8g\\xfa\\x03|\\xd0\\xb7\\x8dd\\x19\\xab\\x8b_S\\xcccf\\xcc\\xd4\\xec\\xf7x\\xd2/\\x17\\xd4\\x08\\x97\\xb0\\x99\\xb1\\xf8\\x01\\x90\\xb9Xn\\'V\\xa9\\xb1\\x1dv\\x1a5sc\\xec\\xd6\\x81\\x01\\xc5\\xdc]x\\xe7\\xbb\\xb5\\'\\x9cP\\x82\\x17\\x8b1l\\xa3\\xb5\\xbf\\x87\\xc2\\xcdx~Z\\x06b\\xe8\\xde\\x92\\x88A\\xa8\\xa9Y\\x8ai\\xd7\\xf8\\x83s\\xcd\\x9d\\x8a\"\\xc1hfbi\\xb8\\xb5\\x8f\\x8b\\xed(S\\xb2\\xce(\\x86\\xcc2\\n\\xef\\x01\\x82\\xd5\\xd2\\x9eL=\\xfcY\\xdb\\xd0\\x03\\xc5}\\x9e5\\x1e\\x96\\xa5v\\x9b\\x83.O\\x89\\xb2u}\\xf1F\\x1bQ=\\xf3\\x18Zanfh\\xfa0\\xa7~+~\\x17g\\xaa\\x82\\x12\\x11\\xea\\x11F\\x92J\\x06s\\x06\\x8bT\\x01\\x8f\\xbb\\xfc\\x86(\\x02\\xda\\xaa@\\xbc<W\\xbb0\\x12mz\\x80\\xd6\\x18\\xb3s\\x9c\\xfa9\\x8f%t\\xf39\\xce\\xf3\\xf0\\xe0\\xd5\\x9c\\x1e\\x9cL\\'\\xa6C\\xdd\\x01\\x84\\xa6\\x89$\\x91\\xa9\\xd9\\xb3;\\x9a\\x08L\\xa4\\x9eT\\xc1l,\\xbf\\x01G\\xe6\\xe3\\x83\\x01\\xa4\\x96w\\x81\\x1c=\\xfa\\xa5\"\\x91\\xaa\\x08\\xabZ\\x92Z\\x926\\x81\\'\\xdb\\x17\\xb9x\\xe6c\\xf3\\xdcb\\x18#\\xa4\\x03\\xdf\\x9fX\\xfd\\xcf\\x08\\x16\\xba\\xacmH\\xed\\xe0\\x91\\xaf\\xc3/\\xbd\\x9a\\x9d\\xe8\\xc9f`eC\\xe8\\xd9&\\x0e\\'!\\xee\\x91oi\\x1a]\\xbd\\xb7\\x98\\xd0\\xb7\\xd5\\xe7M\\xcd\\xd5\\x8d\\x8b8\\x02q\\xd3H\\xeb?\\xef\\xf0\\x99Fu\\x9b\\xd3\\xc8\\x88VW-F\\x04\\x15P\\xda{5\\x16i\\x98\\x19\\xa3Y\\x89\\xe3\\x12\\xd9?\\xef\\x02\\x1e\\x8f\\xb2\\xfbd&My\\xec\\x7f\\xc6\\x99\\xec\\xd1n$V?\\xde\\xe7\\xe2l\\xdf\\xafC*Kq\\x90Q<\\x89\\x90\\x84?7\\xf54uwR8\\x9a\\xf0lE=\\xeb\\x99\\x94\\x88S$\\xa6\\x94p\\xd3\\x88xS\\xf1Y\\xc8iw\\x8f\\xa8X\\xb0OG\\x99\\x93\\xcb\\xe8\"\\x0e\\xcbT!\\x12^\\x0c\\x95h\\xbb9eT\\xe0r]\\xee\\x86K\\xb4h\\xe3\\xae\\xad:\\xbfi.\\xaa\\xb7\\xf3\\xd8>(X(*j\\x9a\\xfa\\x8c\\\\\\xfe\\xa2\\x06\\x1d]6\\x13\\xf6\\xa8\\xdb\\x98\\xb2\\x91\\x9c`\\xe1\\x0b\\xc92\\xfe\\x1eio\\x0c\\xd0,\\xe2\\xec9~\\xf3\\xb6u\\xa7\\xce\\xed\\xf8\\xe1\\xd9H\\xd4\\x1a74\\xc6\\x1f7G\\xd3/\\x91\\xf3\\xa8\\x05U\\x96\\x9d+\\xdcr\\xa5\\x0e\\x96\\xe6L]\\xa6\\xb3\\xb1\\'\\x91\\xb0\\xbd\\xb9\\xabI\\xd1Q\\xae\\x1f\\xe5\\x8eB+\\xd1\\xc4\\x1e\\xb6?\\x84wE3\\xfc\\xfe\\xcdh b\\x9dT\\xbe\\xe1\\x90\\\\:\\xf6\\xcb\\xc0\\'o\\xcf}\\xea\\x88\\xa7g\\x91\\x9f\\x9a>\\x15*\\x1c\\xe92\\x92\\x18d\\xeaS\\xff\\xd8\\x1f7^\\xd9E\\x93\\xc2\\xc4\\xfb\\xe9\\xb1\\xdcL\\xb1\\xa7\\xe4\\xaf\\xb1%\\xdf<\\x89\\xc5\\x80MbG\\xfc\\xd3Vl\\x95\\xb9S\\xb5\\x1dsnqouJ\\xe9\\xd6\\xe9N\\x15\\xb5x\\x8e\\\\?\\x9c\\xb5\\xf6\\xe3\\xdb\\x18f:\\x15\\x1a\\xa2\\xb7\\x8f\\xdeb\\x0fW:\\xd8\\xc2?%\\xa9\\x103WNX\\xdak\\xa25#5\\xc2\\x85\\xc5\\xb2y\\x8dG%\\xb4g\\xcb\\xaa;k\\x08G\\xb7{\\xf1\\x99\\xf7\\x1e\\xb1<3\\x1e\\xff\\xb6\\xbd\\xc0\\xf7N\\x08z\\x04\\x17\\x17\\x89x\\x8c\\xa6z\\xe2x\\x8e\\xfa\\x90V\\x13C\\xdfyU\\x13w\\xb8/\\xcar\\x12_F(\\xb1oH\\xa2{+5[\\xbc\\x11\\x0bX\\x9e\\xd2\\xc9\\xbf\\xe3y/\\x82\\xf5\\x8dG3\\xff\\xc3j\\t\\xcd\\xd8\\xe8{\\xc7Q\\x14,#j\\xc2 \\xad\\x9cVn\\xe5\\xebE\\r\\xfb\\x13\\x9a\\xad7\\x01&QJ\\x99\\x1e%\\x13H\\xdeO\\xa9\\xea\\x84AF\\xf1\\x0e\\xf7\\x00\\x99nf\\xd8O\\xcf\\xf6\\xde\\xcb\\x10\\x89\\x1c\\x9a\\xa2XFk\\xdd!\\xb4\\xe4\\x9bo\\x96\\x0b\\x07Y\\xc8!Z\\xf3\\xf63\\x8c.\\xa6\\xe6\\xb19\\t\\x0b\\x057\\x94\\xbe\\xe5\\xc5k\\xbc-\\xbfE\\r\\xab\\x13\\xee{\\xa0V\\x8a\\xc9\\xd0f}\\x85p\\x14\\x053\\x05\\x11fB\\xee\\xe7\\xf0,\\xc0|r3\\x90\\xff\\xf55xU\\xc8\\xa3G\\xc9\\x83=qT\"\\x1c\\xd1\\xfa\\xed\\xed\\xdd\\xe0\\x8d\\xa6nfkw\\xe0o\\xfc\\xc8q\\x06\\x88\\xa7\\xd2\\x9b\\xf7\\xd8+\\x1a\\x8b\\x1e\\x7f\\x95\\x11\\xd7tW>\\xd9?6U\\x0bv\\x9d\\xbb\\xe9\\xe4\\xd8\\xb7\\xdd\\xd7N\\x19-\\xc1h\\x96\\x02\\xa2\\xe8T\\xd7\\x02G\\x92\\x1a\\xce\\x9exX\\xaf\\xa7\\xcf\\xf0\\xbb\\x03\\xe9\\xa3\\xc5i\\xe8>\\xca\\xb3Q|\\xe5\\xfa\\xb2u\\xe2.6\\xfa\\x1dO\\xa9\\xb4B\\x1c\\xb5\\x90\\x05r7\\xfcV\\xd1;\\x00\\xf5{\\xf2\\x13\\x92WK\\xef%\\xe8~\\x05I\\n)\\xc9\\xec\\xbb\\x07\\x0c\\xd4\\xda\\xa0\\xd6\\xf4\\xdd\\xca\\xfcf\\xfd\\xccf\\x1f\\xe2\\xbf\\x86\\x1c.\\x19\\xee\\xe4\\xa8{\\xc7\\x9c\\x99\\xff\\x95\\xb8\\x9f\\x189\\x85q-\\xe2\\x1b\\xed\\xd6\\xa0\\x9a\\x8f\\xd6%\\xc9@\\xfed\\x9d\\xa9s\\xe7Q\\xda\\x16e\\x94-aW<C+\\xf2\\x14\\xea\\xb6\\xab\\xc7\\xa7\\x11\\xb3\\xe0\\x0b\\x10\\xc1z\\x85O\\xf7~\\x1f(\\xdai\\x9a\\nQ\\x80\\xbe\\xbe\\xcb\\x9al\\xcf\\x82\\xe2\\x915V\\xd3\\xd6\\xb1\\xcf\\xcd\\xd3\\x1dr\\xdc\\x8e\\xb6\\xca\\r\\xdc\\xe6\\xd0}\"Q\\xe3\\xc4\\xad\\xd8\\x98\\x19\\xbb\\x0e\\xa6\\xfe\\x18B\\xa4\\xd2\\x89T9eJ9d\\xba{\\xa9\\xba`8\\xa6\\x06\\xfe\\xe3\\xf8\\xb8\\xdb\\x9fd\\xe0\\x1e(\\xe2\\x08\\xe0\\xdc.\\x05\\x84;m\\xf1}J\\x82M!\\xa8\\xba\\xb5\\x85\\x18\\xf5\\xd8\\x969\\x8d\\xfc\\xb8\\xe2\\x90y*y\\x14\\\\{\\xeb0\\x85\\xbb\\xf2\\xfb\\xbfG\\x8bO\\x1e\\xd8\\xf6\\x81l\\xd11\\xd00P\\xc1\\xff\\xb0-\\n\\x18@E#Dg  \\xe2\\xe5{ [z\\xc6\\x07\\xb2\\xad\\x83\\xb8\\xbe\\tI$\\x95\\xd3\\xd1\\xd5\\xd3O\"a2)\\xe0\\x0f\\xfe\\x87d\\xc1\\xa0\\x7f\\x1d\\x93\\xa1.8\\x16w\\xf7\\x80\\x1b\\x1bT\\xb4\\xcb\\x05~\\x81\\xa2,\\xed\\x8et\\xea\\t\\x19B-\\xb5\\x10\\xd5\\xee\\x1d\\xab\\xf7\\x00f\\xaf\\xe2k\\xec:\\xfeq}\\xfa\\x84\\x892\\r\\x95\\x9f2Q\\xe5n\\xebI\\x93Q\\xa9zY\\xf0\\xc6.P\\xa7\\xf71\\xa1j\\xbe\\xc6$\\x02B\\xc5n\\x1d=\\x95\\xd2\\x83P_\\xc1\\xb2NW\\xaao.\\xfbE\\xecd\\xc5\\xb6-D\\xe9\\x05uO*\\xbex/:H\\xc5N>\\xf0\\xf6\\xfb\\xd3P\\xed\\xdcI\\x1d\\n\\x0e\\xc7\\xd7\\xde\\xdaj\\x9dD\\xfc NwI\\xce\\xa6\\xc1\\n>/G,\\xf5$\"\\x14?\\xa0)\\xe4qF\\x84\\x91\\xe3$\\xe2\\xc9\\x9c\\x01\\xde\\xa1\\x82\\x08\\xec\\xbd`\\x95\\x05L\\x18\\x9f\\x1d\\xc6\\x85\\x08\\xb6\\x98wA\\xe9 J\\xc8\\xf9\\xb1\\xec\\xa5\\x85M\\xaa\\x85\\xeaE\\x08\\'\\xa1D\\x13\\xf7\\xc6f\\xc9\\x9f\\xcf\\x86\\x04;\\xacV\\xc8f\\x97\\xb0\\x97\\x15\\xa8\\x9a]r\\xe1?\\x03N\\x8b\\xd9\\x93\\xa7P\\x1e9\"\\x8a\\x8e\\xca\\xa8\\x14\\x05p\\x94\\x95\\xc3D\\x8f\\xc1\\x07G\\xd0\\x05z \\xc5.\\xb4<\\x81\\x8bH\\x04\\x93\\xfa\\xaa\\xd9\\xcb\\xfd\\xa5\\xcc\\xc3\\xff0 KJ\\x1f\\x13\\x894\\xa50\\x04\\xbd\\x88n\\x11\\xc1jVY$v\\xcb\\xb8d\\xf4\\xf1v\\x9f\\x81\\xa3\\xac\\x8a\\xedtr\\r\\xa8\\xe9\\x85\\xear\\x87{@\\xb4\\x03\\t1{\\x99\\xb4P\\xd7\\xb9MM\\xe8\\x89\\xe1\\x18B\\xf6\\xb6T\\xb8\\x9b\\xdc\\x19\\xac\\x90\\x84\\xe2\\x1c\\x17ns\\xb8C\\xacY\\xb3\\xb7\\x8a\\xf7wm\\xaeQ\\xb9~\\xa14\\xc79\\xdb\\x0f\\xd8)y)~Tv\\x9f\\xb2\\x8eYG\\xe7\\x1a+\\x95\\x96\\x06]\\xf9\\x1c\\xc1\\xdc`S\\x7f\\xd4\\x8d\\xdc}>\\xe3t\\x01!\\xb1\\x8f\\x8f\\xe1\\xd5:bl\\xdc\\x12\\x91R\\x14\\xddx\\xe6s\\xb6I\\xd5\\xc9\\xeev\\xbfr\\xcd\\x88[0r\\x07\\xb7\\xcb\\x06Ku`\\x96\\xc7\\x95\\xa3\\xb3\\x8c\\xd8\\xd1\\xfd\\x88\\xa2\\x0c\\xe6[\\x9fta\\xebW\\xc6V\\xc6\\x97\\x05&\\xef7\\xc3\\x9c\\x82\\xaa\\xcc\\x07l\\xcc\\xc9\\x86\\xdc\\xf8\\xb9\\x07\\xc0\\x96\\xad\\xad\\xb7\\x93\\xa7.\\x95\\xa3i\\xe5M)\\xb4\\x03}\\xecO\\xce#1D\\xc1\\r\\xed.\"\\xb8\\x14\\xf0 \\xee\\x1f\\xbc8f;\\xd5\\xb9e\\x94\\x18\\xacZ\\xc4\\xf7\\x80\\xb5\\xc0\\x14\\xc2m@]\\xb5Ej7J;\\x0c\\xc9\\xc3P\\xc2$i\\x81&\\xa7\\x18\\x05\\x92\\xef\\n\\x05\\xf3\\x15\\xfe\\xd8\\rM\\x8fx\\xe1X\\xe2\\x91\\x9ax@%\\xeb\\x1e\\x12\\xf3g\\xfbN\\x0ej\\xcf3\\xc9:\\xad\\xef\\xdbZtw\\xb5<\\xf5K\\xb6\\xa1\\x81\\x8d\\x1aS\\xb9\\x168\\x8c\\x15\\x13\\xe1oim1\\xb8\\x9a$\\xa9r\\xd1LM\\xfc\\x01n\\xf4\\xea\\x16\\xd0\\xc5\\xaex\\xf2\\r\\xfe\\x92\\x12\\xc5\\x01t\\x1c\\x9782h8\\xd9Cu\\xb4\\xbb\\x12\\xec3X\\xc3reK\\xe3\"\\x10\\xab\\x07T\\x0e\\xba*\\x95\\xf6\\xe0\\x9c\\x0f\\xd6\\x8c\\xec\\x14;\\xf0\\xe9\\x04W\\xa9\\xfd\\xed\\xc0\\xcd2\\xb0\\x14\\xab\\x18G7\\xc6xu\\x14\\xf5y\\xd5\\xc6\\xb7=\\x8bZ\\xd4\\xd1(\\xe9D\\x9bN\\x1b\\x85\\xbb\\xae\\xeb\\xf6D\\xe4\\xf8\\xca\\xc1\\xe5\\xdc\\xaf\\xd7O\\x19\\xcc\\xfe\\xe9a\\xce\\xf8\\xa4\\xfd\\xd5o\\x1eFI/\\xf3\\xd3\\x11\\xa1\\xef\\xa521O\\xbf\\xf7CH\\n\\x8b\\x06\\xb63\\x070\\xe3\\xce\\x13\\x93\\xc7\\xb4[\\xb7\\x1dm\\x0b\\x8b:\\xb7\\x17\\xfb\\x9f\\xec\\x80]f\\xcdx.s\\xcf{\\xf2gV\\x12\\xab\\x8c\\x93i\\xcfKG\\x08=\\x07\\xcf\\xbb\\xee\\x81ou\\x1d}\\xd3\\x95\\x03\\x97hW2\\x0b\\xc2\\xcf\\x10\\xc6\\x1fD\\x86\\xa4\\xb2\\xa8Y\\x96v\\x98BUy\\xf9)\\x1d\\xf3^\\x932\\xe9\\xd4\\xee\\xdc(\\xcb}\\x99\\xee\\xc1\\x88\\x99\\xd2\\xec\\xd0\\x03\\xc3\\x81\\xac\\xdf\\xf0$\\xccr\\xe1j4D|i\\x0f\\x06\\x92\\x1dY\\x05\\xab\\xbd\\x1b\\x03\\x92m\\x1e\\xa9,4\\xdc*xx\\x11\\x82{_\\x01R\\xbc\\xa0\\xa3\\x18:0M\\xd1\\xd7\\xee\\xf8X:\\x01\\x04\\xc7\\xf7,\\xb2\\xe7Q\\xe0\\xc19\\xbe\\x98\\xc16\\t.#\\xf8#P\\x05\\x8d\\x0e^7T\\x07\\xaf\\x1eR\\x9c\\xc7ds\\x16q\\x0fH\\x8e\\xac\\x9b\\xcfm~\\xd1\\xd9:\\xd1\\x13\\xd1\\xcas8c]\\xa4F\\x98\\x18\\xda\\xfd\\x04\\xd8\\x16k\\x83#9\\x99\\xdc\\xae\\xeb\\xce\\xa2\\x1b\\xafC\\xeb\\xceB\\xfey\\xd6]\\x9d\\x9b\\xf67\\xaa,_\\x0e\\xb7\\x04\\xd8\\xcb\\xa6\\xa7\\xbf<]6n.K?Y\\xbb\\xe3\\xbc\\x9f\\xfd/PK\\x03\\x04\\x14\\x00\\x00\\x00\\x00\\x00\\xb8\\x01IT\\x00\\x00\\x00\\x00\\x00\\x00\\x00\\x00\\x00\\x00\\x00\\x00\\x16\\x00\\x00\\x00input_data/cloth-mask/PK\\x03\\x04\\x14\\x00\\x00\\x00\\x08\\x00\\xa4\\x19ET\\x83<Z\\x99\\xe1\\x19\\x00\\x00\\x9a\"\\x00\\x002\\x00\\x00\\x00input_data/cloth-mask/cloth@1=cloth_front_mask.jpg\\xedw\\tT\\x13y\\xb7g\\xc9\\xbe6\\xc8\\xaa\\xa0D\\x11D\\x04DY[A\\xaa\\x15e\\x11\\xe9\\x88(\\x9bBT\\x90-\"\\xa2\\xb2\\xa8\\x98RPAPhQ@\\xe5\\xd3(\\xca\\xa2\\x80Qv\\x01\\t\\xab\\x88\\xa8i\\xd6@P\\x93\\x80\\x80,\\x91\\x040\\x14$\\xa9z\\x85\\xfd\\xbd3\\x8f\\xfe\\x9c3\\xf3\\xde9s\\xce\\x9c7S\\xfc+\\x84\\x14\\xb9\\xfb\\xfd\\xdd\\xdfE{Q\\x16\\xa0\\xbc\\xcb\\xc1\\xd9\\x01X\\xb2\\x04\\x00\\x96`?\\x00\\xda\\x0f\\xd8\\x03bK\\x16\\xae\\x85W\\xb1\\x85KB|\\xe1URBB\\\\BJRJ\\xea\\xc7--+\\x83\\xdd\\xd2RR2\\xf22\\xb2r\\x0b\\x17\\xf6NA^Na\\xe1\\x0f\\xb4\\x0e\\x90\\x97\\x11\\x03\\x96\\xfc\\xb6d\\xc9R\\x00m\\x02p\\x98p\\xc9\\x1f21\\r\\x7f]K\\xc4\\xc4%$\\xa5\\xa4\\xb1\\xef\\xcac\\xffP\\xa6\\x8c\\xe9\\x14\\x17\\xc74Ibj\\xb0\\xa7\\xe7\\xb1\\xe7\\x80\\xc4RI\\x95\\xd5\\x9b\\xb6I\\xa9\\xba\\x1d\\x96\\xd6\\x8dP3\\xbbx\\xe3\\xa1\\xcc\\x9a\\xed/\\xea\\xd5\\xf7\\xb6s\\xf5\\xcc\\x8f\\x9c\\x8c\\x93\\x95\\xd3\\xd0\\\\\\xb6\\\\K\\x7f\\xad\\xc1:\\xc3\\xf5\\x16\\x96V\\xd6\\xbfn\\xdeb\\xbfc\\xa7\\x83\\xa3\\x93\\xf3.\\xf7}\\xfb=<\\xbd\\xbc}\\xfc\\x03\\x8e\\x06\\x06\\x05\\x87\\x84\\x9e:\\x1d\\x19\\x15\\x1ds\\xe6l\\xfc\\xa5\\xcbW\\x12\\x12\\xaf&\\xa5\\xdd\\xbc\\x95\\x9e\\x91y\\xfb\\xce\\xdd\\xecG\\x8fsr\\xf3\\xf2\\x9f<-.)-+\\xaf\\xa8|Y\\xd5\\xd0\\xd8\\xd4\\xfc\\xba\\xe5M\\xeb\\xdb\\x8e\\xce\\xae\\xee\\x1ezo\\x1f\\x83=0\\xf8ehx\\xe4\\xeb\\xe8\\x18ojz\\xe6;\\x7f\\x16\\x9e\\x9bG\\x19\\x80\\xcc\\x82? \\x80@_\\xb3\\x93\\xd6\\xfd\\xbfy\\x9e5\\xb2\\x94\\xeap\\xd7\\xa8e\\xa6\\xaf\\tJ$\\x1a\\xb9d\\xa4\\xf1\\x93}\\xb3\\x9f\\x19\\xcf\\xe3\\x81q\\xa9\\x89\\xfc\\xee\\xdf\\x02*oJ\\xdeI\\xde$\\xab\\xe6\\x944\\xe5lq\\xedE\\xf3\\x8ap\\xbdk\\x89\\xd7\\x1a\\xbf\\xdb\\xf0\\x0f\\xa2@\\xbc\\x19\\x95\\xf5\\x88\\xac\\x8e\\x02\\xcf\\xcb&\\x19\\x84\\x81\\x8aF\\x14\\xb8\\xc4\\xd8\\x89\\x02\\x0cj\\xf9\\x0c\\xb3\\xbc\\x95B\\xac\\xf2\\xa0Y\\x1eF\\x01\\x872y\\x7f\\xf0\\xee\\xa8jl\\xc5`\\x80\\xfbq\\xb0\\xc6^\\xf1<\\x9bGA\\x14\\x06EW#M{\\xcd\\x98l\\xe9:H=T\\x03\\xa7cq~\\xeb\\x86Up\\xf5\\xb3Pk\\xe8(\\xef\\x97\\xecl\\x87s\\xc4\\xf7[\\x03\\xd2\\xe4]\\x96\\xbb\\xcc\\x05\\x87\\rZk\\x8c\\xaf\\xf8\\x85\\x16\\xb57\\xe0%r\\x82\\x04\\xc6.\\x81\\xdb\\x04&\\xb1GyJ\\x13s\\x82m\\xc2\\xad]\\xb6F\\x83\\xa6rcRm\\xbe\\x7f\\x96Y\\x88\\xb9\\x9c\\xd9\\xb8\\xdc\\xcb,-\\xad\\xe9k\\xab\\xde)\\x87\\xf7+^\\xbcIs\\xf8\\x90R\\x183\\x8f\\xf9m4k\\xc3\\xb7\\xc7\\xcc\\xb7\\xf9\\x8eK\\xc5q]\\x97\\xd9\\x99\\n\\x03\\xe1\\xacA\\xa5\\x04\\xa8\\xd4\\xf1j\\xe9\\xdcwS\\xc5\\x18\\xfb&\\x8d\\x1e\\xeeW\\x861\\xe9\\x90`\\xe5\\xfd\\'b;M\\x98Y\\xb6\\x86\\xc3\\xce\\xba\\xad+2ryn\\x1c?\\x17\\xef5YS\\xd2\\xfc\\x07\\xa2$\\x88\\x98\\xdaKivaM2\\xa8\\xfc\\x93\\xbc\\x84\\x0b\\xc7\\x87\\xbbL\\x8f\\x95\\xce\\xd58?l\\x93|\\x96\\xa7\\xff\\xe8\\xe9A\\xcb\\xf4v\\x9d\\x9d3N\\x01\\xd7\\xe6z&\\xf5\\x8e\\x1e\\xbd\\x9e\\x9eTush\\xc6m\\xa7\\xda\\xdf\\x8eg%\\xe9\\r\\xc4u\\x85\\xfai\\xfc\\x99\\xaeC%\\xa2\\x1b(p\\x94\\xb0,\\xa6\\xa3#l\\xfb9)\\x9eb\\xc6\\xddC\\xedE\\xcf\\x1eVh\\x9a\\x1d\\xa0=\\xf9\\xb8l\\x82\\x93\\xb3\\xd4l\\xa3s\\xa0\\x83\\xbf\\xf1\\xae\\x07\\xa5\\x89\\xda|\\x1b\\xbe!\\xe6\\x93>\\n|Y]\\x80\\x02\\xf5X\\x1eB\\'\\xe7\\xc6\\x7f\\xc9dO\\xc6\\xa5At\\xa9\\xa41_{\\xf7\\x12\\x14\\xa0\\xdc\"\\x1e\\xc5~\\xdd\\xdf+\\x9f\\xfaJ\\x9d\\xc4$\\xbd\\xc7\\x15S&\\x06\\x05\\xdaB\\xe3R\\xd8P\\xb0!V\\x93\\x8b\\x02\\x17k6\\x85\\x0cU\\xf0\\x03/\\x1ez.z\\x1a\\x10\\xb7\\xce\\xae\\xf3\\x94\\x81\\x99\\xef\\xc7\\xd2=;(\\xa7\\xccm;\\xce\\x84\\xfa\\xf6^\\xa3?p#l\\x84\\xea\\x9dQ\\x80\\x95\\x8aU\\xc0\\xa4P\\xdd\\xa5.\\xbe\\x11,\\xa55\\x86\\x97\\xc4\\xc4\\xf5O\\x14<\\x16:rK=zj\\xf5:\\x0f\\xc7y\\xebi\\xb4\\xfb9+Ts\\xb2h\\x95\\x8aa\\xeb\\x9d\\x7f\\t\\n\\x113.X\\xf1\\x04^\\x83\\x02\\x92X\\x01\\xc5\\xef\\x80\\xc2\\xc1\\xbe\\n7^P\\x13\\xb3wx\\x10\\x0fS\\xb9\\xfc\\xc6=\\x19\\xe7\\xe5\\xed\\x8bk\\r\\x07\\xbe\\x9en\\xaeHc\\xdf=\\xe7\\x90\\xf4\\xeb\\x86\\xa1\\xc4\\x87\\x15\\xf2Az7?V\\xef\\xe01\\xf2n\\xb7\\xef\\x9c\\xdb6@\\x93\\x85\\x0b\\xea\\xfc\\xd6w\\t\\xe5\\x07)\\ncZ\\x1b*\\xb2\\xc7T\\xbd\\x88[\\xac\\x8a\\x02\\xf8t\\x0f\\xcd=/S\\x0e\\x9c\\xc9\\xfeC:i_d@\\xc0\\xa1\\xe5\\xdeN\\xab\\x96z\\xcfx\\xb6\\xa3\\x00\\x17\\xcf\\x84\\xf5Z8#\\x98\\t\\x16\\xbc\\xbd\\xc1(P\\x9cYWd\\xef\\xd6\\xae\\xdb%\\x99[2\\xf8\\xcaK\\xdbD\\xdc\\xf9\\x10\\xbf\\xcd\\xf4\\xde\\xb9U\\xbdSM\\x99{\\xde\\xf5<?S\\xe1\\xa0\\xeb\\xbb\\xfa\\x84\\xd1\\xfc\\xef(\\x10\\xe7\\x02\\xd5c\\x81|Q!T\\x99n9\\xeb\\xc8Qz\\x12\\xc3l\\xc2\\xa9 \\x1b\\xbe2\\x83\\x91w\\xbc\\x8clZNo\\x08\\xe9\\xb4gF\\xc7\\xf9\\xd4\\xdf\\xe3<\\xdc\\x86}|\\x13\\x1f\\x0b\\xf6U\\x10,\\xb6;\\xd5\\\\o&\\xce\\x90^\\xa2@\\x12A\\x16\\xd1\\x88\\x8d\\xe0\\xea\\xcf60\\xafC\\x8a\\xb6\\xe0\\xa0\\x92B\\xe8}O>9\\xc1\\xd6\\xfd\\xd1\\xb6|/\\xdf\\xb9\\x93\\x8f\\xdb\\xe7\\xca\\xa7\\x1f\\xb5\\xacm\\xf5O\\xd9\\xf91\\x8f\\xa8\\xfb\\xbc\\x1e\\xa0\\x0f%p\\xce\\xa1\\x80T\\x04\\x96g\\x0b\\x92eH\\xe7\\x18XLO\\xaa9\\xcc\\xf5<\\xe0k\\'\\x7fN\\xe6X\\xd9rK\\x91\\xf6\\xbb\\x03qS\\x1fi\\xc4|\\xa7\\xe3C\\xe9\\xec\\xc0D\\x99\\xc9\\xc3\\xd7\\xe5v\\x08dUd\\xa1eP\\xd8$l5\\x8d\\xc8\\xbd\\x12,\\x85\\x0b\\xec\\xb93\\xd4\\x92\\xcf\\x0fy\\xa1\\x9d~\\x9d_*\\xe3}\\xe1\\xd5\\x8fBI\\xab\\xcbJ\\xd3\\xac\\x19|\\xfa\\xfa\\xf2\\x08Z\\xd8:E\\xed\\'i\\xabW$\\x1b|\\xfb\\xc4\\xd8\\x9c\\x01^\\xfa;\\x8eP*\\xb0*\\xc8\\xc2q\\xc3!\\xa1\\xda)D.\\x81e\\xcfKf\\xe5\\xc5\\x0bAv\\xf8\\x12\\x17~\\xfe\\x0cme\\xec\\xf6\\xee\\xc7/\\x9ewo\\x08\\x1bJ1\\\\U\\x96\"\\x13TEV\\x98R\\xdazH`7\\x1e2h.\\xeb\\xbf\\x89>9+T\\xf5G\\x14/c\\x81\\x8d@\\x1a\\x10\\t\\x90[\\x85h\\xc7@\\x83\\xb4\\xd4\\xe3H\\xb7N\\xde\\xc0d\\xa2\\x9ff\\nqI\\x98\\xde\\x8b\\xd2\\x13>\\xa3\\xaa\\xad\\x11\\xc4\\xb0\\xa1\\xc2M\\x88\\xa8\\xa6?\\xae\\x03\\x7f5\\xc3p\\x87\\xec<\\xb8\\xd0F\\xeal\\x14(\\x9b\\x14\\xaa\\x12\\xf8\\n\\xa2W\\x16\\xa3\\x13(@L\\xed\\xf3\\xacG,\\xaa\\xb3\\xf0q\\xf5\\xb1\\xf6\\xe7r\\x13-\\xb3\\x88^\\xc7\\x15\\xdfEqC\\xa3\\x86m\\xda\\x82/\\x15N\\xec5\\xbc\\xe1\\xe5\\xb2\\xfe\\xb9\\xd1\\x9a+B\\x1e\\n$\\xae\\x87X\\x19\\x84\\x19\\x02\\x18\\xac$\\\\\\x7f\\x1aD\\xdc\\xe9\\x9d(P\\xe2(\\xd4\\xbe\\x89\\x02\\x12a\\xa2L\\xa45?&\\x9ao\\x845JrdL,\\xa8\\x93~\\xbe@\\xb8\\xfbn\\xf8R(\\xd8\\xff\\xadi\\xb4\\xfe\\xbdig\\x7f\\xf5w\\xa9\\xca\\xfe\\xfa\\xafjl\\xa2\\xdf\\xdcH\\x1c\\x8c\\xb2\\xe7C\\x97\\x84\\x06l\\xc2\\x92\\x18\\xcf\\xdd\\\\\\xd3\\x8b\\xb1\\xe6y_\\xab\\xd6&\\xe75\\x1e~\\x14\\xccpM;\\xe0\\xd3\\xeb\\xd3\\x10\\xf7k\\x11;i\\xa3\\xca\\xba\\x1b\\xeann\\xbf\\xed\\xdf\\x0f\\x00\\x92\\xc1\\x0b\\x98\\xd0\\x84+7\\x15jc\\r-\\x91**\\xb6\\x95U\\xba\\x14i\\xda\\x07b@\\xabX&o\\xc2\\xec\\xbbo\\x08o\\xce\\xf1\\x89\\x89B\\xe8\\xb1\\xcfm\\xb3\\xd2d\\\\\\x8b>\\x0f]p\\xb0\\xeb\\x96@|\\xda\\x0c\\x93\\xdb\\xa2M\\t\\x7f\\xe0\\xb8n\\x93\\xb0y\\x16?EtO(;\\xa0t\\x1dzN\\x7f\\x1d\\x0e\\x1f8\\xebp\\x83/\\x98\\xb3]\\x92\\xff5,d\\xc0iB\\xc5\\xeb\\x9d\\xb2\\xf7m\\x1f\\xa7\\xc8s\\xe9\\x97sB\\x80\\x03\\x0e\\x7f\\xf4_\\x940k5\\xfb\\x8dz\\xcdb\\x11F1\\xb1\\xbeq\\xc5\\xc1V\\xe3\\x88\\xdcf\\xacq\\xb4\\x91V,`\\xc2U\\x04n\\x01\\xb2<Tgg\\x8b\\xd0X\\t\\xd7\\xef\\x1c\\xce\\x1f\\xdfl\\xd7f\\x90\\x95\\xdb\\xcb:H\\x98,\\x7f9\\xcd\\xce\\\\\\xea\\xfd~h\\xcb\\xf9\\xa2eG\\xa8\\xa7\\xa8\\xac\\xfb \\x97(-Tu\\xe4[p\\x9f\\xa5?\\x8d\\x8d\\x81\\xa1<a$|\\xf9p\\xbe\\xdfA\\xfc\\x00Mk\\xb4x\\xedm\\xde\\xbb\\xebr\\x07\\xd6&\\xd2U\\xbdK\\xdd\\x9aN*\\xd6U\\xde\\xa4\\x05\\xa5\\xfbnR8\\x81d\\xb6/\\xc2Mu^\\x82P\\x1d\\x8f\\xc8x\\x0bT\\xb0v\\xf0,\\xe5\\xb8\\xbc\\x065gV\\xda\\xef\\x84\\x1f\\xdfWJ\\xdd\\xc6Mhzo\\xbe\\xaf\\xfa\\x8c\\xc5\\xaf\\xec\\xca\\xbbc\\xc01\\xdb\\xef\\xa5U\\xc9\\x1f\\xee\\x1f\\xd6\\xad\\x92\\xd5\\xd9|oo\\xf0mG=\\xe8\\xad&g\\x08\\x8b\\xf0\\x98\\xe8\\x19\\xc8\\xca\"/\\x0f\\') \\xdd\\x90\\xecwE\\x8d}]\\x1bLfLU\\x9a\\x89F_?\\xeb\\xa5,U-\\xfb\\x90\\x15\\xf3\\xe6I\\xa4F++P\\\\eG\\xa0\\xd7\\xb0S\\x8e\\xa2\\x16|\\xfe\\x7f\\xd82\\x83\\x05\\x03+c\\x19\\x14\\x10D@\\xf5\\xfbj\\xa2b\\xcd\\x05\\xe6\\xb1V\\x02\\xeb\\x04NmWUE\\x13\\xa4\\xd6|\\x8a\\xc8~e\\x15\\xac\\x9bb\\x1ff\\xf2\\xe5D[\\xedP\\x8d\\xe0Dy\\xbb\\xde\\xcd#\\x91\\x7fd7\\x15\\xef\"S\\x99\\xdc\\xdd\\x04\\xd8\\xa2\\x9f\\xbfR\\xf4\\x07\\xc4\\xd6\\x84\\x1b\\x05\\xdeJ\\xf0A\\xf2\\xd2\\xa2X\\xd0\\xc2\\x07\\x89\\xa7\\xf4\\xf7\\xfb\\xc6X\\xc9\\xcf\\xc1!&\\x85k\\xcbU\\x0e\\xcem2\\xdf\\x9e\\xe6kS\\x90F\\x17\\x93\\t\\x98\\xcaP\\xea\\x9e\\xff\\x97!\\x0f\\x0e\\xce\\xd6\\xe1\\xe2\\te\\xa6\\xf5\\x14e\\x84F.\\xc55~\\x02\\x9b\\xfd\\x14y\\x1e\\xf7\\x8f\\x95}\\x92w\\xdf\\xee_\\x99\\xba:=\\xdePI-\\x7f,\\xcd\\xd1\\xe2X\\xf1N\\xbd\\x10\\xbdc)I\\x8ds<Q\\x15\\xc4j#3l\\x1ajmzb]\\xb1\\x08\\xf1\\xe0N\\xac\\xbd\\xd4\\xe0\\xb5\\xfd\\x8d\\x03\\x93\\xbb\\xb9\\xcc\\xa6\\xebaE\\xb1\\xce\\x96\\xc2\\x08\\xeb;\\xfe+\\x9e{\\x9b\\\\C\\x88\\xd9\\xb7s\\xd39\\xea\\xbb\\x91\\x83\\x17=\\xd6D\\x18\\x0c*5\\x9b^\\xc2\\xbe\\x81H\\xc7|\\x13\\xb0\\xc3_S\\xaf\\xdc_\\xc5\\x85\\xae\\xceP\\x8d\\x04\\xf8\\xc6\\xfb\\x86\\xedy\\x9d\\x93\\x1c\\xdb7i\\xc1\\xc2\\xfe3\\xedz\\xa9\\xb1{\\x1du\\xbf\\xb9\\xbd\\xf4\\xf5\\nP&\\x92\\xff\\xe9@-6]\\xe2HXf\\xd7\\x82\\xe1 l\\x98\\x97t\\xd3Qt\\xabV2T+\\xe5\\xaa\\xc6\\x03\\x13K\\xf2\\xca\\xb1\\xba\\xbe`-\\x17\\xe9r\\xef\\xd8\\xf1>\\xa9\\x96\\x0c\\xbd\\xaa+\\x81e\\xf1\\xef\\xab6\\xa9\\x8c\\xca_$\\xfc\\x19\\xfd\\x03U\\xf4E\\t\\xd0\\x91\\xc9\\x95\\xe4d\\xa8\\x94v\\rbCp\\\\?\\xc7-d\\x8bgR\\xec\\x9a0\"\\xbb:80\\xc9B\\xc5%\\xa7U\\x9f\\xcex\\xe6\\xae\\xa9\\x1d\\x90\\x11xI\\xb6\\xfb\\x92\\xbc\\xf1\\xa6w\\xa0;\\xd6\\xb6\\xa0\\x1c,\\xdfP\\x15t1V\\x9e}\\x0f\\xdc\\xd9n\\xe1k\\xa7\\xad\\xa8\\xed\\xd0q,\\x8d\\xd1\\xd3\\xd0\\xa3\\xb6\\xb49\\\\\\xc1\\xed\\xc2\\x8d\\x1d\\x89O\\x93\\x92\\xc4\\x9e\\xe6\\x03\\x80\\xd1\\xf6\\x9fp-\\xacK\\xfa5\\xf9\\xe2\\xa2\\xebT\\xd6\\x03\\x1d\\x89\\x046\\x9d\\x93 \\xd8\\nC-[\\xce\\xe7NN\\xb4]w\\xd0\\xbc\\x82\\x02\\xbb\\x99\\xc6*\\xad|\\x9b\\xafZ6\\x05\\xe0\\xa6\\xa2\\x87*gT\\xf2\\xee\\xbe\\xb8t\\xfe\\xcd.r=\\xae\\xbf\\rQ\\xa8\\x17\\xe5!\\xea\\xa3\\xf4\\xda-\\xa2\\x0b\\xb5\\xd6\\xa3(\\xa0\\x1e&\\xf5\\xf0\\x04\\x17\\xd6n\\xe26f\\x137\\xfa\\x945\\xb9\\x10\\xd5<\\xc3M{\\'s\\x9c\\x1e\\xa7\\x0fg\\xd8\\x1f\\xa9\\xacx\\x17Q\\xbdK\\x97\\xd0\\x86\\xfb\\xa1\\xbb\\x18b\\x91\\x11\\x9b\\x7f\\xd7\\x1d_\\xc7\\xb8\\xfc\\xf9\\x87n\\xb5\\xbb\\x8d\\xee}j\\x7f\\xa9v9@39~\\x18SM\\xbd\\xd5!q\\xfe\\x99\\\\*\\xee\\x87\\xf9H*\\x95\\x85\\xe5\\x91K\\x1c\\x99\\x083\\x9d\\x18\\xe4\\xd2\\xf9\\x03\\xa2\\x8a\"\\x14`\\x07\\xc1\\xe4\\xd7\\xb5\\xb8\\xe7<\\xbfxV\\xc5\\xcb\\xd3\\xdc\\xcf\\xe9A\\xa7\\xcb+\\xca\\xc5\\x06\\x80\\'k\\x1f\\x9e\\xd4]vg\\xad\\x7f`\\xc3\\x98\\x93bM\\x83~\\xe5M~u\\x03I\\x95K\\xb9Pc\\x94\\x1b\\xa3YW\\xbb\\xbcs\\xc6Wug\\'\\xfby{i\\xd8\\xdaV\\x93\\xa2c&\\x87\\xb7\\xad\\xf0\\xe06/[\\xa0\\x9b\\xf9\\xf9\\x0f\\xd6?\\xbd\\x00\\x88\\x95\\xfe\\x9c\\xb9\\x16\\xa2\\x80F\\x0c\\xbe\\xa1v+\\xf7Y\\x1e\\x8b\\xb02&\\x08\\xdfS\\xeaJ\\xc4\\xdfm\\xf4n/#\\xea\\xbd,\\xa3\\x96\\xddQ8\\xd9\\xff^\\xed\\xc2\\xe3\\x17[\\xcc\\xd7\\xac\\x11+,\\xdc&\\xa1%\\xc4\\xe6e\\x1c\\x86\\xe1\\xf5\\xf7\\xa0\\xe2\\xe8f\\xaa\\x98\\x92*To\\xfe\\x1d\\x07\\xef\\'Y\\x95\\x08\\x8c\\xdd\\xe0\\xf0f;=*\\x95\\xfb9O&\\x03o\\xe7|\\xf4\\xceqJ\\xd1\\xb3]\\xbb.\\x078\\xa6\\xa9\\x98x\\x80\\xab}\\x82*\\xf1\\xc3W~D\\x83\\x02\\xb1:(\\xfd\\xe6\\x88V8\"\\xeb\\x96+\\xc4\\xf1\\xac\\x13k\\xe9\\x03P\\x1c\\xb2\\xea%\\xb7\\x99A\\x88!s\\xe8\\xd3!{q\\xe5!\\x15J\\xf2\\x17\\xf5s\\x8a\\x9bm3\\x94W\\x1bg\\x9d\\xceX\\xfa\\\\\\xe6H\\xf2\\x0c\\xf23\\x97\\x16\\xe6\\xe8\\x05\\x905B`\\xa4\"\\xcb!D\\xa6\\x9f\\x07\\n\\xd6\\xb4\\x80\\xbd\\xa4U\\xf0U>(\\x01\\x9fC\\xf4\\xc9!\\xc8\\x9f\\x82\\xd8F\\xc1\\xf6\\xce\\xe1\\xa4\\x1d\\xc9\\xef:\\x8et\\xa1\\xc0Y\\x81\\x15gn\\xe5\\xd1MAsb\\x0bB\\xa8\\xfeT\\xd6;\\x1cc\\xfaw\\xd8^p\\x06f\\xf2\\x1dy+\\xbf\\x91\\xc3Bx\\xa9\\xf5\\xa3\\x11\\x8f,24U|\\x0f\\x8eo\\xd9tw\\xc0(\\xf8\\xcb\\xb5\\xdb\\xec\\xc4\\xde\\x8fc%\\x9b\\xd3\\x7f\\x0b,\\xbf\\xbc\\xbf;\\xa5\\x15\\xca\\x1d\\xfb\\xb9a\\xd9T2\\x0e\\xb6\\x93\\x1f\\xe4\\xdf\\x8b\\x1c\\xa0\\\\ \\x14\\xf7$\\xf0\\xe4\\xf7hFi\\x91\\xca\\x06(j1{\\xad+]<R\\xa2\\xcbK;&\\x03\\x96)\\xbb\\xae\\xb3b\\xd4\\x04o\\x0b\\xd1\\xf5\\xc8Z\\xad\\x11A\\xe5:,H\\x98U\\x82\\xd7R9g\\xf2\\x91z\\xa8\\x82\\xdc@a\\x0c|\\x98\\xdds\\xa5\\xb3\\x9e\\xb4\\xb1\\xbc\\x92\\'7j\\xa51k\\xed\\xb9\\xc5\\xe2q\\xffX\\xd4\\x9f-\\'w\\x04z\\x17\\x06V]v1S\\x0f\\x117z]\\xb7\\x05\\x05\"n\\xfd+[\\xfeq\\xa0\\x15\\x04nD\\x05\\xc7\\x14\\x9b\\x87\\xdb\\xb0i\\x94\\x06w\\x0f\\x98\\x80\\x1e<\\t\\x86\\xe3\\xa5\\x9a\\xdf\\xee+v\\x18G\\xce\\xcdBA(\\x10\\xb0=\\xc3\\xfaF\\xff\\xaa\\xb4\\x9dI\\x0c\\xd7\\xedF\\xe3\\xb7\\xf6\\x1bUsL\\xd6\\xe8:\\xaf\\xc9\\x87\\xe3\\x16\\xcc3\\x12`\\xe8\\x16\\xa7E\\xea\\xd2Y/z\\x01\\xb1\\xd2\\x98\\xe2$\\xdb\\x98QK\\xa9\\x9eo58Qj!3\\x94\\xd19f\\xed\\x93\\xde\\x93~\\xca*}\\xc3C\\xcb\\xa6$\\x8a^\\x05>\\x80nR}\\xca\\xe8\\xf7}5\\x97\\xa3+\\xba\\x7f\\xc2\\xe7\\x17\\xc6%\\x19\\xe9\\x01W\\x82\\xecL\\x8c\\xca\\xa7^\\x85J\\xa9B]f?\\x99\\xfb\\x0c\\xc1\\x8d\\xdb\\x19 M\\x82\\xe8>j\\xa9]\\xbd\\xbf%\\xbdO\\xc8I;\\xe3\\x17\\x94^Bj\\xe9\\xaf\\xb69\\xb0\\x0cl \\'\\xdbz\\x0fPt\\xe0\\x02w\\x1e=\\xa5\\xc65\\x9f\\xe8\\xf3\\xb9,\\xdf\\x15*\\x1c\\xdfR6\\xfe\\xf1\\x13\\xe1\\xd3\\xeea\\xe7\\xe3k3\\xb6\\xfby\\xfb\\xf6\\xdd\\xbbw50P/\\xcd5\\xe8\\xc7`\\x84\\xec\\x99\\xdc\\x00k\\x8e\\xa9\\xe8\\x11\\xb7d0a\"\\xb2`\\xec3.^\\xa0\\xdd\\xa4\\x15}\\xadf\\xab\\xff\\x08\\xa7;\\xbc\\xb6o\\xc9\\x8b.\\xbd\\xde\\x0e\\x12\\x9f\\xa1\\xf4|4\\xfe\\xa4\\x83mEM\\xe3\\xcb\\xe9#\\xfbE\\x9f\\xff\\'\\xd97\\x06Y\\x93TF|\\x03U\\nd\\xa5\\xd1\\x99K&U\\xf1\\xd5=\\xc8\\xa6\\x98F\\x97\\xf6\\x19\\xc1r\\xcb\\xc7qc\\x8c\\x9e\\xd7\\xc3[=\\x06\\xf7\\xa4|,\\xd8\\xda\\xe5\\xf6\\xea^Q\\t\\xa7\\xf7E\\xf9#y\\xf3\\x91Pg\\xe1\\x93\\xbf\\x86\\xe3<\\x88q\\xd6\\\\R\\x07\\x86#\\x1f\\xb0\\xdb\\xdbT2&zOw\\r\\x987\\x8aS\\xb3\\x05\\x9f\\xc2\\xd6\\x9e\\xb5\\xf4\\x91\\xa9\\x1a\\xaa\\xd5\\xd2\\xf3A+K\\xee,\\xdd\\xf9\\x8eq\\xf9\\xf2\\xf5b#\\xe9i\\xbb?\\xdb\\x9f.\\xd7s \\x8cG\\xfd\\xbcs\\x90C\\x10k:\\x1ck\\x1c\\r\\xaaP-\\xba\\x81\\\\\\xe2\\x10?H\\xae\\x18\\xc5\\xc9\\xd6\\xe2\\x1aE9\\xd9P\\xe0\\x19B\\x9f\\xcf\\xb7\\'\\xab\\xab^\\x8a\\xa6w\\x14\\x81Yy\\xb9\\xd7P\\xc0\\xa8U\\xc5_\\xbe\\x1c\\xff\\xab\\xe7\\x17\\xc5\\x1f\\xe9\\xf2M\\x98\\xf8\\xce\\xa34\\x13J\\x08-Lq\\xa4\\xfd\\xbed\\xe7\\x8c\\xe0Ux\\x9d\\xce\\xc6N[\\xe7G>c\\xed\\xb6\\x19%\\xbe^\\x9f\\x1c#Uv\\xbf\\xa8\\xb2\\xd9\\xe1\\xa7\\xaf\\xa0\\xde\\x9e\\x94&n\\xf8\\x05\\x8a\\xbe\\xaf\\xca\\x0b\\xba\\x1c{\\x8e\\xedk\\xde\\xe2\\'\\xc9\\xb3\"\\x17\\x05\\xdf\\xed!+\"\\xd7\\x0bG\\xad\\x9f\\x9c\"BD3Y\\xdd\\xca+^\\xad\\xceGN\\x1f\\x8d\\x8c\\xd4\\xf7\\xf6Rv\\xb2|\\xf8\\xd3\\x82&4\\xe08\\xfe\\xbcND+\\x9e\\x9f\\x07g\\n\\\\P\\xa0\\xc1D\\x94\\x80\\x02\\xf2\\xaa\\x03R%\\x03\\xd0\\x04\\xbe\\xe2|\\x9e\\x00\\xe4\\xccv\\xfa\\x9e\\'\\x7f\\xe8\\xc3e\\r\\xcdU[O\\xb8\\xf6\\x9f*;uq\\xe4\\xaf\\nT\\x17-\\xcc\\xcab\\x14(\\xaf\\x10Z\\xa5\\nU\\xc0:\\x90\\xa1%\\xddk\\t]\\xea\\x85#\\n\\xe6\\xacj\\xf7\\x97\\xd1\\xf8\\xbe9\\x94\\xde\\xe1\\x04\\xf3]\\xb4j\\xfc\\xfd\\x96\\xf7QS\\xd3\\'6X\\xbd~1Ac\\xfe\\xb4\\x8ac\\xb1\\x15^Z\\x06\\xe9\\xd2Q\\x17\\xa5\\x83\\xacT\\xa6v\\r~@\\xad\\xf3\\xdbq!\\x81%H\\x95\\x0c\\xf6\\xd9\\xff\\xad4c/\\xc1\\x97\\xb8\\xee4\\x7f\\xe3q\\x0f\\xf36\\xc9\\x1a\\xbaf\\xae\\xc4^\\xda\\xca[5\\xd9Wn\\x80\\xd7\\xd7\\xff\\x95#\\xa3Y\\x01\\xa2pE\\x94\\x8f-\\xa8\\x95\\xa4f\\xbb\\xd5<\\x9aH\\xbc&\\x8c\\x8dS@\\x81\\xc0\\xf3\\xc7,\\xcfQK\\x8d\\t|\\x89\\xd4\\xb7ix~6\\xfe;\\x87@\\xed\\xfa\\x991$e\\xcc\\xbdI\\xb0\\x94\\xca\\x8fn\\xa0]\\xc4\\xd6\\xaf\\x9e\\x1b\\x051$\\x88CV\\x0e\\xb53\\xe3)\\xa6\\x92\\xab\\xf7\\xbf\\x10\\xac\\x10k\\xc1\\xdf<\\xd2*(\\x08A>=\\xb9N[>\\xadC\\x93\\x19|\\x9b~`\\x8e\\xfd\\xcf\\x82\\xa9E\\x01l\\xe9<B\\r\\x05\\xe1\\xa3(\\x00\\x1bg6*q\\xa0\\x15(p\\x18\\x86\\x06\\x0c\\xfamU\\x07pp\\x06\\x16i{\\x0e\\x97<!\\xc0g\\x18\\xea\\x98\\x9a{$\\xef\\x16\\x8d\\x1d\\xeb\\xaf\\x18\\x89Ll#\\x8f\\xf3\\x7fV\\x87\\x94/\\xc9\\xc8/up\\xce 5\\x11\\xc7=@HDTyQ\\xd5\\xfcW`\\xddg\\x1c\\xf7\\xdbU6\\x11*n\\xc6\\xf5\\x16\\xeau\\x84\\x95\\x19$\\x9c\\\\\\x17b\\x1e\\x9d\\xef\\xe7R\\xb5\\xfd\\x9d-\\xe7\\xc1\\xc4\\x8e\\xfdB\\xd6?\\xe5T)-\\x10\\xa6\\x9ah\\xae\\xcd\\x00\\xf9J\\xad\\xa5\\xd0\\x84\\x0e\\x15\\x0b\\xf1,\\x14P\\xf6&\\x92Vt!mj\\x18\\x9eQK\\xef\\x19Td\\xb5\\xdd\\xf1\\xdbl\\xe5\\xa2eE\\xf7\\xf0x\\xbdL\\xd9\\x89\\xf2m\\x9a\\r6\\x9b\\x8a\\xc5F\\xc0\\xdel\\xcauH>\\x92\\xc9\\xc1+\\xc446\\xf2}\\x98\\t\\x96`q\\x9b4cb\\x03\\xcb\\x993<5\\xbc/m+\\xcf\\xe9zY\\xb7\\xf7\\xa9+@\\x9c\\xd1\\x83\\x7f\\xf1\\xc5\\xa8\\r\\xb1D\\xfa\\xa9/\\xa0\\t\\xfa@\\x01$\\x86\\xb4\\x93\\xcb\\x98\\r(\\x00\\x10\\xa3\\xcf\\x9e%0\\xbe~\\xb6\\xe4!\\xf7r|]Ciz\\xc4\\x137|w\\xa7\\xb4k&\\xed\\xfbE\\xaa\\xa3\\xbd\\xf2\\xc3>\\x16l(8\\x8e4\\xa3@i^\\xd23[y\\xc1f\\x84\\x0e\\xc9\\x0b\\xa1\"F\\xc8$\\x14\\xf9(\\xc6\\xa8e>\\xaa R\\xf1iMDYc3\\xd1\\xbc\\xaaI\\xc7\\xeb\\x8f\\x97\\xda\\xf6N\\xf1\\x9b\\x0f\\xffca\\x1f\\xe6\\xee!\\xf7j\\xb2\\xa2S&k5\\x84DQ%I\\t\\x06\\x9b\\xe6\\t\\xe9\\xa2<6MM\\xe8\\xd2Q*\\x10\\xe0\\xcd\\xf4\\xee\\x82V\\x9f\\xcf]\\xc2|p^\\x91\\xfc\\xd2a(\\xf2\\xf0\\x1f\\xdb(_\\xda\\x90_4`\\x11\\x97\\xc8\\xbf\\x87ay\\xb30\\x04~\\xcf\\x15\\x1f\\xd0 \\x0fP\\xe5\\x08cZ\\xae\\x19\\xe4\\x01E\\xfd6\\xc6g\\xe7\\xa3\\xd9\\xbd^\\x1f-\\xcc\\x94%\\xda\\xe5\\x93C\\xd2\\x03w\\xb7\\xac\\xcfO\\xb3:}4\\nn\\xf8w\\xdf1\\x12\\xcf\\xdf\\x8f\\xd5G)\\x95\\x95K-\\x0e\\x9f\\x18dQ\\xfb\\xb2\\x1aA%D\\t\\xcet\\xe2\\x1a$pf\\\\U=x\\xf8\\xcbe\\xe2\\xa4\\x1e\\x8d\\xf1\\xa1~{\\xc3\\x92.\\x13v\\xf8z\\xf5\\x14\\xf5\\xc3\\xca\\x81^\\xe9\\x8f\\xcd\\x9c\\xfc\\x1c\\xec\\xb6@\\xf5\\x9f\\t\\x18\\xc8%C}\\x10\\xf7B\\x0c\\x1d#\\xceX\\x04\\xb1}\\x14\\xe4@\\xdc8XE;\\x95\\x03\\x9a\\xb7\\xf5\\x8f\\xa0\\xc0\\xb1W\\x08\\xd3\\xd4?l*\\xb6p\\x8eB%\\xa9\\x06\\xb5`\\xe0\\xc87\\x85\\xd7\\x87\\x8b\\xf4J\\xf8\\x17P\\xa0\\xb1\\xf5\\x194\\xb5\\x9f\\xb4P\\xb3\\xf5\\x8f\\x99\\\\wJ\\xbf\\x01_\\x00{\\xf3\\x88\\xecp\\xce)\\x1e\\x88\\xa8\\xe2\\xe1\\xfd\\x10\\xf7Z\\x0b;|\\xe9\\x98G\\xb0\\xa5gyM\\xdc\\xbcf\\xdc\\x18\\xdbJT\\x12\\xce?}Rv\\xc8\\xa32\\xfa~TFH\\xf4*<}\\xeco\\xc8n\\x0b\\xb2\\x06\\xa9\\xb0\\xb1f\\x12\\x95\\x851\\xa3b\\xbb\\x1b\\x9au\\x9dy\\xe4d\\x9c\\xeaw\\xf9\"\\xd3\\xfaScQ\\xa9\\x16g\\xb7\\x16.5\\xf2\\x1bc+\\xb8JL\\xd5\\x05\\x96\\xa6\\xfc\\xba\\xf6\\xa8G\\x1aG\\xcf\\xd0\\xf6\\x84\\x8b<\\n\\xe8\\xf9\\x19\\xf3\\x82\\x92j\\xce\\r\\x14\\xe1[\\xfc\\xb6\\xf0\\xac\\x1e\\x16\\x11\\xcf\\xf6<\\xb4DJ\\n\\xc7\\xe8\\x94S\\x91P\\xa4\\xf9\\x1d\\xfd\\xca\\xbb\\xde\\xb2g\\x8eF\\x07FE\\xe9\\xdf\\xb9\\x9d\\xe6lI^\\x84y\\xd8\\xc6\\xe3\\x8f\\x13~\\xd2\\x14\\xb5\\x82\\x022\\x85\\xf9w\\x0b\\x01\\x885G\\x9b+c\\n\\xeeQg\\x97\\x10.X,\\x9a\\xaf\\x93\\xb3\\xc2eX\\xb8\\xacw\\xa2\\xc0I<22>;\\xff\\xb7\\x96\\xac\\xc3x\\xcb)$,\\x1a\\x19\\t\\x17\\xd5y\\xb2\\x14\\xff#\\x96\\xa8\\x0bD\\xd8@\\xda\\x84\\x02\\xef\\xdb\\xa1\\x8f\\x98\\xf7/\\xe7E\\xc8\\xdf\\xda\\x80+\\x8d(ae\\x99\\xe5\\x8b=\\xedG\\x81\\x13\\xea\\xb0\\xf8b8B\\x01\\xa8\\xfe\\x1a4}\\x9a0\\xab\\x87\\x02\\xdfHT(\\x7f\\xb1\\x04\\xe1\\x12\\xac\\x90F\\xc0a:\\xf4-\\n\\x05>J\\x92\\x80\\xf6\\xff>\\xce\\xcfB\\xf5\\xd7I\\xc6\\xdc\"r\\x125$\\\\\\xecsL\\x16>\\xf9@\\xd7i\\x14\\x90%\\x8c\\xce[d\\xe6Wxz\\x94\\xd3\\nZ\"\"V\\xec\\x98\\x8c\\xc9>W\\xb0/z\\xcf~\\xada\\xe5\\xa6\\xe5\\x9a\\xe0\\x9f\\x91\\xffQ\\x10\\x16\\x87\\x0b 7vD\\xc8\\x98\\x14}`\\n.P\\xea\\xb4\\x16\\x19\\xf2\\x1d\\x9b\\x1cOP\\xe0V.,@\\xde\\xa3\\x00\\xd6\\x9b\\x9d\\xc3\\t\\x84\\xce\\xef\\xff\\x8de|P\\x12\\xeaLcL@E\\x89AfA\\x13\\xed( S\\x81eI&\\xb3Q\\xe4\\xd8\\x84\\xed\\x92\\xd0\\xf1O|*\\xe7\\x1c\\x9b\\xc8\\x87\\x0c\\x0eM\\t)\\x13\\xae\\x82\\xd9r\\x0cs\\x07C\\xcf\\x9c\\x81\\x9a\\xfeK*\\xdfa*\\xb1\\x95\\xce\\xd0\\x95\\xab$\\xcaB\\xd2Q \\xef\\xfdI\\xea\\xaa\\xe0E\\x15E\\x9f\\x84\\xcd\\xf2\\x90\\xbdY\\x83\\x93\\x02k\\x91\\'\\n\\xe0\\xef\\xae\\x84\\xf0]\\x8b\\xe4\\xec\\x846\\x82\\xdc\\xb3\\x15\\xc2\\x1c\\xeb:\\x90\\x1f>\\xef\\x89\\x90-\\xdf\\n/..k\\x02\\x95\\xf5\\x96<\\xb7+<\\x95:\\xc1\\xfcN\\x10\\xd9\\x05G\\x8a\\xc0\\xc5B\\xd4\\x85u\\x18\\xda\\x8d1\\xa7n11\\xd8\\xeb\\xa3\\x8e\\x12\\xe6c\\xe9FSR\\x8b*t\\x81\\xeb\\xc4\\xaf\\x87\\x86\\x0ck\\xedP\\xa0\\x04\\xea\\x86f\\xe6\\x1e\\xd2gD\\x8b\\x04\\xa9yN\\x8bc\\xfc\\xa5\\x00z\\xeb\\x1e\\x8b\\xbd\\tD\\x81\\x1cht\\xfa \\xe5\\xcd\\xff\\xb1\\x181\\'\\xe1M\\xa9\\xc8\\xf1d\\xe4\\x0bYD\\xa3O\\xfe\\xdf)\\x82\\xa6$\\xc4ir+\\xea\\xee:6\\x83}\\xfd\\x83~\\xe4\\x87gH\\x06<\\xe9\\x04\\xa1sv\\xe8<\\x99\\x91\\x03\\x06?\\xef\\x1c\\xe9\\x1c)Ih3\\xf6\\xc7o\\xf0\\xfd}\\xaeb\\xfd\\x95pP\\xc1KWR\\xb8zq.\\x1fc%\\x01\\xb2\\xf2.\\x9f6\\xed\\xa5\\x0e\\x1ap\\x96\\x07\\xe5\\x87*\\x16\\xc1\\x05\\x03\\x97t\\xb4\\xbbL\\x02\\xd2\\x15\\x0b\\xa3\\xaa<\\xee)vW\\xbf~(~\\xd5\\xfb{\\xd6\\x83\\xa1{\\xb7\\nO\\\\\\xde\\xb7\\x1ec\\x08\\xc4\\xfcE\\xa2\\xfe\\x97`\\xd99+\\\\\\xee\\x8e\\x02\\xeb\\x8ay\\xb3\\xa2\\x7fH\\x15\\xa0@\\xee\\xd6_\\xa8\\x84\\xbf\\x0b\\xc16\\xc1\\xf8\\xcf$Il\\xdcn\\x13\\x18\\xc7*\\x89rP\\x80m8\\x05\\xb1U\\xe0\\x8b\\xf9\\xb0\\xbf@u\\xc2\\xa6\\x96.\\xa2\\x1c\\xd9P\\xdb>\\x12\\xae\\x831\\x8b\\xab%\\x81\\xaf\\x99\\xfc\\x7f|\\xc3\\x9b*\\tY\\xff\\x15\\x85\\x18\\r\\x8d\\xef\\xa6\\x0ei\\xf8a\\xe6\\x97\\\\\\xe8\\xa0\\xce\\xb4<\\xc3\\x8anQ\\x15B\\x04*\\x97\\x98*|\\xf0\\x88\\x15$z\\xc7\\x9c\\xbf9\\xd6=+\\xfa[F\\xee\\xe2\\xb8Q\\xb4z\\xbc\\x9cp\\x1fF_L\\xe0\\xc6\\x16\\xbf\\xd5]\\x962\\xc7\\x11-\\xb8\\xb1\\x11\\xd1\\xfb\\xf3Qq\\xba\\xc6\\xe6o9\\xb5\\xae\\xab\\xd3N\\xbci\\xce\\x16\\xd8\\x15\\x9c`\\xadv\\x98VYS\\x99\\x1f\\x00}y\\xbb\\xc8\"\\x84\\n\\xb1\\xe8\\xb8\\xb9m\\x8eu4\\xc1\\x1d\\xeaw\\x83\\xee\\x82\\xc9\\xf9u\\x8b\\x8c\\xae]\\xe0\\xbf\\x8f\\xa8C\\x928\\x8c\\xf5~\\xf3F\\x81.\\xb23\\xe5\\x8b\\xdc\\x7fRJ\\x8d8\"\\xd7\\xbc\\x10\\x1eQ\\x0e\\xd6\\xc8B\\x8cJ\\xe7\\xda\\xbcEV-\\x8a\\x0fe|\\x16Q\\x8c\\xc0:K-\\x16c\\xfa/\\xb3P`\\xefy\\x1f\\x8c\\x7f/\\x8e\\xe1 F7\\xff\\xa4\\x02\\xd4@\\xaa\\\\?<\\xce\\xbf\\x06\\x0fb\\x84\\x17\\x08\\xce<\\x1b\\xe7\\xe53ng\\xc9\\xb3|\\x96N\\xb4\\xec\\xd4K3\\xa9r\\x89\\xd4]\\xb3k\\xaf\\xe1\\xc1U6I\\xafG\\x96\\xb9\\xa7^\\x02Y%\\x18\\xcd\\xa2\\xc0k=/C\\xac;\\x84\\xe5\\xb6\\x06l\\xb0\\xdf\\x00c[\\xa9\\xb1\\xdb\\x06\\x99\\t\\xf3-\\xf1Bk6\\xf5\\n\\xb2\\xb1\\xf3{\\xdb\\x1c\\xe5\\xfbV\\xbb\\x01\\x86a@\\x12#j\\xca$\\xfb\\xf3\\xd1\\x8c3rO\\x0b\\xcfy\\xc6R\\xd4\\xf6Bz\\xfb\\x16%d\\xe7i\\x9c<\\xc98\\xd6\\x1d^9X\\x8dK\"H\\xda\\xe9\\xc3\\xf1\\xf5\\x88A\\x87\\x909A[\\n\\x1f\\xf0&\\xe3\\xa9\\xa5\\xd3\\xba1\\x01S\\xcfV\\x9d^`\\xa2zaeW\\x86\\xa2\\xdc\\xffp\\xa2\\x10P \\xe1\\x05T\\xef\\x0e\\x8d\\xea\\x93K\\xa5\\x11\\x1d\\xd7S(\\x90\\x96\\xff\\xbf\\xfdaA/\\x18\\x98\\n\\xff\\xda\\x8f\\xc8\\xeb\\x0bLE7\\xf1\\xdcI\\xce\\x93\\x01%\\x8dQe8n\\xab\\x87\\xc0\\t\\xbe\\xa3`\\xa7\\x8b\\xfc\\xd9rK\\xa7\\xc3\\xa5m(m\\xde(DeU\\xae\\xcd\\xb9\\xc4\\xa8\\xc9\\x1b\\x83\\x9b\\xdeL\\x8c\\x8cb\\x0b\\xcd\\xf5\\x03\\x88\\x1c\\x16\\xe9\\x1dJ|\\x08k\\x83\\x03\\x07Q`\\xa8\\x19\\xc7\\xd3\\xaa\\x10\\xaa[#\\x89\\xb8\\x89\\x05&y\\xa9\\xfc%\\n\\xb4%\\x81\\x03\\x96\\xe1\\x0bLS\\x19\\xec[\\xf8T6\\x0c\\xb3 S\\rj\\ner\\xf71\\xe7WA%(\\x80\\xa800\\x92\\xbaa\\x1d\\n$vSYO\\xa83\\xbf\\xa1@\\x10\\n\\x08\\xf5\\xcbh\\xc8A7\\x14XZ\\xb0\\xe0\\xc1\\xd7\\x8b\\x08\\r\\xd3\\xecB$\\x0b+\\x1f!k<\\xb0\"\\xceE\\x81vq\\x11\\x19c\\xb3\\x19tp.\\xc2Q\\xe8\\x80\\x81\\x96\\xa4+\\x96{i\\x01\\x885\\xa5\\tFk\\x07R\\xff\\x13\\xc6b\\xbb\\x15\\x06\\xe5iP\\xfdA\\xbbU1*\\x82\\x06;U.\\xb3\\x1e\\x05\\xc4C5I\\x9e}Bwv\\xb8\\xd4\\xa7\\xf7\\xd0\\xd1\\xe2}QS7\\xf7\\xd6V\\x97\\xd9t\\xef\\x0e\\x1b\\xfe\\r\\xf6^\\xf6\\x8c.7>\\x05\\xbd\\xa6\\xc2\\x1b2\\x85\\x1a\\xd2\\x83\\xb3IEB\\xffA\\n\\xbc.\\xb3Y^\\xbe:l\\xab\\xf1\\xa3\\x84z?]H\\xd1\\xe7v\\xf7\\x97\\x134\\xe2c\\xf9`\\xbdL\\xb3\\x8d\\xe6f\\xcb\\xe5.\\xedmv\\x13\\xe3\\xfd\\x94\\x8e\\xc7H.\\xee\\xdf\\xff\\x7f~\\x1cO\\xb4\\xef\\xdf\\x00PK\\x03\\x04\\x14\\x00\\x00\\x00\\x00\\x00\\x94\\x01IT\\x00\\x00\\x00\\x00\\x00\\x00\\x00\\x00\\x00\\x00\\x00\\x00\\x11\\x00\\x00\\x00input_data/image/PK\\x03\\x04\\x14\\x00\\x00\\x00\\x08\\x00@-ET\\xaf\\xb0\\x03\\x1f\\xb3\\xfe\\x00\\x00\\x96\\xff\\x00\\x000\\x00\\x00\\x00input_data/image/person@1=person_whole_front.png$Yw<U\\xff\\xff?$\\xa3\\x8ckeg~$\\t\\x97k\\xcb\\xbcFe$.IFvY\\xc9\\x9e\\xd7\\x8ak\\xa7\\x14\\xd7\\x1e\\x85.\\x12B6\\xc9\\xbe\\xee\\xcd\\x0eY\\xc9\\xbd\\xf6\\xba\\xb8\\xb8\\xc6\\xef\\xf6\\xfb\\x9e\\xfb\\xc7}\\xdcs\\xd79\\xcf\\xd7\\xeb\\xf5\\x1c\\xefw\\xfc\\x03#=\\x86+\\xdcW\\x00\\x00`\\xb8\\xab\\x0f}\\x08\\x00\\x14\\x1a\\x00@\\t\\xd0R\\x92\\xcf\\x84j\\t\\xd1\\x93\\x9f\\xa8\\\\4\\r5\\x01\\xa0:\\xf5\\xea\\xe9\\xd3\\xcb\\xe4\\xd7\\x02\\x0e\\xfa\\x0f\\r\\x01 X\\x14\\x00\"b\\x00\\xe0\\x84|*b\\x05\\x00\\xfc\\xa4\\x01`\\xcd\\x0e\\x00\\x943\\x01\\x80\\xe3EN\\x93\\x89*\\xf9\\rj\\xfb\\xfbzP\\xe0\\xe2\\xdf\\xa3\\xa0\\xb5\\xf4-\\xf9\\x0c\\xdd\\x0b}K\\x9f\\xff}\\xdaO\\x9abV\\xf6\\xe5\\x10\\xf9\\xeb\\xc0]\\xa8\\xa6Y\\xe0\\xf4\\xc6\\xd9T\\x83\\xe3\\xaa\\x1f?\\xf5\\xd6\"\\t\\xc3\\xd6\\xc5\\xe7\\x83\\xa9\\x18\\xc8\\x02\\xd8\\x1e\\x08\\xd0\\xbd\\x11\\x10\\xbc\\'\\xf3\\x9fe\\x8d\\xfbT\\xcd\\xe3\\xf2\\xe6\\xfc\\xe0\\xba\\x8b\\x84\\xf0U\\x05\\xb5C\\x9f*\\x9b\\xd6\\xe0\\xf4M\\x1a+\\xedA\\x96g\\xfdE\\xeeS\\xd7n\\xd0\\x8b\\xe8\\xbf.\\x13\\x07.\\xb3=\\x1f\\xa8\\xe0\\xf5\\x9a\\xbb\\xd9\\xe3\\x83!n\\xb6\\x92\\x16U\\x98\\x15^\\xa2(\\xa0N\\xe6\\xce=^\\xec,i\\xdeK\\xba9\\xacA\\xe1.\\xd8\\xf6dgj\\xb7\\x8a\\xea\\x9e\\xb7t\\xc1\\xbfi\\xbe\\xf4p\\xbb\\x9dn<b\\rL\\x96\\xcb\\xb3\\xab\\xa0k\\xe9\\xe16\\x96\\x9e\\xa0\\xb2qH\\xbe\\xc1\\xe9FYU\\xdd\\xc3\\x9a$\\x179\\xf9h\\x89\\xae\\'\\xab\\xc3\\xadb\\x97\\xca\\xc1pAn\"0\\xaaZt\\x87\\xdbM\\xb5\\xf3E*\\t\\x98\\x08\\x84J\\xd7\\xee\\xee\\x06\\xcag\\xcb\\xf9E\\xc7\\xb4\\x86WU\\xa0P\\xe2\\xfcD\\xef\\xca\\xdd\\x8c\\xefY\\x1d\\xc6\\xea\\xa2K\\xfd\\x8e\\xaa\\xc7\\x0b\\xad\\xb7\\xe0\\xfbq\\xf3\\xa7\\x8bV\\xea\\xdc\\xc6\\xa2s\\x8d\\x196\\xa1\\xab\\x83Um\\'W\\xdb\\xf7\\xc7}\\xf0X\\xc6\\xd8K\\xf8I\\x8b\\xef\\xactO\\x88Z\\xea\\xdd\\x9c|\\xc9sa\\xf8\\xd6\\xc9\\xf6\\x8bh\\xf5\\xd3b\\xaf6\\xc2ys\\x00\\xe3\\xa1\\xb6\\xab\\xdcYb\\xb9\\x87\\x97Gk\\xe0\\xf1G\\xaf\\xd3\\x93\\xaa\\xb3\\x93\\xaa\\x8b5\\x82\\x94\\xaa\\x02\\'=jnZ@\\xfd\\xe9#\\xd6\\xa3U\\xe8\\xcc\\xd7\\x06\\xcf\\xdf\\'\\xc5\\xf3\\xa4\\xe8\\x8b\\xc3\\xfc\\x8b\\xc3\\xe6m\\xf8\\x17\\xb8o\\x84\\xfeY\\xb8:\\x96P\\xef\\xe1R\\xcb%[\\xfe\\x1cw\\xf6B\\xb1%\\xf0\\xfc\\xbbT\\xf8A\\x9d-i\\xdc6\\xfc\\xf8]\\x06&_}\\x94\\x7f\\x7f\\x92\\xfa\\xf8n\\'\\xf9\\xb2\\x05{\\x8aw\\x8d\\xc3\\xf7\\x97\\xe0\\x87\\xa9\\x17\\xfd\\rmgC<z\\x9b\\x8e\\xcar\\xb2\\xdbayx\\xc4\\xafz\\x8fQ\\x08\\x0f\\x0f\\x0f\\xb8\\x07\\x14\\x85P\\xc4\\xc7vu~\\x9a5\\xc5cr\\x8eC\\xe0x\\x05\\xdb\\xb3\\xbd\\x0c\\xc9;\\x01\\xde\\xdf\\xc0\\x12\\x03\\x7f\\xbc\\xf3\\x07\\xb8\\xf9\\xa3\\xe5\"\\xf3\\xe5y\\xf9\\xaf\\xc3\\xf1V\\xf3\\xc7U\\xe7\\xc3\\xea\\xc1\\x04\\x1a8\\xb8\\xcaex\\x13\\xa1O+\\x18c\\xe7\\x8ciT\\xc5\\xd6J\\xb02\\xcb\\x9a\\x8e\\xfbR\\x08\\x08\\t\\xc9\\x108\\xa4\\xb6s\\xd4\\xfc\\x0e\\xc7\\xa5\\xc2\\x96\\'\\xc3\\xcf&\\xdbO\\xa73\\x02\\xfc\\x1bjUC~\\xe3\\xbf\\xf6h\\x93\\xd17}\\xd5\\x15\\xdd\\xe5\\x15F0>\\xe7\\xbf\\x98\\xbf\\xd8\\xc3\\xb6]\\xe0{\\x97\\xd2|0\\xa3\\x11H\\n\\r\\xa8}\\x12\\xd4\\xec\\xbd\\x93\\t\\x1b\\xe18\\x07\\x99\\xeb\\x83Q\\x82Bd\\x99M\\xc6+\\xcc\\x9c\\xb7\\x0eP\\xb9C\\x9bU\\xa1\\xbb\\x89\\x17;\\xdb\\x17.\\xb6A\\x9b\\xe3\\x9b\\xb9\\x95\\xbda\\xcen\\xaa\\xe4r\\xab\\xdfQ\\xfc\\xa5~z\\xa8\\xd0N\\xb88\\xaf:_W\\x0f;#-\\xf5\\x8b\\x0c\\xcal\\xb7\\xc6J0+*\\xa1\\xfb3\\x0e\\xe7\\x14\\x0c\\xa3\\x11\\xd0t\\xd7\\x8dV\\x17gg\\xcf?`YVf\\x80>d|P\\xaae\\xa7\\x01N\\xf0\\n_\\xe2\\xb1\\x85o\\x1d\\xdf\\x8f^\\\\\\xf0\\xce\\xff\\xc3M\\xb47\\\\(\\xa5\"\\x85\\x90\\xe0{\\xbd\\xf0\\x138\\t~\\xde~~\\xd4\\x0cW}6\\x1d\\xde\\xbe\\xddjq9\\x8e]V\\xb8\\x08\\xf1\\xd5\\x83\\xc7\\x01R\\xfb\\xf7\\xf6\\r\\x0e\\xe5;\\x18\\x82*\\xd6\\x07\\x9fc\\xb2\\xc4\\xfb\\x91\\xcd\\x82\\x9e\\x815wj*h\\xf5\\x98\\xe3bQ\\xfd\\x88\\x04_Vh\\xab\\xae\\x93\\xef\\xce\\x97\\xadx\\x9bl|\\x89\\x91\\xc8tq\\x00\\xbf\\xf0\\n\\xc7\\xc3\\x8f\\x14\\xe0\\x87\\'\\xf9\\xa9.~S\\xe5-\\xd8\\x99\\xfa\\\\\\xa3R\\xab.!\\x93td+\\x11\\x009\\xb0\\xa5\\xa1P\\xbe\\x14Pz\\xc12qf\\xd8\\xa5\\xb8>t\\x9e\\xfeO\\r\\xc8\\xc6&\\xbfA\\xe9\\xe8L\\x88\\x82\\xcb\\xdbU\\xaf\\xf3\\xcayU?\\xdc\\xd8\\x92\\xda\\xac\\x9c\\xd1\\x17\\xd1\\x1d\\xd6\\xd4U\\xc7\\x93\\x1e\\xe2\\xfc\\xa9\\xd7\\xc5\\xae\\xfaY?i\\xdb\\xa0\\xd4/\\x0f\\x8fV\\xeb\\xc9L\\xf2H\\x02;\\xa1\\xde\\xe4\\x1b@o\\xda\\xbe\\x0b\\xccv\\xe2\\x12\\xa2\\x8c@\\x95\\x084z\\xc0`\\x0eI\\x00 \\xeeL]6\\xbazJC\\xf2:{\\x0b?\\xc7\\xae5\\x9d[\\xc1\\xf1^\\xb9\\xcd/$\\xcf&\\xb8S\\xf9\\xc8\\x08O\\xb9\\xce\\x1cn\\xf2_\\xec\\xb7\\x938\\xda\\xcf\\xce\\xebn\\xd5\\x06iC\\x85& \\x0c\\xb5\\x01\\x92<\\x8cW\\x19\\xac\\xf3\\x90\\x88\\x87\\x03W\\x80\\x87\\xe0\\x9b\\xddM\\x98\\xc6\\xbfF\\xa5\"\\xef\\x89I\\x08D\\x8c+\\xc2Q\\xb4\\x00%\\x1eq\\x84i\\xde>;l?\\xc9\\xfdY\\x7f1\\x0c\\xdf\\x0b\\xc0\\xda*\\xb7\\xe3v\\xf0\\x14\\xff~\\xfa[\\xf8\\xc1I\\xfb\\xf9\\xf6\\xc5\\x10\\x7f\\xe8z\\xb6\\x1f\\xdf\\x18[\\x04\")\\xc7\\xf8\\xab\\x88\\x90\\xdc\\xbdk\\x8f`OM$\\xb5\\xa0x^\\xe6\\xdb\\x86\\xbe5hrK\\xe8c\\xea\\x89y\\x1dP\\x91z?\\xf7\\xa7\\x8a\\xbfv\\x0c&\\xbdf\\xcfg\\xe1D\\xaf\\xa1\\x8d\\xed\\xf3\\xd6\\x8b\\xa3\\xd3n\\x82\\xbe\\x1b\\xa3\\xbas\\x05\\xdd)\\x95\\x03\\xdc\\xeb\\xc2\\xb8\\x8d0\\xab~\\x84\\xe3\\x9fm\\xa9\\xe3\\xf8O\\x17\\xac!\\x96\\x80*\\xbbG\\xf5<\\xcbY>\\x97X\\x9e\\xec\\xf8\\x985\\xd9\\xb4\\xbb\\x0f}r\\x16\\xbe\\x87\\xcc\\xa02\\xe2Z\\r2u\\xb14\\x87\\xad\\xb4\\x06H\\xca\\xba\\x19\\x80{\\xbe\\xb5\\xb6Z;J\\xc6\\x1c\\x0e\\x8c\\xaf_\\x9c\\x04\\\\\\x18\\xe6\\xe1\\xe1\\xa4\\xed\\xf3\\\\Y<Vuk{\\xc1\\xb2\\x97<r\"\\xd3\\xf5w\\x94\\x15O0\\n\\x17G\\xfc\\x17o\\xe1\\x87[!\\xfcf\\xad\\xe2T\\x9aB\\x14\\xf4\\x1e\\xbc\\xa9\\xa2\\xc0\\x03\\xb6\\xf1\\x89\\t\\xa3;n\\xd7J\\xd8\\x1d\\x92\\xfaO\\x9d-\\xe5\\xb3\\x87\\xde\\xdf\\x95\\x00\\xf4\\xa9\\xcc\\xc7Q\\xf3\\xc6[\\xbe\\xae\\xc5\\xdaz\\x7f\\x11\\xb4\\x11Z\\xb4y\\x8a\\x83/\\xf5<e\\xb2\\xe1\\xeb*\\xf3S\\xb3w\\x0en\\x9d\\xdejv\\xf1\\xe7\\'f\\xec\\x1a\\x90\\t\\xec\\x06=J\\x99\\xcf\\xd8\\xcb\\xa6\\xfd\\xf8\\xc4\\xb6\\xe5\\xbc\\xf9\\xe2\\x10~:\\x9c\\n\\x0fUU\\xc6\\x0c$ @\\x88\\xd7\\x99C\\xb7Q\\xd1\\xfd\\xbfJh\\xbeE\\xa5\\x06^\\xa8b\\x8dQ\\xf7b\\x84(\\x1b\\x85\"\\x88\\x8d>)\\xf1\\xec\\x1f<\\xba\\xde\\x95[\\xc0\\xb7\\x99\\xc2\\xf9\\x99\\xe1\\x9b\\nmm\\x8d\\xad\\x9fo\\xdf\\x91\\'\\x03%\\xa2\\tKeJ\\xdd\\xfe=G\\xaaU?\\x9e\\xdb>-\\x87\\x1f\\xf4\\xc2\\x0f[\\xa3\\xbb\\xb4\\xf15\\xa0\\xa8%\\xb4FZ\\xda\\x14O\\xc2\\xcd\\xa8\\xa7\\xf4M\\x7fw\\xde4\\x11A\\x81\\x07U\\xce\\xce\\tj\\xd8\\xc1\\xa2\\x8ce\\xc6137\\xbc*E\\xf06\\xf2\\x8e\\xac8\\t\\xf4\\xdd\\x15\\x12\\xb44\\xc4\\x9f\\xa2\\xf7v3wH\\xaa\\xf5p\\xf9\\xbc\\xe0\\xe2[{\\xb6\\x0b\\x1b\\xb9\\xd2\\xe02\\xfc\\xc1\\xca\\xca\\xd1\\xce\\xc2\\x0b_\\xd5\\xa6\\xa0\\xf5\\t\\x95\\xed68\\x017T\\xb4\\xc1\\xae3\\xac\\xcb \\xf8\\x86\\xeb\\x12\\xf8R\\xa1\\xe9\\xc6\\x80\\xd6\\x17\\xd71K\\xff\\r\\x91\\x9e\\x12\\xfa\\x897\\xad7\\xe5\\xa9#v\\x03\\xe9\\x81\\xb9\\x10\\xa8\\x19\\x1d\\xf8J\\x16Xet\\xdf\\n\\x13\\xc2\\xda\\xafm\\x9a\\xaa[\\xdc\\x10\\xbe\\xf7\\xf6by\\xfe\\xcc\\xb8\\x15\\x15\\xbc\\x9b(\\x85\\xef\\x0e\\xde[\\x04\\xdb\\x91\\xc1\\xba\\xe41\\x1az\\xd4\\xf9\\x8e\\xbf\\xed\\xfc\\xd2!\\x92\\xe8)\\x9f\\xad\\x00V\\xc4$\\x14\\xed\\xa8U\\xcd|B\\xbc)\\xd4\\x02\\x04D\\xa8\\x04`\\xf1&-\\xebfo7\\x16\\rl\\xd4>\\xa1FWy\\xd3\\xe2\\x9f$1S\\x00c\\xac\\xb5\\xc2\\xcct\\x14\\xcc\\xc3i\\x83\\x84\\x1c\\x01C\\xb9W\\xe4\\x89Rhh\\x90O\\xacQ\\xbc\\xf8\\xfd\\xb1\\xa5\\x8f\\x9fH\\xdcG?5\\\\\\xc0\\xaa\\x98\\xf9\\xc9\\xe4%12\\xcd\\x9ft2\\xb5\\x1d\\x0c\\xa9\\xa3\\x134-\\xdfo\\xb7\\x11\\xc3gt\\xb7\\xef\\x08\\xf5rj#\\x12\\'\\xf4\\x1f\\xc0z\\xf3\\xfa\\x1e:\\x89YN/7W\\xeav\\x03\\xafmjO\\x0b\\xf6\\x1di\\x9f\\xcag\\xc7\\xeb\\xe3\\xa6\\x94h\\xa8\\x9cE\\x8b*\\xebQY\\x8dc\\x13\\xddP6\\xado/\\x0f\\x06\\xf8\\xc3\\t\\xc4\\xf2\\x9a\\xd3[\\xf03\\xf5o;\\xa7\\x1f\\xeb\\xf8\\xc2\\x7f\\x90e\\x82\\x902<\\xbck<\\x7f\\xb2\\x9b\\xcc3\\t?\\xc2e[T\\xd9\\xce6\\xcb\\xfa\\xa0{\\x97v\\xdd\\x95\\x85\\x8b>;]\\x11\\xc0\\xde\\xbf;\\x0bC\\xdc\\xfc\\x98d\\xad\\x1d;\\xfb\\xf6\\xe7\\xbdG\\'\\xd8U\\xec\\xb2[\\x8d\\x84\\xc5\\xf8\\xaa\\xeft\\xbd\\x87\\xa5\\xa3\\x8e\\xc9#\\xa8\\x96D\\x82\\x81H,\\x88\\xb2\\xd0\\x87\\xd1`\\xad\\xe9\\xf3\\xfac\\xfb\\xd3~c\\xf8\\xe3\\xc9vYn\\xe3\\xf3\\xb7\\xed\\x17\\xf9dmy\\xd5{\\xf6\\xea\\x8e\\xd5\\xff\\xffk\\xbd\\x87\\xd7\\x93\\xf6\\xf3%\\xfev\\xbf\\x90\\xedk\\x11\\xd6\\xedA\\xda\\xb0l\\xd1\\x18\\x10 \\xe0-_w\\xb7\\x08\\xa1\\xa1`\\x97N\\xcd\\t<\\xf8h\\xdd\\xd3p?\\xf4\\x07\\xd5\\xd5Z\\xb7\\xac&\\x8f\\x99z\\x8f\\xce\\x1fhJ\\xcaL\\xd8\\xb8\\'\\xed4\\xc4\\x10pp\\x96._\\x9f\\nU\\xdb\\x86\\xa9\\xe6\\x1a\\xc1w\\x8a\\xf9{\\xca\\xf0R\\xaa\\ru\\xcd\\xad\\xd5\\x8d\\xbb\\xdf\\xdak]hO\\xad\\xda\\x0f\\xacRI\\x9c\\x13Gb\\xd2\\xcdE\\x12\\xb8\\xd1\\xa9\\xd4\\xf9\\xe0\\xf5\\xb58\\x8b\\x1b$\\xc2\\xee\\xb0\\xab2\\x12`]\\xfe]\\x04\\xf9\\x89x\\xdb\\x88\\x16K\\xb4\\xf4\\x84\\x89f\\xdfQ\\x1e/\\xa6\\x883\\x10\\xd5\\xfcQ(-\\x16-\\xc0\\x99\\xc5\\x02\\x08:\\xa9\\xd18\\x9a\\xbe\\x89(r\\xc51\\xcb~\\xaf\\xc10\\x8e\\xeb\\xa0\\x87[t\\xe9\\x93c\\'\\xb4\\x8a\\xbd\\'b\\xcda\\xfd\\n\\x94\\xc5\\x96\\x9cC\\xda\\x10=Ku\\x14\\xff\\x90\\xbbL\\\\\\xd0\\xd5\\x88\\xd3\\xd3\\xee\\xabV3Vn:yz\\xb1r\\x91\\xea\\xdb/\\xe6\\x9c,S\"\\x1a\\xbcf\\xb3\\x0cJ\\xaa/k\\x9bQ\\xbd4\\xea\\x9f\\xe6\\x1cO\\xcfD\\x94\\xf5\\xd5\\n\\r\\xbe\\xc4\\xa3$\\xa4j\\x92\\xe8E~X\\xea\\x87\\xa5\\x17=/\\xd1B\\xe8\\xeb#X\\x8a\\x90\\x91\\xdc\\x94\\x80\\x88\\x027\\xb3\\xc4\\x02\\x1b\\xda\\xe0\\x15\\x9b\\x06\\x03\\xbd\\x86!\\xec\\x8e\\x12\\x00h\\xb3\\xb3\\x9b\\xc8jk\\x089\\xaeQ\\x0b\\x9a\\x15\\x951\\x0e\\xec\\x9d\\x1e\\xd7F\\'k\\x0e$W\\xeeZ:\\x84\\x95\\x86R\\xfe\\xe4\\xdf\\xc7Z\\xab^\\x9c\\x12\\xa466g?\\xe1\\xc7\\x8a\\xe4E}\\xe8\\xc0T0\\x1d-<\\xaf0N\\xedVm\\xcb\\xcb\\xcf\\x03{#.\\xceTA\\xaa\\x9ex\\x93\\xff\\xca\\xb2P(\\x16\\xeeZ=\\xca\\xe1\\xbe\\xbfv\\xcc\\x12\\x97\\x80\\x0fb\\x8a\\xcf\\xce\\x845\\x8a\\xea\\x053#5\\xddyXa2\\xb2\\xac`\\xe0\\x01\\x04\\xfcQr\\xab\\xa7\\xe4\\x99\\xda\\xb7\\x97\\xcb\\xa9m\\x07\\xb9\\x1c\\xb6--\\xd5\\x8d\\xd5y\\xbc\\xe1\\x10r}\\xfb5\\xde;E/\\xf6`\\xb6<\\xbfJ\\x14$\\xaf=\\xee\\xad\\xcc\\xe4\\xa6du\\xc20\\xdb\\xad\\xd6\\x86\\xdb\\x98\\xcf\\x1d\\x84\\x9a\\x04yu\\xb0\\xf9\\xb9\\xfe\\xac\\xaf\\xa6.\\xfb\\x98R\\xf2\\xbc\\xb2PP1N\\xb7\\xcc\\xa0\\x8f1\\x9e\\xf3Z\\xa4w,\\x17 F)]\\x16\\x85\\x8c\\x8f\\x8a\\xb4D\\x98hH\\x0b\\xd5P\\x08\\xbc\\\\\\xebL\\xff\\xf5!43\\xab\\xce\\xa3\\xb9\\xa1\\x1d~0\\x10g{\\xbcVN\\xa6\\x01n2\\xe58\\x02\\xcc\\xa4\\xe8\\xf3\\xee\\xfbX\\xdb\\xf0F\\xdf\\xd6=\\x8c#\\xe4\\xb9\\xb3#\\xba\\x04\\xe1\\\\\\x84\\x1c\\xbcr\\xd8Z\\xb4\\xa1d\\xd1X\\xb1\\x8f\\x89Pj(,\\xad\\xf7@\\xb2\\x19p?\\x88\\xa7f\\xf9\\x99\\xceFK\\xd5\\x19I\\xe7\\xcb\\x80\\x05b\\xe7n\\xef\\x8dh\\\\\\xe1\\xa6\\xd7(\\xe2\\xe4dq}  ,x\\x08\\xd8S\\xdb\\x03\\x82\\x15\\x18N\\xac\\xf3(O\\x83\\xa7a\\xcf(Hk\\x84\\xe9\\xd1\\x92l7\\x99\\xa7\\xa93\\x8f\\x8f9l\\x15C\\x16[\\xb8y\\x8dox\\x9d\\xfe\\xbd\\xdd\\xb2$3\\x08h\\xd8\\xdf\\xf2[?\\t\\xea\\xf9\\x8c\\xaf\\x91!\\\\nL\\xe2\\xe4\\xab\\x1eU3\\x1d\\x84\\x96\\xb8+\\xd3\\xd0\\xb2\\xbd\\xb1N.((\\x1a\\xc9*\\x14\\xf5\\x96\\xd8\\x83\\x9a\\xbd\\xa1\\xd1\\x82\\xb2}q\\xa5\\x15\\x17w\\x16\\xcf\\xe10\\x81<\\x86\\xbe\\xd0\\xa0\\\\\\xf9a\\xa6sv/\\xae\\x04iXR{\\xcb\\xa2j\\xae\\xc9{}\\xef~\\xc6$U8\\xd5\\xff\\xb0\\xc5\\xbb`\\xf3\\xe5j\\x99\\xd4[\\x86\\x13RJ\\xde6ydJ\\x13-\\xcb\\x8b\\xaau.\\xa5\\xa6\\xa7\\r\\xf6\\x07\\xfdM\\xe2\\xa4\\xefT\\x8aZ\\xe0co\\xd4\\xbb\\xcd\\xeb\\xfd\\xa6[\\xab\\x8e\\x13\\x06\\xb5\\xe7\\x81^\\x8e\\xe0\\xcc\\xbd\\xb1G\\x15\\xdd\" $`\\x16!0\\x12\\xd3\\xf7K\\xfe;\\xd45\\x96\\xbb\\xf3\\x013_\\x01\\xaaG\\x0c\\xbc$q<\\x87\\xde\\xe0e\\x1dv\\x94o\\xf6qQ\\x8f=\\xfa7D\\x94d\\x88\\xb9\\xfa\\x12\\x7f\\x97\\xdf(\\xeaZZ\\xba\\xa5Pe\\xdb\\x1c\\xe6\\xa6z\\x9d\\xa9\\\\f\\xf0e\\x82\\x9a\\x86\\x88\\x9c\\xcb\\nB\\xf5\\x8d\\xf6c\\xc6\\xebHnnE\\xfbA\\x19\\xa8/\\x15\\xf8M\\xbc}\\xe4Hl\\xac4\\xe46\\xa0\\x18\\xf7\\xcae\\xfbL\\xb7J\\xcb\\xd1\\x91\\xa5V@\\x86\\xa9\\xd2\\xcdZ\\xb4\\x9a9\\xb9$\\xed\\xe1\\xe7\\xfb\\x14\\xd2N\\xa5\\xc9Mw\\xe9\\xf0O,\\xaf\\xb5\\xdaT\\xf5\\xc9\\xe0y+\\xf4\\xce\\xf8\\xe9&\\xa8\\xc2\\xed5\\xa0K\\xbb\\x7fg\\x99>\\x87\\x93\\x9a\\xe1\\t\\xd0V\\x1b\\xac\\x19JB\\xfdz\\xea\\xdd\\xca\\xfc\\x8c\\xb3\\xa2\\r\\xa7W\\xda\\x08\\xc1{f2\\x08pB<*\\xe1\\x13\\x92\\xd9\\xe4\\xbdS#\\x16(\\x18\\xb8J\\x05\\x8a\\x1fjI1\\xbc\\n\\xe8\\x98\\xb0\\xe9\\xa4=MA\\\\\\xf9\\xd9\\x03\\x1aR}\\xbbn\\x11\\x86\\xef\\x1d\\xa5k\\xc0\\xac\\x1dW0\\xb0Xik\\x89b\\xd3U]\\xf0O\\xd2H\\x9cK\\xe7\\xe7\\xe7\\xafj]\\x12j\\x1e\\rv\\xfe\\x7f;\\x89\\x08~]\\xecr\\x9b\\xf4\\x9a\\x9frs\\xf6a\\xbblB\\xfb\\'B&\\x1f\\x8f\\t\\xf1\\x8f)\\x13\\xf7\\x98\\x89\\xfd\\xf5C\\x1eb\\xe8\\x83\\xe8DK\\xf4{s\\np\\x0b\\xb3\\x08Xl\\xf0\\xa9\\x88\\x17n\\xc4\\xd3F\\x95\\xf8Kn\\x9f\\x00\\xa0\\xee\\xb5\\x9f\\x0fg\\x14/\\xd9\\xebn\\x0f\\xda\\xf8)^\\x97cQ\\xfa\\xea\\xaco\\xa0{\\xa3\\xd0\\xeb\\r\\x0e<\\xaaJ\\x8c\\xd6\\x84K\\xaf\\xa8\\xd8\\xd8>N\\xa5\\\\\\xf7:\\xbe\\x1b\\x85\\xe0\\xe5\\xbb\\xdeP\\xabT\\x16\\xe4\\xcf]\\xf45rl\\xa0\\x853\\x1d\\xd6c\\x04\\x9d\\x0eVC\\x1a<\\xcc_\\nU\\xe3o\\xfc`\\xf5\\x91\\xbeO\\x7f\\xe3\\'s\\xc8\\x87~\\xc7\\x87\\x7f\\x83\\x90\\xf8F\\x02\\x86\\x95[Z\\x80BW\\xfa2+H\\x93\\xa2\\x97\\xcb\\xd4\\xdcL\\r\\xfb\\xc4\\xe4E^\\x1d\\x8b\\xce\\x07\\xbaJJ\\xca\\x9c\\xa4\\xff\\x12h3AO\\xabP\\x929*\\ru\\xb5\\xad\\x9e=\\xc1\\x90G\\xf0Ac\\x16\\x84\\x18Q\\xcd\\x87\\xebR\\x8d\\x96\\x87_\\x8e\\xc24\\x95\\xed!5\\x0c\\x0b\\x9e\\xf4\\x0b\\x0b\\r\\xf5U\\xbd\\xfe\\xea\\'\\x04\\x0c\\xf1\\x90e\\xb8\\xfe\\x13\\x88\\xa0@v\\xd0\\xf8\\xb3!\\xf5a\\xa6Z\\xb7p\\x8d7\\x8cd\\x99\\xca\\xfc\\xdd\\xda\\x98\\x00g\\xd1\\x08t\\x0e\\x07;.\\xef\\xa6\\xcbv,\\xcfYAi\\xc4\\x0e\\xe6\\xfc\\xa9\\xf5\\xa4\\xab~\\xdb\\xe876f\\xd3!\\x99\\xf6\\xe6\\xda\\xb3WR-5\\xb5\\xb5g\\xdf\\xdaQ.\\x97\\xc9\\x8dtwg\\x8e\\x81\\x14\\xc6T\\xa6\\xd9\\xdf1-&\\xfa\\xc1\\xdc)\\x08\\x96N-\\x93=\\xc4\\x98\\x9a\\xaa\\xfb6^\\t\\xd0\\xea\\xe3}\\xec)\\xea|m\\x08jf\\xa6\\n*\\xfc\\x8bi(\\xfa\\xad+$\\xe3\\xe2(\\x00N\\x88\\xe1!\\x91t\\xbf\\xe9K\\x90jr\\x86\\xfe33\\xb4\\xfe\\xeagi\\x96\\x9d\\xad\\r&\\xdb\\\\\\xc2*\\x1a\\x90\\xc1\\x17\\xfb\\x17\\xf1;?\\x86\\x8d_\\xcd\\x90\\x82\\x1f\\xdf\\xaa\\xf2\\xf4\\xf4R\\xdb\\xaaZ\\xb3\\xfc\\x97cX\\xf6T\\xd5\\xe1\\x87_ir\\xe4\\x93\\xe3-\\x11h5\\xe2\\xd4\\x17\\xf5\\xbe\\x1c\\xaf\\xe8\\x18\\xce\\xf5z\\x0fCNd\\xab\\xb6\\xf4\\xc8o\\xb4\\xc1\\x98HDV\\x94.\\xc4\\x9c\\x13\\xbb\\xfe\\x1d\\\\8x\\x87S;\\x89|q8B\\xd0\\x0e\\xb5\\x9d8\\xc8a\\xec\\'\\xda^%\\x11\\x9co8\\xd0\\xef\\x1b\\xe2V>\\xcf\\xe3\\x98\\x92(AL\\x81R\\xa1\\x8b~\\x8cQE!x\\xba\\x16\\xddl\\x8f\\xf7\\x90>.\\x13!w\\xf9\\xb9\\xc8]\\xfc\\xe65\\xc7\\xb1\\x9bm\\xd0A#\\x81cfUU\\x7f)M\\x16_\\xae\\xca\\xb3\\x7f\\x02\\xbc\\xa6\\xa6\\x0b\\xcbs*\\xc8L\\x93\\x89\\x05\\xd1\\xe7F\\x02\\x91\\x91\\x0e\\x94\\x10\\x1d\\x88H\\xee\\x90\\xf3\\xef\\xf2\\x16bt\\xf2S$\\x87\\xe1\\x9dl,\\xde\\x83\\xc7n\\x05\\x88\\x18{\\xddaO_\\xf2\\x0bS\\xacO/.D\\xb0d\\x000\\x8d6U\\x93\\x18\\xb7\\xf8\\xc2\\xe4\\xd9`\\x9a\\xde\\xad\\xb1-L\\x86\\xcd\\xd9\\xf7\\x89\\xe9S5-r\\xff\\xc6,\\xa2\\x1bG\\xdb\\xcf\\x0fl\\xb9\\xf8\\xf9\\xf8f\\x95\\xca\\x1c\\x0c\\xfa\\xf1\\xbfC \\xf7\\xbb\\x7f\\xa9b\\x85#_\\xeb\\xc6k\\x16\\xd5p\\t\\x00\\x82Y\\x91\\xccJ\\xbav\\xd2x\\x07\\xd8AC\\x80q\\xae:\\xfc\\xb3\\xc5\\xb5\\xd1]\\x11\\x0f\\xf5\\xe6\\x9b\\xa6BZZ\\xf7\\xee3\\xb0\\x83\\xe3\\xbd\\xf4U\\xae\\x0f\\x86\\xdapXb6HNr\\xccd\\xb8\\x85^_1\\xd3\\xc9#s\\xdf!\\x1a9\\xea\\x04S\\xdb\\x92Z\\xe5\\xfa\\x1e\\x8c[\\xa7\\xeb:\\xc4L\\\\\\xe0\\xe0$bX\\xca\\xd2I\\xc4\\xad&\\xd9FS\\xf7\\xf4e]\\xac\\x052\\xb3\\xde\\xe3j\\x02\\xd7\\xb7\\xef{\\x86\\xea\\x8a\\n\\xaa\\x9b\\x1d_=\\xbeVN\\xc5\\x08\\xdeSy\\xe7\\xbfQ1\\xc5\\xf9-\\xf7v\\xbb\\xdc\\xdfd\\x8a\\xdc\\xb9!l\\x9ed\\x88\\x13\\xfdP\\xee\\xd3\\x0b\\x88\\x83\\x14\\xfaK\\xe5\\x90\\xf6\\xf0\\xe0\\xc9\\x7f\\x7fy\\x0b\\x1eN&\\x06*\\x97\\x1b\\xf9x_\\xf9m\\x81\\xb5>=\\xb9*\\xa5n\\xb1O\\n\\xdf8`\\x84(\\xc8\\'\\x1e\\xae\\xb7\\xef/\\xcb\\xba\\x18WY|V\\xbd\\xf7\\x0f\\x82Hd\\x80\\xf1f\\xcb\\xe9\\xc8}\\x1d\\x13@\\xc3\\x84\\r\\x06S\\xc2\\xbfO0\\xff\\xf2\\x00{\\xd7\\xa1\\xa9\\x80\\xfayfB\\x07\\xb5+u\\x11j\\r\\xa1\\xea\\x9d\\xe7\\x14\\x94\\x97\\x11\\x94\\x86\\x0fZ\\x94\\xc5\\xff\\x0eU\\x9b\\x04=\\x15\\xcc\\xd0\\xf9\\xd4->h\\xfa\\xb1\\xc1\\xc3\\n6T\\xe3\\xae\\xc8\\x9b\\xa7\\xec\\xb7\\x86F\\xca>c\\xcdB\\x1e\\xd0D_\\xe5\\xc0V\\rm\\x0b\\xf7\\x90[\\xeb:\\xca\\xe6\\xe0\\x95E\\xdbB\\xae\\xd7\\x8c<\\xb1M\\xe2>\\xd5\\x8a\\xbfDf\\x9a&7=\\x0b3\\xdd0E \\xd48\\xb3\\x96\\xcc\\xca\\x1a\\xba/\\xed\\x90\\x04\\x9d\\xf7\\x16:J\\x15\\xc1]s/~m\\x13\\xcbm\\xaa*D \\xb4Y.\\x92\\x0e2\\xc9\\x82\\x90\\x924\\xce\\x044kt\\xac\\xfc\\xbdu\\xd5\\x03\\x12\\xd9\\xe3\\xf7`0\\xef\\x111 \\xd0\\xee\\xf7F\\x02^2\\x07K\\xa8\\x93^\\x16\\xeeV\\xa6\\x0e\\xdf{\\xedr\\xbc\\x85\\x91\\xcf\\x84\\x10,\\xa7\\xf8\\x1dS\\xec\\xdd\\r\\x8b\\x90\\x02\\xdc*\\x7f\\x81\\x81\\x9f\\x1e<?\\xe8\\x01\\x90\\x920T\\xfbe\\x9e\\xc05\\xccAb\\x8dm\\xfaY\\xcbF\\x06\\xac}\\xd2\\x87\\x96\\xdc\\x9e\\x87/\\x84\\x9be\\ry\\xe8\\x8b_\\xd5{\\x9a\\r\\x05\\x114\\xce\\xce;\\xb4\\x9eH\\x82E\\x8a\\xd0\\xc7\\xe9m,iEb6A\\xc7\\xef*s\\xf9\\xfe\\xd4\\xdd\\r\\xfc\\xf0Oo\\xb4\\xdf,H\\xc3\\x00}7*\\xc1O3\\x96\\r\\x8f@\\x88G\\x1f?\\xd2\\x82\\x9b\\xca\\x8a(\\x9f#tc\\x90H\\x07\\x0b\\xe7\\xf0\\xda\\xc9\\xaa\\x84\\x9a\\x81\\xbd\\xdf\\xc7#N\\x9fkr\\x17\\x0f?\\xe5Z\\xc3!7(\\x1f\\xc8\\x9aR\\xfa!\\x90K\\xaa>\\xae\\x94\\x051P\\xbb2\\xca\\x82\\ri\\xa9\\xd0\\xf7N\\x1e3\\x8c\\xc1g\\x19\\xb6\\xc7\\xdf\\xed\\x14\\x03\\x7f\\xcf\\x0f\\xc9\\xc6\\xc9E\\xe6\\xab\\x96=7\\x9d\\x8c\\xf9Y\\x9e\\x80B\\xfbl\\xcb\\xf4\\x16\\x9a\\x08\\xf5\\xf1\\n;\\xdb\\xfc\\x97\\xd9\\xa4Q)\\xec\\x1aU\\x96\\x05Et\\xa4d~\\x12\\xaf\\xd1\\x84y0\\xc4F\\xd7\\xbc\\xfc\\xe1\\xa8\\x81x\\x87m\\x88\\xe5)\\r0\\xf2\\xfa\\xfd;\\x15\\x1c[\\xc2>:\\xd2\\x88&\\x85\\xc3\\x0e\\x12^*#\\x15\\xa3j\\xfa\\x06[\\xfa^f\\x04a|\\xe6\\xd7\\xdf\\x91\\xe5\\xc5cf\\xf1\\x05\\xe1\\xfbG\\xfc\\x04\\xc5N\\xf1\\xbf\\xa4u]kf\\xee\\x9b\\xff\\xed\\x9eL\\'\\xcb\\xc77\\x11\\x08\\xaa\\x05\\xc4X\\xc8\\xcb\\x8d\\xce\\x96g\\xeb9W\\x0bWH9\\x05\\x1e3I7\\x07kT}\\xb2\\xbb\\xceq/\\x147`0\\x1c_f\\x8c\\xab\\xc9\\x13\\x93\\xfd\\xf2\\xb9C\\xdc\\xc4\\xd5\\x0c\\xc9\\x94\\xde\\xa5\\xa5\\xae\\xe2O\\x9f\\xe2\\xdf\\x07\\xbd\\x0f\\x11\\xfd\\xfa]\\xc5\\xf6\\x9a\\x15O\\xf6\\xcd\\xc9\\xee$\\xf4\\xca\\x1dbp\\xeb\\x94{=\\x98\\xd7\\xd3\\xd3\\xc3i\\x1d8J\\xfb\\x97\\xb9\\x98\\xc0=n\\xfc6\\x95.o5\\xab\\\\\\xc01\\xf5\\x13\\xe8\\xe2\\x9b\\x91J\\x94Z\\x94Z\\xa5W\\n\\xf4\\'\\x08\\xad9\\x9f\\x9e\\xe1\\xb8\\x9a[v`&\\x9e^\\x1e\\x9e\\x1e\\x1e\\xaf5q-\\xc8g\\x08!\\xad\\x88 \\x1bs\\xd8\\xc1w\\x1f\\x8e\\xed\\xdf\\x8d\\xd1\\x85u?\\x7f\\x80h\\xc7\\xb5X\\xb5\\x9a\\xab\\xabM\\xde-oM\\xc83w\\xcb\\x03\\tw\\xddFpAyN\\x96Uk\\x95C\\xdb\\x0e\\xff\\x88\\xef\\xba\\xd9\\xc1\\xd1\\xd1\\x0b/\\xd5\\xad\\xe5W\\xdbJ\\xf8\\x9cx\\xa1\"\\xa2Z\\xe9o\\x10\\xa5+b\\x98\\xb6\\xf5\\xa4\\xa8\\xce\\xfd\\x97\\xf6F\\xc86\\xaaf\\x7f\\xee\\xd2\\xca\\xd1J&\\x9fs\\xf8-,\\xe1k\\xafD%[%\\xaa-?\\xc9\\xc8\\xcb\\xdd\\x9d\\xad\\xdbQ\\x06i$\\xeag].N\\x917uG\\x8e\\x93\\x1e\\x85\\xb2\\x17\\x11\\x12\\xaf1\\x80\\xec\\x9f,OLL\\x8c\\xdf\\xb2\\x18\\xb2k5[\\xae\\xfe\\x97\\x93\\x98\\x0cT7<\\xdc\\xd9.3\\xb3\\x08\"\\x05)\\xfe\\xe3\\xfa\\x05\\t\\x8cq5\\x88\\xe0eo\\xbd\\x02\\x08\\x17\\xf9$\\xb9\"p\\xb4\\xc3A\\xf8\\x1c}\\xced]\\xc4\\xa3\\xc3\\x10\\x18{\\xf1=\\x9e.\\\\\\x01\\xbfC\\x05_\\xc8wql\\x9f\\xc0\\xd4#S>\\xc68\\'\\xcb\\xe7\\x08A*\\xa8\\xac\\xa9\\x90\\xc6\\x8f\\x1aq\\x05\\x05y\\xd3\\xad\\xe0d\\xbd\\xa4\\x83\\x8c\\xf3\\xbf\\x9d.\\xe7#\\x1f\\xef\\xcftin!\\xe9h\\x19`h\\xaa\\xb4\\xbe\\x0e\\xdax\\x1027-j\\x99sT\\xa8\\xe6\\xd5~N\\x1a>)\\x97\\xd8\\xe61\\xe3\\xac\\xfa\\xf0\\xcb\\xf9\\x8b\\x07\\x87\\xa8\\xb2+\\x18X\\xa6\\x8e\\xd0C\\x9d\\xb4\\xa4\\xbe\\x90\\xf9\\xf5\\x83\\x13\\'\\'g\\x1e\\x1e\\x9e\\xa0<\\xe3\\xd2\\xd1aW6-\\x01-g\\xad\\x1fB\\x83\\xa4\\xb3\\xce\\xa6\\x88\\xfdG_Dw\\xde\\xc6I`\\xa5\\xda\\xf7\\xff\\x1cN\\xf8\\xbb\\xe2rw\\xdeY6\\x14\\xa2\\xe9\\x01SY\\x9f\\xc7\\xab\\xb9\\xacJx\\xa3\\x9e\\xad\\xb7\\xa1*\\x8b_\\xf3\\x1a<n\\t\\xe9\\x06\\x92\\xec\\xe63\\x13\\x8a\\n\\xd0\\x19&\\xe9\\xfd\\xc2\\x811_\\xc3\\xfb#?\\xc5$\\'\\'/\\x16\\xe0[-\\xe8\\x08\\\\\\x9f\"P\\x82\\xa5\\xad\\x8c\\x00-\\x82,\\x82\\xd4dz\\xfa[(\\x96\\x98\\xd1~4\\xf0)7\\xb7uf\\xb2\\x9f\\r\"J\\xe1\\x0f@e)5\\xb4ED\\xf5\\x10\\x99Jz\\xd0\\xbbq\\xb3?\\xa1\\x1f\\x92=Xgf\\x1a\\xbcX\\xab\\x89m\\xef\\x1e\\xc5\\x1d\\xba\\xfa\\xb6\\xd4\\xd5\\x8d\\xcfs\\x1e\\xca\\x0c\\xd4\\xba\\xff\\xacBK\\xc4\\x80\\xb4\\xf4)\\xb7\\x10\\xef\\xb3D\\x1d\\xdcM{\\xf5\\xf7\\x8at\\xa8\\x00\\xe6\\xd7\\x93\\xd7\\x8e\\xbc\\xff\\x15\\x83\\xc5\\x05\\x93?3{\\xc7/\\xf4\\x9b\\x97\\x10\\x8a{\\x9c\\x93\\x8e\\xfe\\xe1U\\x88P\\r\\x0b\\xb7@a@\\xc5\\x15{f\\xd0kM\\xfb\\x1c\\xc3uKS\\xdb\\xd6\\xf0\\xdb\\x835\\xe1\\xf0\\xd7\\x1c\\xaf\\xae\\xf3\\xfd1\\xfcM>fg\\xc3\\x16\\xd1\\xfeU\\x93\\xb7\\xe2\\xbaZ$(\\x06J\\x9eM\\xd73\\x88\\x83!\\x04.\\xa0\\xc3W>~\\xa4\\xa4dM\\x1e\\x02\\xee\\xb1\\x81Y\\x7f\\x0b\\x04\\x0fN\\x88\\xfb\\xa7\\xfe[|I[a8)5\\xce\\r\\xba\\x98mp\\xa0\\x15*\\xa2\\xde\\x90]\\xa9O\\xd6\\x9a~\\x03\\xa0\\x92\\x10\\\\\\xf1_\\x05\\xa9\\x9c\\xa9_\\xda\\xcbg\\xa5\\x1c2\\xa5f\\xfd\\xd4ew0\\xff\\xfeu\\x98\\x84Y\\xec\\x1c:;\\x1b]v\\x03\\xac\\xff$\\x88y\\x18\\n\\x9b\\'\\x0b\\xf9Y7x\\xa8\\xe4c\\xd9\\x93\\x90\\x0eI7\\xf5\\xc2\\xb6\\xd0\\x8d\\x93m\\'\\xd3\\xc1\\x88\\x8bj\\xbb\\xcdC\\xd54\\xb1\\xf2\\xbd\\x8dW\\x89:y7\\xbc\\x9d\\x93)\\x9f\\xb94D\\xde\\xcdr[I\\xf7\\x1c\\xb1\\xd3N\\x02g\\t!\\x91C\\xd9\\'GG\\xd2X\\x1fa3\\x98\\xb6@\\xaf\\xc9\\xf2N\\xa0\\xef\\xd9\\x89\\xdf\\xb6\\xf5V\\xce\\x8d\\x97\\x08\\x84F\\x8cA_\\xcak\\x81\\x9e\\x9f\\x10\\xbf\\x19y\\x14\\xa5\\x9dP\\xf5\\xb3\\xe7z\\xbe\\xc7#\\x04\\xa9\\x96\\xfd\\x91\\xa6$r\\xfd\\xeb;\\x8cE\\x12P\\xa7\\xe3\\xf3G\\xb7\\xda/\\xb6/f\\xcf\\x87\\x87\\xbdG\\xe9O\\xce\\xa8#\\x19\\x98#\\xe8[A\\x97\\x94\\xe5\\x84ri\\xa8\\xca\\xc4N\\xea\\xe33I\\xe2\\xb7\\x02\\xe2\\xe4\\xf9\\xbb\\x02\\x95Mt\\xc4\\x07\\x92Hu\\x90\\x92)\\xcc!\\xee\\x98\\x80\\x0f\\x91j1;\\x0c\\x8e\\\\1\\xb7\\xb6\\x1a\\x13\\xba\\x15\\xb1\\xe7,_\\xa5\\xa3y\\xb3\\x87s\\xfau\\xbcv\\x9f\\xfb\\xdc\\x98\\xde\\xf0\\xf4\\x91\\x02Y0\\x03\\xd76V{\\xcf\\xde\\xa9\\x16\\x93\\x197>\\x86p\\xfe\\xdb\\'C\\xd2&t\\xebh\\xe5\\x014\\xab\\xa4PBA#5\\x06q\\xb7Z\\xa9\\xbbK<\\r\\xd9\\x0ff\\x15{\\xe4\\x9e\\xb5\\x1a:\\x071\\x84\\xa5\\xd7\\x06\\xab\\xe5\\x1b4\\xaf\\nul\\x0eU^\\xc5cJ\\xed\\xa5\\x00\\xd7\\xa4\\xa1\\x96\\xbc\\xc1\\'\\xc51M&i\\x10\\xfd\\x9c\\xb9\\xfa\\x7f\\xc9\\x99b\\xe1\\x98LW\\xd6\\xe1mk\\x07\\xd7\\x89\\x16{I\\xf6\\x9bZ\\xea\\x9fV\\x98hlC\\x0fn9U=w\\xc8\\x1cr6\\x1c\\x8d\\x01A\\xd9\\xaf\\x91\\xc2u`P\\\\\\xa1\\x07\\x8cJ\\x13\\x8d3\\x94\\xcd2\\xc0\\x11\\x1a\\x11\\x02B\\xdc\\xae\\xe9\\xbf\\xber\\x17i\\xef\\xfd\\xa0\\x9f\\xd5\\xba\\xa67\\xc6\\xc0^/\\x18# \\x04\\xd6e\\xa6\\x00\\xa0\\xf4\\xe2\\x86\\xa3\\x90B\\xd8\\x17\\xa9\\xf6\\x93w\\xb2x\\xec\\xb1{k\\xef\\xc6\\xae\\x9dGd\\xbe\\x19\\x9b\\xd3q\\xf7\\xa4\\r)z\\x9e\\x14\\xa0\\x17\\x17\\xa7;\\xfd\\xd2mCu\\x17%\\x19\\x97%WV\\x08\\x03h\\x05\\x7f\\x94xd\\x89\\xea\\xa3\\t9H\\x9ahM\\x18\\x9b\\x93\\xa5h]2\\xbdk\\xb8j[\\x18\\xc1\\xb9}\\xbe\\nu\\x85\\xa1F\\xc2m\\xfc\\x01C\\xee[N\\n\\x809^)\\xf6g\\x8c9\\xf4\\xe4\\xacS\\xeabz2\\xce*;\\x954\\x18\\xe8_M\\x9e\\xd6\\x84\"q\\xa9\\xb6\\x9d\\xd3\\x89\\tL\\xf2\\xfa$P\\x10O\\x01\\xd8\\'\\xa5 \\x11\\xc0[\\xb3\\xe6\\xcbQ%y\\xaf\\x9a\\xe8\\x04\\xf5\\x93\\xb8_!P\\xe1Xf\\x0e\\xcb\\xf7f\\x8a \\x13\\x07_\\x0c;\\xc6\\xb6\\xd9\\xbfR|`hh(9\\x99\\x01+9\\xb4\\xde\\xcb\\xc9\\xcc\\xdc\\xf1:\\x1e\\xf9\\xb6\\xce\"fs\\xb44/d\\xb7\\x1b\\xd5~\\x98\\xcf\\xcfC6sQ\\xd5\\xd5u\\x07\\xa7\\xcb\\x1c\\xf3\\xe7\\xab\\xa9\\xff\\xf5|(\\x1c\\xfd\\xd1\\x81F r\\xfc\\xfd\\x8b\\xc1\\x06\\xd9\\xc1\\xaa\\xca)`\\x96\\x82K\\xe8\\x1c,\\xd9\\t\\\\+\\xd2g\\xc5-\\xc5\\xbbX8\\x07M\\xac\\x07uwu\\x15;(r\\xf3\\xa7N\\xcb\\xba\\xc8\\xcb\\xcbK\\xdc\\xb3\\x9e\\x04\\xc7H\\x0c\\x16}J@<K\\xaa~6#1\\xe8o\\x94\\xcb\\xe5\\xee\\xa9\\xbaU\\xb5\\x88\\xfc\\xe7)\\xa4Q\\xe1\\xdb\\xe5\\xed\\xa7\\xb7\\xe0\\'\\xb3\\xdb\\xbc\\xd7\\xb7\\xca]!N\\xefD\\xa9\\xa1\"B\\x94\\xf6\\xce\\x0e\\x1eZ*yXZi\\xa2ZB\\x02B\\'\\xdeO\\x96\\xc6\\xf1\\xd2\\x83\\xc1_\\x07\\xe56*U\\xa5S\\x8a\\x9e\\x04WHS2\\xe7Z\\x8f\\xe4\\x13\\xb1\\x04!\\xbfX\\x91\\xcdr\\xce\\xe2\\xaf\\x85\\x9e\\xd9M\\x1e\\x03\\xa8\\xdfj>\\xcaV\\x16\\xa9\\xd7o\\xfd\\xbb\\x1b\\x93C\\x94T\\xf8\\xc1\\xad\\xaa\\x96\\xbd\\xb5u\\xafp/y\\xe4\\x07O\\x17Af\\x16\\xb9KZ\\x8e22\\xe0d\\xf1<>\\xe6n\\xce\\xaf\\x0c&\\xd99\\xb9\\x0ex\\x84~\\x12\\xf0_O\\xffn\\x1f:\\xc1~i\\x07\\x13>S\\x9f\\x17\\xa8\\xc8\\xeb<\\xe72\\'\\xfc\\'T\\x8d,\\xbe -z?\\xd7l\\xce\\x9f\\x8d\\x8b\\x18I\\x95\\xf0\\xdf\\xb6]\\xb2\\xc9dUw\\xcf\\t\\xd9\\x1a\\xb98o?\\x92\\n\\xdf\\x87\\x9fG.)qBM\\xddx\\x80\\x9d9=f\\x18_\\xdd\\xa8\\xd9\\xf6\\xddY>\\'Ks\\x9e\\xec\\xd6\\n\\xb10\\\\Z\\xa2\\xc4\\xba\\x93\\x0e,}NIF\\xba\\xf6\\x16!\\x9be)\\x10\\x92\\x95\\xd4[\\xbc\\xe4@U\\x86z.\\xcd\\xf9\\xc1\\xd0\\xd5c\\x06\\x83#\\xac\\xba_\\xd3\\x02\\xc9ad\\xb6\\'\\xf9\\xd2SY\\xff\\xad\\xf9\\xf6\\xedm\\x8c\\xdc\\xcf\\xb8\\x98\\x9b\\xbf\\xa0i?\\x93:\\x7fv\\'?\\xc8^\\x9a\\x96\\xa5\\xf4\\xe0\\t4\\x93\\xcb\\x8c\\xeeg-a#\\xa1\\xa8\\xaf?h;\\xd7\\xc7\\x05\\x93#\\xd8\\x91c\\x9d\\xb6\\x0c\\xb3a\\xb3\\xcc\\x0b2\\x86.e\\x13|J\\xb1\\x8e\\x1b\\x9c_\\xf20\\x035\\x12\\tBC\\xb7\\x87\\xd6\\x95?V\\xd9\\'i:9\\x84\\xe0\\xd1>\\xd8F?\\x8a\\xd5j{2\\x9f^\\xcfV\\x99\\xb1\\xbdp\\x83\\x1f\\x04\\\\\\x1cl\\xa3]L/I\\x7f\\xe7,\\x8e\\xe1\\xac\\xcd\\xc4+E1\\xdb-\\x86\\xb2\\xbc \\xea\\'Q\\x01\\x01\\x8c\\x8c\\xbf\\x00\\x06U\\x9f\\xb4\\xe5\\xb3\\x1a\\x14J\\x9chYU!i\\xfd\\xed\\x11\\xee\\xff\\x85\\xb4\\x94,;\\xa8\\xacS\\xfc\\xf1\\xbf\\x01\\x86x\\xd8\\xbf\\xd8\\x90j\\xdd\\x19\\x99\\xf8d\\x9aJ\\xda\\xc8\\xf7#K\\x03\\xc4\\xce-\\xc0E\\xfa\\xf7/\\xf5\\xa6.\\xbb<kH\\xa2\\x87\\xddS\\xa8\\x88\\t\\x8d\\xfe\\xdf{\\x19\\xcb\\x1b\\x1a\\xb7{\\\\M<\\x9f43\\xa2\\xb8\\xbb\\xa1\\xb9>g\\xa8{\\tJ\\x1cy\\xeawx\\xe9i\\xc11\\xc0s\\xe8\\xdf\\xd7o\\xa6\\x18\\x04?\\xd8\\xb3\\x83<=\\xbc\\xe0\\x8buU\\xe6g\\xe7Kj\\x07.\\xff\\x16\\xdd\\x19\\xfa\\x12\\xed]\\\\\\x88kq\\xdb\\x89\\xb4GI\\xc8d*\\xe4\\x13\\xdc\\xacYN\\x14\\xf0\\x86\"\\xfe\\x15h\\xba~\\xd3\\xd5\\xbd\\x84\\xc5!iz\\xa2\\xb2\\x87v\\x02\\xb5\\xcf\\x14\\x1a>\\x8d\\x0f\\xb2\\xb9\\xf6*K\\xc9\\x1e\\x9a\\x04\\xee\\xe1|[\\xa1g\\xf6i`mY\\xaa-\\xf8\\xb0\\x11\\xff\\xab\\xaa*\\xbf7\\xc9\\xef\\xd6\\xf2hD\\x91D\\xdb\\xceZFy\\xcd=\\x02\\x11Mo\\x00\\xd89\\x83\\xa8\\x8aK.\\x0c\\x9a.F\\x92\\xda|$\\xa5\\x06+\\xc4\\xc3,#\\x1c\\xfcD\\x92\\xfc\\xac\\xb1x\\x9fg\\x97dUpc\\xae\\xb9\\xa24\\xfd*\\xf8\\'I\\xde\\xdf\\x1a\\x0f\\x12\\xdbO\\xd6\\xcf\\x92\\x17\\x97\\xd4\\xb6\\xe5&\\xae\\x1d}\\xd2\\xb0\\xb9Ff\\x92\\x8fs\\x17\\xbf\\xe7g\\xe6\\xefg\\'\\x98\\xd5=\\xe3\\xden\\xad\\xef\\xd4\\x820\\xf7\\xa5\\x03\\xaa\\xb5AL\\x80\\xc7\\xcc5\\x98%\\xdb+\\xe6\\x92\\x89\\x15\\x99\\xce\\xa7\\xee\\xda\\x0e\\xc9\\xb1bvo\\xfbEP\\xb4\\xbf\\xdc\\xe5y\\xdc=\\xbf\\x04\\x988\\xba\\xf9\\xe0G\\x06\\xa52\\xd6\\xa9+\\xb0\\x14\\xe4\\x86\\xe7^\\xa8\\xdd\\xd8o\\xf4\\xc9\\xb6\\x9a99W\\xd1,2\\xe5p0\\x83\\xe5a\\xc1Y1e\\xa8\\x82\\x1e\\xfd\\xbf\\x08d\\xa4\\x98Tbx\\xfb\\xfc<g\\xf06;=\\x90P$\\x96\\xf0\\x9d\\x91\\xa8\\xf3\\xc1c\\x1a\\xa4\\x05\\xc95\\x10\\xb5\\x1f@ze9\\xff2T\\xee\\xc0l\\xadvN\\x9f\\x86\\xab\\x91m\\x82i\\xd4P\\xae\\xc7\\x16\\x13#\\x94G\\xe0\\x06\\xaa\\xcd\\x0e\\xd7\\x05zy\\xb9\\xe2\\x04\\xad\\xea\\xfdY\\'\\xc3\\xc9\\xf2\\xbd\\x13Z\\x95+yz\\xa2\\xa4\\xb8I\\xa2zr\\xdd\\xc3\\xdd\\xdd\\xdd\\xc3\\xe3 \\xb8\\xf5\\x183\\xb5\\xbb\\xbb{\\x8a\\xab\\xec\\xffmO\\xcb\\xae4\\xa9Hm\\xf1\\xd0\\xb6DY\\xedzq\\xe3}l{f\\x86\\x1b\\x17\\x11{\\x99|\\xc9\\xf7^/\\x1f\\xe3p\\xf5\\x01\\x9e\\xd5_8(4`:\\x12\\xfd\\xe6%7?B\\x86\\x06\\xd1\\xc0k\\x1cUv\\xc9\\xb3\\xac\\x1et\\x0b\\x11\\n!gTCa\\xa1+\\xce\\xce\\xe0\\x03\\xe77\\x97\\xe37\\x1dU\\xbd\\xd6L]06\\x81\\x8b{\\xc1\\x89\\x03x*r\\xf1\\xff{1\\xb7\\xe9\\xee\\x15\\x82\\x87A\\x10\\xbeT\\xd7\\xe8\\x9e#h\\xc5?\\xb0\\x98\\xe5@9.13\\x9b<\\xf72\\x1fW\\xc5Z\\xc5w\\xb0\\x99\\xad\\x1d\\x7f\\xfd\\xbc\\xae\\x1c[\\x86*\\xf1\\xbb\\x05\\x80\\x84\\x91S\\x8e\\xf2&#\\x04\\x0e\\xc9\\xcd\\xbc;\\xb5\\xe6\\x91\\xe79v\\xff\\xb6\\xb2\\xe6\\x1aggMu\\xf2\\x8c]\\xea~\\xb8\\xc6\\x92g\\x13\\x91NUlb\\xd8Qt\\xf3\\xae\\x88\\x90\\xb3\\x11\\x95\\x91\\xac\\x81.\\xadAmI\\xca\\xc8\\xe3\\xf4_\\xb1\\x13P\\x917\\t\\x88/\\xdaPUE\\xb5\\xe9\\xdf\\xd3\\x81\\xbb\\xf7m\\xd7\\x18&\\xdc\\xa0\\xeaRd\\xb5\\xbb\\x19I\\x08\\x0fqi\\xb653\\x9c\\xe5\\xb6OJp\\x17@\\xa5dl\\xc9F\\x15q!\\x0bQ=\\xd7\\x98\\x19\\x868\\xd9}G\\xd0\\x07G/\\x9e`\\x11\\x1d\\x82\\x82\\x11\\xdd\\xbf\\xeeEp\\xf2\\xbe\\xb1\\xa0\\x8c\\x08r5\\xb2Xn\\xbc\\x9f\\xb1W\\x07,\\xe3\\xa9\\xff\\xdd\\xa1]Ix\\xbb-\\xfb\\xf2/C\\xc31\\xda7\\x92\\xe67\\x8c\\x90\\x8e\\xcahD\\x9f\\x19s\\xf53n\\xfc\\x93\\xc7\\xd3\\x05(\\x0fZ\\x19$\\x1a\\xe7\\x93\\xef\\xbd%k\\\\\\xc1bO\\xcb2\\x93\\x93\\xcb\\xdc\\xcb\\x99\\x16\\xf4\\xa5N\\xe9\\xf7\\xef\\x85\\x03\\xee\\x0fX\\x86\\x89\\x0b\\x16c:\\xd0\\'\\x89D\\x94\\xd8\\x95\\xfc4\\xce\\xbb\\x1a\\xda\\xa6\\x99\\xf7c\\xc6\\x86)\\x00\\x80J\\x17J+V\\xe2\\x9aPb\\' \\xe4\\xac+.\"\\xd2C]0\\x17\\xfdC\\xcc\\x04\\x86\\xe8\\x13l\\x00\\x1f\\xa18==O$\\xf4\\xbe\\xf7\\x865\\xb9\\xf9\\xfe\\xbb9\\n\\x16gKs\\xc7\\xa0\\x1e#\\xa5+7\\x01N\\xbb\\x07\\x96W\\xa0\\xc2B\\\\\\xaf)(\\xb9\\x0b#\\x90\\xf7\\xde\\xec\\x01\\x00\\xb5\\x7fL\\xc1\\x1fh\\xba%,\\xfa\\x8a(\\xd7\\xbd\\x08\\x81\\x87\\xcb\\xe4\\xa0\"$\\xf4\\xa57\\xac\\xdeM\\xe2_\\x7fQ\\n\\x89\\x97?w\\xf8\\xe6M\\xc2m6\\xf1\\xd8\\tT\\x7f\\xf5\\xec~\\xcfk\\xa3\\xa6\\x9f<\\xe4\\xfc\\x9e\\xe51\\xf0\\xf3\\x99e\\xc2\\x98\\x1f\\xdf\\xf45\\xb3\\x07c\\xc2e\\xcfi\\x9f*\\xf2^\\xd3Y\\xcc\\xd1\\xa3z${\\xe4\\xf3o\\xc7\\xf5z ~@\\x82\\xb0!\\xf3\\'B#\\xc2}\\x01il\\xbf r+>=\\xf86\\xb8\\xf2\\x1a\\xf4\\x91\\x1a\\x008\\xdf\\xfb-\\n\\xd5\\x12\\xa2t>DG\\xdb`9\\xb8d?!\\x12\\xf6N\\xbe\\x1f\\x87\\xda\\x9dm\\xef\\xecG \\x13[\\xc4\\x08\\xaaG\\xf4\\xfferQ\\x88R\\xde\\xd0\\xf4\\x074\\x0cbtd\\x01Y(\\x95\\xac\\x86>\\x13h\\x18\\xcc*\\xc0\\x95I\\xc1-\\xfdp1\\x147;\\xd1S\\xe2\\xb31\\xd5\\xdd4,\\xf6ek\\xe9(\\xf4_\\xaf\\\\A\\xfa\\xe8\\xbco\\xb04\\x8a\\x12\\x1a\\xa1Tr\\x86\\xe9D\\xa4t%\\x86W\\xa4\\xc7>>\\x0f\\xda\\xeb\\x108\\x9e\\x12\\x89\\x05\\xb8\\xbc\\xb7B\\xdf\\xe1\\xad\\xa2\\x05A\\x81\\xdf\\x83\\xe5\\xd3@\\xc0Dez\\xfeU2\\x13\\xa6w\\xa0\\xediKpS\\xecj\\xc2\\x9a\\xc9`g\\xcb\\xd8\\x02\\x04\\xa5\\x803*\\xbe5\\xcb\\xde\\x0e\\x00T\\xaa\\xfbW\\xab\\xdc5\\xa8E\\xa9\\x9d\\xaf7\\xda\\xcd\\x0f\\x0e\\xda\\xc0\\xccu\\x9e\\x950\\x8a\\x8d\\x11\\xa4\\xb3\\xbbp\\xc1\\x99\\x8b>\\x91d\\x00X\\xf4\\x93\\x86B\\xafg\\xf5\\x08.[\\xf6\\xe8j\\xf1\\xd6\\xc8\\xbb\\xc0`\\x9a\\t\\x11d%\\xa5\\xa6\\x06\\x92\\xd2k\\xccgc\\x86\\x85\\xe2\\x97#\\x81N\\x10g\\xc1>\\x99\\xaa\\xe5\\xe3\\xba\\x9e\\xb6[4\\x19h\\x12$\\xb4\\xd3\\x14\\xf3\\x9f\\xf1\\xb8V\\xc6\\x1e(u\\x90e\\x99\\xce\\x9e\\'\\x85\\xc8\\x84\\xab\\xe5\\x12r\\xde\\xe8+di\\xf0\\xb0\\xaa\\xf6[\\xd7\\x89\\x1fMz:\\xf0\\xec#ZV\\x826\\xe7\\xd7U\\x00\\xe9\\x03h8&\\x99;u\\xf7\\xd8}\\xa9\\xabn\\xac\\x03\\xf7\\xb5X|\\x95\\x19\\x9c\\x02\\xdfM\\x0f\\xaa\\x15\\xfd\\xdf\\x1e%\\x83\\xf4x\\xff\\xf0\\xee\\xa6\\xdbd\\xc9(\\x1d%(\\xcd\\xa7\\x0c\\x95g\\xfd\\xde\\x8fpBw\\xf7\\x89\\xffA\\xc0\\xb6\\xe0\\x17\\xe2\\xf5!\\x8d\\xdb\\xc2\\x12dW3\\xa09\\xcesH#DI\\x85$`\\x944\\xc6\\x9b\\xea\\xc3\\xe3[\\xae\\xbd\\nG\\xff\\xcb\\xe6\\xba\\xae3\\xc12\\x0c\\x86\\xa4\\x89\\x80\\x8b\\xbfk\\xc6sb\\xdf<?.\\x1b\\x80{9\\x97\\x04\\xaeN\\xe9\\xb3\\xc3\\xf4)\\x13\\x8bJ\\x045\\xb5]\\xb3t)F\\xc4\\xda\\x99K\\x9eK\\x0bM\\x17\\x0c\\x07\\xed\\\\Q\\xd1\\xb98\\xc5L|\\xcaE\\xadh\\xc7x{?_?\\xe9\\x0c\\xcf\\xf3j\\xdc\\xbc\\xee\\x88\\x16\\x97\\xf7\\xaan7r\\xba\\xf3\\xbf\\rO\\xdf\\x17\\xfb\\x87<^\\xa1;\\x873\\x9c3L\\xf3\\x17\\xabs\\x9bVB\\x94M}\\xc2\\xe5E\\x8f\\xef\\x99#\\xb9\\xfc>.xVD\"\\xd0I\\xef\\x9fJ\\xfb\\x94Z\\xde\\xf8\\x93y\\x1f\\x7f\\xe2\\x04cw\\xca\\xc3\\xcf\\x85\\xec\\xb19\\xa0\\x07\\x8b\\x14V|p\\xc9\\xa0\\x0ew5\\x8b^\\xb3\\x8aW\\xb3\\xfc7\\xc8\\xac\\xf6\\x10\\xcc\\x97<\\x1f\\xb4^9\\x7f\\x8c\\xbf\\xd8\\xef\"\\xce\\x97\\'\\xb8\\xff,\\xff\\xcaP@\\r\\x949;;\\x02\\xd4\\x984q\\x01\\xee\"\\x9dK\\xb0\\xba\\x94\\x0e\\xeb\\xf5X\\n\\x10s\\x13D\\xd8\\xc0\\xaez\\x7f\\xca|x\\x86\\xd7s\\x9ft\\xa6\\x8a\\xedW\\xf1~\\xd2\\xfb\\x80\\xe1\\xa4k\\xf3\\xb6\\xc5\\xdf\\r>\\xd6\\xf1\\xdeb\\xe9\\\\\"6\\xdf\\x86\\xa6+\\x95\\x99\\x8cp\\x10\\xc2\\x833Uw\\xf2s\\xe8N1\\xffY\\xf7\\x07$\\xad6\\xdf\\x8cj\\xb0\\xd9\\x7fB\\xba\\x10\\n\\x88\\xe9e\\x1dy{\\xed\\xb5\\xefO\\x98\\x05\\xef\\xc5**\\xd2\\x00\\t\\x11\\x88\\xccS\\x97^\\xc4\\xca\\xd4\\x89N\\xe3\\x14\\xbf\\xe7\\xbeBB\\x91\\x80\\xef\\x95\\x02\\xda{c\\xf3\\x9c\\xf4\\xf5\\xf5\\xfd*\\xff\\x99\\xc7\\xf5\\xf6\\xc6MV\\xcd\\x06\\xf7\\xc3+\\xdbk\\xbb\\xddTN3\\xff\\xa5\\xc4\\x98z\\xcf\\x14FFr&\\xf7Y\\x9a\\x88#\\xd1\\x84\\xbc\\xad\\x9fSnU\\xe1Ne\\xf2\\x9a\\x95\\xd8\\x93P\\xd8\\xc3TS\\x08=g\\x13\\xa0\\xfa\\xe1Z\\x86\\xfam\\xe9\\xa8\\xdfuF\\xbd0\\xc5\\x15%\\xe4\\xfb>\\x03\\x89\\x8c\\xef\\x0bi79T\\xa0\\xc9\\x86\\x99\\xc8(\\xdf\\xedv(y\\xfek\\xdd\\xcb\\x93=\\xfa\\xba\\xb2T\\t\\x8b\\x07$\\xeft\\x874??3CZ\\x9blo\\xf3\\xdbJ\\xda\\xb6\\xc8\\t\\xf9P\\xf7\\xb0W\\xf8\\xdf\\xf6\\x03%\\x1a\\xb7\\xb4\\xeaz\\xb1@\\xc6\\xef\\xa2\\x93\\xe4\\x95\\x8ac\\xc5W[\\x98G\\x0f%\\xff\\x9cP\\xf8l\\xcdo(:\\x93\\x9d\\xbdQ\\x93\\x13J\\xed\\xe8\\xac\\x01\\xc4\\xdau\\x94!\\n\\xa8\\x1c\\x01Z;\\x01Z\\xda\\x8e\\x14\\x00\\x00E\\xc6#s}\\xfef\"N\\x90<\\xe6\\xad\\xe1&\\xce\\x924\\x80\\xce\\x1fU\\xc2\\xd9\\x1c\\xee\\xd5\\xd5\\xe3Ci)\\xf1C\\xa3\\xcbZ\\xee\\xf6\\xa3F))!\\xd4\\r5\\n+\\x0b\\x8a3\\x9c/\\xab\\xf6\\xce\\x12\\x06sd\\x8cS\\xfaI\\x07\\x0b\\x8b.d\\x8b\\xa7\\x9e*-G\\xa7Y\\xe4\\x9aT\\xe8\\x89\\xef\\xedU\\x98\\x0f\\xdb\\xc6\\xb6\\x1fl6\\xc0O\\x8b\\x8be\\xcfFK\\x8d\\xf3\\xe7f)d\\xcd\\xd6\\x0f\\x82]\\xb0y\\x957\\x96\\x9c\\xe5\\x89\\xb1\\x03\\xf4PG\\xbb\\xe7\\x05\\xfd+\\xe2\\x11o\\x9e\\xed}\\xeaL\\x07\\xb1u0?\\xde\\xcb\\xe7\\xca\\xbd\\xff\\xb2\\x16\\n\\x85\\x99_\\xb3D6G!\\xc7_\\xb7J\\xc5u\\xed\\x8da>rHN\\xd2\\x92\\xb54\\xa7Y\\xec\\xe9\\xdc\\xc3r\\x1e\\xcb\\x03\\xfb\\xfa\\x9b\\x16\\x87\\x9e\\xb3\\xaa{Ny\\xef\\xfe{w\\xd9\\xfc?\\xa6\\x93\\xcf\\xb6\\xce\\xd1\\xe1\\xd5\\xe0\\xbe\\xd80[\\xdc\\xb79\\xad\\x93)2\\xf9`\\xaf\\xda\\xcf\\xfe(I6\\xb42v&\\x0c\\x07\\xfa\\xabf\\xa5\\xf6\\x8cF\\x17/Y5\\x88\\x06l%11\\xa6\\xa6\\xeaE7\\xf2b\\x1f\\xcf\\x8b\\xd7yO\\xf3\\n\\xda\\xbfo\\xac-\\xc5\\x9a!/\\xb6\\x1a\\xdask\\xdf~\\xe8(D\\t\\x95\\xc5\\xda\\x15P7\\xad\\xc0\\x8dnJ^\\xd2\\x92\\x86jQ\\xdd\\x13\\xd6\\xfb\\x8b\\xc8D \\xf9\\xbc{R\\xfa\\x04\\xc1Q\\xdeyD\\xea\\xae\\xb9C\\x1cfUV\\xaf6\\x1e_\\xe1\\xb8M\\xff%M\\xe6\\xbb\\xa8\\xc5a\\xe7\\xdc\\xf9\\xdc\\xdc\\xf9\\xb0\\xa0\\xd2uO\\x8f\\xa2\\xa5\\xb3\\xa5.\\x95^\\xbd\\xd6\\xa1\\xc5\\x9d\\xb1\\xad\\xe3\\x0c\\xdb\\xa6\\x9dwR\\x1e-/\\xaa\\x95\\x9b\\xd7O\\xc6\\x95\\xcd\\xce\\x1b\\x1d\\x0c\\x17z\\x93\\x14\\xabfVC\\x9b\\x02^\\xbc8\\xe8\\xd9\\x0c\\x98o?\\x9b\\xa3QP;Z8<\\xe0\\xd9\\x0c\\x95\\xf4\\xb8\\x8ar\\xcf\\xac\\xde\\xb6\\x80\\x99\\xb0}$\\xea\\rX\\xdev\\xfaQ\\x84\\xca\\xe2\\\\\\xeb7\\xd0\\x89%\\xc7\\xa1\\x96\\xc3q7\\xfe\\'\\x8d\\xdeK=\\xfe\\xf0@\\xff\\x90\\x19\\x0b\\x98,\\xf2U\\xbd\\xae\\x8c\\xa8\\xa3\\xdd\\xb6\\x18\\n\\xa1\\xaf\\x7f\\xc2\\x93\\xa4K\\x0b\\x14\\r?\\xf6\\x8eqj_;\\x08f\\xb7\\x90\\x94z\\xcc\\xfaI\\xdb\\xeb\\xa7z\\xc0j#\\xde&\\xcc)\\xf0|C\\xa2gh\\xd1\\xbc\\x84M\\xb7\\x96\\xe1V\\xc1\\xf2.\\xa9\\xe1\\xf3Yw\\xeain\\xb0|n0{\\xbe\\xcb\\xdb\\xec^\\x9a^\\xbd\\xda\\x12j,\\xdef6|\\xdbj\\xfeb\\x81\\xe9|\\xbfQ\\xaae\\xe7\\xb4\\xdcV\\xf9l 1Z\\xaa\\xed\\x81\\x8d\\xea\\xdb\\xdc\\xe9?2\\xa5\\x07\\x0f?\\xe6\\xb3N\\xcc/-EB\\ns\\x87\\xf0q\\xbd4\\xea\\xa7\\xabu\\xeap\\xc2\\xc0\\xba\\xfa\\xaf\\xe6\\xf0\\xda<\\x8c\\xfd\\xcc\\xc4\\xdbgV\\n\\xb3\\xa1\\xf9Y\\x94T\\x1f\\x98\\xf9\\xc77\\x10b?\\x1b\\xfb!GA\\xb5\\xd5\\xb5\\xd6\\xfb\\xe2\\xf8\\x1a}\\x94\\x00\\xd9\\xac\\xa7\\x95\\x1c\\xd02\\x8ae\\xc6\\x80~P\\xd1\\xf2I\\x8b(\\xb9B\\xe4/Q\\x03 YfM@\\x18\\xdd\\x120G\\xb6Y\\xb8W.qs4\\xb2&\\x9bL$\\x0e\\xc9\\xf6\\x9d\\xd3A)\\xc6\\x00\\xffq\\x89%\\xf4M\\x06\\xc2\\xcb\\x0e\\x1b\\xf5\\x16\\x9f\\xe5\\xd4v\\xf8Y\\x88\\xd7q\\xeb\\x94\\xbf\\xafe\\xa2G\\x0c\\xfd\\x83H\\xcb\\xd3\\xb2g\\xf6|\\n%M\\xe0Z\\xdc\\x82+|\\x8f5 \\x0c\\x12\\xb6\\x94\\xfb\\xd2-3\\x7fz\\xed\\xac\\xae\\xca\\xa3=\\xb4\\xf1\\xd7\\xdc\\xceY\\x02!I\\x06{\\xdct\\xe5\\xa0\\x96\\\\#\\xbd\\x04i\\xaf\\xef\\xeesI.\\xbd\\n^\\xb6ag4^\\xe1\\xeb3]\\xb7\\xe2\\x02\\xd4Z\\xbcC_\\x94\\xa1\\x1a\\t\\x1f}^\\xa5i\\xf4\\xfc\\x10\\x15\\x17\\x15*B\\x01\\xcfAT\\x02Ofyf\\xd5\\xde\\xab\\xe8\\xf9\\x877\\xf9m\\x19x\\x85\\xbc^V\\x13:T(\\xffY\\x0fLcp~3\\xfa\\xae\\xc3\\xe9\\xbc\\xc1\\x9a\\x00\\xa2?\\xcd\\x88\\xeb?]\\x19\\x10LZ@x\\xbb\\xd6\\xa6\\xaa\\x025\\x80\\xcf\\xa3\\xa5|Lu\\xbb\\xd6\\x9d0\\xb6z_\\xaa\\xfd\\xe84QJ\\xc78d\\xc9\\x1b\\'S\\xfa\\xd3\\x82)\\x99\\xaf=l\\xf3\\x06\\xfc\\xc8%\\xc4\\xab\\xe5\\x0eh\\x03\\xcfE+\\xc7\\x1c\\x06\\xf82\\nD\\xeb\\x8f6qA\\x95\\xf3\\x99^\\x97\\x1c\\x98${&\\xe1\\xf4,\\xb6\\x7f+\\xa9~\\t\\x08\\x97Q\\xadk\\x0e9?\\xedi\\x1c=KtI\\x1cm^Fn\\xba;,\\x04\\x7f,\\x9f\\xb0\\xcf\\xc8\\xe7&\\xd3\\xe6\\x95\\x98 \\xbe\\x12\\xbf0\\x88r\\xe0E\\x97\\x1b\\xfc\\x1c\\x17\\xa7\\x1e\\xec\\xb6\\xbdV\\x17m\\xd5\\xd0\\x1b\\xd7kKwg\\xbe\\xfel\\x02\\xf8yS\\xf1\\xb2\\xb6\\xd9\\x7f\\x00DX\\xdb\\xcc\\xf9\\xd1] \\x99X\\xda\\xe7\\x97#Wl\\xf9\\xc5R\\x980;\\xf7\\xc9c\\x0b\\x0f\\xfa\\x80Bm\\x9a6\\xbf]\\x1av\\x0c\\xe5\\xd5\\x89\\x89\\xe8\\x94\\xd1\\x96\\x15\\x96\\xd6\\x91}@u\\x9f\\xe2\\x8b\\xb6\\x19\\x15\\xfe[_(\\xd2\\xc5\\x12Gg\\xa2S\"6\\xc3\\x93]\\x8a\\xc9\\xbbC\\xf8\\xdd\\xbd\\xb8%y\\r\\x99%h\\x1f\\xfb$brX\\xa2\\xa5!`\\xe9\\x80_a{vN\\xf1}nK/W\\xb0\\xa3\\x86\\x93\\xb6\\x8b\\xa3d\\xf9p\\xdd0\\x8e\\xa4\\xc7#\\xd9\\xdby\\xd89\\xfc\\xf4\\xba;\\xab\\xac7/z\\xf6dq<z\\x03\\x07\\x81\\xcfd\\x04MT\\xa1r\\x87\\xe6\\xa6f\\xcf\\xafr\\x04\\xb4\\x1d>\\xbfh\\xbc\\xba\\xfc\\xc9C\\xbd\\xec:Q}\\xf2-\\xd5\\x93\\x84\\xca\\x8a]\\x9f8\\x88\\x87,r\\x88)Eo\\xd23|\\xa7R\\xbdu\\x17g\\xd50\\x1f\\x04\\xf7\\xdd\\xac7\\xc2}\\x1cD\\xb5\\xf4\\xe5\\xc6\\xb5\\xa6!\\xbe\\xb2PD\\xf0\\n\\xa71sk\\x99\\xc9Q\\x15H>4\\xbc\\xd0O(\\xd0_x\\xf4\\xd2]6\\xa1\\xb5B\\xb5\\xb9\\x8e\\xf4\\xbd\\xfb\\xbc1\\xd7\\xfd\\x91\\xe6\"\\xbb\\xa3L\\xee\\xf5\\xeb\\xbf\\xb9\\xf8\\xf8&k-i\\x87t=P\\xdc\"\\t\\xfa\\x067%\\xa9\\xa0c\\x1fb\\xdf\\x1d\\x17\\x89\\x0f\\xfe[eMC\\x8e\\xf3\\xcc\\x90k9\\xc2a{\\xfc\\x1d\\x83\\xf9T#\\x11f\\x12\\xe5\\xc2\\xbe\\xee\\x04\\x9bX\\xfb\\x9b\\xcb\\xc3\\x7fz\\x9e\\x7f\\xfd\\xb4\\xdf\\xaa;N\\xaf\\xcb\\x04\\xed\\xd2\\xe9\\xaf\\x14\\x03r\\x088\\x05\\xf7\\x0c\\xbb\\xfa\\x06\\x86\\xf2:\\xa8\\xfalI\\xc8\\xce\\xb7\\x85\\xf1\\x00F\\xf9*V\\xef\\x97]!\\xd3\\xf9)#\\xfer\\xda\\x08\\xaa5\\xda\\xf2\\x1c\\xf9\\x90\\xe3\\xc6\\xcd\\\\\\xa9\\xf6\\xd0U\\xf5\\xd3\\xf2l\\xdb\\xd0\\xea\\xdfS\\x0b\\xa1\\xb9[\\'\\xd0GV\\x0bX*\\xef9t\\xaan\\xafE\\x95\\xed\\xd9\\x16q\\xfe\\x848\\xdf\\xb2;1\\x03\\xf9\\xbc\\xe9\\x8a{<E}\\xfd[\\xcdw4\\x96\\xd6\\xec0\\xea\\x8b%]\\x92\\x81nLJZ\\x7f\\xe6\\x1ag\\xc4\\x03Zz\\x8d\\x0e\\xa8\\x8e\\x19l_\\x82\\xc8\\xfc\\xa4\\xdc\\x1f\\xe2\\x95\\xba6\\xac\\x7f)0\\xcf\\xady\\x13\\xf3\\xae[\\xb7j\\xbeTH\\x96&\\xc7EOOOY\\xcd\\xff\\x96p\\x8c\\x91&\\x1d\\x88\\x99\\xb6VbpO\\xf5V\\xa2\\xc4`_\\xb5\\x8f\\xe4\\xa0\\x0c\\x9e\\xb7\\xf5hdY*t\\xb5\\x91\\xc3v \\xcc|\\xd2\\xa3\\x18lz8w\\x9f\\xc7\\x99\\xb4\\xc4\\x04?\\xc5\\x8c+\\xccc<yU\\xe3\\xc6\\xaf=\\xbe3=?\\x03\\x1e\\xf8\\xc5[\\xef\\xe1\\xc6\\xf2\\xfa\\xf5@K\\xe9\\xd9z\\xc0\\xe78\\xd0\\x9b\\xad}r\\xae\\xe3\\xbb\\x1eY\\xa6=\\x8d\\xa4\\x00\\x0bD\\x0b}-\\x18\\xbe\\xe4J\\xef\\x1d\\x1cHZX\\x99\\xae\\\\ZW\\x90<\\xa7\\x99W<\\xa8\\x9b\\x94\\x97\\xb2\\xedS8I%\\xe5\\xef\\xd2\\x91M\\x9b:\\x1c}\\xc8\\xe8y\\xb1\\xb0\\xc9\\x7f\\x86\\x85\\xeft\\x12m\\xd4\\xdb^\\x86\\xbd\\xf40N-\\xc5\\xd3X\\xbd:\\xba\\xce~\\xe7\\xc5+\\xd0\\x04\\xcb\\x1f\\t\\x8d\\xd9u\\x06i?qa}\\x99\\xc6\\x94\\xa4\\xbbt\\xc9it\\xef\\xd2\\xcc\\x86\\xa8\\xa0h_ia\\xed}\\xda\\xb4\\\\\\x99\\xa1\\xa2d\"S\\xeaw\\xdfXoay\\x9e\\xfaWsN\\xad/\\x85\\x89\\x9f\\xd1\\xd6\\xab\\x89\\x81 \\x07\\xa8\\x0cmI\\x96\\xef:-\\xf2\\xe4\\xcc\\xc6\\xeb\\'?=u_\\x05jc\\xd6N\\x9a\\x93\\x9ez\\xd9\\xad*wn\\xea#ZO\\xfa\\x05\\xba\\x83\\xf2\\x1a\\x9e\\xd0\\xe5\\x16B\\xf2\\xb2\\x9d\\rY\\xd2\\xf3WT\\xeb>\\x168\\xb2\\x991\\xc7\\xa9\\xffl\\x12\\x17\\x07R\\xaa=f\\x16r\\x08:))\\xa4Z\\x86\\x17\\x12\\xb4\\x92X\\xc5Xs{V\\xed\\xad\\xd3/\\xd4/;\\xf2\\xa8\\x04\\x05\\xea\\xa9\\x99oG\\xc8\\xd3.\\xb5.\\x05\\\\\\x1c\\x1dd7x\\xe6\\x93\\xfa\\x8dmO\\xdd\\xe6\\x15\\t\\xd3\\x1c$\\x97\\x80\\x9bV\\xb6E\\xfc\\xaf\\x0e\\x1a\\x08\\x84\\x18\\xc8\\xe6\\xdf\\x93\\xcd\\xfc\\xf3\\x99y\\xd2\\x19|Oj.\\x88\\x10\\xe7\\r\\x99\\xc1\\x84\\xa8\\x04y9\\x942-)_\\xc5\\x99q\\xfe\\x88\\xf6\\xb1\\xe3\\xd2\\xa0\\xf2l\\xd5\\x83^F\\x88\\x0bU\\'\\x17Q\\xa4\\x833\\xb3\\x84\\t\\x06\\x1d\\x03\\xb4\\x1a\\x11\\x1a\\x1a\\x92\\x8f\\xc7\\x10\\x00\\x0c\\xf7i/s0\\xb7I\\xa9\"Uo\\xda\\xfd\\xae\\xech\\t7#*|j\\x9d\\x18\\xf6\\xbe\\xba\\xf4\\x8bB\\x89NHq\\x19\\xa5\\x86\\xcc\\x9e\\x8e\\t\\xd9\\x9c%\\'382\\n~Coo\\xfc;\\xd290\\xc2\\x7f\\x02\\x955\\xa3\\x8b\\xca\\xf6T\\xab\\\\\\x0e\\x8e\\x02\\xf7\\xceC\\xb6\\xad\\x8f\\x13\\xf91\\xf0\\xe0\\x03\\xa7\\xf5\\xdc5&\\x82\\xe5\\xfaco\\x9d\\xaa\\xf1g\\x9a\\xfaP\\x8a\\xca4\\xda\\x940\\\\(n/\\x9c\\x1df\\x7f\\xc7\\xa2\\xf6k\\xbf`\\x8f>\\x94\\xc7N\\xa2\\x83V\\x0b(\\x01\\xd3\\xfe\\x10K\\x0b\\xee\\xb273f\\xd4\\xa3\\xe1\\xbf\\xbem\\xdb\\x18F8\\x19\\xbfe{~P\\xd5\\xbe\\x93l;u\\xf2\\xfdj\\xf87\\xf9n\\xa6ne\\xea\\xf3F\\xcd\\xac\\x17\\xfbs\\xe3^\\x17\\xf9\\xe7R4^\\xad\\x01/\\x96\\x9dy\\x9eS\\x0e\\xfcR\\xc1s>\\x14\\xa5S\\xfaT\\xce:l\\xff\\xbaMr?r\\xfb}\\xcf\\xd6\\xb6E\\xab\\x92$\\xf0V\\xb1\\x99\\x82\\xf2u\\xa4\\x004\\x16\\xa9\\xcb\\xfb\\xbe\\xeb\\xbe\\x0b6t\\xb7{6#\\xaf\\xf6i\\xa3:\\xcf6\\x1f\\xffI\\xad\\x15\\xa9\\xe1\\xf0\\xf0\\xf3\\x93\\xf2m\\xdee\\xcafK\\xaf\\xda\\x15vK\\xff\\xf3\\xd3 \\x0b\\xf6\\xceQ0\\xd5&\\xbe\\x8bP\\x1a\\x877Z\\x8e\\xb6\\xf1\\xc2\\xa7\\x0feU\\x8c\\xcb>\\xf1\\xb0\\xa7 \\x8d\\xeeL\\x90\\x96\\x1a\\xaa\\xdavI\\xf3[:\\x1512\\xda\\xd7F\\xc5\\xc0\\xba\\x0fr\\xf7\\x9f\\xc8\\xe6\\xbb`\\x88\\x03\\xa8\\xbc!\\xb2\\x9b\\xf1\\xd7onn\\x1e\\xdew\\xf5U\\xcd\\xc3>~\\x17\\xe4\\x9e\\xcd9\\x10\\xee\\xe5\\xe6b\\xe5\\xc5+\\x89u;\\xd0\\x1c\\x85\\xb4\\xda`\\xd1=K\\xd5(O\\x0f\\x0f\\x8f|\\xf5\\xdcm\\xfa\\x86\\x0b&x\\xc0Q\\xb9\\xedjk\\xa0\\xb7\\xb5r\\xb8\\xc0QC\\xf8z\\xc3u\"X\\x95\\x01a\\x18\\x82\\xef\\xdd\\x0e#\\xb6\\x9f_\\xf0\\x9d\\xce\\x11{\\x14\\x88\\xda3\\xdc\\x9c\\x14\\xcc\\xac\\x94\\x11\\x92_\\xcb\\xbed\\xd3\\xdb\\xff\\x81@A\\x8f\\xf8\\x0f\\xf3\\xca7\\xac_~\\xf3\\xceE\\x88P\\xf8.\\xd1\\xd1\\xc6\\xdaQi\\xfd*\\xba\\xfc\\x15QB\\x9b\\xde\\x88\\x92\\xd8\\x1e{\\xabY\\x05\\xf7$\\xee\\xf7\\xd8i<\\xe7\\xfeOj\\xafsBw\\xae<\\xb4}@\\xfedJ\\xb7\\xbd\\xbd\\xb9\\xce\\xefp\\xac\\x07\\xe3o\\t\\x93ab\\'\\xcd\\xd6\\xa8kT\\x05\\xe8\\x92\\xd4\\xc3\\xf1\\xad\\xdb\\x17;k\\xa9s\\xb1\\x96oo*_6z\\xb8\\x8b\\xb2\\xb3\\x03:\\xdf&(\\xe2\\xd0.\\xe2\\x0f\\xb1x\\xd7\\x85\\xd6\\x1b81\\x13\\x83H\\xe9,]vG{|\\x8d\\xf9h\\xbc\\x04\\x91\\xbd\\xd4\\xc7\\xe0j\\xc2P\\xc5\\xe7u\\xc7r\\x13\\x89$<M\\xc0\\x16\\x84\\xa4\\x17\\xee\\xd6E\\x0ci\\xc9\\xb3jaZo\\x9e\\xc6Rp\\xff\\xe9l\\xb6\\xb8\\x98\\xbc \\xc1\\x8f{\\xb6\\xcf\\x16_e\\x8fr.\\tM&:_\\xfb\\x0f\\xf5L\\xf7\\xb3\\xa9\\x93\\x11\\xa1\\xc1 \\x85\\x939^-\\xf7\\xb23\\x95\\x86\\xdd\\xe5\\x1f\\x18FVJJ1{\\xd7%\\xf7\\x0b\\xd7\\x91\\x89^\\xc2\\xea\\xa7\\xe3nY\\xac\\xf5\\xef\\xdf\\xb3\\xdc\\xcb\\xd2+\\x07\\xc1\\x92^\\xc1\\xd1\\xe1&r\\xc5w\\xb7Z\\xca\\xc5W,\\xc2}\\x1ex2\\x92\\x9cp\\xd40\\xaf\\x90\\xd1w\\x1f\\x05\\xddY\\x88\\xd6&W\\xe4\\x1a\\x98<\\xcf\\x16J-\\xda\\x89\\xd1g\\rs\\x89\\nLR\\x87\\r\\x0f\\x18\\x18\\xcc\\x92%\\x188\\xa3\\x04\\xf7\\xec\\xfb/\\t\\xc9\\xd4\\x12\\xd5\\xc6\\x0cG!\\xaf\\x1c\\xf0OL\\xd8\\xc4\\xaa\\xe5\\x9e\\xfd\\x97\\xd0\\x17\\xaa\\xb6\\xdd,\\xf1\\xcc\\xf7\\xe3\\xd8\\xf4C~Y:\\xfa\\x0f7\\x1c\\x92\\x08\\xc7\\xbc\\xcc\\xb5\\xa2*\\xa1K\\xa5!\\x93\\x9e|\\xbf\\x9b\\x08\\x1f/\\x96\\xd4\\x7f\\x9d\\x0f\\xdcok\\x97\\x94\\x99}%\\x17yQ\\xf3Sl\\x89\\'\\xa4\\xeab\\x10N\\xea\\x9a\\'\\xe1v\\xc7\\xb3U\\x04\\x8d\\xc38\\xa8\\xd2\\x9d\\xd7\\x7f\\x98\\t(\\xff\\xa7-\"l\\xb8\\xce\\x8c\\xe8\\x03\\x0b\\x83ch\\xdanS\\xfe\\x896\\x13V\\x99\\x13z\\xf1\\xb2p\\xf4\\xe1e@\\xf6AA=\\xc3\\xc1\\xa2b\\x8f>\\xb5\\xd2\\x17\\xa6\\x93S\\xa9\\xd61\\x88!}\\xe1\\x1a\\xd1? \\x80o\\xd8]>\\xdb@\\xb4\\xb5\\xb2\\xf2\\xb9\\xa2\\x18\\xe9\\xce\\x1e\\xe6]\\xd0\\xa2\\x0c(\\x11\\x9cw\\xcb\\xdfNu\\xf6b\\xa7\\xcbM=\\x94\\xd4\\xa5\\x00W\\r\\xba\\xa0N]O.\\xb2\\x07?| g&}I6\\xbay\\xd6\\x8e\\xf2\\xc5\\x8fW\\xd8\\x0f\\x0c\\x86\\xa3\\xe9NH\\xa5T\\xb4\\x88\\xa0\\xbe\\xbbC\\x99C\\x99\\x8b\\xcf\\xd6\\xbbA[K\\xb9\\xef\\xf1\\r\\xa8\\xdc\\xb0\\x14p\\x0f\\'r\\n[\\xdd\\x1a\\x14\\xb8\\xde\\xec\\xd5\\x84:\\x8d\\xba0V\\xb0\\r\\xf2\\xb4\\x16\\xb3!\\x87\\x16\\xb8\\xa5\\x81\\xe7|\\xd0Y\\xc3\\xc5\\xa6\\xed)f{`\\xb38\\xef5BL\\x0c\\x00(/qFDreF(\\xadPG\\xb8?\\xad\\x8bx\\xbdPL\\xed\\xba\\x8d\\xff\\xa2\\xdd\\x01\\xb9\\\\\\xa6A\\xdb\\x1f.\\x1b\\xf1\\xc9\\x0cS\\x1d\\x80\\x8c\\r\\xbe\\xbe\\x9eM\"Qn\\x9e\\xef~\\xbc\\xaa\\xa2\\xa1\\xb8A4\\xcaUj\\r;as9_9:\\xda9*S\\xe0%_\\x9d\\x13\\x17\\xf0\\x17\\xc3a\\xf9\\x19\\xe5\\x87xA\\xc2,\\xc6M\\xce]tZY\\xc0\\xf7\\x0f\\xff\\xe2r\\x8b\\x86oK\\xc6\\xaa\\xf5Z^-\\x9a0\\xd4\\x05\\x84\\xc4\\xfd)((\\xa2\\x1e\\'\\xa5\\x81\\x08\\xaa^\\xeb%\\xcf\\xb8\\x99\\x17\\xd1\\xc2Jt\\xef\\x9f\\x9b\\x15M\\xff(\\xb0\\xbbB\\x1d\\xa3qW\\xf7:\\x1b=\\x05\\x9b\\x01G\\xf7\\x8b\\x8c\\'NZ\\x19\\xc7\\xe2Q@l\\xf4\\xf1\\\\~K$\\x12\\xbe\\x0c\\'\\x064\\xb4\\x05N\\xbd[\\xef\\x06\\xf1MP\\x9d\\xdf\\x7fZ\\x0f\\xdf\\x1f\\x85_\\xe4\\xc2/R\\xcf\\xb3wU\\xf8\\x0f;\\x824\\xd7\\xfd\\xdf\\x01\\x80\\x18\\xe5\\r\\x1f7\\x03\\xe8\\x17\\x01\\x8f{*\\xa6\\r\\x92;OYk\\x99\\xea;\\xbeJ\\x7fO\\xd2\\xb8\\xf2U\\xba\\xdd\\x8ej\\xe5\\x9e\\xbf\\x12\\t\\x19\\xeb\\xcc\\x92\\xf5E*@w4!?dq\\x8f\\xd0\\xbe3\\xdd]i\\xaa#\\xe7\\xfa@\\xa1\\xa1\\xe1D%\\xdb\\xde\\xdc\\xd12\\xd6\\xdd\\xe4\\xa5\\xce\\xe4\\xe3\\xcc\\x89!\\xd7\\xd0e\\xe2\\\\\\x93\\x0fa\"\\x99X\\x05\\t`\\x0c\\xe9\\x8c\\x95\\xac\\x12z\\xc8\\xa3\\x9f4\\xa6q\\x9b\\xcew\\xe1\\x8f\\xefCy\\xa3\\xa2\\x1f\\xf2lj\\x83a\\x13\\xb8\\xa0\\x99z\\x16!\\x979Y\\x05\\n>\\xef-Y\\x13\\xc3\\x90\\x917\\xfd\\x86\\'\\x14\\x83\\xdc~{\\xf9o\\xf9\\xb7r\\xee\\xdf\\xcb\\xc2(qb\\x95|\\xa8d\\xce\\x17\\x0e\\xdf\\x1d\\xce<q\\xb4\\xdd\\xb8(\\xed\\xc2c+}\\x1e\\xd3\\xad{-\\xba\\xe8\\xc9\\xe6\\xcd\\x85\\x12n\\xc0O\\xe7O\\x03z\\xd5[\\xb3\\x86\\x8a\\xb5}:\\xa0\\xc0\\x95\\xe7(;z\\xbb\\x18z\\x83\\x84>\\xa8~G\\x0c\"\\xbe\\xd6\\xf9\\x1a,^]\\xf7\\xfb\\x1f\\x9b)\\x0b(`\\x07P\\xd9Q\\x19\\x99\\xd3w\\x08f\\x15\\xe9\\x08\\x0b1\\xa9E\\xf4\\xf4\\x08\\xc4\\x147\\xa8)\\xe6\\xac\\xaae\\xbc[X8}\\xd60%\\x15|\\xd99\\xdc\\x1c\\xdb\\x1aa\\x1a\\xf9\\x8c\\x95<\\xa4\\xae/_l\\xe2\\xe6\\x0e\\xb2\\x0fs\\x89\\xb8\\xb77\\x93J\\xa3\\xcb\\xee\\xe4\\x13\\x87j9\\x7f\\xacD\\x1aH\\xc4?\\x16w\\xd8\\xa3\\x8cP!\\x94\\x83\\xeb\\x9f7\\x12\\xe6H\\xaa\\x83\\xcf\\xf1Z\\xb4\\x8d\\xd7\\x06M\\xfbj\\xd0 \\xe8\\x07\\xcf\\x99\\x0f\\x17\\x9ahZ;!\\xf17\\x87\\xd9\\t\\\\\\x94\\x8a\\xce\\xda\\xf4Bw{\\xa6\\xe5(c\\xb9/\\x0b\\x1a\\xb8\\xd4\\xba\\xb5\\x13oXeH\\x9d\\xc8l[+\\x9e}\\xbb8S\\xe7x\\xc4z\\xe4\\x02u\\x9fV\\xd9\\x0e\\xddi?\\xb5\\xbdPW8\\xff\\x13\\xa7=\\xf03\\x1d\\x16bi\\x13\\x9de\\xf90\\xd6LZw\\xe3\\xbd\\x80\\x84\\xb8\\xde\\'\\xa4\\x96).\\xb0\\x7f\\x90\\x14\\xc1\\xb4\\x97/hH\\xa0,\\xa0\\xb8\\xf5bZ}\\x829\\x13j \\x12\\xac\\xe5oVm\\xa1%,\\xc13y\\xba?m\\x15\\xd2\\xfbv=\\xc4\\xf6\\xe8\\xa0\\xca:\\xf8\\x80\\xfd0h\\x14m=\\x1aX\\xda6~\\xe8\\xfad^Y\\xb1\\xe5\\xe5\\xd9,\\xff\\xf9\\xd1t\\xf36\\xdc{\\x0ek\\xbfO\\x89\\xf9F%A\\xcf+\\xa32Y\\x7f\\x1b\\x88\\xc8*\\x88\\x8c\\x8c\\x04\\x17\\n\\xbe\\x11\\xa4pe\\x13\\x966\\xc9 %\\xe5j\\'\\xa0f\\xc5j\\x1e\\xdf\\x9b\\x88\\xf7A\\x12\\x9f\\xaa\\x05`v\\xb5\\xa8F\\xd1#\\xc1\\xde\\xce)`I\\x87%N\\x07Z\\xc1\\x98\\x07\\xcc\\xe5Q\\x88/Tz\\xca\\xe1\\xa4.\"\\x1c\\x0f?\\x88\\x9e;\\xb6Az1^\\'\\xc2v\\x8e\\xaaEw\\xb0\\x88\\xdd\\xa1V\\xfe\\xd3\\xc3\\x0b\\xdfM\\xa9\\xb9\\n\"#\\xcd\\xca\\xfd=#\\n+:\\x89g\\x91\\x99\\x94e\\xa8\\xd7\\xc1\\xfe\\x1b\\x96\\xd3v7W\\xfe\\x93\\xd1\\xd2\\x11\\x90e~\\xaa\\xf7\\xac\\xfbPf3g\\xe0>F\\xe9[v\\xeb\\xaa&\\xf5\\x15\\x80\\xaa\\xe3.\\x17M\\xd3si\\xd6K\\x11B@\\xa1\\xc6\\x15\\x083[\\xacO\\x12z\\xb7\\xecN0!\\xb7\\xfd\\x9bO\\xe0Y\\xefvN\\xd8\\xf2\\xab\\xcd\\xda\\xd2\\xb0<\\xbe\\xebd\\x95n\\r\\xdf\\xe9\\xac[=h\\rT\\\\\\x14\\xcd\\x9bT\\xcd\\xd7\\x03\\x04\\xec\\xa8\\x7f\\x14p[Q\\xb0\\x01\\x804\\x95\\xe3\\xcb\\x98(\\x00a\"\\x97|K\\x05\\xbf\\xa7\\xda vWG\\xe0\\xbf|\\x97Z\\xcbQ\\x88\\xd2S\\x136\\xf7p\\xf3\\xc9\\x02\\\\\\xeb\\xbcZ{\\x90\\xaf/\\x04iHP\\xadB\\r8\\xa9\\xa12#2\\x85\\xdef\\xc9\\x15\\xca\\xc5\\xa0\\xe6\\xb5\\x7f\\xac\\x86\\x9aCh\\x11\\xba\\x0b\\xe39wC\\xa4\\x1b\\xcf\\\\\\xbc\\xe2\\x97\\x16\\xafr\\x84\\xc2>\\x93\\xbe\\xe6\\x1d\\x10.\\xa6\\xa4\\xd5\\xb9\\xdbIz\\xf0\\x93h81\\x84\\\\\\x14$e$\\xb2\\x87\\xb6\\x08\\x00\\xd4^uF\\x14\\x00W^\\xf3:\\xeb\\xd8\\xfd\\x10Y\\xcd\\xfanK\\xa1\\r-\\x9d\\xd8\\xdc3\\x18\\xba~\\x13eP\\xc9\\x8d\\xb0\\xbbj\\xda\\x92s9\\xa6\\xb9I\\xb1\\xc9BRB\\x9e\"\"J\\x1b\\xa2\\x05\\x02\"\\x8aR\\xd2\\xaa\\x0f\\xa6\\xa9\\xdf\\x993\\xe2\\x9e\\x86\\xaf/L\\xe0@\\xc0\\xf4jhx\\xe0\\xef\\xadTw\\xc8\\xe0\\xe3\\xdb\\xefd\\nTq7V=5\\xa456\\x8c\\nY\\xbb\\xad\\x8e\\xe8\\xa9nZN\\xf2EK\\x9a\\xc7\\xb3\\xfaF\\x82E\\xb9@\\xb2\\x10\\r(5[\\x87<u\\xc6\\xb1\\x01A\\xecaC21\\x8fW\\x1bz\\t\\xd02\\xad\\xdd\\xd7\\xa4\\x8d\\xb0\\xb3\\xa3\\x88\\xa4\\xed\\xa6\\x1fk\\xa1\\xa0\\x89\\xb8k\\xda\\x1e\\xe6w\\x91=\\x8fmP8\\xe1\\xc0\\xaan\\xb9-\\x82\\xc9y\\xd4\\x98\\x81\\x95o~\\x9at\\xa8~\\x9c19\\x1fL\\x13\\x9d.\\x89M\\x86\\xf2\\\\\\xba\\x1b\\x84sr\\xb3\\xd2\\x9b\\xfd\\xf8Z\\xf9\\xb6<\\x85dxz\\xb0jG\\xd2C\\x91D\\xc4\\xea\\x1a\\xcd\\x93\\xd7xOFagk\\xe3\\xff\\n4\\x89\\x00\\x05\\xe0Z\\xfd\\xf4\\x053\\xb8\\xd4\\xc5;.G\\xe6\\xf2\\xf7\\xc6_\\xbe,\\xd9\\xce\\xf0\\x16un\\x17F\\x00rEn\\xb8\\xee!\\xady\\x0f;)\\x87\\xf7s\\xa8\\'\\xca\\x94+\\x82\\x19\\x85\\x14\\xfc\\xfd\\xd6\\xdb\\x8a\\x97Zr\\x99\\xe6\\xe1\\x9b,\\x84\\xaa\\x8a\\x06\\x95\\x1c\\xeb\\xe5/f\\x92\\xce\\x9d\\xf5\\x1e\\x04U\\xbd\\x1f\\xc3\\xae\\x90\\xec\\xa1\\x93\\xb3\\xf0\\x97\\xa5\\x16*\\xcav&V\\x94\\x11Y\\x11\\x0f\\x9a\\x03\\xa9^3\\x803\\x7f_\\xb7>\\xe6\\xbf(#\\xbe\\xc2\\x13\\x86:em\\xb8lX\\x8fL\\x1d\\xc2U\\x83I\\xc4v\\xc2\\xdczU\\xdc\\xaect\\xad\\x10\\xd6\\x1a\\xc2@\\x11q\\xc7q\\xc8\\xfe@\\xb3\\xa1\\xca\\xc7\\xbb{\\xfe\\xdd\\x8f\\xc7-\\xb0\\x01\\xba\\xce\\xb0\\xcf{au\\xf3o\\xdb\\x9do\\x85\\xf1\\xff:cz\\x13\\xbf\\xdetS\\xf9#^\\xb2m\\xeb\\xf8w\\xe6\\x98)\\xe3\\xdamL\\xf1\\xda\\xef\\n\\xf6\\x8c\\xa0\\x07\\x8e/\\x91qI`Yt\\xc4\\xa3\\xc2B#\\x89&\\xd2\\xfe\\xd6a\\xc4\\x1b\\xceW\\x89\\x86\\xdf\\xa9\\x07y\\xd8\\xb9@\\x05\\xc0\\x07\\x8d\\x08@\\xd5\\xc7\\x97\\x11\\x04\\x1bg{\\xb8\\x9b\\x94\\x16S\\xf6l\\xbafr\\x10\\xf1\\xf7\\xe8\\xdb\\xb3\\x99\\'19\\x97\\x8a\\xc6\\xba\\x86\\x8f%n\\xf1$\\xb90>x\\xd7\\xc1\\x99D\\xf1+\"\\xeaOE\\xeb\\xb9\\x8b:\\xef\\xf9\\x16\\xd9;\\xa94\\xef\\x8e|t\\xb1$\\xbd$\\x17\\x82\\x86nwa\\xe0`\\xfbt\\x10\\xce\\xa7\\xe7\\x93\\x7f\\xe5\\xe6sM\\x91(\\x19\\x90\\x93Mek/%O\\x14\\xe5\\x8eP\\xfc\\xbb\\x8d\\x9d\":\\x96\\x87\\x9b\\x8e\\xef^\\xdeW\\x95\\x8e_\\xde\\xf9\\\\q\\xd0\\xcf`?l\\xcb\\x80H\\xfa\\xba\\x91\\x12\\x05\\xb8Rkj\\x08g\\xb3\\xd1;\\x1at\\x18Y\\xef\\xb5\\xd2\\xd1\\x1b\\xde\\xd6\\xbf}\\xbbL\\xd3F\\xa8\\xc8\\x8e\\xd88\\xbb#\\x1d\\xe1_\\xb7\\x99\\xd2\\xf1\\xb5/\\xbc\\xf8q\\xc24E\\x07\\xd4P\\xe4L\\x8e\\xd8\\x06\\x03\\xc3\\x12u\\xf3\\x1aCL2\\x8a\\xb5\\xa0\\xdba\\xdc\"F*Hs/\\xabr\\xdd@\\x1cP\\xa4<L_  \\xaaqmT\\xd4(5\\xa5\\xea\\xac\\x7f\\xbd\\xf4\\x02W\\x05s\\t\\xa8u\\xf9V\\xf7\\xaf\\x7f\\xe2\\x82U\\xcfV\\x1b\\xda\\x89\\xa3\\x93\\xb6R\\xdd \\x81\\x1eE\\x8b\\x8e2\\xe6\\x1f\\x97\\xf4\\xa2\\xd8\\x82\\xc4\\xbf\\xdf\\x91A\\xc5f6\\xe5[\\xb8i\\xbd\\xa7\\x8d\\xe80\\xa0\\xd2\\xff\\xb5\\t\\x8e\\x82e\\x04.S\\x00\\x8a\\x8a\\xc7\\xd6:\\x1d\\x1f\\x15\\xe6*Wu\\xb5\\xb4\\x9cm\\xdc\\x1d^\\xb4\\x81\\xa4!\\x1f\\xcds\\xc5n\\xbd.\\xb2\\x88\\xd25g\\xbaD;\\xfe\\x134V\\xf9[j\\xe5oO\\xe1\\xd5\\xd2;uO\\xbb\\xa2:V\\x1f0\\xa4\\xd1\\x8f\\x99\\xc1\\xb8\\xfa\\x99\\x8b{\\x7f\\x95\\xa1\\xb8\\x05\\xb8\\x05\\x0b\\x85\\x13\\xa0\\x1b\\xd6\\xac\\x8f\\xa1\\xe8A\\xad\\xce\"\\x84|\\x1d\\xb1m}]Z?\\xe5d\\xe4U\\x9e\\xb2\\x06,\\x8e\\x12\\xaa6\\x8b\\x81\\x9a\\xdc\\xb6P\\r\\xdc\\xeeb:?\\x0b\\x90\\xb7\\r\\xf36\\\\\\x90Sc688\\xea\\xa9T\\x08\\xbfH\\xf5\\x9d`Q2K\\x14\\x8aE\\xa7XSi$\\xdd\\xd8\\x95\\x12\\xf3\\xff\\xb3F\\xf7u\\xba;r\\x96Wk\\xe0$\\x07\\xa2/\\xc5U\\x17\\xb8\\x97\\xf7\\x89\\x0f\\xba\\xaf\\xfb\\xbaB\\x99\\x92bEFR\\xc7\\xe0\\xa6\\xbb\\x88\\x96Q\\xc0%\\xfb\\x8e\\xf7@\\x1a\\xa8OPC\\x04\\xe6$`\\xfe`<\\x9d\\xdd8\\xde\\xdb\\xc9\\xfe\\x05\\xf0@j\\xba[\\xe0 \\xd6\\xd7\\xc9\\x85\\xed\\xf2\\x93\\xc6\\'\\x0f\\xe5\\xdc\\x82\\xdc\\xf9\\xfaG\\xb7\\x1eR\\x0b\\xddS\\x8b\\xa4\\x96\\xd3\\xb0q\\x9cd\\x06c\\t\\xab\\xbe\\t\\x88V\\x9bT$\\x13#\\xe3t\\xbd\\x1ff\\xd6!\\xe6\\xa9\\xb7py\\'h\\xbc\\xf0\\xc47\\xee\\xde\\xa7\\x1a\\xb1\\xd6\\x8a_3\\xeam\\'\\xad\\n\\xb6M\\xfe\\xe5\\xf0\\xf0Iv\\xac\\xab\\xd7DVG>\\xe5P\\xe0\\xc9\\xa1B;\\tC\\xb4\\r\\xf8!Q\\x06\\xd0\\xae\\xe4\\xdc\\n}\\x9f\\x80\\xd4O\\x97\\xd8\\xb9#\\x1d3~\\x9f\\xf0\\x99\\xff\\xb6\\xbd\\xdd\\xa3\\xc2u\\xf1\\xad\\xe5/\\x91O]\\xe8\\x8d\\xe7\\x1c\\x87\\'\\xc7[=\\xbdK\\xa5\\x7fD\\x0f\\x93\\xc35\\xf1:\\x83\\x19;\\x146T\\xc4)\\x08*9}\\xc3,\\xee\\xd7.\\xf4,0P\\xd3ze?\\xc0\\xc8\\xc8q\\xf9\\xba\\x9f}\\xcc\\xb6\\xba\\xf3\\xe3\\xc5\\xa7M\\xfc~\\xd7)|f\\xea\\x11\\xdf\\x1a\\x1b\\xfb\\xd1\\xce\\xd7\\xbeG7w\\xb2\\n]\\x82jK[\\xd3#\"PY\\xd7\\x82\\xfe\\x1b]\\xad$V=\\xb9\\xa8U\\xa8o\\x0f\\x0c\\xfa\\x07\\xf1\\xf5\\xda\\xe8b7\\xf8\\xce\\xec}V\\xf7\\x1b\\x9c3\\xf2\\x80\\xb8I\\xa5\\t\\xdbM\\xebG\\x1e\\x0f\\xf4\\x9cKb\\x13@\\xcc\\x91\\xe9b2e\\x16C\\xb9R\\x99-\\xdc\\xf1Q\\x914\\xf6\\x1f\\xec\\xaeh\\x18\\xf4\\xa1\\xd19E\\xf6\\x0f\\xb4\\xeb>\\x9b0\\xff\\x14\\xf4;\\x07\\xdbG\\xef\\x8a\\xd8\\xea\\xf8f,?\\xfe1\\x12\\x03\\xbd\\xca1\\xed\\xc5\\x08\\x08\\xf8\\xf3\\xa4\\xf55\\xd1\\xbc^C\\x037\\xba\\xe2?y\\x91|\\xbfj\\x80\\xa6\\x1eC\\x04\\x81K\\xd7\\x06\\x85\\x17Z\\xf8N\\x8a\\xf6\\x91\\x82I\\x0e\\xb2\\xc3\\xd2~\\x11)\\xc6V^2y\\xf2\\xe4\\\\\\xa9W2C\\x00_\\x96<\\xb9\\xf3\\xe27\\xfd\\x13\\xabk\\xc9\\xd0j\\xfd\\x82L0;L\\xfejtK:\\xe8\\xe9\\x84\\xe3\\x0f<*Y\\t\\xf3\\xf4z\\xf4\\x15%]]\\nW\\x08\\xb5\\xe9>&\\xa4\\xddd\\x12A\\xf5_bgd\\xac\\xc3\\xb3\\xdcO\\xa9\\xb1K\\x87fy\\rK_.\\x86\\xd4\\xf3\\xcf\\x93\\xbd\\xd2\\x9b\\xad\\xb0\\xce\\xe2n\\xad\\tko\\xb5\\xa6\\xa5\\x9b\\xc2I8&\\xf8H\\x92\\xa8h\\xd6^\\xebWiM\\xe278\\xdd\\xfd\\x8b\\xa0)\\x95\\xc6\\x13\\x91\\x8aG\\x930\\xcbW\\x18\\xbe\\xb0\\xbe\\xf1\\xc0v\\xd3\\xb3\\x8e\\xfd\\x03l\\x92\\x93\\xcb\\xde\\x1d\\x9a\\x1e\\xb4\\xd0\\x08d\\xa8\\xe5S\\xf3\\xa2\\xcdv\\x87O\\xf2\\x00lxf\\xba\\x0f\\xf5\\x10\\xaa5\\x1b\\xf1\\xf8\\xdd\\xb2\\xc4{:\\xc5H\\x03\\x01\\x06\\x96\\x90\\xcbU@\\xa2\\xdd\\xd3q\\x19\\xf5\\x8db\\xf6\\x8d\\xbc\\xc0\\x90\\x039\\xc7\\x02\\xbf\\x90\\x1d\\x0cM\\xef\\xb6\\r\\xc3\\xe8Tq\\x13H\\xcd\\xf6\\x91\\xd5\\x82q\\x82tUU\\xe8\\xf6\\xd0\\xf0\\x1c\\x9f\\xd4s\\x14U\\x19\\x02\\x88\\x9du\\xe7\\x03\\tQ\\x0e\\x08\\xb5\\xa6\\x17\\xfc\\x82\\xb9]F\\x83\\xc6\\xe8\\x81\\xb7\\xc2\\xcf\\xafV\\xc9\\xb5>\\xecp\\x05\\x17Oz\\xd7d\\xdf\\x84\\n\\x8b|K\\xcc\\'>\\xb2~\\xf4\\xe5\\xcf9\\x9e?6\\xeef\\xb5\\x88\\xbf\\xc4\\x85U\\x14\\xc2\\xfe\\'g4\\xcb\\xe3\\xad\\x8eZ\\xb0\\xee\\x97xYVMV\\x08\\x80\\xd51Q\\x14\\xc8\\x95\\xe3*2]@hJ\\x0b\\x95\\x01(\\xc1\\xecG\\rL\\xd5\\xc2\\xf6o\\x96LV\\x9f\\xe3\\x9e\\xd5S4)\\xf5c\\xb8\\n%\\x9f\\xe8\\xdf\\xba6\\x0c0\\xd0\\xb3\\x8d\\x19\\xb8\\x7f\\r\\xc0O\\xe7\\xb7y\\xe3&\\xe1\\x82<\\xfb\\xd7\\x89r{\\x9c_Dwn\\xe8\\xc8\\xe6\\xb5\\x11g\\xd5\\xbdzk\\xbf\\x83\\x10\\x14\\x11\\x10v\\t\\x8f)\\xc5WPjT|>m\\xec\\r\\x87\\xbb\\xd6l.\\xf5_n^M\\xb9\\xad\\x18j\\xff\\x08\\x94\\x0c\\xd4%\\xcas\\x1c\\x7f\\xd8\\x92i\\xeb\\xb5R\\xf3.E.\\xaa\\xa9\\x9c2\\xf3\\x86sF\\x16\\x7f\\x12\\xe7,\\xf4;{p\\x93\\x8fA\\xdfU\\x94\\x92\\xda\\xe0\\xb5\\x12\\xc1\\xec\\xbeJ\\xe2m/\\xdc\\x88\\x18\\xa4Z\\xe0\\xf3@\\x85\\xdd\\xfb Yun\\x8f\\xc38\\x01\\xdc\\xe5\"\\x13*v*\\xd9/e>\\x94\\xce\\xe6,\\xcc\\x82\\x1d\\x90_ Cfp\\x96n\\xad+\\x8a6\\x96\\x96\\xd6~\\x80\\xba\\xe9\\xf5\\x87R\\x9d\\xda\\x8cH\\xc1\\xb2OE\\xbf6^\\xbc\\\\\\x8aS\\xcf\\xfb=\\xcd\\x9f\\xa3~\\x19\\xae\\xb4\\xbdt\\xf7\\x07y\\x0ci\\xc5e\\x9a\\x1a\\x03\\x087\\xd4\\xeb\\x9at\\xd0{\\x12\\x89`\\xf1Gk<k\\xb8%\\x80\\xe2\\xae\\tkH\\x86\\xee\\xafk\\xb9t\\x94%7C\\x922e:\\xac\\r9\\x9bSR<\\x9d9#\\x10lc\\xf4\\xaeOcLu\\xaf\\x00M\\xe1\\x9fI\\xb4-\\x06\\xf6p\\t?u\\x9c\\x01\\x8c]\\x93\\x9d\\xa1Z%b_\\x95RYH\\xef\\xaf5\\xdazP\\x99\\x83\\xeb\\xeeR\\xc3\\xdef\\xb2\\xacJ\\x90qJiq\\xb9B\\xf6\\xb0\\x98[\\x9d\\xcb\\xc6\\x8f\\x07\\x9d\\xb7t\\xb5M\\x92\\\\\\xa3\\x9ci\\t\\xf4\\x99\\x96\\x083\\xa8I<-\\x9f6=\\xc2\\x155\\x0c\\xd5x\\xdb\\x87\\x88\\xfa\\xc4e\\xd5\\x94\\xcd%\\x14\\xc5UV\\xc8\\x15q\\x93\\x16\\xc1B\\t\\xd9\\\\\\x99N\\xeeO\\x9e\\xd9\\x1d\\xe7\\xc8\\xefTZ\\xf4\\xa3?\\x8d\\x079\\x1f\\xbc\\xdbn\\x05\\xb7\\xb6b\\xedG\\xa8\\xb0\\x9ew3\\xc7\\xcd\\xc5\\x85\\xee\\xc5Z0?\\x9c!\\xec\\xa9S\\xdc\\xaf\\xdd\\xb8q\\'\\xfeSB\\xd7,\\t\\xf1\\tUB\\xbd\\xfaQ\\xd8#\\xf7OO\\xd1\\xae\\xc3\\xab\\xaf\\xab\\x14\\xb7\\x9f\\x0f~\\x12\\xf4\\xae\\xc3\\x9c\\x0e\\xdb|\\xbdC5Ha-me(\\x93\\xcd%\\x93\\x16\\xb0\\xa6\\x04\\xfa\\xea*(\\xbc\\xb2|8\\x82\\xc4\\x87\\x13,l\\xcf\\xe2.\\x86\\x13\\xe1\\x07\\x16\\x0bc;\\x0f\\xb2\\xb9\\xe5\\xf8\\xf7Gd\\xa0\\xe6}l|\\x05\\xb2\\xfbW$b\\x11)Mw\\xed\\x98\\xef^\\xfb\\xd5\\xd4\\xe6m:\\xee\\x89\\x8a~\\x00z\\xfc\\xee\\xf3\\xf8\\x18\\xc0\\x11\\xdd\\x05\\xd8\\xd9\\xd1\\xd3\\xdaU,\\x00\\xd9\\xd1\\xc3\\xc3!\\x16\\x1f\\x9f\\xf1\\x13\\x9d\\xc8\\xadSO\\x86\\x7f\\xd3\\xf7\\xbc3?l\\x1ew[\\xd7\\xa3@\\x93\\x17\\xc4\\xcc\\xb9\\xf6\\x1dfd\\xc3O\\x81\\x8a\\xa2\\x94\\xe0a\\x01el\\xde\\x7f\\xdf\\x93\\xae\\xecyI<\\xeaaF\\x95\\xcc\\x17\\x9df)\\xb1(+_\\'\\x81\\x85\\x1a\\xca\\xda@\\xea\\x05A\\xf0\\xce\\x9e\\xabz\\xfc\\xc8\\xca\\x8d\\xc4H\\xe3\\x81\\xe1\\xd8\\x12\\x84\\xc6\\x03\\xab\\x1c\\xdd\\xf2\\xfb8\\x9b*\\xdb\\xa3\\xb5\\xc9\\xb6\\'\\xd6m\\xf4<\\xcd\\xc8\\xee\\xd9\\x99\\xaaL\\xe4\\x13uE\\xee\\xf1\\xbe \\xcf\\x85\\x87^\\xb1\\x82et\\x99Y\\x85\\x82\\xcc`\\xfb\\xec?\\xf1:\\x1c\\x1c\\xa0\\x84G\\x10\\xc3\\xd8\\xc7\\xa0\\x1f\\x06\\x8b\\x9f\\xdbV\\xc6\\xeaF\\x9c\\x86;\\x99\\x0b8\\x03\\x0b\\xa4+\\xf5\\xb6\\xc3~ap\\xd8\\x85\\x88\\xc5iJ\\xb8\\x90\\x01\\x13\\xa3\\xd7\\xf9\\xfe\\x9d\\xe7:\\x9a\\x8f]\\x05\\r\\xaf\\x8a\\x8e&\\x08\\\\Ml\\x82\\xb4h\\xf1\\x994\\xe7\\x97\\x88\\\\\\xd3x\\xf2$7\\xb6 f\\xb5\\xc1|\\xa2$\\'I\\x92\"\\xe7\\xd7\\x0b\\xeb\\xd3\\x8c\\x17pD\\x08|\\x85$\\xdb\\xfc\\x93\\xf8!\\xeai\\x90;\\x10\\xfb3\\nc\\xaf\\x92V\\xef\\x1c\\xadi\\x99;7w\\xd2m\\xc1Hsz\\xfe\\xf7\\xb0Rb\\xeb|\\x84\\xc3\\xe6|\\xdd\\x96\\xc8\\x110\\xcf\\xb5\\x99\\x9c;\\xa4\\x8aV\\x85\\xd0\\xa7U;!\\xa8\\xb4n\\xe8\\x85\\xbcy\\x853\\x9a\\x94:\\xbe\\xc9,\\x91|\\xef\\x96V\\xcc[a\\x13*\\xb9\\xd1W\\x95\\xce\\x0b\\xbe!\\x8e\\x97\\xdc\\xbe\\xef\\xbes;X<\\xf2\\xb6\\x15M\\xa5p\\xbbz\\xba\\x8b\\xf0\\xf3\\xf1=\\xc0u\\x8e\\xf3 \\xb3\\x8a+&\\xae\\xd1^fhu\\x883YR\\xadG%\\x04\\x9986^*_o\\xf2\\x88\\x16\\xfa\\x1b\\xb4%S\\x85\\xf2H\\xe2R\\xb9\\x9cX\\xf2\\x9c\\x1a\\xad\\xe1Nm\"\\xe7w\\xd3\\x8f\\xcf\\xecY\\xcf\\xcf\\xb1\\x1f\\xae\\xc3\\xaa\\xb3J\\x03\\x89j.qL)\\x91\\xda\\xb4\\xe5i;#\\\\\\xd4\\x11\\x7fK$\\xeb\\x04\\xde\\x0e\\xdf\\x9fI2\\xca\\x19\\xe9\\x8e\\x1eY\\x8e\\xb2\\xa3\\x8aEP\\xd3\\xf7\\xa1\\x19W\\x8eV\\xecBB\\xb2\\x7fN\\x83\\xb8i|\\x18\\x9ayZ\\xabB\\x97,\\xe6WI\\xbb\\x8e\\xb8/wZg\\xe6\\xdb\\x02\\x991y\\xe5\\xda*y\\xd8\\xb9\\xd0\\xb3\\xca\\xaa\\'\\xc1\\xde\\xa5+\\xfc\\xb3\\xd3\\xd9)=\\xad6X%\\xf5\\xec!\\x11\\xbb?\\x1eU\\x15fu\\x9f\\xdd\\xc0\\xb7\\x13\\xec!\\xd9b\\x94\\xd2\\xc8~\\xd5\\xaf&\\x1d\\xb4\\x9d\\xb2\\xf5\\xba\\xe8\\x04\\x01\\xf0\\xd7B\\'\\xb0h\\xbe)\\xb3\\xd6N\\x87\\xfd\\x1f\\x84\\xe5b\\x8f\\xf1\\\\#\\xe1-\\xb1\\xde\\xb6m\\xbf\\xe26\\xec1\\xeb\\xd1\\x12s\\xf6a\\x0f\\xd3|\\x1e\\x1f\\x7f\\x08\\x98\\n\\xf4%h\\x14Z\\x13\\x01b\\x16\\x028u\\xa3\"p\\x85W\\x11*K\\x06\\x11v\\xb1\\xa0a\\xde(fQ\\xe1\\x8d&}\\xce\\xf1\\xa4/\\xac\\xfe\\xb1\\xef\\x18\\x9c\\xbf\\xf1F>\\xca\\xfd\\xde\\xdd\\xdcT\\xa5f\\xfa:\\xb2\\x8cBjd\\xc9\\xaeO\\x84*\\xf9\\x9e\\xc8\\x8b\\xb3\\xff\\x03\\\\@\\xa3\\xbf\\xb2\\xdc\\xe9\\xef<\\x7fa\\xfb\\xa5\\xe7\\xde\\x90\\x96=\\xfb^\\xd1\\x02O\\x9cV\\x03\\xbf\\xf1\\x85\\xe7^\\x948\\x8b\\xed\\x8d\\xe3\\xd9\\xde\\xfe\\xa8\\xe7]\\xb6=\\x985\\xc1\\x9a\\xd6y6\\x95\\xd5J\\xef\\xb26\\x9e\\xe2\\xde$\\x9e-f\\x02i\\x8d\\xa2\\x89\\xaa\\x12\\n@\\x04[D\\x1c\\xa8\\x8c\\x16\\xd2\\x97\\x93\\xfa\\xc6\\xa1\\x1dOg\\xb7\\xf7c\\x13\\x9e5\\x02\\xaf]\\xe8\\x8fG\\xa8\\x9b\\x1bo\\xbf\\xd3Nff\\x06L\\x084\\tuL\\x12\\xea\\x04\\x91\\xa0e\\x08h\\x01\\xad%K\\xbe\\x9f-\\xe8j\\x00j]\\xe2JV\\xf2[\\x92\\xac1\\xd8I\\xb2\\xfan\\x0e\\xc3\\xca\\x83\\x95\\xd1\\xbdG\\x84\\xbb\\xcc\\xb2\\x9a\\xa8\\x92w!\\xc6Yh\\x82\\xc3j{\\xf3\\xd4\\xa5\\xf3\\x1b\\x17\\xce\\xc0\\xa9-\\x99\\xcc\\x9d\\x98g\\x17M\\x8f\\x9a\\xd9\\xcc\\xc3\\xe0\\xf2\\xf9\\x97~\\xe3\\x97_\\xf9\\xeb_o\\xb6\\xca\\xeb\\xcd(\\xf4\\xb3\\xea\\xcc\\x0ed.\\x98\\x16U\\xb9|\\xcfe\\xb6\\xac{\\xb0\\x98\\x9d\\xeer\\xf5`\\xd14\\x80\\x06\\xd0Fb0\\x89\\x04\\xc2\\x08\\x8e\\x851\\xa0\\tX\\x00\\xed\\xe61\\xd5d\\xde\\x8c\\xaf\\xdd\\x8eu\\xf3\\xb8/\\x96G\\x8d\\xb5\\x05\\xfex4\\x93\\xe9\\xde{\\x1fh\\x88\\x90\\x031s\\xc8j\\t\\x0e\\\\@l\\xc8\\x04Q\\x00\\x00\\xa1E\\xe3T\\x02!\\xec\\xd8\\x9bj!`\\n\\x96\\x96\\x86\\xa6D\\x8e\\xa0\\x11\\x98\\x1a\\x18\\x98[i\\xf6Xr\\x18\\x17v\\x18\\x17C\\x11\\xf0\\xa88\\x8c\\xd8\\xb5;wDS\\xd54\\xef\\xc0<\\x8f\\xed46\\xd9\\xce\\xf6\\xb9\\x17\\x9f\\xcf/\\x9f\\xe1\\x8d^;\\x9f\\xd0t\\x82y\\x8cH\\xa1\\t\\x8dB\\xcc\\xab!eE\\x86\\xbb_\\xbc<\\xb8r\\xe5\\xf0\\xf0p\\x8e:\\x97\\xa0`\\xa0\\x16\\xdb\\x90\\xb2\\xca\\'\\xec\\x05\\x13\\xb3\\x94{\\xef2\\x7f\\xd6E\\xc2\\n\\x00\\x06\\xad\\x8a2\\xaa!\\x10\\x82#5\\x8c\\x86m\\x97\\xc87\\x81.L\\x08m;\\xde\\xbb\\x13\\xe7\\xf5\\xe3\\xbeX\\x1e5\\xd6\\x04\\xfe8\\x98M\\xef\\x1c\\xee\\xdd\\xbc\\x91\\xaa\\x1d\\xc0\\xe4]\\xd6\\xc6FA[\\xa2H\\x10\\xa0\\x93\\xbb\\th\\x0c\\x8a\\xc4K\\xf6\\n\\x18\"\\xc8\"\\xff\\x0c\\x8b\\xbc\\x94\\x82\\x89*\\x00\\x92\\xc1r*A\\xef\\xe6p\\xf7\\xe1\\xb8 \\xf3}\\xf3\\x89\\x9f\\x1d\\x163\\x91)\\x99nj\\xaa\\x08\\xce\\xb9 \\x01\\x1d\\xef\\x9c=\\xfd\\xf2\\x97\\xbfD\\x97O\\xef\\xe9\\xfc`>93\\'\\x0c\\x12b\\xd3\\x84\\xd6\\x98k\\xc1Vg0mz\\x19\\x9f~\\xe9\\xb9\\xe6h<~\\xffF<\\x1c\\x0fZ\\xcc\\xc4f\\xfbGV\\xf8du;\\xa4\\x87h\\xcb<\\xd9\\xb2\\xde&jF\\x18\\t\\x16\\xb57\"\"4\\x0cj\\xdcF\\x87\\x16L\\x03(\\x81\\x01@[7\\x93\\xdbw\\xda\\xc93\\xd7P\\xb9&\\xf0\\xc7 \\xcc\\xeb\\xdbo\\xbf798\\xf2\\xde\\xc7\\x18\\xd1\\x902\\xa7\\xda\\xaai\\x0b Lj(\\x06\\x00\\x10@\\t\\xb4 \\x9f\\n\\xbc]M\\xc8\\x16\\rX\\x8bL\\xb2\\x99I\\x12\\x965S;\\xc9B\\xc3\\n\\x87Wd\\xa5Oz\\xa7\\x13\\x8d\\x1f\\x81!\\xeer\\xc2f\\xd6\\xe9\\r\\x90\\x9a\\xba<CTf,\\xfa=\\xda\\x1cB\\xbf\\x8a\\x93\\xf9\\xa8\\x9d\\xbf\\x80}1\\x98C\\x982C\\xe6\\\\\\x9e\\xb71\\xd4\\xd4\\xa8\\xe7s\\xcf_\\xc2\\xd1\\xfc\\xdd[\\x87\\xed\\xc1~\\x91\\r\\x06\\x90\\xd7\\xb3\\xd1T\\x15Vr\\xdd\\x8b\\xde\\xc9\\x951L\\xb0\\x14_\\x08\\x00\\x18*\\xa3\\x9aE4@0F2\\x0c\"*\\xb1\\x02\\x04\\xb0\\x08\\xcaf\\n\\x16C\\x98\\x1d\\x1e\\xd7\\xc7\\x93\\xc7}\\xbd<j\\xac\\t\\xfc1\\x08\\xb3\\xf9\\xd5\\xd7\\x7f8\\x19\\x8d6\\xc9\\xd7\\xa1\\x16\\x81\\xb2,#\\x98br\\x86S\\xc5\\x12@\\xcd!\\x04\\xd3\\x02\\xba\\xd1\\xbe\\xd5Jk\\xaa\\x7f,\\xe3\\xdbe\\xad5\\xad;\\x83\\x07\\xb1\\xd2\\x1e]\\xc6\\xea^$\\x0b\\x9c\\xf6\\x1e\\x9a\\x99\\x9a\"\\xa0\\x88\\x18\\x82\\x98\\xde9:(\\xde\\xfd\\xe9\\xfc\\xa8\\xbc\\x11\\xa7R\\xf93\\xa3\\x01dN\\xc8\"\\xc46g\\x1eV\\xc0df\\x11\\x94\\x89\\xb2,\\xcb\\xf3\\x9c\\xd99\\x85\\\\\\x11\\xc9ML\\xeeo\\x1a\\xb1.\\xe7\\xbd\\x88\\xf9\\xcd,E\\xc2fH^L\\x04 \\xb5s\\x8a\\x82\\xa8H\\x0c9g$&]J\\x01Dd6\\x19\\xb5\\x935\\x81\\xd7\\xb8\\x1b\\xcddv\\xe5\\xad\\x1f\\xcf\\xa7\\xb3\\xcdj\\xa3\\x8d\\xad\\x01dP$+\\xb1\\xb0\\xa8\\x00\\xa9\\xcf\\x01\\xbaX.\\xfdb\\xd7_\\x05&\\xb0\\x98\\xf8\\xb5\\x93\\xb1\\xa4\\xb4\\xa3\\xe4~\\x8a.#\\xde\\xe5_y\\xc5&?\\x02t\\x1d\\x8b\\x8b\\x83\\\\\\x9eN\\x8cQ\\x19\\xe6\\xed\\xfc\\xf0\\xc3\\x0fo\\x7fO\\x0e\\xfbt\\xe4\\xb5:\\xb3S\\xfe\\xa4\\xcd\\xfaU\\x9b\\xf3\\x08c\\x93\\x93\\xdf\\x19\\x16\\xc3\\xbesn3\\xaf\\xe4\\xce\\xe8xo\\xaf\\x9e\\xcd\\xb5n\\xc6\\xf3\\x86\"\\xb9F`;\\x03\\xe8\\xda\\xaa\\xd2;\\xa7\\x1e\\xd2\\xe5\\x01\\x9c\\xc4\\x1ai\\xb4\\x83\\tE\\x93\\x89N{X\\xd4\\x94@\\x96\\xa5uH2Zf\\xcdl^\\x1f\\x8f%D~\\x96\\x966<C\\xa7\\xfa3@C<\\xfe\\xe9\\x07t\\xfbx\\xcb<\\xaa\\xf9\\xaa2\\xb39\\x1b\\x16\\x99\\xaa8p\\xce(\\xa0\\xcd,\\xce,\\x8eI\\x88y\\x17\\xb6\\reFqb\\x8d\\xb2\\xa03G\\xe0\\x016\\x08\\xf2hE\\x08\\xce\"\\x805\\x0e-\\t,\\x031\\x12!9dO\\xccH>)?\\x119C\\x06T@6BD6D@%\\x97&\\x19!\\xb5iA\\xf7<\\xa5\\x95C\\x8a\\x88\\x98&+\\x08\\x11\\x10C\\xda\\x85b\\x06\\x08\\xce\\x91\\x19FS\\xd5\\xe0<I\\x12h\\xb7n\\x06(et\\xf7e\\xd2U\\x9c\\x93:\\xcfJ\\x1b6G=\\r\\xce\\x8e\\xa2\\xfd\\xd9\\x95\\xd3]?\\xc6\\x87\\x80\\x18\\x01\\x18q\\x0b\\x00VzK4\\xcbL\\xb5\\'\\x92\\x85\\x10\\xca,\\xfax\\x98\\x966\\xc6c3\\xecB_\\x011\\r\\x06\\x01m\\x16C\\x8b\\x18A\\x94\\x11\\x8c\\x14L\\x0cE\\xf5\\x86N\\x89(#\\xce\\x00 \\x8a\\xa9!\"\\x16\\xf9\\xedzV\\x95U\\xdb\\xa2\\xd8<WC\\xef\\xb8\\xd1\\xfd\\x1f\\xbc#\\x7f\\xefo\\xac\\t\\xbcF\\x87\\xd8\\x86\\xf1\\xb5\\x9b\\xd3\\xa3\\xe3eSa\\x82\\xaa.\\xc7\\xc7\\x97\\xbd\\xd0\\xb6\\xf8Qz\\xfe\\x93\\xf7BuC\\x11fb\\xc6x\\xd2|\\xb4:N\\xbc\\xfa^f&\\x98\\xba\\x14\\r:\\x81\\x1e[\\xfd\\xe9B\\xaf\\xd6>\\xf91\\xfc\\xccX\\xfd\\x88\\xd5\\x16\\xae\\xe3\\xe3\\xe3\\xd5dUR,13^\\xe9\\xf2\\xd2\\xce=Yt\\x9e,\\xe2\\x0bY\\x16\\xb0 \\xe9\\x06b\\xf2\\xe4\\x15\\x10\\xd3\\x9e\\x07\\x84\\xe5\\xcdei\\xbcc\\xdb\\xd6\\xfb\\x87\\x1a\\xe3g}\\xca\\x9f+\\xac\\t\\xfcQ\\x90\\xa6=x\\xf7\\xeat|o\\x8f\\x9e\\xaa\"s\\n\\xe3,u+\\xc3]\\xfdO\\xc9|I7m\\xd8\\x8d\\x1c\\x9d\\xfc\\xfa\\x83hu\"a\\x89\\x8b\\xb9\\xb9\\x94\\rN\\x8a\\xef\\x00\\x82\\xddr\\xed\\xee\\xd8\\xd0\\xd8@\\xd1\\xc8@\\x00\\xd0\\x8c\\x10\\x15\\x8c\\xa0\\xa34.4\\x96?S\\xac\\xceB\\xaeb:\\x9d\\xdeuvw5o\\x80\\x99\\x89j\\xf7\\xe0!G\\x99\\xa6\\xa6\\x999\\xf5Qc\\x8c\\x00\\xe8\\x90\\x00:\\xf5\\x92e\\xfbw:\\xd3\\xa6\\x9e\\xd7\\x87\\xc7\\x1a\\x05\\x9e%\\xac\\t\\xfcQhg\\xf3\\xbd\\x0f\\xaeNF\\x93e\\xfbnz\\xde\\xcc\\x98:~\\xa6\\x81?BJ\\xc34\\xc1b\\xea\\xd1\\x87\\x15\\xf3\\x80\\x8bKM\\xefo\\xd2H{X\\xd0hy\\xed\\x83u=X\\x0b\\xe3n\\x8bA\\x7f\\x01\\x93$C\\x0b\\x00\\xaa@\\x04\\xaa\\xdd\\x10\\x05X*gu\\x8d\\\\\\x8f*\\x07\\x86+R\\xec]a(YZ>){\\xad2T\\xc4\\x96N\\xbb@\\x9a\\xc9\\x87\\x98r\\n\\x0b\\x9b\\xac\\x9d\\x11\\x06\\x05C$E3\\xd1hf\\x96\\xb4+9M_\\x9d\\xa4\\x1b\\x00\\xc8 4M=\\x99\\xa8\\xac\\t\\xbc\\xc6\\x02\\xf3\\xd1\\xf8\\xe0\\xe6\\xad\\xb6i<3\\x00,\\x1b\\x89\\x97\\xd3\\x02\\xaa\\xaa\\x00\\xc8HH\\xa0bfQ\\xa2\\xa2!\\x13#\\xb7 \\xa9\\xd0\\x8b\\x0be\\xd6%\\x96\\x19iQKz\\xaa\\xcb(4\\xe5\\xa7S\\x83B\\x92\\xfbHz\\x00I\\xbeG\\xbarR\\xdaX\\xd2\\r\\x1f&1w1\\xe3\\xb4\\x9f\\x05Ru\\xca\\x10\\x11?\\xa5\\r\\xb6\\x87<\\x86\\xe5`\\xf3\\xdd\\xcf\\xaf6T\\xad\\x128\\xcb\\xb2\\xa5?\\x92\\xfc\\xe7\\xee\\xb1j\\x17\\x03\\x9b\\x8a\\xa6!J\\x10\\xeaR\\xfa\\xba`o\"\\xb6\\xa0I\\xa7Ci\\x00\\xdd\\xd9\\x01\\xc2\\xea-\\x03\\xadS#\\x91\\xa6\\x8d\\xd3\\xf9\\x9a\\xc0kt\\x88M{\\xe7\\xfd\\x0f\\x8fn\\xee!b\\xd2=MKk\\x97\\x1cN\\xd7d\\x17\\xa5-\\x14a\\x82DK\\xeb\\x17\\x081\\xe9\\xed\\x00\\xac\\x0e\\xdc\\x9c4i\\xa4?\\xcd\\x00@\\xcc\\x08\\x8c\\xcc\\xc4,q\\x8e\\x93\\x0f\\x8c f.\\x05\\x81\\x08\\x89\\xa5`\\x96\\x94\\xee\\xcc4i\\xcf\\x18\\x18\\xe1\\xea<\\xe1b\\x7fB\\x92\\x19\\xf8,\\xb1\\x0cnW\\x03`L;\\x19R`/\\x12cLK\\x1bT\\x15I\\x01h\\xd1\\xa0\\x06\\xd1T\\x01;\\xd2B7B\\xb8\\xfc\\xa9\\x9aE\\x11\\xec\\xb6\"w\\xc2\\xd1ij\\xda\\xcc@\\x14T\\xad+0\\xa1\\xaa\\xc5\\xbaV\\xd1\\xbf\\xdc\\t=aX\\x13\\xf8\\xa1\\x08\\xf3\\xfa\\xea\\x1b?\\x9a\\x8f\\'\\xcc\\xec\\xbdO\\xd7b\\xf2\\xdc\\x98\\x19\\x93\\xfbjK?\\xf7$\\x06V\\xc64\\xe7\\x9aL\\x8f_\\x04\\xb7KM\\xd6\\xe5\\xd8\\xe0b\\xb2\\xbf\\xfb\\xc4\\xd5\\xe5C\\xc9%N?\\x92\\xa4\\xb9\\x95~\\xb7\\xdbp\\x02\\xa9\\x1b\\xc4\\xd0\\xba\\x15\\xc1)\\xa1\\x05\\xc6\\x80\\x92\\x0c4\"t\\x83\\xef\\x9f\\x02\\'S\\x13x\\xd7\\xe3\\xe5\\xe1\\x9dX`\\x04@\\x88\\xe1$i\\xb4\\xfaUt\\x99\\xed\\x15\\x9b\\xdc\\x05\\x0b`\\x96~d\\x16\\xd3\\x9f\\xb8\\x10\\x0c[L5h\\xd7\\x14\\r\\x06\\x10T8\\xad\\x9d\\x00$ET\\x10UP@5\\x01\\x11\\x10\\x06f@F\\x92\\x184\\xc4u\\x12k\\x8d\\x0e\\xeddv\\xeb\\xedw\\xdby\\x9d\\xf2%\"\\xa2\\xa6)\\xbe]F_]\\x93\\xd5\\xa2\\xf0\\x02\\x00\\xd14\\xed\\'J\\xf9a0P\\x04[\\x0e\\xee#,5\\x96S\\x19Y\\xc0\\xd8\\xc0\\x08\\xc4\\xba0X\\xc0\\x90N\\xc4\\xdf\\xbb\\x17C\\xa7\\r \\x8b\\x8f30\\x07\\xa8)\\x08\\'L\\x8b\\xc4\\xb0\\xdb?l\\xbcXo\\xf6i;\\xb7:\\x07}!Ep\\xf2x9\\xb1\\xbcx\\xcb\\xf4\\xfc\\xfdY\\xf7{\\x94}R\\xaai9\\x00\\\\KL\\xe2~\\x82\\x9d\\xbc\\x81\\x9a)Z\\xd7a\\n\\xa6)\\x94X\\xc4\\xc3f\\nH\\x8c\\xe0\\xd2\\xdaFK>\\xb9\\x92\\x81v\\xc1\\xbe!\\xa2C\\n\\x06&*k\\x02\\xaf\\x01\\x00\\xa66\\xb9\\xbd\\x7f\\xe7\\x83\\x0f\\xa7\\xa31\\x00\\xd4u\\r\\x00\\xbd\\xaa\\x07\\x00\\xb3\\xd9,\\xd5u\\x9cs\\x86\\x1c\\xd0\\xa2j\\xe2U\\x9e\\xe7\\xd6\\x9a\\x8a\\xc4h\\xc2\\xd2uP\\x82\\x89\\x08\\xfa\\x1c\\xc5\\xc4\\x14\\xd5\\x80\\x92\\xb5A\"2\\x13A@Ud\\x8c\\xaa\\xddu/\\xa6&\\n\\xc8H\\x96l>`\\n\\xf5\\x80 ]\\xc2\\x00\\x10\\x00\\xd0 M\\x087fD\\xe4\\x89\\x93`\\x8d!$Y:\\nr\\xb2i\\xa1\\xd3\\xd6\\xe8\\\\\\xdc\\x14r\\xeb\":M\\x7f\\r*K\\x81\\x9ee\\xf1,%\\xa5V{\\xa7\\x96t\\xbd\\xe7v\\xb6\\xdcu|\\xbfS\\xdd\\xbd\\xc6\\x91\\x19\\xaa\\x98)\\xaa\\xa6\\x88\\x17\\x82iD@f\"T\\x95\\x18\\xa4\\x011v\\xcclAS\\xb7\\xa9\\xaa\\xaa\\x9d,y \\x030+\\xb8\\x00\\x80\\xd9t\\n\\x00\\x0e\\xe9\\xce\\x9d\\xab\\xf1\\x19\\x13\\xd6Y\\x13\\xf8\\xc1\\x08\\xf3\\xf9\\xf1\\xb5\\x9bG7o}\\xda_\\xb4\\x15%\\x8d\\xa5\\xb1Z:\\xcc\\xb0(\\xea.\\xfb\\x8d\\x80\\x10\\x10S\\xda\\xb9{\\x073Y\\xccy.m2u\\x05\\xd2\\xee\\x05\\'\\xfcD\\x8ch\\xd4\\xad\\x15\\xb2hj\\x80\\xce\\xba2)\\xac\\xbc\\xe7I\\xbd\\'=\\x85\\x0f=~\\x00H\\x15\\x1e\\xc2n\\xf8\\xbe\\xa3\\x90u\\xd95Xl\\x0f\\xbc\\x7fBy)0\\xf0\\xb0\\n\\x96B\\xd7\\xfa\\x9c\\x8cp\\x9a:J\\xc5\\xb3\\x08\\x96\\xd2\\xd1I\\xc3D\\x171\\x07\\xe1be\\xe1\\xc2AXF\\xfbw9)\\x08\\xa0\\xd6\\xccj\\x8dB\\xee\\x91\\x8d~<f\\xac\\t\\xfc`\\xc4ys\\xf3\\xcd\\x1f\\x1f}x\\xe3\\xd3~A\\xba2\\x8a\\xd0E\\xbc+\\xd5\\xa3.\\x89\\x85\\'\\xaf\\xc4\\xc5\\xfeNE\\xa0\\xe4!\\x13\\xaa\\x19\\xa6\\xab\\x1cM\\x17\\xae\\xb5.j\\xc9I\\xaf\\n\\xee\\xde\\xf7\\t\\x04\\x06\\x06\\xaa\\xe9\\x02\\xa7\\xae\\xbcuw\\x97E\\xf7\\xeb\\xdd\\x9fvO\\xf9v\\x85\\xdd\\xcb\\xc4\\xf2\\x89&\\xd6\\xca\\x84\\xf02\\xd6ED\\xba{5\\xccI[\\xcb\\xc3\\xb0\"\\xf4\\xd7Q\\xd7N\\xe4rl1,\\x9d\\x8a\\xc3H\\xdd\\x9e\\xf4el|?R\\x9a\\xddR\\xc4\\xd1\\xc6z<\\x915\\x81\\xd7\\xa8G\\x93\\xeb\\xaf\\xffh~|8\\xa86>\\xed\\xef.\\xf5\\xab:\\xa1\\x89\\xe5V\\x81\\x07\\xbd`U\\xc9=\\x95\\x8b\\x92\\x85\\x8aj\\x9c\\xd4\\xea\\x14\\x05\\x11\\x11\\x9dB\\nq;\"t\\x8cBD\\xe4\\xa5\\xca\\x14\\xa0\\x889\\xa5\\xe5\\xa2\\x16L\\xab\\xc2W\\x16v&\\x13\\x9a\\xa4[\\x97Ov\\x9f\\n\\x9d\\x0e\\x01@7\\xc3\\xd0)\\xfd`\\xb7\\xac\\xbb\\x9bm^8\\x01`\\xe0\\xd3\\n\\x18\\xbaW\\x19b\\xf5^\\x00+MZ\\xb2\\x12\\xdf\\xea\\xc2\\xde.\\xdf9e\\xa1ma\\x81\\xc1\\xba\\x05l\\xd65h\\x9f|\\x87\\xc9\\xf6.\\x8bd\\xe9\\x81\\x06\\x9d\\x8d\\'\\x12\\x82/\\x9e\\x15]\\x8e5\\x81\\x1f\\x00\\x15\\x19\\xdf\\xda;x\\xff\\xaa\\xb7O\\x97\\xc2]\\xc5\\xeaL\\xef\\xd2\\x97V\\x04\\xb4\\x93\\xec\\xd2\\xd2\\x02\\xdbJ\\xe3\\xa4X\\xe7\\x12\\'#\\xb9\\xec\\xf1\\xe8\\xd2\\xce\\xb6$\\xc3\\x8a/l]7e\\xca\\x90\\x19q\\xca\\x9c\\x11\\xde%Ui\\x8bj3\\x00 \\x92\\xdd\\xd3A\\xd5\\t\\xc9\\x9fPnU%o\\xb5\\xf4\\xba\\x1a\\xdc\\x92X\\x8a\\xa8\\xbb\\x15\\xc1w\\x97\\x94\\xee\\xb1\\xbe\\x90\\xda\\xb2\\xad\\x9b\\xb2\\x94N\\xec\\x1e\\x04m\\x99\\xcdZ\\x12\\xdb\\xc0`\\xb1Z\\xe5\\x9e\\xaf\\xb4\\xfb\\xe8\\xbb9\\x0c\\x00\\x16dz4z\\xa6*Ik\\x02?\\x00a:\\xbf\\xf5\\xe6O\\x0eo\\xdc\\xeaC\\xf1is\\x9a\\xcb\\xe8\\x17\\x16\\xcb\\xe6\\x97\\xb8\\xbf\\x83\\xb2\\xa3\\x99\\xad\\x085.\\x83=S4D\\x04\\x05T@Y\\x10)Y`XL\\xf3\\x18\"\\x1b\\x1a\\xa2\\x01&\\xb3\\x8c\\x0b\\xfbHz\\xef\\xc6\\xf0UW\\x99\\x99Viv\\xf2\\x82E\\xc6\\x08\\xba$4\\xa55\\t\\x9d6P\\'m\\xad\\'!n\\x88\\xcb\\xda\\xf8\\xea\\xa7\\xdc\\xf3`\\xf9\\xa3\\xe4\\x1b/2\\xcc)\\xc2O\\xba%\\xdd\\x0b\\xd2\\xed!1\\xbc\\xbb+\\xe1\"\\x06\\xf9\\xd8\\x8c\\xba\\xd8\\xf4x\\xfcL\\xf5r\\xac\\t\\xfc\\x00\\xb4\\xd3\\xf9;\\xdf\\xf9\\xb3\\xd1\\x9d;\\xfd\\xa2<\\x86\\x9f\\xff\\xd5\\xb0jo\\xbb\\xb4\\xf0\"\\x90\\xd34j\\xb7He%R+tF\\x18\\x16sv\\xcb\\x18x\\xd9#\\xad\\xd8\\xd9G3c\\x04R\\x15KK \\xd0\\xe0nc\\x08\\xf7=X\\xf9+\\xe2IOgJDw\\xc7|7\\x96\\xd5#\\x8b\\'\\x04^\\xe6\\xc9\\xee\\x7f\\xfd\\xaa\\x11\\xbe\\xe7{\\xe8|\\xe3\\xc5\\xe6\\nX\\x8c\\x07B\\x1a\\xae\\xc4\\x07|{\\xf7\\xe0\\xc4J\\xab\\x1d\\xde\\xbe\\xfdL\\x11x-j\\xf7\\x00\\xcc\\x8e\\x8eo\\xbc\\xf3\\xde|6\\xcd\\xb3\\x9fC(\\xb5*\\xf5\\xfcQ/\\xbb\\xfb\\xf5w\\x05\\x8d\\x0b\\xa3\\xb4j\\xd3\\x96E\\xa0\\xf4\\x1aX\\xda\\xb7\\x15A\\xd9{\\x08\\x03\\x00\\x0f$\\xd2\\x83\\x8fg\\xe5\\x95\\x0f\\xb6\\xe4\\xc9~.\\xa0w\\xe3\\x93\\xbc\\xf3=\\x86\\xfa\\x9e\\x0f]j\\xb8\\x7f\\x8aJ\\xb6\\xc0\\xd5\\xf7\\xdfk&\\xd3O\\xfe\\x1bO:\\xd6\\x16\\xf8^\\xb4\\xd3\\xd9\\xfb\\xdf\\xfd\\xfe\\xb5\\xf7\\xafT\\xc3\\xcd\\xfdzZ\\xb8\\xce\\x06*\\x02 )\\xa3\\xb13\\xa66\\xaa\\x02+\\x11 \\x12\\x98S\\x04SU\\x9d\\x0c|\\xa3Q\\xd8\\xcc\\xa3(\\xb5M\\xcb\\xc6yVdi\\xd1\\xa6\\x00\\x1bh\\x12|g@\\x83\\xb2\\xc6n\\xa1/S\\x12\\xbeK\\x1d\\x85\\xa2\\xc0H\\x04D@\\x88\\x0e\\x8dX\\x89\\x89\\xcc%\\xa2\\x82\\x9a\\x1at\\xadN\\x88\\x18\\xd3\\xe4\\x12!\\x11\\x03stl\\x0cD6oC2\\x8f\\n\\x18\\xcd\\x14\\r\\x98\\x88(\\xa8\\x1a\\x82\\x81\\t\\x1a0jg\\xd11\\xb6\\xc1\\xccP\\xcd\\x018\\x03\\x06s\\xa0\\xac2\\x9dM[\\x89-\\xa8\\x10\\xa8#\\xf5\\x18L\\x82H\\xbf\\xf0\\x88\\x88j\\xa6\\x02Q=q\\x99\\xe5E\\x96\\x03@;\\xaf\\x9b\\xa6\\x8e\\xa6D\\x84\\xcc\"\\x12E\\x98s@S\\x14a\\n\\xa8\\x01-\\x12E\\x82i\\x8c\\xadAc\\xd6\\x12)z\\xb6\\x0c\\xc0L\\x80(G\\x05\\x03TU\\xb1\\xd4\\xef\\r\\xc0\\x10\\xa55\\x03\\x06#DA]n\\xafp\\xef\\x7f0\\xdf?\\x84\\x17\\x9f{\\xdc\\xd7\\xd1#\\xc2\\x9a\\xc0\\xf7\\xa2\\x1eO\\xdf\\xfb\\xde\\xeb\\xf3\\xd1h\\x88N\\xe0\\x93\\x04^\\x0f\\x80-\\x86r\\xe1\\xe3\\x06\\x83\\xef\\xff\\xe9\\'1\\x8f\\x9f\\x1d\\x16\\xc7\\xf3\\x00\\xd3\\r\\x8b\\xe1\\x8dE/\\xa3j\\xe7\\xa8#\\x02\\x98\\xaa\\x99\\xa2@Pa\\x89D\\x94\\\\\\xe2.^X\\xeev[]\\x95\\x82x\\xb7\\x01\\xbe\\xeb\\xf4\\xbb\\xff\\xd3\\x14\\xf2\\x8b-w\\xc0\\x19\\x80\\x183\\xb3\\x01\\xab.\\xb5\\xed\\x01\\x00LgG\\xe3z4\\x8emp\\x99\\x7f\\x8c_\\xe3#\\xc3\\x9a\\xc0\\xf7b\\xba\\x7f\\xf4\\xc1\\x9b?\\x8au\\xc3ef\\x9f~ ~q=\\xae\\xb0\\xd7>\\x8a\\xc3\\xab+QV\\xdf\\xe4q\\x9d>.\\x9b7\\x1e\\x94\\x8bRU1\\x13Hb\\xeb*\"1\\x19?\\x03U\\x01QE\\xc5H\\x06\\xe0\\x9c\\x8b\\xc9\\\\kWp\\xd6\\xae\\xeb\\xab\\xf3h\\xee\\xfe\\xc6R\\xa3U\\x17\\xd9\\xdb\\xa2eeqL\\x8b\\x97\\xa3\\x92aJ\\xd4y\"6@JF\\x98\\x16j\\xb88m\\xda$\\xac\\xb3&\\xf0\\xb3\\x880\\xaf\\xf7\\xdey\\xff\\xf6\\xd5\\x0f\\x9d\\x02\\x899\\xc3O\\x9b\\x0fY\\x06qKF~\\xf4\\xa6\\xa2\\xbbJ5\\x9f&F\\xfd\\x8c\\xb08\\x9e{\\x83R\"J\\xe1\\xb8\\xa8\\x08\\xa0(DPQ\\rF\\xa9Q\\xcb@\\x05\\x04\\x15$B0\\xcd\\xd0\\x0cT\\x08l\\xb9\\x06)M,\\xa8\\xdabA\\xdb\\xca}\\xc1R$\\xd0\\xb1x\\xf9eRj\\xe5 F\\xf4\\x8a\\xac\\xca\\x88\\x9e\\xc0\\x81BT2C\\x03\\x06C\\x04\\xc0\\xae\\xe7\\xa4m\\x9b\\xe9\\xc13\\xa4\\xcb\\xb1&\\xf0]\\x98\\x1f\\x8e\\xde\\xfa\\xbdo\\xcf\\xf7\\x0f=\\x905\\xc1\\xe9\\xa7\\xceA/-\\xf02\\xfd\\x83\\xab\\xa3\\xfd\\xf7a\\x11\\xbb\\xdd5\\x1d\\xf1\\xf8\\t|_\\xeb\\xd5\\xb2Pdf\"\\xaa\\x84\\n\\xaa\\xaa\\x11\\x94\\x90\\x90P\\x0c$\\xaa\\x99E\\xb1\\x16\\xb4\\x90$\\xab\\x05\\xa0\\xa9\\xea\\xdb\\xe9r%\\x97\\x1b\\xba\\xad\\xa9\\xa8\\xddX\\x92J\"0,\\xec\\xf3b\\xb5jjG\\xf1f\\x84\\xc0\\xc8\\x1e\\x81\\x01<\\xa0H\\xab\\x00.\\x89\\x1f\\xa4\\xb63\\x00\\x04\\xabC\\x98\\x1c\\x1e>;#\\rk\\x02\\x9f@E\\xf6?\\xb8\\xf6\\xce\\xf7\\xbe\\xcfA3\\xa0X7e^6\\xf0\\xe9.\\x85\\xe5\\x15\\x8fK\\xf78M\\xc3=\\xe4NpB\\x98\\xbb\\x0b0\\x8fKS\\xb6\\xabH/\\x9c\\xff\\xe5I9\\xe7XeQ\\xac6\\xd5n}\\xb0.\\x86\\x96\\x14!\\x12\\x88(\\x82\\xb1\\x9a\\x08:fO\\x0c]uWSo\\xa7\\x06\\x05B[lrL\\xeeu*,\\xab\\x99\\x82\\xca\\x8a\\xb4\\xbd!\\x18\\xc8\\xa2\\xef\\x1bO\\xbe\\xa1\\x93.\\xccTG\\xc1e\\x9a\\xbf\\xd60=>~v*Ik\\x02\\x9f`~8z\\xfb\\x8f\\xfe\\xe4\\xe6\\xbb\\xef\\x95\\xec=\\x84\\x08\\xa1\\xe0\\xe1\\x18>\\xdd\\xba\\x9d\\xfb\\x8d\\xe7\\xa7Jb\\xad\\xf2\\xff\\xb1\\xe0a\\x16\\xd8y\\x9fRSK\\x07\\xbb\\x8b\\x93\\t\\xa1\\xcb\\x9f[T\\x0c\\xda\\x15w\\xc50\\x03DbDT11%\\x00&VH\\xc4O^\\x89i\\xd7\\xf9\\xacb*\\x88\\xddX?te$\\x00\\x88\"I!\\x0c\\x15I1\\x98QTR`\\x02PB0\\x02D0\\xea\\n\\xa2Z\\xab\\xcc\\xebzM\\xe0g\\x11\\xa3[w\\xde\\xfa\\xd6\\x1f\\x1f\\xdd\\xbc\\xfd\\xdc\\xc6.A\\x0c 9;\\xf8\\x94my\\x0fd\\xe0\\xc7r\\xd8\\xee{\\x13\\xf8\\xf4\\xf9\\xb3\\xcf\\x0eK\\x17z\\xe9S\\xa4\\x96\\x8d$\\x0f\\xd9\\xedF&T\\x02aT\\xd5\\xae\\xb3\\x1b\\x8d\\x08\\xd8`\\xd1\\x17\\x89\\x9d\\xd0\\x17a\\xb7\\xaa;\\xad#4\\x93n\\x12\\x18\\x8c:\\x99\\xb1\\xce\\x9e\\x12\\xb6m\\xcb\\x06\\x06\\x88\\xa2\\xa8H\\xc9\\xfa\\xaa\\x15\\xec\\xd2\\x9d\\xc0\\xd2\\x8d\\xa0;&V\\xb46\\xb6\\xaa\\x8f3\\x93\\xff(\\xb1&p\\x87v:\\xff\\xf0\\xcd\\x1f\\xdfz\\xf7\\x83\\xcd\\xde`z4\\xea\\x19\\x9f\\xcew\\xa7\\xe3\\x89\\xdf\\xf4\\xb0h\\xfd\\x13\\xb5\\xa4\\\\\\x17U\\x88\\xbdur\\xa7\\xb6l\\'\"\"D\\xf5\\xceG\\x82\\x8d\\xcd\\xcd\\xcd\\xed\\xad\\xbd\\xdb\\xb7f{\\x87\\\\\\xf5c\\xdd\\x88\\xa4\\x06cb&\\xce\\x9cf\\x0cL\\xdc\\xf0I{\\x93u)\\x9c\\xc4\\x0f\"r\\xe4\\xc8@U\\xa3*\\xb1c\\xea\\xda\\xa4R\\xf3\\x93.\\xd6\\x94\\xa8\\xaas\\x0e\\x16\\xb7\\x0f\\x11\\x81\\x85\\x82W\\x8c\\xe6\\xbdO#\\xbe)\\xc2\\x14\\xed6\\r\\xa52\\xb2,\\xdcW\\xe8\\x82RUU\\x10M\\xae-\\x00$!!\\xf4.\\r<\\x07\\xd0\\xba\\x99\\xb7\\x12\\x8d\\x91\\x9c\\x9b\\xcdf\\xce9\\xce3 \\x04\"!hcL\\x07\\xb0\\xe98wdQ\\xa3\\x8aHt\\x86\\x1a\\xa3\\xcb3\\x11i%\\x9a\\x820!\"2\\xa1\\xa0\\xaa\\x021\\x11\\xa1\\x99\\x9a\\x04\\x89\\xa6`\\x88\\x19\\xc4\\xee+\\x01 02DPDTi\\x1cX\\x86\\xcc\\x08\\xc4\\x04`f\\x11\\x00,\\xcf\\x8b~\\xef\\x11\\xe8\\xe9~N\\xb0&p\\x87z<}\\xff\\xcf\\xdf\\xd8\\xbbq\\x83\\xa6\\xb3B\\xc0\\xb1\\x07\\x00\\x01I_Q\\xca\\xcc2\\'O\\raEX\\xe3\\x1e\\xa4\\x0c\\x14\\x11\\x97e\\xb9\\xb5\\xb5\\xa5\\x12q\\xf6\\x88F\\xcc\\x97N\\xef\\xea\\xec\\xc1\\xcf\\xf7\\xcd\\xef)zY\\x17\\x08\\'\\x11jH\\x9b\\x19\\x95P\\r\\xcd,\\x9aFU^\\x1dKZ\\xdc\\xf2`%\\xcaM\\xe1\\xac\\xcf2@\\x8c\\xa9\\xd4K\\x88\\n\\x92\\xb6\\x18\"\\x00\\x01\\x9a*\\xa1 \\nY4\\x02\\xb5\\xe48+\\x1a\\x111\\x03\\x11\\x119DtU\\x0e\\x8e\\x9e\\x15\\xfb\\xbb&\\xf0\\x12\\x93\\xfd\\xc3\\xabo\\xfddr|\\xdcWb`\\x00\\x10\\x91\\x00\\xc1\\x8c\\x97e\\x1eD2\\x02G\\x8c\\x08mxp\\x94\\x95\\x8a\"`\\x94\\xe7\\xf9\\xce\\xce\\x8ec\\x8a\\xc7S\\x9c\\x7f\\xe6{k\\x1f\\xc8\\xde\\x9f\\xa3!Z\\x12\\x98\\x16H=\\x9e\\x94\\x06/T\\x919u\\\\!S\\x9aw\\x88*A\"\\x19\\xa5V-PC\\xe2\\xa5\\x8c\\x8et=\\x1a\\x9d\\xf7\\xe1}&\\xaa&\\x92\\xd6\\xd3 #&\\xcd\\x10L\\xd9i4 C\\x10%F\\x14S\\xcf>\\x9a\\x00\\x00\\x11\\xb0w\\xde;\\xc8<3\\xf7\\xb6{\\xe6\\x9c\\xd9\\xb32\\x90\\xb4&0\\x00\\x80\\x84\\xb8\\xff\\xe1\\x8d;\\xd7o8\\xe2^V\\xbaF$JL\\xc3\\xe5)\\x1dBh\\x84\\x80]U\\xf3#\\x02T\"\\x12\\xd0\\x10B\\xdb\\xb6\\x88XUUUU\\x16>\\xf3\\x9c\\xcaj;\\xf1\\xea<\\xfd\\xcf\\xeb\\xfdU\\x15\\x08\\x89\\xc89\\xc7\\x91Q\"\\x80\\xa9*\\x19\\x98(\\xb0\\x82\\x129r\\xe8XbTA\\xc36\\xc6\\xb6m3\\x973\\x92\\x1a\\x98(\\x03\\x87\\xbbe\\x03\\xd2.o\\x03\\x08\\x12\\x83\\x99$\\xe2!\\x12\\x12\\x11\\xa2\\x91\\xa1P\\xda\\x9e\\x8c\\x04H\\x08\\x98\\xb6\\xb2Z\\xeeS\\xb8\\xa0L\\xe6\\x19\\xcb\\x82\\xf3\\x1c2\\xee\\xf5\\x07@\\xb8.#=[h&\\xb3w\\xff\\xfc\\x07{\\xb7o!@\\x9e\\xe7\\x1a\\xe6\\xc1b\\xc9>\\x87r\\x1akD\\x04\\xc3$c\\xa3\\x80j i\\xd8\\xeeAHQ\\\\\\xdb6\\x87\\x87\\x87\\xfb\\xfb\\xfb\\x8e\\t\\x11}\\x96\\x85\\xcf\\xf8\\x14V\\xb9\\xba\\xda;\\xf5\\xf3z\\x7fUEb\"bf\\xe7\\x1c\\xc5\\x90D9\\xd9@\\xd50*: \"\\x0f\\xd02\\x93\\x90\\x98\\x85\\x10\\x82\\x91q\\x964x!*\\x13\\xb4\\xa9\\xb1\\xbc\\xd3\\xdf8q\\x16\\xe6\\xf3\\xb9y\\xef\\xbc\\x03B3\\x8d\\x80L\\x04Lj\\x01\\x11\\x89\\x98\\x88\\x91\\x88\\xd8\\xa5\\x1c9\\x16\\x85\\x81(\\x182b\\x9eI\\xe9\\xa5,\\xc8\\xfb\\xcc\\x95Ml\\xda\\xa6\\xfd\\xf9: \\x9f[\\xac\\t\\x0c\\x00\\x80L\\xe5\\xe6@\\x9d\\xaaA\\x90\\x08\"\\x08F\\x8e\\x1d1hm\\x96\\xc4j\\x0c\\x10\\x04@\\xd4\\x94\\x10\\xe9\\xc1_]*\\x99B\\x0b\\xc7\\xc7\\xc7\\xd7\\xae]+\\xf2L\\xe6\\xf3\\rz\\x14\\n/\\x0f\\x9c\\xe9\\xf99\\xbe9\\x02P\\x1a\\x95HkM\\x14T5K\\x93\\x8e\\xa2dFH\\xc6\\xc4\\x91S)9\\x86\\x10\\x8c\\xd0\\x8c!M\\xeb+\\x9ch\\xddu\\xdes\\x97\\x1d\\x04kc({U>\\xe8\\t\\xe2\\xa4\\x9eK\\x88\\xc4\\xec\\xf2\\xac\\x95\\x86\\x91\\x92\\xc2\\x88w\\x8e\\x99\\xd89$\\xc3<\\x07Tf\\x00\\xc7\\x903\\xe4\\x99\\x14\\x999\\xe7,\\x9b\\xce\\xa6M]\\xab(?\\x03\\xc2:k\\x02\\x03\\x00\\x94\\xc3\\xfeW\\xff\\xe6_}\\xe7[\\x7f\\xf2\\x17\\xff\\xc3\\xff\\x14\\xdb\\xc8\\x00Ll\\x84!\\x04\\x97;H\\xf2.\\x98\\xf4\\xd2O$\\xdd\\x1e\\x88\\x10BQ\\xf4\\xb2,\\x9b5\\xf5\\xde\\xde^\\x9e\\xf9<\\xc2\\xa07\\xf8\\xacO\\xe1\\x11\\xc4\\xc0\\xcb\\xec\\xf7B\\xd7\\xde\\xba$\\x96\\x99\\xa1\\x02\\x80#2>Yz\"\"\\x11\"\\xa4\\xdd/j$I\\xc8z\\xf9np\\xf2\\x07\\x80sn0\\x18l\\x9c\\xda\\tf\\xf1p\\x7f~<V\\x04\\xe7\\x9c\\xb2\\'\"\\xc7\\xc4\\xce;\\xe7\\xd9\\x91s\\x0e\\x19 c\"\\x04O\\x909\\xcc\\xc8\\xbc\\x0b\\x9e\\x91\\xa1hq6\\x9f6\\xf5\\\\%>\\x0b\\x04^\\xcf\\x03w8u\\xf9\\xc2\\xaf\\xfe\\xe7\\xff\\xf1\\xa9K\\x17\\xd3\\x05\\xea\\x9cS\\xd5i\\x989\\xe7\\x92\\xd3\\x98\\xae\\xcb\\x8f\\xa5D\\x8c\\x91\\x99\\xb3,\\x03\\x80\\xd9l6\\x1a\\x8d\\xe6\\xf3\\xb9<\\x92\\xbe\\x82{\\xbch\\xf8l\\xb2\\xd0\\xab\\x9be\\x12\\x81\\xb1\\x1bG0D\\xa4\\x93D5\\xaa*\\xa8B\\xda\\x9c`\\x902^\\xb6\\x98\\xd4\\xbf\\xe7\\xcd\\xb3,\\xeb\\xf5z\\x9b\\x9b\\x9b\\xbd\\xe1 \\xcb\\xb24\\xc8\\xbfL\\x98139&O\\xe4\\x1df\\x84\\xde\\xa1c\\xcc\\x1c\\xe6\\x9e\\x0bGE\\x06\\xb9S\\x07\\xc2h\\x00uS7\\xf3\\xb9<\\x1b[\\xce\\xd6\\x16\\xb8\\x83\\xcb\\xb3S_|\\xb1\\xf8\\xe5\\x17\\xde\\xe3\\xfd\\xd9\\xc1\\x016\\xf3\\x8c8\\xccgC\\xc0Nl\\x19\\t\\x155\\x8a\\xb4\"\"\\xe4\\x16\\xfd\\x80HB\\x90V\\x86\\x18\\x82\\xef\\x95\\xe3f\\xde\\x82R\\xee\\xf3~uzg\\xb7g\\x14\\x8f&\\xde\\xc0\\x01z\\x03o\\xe8\\x8c\\x10\\x18\\xc0\\x19\\xd0\\xccEU\\x95\\x18c\\x8c\\xa0F\\x06\\x1e\\x89\\x00\\x8b,g\\x042a@&\"FC\\x15\\x0b\\xa6\\'\\x8a\\x19\\xab\\xf2\\xcb\\xf7\\xcb\\xca%\\xa4{\\x87\\x99%\\xbf\\x97\\x99Eb\\x8c\\x91\\x98%M\\x13/\\xc6\\x8e\\x12\\'sE3\\x123\\xb1\\x13\\xb99@,\\xca\\xd2\\x88\\xc0\\x8c\\x00J\\xf6\\xe6r\\x17\\xb4\\x05|\\xfd\\xb4\\xf1\\\\\\x87\\r\\x9cm\\xe2\\xce\\xb1\\xf4\\xc8O\\xc5\\x1dJ~-\\xb4uU\\x1c:\\x98\\xdax\\xcb\\x15\\xfd\\x9d2\\x9b\\xba\\xd1\\xb4\\xc9j\\r\\x06\\xb9#\\xc9\\xdd\\x04t\\xa4\\xcd\\x98\\xb4.\\xc1\\r{\\xfe\\x95\\xd3a\\xb3\\x7f\\xf5\\xca\\xd5\\x0f\\xe4\\x08\\xb7\\xd8\\xfb\\xfcN\\x98o \\x01\\x9a\\x92\\tj A\\xc7\\xe4\\x80\\x19\\xd1\\x1130\\x80\\x13\\xe3V)\\xa6nT\\x98e\\xb5\\x18\\xc5\\xd0~\\xb4\\xa8\\xc0S\\x835\\x81O\\x80\\x84\\xae\\xcc\\xcb\\xb2\\x84\\xaa\\xa2Ls\\xe4\\xe8\\x98kV\\x856\\x06P#`G\\xe4\\x8b<Cl\\x83\\x18 .\\xca\\xc2F\\xa9\\xdb\\x0f\\x96\\x03wy\\xafx\\xf1\\x95/\\xbc\\xf6K\\xbf\\xd4\\x1e\\x1c\\xbf\\xfb\\x87\\xdf~r\\xaf&Zl[C<I\\xbf/\\xa7p\\xbb\\x10\\xf7D\\xe0j\\xe1f\\x03:\\xa2`\\x8a\\x0b\\xf9.\\x00H\\x15%\\xef\\x9c\\xba\\xae\\n\\x85\\xcc\\xbd\\xb2\\xea\\xf7\\x8b3/<\\xef\\xfb\\xbd\\xc9d2\\x9dNE\\x84\\x88\\xd2F%pw\\xeda\\xfe\\xf8\\x7fDD\\x91P\\xcf\\xe7\\xb6&\\xf03\\x05\\x892\\x19\\x8d\\xa6\\x93Q\\x9e\\xe7~8d\\xb1\\x92}hJ\\x9cch\\xdbv\\xde\\xb4u\\x83\\x1a\\xcc<2:\\xe7T\\xd4RN\\x0bU\\x90\"t;\\x17\\xa2J\\x00\\x8dh\\xfd\\xa2\\xbc\\xfc\\x85/\\xfc\\xe2o|ct\\xf3\\xf6\\x95?\\xfd\\xde\\x03\\xcb\\x1a\\x9f\\xdb$\\xa9\\x9d\\x0c\\x14vPU\"\\x84\\xc5\\x96&D$D&b4\\x02$3\\x01\\x8b*Bl\\x00]\\xd0\\x01\\x86\\xa6\\x90*\\xc0\\x06FI\\xa2\\x0b\\x9d\\xf7\\x92\\xb1\\xc6&\\xaadEV\\xee\\xee\\x94\\xbb\\x9b\\x1b\\xbb;\\xb7\\x8e\\x8e\\xae\\xdc\\xb8vpp\\x10cDL\\xdb\\x9d\\xd2p\\xf2\\x03t\\xb6>\\xe2\\xe0U54\\xf5\\xda\\x02?[h\\xe7\\xf5\\xde\\x8d\\x1b\\xf3\\xd9$\\xcfs\\x04p\\n\\x95\\xcfc\\x91\\xb9~\\xd6\\xb6\\xed|2\\x9dO\\xe7\\xb1nL\\xa0\\xc5\\x18\\x15\\x94-\\x02*@4\\x0b\\xa0b\\x1a\\xc1\\x04b\\xabbL\\x86\\x18U}\\x96W\\xfd\\xben6Y\\x91\\xdfC`L\\x9a\\xb1\\x8f\\xfb\\xac?\\x16K\"\\xab*(2\\xa2\\x19\\x10 \\xa7\\xf5\\x88Hl\\x9d&\\x86\\xa9\\x05\\x95\\xa0\\x02LL\\xec\\xd9\\xb1\\x8a3$5\\x1354@D\\xa6\\xa8\\xd11\\x01bT\\x11\\xb0\\xac*\\x06\\x9b\\x1b\\xbd\\x9d\\xed\\xab\\xd7\\xaf]\\xbd}\\xfb\\xe6\\xfe^\\x1b;\\x85Z\\x87\\x9a\\x17\\x05hk\\x0f\\xc2G\\x1c\\xb3\\xa8\\xd6\\xf5|M\\xe0g\\x0b\\xd3\\xf1\\xf8\\xbd\\xb7~4\\x9fO+v\\xe0\\x1d)p\\xe6\\x91\\x0c\\x84\\xbd/\\xd1;_\\x15q\\xde\\xb6u\\x13\\x82\\xa8\\xaa\\x06R@1\\x15\\xc3`\\x12L\\xa2A\\xd24v\\xde\\t\\xe8d>\\xd9\\xdf\\xdfo\\xdb\\xd6\\x0c\\x1eVs\\xfa\\x1c\\xc2\\x1e2\\xb9l\\xd2\\xf9\\xd0\\xc4\\x946z2\\x92\"e\\x86hH\\x80j\\xd6H\\xf4\\xc4\\xec\\x88\\x9c\\xcb\\xc4\\x15!\\xb6\\x1a@\\x15H\\x8d\\x0c\\x08\\xc1\\xb1\\x04\\r\"\\x11UL]\\x9eU\\xc3A\\xde\\xab\\x84\\xe0\\'\\xef\\xbe3n\\x9a\\xa8\\x9a\\xf2\\x7f\\x1a\\xa2\\x99\\xd1B\\x1e\\xfb\\x93W\\xb6\\x11\\xd14\\xd6\\xf3\\xd932\\x90\\xf4\\xc4\\\\X\\x9f5\\xc6\\x87G\\xb7\\xae\\x7f\\x18\\x9a\\x06K\\xdf\\xa9\\xba\\x98\\xaaY\\x13[\"\\xe2\\x82\\x8b\\xbco\\xa5\\xe4Mh\\x9a&F\\x9dN\\xa7\\x04\\xa8bjb\\n\\xaa\\xa9\\xa1\\xd0\\x08\\x9c\\xcb|\\x13\\xdb6\\x04Qafdb\\xef\\x1e\\xdb|\\xe0\\xcf\\x03i\\xa0\\x02\\x05\\x8d\\x08\\xd5\\x08\\x90\\x11\\x1d\\x91\\x119\\x05Bb4U\\r$\\xc1\\x14\\t\\x9dsyp\\x19\\xb17TU\\x1234E$&\\x8a\\x18U\\xea\\xa0J\\xd8\\xdf\\xda\\xd8<\\xb5\\x03\\xb9\\xdf\\x1f\\x8f\\xea\\xd0\\xe6\\xbd\\xaa\\xf2N\\xc4B\\xd3\\x8a\\x1a\\x01\\xc6\\xa6\\xf5|\"a\\xbf\\xeaH\\x7f\\xc4\\xd1J\\x94z6}F\\x9a\\xb1\\xd6\\x04\\x06\\x00\\x88!\\x1c\\xdf\\xd9\\x1f\\x8f\\x8e\\x92\\xa3\\xd7\\x89\\x98\\xabF\\x95\\xc8FDi\\x05\\x19\\xa2#\\x02\\xc7\\x081\\xfa\\xb4jS-\\x13\\x15\\x8dN\\xa2\\xaa\\x9a\\xa9\\x07\\x97\\xec\\x8c\\xf3\\xd9\\xd9\\x8b\\x17\\xb7N\\x9fb@\\xf6i\\xa4\\xe9\\xae\\xd8\\x12\\x01\\xd0>\\xed\\xb4\\xe2\\xa3\\xc3RH\\xbd\\xbb\\xf3\\x88\\xa6rn\\x1a\\x07fC64\\xa0L1\\xedlR\\xb0`\\xda\\xa2z\\x04\\xc7\\xec\\xd9e\\x812\\x81\\xa8\\x86\\xa2\\xc6\\x06D\\n\\x90e\\xbe\\x05\\x0b\\x12)\\xcf6wwv\\xce\\x9c\\xbe\\xdd\\xccn\\xdf\\xdc\\x1flo\\xe6\\x83A\\x8cq\\xff\\xcea\\xdb\\xb6e\\x96;\\xe3\\xa6\\xae\\xcb\\xb2\\x93\\x04\\xf8\\x84.t\\x1a\\xa8\\x9a\\xcf\\xa6\\xb1\\xfd\\xac\\x9b\\xdf>\\x17X\\x13\\x18\\x00\\xa0\\xad\\x9b\\xe3\\xfd;M=GD&2\\xc4t9\\x8a)We\\x9am\\x11\\x11\\x01\\x15\\x8b\\n*hTz\\x07(\\x12Q\\xd4)\\xc4\\x88\\xa4b\\xaa\\x04^\\x11\\x82i\\xaf\\xea_\\xbc|y\\xb0\\xb5a\"\\xe4\\xdd\\xe77au7\\x92P\\xc6=k\\x10R\\xcd\\x17\\xcc\\xd8\\xba\\xa44\\x032\\xa0\\x01f\\x86\\xaa`\\x06\\xe9\\xac#\\x98\\xa6\\x96i@\\xaf\\x98\\t\\x80\\x01\\x8a\\xa1\\x81 \\x00#\\xa1\\x03\\xd1\\x08\\xc6\\x99\\xaf6\\x06\\xbd\\xcd!\\xdc\\xa9\\x0fg\\xe3rc\\xe0\\x8ar~||4\\x1eY\\x88\\x1b\\xbd~\\x86\\xbe\\x9e\\xce\\xcc\\xe8\\xd3\\n\\x83\\x9aY]\\xcf\\xda\\xf63\\x1f \\xf9<`M`\\x00\\x80z:{\\xf7G?\\xca\\xd9q\\x7f \"H\\xe4\\x9c\\x13S \\x0c\\x16\\x08\\x10\\x8d\\x08\\xc1\\x1c\\x10: As\\xb1i\\x01\\x81\\x9c\\xf7\\xa6*\\xec$XD0\\xb5\\x16\\xeb\\xb6\\xc9\\x8a\\xbc\\xacz\\x1b\\xdb[e\\xbf\\xb2(.\\xcb}\\x9ec\\x08fJ\\x88\\x9e\\x9ds>.\\xc6\\xd9WM\\xca\\xaa\\n\\xcfr\\xc3\\xf6\\xf2\\xc7\\xbah\\x01[\\xf6E-\\x7f\\xab[\\x86\\xb2\\xe8\\xafXj\\xbb\\x07\\xc1\\xe58>\\xac\\xfct1\\xc6l\\xcb\\xbd\\r\\xe9\\x1dxQO>\\xd9\\xf6\\xb2\\x14\\x94\\rQ\\x01\\x1d\\x92s\\xce\\x01Z\\x88\"\\xda\\xcb2\\x01i\\x15BlZ\\xd3\\xb9\\x04/\\xc1k\\xe6\\xd9\\xf5|n>L\\x9aylB\\x83X\\xf8\\xca\\xe7ya\\xee\\xe0\\xce\\x9d\\xc8v\\xfa\\xcc\\xa9\\xe1\\xf6\\xd6\\xf1|:j\\xe6\\xc3\\xed\\xad[G\\x87\\x93;wf\\xb3\\x99\\xf7\\xbe\\xaczf\\xd6\\x86\\xb6\\xca\\x0b\"E<9S[\\xecLT\\xd5\\xb42yy\\xa8DI\\xd4\\xae-\\x8a\\xa2\\xa9g\\xf5t\\xba\\xdc\\xd8\\xf4\\x14\\xe3)?\\xbdO\\x88f:;\\xba\\xb3\\xd7\\xb6\\xcd\\xc9\\xce!B#D\\xa24.\\xa3 \\x02\\xa2f\\x02b\\x08\\n\\x92\\x16\\x7f\\x1a\\xaa@zR\\xd3vL\\x01C\\xc7u\\x0cE\\xaf\\x7f\\xf6\\xe2\\x85\\xac(\\xc8\\xb1\\xcb\\xb2\\xf4S\\xb8{\\xbf\\xde\\xc3\\x123\\x8f\\xa6\\x0b\\x7f\\xb5w\\xfa#^F\\xd6\\xfd\\x07\\x00h\\x90\\x02\\x0c\\\\\\x18\\xe1\\\\13dDC\\x14\\x84\\x98\\xb6\\x93\\xa9\\xb2\\x81Sp\\n^\\x81\\x01\\x01@\\xcc\\x02Y\\x1dZ#\\xf4e\\xe1\\xcbB\\xc0&\\xf5|4\\x9bL\\xdaz\\xd2\\xcc\\xeb\\xd0\\x06\\x151\\r!\\xd4u\\xdd\\xd6Mh\\xdb\\x07\\x1e0\\xdc\\xd7\\xf8\\rw\\xc7\\xc6m\\xdb\\xb6M\\xa3\\xcf@3\\xd6\\xda\\x02\\x83\\x8aL\\x8e\\x8f\\xa7\\xa3c\\x0bQ\\xbb\\xed\\x96\\xdd]=\\xc9R\\xa4u\\xdb\\x8b\\r\\x9b &fh&\\x9a\\xd6\\x08\\xa1\\x1a\\x82X\"\\xb9\\x1a0z\\xa7\\x8d\\x9d9{a\\xe7\\xcc\\xae\\xcf<\\x18\\x14e\\xb9\\xd4[\\xa6\\xbb\\x07\\xe2\\xef!\\xcf\\x03e\\xa2?\\x0b\\x98Y\\xb7\\x88\\xf0\\xde%\\xa3\\x00\\x0f\\xf2Y;\\xea.\\x1c\\xe9D`\\x87\\xe4T\\r\\x90 i\\xeb`$\\x88h\\xaa\\xea\\x013\\xc3\\xc2(\\x18\\x89\\t\\x00\\x04PQ\\xa9\\xdbFL\\xf3\\xb2\\xe8\\r\\x07y\\xbf\\xd2Y;\\xd7\\xd8\\x9a\\x8c\\xe73\\x054B3TQUc\\xe5\\xc5=\\xee\\xde,\\xf4\\xea8\\xc4\\xb2)-\\xd9Z3 \\xc4\\x10\\xda\\xa6\\x9e\\x8b\\x88\\x83\\xa7\\\\\\x1dzM`\\x08M{t{o6\\x9d\\x98(\\x80\\xd2\\x89*;\\x18\\xa2jL\\xbbtSO\\xa1\\x99\\xa4E\\x01\\x0b\\x01T\\xed\\x1a\\x90\\xb0S\\xb7\\x89`\\x8e\\xc9\\xe5\\xe5\\xab\\xaf\\xbd\\xd6\\x1b\\x0e\\x00\\x00\\t\\xfb\\x1b\\xc3\\xa5Pt\\xea%&D\\xb9{\\xbb\\x18\\xac\\xac\\xc9~4\\x04\\xb6\\xd5?\\x1f\\xe2\\x0bP\\x12\\xb3\\xb2N\\xc2\\xae\\x9b\\xa5DC\\xeb*I\\xde\\xcc\\x00\\x1d\\x12\\x11\\xb5\\xaa\\x08\\x16DZ\\x8a\\x05x2\\xf4\\x86\\xde\\xb0%\\x8cfb\\x1aU\\xd4,\\xaa\\x16L\\xd5\\xa0\\xdf\\xdf\\xdc\\xc8\\xa0\\x01& \\xca{=5\\x0c\\xf5\\x1cT\\x11\\x81\\x88\\x189#\\x06\\x10{\\x08\\x92\\x9a\\xb4\\x19.\\x9c\\xea4\\xc8\\x01D\\x14%NG\\xc7*O\\x7f\"zM`h\\xe6\\xf5\\x8d\\x0f>\\x90\\xb6\\x01=\\xd9\\x95\\xd7u\\xdb#\\xa8(\\xa2)\\x00)-\\x8aEb\\x86`\\x82\\x90\\x96\\\\\\'\\xdd\\x083\\x13TQ\\xa0 \\xf1\\xd4\\x99\\xb3\\x7f\\xe57\\xffZ\\x7f\\xd8\\x874g\\xb3\\xbd\\x85t\\xb2q\\xb7\\x8b\\xdc\\xec\\x01\\xadE\\x8f\\xcc\\x02\\xc3}U\\x99{\\xd8kw7\\x8aa\\xda\\xc7\\x9b\\xda\\xaa\\xd4\\x10\\x80\\x013\\xe2\\xccT\\xd3\\x0c\\x03\\x93\"F\\xb4\\x08*\"\\x8e3\\x00\\xca\\x802\\xa0\\xda\\xd4\\xcc\\xa2\\xaa\\x98de\\x01M-f\\xe4]V\\xe4\\x82\\x00\\xce\\x9d9{\\xf1\\xd5\\xaf~}4\\x1e\\xbf\\xf1\\xc6\\x9f\\x1fM\\xf7\\x9c\\xa2um^\\xa4\\x16\\xef\\xef\\xc4\\x82\\xd4X\\x82\\x906C%y0\\xa24\\x9f\\x88\\x88\\x18c8>:\\x08m(\\x1f\\xf3\\xc5\\xf5\\x99cM`h\\xeb\\xfa\\xe6\\x95+\\x1aN\\xee\\xd6\\x02fI\\xe4I\\xd4\\xcc\\xb0\\x1b\\xb6Q4T\\x95$F\\x0e\\x9d\\xf9\\xd2\\x13K\\xb6\\xdc\\xa9\\x87\\xf8\\x0b\\xbf\\xf8\\xcb\\xcf\\xbd\\xf8|z7\\xf6ncw\\x87\\x88Rj\\xf7\\xa4\\x89xe\\x14\\x01\\xba\\x11E|\\x94.\\xb4\\x9d\\x083\\xdbR\\x95:\\xdd\\xb9Ve2W\\x1fwzwl)]\\x0fHl\\xe8\\x81\\x88(\\xed3V\\x80DTtH\\x80\\x1e\\xc9\\'\\xf9<\\xb3\\xa8\\x12#\\xe4U\\xdf\\xe7\\x99\\xcb<9nb\\x88\\x12\\x7f\\xf1k_\\x7f\\xe1\\xd5\\xd7\\xce_\\xbe|\\xb0\\x7f0\\x9b\\xce\\xfe\\xfc\\xceAh[`F051\\xb6$\\x7fyO\\xac\\xab\\xaaH\\xd8%\\xe4\\xee\\xb3\\xc0m\\x94\\xd1\\xd1\\xe1=!\\xf4S\\x895\\x81\\xa1\\x9eL\\x0f\\xf6n\\x9b\\x99\\xa3\\xbb\\x07}\\x10\\x14\\x04M\\x0c\\x08\\x0cH\\xc1\\xc4\\xb0[\\xf3\\xa9\\xa8\\x86\\x80\\x00F\\x06\\xa8\\xcb\\x84n\\xf2\\x84\\xf97\\xfe\\xfa_\\xdd>\\xb5\\x9d\\xde\\x9f\\xbd\\xab6\\x86\\xe0<<H\\x14\\xee\\x81\\x85\\xcd\\xc7\\x18\\x03?\\xf0\\xc5K\\xf3K\\x0b\"\\x11 \\x01\\x1a\\x11k\\xa7s\\x93$fS\\xfd\\\\@R\\xbb%wB8\\xdd\\xb4\\x83\\x98\\xb618\\xe7\\x06\\x1b\\xc3\\xb2\\xd7\\x8b\"\\x9b\\xa7\\xce~\\xedo\\xfc\\xed\\x8b_z\\xa5\\xa8\\xaa\\xd3\\xc7\\xa3\\xaf\\xfd\\xf2\\xd7\\x7f\\xf2\\x837\\xea\\xe6\\xc89G@\\x16O\\xee\\x8f\\x1f\\x1d\\x03\\x9f\\xbc\\x0c\\xbbY\\xe5\\xe9d\\xdc\\xd6\\xf5\\xe3\\xba\\xa8\\x1e\\x19\\x9eu\\x02K\\x8c\\x93\\xa3\\xa3\\xc9\\xf8\\x98\\x88P\\xbb\\x95(\\x96\\xb6\\xefj\\xea\\xc474A`\\xb3n\\xf2\\x15\\x96\\xc6\\x16\\x04\\x00\\xd3\".3\\xa3\\xb4/\\x80\\xb0\\xc8\\x8a\\x97\\xbf\\xf4\\x05\\xbfX\\xae\\xc5\\xceU\\x1b\\x03\\x9f\\xf9\\xf8\\x90m\\xbd\\xf7<\\xf9\\x88\\x85`>a.z\\xf9\\x9a{v>%\\xfb\\xdce\\xe6\\x0c\\x96+\\x04\\xd3\\x93i\\x12\\x18\\xba\\xb5\\xdd\\xa6\\xaa\\xb3\\xd9\\x8c\\x9c\\xeb\\xf7\\xfb\\xbd^O\\xb666\\xce\\x9d?{\\xf9\\xb9\\xc1\\xe6&\\x12\\x0eq\\xe3\\xd2\\xa5\\xe7776\\x8ffu\\xe1\\x0b/\\xa4\\x16\\xe3}\\x9b1\\x1e\\x9e\\x7f>\\x113\\x00\\x80\\xe9t4\\x9fLD\\x84\\xf9i\\x1e\\xeb\\x7f\\xd6\\t\\xdc\\xd6\\xcd\\xd1\\xde-G5rMh\\x1a\\r\\x0c4U3\\x14\\xcch\\x86\\x08@\\x92\\xdcK#3S %\\x8b*\\x06\\xe9\\xaf\\x0eM\\xbc\\x11\\x9a:\\xd5\\x91\\xb4_\\xfc\\xd2\\xe5\\x8d\\xcd\\xe1\\xea\\xa7\\x0c\\xb6\\xb7\\x8a\\xe1\\xe0\\xc8n\\xe6\\xfd\\xc1\\xb0\\xe8\\xcfF#\\x01\\xcb\\x8a\\xbc\\x15\\xab9\\x89\\xba)\\xab\\x91!)\\x92\\xa9\\x03\\xc8\\xbd\\x83\\xa5\\x99!L\\x84 \\xa2N\\xdcy\\xe9&,\\x90t\\xa1\\x97X^\\xdc#\\xaf\\x8c1G\\xaa\\x9c+\\x9c#!\\'\\x92:\\xa3\\x10P\\x89\\x18!\\x82\\x19\\x98\\x9a\\x8a\\xa9\\xd7\\x13Z\\x88*&\\xf9\\\\\\xb56\\xb4\\xe9&\\x15@\\x95\\xd0{\\x8f\\x84\\n\\xb8\\x81T\\x88\\x90\\x19Du\"\\x91 sFl\\x13\\x9d\\x0fz\\x99\\xf3\\xa5\\x1b\\x85~\\x1d3\\xb1\\xcd\\x995\\xb1=\\xce\\xac\\x7fzgp\\xe1B;\\xdc\\x0cE\\xff\\xf9\\xe7_\\xe8om\"!\\x00\\xf8<\\xbbp\\xe9b\\x0f\\xf26\\xcf\\xa66\\xbf>?\\xda9u\\xcaO\\x10\\t\\x0c\\x01R;\\\\\\x12r\\x073P2P\\x15\\x15\\xf3\\x84\\x06\\xc4\\x8cD\\xb4\\x89\\x11\\xe7\\xc7=`j\\xa6\\xf5d,!<\\xdd\\x04~\\xd6\\xeb\\xc0\\xa1\\xae\\xef\\xdc\\xbc>\\x9f\\xcdVo\\xe7\\xba\\xb2\\x0e\\xf3\\x84-w\\xa7@\\xe1A:rf\\x96g\\xf9\\xf3\\xcf\\xbfP\\xf6\\xaa\\xe5\\x8f\\x10\\xb1\\xe8W\\xfd\\xcd\\r`\\x0e\\x12ED\\x1fnb\\x97\\x89\\xe8\\x9f\\xd7\\t\\xde\\x9f\\xfe\\xf9\\xe8\\x18{\\xf5\\xf5\\xcbW\\xde\\xf3+\\x0fK\\xbc\\xdd\\xff\\x9a\\xe5\\xf3\\xd4Ik\\x03;\\x97We\\x96eY\\x91\\x9f\\xbd\\xf4\\xdc\\xee\\xf9sYY,\\x7fksg\\xeb\\xf4\\x99s\\xa9w\\x85\\x99\\xe3\\xdd\\xfd\\xcc\\xf7\\x9c\\xcb\\x03\\xb1|q\\xdb4\\x93\\xe3\\xa3\\x18\\x9e\\xf2D\\xf4\\xb3N\\xe0z6\\xbb}\\xed\\xca|>\\xbd\\xe7:X\\xda\\xb9\\x94#Y>\\x88v\\xf2W3K\\x7f\\x95\\x15K\\xd8\\xabz_\\xfb\\xfa\\xafT\\xbd\\x93\\xf4\\';.\\xfa\\xbd\\xadS\\xa7(sm\\xdb\\x06\\x89\\xb6\\xaal~7\\xb5\\xe03p\\xa1\\xef1\\xd7\\x1f\\xfb\\x11\\x0f\\x0c\\xc8\\x17[\\x91\\x1e\\xa0\\x98\\xb7J\\xe0\\x94ZO\\xd9\\xe1\\xf4#G\\x0b\\x11\\xbc\\xee\\xeb\\xa0\\xaa\\xdf+\\x06\\xfd\\xac,\\xb7\\xce\\x9e\\x19\\x9c\\xdaY\\xfd\\xac\\xe1\\xd6\\xe6\\x97\\x7f\\xf1\\x17\\x88XU\\xb3,3\\x91\\x07\\xde8\\x96\\xff\\x1c\\xf7\\xc3\\xa4kA\\x8b\\xa1\\x9d\\x8e\\x8e\\xe2\\xd3\\x9e\\xc7z\\xa6\\t,QF\\x07\\x07\\x07wn\\xc5\\x18%m\\xb8T\\x8d\\x8bK!ZGWU\\x8d\"K\\xf6\\x8a\\xa9\\x88,)\\xab\\x8b\\xebI\\xc0\\x8cpc\\xb0\\xf1\\xf2\\x97^\\xc9W\\xac\\n\\x12\\xe5Uy\\xf6\\xa5\\xcbY\\x997!\\xb4\\x12\\xd3\\x12\\x83\\xbb\\xe3\\xb7\\xc5\\x8b\\x7f\\xdeY\\xe8{.w[\\x08\\xd3}\\xf4\\xeb\\xef\\xb7\\xae\\xab\\xebEW_\\x90L\\xab[\\xe8\\xbd/\\xdb/A\\xba\\xe40sG\\xe0\\xa4M)\\x08\\x94\\xf9b\\xd0\\xaf\\xb6\\xb7\\x07gO\\xb9\\xfc\\xaeF\\x8b\\xc1\\xe6\\xf0\\x17~\\xfd\\xebeU\\x99h\\x91\\xe5\\xab3\\xbd\\x1f\\xcd\\xdbU\\xa4*Wl\\xc3\\xf1\\xc1~3\\x9f?\\xd6K\\xec3\\xc73M\\xe0\\xb6\\xae\\xf7\\xae_?::\\\\V)\\x16m\\x19&K\\x8d\\x18\\xeb\\xd8\\x1bTDDUE$\\xa9I\\xc5\\x95\\xcb)\\xf5\\x0f:\\xe7wwOm\\xedl\\xdf\\xf3A\\xec\\xdd\\xb9/\\xbc4\\xd8\\xdaj4F\\x95UU\\xc7\\xfb\\xdd\\xbf\\x8f&\\xd8\\xa7\\xc5=\\x17\\xfd\\xf2#\\x1e\\xf6\\xfa\\x07\\xce\\xc1\\xafn6[5\\xe6K\\xf7\\x98\\x88\\x1c3cg\\xa5\\xd3\\xb7\\xd4\\r\\x1e2\\'Q\\xb1\\xf4VbZ\\xc7`\\x8c\\xbd3\\xa7\\xf3A\\xef\\x9e\\x0fr\\x99?w\\xf9\\xe2\\xa9Sg\\x9d\\xf7Y\\x96\\xdd\\xb3\\xf4m\\x95\\xc3\\xf2\\x10,\\xf7E\\x85\\x18F\\x87w\\xd6\\x04~\\x9a\\xd1\\xce\\xeb\\xeb\\x1f\\xbc7\\x9b\\x8d\\xbd\\xf7\\'TL\\xab.\\x97\\x0fVlo2\\xc5\\x89\\xbd\\x89\\xb1KY\\xe3d\\xdd\\xb2<\\xff\\x85_\\xfa\\xa5\\xde}\\xd7\\xa5/\\x8aS/^\\xde:{\\xc6\\x10\\xc5\\x0c\\x17\\x04\\xd6\\xbbK\\xc1\\xf0\\xd94rt\\x0e\\x82\\xc8_\\xd2\\x02?\\xd0\\x85\\xa6Nic\\x01\\xe8\\x9a=4J\\xfa,\\x97\\x84\\xe0\\x89\\x08\\xbau\\xa4\\xe3\\xf1x<\\x9b\\xbb^\\xe5\\xcb\\xfc\\xfe\\x03\\xa8\\x06\\x83\\x17^z%\\xf79#\\xad\\x12\\xf8\\x93\\xf8\\xcf\\xaa\\x8a\\xd6)\\xf8\\x80\\xdat<z\\xea\\xe5)\\x9fi\\x02\\xd7\\xf3\\xd9\\xed\\xeb\\x1f\\xb6m\\x9be\\xd9\\xfd1p\\xfaO\\x96\\x81n\\xf2\\xb1\\xd3v\\xc2\\x85\\x9ecL\\xf10t1\\xf3\\xe6\\xe6\\xd6\\xaf\\xfd\\xf5\\xdf\\xe8\\r\\xfb\\xf7|\\x10{78\\xbd\\xbb}\\xe1\\x1c\\xe5\\xde\\x18\\x81\\t\\xee\\xb6\\xc0\\x9f\\xdd9>\\xcc\\xc8\\x7f\\xf4\\xaf\\xac\\xfeu\\x19\\x03\\xdf\\xe3B/\\xc3i^x\\xd1\\xbc\"7\\x9b\\xe4.\\xa9{\\x9e\\xdc\\xc28\\xe7\\xce\\x1f\\x1f\\x1f\\x1f\\x1d\\x1d\\x93w\\xf4\\xa0\\xfcp\\xd9\\xaf\\xbe\\xf8K\\xbfX\\x16\\xe5\\xaa\\x91_=\\xb6\\xd5\\x94\\xc4\\x83\\xc3\\xe0E\\xabV\\xdb\\xd6\\xcd|\\xfetKs<\\xbb\\x04\\x96(\\xb3\\xd1\\xf8\\xf8\\xf0\\x00D\\x9ds\\xc9s\\xeexk\\x06\\x00IZu\\xc9\\xe4ef\\xab\\xf3\\xae\\xb1\\x9b\\xc5_\\xa6\\xbb\\xf2\"?w\\xf1\\xe2\\xd9\\x8b\\xe7\\xef\\xaf[\\x10\\xb3/\\xf3\\xadK\\x17\\xb8\\xc8\\x15 \\x89\\x1e?\\x90\\xba\\x9fQ\\'\\xd6*\\xeb>\\t{\\xef!\\xcf\\xfd,:9\\xe0%\\x87\\r\\x08:1\\x84\\xb4\\x9e0\\xcd0-\\xad7\\x01\\x90A\\xe1|;\\x9b\\xcf\\xa6\\xd3\\x87\\x1dF^\\x16\\x17_\\xbc<\\x18n\\xae\\xfa\\xfcp\\xb7\\xe5\\xb7\\x87\\x03\\x17\\xb3S\\x04\\xd0\\xd4\\xcdl2\\x8e\\xe1i\\xcec=\\xbbu\\xe0\\xd8\\xb6\\x87{{G\\xc7\\x871\\xc6\\xf9|n\"\\xa0\\x86\\x8af\\x10MC\\x94\\x10S\\xa0\\x1bU\\xbb&\\x04ST\\x84t\\xb9\\x92\\xf7*\\xca\\xde\\xc56\\xd6M3\\x18\\x0c\\xce\\x9c>{\\xfe\\xb9\\xe7\\xaaA\\xff\\x81\\x1f\\xc7\\xde_|\\xed\\xd5\\xd3\\x17\\xcfO\\xae\\xdcP\\x04v\\xdc\\xce[U5J\\xfb\\xb1\\x91\\x90\\x08\\tR\\x00\\t\\x00\\xda=\\x0f\\xcbM\\x0b\\xaa\\xaa\\xca\\xe4`\\x11d\\xae^\\xdf\\xfa\\x10\\r71c$$\\xecv\\x1a!Y\\x94\\xa5X4\\x00z\\xef3\\xef\\x04\\xac\\tm\\x1b\\x03\\x8a\\xc0\\xea0pR\\x992\\x033\\xe7\\x9cCR\\xd5$U\\x95>\\xd13G\\x13\\x91\\x85\\xc3L\\x1c\\xd5,*\\x90\\xd5u\\x9d\\x01\\xe5>\\xabJ\\x92\\x06|l\\x8b,\\x97VJ\\xe0\\x0c\\x98\\x1eR\\x9e%\\xe6\\xdd\\xf3g\\xcf^\\xb8\\xf8\\xee{o\\xe5y\\x1e\\xdb\\x88t\\xe2\\xf6\\x9b\\x99\\x88\"\";JAo\\xdb\\xaas\\xce9\\xe73f\\xe6\\xdcs\\x8c\\x13\\xcaKW\\xf5CS_\\x7f\\xef\\xdd\\x17_\\xfbj\\xd9\\x7f\\xf0?\\xcaS\\x80g\\xd7\\x02\\x876\\x1c\\xed\\xef\\x87\\xa6^m\\xdf\\xd1\\xc5\\xba\\xdan\\x0bf\\xea+\\xc2E\\xfad1\\xd0+`m\\xdb\\x02a\\x8cQT\\xf3<\\x0f*\\xbd\\xc1\\xe0\\x1b\\x7f\\xfbo\\xadV\\x80WA\\xcc\\xd5\\xcefos\\xc3e^\\xcd\\xe2b\\x0b\\xf6\\xcf\\x80O\\xe8\\t\\xdf\\xf3\\xfa\\x87\\xb9\\xd0\\x0fs\\xe3\\xed\\xbe\\x0e\\xad\\xd5\\x97\\x9d<\\x88\\x02jI\\x05:\\xf9\\xc9\\xb8\\x94\\x13\\xd0\\xd4*n\\xdd,1\"\\x11\\x95\\x11|P\\x9b\\xd7\\xf6\\xf0\\xd0\\xb4\\x1a\\xf4/]~1+\\x8a\\xfbcu\\xfb\\x04\\x80\\xc5\\xf0\\xa3\\xc48>:lfOs\\x1e\\xeb\\xd9%p\\x0ca\\xff\\xd6\\xcd\\x18\\x02\\x11\\xad^\\xbe\\xa9W0)\\xcb,\\xdbp;w:\\xc5\\xbd\\xa6f\\xd6\\x86\\xe0\\xbdoc\\x08*YY\\x98\\xea\\xd6\\xee\\xe9\\x0b\\x97\\x9f\\xcb\\x8a\\xfc\\x81\\x1f\\xc7\\xde\\x15\\xc3\\xc1\\xe0\\xd4.\\xe7\\x99\\x82\\x89\\xe9\\xd2\\x88}*\\xd8}=$\\x1f\\xdb\\x98q\\x7f\\xb6\\xec#\\x9a\\xb1\\xefy\\xff\\xfb?\\x0e\\xee\\xbe#$G\\xa5\\xdb{\\xc6\\xec\\x88\\xd0\\xc0T\\x97\\xb3VI\\xd8\\x9d\\x01\\x19\\xc9\\x11\\x15\\x01\\xb2F\\xe5h\\x1cg\\x0fmT.\\xfb\\xbd\\xaf\\xfc\\xea\\xafn\\x0c\\xb7R\\x8b\\xe6\\xfd\\x87jw\\x17\\xc6V\\xa3\\xe2\\x94\\xc4J\\xb94\\x892\\x1b\\x8f\\xeb\\xe9\\xf4)n\\xe7xv\\t\\xdc\\xd6\\xf5\\xe1\\x9d=\\x91\\xe8\\x90L\\x14V\\x14U;#\\x8c`\\x08i\\xcd|\\xa2\\xeej\\xd6\\n\\x00\\\\\\xe6\\xd3\\x8f\\x9cs\\xc4\\xfc\\xdcK/U\\xc3\\x87.1C\\xa2j{s\\xf3\\xfc9%\\x0c*)\\'\\xf4\\xb3\\x11\\xd8>e\\xdd\\xd8\\x1eT\\x07^\\xa6\\xc1W\\x13?\\x0f,n=\\xd0\\xc4-\\x1f\\x88\\x08$\\x9f\\x16iYF\\xea~j\\x06\\xa2\\x89\\xcc\\xa9\\xd4\\xc4\\xccU\\x80\\xa2\\xd1\\xb0?j\\x8eF\\xf2\\x10\\xdd\\xb9\\xa2W\\x9d\\x7f\\xe1\\xf9\\xd3g\\xcf\\xdf#\\xe5y?{\\x97\\xa1D\\xfa\\xf3\\x9e\\xfb\\x94\\xa9\\xcef\\x93z6{\\x8a\\x15*\\x9fQ\\x02\\xab\\xeat4\\xbes\\xfb6\\xaa\\xddC$]P\\xb7{\\xbc0\\xbc\\xabu&Ue\\xef\\x96\\x95\\x15r\\xbc\\xb9\\xb5\\xfd\\xd5\\xaf\\xffJu_\\x01i\\x15y\\xbfw\\xfa\\x95\\x978\\xcbT\\x95\\xbcK\\x99\\xb3O{\\xe4\\xf7\\x18\\xcc\\x8f%\\xf0\\xf2\\x8a_\\xc6\\xcc\\xf7\\x8cC\\xad^\\xf7\\xcb\\'a\\x85\\xa2\\x0f\\xcb\\x1bu?\\xd2\\xce\\xcc\\xa6w^\\x0e!%\\xc3\\xbbZ1\\xf6\\xc4\\x9e]\\x15\\xa0R\\x08\\xfb\\xc7\\xb3\\x1b{\\xb1~hzicg\\xfb\\xf9\\x17_Q\\xc0\\xfbO\\xe4~\\xde.\\xd9\\xab\\xaa)\\x85\\x96\\xfe4\\xb3v^\\x8f\\x8f\\x8fcxj\\x15*\\x9fQ\\x02\\xc76\\x1c\\xde\\xde;:\\xb8\\x93\\xcc\\xd1\\x03-a\\x8axe\\x85\\xbdKm\\x08Q%\\xa2\\xbam\\x93\\xe2\\xac\\xc4x\\xf9\\xc5\\x97\\xcf\\xbf\\xf0\\xfcG\\xf7\\xcd\\xfb\\xaa\\xbc\\xf0\\xb5\\xd7N]\\xbahwk\\xd0}*\\xdc\\xef\\xf4~\\xf4\\xfb\\xdc\\xefp\\x02\\xc02\\xb6\\\\%0|\\x9c\\x05\\x86\\x07\\xa5\\x82\\xd3\\xcd@S\\x0f\\xa3\\xaa\\x99\\xa5\\xdd\\x8e\\xb60\\xbf\\xba\\x98\\x88H\\x16\\xb8\\x88P\\x02\\xe9hz\\xf4\\xce\\x07R?T8\\xb2\\xecU_\\xf9\\xe5_\\xc9\\xb3\\xf2\\xfe\\xe9\\xcb{8|O_\\xc7\\xf2\\\\\\xd2\\x01\\xcc\\xeb\\xfa\\xf8`\\xbf\\x99?\\xb5s\\x85\\xcf,\\x81\\xdb[\\x1f~8\\x1e\\x8f\\x00`5\\x06\\xbew\\xed%\\x9e\\\\\\xb2\\xcb\\xce\\x8d\\xee\\xaf\"\\xe3\\xf1X\\xbb]^\\xfc\\xcb\\xdf\\xf8F\\x7f\\xf81K\\x80\\x91pp\\xf6\\xd4\\xa5W\\xbf\\x98\\xe5y]\\xd7i\\x11\\xe9\\xa7=\\xf2\\x9f\\xcd\\x85^\\x1a\\xc3{~\\xe5\\x1e\\x02\\xc3G\\xc6\\xc0vw6+a\\xe9\\x8d\\'\\xfe\\xc0\\x82\\xa8\\'TOy,\\xec\\\\\\xe8\\xcc\\xac\\x02\\x86\\xba\\x1e_\\xbf\\x1d\\x9b\\x87Z\\xe0r\\xd0\\x7f\\xee\\x95W\\xfa\\xc3\\x8de\\xb2\\xfa\\xfe\\x18\\xf8\\x9e\\x1b\\xd3\\x03o7m\\xdb\\x1c\\x1f\\x1c<\\xc5\\xfdX\\xcf(\\x81C\\xdb\\xde\\xbe~\\xad\\xae\\xe7\\xb0,\\x93\\xdc\\x8d\\xa5E\\xbe\\xc7\\xdc\\xad\\xc6~\\xb3\\xd9,]\\xc1\\xc3\\xcd\\xed/\\xff\\xf2\\xd7\\x1eV@ZE>\\xe8\\x9f~\\xf5\\x15\\xdf+\\xea\\xba\\x0e!\\xfc%[&\\xf1\\x93ih\\xdd\\x1f\\xb8\\xdesj\\xf7?\\x7f\\xcf\\x03\\x00x\\xe0;\\xc0\\xc2\\x98/\\xb9\\x84\\xda\\x15\\x93\\xee\\xf9\\xe8\\xe5q2\\x80\\x03\\x04\\x91\\xd9\\xd1Q\\x98}\\x94a\\xdc\\xdc\\xdd\\xd9\\xdd=\\xeb\\xb3\\x0c\\x1er\\xefx\\x98\\x9b\\xb0\\xfa\\xca\\x10e||X\\xcf\\x9e\\xdaM+\\xcfh\\x1dXB\\x9c\\x1c\\xdc\\xd8.\\xb1p\\x16\\xe7\\xb3\\xad\\xb2\\xacgs\\x84NxR5z\\r\\x12[P\\x812S1i\\x83F\\x05\\x03\\x87\\xe4\\xc9!QP\\x9d\\x8f\\'D\\xb4\\xb9\\xbb\\xfb\\xca\\x97^=u\\xee\\xec\\'1\\xa7\\x9c\\xf9\\xe2\\xfc\\x99\\xdbR[F;\\xd5\\xc6t\\xff\\x08\\xf8.-hfv\\xec\\x1c\\xd0\\xc3\\x16\\x0b\\xdc\\x95qE\\\\\\xae\\x1d\\x7f\\xd8\\xbd X$Bf6\\xc2\\xe4D\\x00\\x83#.\\xd8\\xb7b\\xaa\\xa2\\xaa\\x08\\xe2\\x80\\x90I\\x91\\xeb\\xc5\\x85\\x8e]\\xf7\\x15\\xa7\\xff\\x99\\xea\\xb2z\\xac\\x0b\\xc3KD\\xc7\\xb9\\xa8Z4\\xcb\\x88\\x199\\xa2\\xd4\\xd24\\x1a\\xc4\\xe1\\x84-x\\xadr(=\\xa3\\x9aoD\\x9b8\\x03\\xf2\\x83\\xcd2\\xd7\\xc9x\\xd4L\\xa6\\x1f\\xf1]eE\\x0e\\xbd\\xcd\\xe8\\xb3\\xbai\\x0c\\x05\\xd5\\x008ic\\x93\\x01\\x12\\x80\\x12\\xa8 !*(\\x80\\x98\\x01\\xdb8\\x93*\\xcf}\\xe6\"\\x8aA$\\x83\\xc9\\xe1\\xcd\\xf1\\xe1\\x81\\x8a\\xd2\\xd38\\x18\\xfc\\x8cZ\\xe0f:\\x9d\\x8e\\x8f\\xcdN\\x92:\\xbc\\xc0j\\xe3~\\xf7\\x1d%\\x9d\\xbb\\xbb\\x9d7f\\xce\\xf3\\x9c\\x99\\xab\\xb2\\xfa\\xf2/}\\xad\\xea\\xf7>\\xc9\\xe7\"\\x02g\\xdey\\xb74\\\\\\x8f\\xe0d\\x97Z\\xf0\\xab\\xc9\\xaaeCh\\x97\\x07\\xb2\\x13\\x07\\xfb\\xc1o\\xb2\\x82\\xd5\\xf1\\xc1\\xf4u1\\xd2=\\xc1\\xea=\\xbd\\x8d\\xcb,t:q\\x91\\xd8\\xb6\\x8d\\x84\\x08\\x0f\\xff\\x06\\xb2\\xa2x\\xe1\\x85\\x17\\xb2,\\x7f\\xa0GpO\\ri\\xf5\\xd8\\x16_u\\x87\\xa6m\\xa6\\xe3\\xe3\\x18\\x9f\\xce<\\xd63I`\\xb3\\xd9d2\\x9d\\x8eN\\xd2\\xc8D\\xde{\\xef}\\xea\\xe9Y\\xd2x\\xf9\\x02\\xb4\\xb4\\xca\\xe8d\\x14\\x06\\x11\\xcb\\xb2$\\xa2\\x8d\\xcd\\xedW\\xbe\\xfc\\xea\\xc3\\xfa7\\xee\\x81D\\x11\\x89\\xc9\\xd8>\\x9as\\xd5\\x15\\xf6&$\\xde\\xa6\\xe1\\xaa\\xd4O\\x92\\xc6\\xadR\\x8b\\xe8\\xfdC\\x0bK\\xc2\\xdf\\xef\\x0f\\x13\\x91_\\x8c\\xfb\"\\xe2\\xf2N\\xb7\\x9a[\\xb2(\\xe9\\xb7\\x989w\\xde{\\x0f\\x00\"\\x12C+Q\\x92<\\xe0\\x03Q\\x94\\xc5\\x97\\xbe\\xfc\\xe5,\\xcb\\xe1A1\\xf9\\xfd\\xf9\\xe7\\xfb#\\xe4\\xf4+mS\\x8f\\x0e\\x0f\\xc2S\\xba*\\xe9Yt\\xa1C\\x1b&\\x87\\x87M3_ZZf&\\xe86t\\xa1\\x88\\x809\\x15\\xa7j\\x08N!\\x12\\x10Q\\xe7Y\\xaa)(\\x02\\xa0j\\x96e\\x02v\\xfa\\xd4\\x99\\xadS;\\xf8\\xc9\\x08\\xa91J\\xd3:\\xe7\\x02bJ\\x89}\\xd6\\'\\x8b\\x88`\\x10U\\x890\\x8aD\\x15\\xaf\\xaa\\xb4\\xa0\\x81i4eA\\x12I#\\x16\\x0b\\x0b)\\x1d\\r\\xf0$_}\\x8f\\xbf\\x90x\\xee\\x9c3\\x95Tu\\x8d\\x8bem\\x94\\xb4\\xc2D\\x04)q\\x18\\x1c\\x11\\x119\\xe7\\xbd\\xafQT\\x01U\\xc1\\xd4\\xe0\\xa1k\\x1b\\xb3\"\\xbft\\xf9\\xb9\\xc1`\\xe3\\xf6\\xad\\xebQb\\x92\\xb0\\x03K\\x8b\\x95\\xad\\xab\\x18\\x99\\xd2\\x8a`%,\\xb8\\x1dc$bd2\\xb3\\xa6i\\x0e\\xf6n\\x85\\xba\\x06\\xd8\\xf8\\xac\\xbf\\xedG\\x8fg\\x93\\xc0\\xcd\\xfe\\xad\\x9bmS\\xe7\\xcc\\x9d\\xce\\x0b3 \\x01\\x80!\\xac\\xacS\\x01\\x14\\xf2Q\\xd1\\xd4H\\x0cI\\xa1\\xd3pD\\x80\\x18#:\\xef\\xbc\\xbfx\\xf9\\x85\\xaa\\xf7\\x89\\xfcg\\x000Qi[fj\\xcdZ\\x89\\x88w/\\x11\\xfb\\x0c\\x80\\x88\\nFj\"\"@K\\x93\\x95\\xf6\\x9eB\\xa7\\x14+\\xa0\\x02B\\xc4\\xbc\\xcc\\xc9\\xaf\\x1a^X\\xe6\\xea\\xf1.\\x1d\\x023#$\\x06TDCBSFJ\\xderR\\xe7\\xd0(\\x91\\xa3\\x88\\x00;F\\x02\\xe6,\\xcbH\\x1b4\\xf0\\xec\\xc1>\\xe6\\xec\\x87\\x9b\\xc3\\xe1\\xff\\x9f\\xbd?}\\x92$K\\xf2\\x031U}\\x87\\x99_qGF\\xe4\\x9d\\x95Y\\xd5U\\xd5U\\xd5\\xd7\\xf41\\x98\\xe9A\\xa3\\x81]`\\x16\\x10\\xee\\x92\\x8b\\x95]R(\\x14\\x88p)\\xcb\\x15P\\xf8g\\xf0#\\x85\\xfc\\xc0o\\x14\\xe1\\xa7\\x15rI\\x0ev\\x05\\\\\\x82\\x0b\\xcc\\x0e\\x80\\x01f\\x16h\\xcc\\x00=g_\\xd5U\\xd5u\\xe7\\x9dq\\xb9\\xbb\\x1d\\xef\\xa9*?<s\\x0b\\xcf\\xc8\\xf0\\xc8\\x88\\xc8;\"~R\\x92\\xe5\\xe9\\xe9anfa\\xbf\\xa7\\xfa\\xf4\\xf8\\xe9\\xfc\\xa2\\xb56r3\\xe6\\x1b\\'\\xc2z:\\x91\\xd7\\xdb\\x13Z\\xd7\\xa9\\x92,l\\x02\\xd1\\xf5\\xd6\\xc6\\xfd\\xb2\\x18?\\xd3\\xfb\\xfc\\xa2p\\x1a\\t\\xccu\\xd8|p/\\x84\\xba\\xd3\\xe9\\x10\\xd2$\\x02\\xd4\\xc8+\\x02\\xa2\\x12&yg#\\xb6,\\x03\\x81 \\x0b\\xb0D\\xe1v\\x97\\xc5\\xccDf\\xae\\xd7\\x7f\\xe7\\x9b\\xdf\\xcc\\xbb\\x87\\xd5\\x0fWUeq\\xce\\r\\x99\\x83\\x02<{\\x02\\x03\"\\xa8\\xb2\\n\\x02\\x06\\xe1\\x98Z\\x9dA\\xadw\\x96#\\x18R\\x06\\x01E\\x11\\x16I\\x16\\xf8!\\x8aN,p\\xd3\\xea+\\xbb\\x12\\xcd)\\xa6\\xb5\\x1bESH\\x1b\\x0fc\\x8ce\\xc3H\\x92\\xcaE\\x99%\\xb2X\\x01C\\x04h\\xad\\xa5\\x18,\\x18\\xef=\\x12\\xc2\\x81Q\\x80\\xbc\\xd3\\x19\\xcc\\xcd\\x13\\x92\\xea\\xb4|\\xf5C\\xae\\x00M!5l\\xa4S2\\xc6\\x18k\\x85,#\\x14\\xc5\\xa8*\\n\\x8e\\xd1\\xd8\\x93\\xf6\\xc0\\x9f\\xb4\\xeb9\\x0c\\x98y\\xb8\\xb3%\\xc2D\\xd4\\xd0\\x96H\\x84S\\xebO\\n\\xd8&\\x02\\x93p\\x16\\x81\\x94\\xd52\\x87\\x88\\x04\"\\x82HJ\\x08\\xcc)\\x81t\\xe1\\xda\\x95i\\x01\\x9d\\x83\\xa1\"\\xa0\\xe2\\x8c\\t!\\x04\\x15\\xff\\\\\\x14dE5)\\xd5\\x0b\\xec\\xee\\x15]\\xe6\\rGS\\x9a\\xc6ji\\xaa\\xf1Fol[\\xd62M\\x14km\\xaa\\x9aL\\xff\\xda\\xf6\\xfa\\xa5L/)(\"\\x11:2\\xd1X\\xb1\\x12cD\\x05\\x94\\xa6\\x08,\\rdQl\\xb4\\xb5\\xac\\xb5\\xde\\xfb\\xc7\\xd6\\xb1X\\xe7z\\x83\\x81uN\\xc7\\x0f\\xd9[\\x9d\\x14\\x90\\xb4\\xebo\\x8b,\\xcb\\xd2\\xc1\\x9d\\xf7.\\xf3B\\xae\\x12\\t\\xb1.\\xc6\\xa33\\x02\\x9f\\x10\\x08sY\\x14\\xcc1=\\x04\\xd3\\xe1\\xd3&\\xa6\\x85d\\xc0XUT\\xb2\\x86\\x95!\"Y\\xa2\\xa6\\xad\\x060Y*\\xef\\xfc\\xb9\\xb5\\xf3\\x83\\x85#\\xec\\xac8F\\x8d\\x11\\x14\\x989&7\\xf2\\x19\\xa3\\xad\\t\\x05Q\\x01m\\n\\xcbT\\x9ds\\xc6\\x182\\x06\\x08\\x05\\xd2\\xf4\\tMu)\\xcd\\x0f>\\\\\\xbc\\x91\\xea\\xd5\\x1a7Uv;1p\\x12<J]\\xc12\\tJ\\x1b$EA\\xd0F\\xeb=\\x85\\xee\\xa1\\xd5\\xce\"c\\xcccW/\\xe7m\\x7fn\\xe0\\xec\\xdeTp\\xf3[\\x9b\\xe4\\xba\\xa69\\xec\\xbd\\xdf%\\xb0\\xf7BN\\x98U\\xb4\\x18\\x8d\\x8e\\xdd\\xfe\\xf52\\xe34\\x128\\xc6X\\x16\\xc3\\xbc\\xd3)\\x8a\\xa2\\xeb\\xb3\\xc1`P\\x8c\\xc7\\xa8`\\x8c\\xb1\\xd6Xk\\t\\x14\\x18\\xa3\\x88\\x88\\xe6\\xce\\x93FH\\xf32\\x91C\\x08EU\\x97e=X\\\\\\xbc\\xbf\\xb9\\xf9\\xc6;\\xef\\xe4\\x876\\xbf\\x00\\x10\\xab\\xea\\xc3\\x1f\\xff\\xd9\\xed\\x9b7;\\xfd\\x9e\\xaf\\xa4\\x1c\\x158p*\\x9a,\\xbf\\xb3\\xce\\xa0af\\x89AY\\xccD\\x04\\x03\\x9aR\\'QU\\xa3\\x8d\\xfd\\xb1\\xd6\\xe2\\xa4\\xbc\\t\\x11[\\x05\\xd6\\xb6\\xba#\\xfd\\xb5\\xe6h\\x9at\\xb1\\xa66\\xc62\\xd4\\x04X\\x87\\xe0\\xbc\\xcf\\xf3|\\\\\\x161F\\xf2\\xcez\\x07\\x00\\xaa\\x9a\\x8e\\x1c\\x8d\\t!$W\\xd9 \\xa5\\xc0\\xbb1FDbd\\xe6\\xa6\\x1f\\x83cDDg-z\\xab\\x00\\xca\\x81\\xaa\\xaa\\xa5\\xab\"*K\\x08!\\xa0q@\\xe8}Y\\x96hQ\\x98\\xad5.\\xf3\\x07\\'\\xd2\\xacs\\x97_\\xbfQ\\x96\\x15\"\\xc6\\x18\\xaa\\xaaZ^Z\\x1c\\x8dv@\\xc1X\\x02QPED\\xef}\\xb7\\xdb\\xed\\xf5:Y\\x96\\xf5\\xfb\\x1d\"2\\xd6\\x03\\x91\\x88D\\x89\\n\\xc0\\x1cv67NdE\\xf4i$0\\x87PU\\x85\\x8a$e\\xf6=\\xcf\\x90N\\xa6\\x8d$k\\xe3\\x8cU\\x03LQ\\x8c\\x01\\x8b\\xa9\\xf7\\xc8\\xaa0s\\xbf?\\xb8z\\xfdz\\xd69\\xec\\x06X\\x98\\xcb\\x9d\\xd1\\xc6\\xad\\xdbUQz\\x16 Ja\\xa4\\xa7\\x85GE3\\x9a\\x84\\x10%\\xf5\\x10\\x854\\xf6i\\xd2M\\x85\\x88h\\x08\\x0cA\\x9cd\\x89\\x11\\x00\\xcdA\\x07\\x9f\\x8a\\x155\\xe1\\xa2\\xf4\\x16#\\x8a*\\xa1\\x014D\\x16)&\\xf6\\xa6\\x1dJ3}\\x06R\\x9aJ$ b\\xde\\xc9i\\x12D\\x9c\\x05\\xeb\\xdc`a.\\xf3\\xd9\\xce\\xe8!\\xd9]B\\xb4\\xd6\\xa0\\x02\\x81:o\\xb3,\\xcb\\xf3<\\xcf\\xf3,\\xcbv\\xc5\\xb9\\x88\\x92\\x1e\\x02\\xa8\\x8a\\xe8hg;\\x9e\\xc4L\\xd2i$p\\x08u]\\x95\\xd8(\\xfcO<@\\x98J~\\x02\\xc0\\xe4Y\\xb5Dj\\x80\\x8dU#\\x98\\xc4(\\xa3\\xa4Z\\xdf\\xc5\\xa5\\xa5\\xf3W.e3\\x1a\\x80\\x1f\\x05\\xd7a\\xe7\\xce\\xbd\\xfb\\xb7oWUe\\x84\\x14\\x10\\xedS\\xab\\r\\xda\\x97\\t\\xaa\\x8a\\x86\\xd2\\xc4\\x13E\\x00\\xd1\\xa4\\xec\\x15U\\xd2$\\xb5$L\\xa5\\x84i\\xf6\\xa7\\xaa\\xaa\\xb30\\x15\\xd4\\xdd\\x13\\xe9%cDDhW\\xa0S\\x15\\x95\\x10\\x10\\x91%\\xa9b\\x19c\\xbcs\\xa1\\xaeY\\x150\\x89\\x8c4l\\x07Qc\\x0c\\xd7\\xa5\\xf1f07g\\x8c\\x81\\x03\\tl\\xac\\x19,\\xcc\\xf7z\\xfd\\x8dm\\xc3\\x10Zo\\xd9\\x92\\xf1\\xde\\x11\\xa0A\\xf0\\x99\\xebv\\xba\\x9dN\\xa7\\xd3\\xe9dYf\\xad\\xa4p\\x16\\x18\\xa3\\x08\\x04D\\xaa\"\\xb2\\xb3\\xb3}f\\x81O\\x08\\xea\\xb2\\xaa\\xea\\x12\\xf6\\x94\\xf2O7\\xe2\\x00@\\no\\x82\\x02\\x91\\x01I-ri\\xb4`\\xdb\\xca\\xbb\\xbaz\\xae?\\x7f\\x84\\rp\\xac\\xc3\\xc6\\x177\\xb776b\\x8c\\xacF\\xc9<\\xc54\\xd2\\xac\\xbdk2B\\xed\\x90\\xdd\\xb6q\\'\\xaaXcS\\xd86\\xa5\\x9a\\xc2\\xa4R\\xf2\\xa1\\x12\\xeb\\x87\\x8b\\x9c\\x92\\xc7.\\xc6\\xb4I&\\x01A\\xc5\\xd4_E`\\x08\\xd0\\x91\\x11k\\xd3\\xac)\\x06i.0MUf&r\\x00@\\xc6\\xe4\\x9d\\x0e\\x11=v\\x1b\\xdc\\xe9\\xf5\\xfa\\xfd>L\\x04=\\xd2\\x9f\\xde{\\xe7,\\x01:CY\\xee\\x93\\x05\\xce\\xb2\\xcc{oL$\"2V\\x88\\x14\\x01\\x15\\xd3\\x94\\xab\\xd1p\\xfbD\\x0e+<u\\x95X\\x1cc1\\xdc\\xa9\\xeb\\n\\'\\n\\xc6{zq\\xa6\\xbbv\\x8c1\\xf8\\xb0\\x8fM\\x13\\xa3M\\x88\\xab\\xebk\\x87\\xcf\\x00\\x03@(\\x8a{\\x9f}^\\x95E*\\x1a\\x89*\\xf2\\xf4J)\\x1fmihiGDi\\xbaR\\x12\\xca\\x8d*\\x919\\x84\\x00\\x00d\\x0cZ\\x03\\xb4\\xabq\\xdb6\\xfd\\xe3\\xc3R\\xb2\\xad\\xea\\x95\\x99\\xc8\\xc4\\xa6o1\\x13\\xcf\\x05\\x93\\x96]\\xb2\\x90H\\xad\\xd4\\xfbto0\\xb0\\xc0\\xb4\\xca\\xf4!\\xae>\\xefv\\xe6\\xe6\\xe7S\\x9dL\\xfa)cL\\x8aT\\xb9)\\xb4\\xd5`\\xd3\\xf5\\xb0\\xedM\\x881\\x8e\\xc6\\xa3\\xfa$\\x12\\xf8\\xd4Y`\\x8eq<\\xdc\\x0eU\\x95\\xc4\\x9b\\xa6\\x19\\xdbX_U\\xd5f$&!\\x1a\\x84\\xf4h\\xd0d\\xc0Oc\\x88\\xac];\\x7f\\xa1\\x1dAx\\x18\\x94\\xa3\\xf1\\xbd/\\xbe\\xa8\\x8b\\xca\\x18C\\x82IE\\xfe\\xe11\\xda\\xc7\\xc7CM\\x91Su\\x85dMk\\xe5UUT\\x98\\x99\\x89C\\x08i\\xc7\\x98\\x1ewVA\\xc4v^\\x04\\xb4\\xbav\\x93E-N\\x9a\\xf2\\x8d1j$e\\x95&\\xc1g\\x90VJ\\x96&\\xf3\\n\\x89@T\\'$\\xd54\\xab\\x01\\x85\\x99\\x9dsD<\\xde\\x19J:\\xc2\\x81\\xd7\\xe52?\\x98\\x9f7\\x8dd-\\xb6\\x16\\xd8X4H\\xde\\x9a\\x96\\xc0mU\\xec\\xc3\\xa5\\xa0\\xc0\\xcc\\x02P\\x14\\xe3X\\xd7\"\\xf2\\xdc\\x8aX\\x9f\\x0fN\\x1f\\x81C\\xd8\\xdex\\x10c\\x9dv\\x9f\"i\\xe4\\xe0T\\xa9m\"pz\\x80\\t\\xc1\\xa01j\\xadM\\xf9\\x17VqQ\\x02\\x88u~u\\xbdiv;\\x0cbU\\x0f\\xef\\xde\\xbfw\\xfb\\x163\\xa7\\xd9\\xf3\\x04\\x80G\\x97\\xd49\\x00{\\xfa\"[?BT[*\\xea\\xc4\\xe9\\xa8C\\x88\\xcc\\x8d\\xe4:Q\\x14\\x85\\xdd\\xb9(\\xbb\\xed\\n0!C\\x9c\\xcc\\xe9lc\\xd1\\xe9\\x93\\x0f\\xb5\\xfej3\\xb4\\x1c\\xd2\\x82\\x82\\xb2ke\\xa5\\x1d.\\x15]\\xcf#\\xcap{;\\x965<\\xce\\x071\\xd6\\xce--&\\xbd\\xce\\x96\\xc0\\xd6Z\\x9f\\xd9D`\\x9f=d\\x81\\xdb-\\xc9\\xa4\\xda\\xa4Qb\\x08u\\x1dB\\xad\"p\\xb2\\x08|\\xa2.\\xe60\\xe0\\x18\\x87[\\x9b\\xccM<cO\\x14z\\xfa\\xafM\\x10k\\xd2\\xde\\x90\\xfeL/\\xac\\xb5Y\\x96\\xcd/-\\x19w\\xd8\\x150\\x8c\\x8b[\\xef\\x7f\\xb0y\\xe7n\\xca\\xc7\\xecixzr\\xec\\xc9\\x1eM\\xef\\x84[\\x8b\\x04\\x93\\xd9\\x8b\"\\x12cl\\xf3\\xba\\xcdx\\xdf\\xa9\\x9e\\xc4G\\xcfm\\xcf`\\x87\\xdd\\xe2\\xa7\\xe9\\x0b\\x99j(h\\xdfl\\xd5\\xed\\xd2i1s\\xdauo\\xdf{P=\\xd8\\xd4\\xc7\\x8dM\\xb0\\xce-\\xad\\xac\\xb4k\\x07LV\\x10\\xe7\\x9c\\xf7>\\xf5\\x9f\\xa4\\xdf\\xcb\\x9ev\\xa8\\xf6\\xb7\\xd9,XuU\\x15\\xe3\\x93\\x97\\n>u\\x168\\x860\\xbc\\x7f?n\\x8d\\\\\\xa7\\x03\\x00\\x8a\\x18@j\\x8e\\xa2j\\x8cqh\\r\\xa2QD\\x06UAQ\\xb5\\xa4\\xc8lD\\x04\\x82S\\x01\\xa8Xj\\xd1\\xf9A\\xbf;78\\xbc\\x05\\xaeG\\xe3\\x07\\x7f\\xfa3\\xff\\xd1\\x9d\\xf3#\\x88u\\x00\\xc36\\xcfJ\\xe4\\x8c\\xc1\\xa0q`20\\x8e\\xc1\\xa0Z%4$\\x12AAD\\x14 \\xf5O$_\\x13e\\xef\\xb8\\x93\\x83S\\xa9T\\xc5\\xc6\\x97&RgE\\xb5\\x12.C\\xec;\\xa2j<\\x97\\xd9\\xfe\\xdc \\n?\\xb8w_\\x02\\xf7\\x06\\x83\\x0c\\x11\\x04\\x94#\\xa8\\xa6\\xc2\\x0c\\x00`P\\xf0\\xb6\\x94XWc\\xaf\\xdeZ+\\xb9\\tAB\\x08\\xa0\\xa1\\xc9\\xba\\xa9\\x1a\\x01\\x83\\xa6\\xe3|/\\xcb\\xef\\x17\\x95\\x8a\\xa6\\xfaS\\x00\\x10@Av\\x86\\xd4`\\xb7\\xa8\\xd6k\\xed\\xdc\\xaa\\xdd\\'\\xb7\\x1eK\\xe0\\xbc\\x9b\\xaf_\\xbb\\xec{Y\\x16|n\\xcd\\\\\\xeec\\xc9\\x03B\\xcfj5Z\\xb4\\xc4\\xd1Z2\\x82\\xa4\\xa4\\xc2\\x12\\xbb\\x04\\x00 \\xa4\\xd1\\x8ad\\x12\\xacJP\\xc8b\\xbdu\\xe7\\x96>U\\x97\\xe7e\\xc0\\xa9#0\\x87P\\x8e\\x86mo\\xba\\xceh\\xca\\x9d\\xda\\x0f\\xeb\\xbe\\x1fp\\xde\\xe7\\xdd\\xee!5q$r,\\xca\\xd1\\xdd\\xfb\\xb1\\x0e\\xf6\\xd9\\x94O\\xea\\x8cS\\xd5\\x19q\\xeeVA\\xcaZC)#-\\xca\\xcc\\n\\x06Z\\xd3\\xad\\x80Mx\\x19\\x12\\xcf\\xb0\\x95\\xc2\\x9a\\x0c@h\\xbf\\x1d\\x00\\xd2\\x0e\\xb3]/\\xda`R\\xebo\\'9\\x81tccQ\\xca\\xf6\\xf80\\x16\\xb8?7g\\xad\\xdb\\xe3\\x11L\\xbb\\x08\\x93\\x08\\x99\\x82*\\x02\\xa7\\x91\\xe4\\x93\\xbd\\x82\\x88\\x8a(\\xc4\\x18\\xca\\xe1\\xf0\\xe4\\xc9S\\x9eJ\\x02\\x17c\\x80\\xe6\\xd1\\xd4\\x87\\xdd\\xad\\x86\\x03\\x07\\x0e\\xe0\\x9e\\xa4:\\xfd!{\\x80\\x01@\\x99\\xab\\xed\\xe1xg\\x98J\\xa9q:\\xb4sD>?\\xba\\xcbm_?t\\t\\x93\\xb3\\xd5)\\x0eO\\x13\\x99\\x99\\xeb\\x18\\x99Y\\']\\xd0u]\\x87\\x102\\xda\\r_\\xc1D!]@\\x93o\\x9d\\xea\"aR\\x8a\\x8c\\x0f\\x7f5L8\\x0c\\x00\\xa9\\xef\\xb7\\x8du\\xa5o\\x04\\x00v\\x9a\\xb6\\xe5u]\\xc7\\xf1X\\x1f\\xe7\\xd3\"Q\\xde\\xed\\xa4\\xa3M\\xff\\x16R\\x98\\xb9M%\\xa4H\\x95\"\\x82\\xc6d\\x81\\x93C\\xcf\\xc2\\xac\\xc2\\n\\x86\\xa5,Fg\\x04~\\xe5\\x11B(\\xc6\\x8d\\x92\\x8b\\xaa\\xb2\\x88\\xb5\\x16\\xf6\\x1b;0\\x89\\xca\\xec\\x9d\\x8b\\xdd\\x04B\\xb3,\\xcb\\x0f[\\x83\\xc5!\\xee\\xdc\\xb97\\xdc\\xdaj7\\x87\\xb3,\\xffa\\xd0\\x9eL\\x9b\\xb3\\xd5Ie\\xf2,\\x7fa\\xda\\x0e\\x0b\\x02*D\\xe1\\x10B\\x1a\\xec\\x96\\xc2Bi\\xf88\\xeb\\xd4\\xa4_\\xc4&\\xd1%\\xda\\x98V\\x16D\\x01\\x92\\x14\\x1c3\\xb0[\\x92\\xd5\\x128\\xbdH\\xc2\\x94-\\x81uZ:\\x03\\x01\\x00\\xaa\\xa2\\x1cm\\xee<\\xd6\\x02\\x03\\x80\\xcb\\xb2,\\xcb\\xf7\\xd6\\xab\\x13%\\xe5\\xb2\\xf6\\xdaS\\n\\x1b4\\x10Lf4\\xa9\\xb22\\xab\\x08`\\x88a<\\x1c\\xf2\\x89Sx?]\\x04V\\x91P\\x16\\xe5\\x14\\x81\\xdb:\\xfb\\x87\\x0b9v\\t<\\xe5G\\xef\\xf6\\x9d\\x1ac\\x9c\\xcb\\x0e\\xbf\\x01\\x0eU\\xbd\\xf1\\xe5\\xcd\\x9d\\xed\\x1d\\x11A\\x8bOR\\xbf\\xb1\\xcf*\\xf3\\xc8_\\xa79\\x9c\\xe8\\n\\xad\\xb0\\xce\\xee\\x9b\\x1ac,\\xeb:\\x8f\\x11\\x08\\xc9\\x1aDdf\\xd6\\xdd\\xd9Hm-\\x07Lzk\\xd3=\\x04\\x16$\"\\x85Idj\\x97\\xc0\\xad\\x0b\\x9d\"\\xd5\\xd6\\xda\\x14-\\xdb\\xa51(\\x11\\tb\\xa8\\xab\\xe2\\xc1\\x039Dy\\xa3\\xf7\\xbe\\x93ww[>\\xdbx{*3\\x11mCW\\x02\\x00\\x1aM\\xb3B\\n\\x00\\x88\\x8a\\x82\\x8a\\xaar,\\xc6\\xc3p\\xe2\\x06\\x9d\\x9d.\\x023s9\\x1e\\xd7u\\t\\xad\\x06\\xf2\\xb4\\x8c\\xf0n)\\xe5^\\x02\\xb7Gh\\xa2G\\x88\\xce\\x1f\\x81\\xc0\\xb1\\xaa\\xee|\\xfc\\xc9h8\\x04m\\x0c\\x1c\\x0b\\x1f\\xcf\\x02O[\\xdd6\\x82\\x85\\x13\\xa1\\xe9i\\xb4u\\x90iL\\x0cjc\\x87\\x1b\\xef\\x9d0\\nWUU\\xd6\\xb53\\xcd6XUZi\\xd8=\\x95\\xd5\\x88H\\xcd\\xad\\x10 A\\xc0\\x86\\xc0\\xad\\xf6\\xfdD*\\xac\\xbd\\xae\\xb6G\\xb7eo\\xfad\\x92\\xe6\\xd0r\\\\l\\r\\x0fC`\\xeb}\\x9e\\xe7\\xc6X\\x98\\xe4\\x0e\\xd2\\xf5\"jSg\\xa6*\"\\x98&Z5\\xa1u\\x9d.\\x13ADf\\xa9\\xab2\\x9e\\xb8Z\\x8e\\xd3E`a\\xae\\xcb\\xa2-\\xa9\\xd3G\\xaa8\\x1e\\xdd\\x03\\xef\\x1b\\x1c2D>\\xcb\\xf6l\\xcc\\x0e@]\\x94\\x9bw\\xef\\x95E\\xe9E\\x9e0ut\\xc0\\x1ex\\xfac\\xbb\\t\\x95\\x89\\xb1o\\xc4\\xb1&\\x1c6\\xc6\\x84\\x10\\xaaP\\xd7u\\x8dY\\xa6\\x93\\x986\\x8b Q\\xba)\\xd3\\xa7J\\n\\xdc\\xba\\xe8\\xa2);D\\x93n\\xc2\\xe9\\xf6\\xe0=\\xeb]+\\x13\\x9d\\xa8\\x15E\\xc0\\x901\\x06DBY\\xf1!\\x08l\\xac\\xcd\\xf3\\x0e\\x11\\xea\\x94\\xbb\\xcd\\xcc\\x80\\x9a\\xc6\\x86\\xd3d\\x84\\xd2\\xa3\\xf76y\\x10\\x88(1\\xd6u\\x1dC\\xd0\\xc7\\rX}\\xb5p\\xba\\xf2\\xc0\\x1cc9\\x1a\\x85\\xf0\\xd0@\\x80}\"\\xb734\\x90\\x13\\x10\\xd1\\x18\\xdb\\xe9t\\xe8p\\xad\\x08\\xc2\\x12\\xcaj\\xb4\\xb3\\xd3&!\\x1f\\x9b\\xfb9\\x06\\xf6,4\\x0fq{2,&\\xcd[lJ\\x9f\\x10U5\\x08\\x07\\x8e\\xa9\\x0cK\\x11\\x151\\xa2FT\\xa6\\xc9OM&\\xbc\\xb5\\xe2x\\x8f\\xaeh\\xfb\\xc6\\xcf\\xf6l:\\xa6\\x9b#\\xd2\\x1e\\x04\\x10\\xb9\\xae\\xa5z\\xbcI4\\xd6:\\xef\\x8dy\\xc8\\xd8\\xec\\xd1\\xb2\\xdb\\xf7\\xc6N\\xb3ZTC]\\xc7\\x18\\x9f\\xfa\\x9d\\x7f\\xb18]\\x168\\x86\\xf0\\xe0\\xd6\\xcdTF;\\x1c\\x0e\\x01\\xc0\\x19\\xa3\\xaa\\x86L2%\\x8d\\x98\\xdbT\\xa9B\\xab\\xb7\\nS\\xcf\\xa2\\xb1\\xc6g\\xfb\\x0c\\xbf\\xdc\\x17\\x12c5\\x1c\\xdd\\xbf{\\xd79\\xd7A[\\x96\\xe5hg\\xbb\\xd3\\xefeYV\\x8dc\\xd2\\xd3Ka\\xa4\\xccz\\xa3 U\\x08!X\\xdc\\xff\\xe08\\xa5\\xe1\\xd6\\xb8\\xa3DD\\x94d\\xe2\\xd3)\\xb5\\xb1YU\\xadERO\\x15\\x11\\x811\\xa9\"\\nE\\x87\\xc3a\\x92\\xc5\\x1d\\x95\\x85\\xaa:\\xe7\\xc8\\x9ar44\\xc6\\xd7\\xc2\\xb1\\xae&\\xe1=\\xad%r\\x0cU]\\x1b\"k\\xad%J\\x03\\xca\\xd3\\xad\\x08\\xa1n\\xbdw\\x11I%\\xd6!\\x04\\xef}[\\xde\\x98\\xce$U\\\\\\xd4\\xa2\\xe3\\xa2\\xe8\\x83\\xed\\xe6\\x1d\\xa8c\\xd8\\x19)3\\x1e\\x98\\x8d#\"\\x05\\xac\\xeb:s.Ub2\\xb3\\xd9o]\\xd0\\x87\\xa7\\xc6\\xb4A\\xac\\x08X\\xd7!\\xc6\\x10\\xaaJ\\x98OR5\\xe5\\xe9\"\\xb00\\x97\\xc5X\\x1f\\x99K\\xa43*r[wz\\xda\\xbc\\xa8*!\\xf5\\xe7\\xe7\\x0e\\xf9\\x1cpd\\x0e\\xb1]\\xfb\\x93K\\t\\xd3\\xe1\\xd3\\'\\xc0\\xbe\\x1e\\xfe>\\xe7\\xa0\\x8a\\x004\\xd9\\x02\\x0b\\x02Y\\xa3\\xaa\\x91\\xd9&\\xef\\xda45!5\\x08\":\\x82h\\x00\\tT\\x81\\x11\\x18\\x01\\xa8Q\\xbdg\\xd0\\x14-J\\xe5\\x8d\\xed\\xb5\\xb47\\'-\\x82\\xa9\\xdcj\\x8fe\\x16\\x11f\\x891\\x86$\\xa9UV\\\\T\\x1a\\x1fG`CY\\x96\\x9a\\x87u:\\xf6\\xd7\\xc6+v=&\\x00ME\\xdd\\xedd\\xd8&\\xce\\xd5\\xe4\\xb1\\xce,\\xf0\\xab\\rQ\\xad\\xabJ\\x98\\x1fZ\\xb6\\xa7\\x02Um\\x10k\\xf2\\xcc\\xe1\\x1ez\\xe8D\\xe2xn~\\xe1\\xd0U\\x1cQbl\\x1f\\xa8T\\x06\\x98\\xc20OB\\xe0ig\\xf5\\x80\\xe3hJ\\xd7\" \\x80\\xa4J\\x0c\\x04P gU4in\\xa4+\\x02C\\x82P)#\\xa0 \\x01\\x01\\x19\\x04\\x015\\xc8m\\xca\\x06\\x04\\x84\\x15@\\r\\x18\\x05D\\xf4\\xce\\xb5\\x11\\xafdi\\xdbV\\xe16\"\\xdd\\x86\\xafT\\x95U\\x93\\x1e\\x98\\x88\\xc8\\xb8\\xe4\\xb2J\\xb3]\\x0f\\x00\\x19\\x93w\\xba\\xd6:\\x940\\xe9M\\x9c\\x99?o\\x83X)\\x8d$ \\x92\\x14O\\x109\\xc6\\x18\\xc2\\x93\\xec\\xd4\\x0c\\xa9\\x00\\x00~\\x8cIDAT/\\x9a/\\x15N\\x17\\x81U$\\x86\\xaa\\xd5\\xa3\\xd8}\\x7f\\xd2\\x154\\x1d\\xc4jV\\xf4\\xfd\\xc6\\xf1\\x18k\\x06\\xf3\\xf3\\x87\\x1c\\xd5\\x11\\xeb\\x10\\xca*u\\xbe\\x8a\\x88\\xb1\\xceZ\\x9b\\x1ah\\x8fg\\r\\xda\\x98\\xf3t\\xfc|\\x16\\x04\\x1a%\\xaf\\x94O\\x12UT\\xd5\\x94\\xcb\\xe1\\x18\\x85\\x91QR\\xe7=\\x11\\x11\\x8d\\x81-\\x92\\xa2\\x10j\\xd2\\x0b\\x89\\x06\\xd9\\xe0\\xc4\\x94\\x89\\n0\\xa8\\x03\\x150D\\xd4\\xb5\\xb6\\x8d\\x8a\\xa7\\x8cQ\\xabz\\xf7\\xd0\\x9do9L\\x14\\x859\\xd5Y\\xc4\\x18\\x8b\\xf2\\xb1\\xe5\\x8d\\xc6\\x98^\\xaf\\xe7\\x9c\\xd3:\\x02LE\\x1ca\\xd7\\x027/\\x1e\\xb2\\xc3\\xcd\\t\\x8b&\\xd9\\x10\\x8a\\x1c\\xeb\\xfa\\xf1\\xeb\\xc5\\xab\\x85\\xd3E`a\\x89!\\x08\\xef\\x86\\x82\\'\\x16x\\x92\\\\\\xd9\\xe3-\\x03\\xc0#\\xc1\\x1bU5\\xc6\\xf6\\xe7\\xe7\\xe9p\\x828\\xb1\\xaa\\xab\\xe1\\xd0{\\x0f\\x93\\xc7\\x9a\\x88\\xa2\\xca\\xf1\\xc2\\xa18\\xa5\\xcc\\xdc\\\\\\xd4\\x81\\x91\\xed\\x14\\x7f\\xc2\\xd4\\xc9\\x0c\\x90\\xe4)1\\xe5\\xbd\\t!5\\t3\\x8b\\x08\\x12Y\\xe7B\\x8c\\x11\\x84%\\x82\\x18Pc\\r\\x1c\\x9de@\\x13\\xdc\\xdb\\xc6\\xb71` \\xc2F9R\\x18=@iI\\xa9\\x91\\xd20R\\xa4\\xbb[@\\xe9\\x18\\xdd)H\\xd7\\xe8n\\xe9I\\x87\\x94\\xd2J=\\x82\\x80\\x08\\xa8\\xf4\\xeb\\xff\\xfd~>\\x9c;\\xae\\xfb\\xbe~_\\xce\\x89!\\x8fM0\\x8e\\xabT){jN\\xd9\\xcf\\x04\\xfd\\xe1K\\xfa\\xae\\xea\\xc9\\xfdoE\\xf5?\\xceB\\'\\x86\\xd5\\x8d\\x97\\x15\\xa3\\xe4\\x1fw\\x81C4\\xe4\\x1857>\\xbb\\x84\\x04u\\xe3\\x00\\xf2\\xe3\\x8d\\xa4~B\\xa6\\x088\\xf6`\\x12\\xd47\\x08\\xfd\\n=\\xf0e\\xd5\\xb9\\xbe\\xf3\\xa6\\xa7(g\\xdf\\x1cd\\xe96\\xb3\\xb7\\xde|\\xd9\\xbe)1\\xc9h\\x98]]\\xcc\\x19-\\xbf/\\xf9\\x8f\\xb5\\x16\\x8f\\x18\\xc7\\x9f\\xe7\\x8c;\\x04\\xbe\\'\\x14\\x129\\xfaE\\x0f\\x9c\\x97\\x7f^\\xc5\\xc7\\x82\\xf2\\xa46<\\x80\\xcbA0\\xd9\\xfb\\x9dz\\x19M\\rM\\x9eZ\\xe5k\\xaf\\xad\\x1e\\xd2\\xa4jU\\xc4bJ]\\xb9\\nI\\x07\\x98Z,\\x03j{6Z\\x10r\\x01\\xf3j\\xe7\\xdf\\xe6\\xbf\\x08|\\x1c=\\xc8\\xa3\\xc8t\\x14\\r\\xa8\\xc1gw\\xfa\\x1f[\\xbf\\xe7^k\\xed\\xa7\\xd8\\xb7\\'\\x0b]UL\\xda9\\xa7HEB\\x0b\\x01\\x02\\x1f\\x9b8\\xa7!7\\xc4,\\tx\\x8el\\xf5\\x00\\x80\\xb1\\xed\\xf3\\x971\\x8bM\\xfa\\x16O\\x03cF;yN\\xbcI\\x9b\\t\\xf7\\xfaw\\xed_&*M\\xaf\\x94/8`\\x9f\\x9e\\xc0\\xcfBM\\xd4\\xdc\\xa6\\xd1>KE\\xe0\\xfe\\x1f\\x7f\\xd8?f\\x8b\\xb9\\xd5R%p1\\xe7\\x89\\x15\\xd8\\xe4(\\x92\\xc3\\xf68\\x0b\\xcdGc[7L\\x98\\xd8eB\\x0b\\xe5\\xb0\\xe3U\\xd4\\xc62t\\xc2\\x93m2.\\xb9\\x95.z\\x92\\x1e\\xa2\\x9d\\xb3\\xb2\\xff\\xe2QCQ\\x1ev\\xadl\\xf8K\\x86\\xc6\\xecQS\\xf7\\x9c]0\\xd3g:4&\\x89t\\x85\\x12CF\\'\\xd1F\\xef\\xf9@\\x05y\\xaf\\xaf,\\xa0\\x87\\xe2\\x11]\\x0f-\\x85m\\xc6\\xa2!;\\xc7\\xa7\\xc6\\xcd<gF\\xbe\\xd9\\xfe\\xca\\xfc\\x0b&\\x7f\\x8e\\x13\\x94JD\\xdc\\x85o}\\xfe\\xa9Dj\\xdf\\xb7\\xbf\\xcfs\\xe2\\xac\\xea\\x08 \\x88W\\xd4\\xaaO\\xa4\\xfb\\x9a\\x1a\\x90\\xe7e\\x8f!J\\xfd\\xa1A\\xa9\\x91\\xf0\\xc0:\\x01\\xc0W\\x19\\x82+\\x9dH;\\xf7\\x93Y\\xbd\\x80\\xb0+v,~q\\xec=\\\\J\\xd1\\xf0+\\xdc\\x83\\x0b\\x0bx\\x91x\\xf4t\\xde~V\\xaf\\xba\\xf8 -\\xdd^\\xe1l\\xbb\\xc2\\x9b\\xfb\\xa1l~s\\xf1\\x83+\\xe1sa\\xa9[\\x0eH\\xc5\\x04\\xe8\\xe3(\\\\\\x0cOUG\\x9c\\xaf*+\\xa2\\xb47\\xb62*\\x1d\\x03+S\\xb9\\xab\\x06\\xaa\\xc9>\\x85\\x01a\\xd6G\\x12\\xd2\\x9b\\x12/9\\x1a\\xe4\\x1a\\x05y|E\\xdc\\xdc6q\\x19\\xae\\xad\\xb9\\x9b\\xab\\\\\\xdc\\xa5\\x91A\\xd4\\xed8\\x0f\\xa7\\x9e\\xd9C.q\\xab\\xd14`\\x881\\x02\\x19\\x02d\\x9b\\x889\\x90\\xa4\\x89\\x8e\\xcbV|\\xad\\xcf\\x14R\\x08\\x8e\\x15\\xa5b5\\x00\\x16\\t\\xa1I\\x1a\\xb4?\\x83\\xd1ZY\\xb6\\xcf=J\\xfa\\x16\\x9f\\xff\\xf7\\x9f3\\xcc1\\xbbt\\x9cU\\x1f!\\xf2\\xe7\\xb2~\\xe4\\xf2i\\xdb\\xc9:\\xb2\\xdac\\xd9\\x99\"^y\\x89\\x87\\xf7\\x9f\\xa3\\x9c\\xb6\\xech\\xa7\\xfa\\x18\\xbf\\x91D\\xbf\\xb6\\xe8h\\x9ds\\xc5\\xf0\\x85+0_\\xe3\\xa3\\x18\\x85\\xc28m\\xc9\\xf9\\xdb\\x8d\\xb13O\\xa1\\xa5\\xd1x\\x92\\x08\\xc6\\x84\\xd7\\x8f\\xf5\\x90\\xa4N\\xf2\\xb4a\\xe9\\xd0\\x8f\\xcasb\\x16{\\x1f\\x17=\\x93\\x8b.ww\\xd7.x$*\\xe0\\x1f\\xad\\xd2W\\xc4\\x9cxi*\\xe4hC\\xf1`F\\x08\\xbb\\xe6.\\xc5\\xe1\\x85\\x90\\x1al!I\\xed\\x0b\\xcd\\x08\\xcfO\\xb4W\\x9aY\\xf8{\\xf0\\x9c\\xc7\\xbeEv\\x9a\\xc3\\xea\\xd9\\xbf\\t8\\x1e\\xca\\x94K\\xfc\\xf7X\\x91T|\\xe1\\xe2\\xf6];\\xa3\\xf3\\x1a\\xf7G\\x05\\x89\\x0f\\x0bp\\xaby\\xca\\xc7\\x8eQ\\xbbm}xy\\xaa6\\xad\\xc1e\\xdb`\\xec\\xe3$)\\x8bN\\xfdZ\\x01t\\xa7\\xa1\\xd3\\xc3B\\x8c\\xbd\\xb5-)sr3N\\xc2\\x93\\xdaX:LA\\x01\\xf4Q\\x1c\\xc799\\xab\\xe7\\x84\\xef\\xf0Cl\\xa8t\\xdd\\x02\\xb1\\xb7\\xd6\\x82\\xd4\\xc8\\x84\\'\\xbeLP\\xb4x\\xf9\\xfc\\xb7\\xf3\\xd9+?\\xbe\\xbeY\\x11\\xf3\\xafA\\xe3t\\xf3t\\xb1R\\xd2\\xcf/a\\tv\\xd4\\x7f3\\x08\\x049\\xa2]\\xba\\x1en\\xf1\\xcf\\x99\\xa3\\x87Yw\\xa3\\xb4Q2\\t\\x03w7\\xdf,\\xf6\\x98\\xa9\\x86\\xe6\\x1e\\x15\\x045\\xb5\\xb6\\xd2\\xc8eOt\\xadK\\xfe\\xd9(A\\x00\\x0c\\x1d\\xe1$\\xbf\\xb4\\x18N\"\\xba\\x92$\\xc34\\xd5o\\xebd\\xe9\\xba5\\x02\\x07w\\x14\\xa2\\xa15\\'{\\xfe\\xef\\x9dLej\\'\\x1b\\xa3\\xba\\xb0\\xc4\\xba\\xe7/\\xa3\\x7f\\x91 \\x0c\\xe8it\\xf0\\xa4\\xdc16z\\x96\\x87\\xc3l\\x8fB\\x89\\x8a\\xdd\\xd1\\xcfR\\xe4\\x94\\x1f@\\x8b\\xf0<e\\xe2K#\\xb2\\x0f\\xe4\\x00\\xa28G\\xbbQ\\x9b\\x8b\\xcf\\xcdS\\xdd\\xeb\\x1b\\xe6O\\xbe\\x1bPX\\x92\\x13\\x99\\xe3\\xebQj\\xb3)|9\\xba\\xcd\\xbbsi;\\x95\\x02C#\\xd3\\xb2\\x08\\x9f+P\\x1b\\xa2\\xc5pB\\xc3?\\xb4\\'\\xaf\\xb8`\\xb2.\\xb4N\\xa9\\xe3\\xe1\\xad\\xae\\xae\\xfe_\\xec\\x92\\xe6\\xbc\\x0c\\xe6\\x8e\\xae\\xe9\\xda?\\xfcE\\xe8\\xb5\\xcazN\\xef>\\xf7\\xc2\\x85)\\x1f\\xa8\\n\\x870\\xe9\\xce\\x1fS\\x99\\'\\x85-\\x0c\\xdf0*\\x06]\\xc0\\xfd\\xac\\x02\\xe8r\\xb0L\\x87]\\x04\\xf2\\x0e\\x93\\xa1l\\xf25\\xe3/\\x97/\\xec\\x85t\\xc0i\\xfe\\xcbc\\x034@\\xf5\\xf0\\tNw@\\x0c\\x12\\x88\\x82\\xf4\\xd36D\\xc1\\x1cmr\\x16\\xa4\\x99\\x11@Z\\x84&\\xaeD\\x16\\x05\\xb6\\xea/\\x0c\\x8b0t>\\x19n\\np6\\xe9;su\\xf0)\\xa3\\xd1U\\x86\\xb4\\xac\\xa2\\x8at\\x9f\\xba\\xab\\xa6?(w,J#+C\\xa0\\x8d\\xc6\\xc7RG\\xc4\\x15\\xc0\\x04\\x8bp\\xb9O\\xe9\\xe1\\\\\\xebm\\x1f\\xbbf\\xf9\\xd0\\xa6<\\x85u\\xf3F\\x9d\\xee\\x03\\xcf5\\xb4\\xda\\xe0\\x89\\xc7o.G\\xf6p\\xa6vj\\x1f\\xed6\\x0c\\xdd\\xf2\\x15\\xbeA;I\\x99\\x12f\\xfd\\x03>\\xa4\\xe9x[\\xba\\xad,\\x17\\x1f\\xdb<}nCG2\\x1fg\\xe0Yd\\x15\\xcf\\xac\\xe8\\xd9\\xb6\\xfa}g\\tV\\x0c\\xdb\\x82Fo{P\\x85\\x19\\x0b\\xe4O\\xbe\\xb6\\x8b?\\xc5\\x893\\x91\\xd0\\x13!\\x93U;A1\\x04\\xc3\\xe4t\\xf1\\x85\\xfc\\t\\x8dZ\\n\\x80\\xe8t\\x1e\\xf7(\\x82\\x18\\x92\\\\V\\n\\xee\\x94\\xb8\\x84)\\xd1\\'\\xac\\x92\\xaf\\x0c\\xed\\xfc]\\xa6\\x02f\\xb0\\xbf\\xdc\\xf1\\xb6K\\x9e\\x96\\x1b\\xf4\\x7f\\x0f\\xc9\\xac\\\\@\\xfb\\x0f\\xa2\\xc44`\\xa1e\\\\T\\xe2\\xb9\\xf8\\x04\\x0e\\x08C~\\xe1c\\xe8\\x13\\x1e\\xde\\xfa\\x9az\\x1bB\\xe3-\\xc3\\xe8\\xda\\xeb?}\\x7f\\xcf\\xd3\\xe0r\\xc7\\x82v\\xb5~ui6\\xd3\\xc6\\xe6)\\xa3`s\\x8cV:{\\x8d\\xda\\x8f\\xb2\\xb1\\xfe\\xe9\\xdf\\xea\\xaf\\t\\x16\"\\xabX\\x8f\\xbc\\x99Y\\x05\\xc9\\xaaA\\x80\\x9e?9gb\\xc6q\\xe0\\xd0j\\xec\\xca\\x13Ea\\x88-\\xa9\\x97[\\xef\\xd9\\x92\\x8d=\\x8f<\\xb8\\x96\\x8d\\xba\\x88\\xf1cW\\xb2a\\tj\\x01@.\\xa4\\xb0\\x03\\x00\\x90\\x14\\xca\\xff\\xb2\\x96\\xa4a\\x1bf\\xcd(+d\\xd6\\x97(\\tp\\xe2Lb\\xc9\\x98\\xb8\\xb9\\xca\\x980j\\xcfJ\\xaf\\x1ebA>\\x9e_\\xc8\\xd7\\xa0\\x91D\\x99\\xcfay\\xb6\\xc7\\xc8wE\\x15\\x02\\xcd\\xa9\\x12\\x98\\xfb\\xe3\\xa5~\\xd6X\\xab5w\\xea$\\xf0+Z\\xb4\\xb8\\x9e\\xae]\\r\\x1e\\x8c\\x0f\\x88\\x95\\x9e\\xba{\\xff\\x99x\\'aB&\\xb0\\xdf\\xe3C\\xdey\\xd8\\xb4f\\x97\\xe3\\x13\\xafL\\xcc\\x98 \\xdfT\\x08\\xe9\\xa6\\xce\\xfe\\xc4c6G\\xe9\\xef\\x8a\\xa4`\\xff\\xc8\\xfa6W\\xc8u\\xc8\\xf3\\xa7\\xbb\\xaam\\x05\\x9c\\xac\\xc7\\xa7\\xf3P\\xd4\\x0c\\xee\\x14\\xa1\\xc0\\x16\\xd1 \\xc8hcd\\xfb6\\xea\\x1b\\xc9u<\\x91\\\\m\\xa8\\x12TLh\\xe9]\\x82\\x95\\x90~?\\xf25\\xab\\x8e\\xb5V\\x96a\\xa9y(\\x98\\x93\\x1d\\xe4\\xb4\\xd2\\xa3\\xfa\\x99\\x11Mg\\xf2KT\\x87\\xc6\\xee\\xd1L\\xed\\xf9U\\xf8Cyr!\\x9c=T\\x99N\\x1bH\\xa5\\x8d\\xb0\\xd1v\\xec\\xee~\\xdce\\x90\\xf6\\xa6(\\xa2\\xcb\\xf69\\xcb\\xcfj\"t\\x0c\\xbf\\xea\\xc1\\xdb|\\xcb\\x13\\xe6 -*!,\\xf8\\xab\\xc6\\x92Y\\xdf\\x9b\\xb2gp\\xfa\\x9f\\x97\\xff2\\x1f\\xf8\\xe7d\\xedFNA\\xdc\\xe88>\\x05\\xda\\xeb\\xd3y\\xb6\\xd1E\\x1c#\\xc3K\\x13\\x8d\\xab\\x84\\x88,\\xb8ty\\xafz\\x04Q\\xfcv|\\xb1^\\xe1\\x18\\xb9*&\\xcf\\xc7f\\x8d\\x0f\\xb01\\xf5AK\\xa6*\\xa5\\xd1\\xc4\\x11\\x03\\x850\\xf1\\x07\\x9e\\x85\\xf4\\xbcXA\\xfb\\x04\\xf9\\x90Qz\\x8b\\t\\x01n\\xc1&L\\x08\\x15\\xff\\x13]r\\xa0\\x13g\\xb9\\xe5T\\xd5\\xc386\\xcb\\xb5|\\xd9x&\\xc9\\xba\\x83n\\xba\\xa4)V\\x1a\\xa7\\xee\\xf0;s\\x8b9\\t\\xb3,\\xb6j8+zW\\xa4\\x87\\xa3\\x9b\\xf9?\\xa9\\xbb\\x05\\xefeU\\xb5\\xce#\\x8a\\x08]\\x05\\xf3\\xcaCZ\\x0e\\xde\\x92\\x95\\xc4JE\\xbdE\\xc9\\x99?zG\\xe5Rh[g\\xeb\\xce\\xeb-F\\x1f\\xf1\\xea\\xfd\\xe9\\x84\\x83\\xcff\\x86\\r\\x84\\xec\\xa1\\xff\\xf2\\xfe\\xe5s%nh*!\\xe1\\xecA\\x1c\\xcd\\x97.l\\x97\\xffq\\xfc\\x85\\xb5@\\x13\\xe9\\x02twz\\x7f\\x89\\x94\\xa5\\x9d\\x08I\\xaa\\x8d\\xe6Mmt\\x95d\\xac\\xd0mUV^0t\\x88\\xe4\\x99H\\xe5\\xb9\\xf6\\x0e\\xfev\\x9e#/\\xd1\\xff\\xbcWL\\xf8\\x14\\xb2\\x12\\xaa\\x99\\xe6\\x8bY\\xb8j\\x0f\\x04M:\\xda\\x07\\x8a\\xfe\\xa0x29Cg\\xe5\\xba\\xde9U4\\xdd\\x9d\\x9f\\xba};\\xd7fH\\xeb\\xdde\\xfa_\\xc6\\x10L\\xc9\\x83\\xe4\\xc3a\\x06\\xbe\\x02>S\\x18\\xbb\\x95\\x9a6\\xdf\\xd0\\xfb\\x8b\\x8d}\\xa3L;{\\xbeX6\\x96%\\xcf\\xbd\\xea\\xe2\\xb5\\x8d\\r\\xea\\xdd\\xe7>\\x8c?\\x9c7\\xee&\\xfe\\x98q?\\xde\\\\:9[\\xbb\\x8a\\xcf3}i\\xf4!\\xf8\\x8c]\\x94\\x03T\\xa9J=GWX\\xba\\xc60W*\\xa6\\x99\\xf0\\x84\\x9c5Rb\\x18\\x8be\\xffR\\xd7\\xec;h@\\x89\\x1d\\x94\\xac\\xbd\\xf9\\xf4\\xfc<\\xc9\\x05\\xa9LL\\xce\\x8f\\xabY\\x96\\x0e\\xde=\\x18`Q\\x98\\x98\\xfb;p\\xb4Jv\\xbc\\xee%\\x93\\xcfC\\xa8\\xcd\\x92,\\xe6\\x96 \\x8b\\x1f\\xfe_\\x0c}\\x0e\\xe5\\x82\\xc6)R\\x0f\\xa0\\x9e6\\x0f\\x00&\\xf3\\xa9K\\xf2\\x85\\x10\\x10\\x01cr\\xbf\\xcb\\xcc\\xac\\xdc[\\x81tRF\\xe1l\\xf2i\\x12f#\\xfd\\x93\\xb0\\x96\\xe4\\xff\\xd8^\\xef\\xd6\\t3\\xec\\xcf\\x89\\x86\\xa7\\xc8\\xbcn\\xa2mR\\x05\\xb0j\\x81\\xaaD\\xe1\\xfd\\xe9\\x87\\x8a\\x87\\xbc\\xccF\\xf2\\xa8\\xe1\\x01\\xa7L4\\x8d\\x07X/v\\xf1\\xef\\xf4-\\x1f\\xbd\\xd4\\xef\\xe17\\xc7Y\\xd3\\xf9\\xf2V\\x96$*\\xda2?\\x8b\\x90sJ\\x14{\\x98\\xb4\\xc2\\xa0\\xab[\\xe9P\\xf2\\xff^\\xc4\\xe9\\xa2\\xb6\\xa4\\xd0S\\xbc\\xa4\\xbe\\xa5\\xf3\\x1a\\xcb\\x81f\\x14\\x99>\\xbd\\xbe\\x166\\x0e>\\xbb!\\xf4\\xe4\\x1f\\r\\x13q~n\\x1bk+\\x1b\\xaf\\x0e\\xce\\xbdN\\x0e-\\xe6\\xa6$6\\xc4\\x93\\xa2(!|\\n\\xa5\\x0f\\xf1\\xa2!!\\xb1\\xc4\\x80R&\\x95\\xe8\\x9cO\\x00\\'\\xa7\\xc2\\xaa7|\\xba\\xe1\\xa0\\x82%\\xd1OF\\xd0\\x88Jr\\xb9\\x90\\xd1N\\x9f\\xf0\\x1e\\x93\\xe8\\x86)4\\x1f\\xb2\\xb1\\x1c;\\xdaT\\xf3\\xeeR\\xa3b;\\xd60\\xe3G\\xa1\"\\x95\\xbe\\x96\\x96\\xad\"\\x88\\\\!\\x85\\x9fpQE\\xb0\\xc9\\xde\\xd6\\xd4\\xb6V\\xc1\\x13\\x96\\xa6WF6\\x07\\xb1[\\xec\\xe8\\xf0\\xea\\xeb\\xf07\\xd8\\xfc\\x10\\xe4n\\xd2w\\x11t\\xfb\\xcb\\x86\\xc9$\\n\\x06;\\xd26\\xcf\\xce\\xccv\\xcb\\'s\\xde\\x0b\\xd4\\xe4\\xcc\\x93L\\xb1{\\x83W \\xa8\\xa1MI\\xab\\xc3\\xa8\\xfc\\x07\\xcb\\xc9@\\x1f\\xa9\\x88\\xb2\\xf1\\x98\\x86iS\\x1df\\xb4\\xb6\\x86?\\xeb/\\xc2\\xb6\\x9f\\xac\\xf7\\xf9\\x9d$\\xe2\\xbf|i\\x08AK\\xadl\\x18\\x99\\xbeRDCe\\x01q;\\xf1>8(\\xc2=\\xadW\\x8dh\\x12\\xb5\\xbc\\x03\\r\\xb4\\xe2\\xa5\\xb1\\x8a\\x7f\\xe7}\\x06g\\r\\x9f\\xb9\\xf9\\xc3\\x06\\xe1!\\x97\\xc3\\xf8\\xb8\\xcb\\x84k<\\x9b\\x11\\x00\\xdaD\\x84\\r5<\\x89\\xeb\\xb2D\\xbb\\x99.\\xdb\\xbc\\xcd*\\xfb\\xdc\\x84?\\xac\"f\\xc0K/\\x03o\\xa1f\\xfc\\x18P\\x81l;,\\xae\\xac\\x16\\x88\\x8ae1\\xda\\xee\\xd1<\\xeb\\xb8\\xf6\\xe7\\x10\\xac\\xeb\\xf8c\\xbem\\xf7\\x187gu\\xd0\\xf8\\xcbu\\xff\\xe0\\x9d\\x9bu\\xbe+\\xf4=\\x95,k\\xe4\\xf7\\xa9\\xc1\\x12|\\x93d\\xda\\x08\\xcdd\\x86\\xe7\\xa6`\\x82\\xc8\\xb7VpB!\\x02ZV\\xdb\\xf7\\xe9R\\xdfV.\\xe3\\x08\\x97\\xcd#\\x9b\\xaen\\x0c\\xfah]\\xdc\\x9eN?%\\t\\xb8\\xfd\\xba\\xe4+\\xf6d\\xba\\xb6\\xe6\\xd8\\xd9%\\xcb\\xa6\\x8ag\\t\\xeeDRV\\xd5\\x89p9\\x92\\xa5\\xf8\\xa0\\xea\"5;\\xd9\\xe9bK\\xa81\\xb80\\x03\\xccc\\x7f\\xca\\xf7\\x11\\xab\\x98\\x99x\\xb1\\xce\\xe37\\r\\xb4x(@\\xbc\\xd8\\x80\\x1c\\xef\\xd2\\xc9\\x9c\\xfc\\xfca\\xa2{\\xc9\\x0e\\'\\xaef\\xf3$\\x97u8,\\x16NR\\x99\\xf1Kti\\xa8k\\xad.\\xee\\xc8\\xb3\\xc74\\xd1)\\xf1{T\\xa0\\x93W\\x81\\xcf[\\xea\\xa8m\\xc2\\xbe\\x1bQ\\x92\\x8f\\x84\\x05p\\x9a\\xe6\\x86\\x9e\\x96\\x9e.\\x82\\xb49.^w\\xa4\\xc5\\x07\\x8e\\xc0\\x88\\xbf\\xc9\\xe5\\xaa\\xf2\\x1biC\\x9b\\xba\\n[*\\xce\\x07\\xca\\xd4\\xd9\\x18\\x1d\\x1b7r\\xaf>\\xf7\\x8b\\xdc3\\xc1[;*.\\xa5\\x12\\xc2?\\xc7\\x97\\x92&\\xb9f\\x95\\x87]O\\xaa]\\xdf\\xef\\xfb\\x07\\xed\\xef\\xd5~\\xfdM\\x1a\\xcb\\xce\\x8dL\\xc9\\xa1i\\xad\\xcd\\xcf\\xbbRt\\xc1f1\\xb62\\xcf\\x14\\xb3:\\x91\\x15\\x0bi_\\xc1\\xe5j\\xc2\\xf1\\'\\xdf.}\\xf7\\x9e\\x85\\xb7R\\xca(\\xa2;\\x9b\\x9bu\\x13q\\x8a\\x85Y\\xbb\\x0c\\x87^\\xdb<4\\x82bh :\"\\x9d\\xb0.\\xd2\\xe9\\xab@\\x94\\x07\\xfa8}\\xfb\\xc8R\\x08\\x89\\xb31-\\xdb2\\xb25\\x95>\\xd4Z8]\\'<\\xf5\\x00\\x13\\x84h\\xd4w\\xfb~-\\xf6\\xf05@\\xf8\\xe1\\x9e\\xd20f\\xb6\\xbdG\\xf0\\x15p^\\xbd\\x7f\\x02\\x1a\\xd2\\xfbsBI\\x9ahNS\\xcaJ\\x1f\\x89\\n\\x1fX\\xfb\\xf4k\\x1c\\x08\\xab\\x81oO\\xdf>$\\xfaz\\xd3\\xd9:y}\\xedwl\\xec\\xb4\\xbc\\xb4tP\\xdc\\xe3\\x7f\\xb67\\xbd\\xd4\\x86\\x81[i\\t\\xe1*yD\\x16\\t4l\\x0f\\xbe\\r=P\\x15L\\xac<\\xd2\\xd8\\xe3\\xf84+\\xce\\xda\\x912\\xceL\\xc4\\xbf \\x8c\\t8\\xe9^\\x7fb\\x84\\x87\\x82y\\xbf\\xccX\\x1d\\xca\\xff\\xea\\xce9\\xd9\\xe9\\xc3\\xb0/x(\\xd0DPe\\xeaM\\xd9H\\xecC%WK/\\x13\\xe6\\xc9\\xfbrD+\"\\xe0\\x7f\\x7f\\xdf\\xa5X\\x0e\\xa2\\xd2\\xaf\\'\\xd3\\x1eJ\\x0c\\x1d\\xdc\\xedY\\xad\\x92\\xbcyo\\xd6\\x19\\xb4.\\x16\\x1cBv\\xf3\\xdf\\xa7\\x9e\\x8a\\x19\\xd9U\\xc0EL\\xff?>\\x0f\\x8bU\\xdb#\\xd7\\x98i\\x90\\x9a\\x05U\\xe4c\\xff\\x049\\xec\\xae\\xfd\\x1b\\xd0\\xd3K^d>\\x9fW>\\xf3-\\xd5\\xd4\\xd5a\\x0fz\\x03\\xff4\\xf1\\x98\\x18\\x19\\xd1$(\\x9a\\xd0\\xbdS\\xd0nQ`\\xa1\\xedL1\\x9b\\x0f\\xa7N_\\x8fv\\xfb\\xe6 }h\\xc2J\\x91A\\x0f\\xfb*^J\\xf51\\x90,j4WO\\xca\\x88R\\xc1(\\x93\\xf6K\\xaa\\x07N\\\\\\xa0[\\xbdo\\xe5\\xe6\\x8d\\xe9\\xb2\\x0f\\xc9$\\x0f\\xb6*K\\xb4\\x95\\xe2\\x11:\\xa3\\xbcR\\xc5Z\\xce{\\xdaH\\xfebi\\xfawtAT\\xed\\xd7\\x81\\xfdL\\x9f\\xb3\\x17\\xf5\\x9b\\xffy\\x07&\\xf5\\x92\\x05\\x06\\xd5vS\\x8b\\xae\\x0fQ\\xb4\\xfc3k\\xda\\xf6\\x80\\xad\\xd1\\xa2%\\xadgg\\xea\\x85\\x0c;\\xf8\\xa3)&\\xda\\xf0\\xe1R\\xba\\xa1B\\x81x\\x93\\xcf\\xe8\\xb44\\xf2\\x1a\\xb3\\x0e\\xc9\\xf6\\x96\\xd7\\xfd\\xa7J\\x12CS\\xaf0\\x06\\x12\\x8f\\x83O\\x1b/\\x7f\\x0c\\xd4\\xfb\\xec\\xf5u\\xbf\\xc1{\\xbe\\xd6u\\xdd-\\xfd\\xfez\\xac\"\\xb6\\x1f\\x92J,TcU\\x12)\\x97\\x82\\x07\\x84\\xa2ld3\\x85\\x0e\\xfb\\xad\\x8c\\x8d\\x1a[\\x1dy\\x03\\xcb\\x90V\\xf1\\x93\\xf1\\x00\\xdf\\xe2\\x909\\xec\\x1b\\xf5\\xa7*\\xdf\\x15\\x9e\\x00B\\x8a\\x17nD\\xed?e}\\xf4\\xd5\\xd3\\xc9=\\x8e\\xfb\\xbcc;\\xea\\xea\\xc0\\tmN\\xacJX\\xb2X\\x0bu^\\xdf\\x13\\xf1\\x9e\\x80\\xb79\\xad\\xc7z\\xd8\\x0f>\\xfd\\xf5+\\xae\\xcc\\x92\\xef\\xe4ni\\xaa\\x93\\x10\\x7f\\x8df\\xf9\\x1dO\\xd9\\xc7\\xc1\\xaf\\x99\\x0bVuU\\xab0\\x19\\x98\\x16>\\xa5\\xbb2i-^\\xd7\\xc0s\\xd2V\\xf6J\\xae\\x8d}\\xc2\\xd4/\\x19\\xaf\\nD\\xc6\\x7f\\xba\\x05S\\x7f8{o\\x96\\'\\xb1\\xf5\\xdb6\\x7fzp\\\\\\xb5\\xa2;\\xfb\\xc2\\xb7\\x14\\x0b\\x16\\x9aR%\\x14\\x88\\xe2\\x1c\\xf9\\xcb\\xaa!\\xc4\\xaf\\xbe\\xad@gE\\xafM\\x0b(Z\\x111\\xca\\x83\\xe6=y\\x90\\'\\xbe\\xf5\\xa7\\x0fFA\\'\\xc0\\xfb\\x1d@q\\xeamk;\\xd2\\x1ag \\xbe\\x9e\\xc3\\xa2\\xa0PZw\\x08\\xf0\\xd8\\x1e\\xc0#:\\xe5\\xae\\xef\\xbb\\xdb;t\\xfb\\xf9\\xfa\\xe6N3\\xe8\\xd7|\\xc1\\x9d\\xf7UZL\\xc2B\\xcb\\x13\\x80z\\xf9\\xeb\\xe3\\x0f\\\\\\xeaj\\x13L\\xc6\\x08A\\xb1\\xb4\\xbfo\\x1e\\x9cVtG\\x9a8T\\xeb\\xaf#\\xf4}\\x8c2e\\xf1k=\\x8c\\xf6z5o\\x892\\x17A\\xa9\\x9cM[\\xa5\\x8cQ\\n\\x8e_\\x8d\\xc5\\xc8Q Ee\\x16\\xa6O\\n\\x19Cs\\xe1\\x05o\\xf8\\xae\\x9a\\xff\\x0c\\x85\\x1f\\x85kV=\\x93\\xf6\\xbb\\xfb\\x95\\xb1\\x90\\xd9R\\xe1\\x06d\\x0fS\\n\\xb4$\\xbcj\\xf8q\\xacB,;\\xe4\\xc0\\xf2\\x13X\\xe7\\x99\\x86\\xe5\\xd7\\xdd`B\\xc0\\x1aC\\x1a\\xeb\\x12\\x07\\xbe\\xfc8\\xa03\\x13\\x0b\\xe9G\\xea\\x18\\\\\\xb8\\x07V\\xd3&\\xee_\\x87;\\x19\\xd4\\x91o\\x15\\xdc~/\\xb8\\xfb\\xfbQzc\\xe5\\xb3\\xf3\\xf3f\\xa5I\\xa3t\\x94\\xac\\x0eo\\xb4\\xc8\\xbar\\x1a\\xd9Vz\\r%\\x86S0\\xfa\\xa3&y\\xc0/\\x13T\\x9a\\xfb\\x938T\\n\\xa7zI\\x9f\\xc7\\x92\\x98]<p\\xd10\\xba\\x89SQbH\\x8e\\xe5\\xf5\\xea\\xd1\\x1f\\xf1\\xde:\\x16ym\\xb5\\xe4\\xc4\\xe4\\x04GC.H\\x03xW\\xe7\\x9b\\xe1\\xa0\\x96\\x9c\\x82q\\x9a~)\\xb0\\x95\\xfa\\x89\\xd8\\x82\\x0f\\xc3\\xf8\\xc1\\xb1\\xd2\\xe3\\xe0\\xdf\\x9b\\xb7w\\xff\\xdd&\\x911\\xb6\\xa5\\xfa\\x88?\\xaa\\x7f\\x85\\'\\xa7o\\xf1\\xb62\\xb4\\xc8\\xe8!\\x87\\xb2\\xeb\\x0b\\x89\\xd0\\xb2[\\x86\\xb2{\\xe9\\xc3\\xd5\\xbfk\\xee\\xd8\\x97\\xf6\\x92L\\xa6BS&\\xd9\\xc5\\x01Pv\\'\\xa1\\x83\\xc1_\\x07\\xe3\\x91g\\x84\\xde0\\xe2\\x17hJ\\xb3\\xa0+\\x87\\xa8\\xbd\\xb5o\\x9e\\xf0\\xac\\xe0;\\xa5\\xe0\\x1b\\xbb\\xbe\\xfb\\xa7\\x93\\xfa\\x8d\\x1f>0b\\x91m\\xf2d6\\xe4\\xd9\\xe4l@\\x04\\nM\\xad\\xf0e1K\\xd9\\x8b,7M\\x1b\\xa0\\x1d\\xc3\\x932 yfF\\x83(WN\\xaaD}\\xe5$\\x01\\xe0\\x8c\\xe2\\x0e\\x86\\xc5\\xdaJSr&<`9\\xedU\\xe7\\xfe\\xb6g=\\xbaC\\x1du/\\xf5\\xd0?e\\xd0\\xb9\\x1d\\xb5H@\\xa8\\x9e\\x8a\\x13+\\x98\\x9e\\xc6b\\x16B[9&ZF\\xc7\\x80\\xdb\\xd6\\x0c>\\xb7\\xea\\x13\\nnM\\xfb\\xb3\\x19\\x90\\xd0t{\\xd2<\\xd3<\\xe1\\xd6\\x93h\\r\\x12d\\x82\\x02\\x89\\x931\\x1a\\xb6\\xf1\\x1a\\xcf\\x1c\\xfa\\xad\\x8b(ST`\\x93g\\x18\\x16I\\xcd<v\\x10K\\xe9U\\xde\\xed\\xfd\\xe9\\xd77:\\xdd\\x95J\\xd4\\x02\\xa4\\x90\\x19\\xd3\\x1e\\xf1\\xf6\\xd7\\xb3\\x04\\xd9Vz\\x89d\\xae\\x1b\\xcf\\x97\\x0b\\xb6\\x8b\\xaf~6?\\xbd\\xff\\xa6y\\xe7}v|{\\xb6~9\\xd9\\xa9\\x85>J\\x99\\xb7R\\xa8\\xa9t\\x8cH=\\xc2\\x07R+\\xe4:\\xfbq\\xc8\\xfd\\xc4T\\xceSe\\xcd\\\\\\xb1\\xab\\xdb>jF\\x86c\\x94\\x19Jh\\x85\\xa7S\\x9a\\t\\xf2\\x1e\\xb9\\xb1\\x81I\\xb9\\x86/\\xfa\\x13\\xae\\xdf_-\\x05\\xfed\\xd8\\xe7ny\\x82\\x04\\xe4`Hh\\x81 \\x07J\\xd2\\xca\\xc2b\\xcc*\\x1c_Vf\\xf5\\xb9\\xcc\\x90j\\xcd\\xa8\\xce\\x1b\\x8f\\xfdG\\xf7\\x9b\\x9bt\\x19#&\\xf7#\\xc1\"\\xf7\\x17\\xf5[A\\xcd\\xdbM\\xaevG\\x07\\x19\\x03\\xdf>\\x85_\\xfbA\\x81\\n*\\xec\\xcc*9\\xfcLv\\xb4G!\\xf1ia\\xf3\\xa8-\\xbc\\x07\"[\\x16U\\xe7\\xb6\\xfb8z\\xa0\\xf6\\x80M>\\xddI\\xcf2\\xc39\\xd9\\xdfSCB\\x0cP\\x9ed\\xb5\\xc4dH3\\x8e\\xecC\\xa5\\xafb\\xf5\\xc4\\x84\\xd4y\\xbb\\xdb\\xe6\\xf1E@2\\xb9\\x82\\x83d\\x98=\\xed\\x95\\x05$#\\xb7\\xde-\\xeb!Ak\\x1a\\xce\\x00\\xa4E\\rU\\xc7\\x9b}\\x7f\\xc1\\x9emn\\x10(\\x16\\x06\\xfeZ\\xfeeH\\x02\\xac\\x16k$v]\\tB\\xd2\\xee>\\'\\xfbBw`K\\xa3\\xbd\\xf7f\\xd3&TV!A\\x0b\\xc0\\xabm\\x98\\xfe\\x10\\x0cU\\xa4\\x1cV\\xaf\\x85\\xf1-\\x1a\\x16c-\\xe68\\x9f\\xc4\\xe2\\xa7\\x17\\x07\\xfc\\x9c\\xab\\x17\\xb9\\x1b 0\\xbe^\\n\\xbe,\\x98\\xea\\xbd\\xa5=\\xaex\\xb7^P \\x11\\xfc}\\xdc\\xae \\x08~\\x10\\x0b\\x86c\\xd0\\xb5X,\\xed\\x88\\xed\\x98S\\xac\\xe8\\xbb\\xb6}_\\xa1\\xbf*\\xaaL\\xeaAf\\x15\\x04\\x10LDsP\\xe4\\xbcIUf/\\x82\\x1c\\x98a\\xdf\\xd0\\xf1\\xe6\\x14\\x97pS\\xf8\\xb0\\x01\\x87M\\xd5\\x9a\\xea^\\xd3\\xf3\\xb81\\xf7\\xea\\xe9|\\x88\\x96\\xd1g\\x91\\t\\xa9\\x8c\\xa1\\xa3`Ps\\xb8c\\xd1f1\\x07\\xfb\\xde\\xda\\x01\\xd4\\x85\\xc7*\\xb5;\\x88\\x99\\x89\\xab\\xb1\\xfc\\xec~\\xd1\\x0c\\\\w\\xa8g\\xc4\\xda:RQ\"\\xea\\xe9\\xda\\xa2\\xd8\\xd2\\xaa\\xc1\\rq7S[SG\\x87\\x0ffI\\xcf\\x0eN\\x1b\\x9e\\x94\\xa8\\x1e\\xbf\\xd9\\xdc\\x95j0\\x8a \\xd5\"\\xe4\\xd4mQ\\xe9#e&\\x07\\x7f*\\x8ab\\x80\\xe0\\xbb\\xe3\\x93k\\xd1P\\x1aB\\x87C\\r!R\\x80\\xe0\\xe0\\x9b\\xb1\\x93\\xbb\\x81\\xeb\\xfb\\xf6{\\xdbC\\xbb\\xc7\\x87A\\xb2\\xdd\\x1a}\\xd7W\\xdd\\'\\xc6\\xfbF\\x91\\xb2\\xfeX\\x11\\xdf\\x80y\\t\\x06T\\xf6\\xab\\x8e\\x0bTY\\xa8&E(s\\xc2\\xdf\\\\\\xa9\\x81B\\x9b\\x93\\xf3\\x02\\xb9\\xd2\\xa5\\xa75\\xef\\xcd\\x0cM\\xc5\\xb6F\\xe9\\xe58\\x89I.\\xc2\\x0e\\xcf\\xe7|f\\xf7T\\x87\\x12j\\x03\\xcd\\xd6\\xe2}\\xde\\x9e\\xdeDJ\\x9d6\\xb7Ph\\xcc\\xd9\\x92\\xbb\\xb0\\x18\\x12\\'\\xef1r2\\x87\\xb3\\xff\\x02\\xdb\\xaap=\\xfd\\x93\\'Y\\xbe\\xa7_\\xaa\\x96\\xeb\\xa8\\xd6\\xd5\\xf2\\xd9\\x9b%\\xc0\\x89\\x81F\\t\\xc7|\\xa4\\xdcKQ\\xedQ\\xc3\\xf2/\\xd8\\xf6i\\xbaC\\x80g!\\xc9,\\x9e\\x98\\xc2\\x03\\xf5\\x87\\xed\\x80x\\xe1\\xccq6U\\x19\\x97\\xe6&\\x82t\\x19\\x92a\\x9b\\xff^\\x1e<],X\\xbfk\\xbf\\x9f\\xd9\\xbc<\\x7f|7\\x7fZ\\xd1\\xce(\\xd5\\xae\\xd1\\x17|\\xbb^\\xef{u\\x8b\\x19\\xaf\\x14@\\x97G\\xe9\\x86\\x9b\\xe6n\\xfee\\x85_\\xbe9^=\\xfb\\xf8\\xdd\\xb3\\xc8\\x02\\xab\\xef+\\xae\\x9f\\xf3\\xc3\\x04{\\xe2\\x14\\xbc\\x9bKpd\\xc4\\x12\\xeb\\xf6v{\\xb9+\\xe9\\xd0\\xa2\\xb2\\xad\\xfdx\\xbd\\x8bh\\xfb\\xe0\\xa8z\\xf9H\\xff\\xf2Q\\xf0%\\xbf\\x02\\x8dw \\xf9\\xe5\\xc0z 0\\xa2\\xa7y\\xda\\xd8\\xa9\\x93t\\xd0\\x11\\x92\\x92:.\\x08\\xe1\\x84\\xd2\\xb6\\xc4Be\\xb0Z\\xf8 \\x90\\x0c\\x08/\\xa2XV\\xe1@\\x15\\xcd\"\\xc4AD\\x11\\x9e\\xf6\\xf2P\\x88\\x8e-\\x7f\\xd2\\x9b=\\xde.\\xfd\\x990\\xcbh91\\xf9|\\\\\\xa5\\xb3\\xce\\x83t\\xc1R\\x0c\\x86\\xa4\\x10\\xb9\\xdd\\xe4>\\xfde2\\xf0$T\\x0b5\\xa8aj\\xc0f\\xd8\\xa7M\\xc2\\x86\\xfao\\xf9p\\xfd2\\xa8}\\xbbX\\x9f\\xa4\\x84O\\x9f\\x8f\\xc6\\xbc\\xd6\\xd8]\\xa8\\x10\\xc7\\x94*\\xeb\\x84B[\\xeep\\x0e\\x86\\xc8\\n\\xca\\x80\\x1aBhv`r\\xf4\\x89\\xd4\\xdd\\xfe\\x9f\\xeb\\xfan\\x96\\x83\\x9b~\\xe7\\xfb\\x05.?=\\x12\\xf3\\xda\\xfe\\xd1\\x19\\xf7H\\x7f\\xf9\\xa9\\x8b\\xf3\\x86\\xc2,\\xe7K=\\xb5-^\\x1ay\\xa1\\x18\\xb1w\\xbf\\xb3\\xb2])\\xcb\\x89&\\x8d\\xde\\x8b\\xcb\\x9b\\x9d[\\xfd]p\\x8f\\x85\\xac\\x91\\xfc\\t@\\xfd\\xe1\\xb1\\x08\\xf8F\\x84h\\x13\\x14X\\\\\\xd5\\x08>\\xfe\\x96\\xb0,\\xd1\\x9bs\\'\\x18-\\xba\\xb1\\xd2\\xf5gd\\xdf\\x84\\xec\\xb8\\xdb\\xb8\\xd2\\x96n\\x98\\xcb\\x18X\\xcbb\\xe8*\\xa1\\xeb\\xd1\\x14\\x06eb\\x86\\xcb\\xc8\\xc6#\\x11\\xe4\\xe8\\xcf\\x85\\xa2V5\\xb2\\xf2e\\xc3\\xe9\\x8fE\\x88YU\\x89\\x15C\\x00\\x94~.\\x0f$\\xebH\\xcf\\xe1\\x851\\xb1I\"\\xf2\\xc3\\x00hj\\x0f\\x19\\xb60V\\x1b\\x85\\xff\\x82\\xbd\\x9d\\x14q\\x02-tD\\xbe\\xae\\xb3\\x1c\\x85\\x8d\\xd1f]&B\\xb8\\x9a\\x15\\xebS\\x89\\x88\\x81\\xfcH9\\x880L\\xccI\\xd0\\xad\\xd7\\x9c\\xc02\\xdc\\x10J\\xc6\\x1e\\xbe\\xd0fA\\xa9u\\xc8$\\xc1\\xb2\\xb1\\xd6\\'R-\\xf1_\\xbd\\xd9\\x87_\\x13d\\xf7\\x88t|\\x90\\xd0[\\x8c\\xe0\\n\\x9cQdT\\xf3>\\xb1\\xd70\\x0f\\x01\\xc2\\xfb\\x81.\\xcb\\xd9\\xfby\\x8e#b\\'v\\x9bT\\xab{\\xd6\\xee\\xedjas\\x19\\xa2M2\\x9405\\x13\\xfc\\xbbY\\xf3\\xf9\\xcd\\xee\\xd2\\xde\\xad\\x97\\xd1\\xb2>\\xbd/NO\\xa1B\\xb9\\x98\\xdej\\xbe\\x0f\\x1b\\xcb\\x13\\x9bL\\xdeG\\x1d\\x03\\xc8\\x01PF\\xcaBF\\x98\\x0c-\\xdd\\xe2\\x9b\\xb7\\xbfB\\x81\\xf1\\xac\\xa0p\\n\\xbe\\x90\\xd2dE\\xe2\\xe7\\xc6\\xc8\\x8e\\x8a\\xf7_\\xff\\xfa\\xd9\\xb7s\\x14\\xe5\\xfc\\xb7\\xcei\\x02)I\\x85\\xa9\\xdc\\x8e\\xe54\\x1e\\x08>\\xe8`\\xf1\\x89\\xd7Q\\xa1\\x8f\\xf2\\xe4\\xb0\\xce)YK=\\xdc\\x01\\x85\\x0c\\x8e\\x87\\xd2P\\x8d\\x82\\x96e-\\xd3=*G\\xc5\\xe3p\\x12\\xefXv\\x15\\x9b\\xfa\\xa9?\\x87z\\x98\\xc3\\xc0\\xa3\\xe4\\xb0R\\xbe\\x1b\\x92\\xe5\\xe5\\xdd/#\\xd5\\xcb\\xa3W\\x1e\\x9f\\x11VMc\\xc9\\x1e\\xe6*M\\xc0$jO\\xfb&\\x1c\\x87\\xfd\\x9fw\\xee\\xe3\\x90\\x9b\\xd1\\x16\\xb3\\xcf\\x9a\\xab\\xbdo\\x130\\xf1-\\x9ewr\\xc1AAK\\xcc\\x87\\x1e\\x1egCIA\\xbf\\xed\\xa4\\x19\\xdd\\xa4\\xf9 \\x063\\xa6\\x99\\xda\\x9d\\x1e\\xfb\\xaf\\x1a[\\xb7\\xe7\\xbcyR@\\xcb\\xc0|\\x17rx\\xd5\\xc5\\xa3\\x94d\\xfa\\x1c\\x80\\x1aN\\xf4\\x85y\\n\\tA\\x9c%Wq\\xe68\\xc0\\x1cV\\x1b\\xa6\\xa0\\x07.q\\x84\\xea\\xd6\\x93\\xab!\\x0e\\xe6\\x1d\\xc1I\\xaf\\xa6\\x1bs\\xf22\\xe9\\x08\\n\\xc7d\\r\\xf5tsrA\\x08c\\x81\\x9c3\\xc6\\x87K0T5T\\t\\xdd\\xa9\\xfe\\x84\\xd0\\xea\\xedG\\xe3zz\\x0c\\x7f\\xbb\\xf5\\x82\\r\\xf9\\x99!Yuq\\x18T\\xc6\\x852\\x04\"\\x87Y\\xe2\\xfcw:\\x19\\xbf\\xc9\\x1c(dH\\x0e\\x16F\\x85\\xbf71\\xfa\\xfc\\xe7\\xbcIc\\xbf\\xb5}\\xf3\\xc7\\xc3\\xbd\\xe3\\x8d\\xbb\\xb5\\x80\\x02\\x89\\xe5\\x8e\\x17-I\\xfe.\\xbd\\xff\\xa5\\xa5K9z\\xe4Bz6k\\x8e3\\x01\\xb5Z\\xfa\\x87o\\xd5\\xbfe\\xed\\x8d_<\\x13\\xef\\xdd\\xa8)\\xc9,9\\xad\\xe8\\xbb1\\x0f\\x0cl>Y\\x7fS\\x1f\\x1c\\xe4\\x7f\\xb1-q\\xb2yw\\x1e\\xf75|j\\xad\\xeb}\\xab\\xf1Gq=\\x1c-\\x15P\\x16\\xad\\xb0X\\x9a\\xb1=\\n\\x80\\x18m\\xe7\\xf1\\'\"\\x17 /U+s\\xb8)\\xe5(\\xb5\\x99\\x9d1U\\x10\\xc0(\\xd9ws\\xa9+\\xef\\xb6\\x13\\xc9\\xef\\xeb\\x83B\\xc1E1^X\\x08\\n\\x82\\xa9\\xdc\\x1a\\x85\\xca(\\xea\\xe7\\x9f~CT\\x03\\x92\\xaczM\\x1f\\xe5\\xf8L\\x8by\\xb3\\x17\\xd2\\xca\\xc5-Q\\xf8\\xa0%\\xca\\x1a\\xd1R \\xed\\x9f$\\xaa\\xfc\\x9e\\xe9\\x10\\xfdY\\xb1s\\xc6\\x87U\\x9c\\xc9!\\xa8\\xb0X\\xbd\\xae\\x0f~\\x0e\\xeb\\xf5\\xbc\\'\\x81\\xaeK_\\xce\\xb2\\x9e\\x9a\\xf6x\\x1f\\x19<\\xbe\\xe5\\x19\\xfe\\\\J\\xc2\\x84\\xd4V\\xe5l-X\\xdb\\xd6(\\xe0\\x94\\xea\\xf6\\xe6~uN$)-9\\xfeJ\\xf4\\xa7\\xac\\xa6v\\xf2\\xe5e\\x19\\x9d[\\xef\\xe2\\xf7\\xe9\\xbc\\x08\\xbd\\x84\\xb8.\\xfa\\xa9\\x8b@n\\xaf\\xdb\\xcbWI\\x1fwqG\\xdd\\xff`\\x1b\\xfbQa\\xc6\\x9a\\xa6\\x0bj\\xe3\\'\\x9di}\\x0e\\x00\\xf4\\xd3Z\\x8d\\x89F;b\\x1e\\x12,\\x18\\xfb\\x0f_p\\xea\\x97\\rWZ\\x02x\\x0b\\x1d?y\\xb0\\x02\\xf8\\x88\\x15\\xfdn\\xf7\\x97V\\x0b|\\xef*\\x0c\\xca8\\xbe\\x9c|\\x1f\\xdeNg\\xfd[\\t\\x02\\xb1#\\x90\\x85\\xda/\\xd8\\xa9\\x12%\\xf6\\xb5\\x84Puxd\\xf2\\xbb\\x87\\x08\\xaf\\r8\\x0b\\xb50\\xc6\\xa21\\xf6}\\xbc\\x92\\x1b\\xf3\\x0cS\\xf1\\x05\\xbf\"\\x01\\x01\\x14\\xc4\\xde\\x1aa\\x9e\\x8cR\\x00\\x82\\xec\\xcb^\\xe2\\xe5Fn\\xdc\\x98<k\\xf2z\\xd1\\xacQ\\xff\\xec\\xd9\\x9f\\xbd\\xd5\\x93\\x9b\\xd3\\xa4;#\\xfa\\xa4\\x1c1\\x8c\\xa8\\x82\\x87~\\xce\\xfcVF\\x0b\\xc8*UQFM\\xe7\\xd3\\xd3_\\x97\\x81\"\\xa2\\n`\\x02\\xb4\\x7f\\x07\\xc5nc\\xa0\\xb9\\xd5\\xe4nu}m\\x9eY\\xc1\\xa2\\x1c\\xe7d#6\\xbfd\\xb7l\\xa4s-\\xd0J\\xfaf\\xc2,\\xe8t\\xacbh\\xaa\\x96~\\x96\\xe6\\x81\\xb6\\xf6B\\xe0\\xe3\\xad\"tx\\x83C\\xfaX\\xb7?[#d\\xb1\\x81\\xa7\\xdd\\xaa\\xb5\\xa4(\\x1d\\xaeE\\x15\\np\\xd1\\xe5\\xc2\\x00JcI\\xfek=\\xcd\\xab\\xe0\\xfd\\xf9\\xde\\xc9\\x7f\\x14\\xccp\\xca~\\xa4\\ry!\\xa4\\x18\\xc9\\x1aB\\'lI\\\\a\\xc4g\\x8d\\xe1\\xf3\\xfb@\\xbe\\x08\\x95\\xdfBFiW\\xb6\\xc9;`\\x08\\xfcq\\x8d\\xf1h|\\x1d\\x93m/\\xa1\\x9c#\\xd2b\\xa2\\xa8\\x1c\\xe7\\xaeU\\xc59\\xbc\"\\x107\\x1d\\x80\\xa06\\x94;\\x85X\\xfdC\\x93\\xe4\\xfd\\xf4\\xe1\\x97\\xc1\\xc9\\xd1\\xe0\\x8ae\\xff\\xb3\\xde\\xfa\\x0b\\xc23:\\t\\t~\\x1c\\x06\\x1e\\x8a\\x02\\xd3\\x82\\x9e\\xa1_\\xa2PX\\x82F\\x15\\xae8\\xc9\\xa7\\x0ei\\xfb\\x11\\xba\\xa8\\xad\\xde!\\xeb\\xc7\\x8f\"m\\xf7\\\\\\xeb\\xef\\x97\\xba\\xcd\\x1e\\xf3\\xf0L\\x8a\\x97\\xa3\\xea\\x14Y^\\xe0\\xfc\\x930h\\xf4\\xdb\\x9b9%?\\xb7\\xcd\\x18\\x9f\\x9f8\\xbaR\\xb8\\x13\\xcccz\\xb1h\\xe5\\xac\\xec{\\\\\\x13\\xcf\\x83\\x8c\\x08\\xa8\\xafbI\\xadV\\xbcp\\x13\\x8b\\x08\\'\\x97bm\\xd5T\\x92\\x16~\\x88\\xb2\\xec\\xa2\\x94\\xa3\\xca\\xfbH\\x17\\xff\\xff\\x14\\xcb2\\xada\\xb2\\xe6\\xe6\\xfaB\\xa8\\xd8\\x08b\\x1c\\xed\\x0bvr.9\\xca*\\xcbJQ=~\\x1e\\x1fB\\xaaL\\xb4i\\\\\\x03\\xde\\xf7\\xbd\\xdeI\\x1b\\xfb\\x1b\\x17A\\xe7[C\\xbdVma\\xe5\\x08\\x8c\\x0cd\\x9cIv\\xee\\xf7\\xd5\\x84\\xd9\\xdb\\xe6`\\xff\\xb7\\x9b\\x8e\\xe3\\x11=\\xabF\\xdd\\xde\\x1e\\x0e\\x1e>\\xdb\\xbf\\xb3\\x10\\x83\\x00\\xb9\\xb0\\x84\\x83\\xd0\\x96k\\x96\\xfe\\xa8\\xa1\\xeeg\\xf7\\xd69_uQ\\xe6\\x00\\xf7\\xe9,}\\xee$\\x82\\x81\\xa2\\xb0X<\\xc7RV\\x14UBei*\\x0b\\x13e\\xf8\\x17s\\xf7\\x8b\\xa9g\\xdd\\xcd\\x14\\xca\\x83jT}\\xad\\xaf]\\x12~\\xbd\\x93\\xbe\\xde\\xda\\xbc\\xfb\\x9at\\xb6y\\xfd\\xfd!`\\xe4=\\x828\\xa6\\x10\\xff\\x04l\\xc1<s\\x00?\\xf0P\\x0f1\\xca\\xf4i^\\x0bt\\x8b\\xff\\xb2\\x85M/\\x84\\xe0e\\xd9\\xd8[\\xc6\\xa3\\xd1\\xd1P\\xcaw\\x0eg\\xd6\\xfc.\\xaf\\xf1\\x85\\xb1\\xb6\\xf9o\\x8a\\x03\\xe6\\x9c\\x0f`s\\xec1\\x92\\x00\\xb5Ej\\xae\\xe1\\x04\\x14J\\x18\\x02\\xd0\\xa2k\\xd4eC\\x03\\xec\\xf7\\x08\\xaa\\x07\\x17D\\x85\\xd1\\xeb\\x8a\\x1a\\xf9\\xe18:\\x00\\x84\\xde*^\\xd6\\x10\\xaa`]\\x03d\\x85\\x0b\\xe9\\x97p\\xb8\\xd5\\xae3\\xcf\\xc6#\\x02\\x08\\xea\\xc6c\\x99ex\\x8ae\\xab\\xdaj-r\\'\\xb23\\xf0\\x1f\\xd40\\xd0\\xc4\\xb5l]E\\xfe\"\\x8dH\\x01S\\x7f\\x87\\xbf\\x94\\x930H\\xeb\\xc7!\\xce\\xf7\\x07\\x82\\xa1JC\\x1f\\xbao\\xda\\xef\\x0f\\xb6\\xc6\\xaf\\x80}\\xaa\\xac\\x07\\xa4\\x04\\x0f\\xe2\\xf6\\x81\\xd2\\x95\\x90\\x81\\xe41\\xd3\\xc5\\x99\\x17\\xf19l\\xe7\\x90\\xd2\\xe2\\xf8\\xbcODa\\xda:\"\\xa4[\\xac\\xffor\\xd0hR-\\x17f\\x04\\x8a\\xa9E\\xa6*z\\xda\\xb0\\xb9%\\xc0\\xd5\\xe7\\xedm\\x08\\x17r<\\xb6\\xe6\\xc2\\xfef\\xaevF\\xfazl\\xe68\\xe8n7\\x97Y\\x19\\xc6\\xe4\\xac\\xcab\\xfd\\x8b6&\\xef\\x0f\\x0e\\xbe/\\x15P\\x11\\x85\\xb072P)fH\\xf0\\xa8\\xb2\\xc54T!\\x1dR31\\xc4\\x11\\xf6\\x80\\x14F\\xf2\\xc3\\xcf\\xe8\\xd5\\x1c\\x8c\\xe9\\xb65\\x19\\x0f\\x1fM\\xb3\\xd0\\xb6\\xc5:\\xc5\\xad\\xa3\\x19\\x94=\\x14\\xc8\\x04\\xd0W\\x0f\\x08 \\xc8-\\xfa\\x90K\\x8b\\xb5)\\x96!\\xda\\xaa1\\x08\\xb7w\\x16R\\xc4X\\xa67\\xd5\\xd5ZJ\\x1fB*\\x15\\xa8,\\xea\\x8cB<\\x9b\\x1cy\\nc\\x81N.\\x8aQ9\\x8d\\xb1\\xc2\\x1fA\\xd6\\xa4\\xe2\\x80r\\x90-Y\\x9c\\xc1\\xd3\\xfa7\\xbb\\xc2\\xcb\\x81\\x93\\xe0\\xbd\\x9a4\\xd3\\x0e\\xefK\\xcd|\\x8a*|f\\x9c!e\\xe4^\\xf9\\xfa\\xc3\\x01=\\xb6%W\\xd1-\\xd6\\xb9?\\xde0\\xc3t\\x96\\x99X\\x14;/\\xa9<g!\\xffBc\\xe2\\xc6\\xf5H\\xebE8\\x1d\\x1c\\x90\\x0e\\xc0z\\x9c\\xde\\x15\\xdc\\\\V\\x04\\xffJ\\xfb\\xb6\\xb1\\xd7%\\xe8\\xf0\\xe6=\\x883\\x8c\\x89O\\xc8T@\\re=f\\xec\\x9d\\x18\\x93j~\\xa5!\\xa6\\xaaI\\x07\\xf3?A/6\\xc6\\xf1\\xeb\\x17-\\xf9\\xfa\\x82\\x0be\\x9b\\x96\\xfe\\xf1\\xed\\xd8t\\xdb?w\\xa8\\xd1\\xb1>L\\\\\\x99\\xd3\\xfb\\xf5\\x1duGA\\x90l\\x84\\xfaj\\x9a\\xfd/3^\\x18\\xb0A\\x0e\\x05\\xd0\\x86\\xe1\\xa7\\xd8V\\xe2\\xa5x\\xbd\\x82\\xc1bj\\xa9\\xec\\xf0\"`\\xcb\\xa1%\\';R\\r\\xa6Nj\\x11\\x9c)9T5\\xc9V\\xfc\\xb9F\\xad\\xd3\\xc6\\x0f\"\\xb4\\xbc\\xa0\\x1b\\xa1\\x01\\x80[b\\xef\\x07\\xb1\\x02\\xf3g\\x8ff\\xfcl\\xa3\\xeb\\x8d\\xad\\xfd\\xef\\xae\\x0c6\\x8fo\\xd2z\\xe0\\xd4\\xaa\\x9c\\x93#\\xf6\\xce.\\x1f\\x11\\xea\\x14\\xd9\\x98\\\\E!\\xe779\\x8fnY\\x9f\\xab\\xff\\xc3\\xa3j=\\x1b\"\\x81\\xb4\\xfe\\xd8\\x90\\xb1 O\\xcc\\xa0\\xe9\\x89\\xc1\\xb4Y\\xc3\\xef~\\x93\\xd2\\x10@\\xc9Q\\xfe\\xcc\\xc6\\xfd\\xcf\\x01\\xbbgY\\xcd\\xaf\\x84\\x00U(\\x8f\\xe5\\xdf\\xc5\\xa0\\x06bD\\x0cs\\xa3^IT\\x97\\xda\\x8a\\xab\\x84\\xa1\\\\\\xaa\\xd1\\xc5\\xfb\\x9aF\\x1c\\xbb6\\xd0Nm%\\x9a\\xfb\\x01\\x82V`Z\\xd4\\x89\\xf7t\\x88\\xebP\\x7f\\xdf\\x01\\xe1\\xba\\xe1i\\x88\\xb6\\xf1\\xbd\\xffZ\\xb2\\xa0\\x1e\\xbc\\xa2G*L\\xe3J\\x1c\\x0b.\\xc5@TUV\\x88eQL\\xee+E\\xef\\x10\\x9c\\xa0PZ\\xd6\\xed\\x97\\xe0Zf=zu\\xb1\\xf4\\x9e\\xfd<\\xaft\\xd9t\\xc3abd\\x8aV\\x96\\xfe\\x08\\xe7k47\\xa42\\x1e\\x9c\\xe9\\x01\\x8e\\xef_\\xd5\\x8a\\xe6)\\xe8\\x0b\\xdam\\xdc{\\x04h\\xd2\\x08\\xba\\xad}\\xf6(K?\\xca\\xe4\\xcf\\xac\\x04*\\x9e_.\\x1e\\x16\\xf3\\xe5\\xd8xK\\x8f\\xfa\\x13\\xf8H\\x932\\xf0\\xab\\x1e\\xcc\\x105~\\ngG\\x8a\\xa8\\x0f\\xf1\\x86\\x00\\x95\\x17\\x16K\\x05\\xb2\\xe2\\xf9\\xbc\\xdc\\xf8\\xda\\x83.V\\x80\\xe4\\xbe\\x00\\x00\\x04\\x8d\\xde\\xbc\\xff\\xb5\\xb4W\\xdb]\\x0e\\xe1\\xf6\\xea\\xe5\\xdbp\\xfd$\\x16!\\x83\\x01\\xa0*\\x01\\xd8\\xfeB$\\xb9\\x15t\\xb6\\x89\\'z[\\xdb(3\\xc3 \\x97\\xe71\\x0e\\x1e\\x8e\\x02L\\xc3\\x05\\xf4Y\\x04\\xff-\\x04\\x80[\\r\\x9b\\xd3,d\\xcc\\x95\\xb9\\x85X\\x84!\\x96\\t\\xc1k\\xf4\\xf8\\xdb\\x0e\\xeca\"\\x1a\\xe5\\xd06\\x8e\\xb1O\\xedU\\x820\\xa9\\x8d\\x12O2\\xa9\\xcf\\x84\\x00BH\\x1e\\xc8\\xe8)Y\\xcf\\x89\\xbe \\xc8\\x16\\xc2\\xfde\\xa2\\xdcqn_=\\n8\\xc1\\x17FF{<\\xbc\\x80[\\xd6\\xf0\\xbbs\\xb11kG\\xe1\\x8cASQ\\x83\\xd4\\r\\x04/\\xea\\xa4;|\\xc7\\xac\\x93N\\xba\\x05\\x96\\x9e\\xd4\\xd7\\xbe\\xea\\xfc\\xbd25#\\xcd\\x87\\xc9\\x8cWC\\xa4t\\x7fm\\xaf\\xca\\xa5\\x07\\xf4\\xdb\\xd5\\xc7\\xdf\\xe7\\xfd\\xf3\\t\\x93\\x92\\xb4\\xa4\\xbb\\xb0G\\xc6\\x1cRw5\\x880\\xd5a\\x84jGG[\\xd0\\xf1/*\\xafB|\\xc5b\\xe4B\\xc1\\xfdA\\x9ac`\\x07\\x00\\xb7(\\x10o\\xf1)\\\\5}PKY\\xd5>=\\xcc}*\\xa5\\x04\\x95a\\xbb\\x19gO\\xc2\\xdf\\xccg\\x05\\x11\\xa6\\x01y\\xe3\\xe0@7\\x17\\xd5\\x940e\\x9d\\xd8F{\\x08g\\xf6\\x1eL\\x0f\\xadb\\xc3PI\\x92 \\xbdv7\\xaf7|\\xcd\\x04\\x0c\\xff\\xfe\\xad\\xf6<\\x88\\xb6(s\\xafH\\xed\\x02U(#\\x14\\x12\\x06\\xc0\\x90\\xf0\\x848\\xe0\"\\xe3\\xf1(dX\\xff3\\x9c$\\x11\\xaff\\xe5\\xb7G/\\xbe:x\\xc5)\\xb1q\\xb5\\xd6\\xf9\\xea\\xa3\\xb3\\'\\xa0*\\xd4)9\\x95M\\x00j\\xd8\\xba\\xf1\\x8e\\xa7\\xbd\\r\\xab\\x9dG\\x81\\xdf\\xd7`}\\xbd\\xfe}\\xfd\\x0e\\xf8\\xdf\\xcc\\xc3\\x0f\\xbf\\x16\\xfd\\xeev\\x92\\xeee,\\x01|\\x1d\\xab\\x8d\\xd2\\xad\\x11U\\xb1\\x92\\x92n\\xbb\\xe0/\\xff\\x9b\\xcd\\x89\\x92k4 \\xcd\\xa9\\xe9\\xf7\\x8e\\xc3\\xb0\\xd9~5H!4b\\xac\\xbb\\xf5\\x85\\xc15\\xa1\\xaa;\\x00@c\\xd5u\\x89\\xdb+\\x07N\\xc6\\xf3\\xb6\\xf9\"\\x16P\\xe9]\\'c\\xc5l\\xac\\n:r\\xc5\\xa9Tp$u\\xb4\\xb9ifJB\\xa7\\xf3;\\xf1\\x88~\\xe6J,\\x8a\\x80\\x1b\\x8cR&\\x1d\\x83\\x16\\xe1Y\\x8e\\xc4\\x04\\xc6\\x93\\xa4\\x7f\\xd9\\x8bP\\xb0\\xb6\\xd4\\xd2J\\x96W\\xf3\\n\\xa1\\xe5\\xad\\xc4\\x11e;\\x04\\xaf\\x8e7K%z\\xebr\\x16\\'\\x7fX(\\xd5V\\xafz\\x0f\\x96\\t\\x05hC\\xd2\\xec\\x9e\"\\x89iQl\\xee\\xde\\x11\\x1b\\x9caP\\x14\\xc8\\xc3V\\xc9Qp\\xa587\\xff\\xf1\\xa4\\xbf\\x93x\\'5q\\xb2bee\\x08Ry\\xa4\\x11,P\\xf8\\x9e\\xcf\\xcf\\x10\\x19\\x81\\x85\\xbb\\xb9\\x8e4\\xfd\\xde\\x18\\xd8N\\xf6\\xeb>\\xb9Yi\\xbf\\xba?\\xb9\\x9b\\xbe\\x95p\\xc4\\xe4L\\xa57\\xc5\\x8a f\\xbb\\xc1\\x04\\xc3\\x14\\xfaS\\xff_P\\xc6$\\xbb\\xc5\\xe6fdu\\x03\\x80\\x88\\xd8>s\\xb7\\xfa\\xd1\\xd3\\xc7Z\\xb29\\xe6\\x82Y3\\x17g\\xb2I\\x84Rt\\x87G\\xf9E\\x8d\\xa9].\\xe9\\x91Z\\xbc\\xa1x\\xac2v<@y\\xb0\\x1e\\xab\\xd5\\xa8\\xd8\\x0f8\\xaa\\xc6\\x7f\\x82I\\x9fg<\\x0c\\xcb\\xa4\\x1aA=+G\\xab\\x8eY\\xb2\\xfc4\\xab\\xfakA\\xc6\\x96\\xbc\\x04\\xa4\\xa8\\x05\\x9dG\\x02\\xc7\\\\\\';\\xcbvy@\\x9a\\xcb\\x81\\x9a\\xab\\x16:j~\\x10\\xa0r:\\x89\\xa1\\x0c\\xd8Z\\x01P\\xa87\\x0f4\\x97\\xb1i\\x02r\\x85\\x18\\t)\\x12!T\\x08Cd\\xd5\\xf7\\xb0\\xda\\x9d\\xe8\\xc5\\x9cy\\xff_R\\xcb^\\x0cnzE\\xc4\\x10\\xfb\\x90\\x9aXD\\xa5#\\r\\x9e\\xfc\\x8f\\xe48x\\xbb|\\xab\\xd7\\xc9tE\\xf0y\\xc5\\xe1\\xe6\\xf5\\x95\\xe7\\xc9\\xc1\\xc0\\xf64\\x80\\xe9pg\\xff\\xc9+Q\\xbf\\xe3\\x9b\\xdf\\xe1\\xdd\\xfc\\x8a\\x89s\\xc7s\\n\\x8eW3\\xec\\xed\\n:R\\xbbc\\xcc\\xa7\\\\\\x08\\xf7\\x9ap\\xac{<\\'q)q\\xee\\x1e\\x86\\xedkTW\\xdd\\xd9+?/\\xbbn\\x1e\\xa5\\x9d|\\xb8D{O\\xdeT\\xe6\\x96}HG\\xc0\\xd1\\xa7\\xfa{\\x8e\\xfb\\xb4\\xfb\\xdfIwd\\xa4-\\x87\\x82|>V_\\x8c\\xf4X\\x08U,\\xb4\\xac\\xacl9\\'\\xba\\xb4K\\xbfi=\\x02\\x92\\x940\\x17\\xd0XI\\xd9\\xf43\\xcbl51\\xf2S\\x93\\xc6t\\xbd\\x8d\\x06[\\xf3\\xd9\\x84\\x01\\x89 PK\\xc1\\x0c\\xc6\\xf4Yd\\xe7\\xa4\\xaa\\xeeON\\xed\\x084*B\\xd6\\xc1Rgj\\xe1\\xf5\\xa1\\xf7\\xf8w\\x05\\x9d\\xe8\\xa8h\\x86\\x93\\xdf3BSB\\t6 \\x00t\\xaa\\xa6\\xe4<1\\x0c\\xa3\\xbc\\x03\\xb7\\xca-\\xc8\\x0b\\x15\\xb5\\x1e1\\xd4O1\\x9a\\xb5\\xb75E\\xa3\\xa3 \\x0ch\\xf2\\x13\\x177lu\\xd6\\xdb\\xf6\\xf6Y\\x93\\xa2\\xe3\\xdf\\xd3\\x1a\\x8d\\xcd\\xda\\xf2\\x91\\x8e<\\xaf\\x150\\xd8\\xe4n\\x90!\\xcf\\x08\\xf4\\xee\\x97\\xd9\\x8dl[\\xd7\\xdf\\x84\\xfb\\x91\\xe0\\x96\\xf3\\x0c\\xa7\\xa4\\x8b\\xb2@\\xaf\\xf0\\xb2E\\xe1{m\\x11\\xb8\\xb7\\xf4\\xfd_\\x83\\x8eY\\xe6HsN\\xb8\\xa72F]\\x95)\\xdf\\xc5(\\xb3\\xa8\\xae\\x8cw!\\xe0\\xc2#\\x16B\\x7f\\xd0U\\x87\\xb5\\x96g\\xbc]f\\xd5\\x1d/\\x04\\x85D\\x84w^\\xee^\\\\\\x0cq\\x8a\\xedx\\xdd.>\\xab\\'{Rw\\xd4s?\\xd2\\x1b\\xe0$<Cb\\x8e*\\x01T*c\\x98\\x1c\\xa1\\x0f\\x85>\\x08U\\x85\\xb1\\xdfS\\x11\\xa9}\\x14%\\xf8\\x15\\xab\\x1d\\xc3lI\\xa9\\xa7\\xb0d\\xb8\\x88A\\xe1\\x8c\\x0fg\\x93]\\x84\\x059\\xa8\\xb39\\x0e\\x9c\\xb9\\xd4mj\\xf1a\\xd6\\xb6(\\x80\\x02J\\xbb\\x8c\\xa653p#\\xe7\\x8eC\\x9f\\xb9\\xbf\\x94\\x82\\t\\x81\\xe1*\\x888Z\\x10V\\x1d\\x13\\x89\\xa3\\xd6B\\xa9%\\xa8\\xc2\\xa1\\x02\\x0b\\xf4LH\\x0c\\x16\\x86/\\x84R\\xe5th\\xf8\\x89q\\x8a\\xd5\\xe3\\xb2\\x9b.)Z\\xdb\\xd7\\n\\x97\\xd1!\\xc0\\xc3\\xe7\\x94\\xe3%\\xe0\\xb6\\xc9\\xec\\xb8\\xfc\\xb2\\xff\\xf8\\xe6L\\xfa\\xa5\\xa9\\x89 \\xea\\x81Yg\\xc0\\xcf\\xdb\\x13\\xef\\xee\\x937g&\\xd2\\xd7\\xcd\\xd2\\xd8\\xc3\\x95@2A\\xda$v\\x8dVH\\xf3x\\x0e~\\xd0b!\\x16\\x8d\\xa6\\xb2\\xe1B&\\xa5\\xea\\xc0\\xc2\\xf8\\xa2\\x00\\x11\\x85\\x9c\\x90\\x17\\xd5N\\x84-\\xd0\\xe7\\xe0ag\\x0b\\xe8~\\xd7\\x1f\\xae\\x1f\\xfd\\xa3Hc\\x99\\xfar\\xc5Uu\\x04\\x88\\xab\\x85\\xfc@\\xe8[2\\x9aU\\x11\\xa82Ug\\xda\\xe2\\x18o\\x9d9\\xa6\\x12\\xdfHJ\\x8f\\xc0\\xdac\\xe4\\x08Bfe\\x04k\\x921\\x18C\\xd6\\xb2De4\\x0cN\\x89\\xa6b\\xf6\\xdapd\\xd9\\xa6\\x8fX\\xe5him\\xf99:K\\xfdy\\xe6\\xa6I\\xf5\\xc0P\\x0f\\x1d\\xce\\xc9\\t\\xae\\x8c\\x9d6\\xce\\xadQ\\t\\xf9o4$\\x9f\\xc4\\x171E)\\x11\\x11V\\xda\\xcf\\xf9\\xb2\\x8aV\\xb88U\\xf1W&m\\xbb%\\x8d^[\\x82Q\\t\\x10v!a\\x1a\\xa7g\\x80\\x0e\\xe9g\\x02\\xebE\\x11\\x0fC\\x80\\x8d+\\x02\\xae\\xf77Cf\\xb7C\\x9b#\\x84\\xab\\xc7\\xc1g~\\x81\\x87\\x8414>\\x84\\xb7\\xf5\\xb7\\xb8\\xfa\\xfbc\\xe9\\x9b\\xe0\\xf5\\xcb\\x1f,\\xfb\\xb7\\x03\\xda\\xf6{\\xa3\\x93\\x1cU\\xdc\\xdf[\\xa0\\x86\\x86\\xd8b\\x9e8\\x1d\\x85\\xdf.\\x14\\x06\\x8b\\xd0\\x12\\x042\\x0cPc\\xda\\x91\\xed\\xc3\\xb8/\\xddNH\\xd8\\xf18\\xce\\xa4\\xbc\\x0eJ\\x9f\\x9eY\\x19\\xd7F\\xa8S\\xa2\\x18Q\\xe7\\xa8\\xe4`H\\xa0\\x89C\\x10\\xc9Q&\\x16\\xda\\x8fb\\x8a\\xb2iX\\x11\\x849x\\xdcs`\\x11f\\x1c\\xa4x\\t\\xee\\x96\\xdf\\x9a\\xf92\\x8d\\x9e\\x00\\x90\\x90\\xa7a\\x90\\xca\\xb2\\x8e\\ng\\x9a\\xf1\\xd2\\'\\x9aT\\xcc\\x8e\\xb0R\\xad4\\xcfe&\\xfd\\xf9\\xb3g\\xed\\xfbs\\xd4k\\xd1\\xf4\\x11\\x04\\x89L\\x08\\xd7\\xb8\\x0b\\x94\\x8a\\xef\\xbb\\xa1\\x89\\x8c,9\"\\x8e5\\xed2\\xc6<Y\\x8b\\xc1\\x92\\x90\\x08\\xac=\\xc7\\xa5\\xcf9\\x045b\\x86T:\\x02h\\x1cj\\xa8\\x94\\xed\\x1b\\xa7\\xf3\\xbc:gH\\x98\\x14\\xb4\\x13a(\\xa6V\\xa7d\\xa5\\xc3Z\\xe6a\\x8d\\xaa\\xed\\xbe\\x9b\\xff\\x96\\xf8\\x9e\\xdc\\xfc\\x94\\xb8\\xfc\\xb6\\x064bc5\\x16\\xf7;\\x1e,\\xab.\\x08\\xfa\\xd9\\xfc\\xea\\xbd\\xfa\\xb2\\x9cfp\\r\\r\\'\\xf3\\xe4$\\x07W\\xa2\\x8f1d\\x92\\x9fZA[\\x1f\\x1d\\x10\\xb1\\n\\xf5\\xd6\\xdd\\x810\\x15\\xa6\\xb0\\x88\\xbd\\xbbZ\\x9a1\\xfbp`\\xa7\\xc9\\xbc\\x16\\xde\\xff&\\xab:\\x90}\\x98\\x11\\t\\x8eN\\x0f\\x9f,\\xa2\\x06d8F\\xb6\\x81A\\xb5\\x82\\xad\\x99$\\x00>\\x0c\\x13\\x949\\xe5J \\xb9u#\\xb5\\x95\\x9aA\\xc0H$1\\x076\\x87\\x10\\xb6\\x19S\\x0e\\xc9\\xae\\x89\\xc2#\\x07\\xab\\x1fuA\\xd4\\x03\\xf9C\\xd8\\xc2\\x95e\"\\xe4\\xc6!\\x18m\\xd1\\x87Or\\\\\\xa5\\xd7\\xe6\\x15H\\x92(=\\x85\\x14\\xac\\nU^(Q\\xaa\\xd3^\\x93\\x8b\\x95\\x0f\\x8c(G\\x8d\"rZ\\x86\\xfei\\x87\\x80\\x8b\\x10\\x15\\xce\\xfa\\x1f\\xa5\\x13Ue5q\\x08\\x00\\x8f\\x9cE\\x8f\\x00I\\x8e\\xe0\\xac&\\x86\\xf5\\n2&$\\xdb\\x88$P\\x93\\x9a\\xc7\\xee\\xd8-\\xf9\\x8c\\xd9\\xc8\\xe4k/\\x98\\xbd\\xf9\\xbd\\x7f\\x7f+}X_\\xcf\\xb3\\xd1\\xe1\\xd9\\x7f{\\xf2\\x90\\xa0\\xbe\\xefv\\xf1\\xfe\\xf4\\xcf}c\\xbf<6\\x9dha\\xa1\\x04\\x84\\xf0\\x8c/\\xc2\\xea\\xc15\\x885\\x1e\\x84*\\x94\\xc2\\x13\\xaa\\x1d\\xfdH$\\xd5y\\x87\\xc2\\x92\\xf3L\\x0ey\\x1cY\\xad\\xb2\\x96\\x97z\\xa5yB\\xa9\\x1a\\xc7\\'\\xcb\\x97\\xb1\\xdfR?\\xe3\\xf9\\xc8\\xbc\\x88\\xd4i\\xd5\\xe3\\x8a\\xe8\\x0e3u\\x8b\\x98\\xd5M\\x8d\\x91\\x97au\\xaai\\xd5# g\\xe5#X\\x847\\xe1\\x88S\\xe1\\x8dK\\xdf\\xde\\xc7c0X\\xe3y\\x94\\xed|C\\x1fD\\x15\\x12\\x0f\\xb5\\xa2\\\\\\xa9\\x1dw\\xb4\\xf1\\xe0(\\x99d\\xcc\\xbd\\x8c\\xd0\\x9d\\xff\\xf4\\x1b\\x9aM\\xd4\\xe0Q\\x04\\xa4\\x84SRrNat\\xcc\\xb5AB(9\\x1c\\\\>DN\\x15Uj\\r\\x950\\xcf\\x93+7\\xe4\\xe2\\xee .c\\xa2\\xc1\\xcbR\\xc4sd\\xb5\\xd9\\xc1b\\xe3\\xc3\\xa8F\\xd3\\xe9s\\xe8%A\\x0b\\\\\\x9d\\x1c\\xb1\\xc5\\x0c|^;\\x84\\x96\\xceS\\r\\xbaw\\xff)I\\x07\\x1cF\\xf7\\xcdI\\x07O\\xfb\\xd8M\\xa3OH\\xafN\\x82\\xfet\\xdf\\xde;>\\xd7\\x97\\xd7jv\\x1b2j\\xea\\xe7\\x8f\\xe8\\xc2\\xee8\\x93\\xdd\\x8c\\x87\\xe6L\\x14C\\xf8\\xa7\\xc7y\\x11)|\\x15\\xb1\\xf6No\\xdb\\x97\\xdb\\xef\\x1a\\x10\\x93\\xa1\\x9d|\\xc6;zq\\xb5b\\xafCt\\x98\\x88\\xc1s\\xa3\\xe4\\x03\\x0b\\xb1\\x96\\x02\\xcc1B\\xb0\\xb7\\xcc|\\xa4#\\xdf\\xde(\\xa4\\xa7\\xdb\\x18\\t%\\xfc\\xd6_\\xd4\\xd3\\x9ak\\xfb\\xb1]\\xcaGA\\x9be\\xa8\\xa7\\xfb\\x03K\\xb3\\x1a\\xa3\\x15\\xd1\\x95\\x1f\\x04G\\xcb\\xc5\\xfb\\x90\\xc4\\xf4\\x1f!\\x1b\\x0c\\x18\\xfd7\\xa1-\\x0e\\xd6Gz@TZm\\x81\\xe1\\x1b\\xf5\\x11kdjy\\x1cL\\x9bR\\x18\\'\\xda\\xf0\\x9e\\x04$\\xce\\xc6\\xed\\x08T[\\xe2\\xd5\"A\\r\\xc0\\x99P\\x186w\\xbd\\x87\\x00\\x05^x\\xf6\\xcb\\xcc\\x14\\xe1\\xe7%\\xb4`,\\x80\\\\V\\xael\\x125m\\xa8m\\x82\\x1fyu\\x9ce\\xb6q\\xfb\\xdfvk}\\xaf\\x0f 4\\xa1\\xf5\\xdf\\x023\\xeev\\xff\\xbeg\\xf7\\x98\\xb5\\xcfJ\\x1f\\x1a\\xa7 \\x87\\xfeN\\xf4\\xabH\\xf3\\x7f\\x15\\xe5!\\xfe\\x9a\\xf3\\x81\\x02\\x06\\xc4\\xa3%\\x07;\\xbd\\xacX\\x96\\xe8\\xc9v\\x8f\\xf7\\xe8\\xa67(u\\x9dex\\xf8@\\x1f_\\xc7\\xb21$q\\xa0\\xb2\\xb8\\x18\\xa6\\xb3\\x08qd\\x1fy\\xa48\\x87\\x0c\\x10\\xca\\x15\\xe2\\xee\\xf4\\xff\\xf1ihd\\xb8P\\x19\\xa5\\xfa9\\xf1\\\\;\\xa4\\x98\\x13\\xc0d#\\xc2\"\\xf2\\xc3fV\\x80\\x80)]\\x8f\\x10KnIB\\x9fCS\\xce\\xb9\\xb2\\x17X\\xa1\\x19D\\x16M\\x17L\\'\\xc3\\xe1\\xc3\\x04\\x8a%\\x8eRF\\'\\xbf\\x9b\\xb7\\x17D\\x87\\xb2\\x00\\xe0\\xacLVTi\\xb1\\xd4\\x80\\xd7\\x050\\x8f\\x08-\\xe2\\x90\\x06\\xcc\\xd2\\xa00\\x04o\\xa9\\xbf4\\x95P\\xbeS\\x10G\\x10\\xcb\\xca\\xd9O\\xa2#_\\xc3\\xe2)D\\xa2\\x06\\x05\\xab\\x12\\xae\\xe7\\x07\\xfe\\xd9\\xf5\\xb0\\xa2\\t<\\xf3\\xda\\x7f\\xfa\\xeaC\\xe0\\xd96\\x94\\xe5\\xc7#\\x8c\\xc62\\x95U\\xcd\\xf8\\xaf\\x90\\x8f[\\x19C\\x0e\\xcc|\\xcc\\x01qQ\\xcf\\x9e\\xa9\\xb9B$\\x0b\\x95\\xbec\\xac\\x99\\x14\\xfb\\x89_\\x0f\\xc7\\xabI\\xd1Ot\\x18w\\xb5\\xac\\x89y\\x83\\x1f\\x00\\x00E\\x87\\x81#\\xbe\\xb5\\xfe\\x1fB\\x1e`\\xcc\\xc1\\x9f\\xfbE\\xe4b\\x1a\\x06\\x92a;X\\x86\\xdd\\x97\\x85q\"\\x1c\\xef\\x8a.\\xe6\\xb4\"\\x8e\\xe6\\xf8.\\xdb\\x97\\x8c\\x9b\\xa6\\xde?\\x82\\x0eu\\x00\\xe6w\\x12?im\\xee\\x90S(\\x02\\xf1#\\x14=\\x19\\xd024\\xcc\\xb4\\xd4\\xb3\\x85\\xe49\\xef\\x8c\\x88\\x11\\xc4]\\xb1^\\xc9\\xe5:\\x9c\\xc5[\\xac\\xa7\\ti\\xa6\\x96\\x12se\\x16]\\x1a\\xa0\\xcf*\\x0b\\x99\\xe4U\\x1c\\x0c\\xda\\xf6\\xfd\\x86jRQ\\x00&\\x80)R\\x9b\\xc5\\xdd\\x94[\\x01\\xd1D\\xc0Kna\\x94 \\x81;\\xaf\\xe9T6\\x02\\x98(\\x19d\\xda0\\x0c\\xb1\\xcb\\x80\\x19\\xe4\\xe0\\x87m\\xb58\\xffL\\x9f\\xfd_kO\\x9c\\xd7\\xbbG\\xfa\\x85\\x95\\xf1{\\x88\\x06$\\n\\xf4\\xbb\\x8e,!\\xd3\\xb9\\x1f\\xd166\\xf9\\xc7\\xcb\\x1f\\xfe\\xdcJ\\xdf\\xdc>\\xbe\\xe8bn\\x7f\\xe2\\xb7\\x916\\xc09\\t\\n1W\\xab\\x1c\\x94\\x0b\\xae\\xd3Y\\xeb\\xf0\\xba\\x8e\\xef\\xafg\\xad\\xf1Z2\\xc6\\xc8R1?\\x9csVH\\x06b8Q\\xb6Z\\xf2\\x9f\\xa7<\\xfd\\xec\\xef\\x8d\\xd0J%\\xa7\\xf6\\x92 \\x80\\x93\\x0b\\xa5\"@\\xd1]\\xb7\\x8aXgv\\xb4\\x98\\\\\\xd6\\x90-$\\x9d\\\\\\x8a\\x06\\xd5\\xf3\\x80\\xca\\xe2\\x935%\\xe1R\\x88(\\x95\\x0e\\xab|\\x14\\x00\\x96<\\xcb)bC\\xcf\\xe4\\x98{\\xc4\\x8d\\x05[\\x90S\\x01\\xc0>8e\\x81\\x0b\\x0cA\\xcc\\x18_,ve\\xac\\xfeu\\x12\\xb9\\xcb\\xa1\\xd9\\x8f\\xd6\\xfeDs\\x84u\\x16d\\xcd\\xfbE\\x03\\x00 \\xeb\\xf5f8jH\\x0b\\xa7\\x92\\x80@@\\x058\\x81\\\\;K\\x15\\xcd\\xfa\\x00B\\x00\\xae\\x88PI\\x84]I>\\x97\\x9a;\\t\\xc7e<\\xb2\\xfb\\xe6C\\xdd!\\x13\\x15\\x1e\\x1e_\\xb4\\xb8\\x0b\\xcbK\\xbb\\xa2\\xee\\x96\\xbf\\x86\\xa0kI\\x93\\xbe7b\\'\\xde@\\xdc\\xd1E\\xf9\\x9dl8\\x18g\\x8f\\x81\\xf4\\x0f\\xfa\\xa0\\xe3\\xf2\\xcaR^\\t3\\x15\\xf9,Ih\\xda\\xb0*\\xd3$\\x95\\xb7H\\xf9\\xc7l\\xc0\\x1fj\\xa3j[\\xfd\\xdf?\\xde\\x08&\\xf5y\\xed~?`/\\xa9\\xb1\\x1d\\xc9\\xbd:\\xf9\\x17\\x03\\xd2\\xef\\'\\xe2\\x93cb\\xda%\\x99\\xab\\x8aO\\xefU\\xac\\xb6\\xc7\\x87iW\\xb1\"\\x9c\\xd42\\'\\x05\\x0c+vB\\xaf\\xd2\\x8df\\xd5\\x16c\\xc5\\x99\\xe6\\xe12\\xa0\\x17*\\xf8\\x8ce1\\x8f*\\x8a\\xda\\x07\\x0b1\\xfa1\\xc0He\\xf6@\\xe38\\xea\\xdf\\xd5_\\xb2\\xf7\\xce\\xbc\\x03\\xb8\\xec\\xd7\\xfe\\x8cg\\xcc\\x96\\xee\\x059~\\x9b\\xa9\\x12\\xeb|\\xe7g\\x11\\xd0\\x83\\xa7.\\x0e\\'\\xb2 \\x9f\\xd2gu\\xca\\xe3\\xa8~e\\xa1\\x87\\xc5\\xca\\xe4&\\xa8\\xb1\\x87\\xa0\\xf9\\'_\\xe4\\x07)\\xa0\\x8dr9a\\xba@\\x11\\x04\\x80$3k\\x7f\\xa6 \\xd0Yr\\xd0\\xee\\xcb\\xa7\\x95\\xce\\x817\\xc1->~W\\xb4\\xef\\x82\\xb6T\\xbe\\xb6c\\x86\\xdd\\x15\\xb7\\x0c(\\x11K\\xb4\\xa0\\x96\\x88\\x08e\\x0c*\\x84IYY\\x06gTE\\x8c\\xf2^2:$=\\xb1\\x89\\x842\\xae\\xf5\\x99E\\x8f\\xc3K\\xb0\\x19\\x0e\\xc6Ti\\xec\\x81\\xd0\\x06\\xb0>`@\\xef_\\x8c\\x90\\xcf\\x8ae\\xa4Z\\x16\\x13\\x06\\x04ci\\xa7\\xf0n\\xeby\\xad\\xb2\\xc4\\xd9\\x9e\\x81\\x97|\\xba\\x07!c\\xe9\\xf4\\xa9xr\\x00a\\x802D\\x19E\\x80\\x99-_\\xd9.\\xdd\\x9a\\xdb\\xc1\\xb1\\xefGaBk\\x9e\\x83\\xb2\\xaf\\xfa\\x19wt\\x1f\\xfaQ<\\xa2\\xe5\\xfb\\xb2!\\xe4\\x89\\xafkdHK\\x13u\\xdb\\xc5\\x15\\xa4\\x9aa!@\\xa3\\x9e\\xeb(\\xc7\\x17S\\x08%Om&\\x80\\xf9\\x94\\x12#\\x99\\xe2\\x8b\\x8b+\\x95\\x8bU\\x9dG%Z\\xd8\\x0f\\x07\\xad?\\x81\\x04\\xb9\\xfb\\xaf\\x9c\\x96\\xf7\\x96\\xf4\\x8f\\x98\\xbb\\x1e\\\\{y\\xc5qOl\\x1f%\\xed\\x16}\\xa5\\x135\\x85\\xd6!\\x98\\xc1\\xbb\\x82\\xa0>G\\xad\\x94.$l\\x81\\x83\\x94\\xc5P\\'\\xce|\\x8c\\x16,w\\xb1!\\xbe?\\n\\xff\\xf9\\x8a-\\xa2)bHx>\\xaa\\xebC\\xf0\\xfd\\x07\\xac\\xb1\\x93U|+\\xa1r\\xd2\\xf3P\\x18\\x04\\x1c\\xd5\\xcf\\t\\xb7\\x03\\xe1\\xc5\\xe8\\xd0\\xda\\xe3\\xa6\\xca\\x9b\\xcb\\x95Ch\\xdc\\xa3\\xca\\xab\\xd7\"?\\xdb\\x1c \\x8fQ\\xdf\\x05|\\x11\\xbe\\x03\\xde\\x8b\\xd6\\xf6\\x92\\xc9\\n\\x8e\\x0bE\\xefZ\\xb4\\x04\\xf4\\xfe\\x83\\x99T\\x0b8|s\\xf9q0{\\xec\\xcb\\xd0\\xfa\\xd5\\x08\\xad~\\xf9U\\n\\x10\\xa2\\xb1g\\x8e\\xfc\\xb8$\"\\xc7f\\n\\x94k\\xa18{G,&Gc\\xae\\x03\\x14P\\xb7\\xc27\\xdfc\\xaa\\xc1V-\\x1a\\x85\\xc6\\xffs\\x88S??\\xa67E\\x9e\\xb3\\xf0\\xd1>R\\xc5D\\xc5\\xb7\\x86\\x18z\\xf1`\\x05\\xf6No2&n\\x17w?\\xdeQ\\xff\\x83\\x05o\\xfd\\xa5\\x99\\xf5\\xaba\\r\\x8e\\xc9\\xdc\\xcd\\x0f\\x8e\\xe2f\\xf8\\t\\xcc\\xa3F\\x8c\\x7f3\\xf0>\\x8a2\\xba6\\xbb+fj=\\x0cUjY\\x98\\x85\\xc3L\\xf7\\xce\\xfe\\xe3\\x9f\\x18\\xfe\\xeb(D\\xeb\\xea\\x16\\xd5\\xe5\\xfbe[w\\xe0\\x1f\\xd1\\xf7\\\\\\xda\\xfc\\xea\\x9dh\\xda\\x99\\x04\\x01\\x98+\\xc3\\xa0\\xc9aL(|M\\xf6\\xd8TP\\xacH\\x86:\\x16\\xd0`3\\xcai\\x18I\"dw\\x1c\\xe3K\\xe9\\x15Zd\\xffL\\x8e\\xb1h\\xe23p^\\xf6]Q\\xa3\\xb2\\x06]\\xfbl\\x19\\x92\\x0c\\xf1\\x02\\xc7Ik\\xa55\\xc0\\x14&\\xa7\\xab\\x8a\\x0f\\x00\\xc8\\x89Vq:\\x83\\t\\xd8\\xa9\\xabb8\\xe4K\\xc8\\x17\\xb3\\xab\\xf82\\x90\\x9a\\xd1\\xca\\xe0\\xbajd\\xaf\\xab\\x80N\\x9a\\xf0`\\x02\\xd2>7-mQ\\x9d\\xce\\xbba\\x89=\\x16\\xc7\\x9af>\\xea\\xceZ\\xcch#\\xc3\\x8el2\\xa7\\xc4 y\\xc6\\x0b\\x15*\\xc1\\x00\\x88pa%\\xf5\\xcb\\xe3\\xfe\\xc4\\xdfk\\xef\\x1e-7\\x7f\\xac\\xa4\\x15\\xfei\\xe4\\xfb}%#)\\xf8\\xd33\\xc0F\\xe0~\\x1e\\xdb\\x0b\\x08\\x18\\x82Z2\\x16&\\xd0\\x93\\xaf\\xbc\\xe4\\xc1\\\\\\x8c\\x87Z\\xd1\\xbb\\xbaDjI\\xbc\\xa3a\\x8d6W\\xc9\\x07\\xc6\\x99CH\\x8a\\xbcD&\\xbc6\\x0f\\x15J\\x9b\\xe8\\xd7\\xef\\xce\\xd3^<{%M\\x12:Q|\\xf3\\xe3lF\\xae\\xb2\\xd6\\x0ba\\xc9\\xa8\\xc2/\\x00B\\xfc8\\xe6!\\xd2\\x02\\x00\\xd0@*U\\xb7\\xb4 u^-\\x16=\\x9e\\x1c\\xb9:-\\xe4^)\\x8dcb6\\xb7\\r\\xd4\\xab\\x85\\xbajH.$\\xdd\\xb1\\xc8R\\x97\\xd2\\x06\\x98\\xdf(J\\x13\\x9e)\\xf2\\xd5!\\x94\\xd3t\\xfeu\\xb3]7\\x1d\\xc7w\\xea\\xd7\\xaf\\xa3_\\x0e\\xd3\\xb2/\\xb8\\xc8\\x123\\x83C\\x14\\xfb\\x08WT<\\n\\xd7\\xc7\"V\\x16lE\\x89l\\xf1\\xaa\\\\r3eee\\xc1|\\x08\\x84/g\\xf9\\x139\\xfd\\x18\\xa4\\x0fqv\\xb8>\\x94\\xc5\\x9d-E\\x01a\\x1fa(c\\xd3\\x7f\\x19\\xd99\\xf4w\\x06`^cdl\\xf4\\x9d\\x8c\\x80\\xf5\\xd3\\x91\\xafx\\x8e\\x9f\\x0c\\xc4\\x11\\x90\\x81\\x01~\\x81\\xcb\\xc4\\xf2\\xb7\\xed\\x96q\\x00*\"\\xfb\\x8bH%L\\xe8\\x1a\\xeb\\xae\\xfd\\xb3dxC\\x85\\xed\\x89\\x12\\xb4\\xc31\\xa5\\xf6svOf\\xdej\\xad|Y\\xb9\\xfb\\xb5m\\xf6\\xa1\\xf7\\xe2h`\\xf0\\xdb\\xc0\\xab\\x16\\x8c\\xf3\\xf3\\xd7?/\\x1f\\x15<\\xb2\\x11\\xdb\\x97\\x02\\x18n$|\\xd3\\x90\\xa7a\\x87\\xb99\\x97b\\xa1z\\x19\\xf1xh-\\xf3\\x8cX\\xa1\\xd8\\xa5\\xd2\\xb2P\\x99-\\x18\\x0f\\x96\\xca\\x07K\\x13\\xf6\\xcc\\xfe!O&\\xecS\\xa2^\\n f\\x0eb\\xd8\\xbf$\\xc8\\x01\\xb0v\\xb9ZB\\x97\\x0c\\xbc5\\xddu\\xd0\\xeev\\xf8K\\xf3\\x15\\xf1+A\\xc8\\xa5y \\xcf\\xba6Z\\x97;S\\r\\xab\\xcb<\\x86`\\nq \\x88|\\xe6\\xd2Q\\x1cz\\x98\\x0e\\xa7\\x98\\xe5\\xd4\\xe1V\\xda\\x02\\xc8\\xe12^&\\x15\\xc52AJe A\\x1fV\\x13\\xce\\x93go\\x80Z0\\x99\\xd1\\x9eg\\x00\\xff\\xf7v\\x1bF\\nZ\\xcc\\xf8l\\x08\\x8d\\xb3)V\\x1c\\xdcJkN>6\\xa8gG\\x94\\x17\\xfcDq\\xe8\\xa8\\xf6\\xe1~\\xbe63\\xc8\\xd1\\xf14\\x03\\x13B\\x99\\xec\\xeb\\xeb{\\xe5\\x85w\"\\x85\\xe4y\\xc2\\xa37t\\x14X\\x10,bh|0\\xcd\\xb0\\x90&\\xc4\\x98x\\xb7\\xf8\\xf8\\xae:a*\\x81gb\\xbci\\xf2\\xac\\x87\\x18\\xa4\\x9b\\x8f\\xd7\\xdd\\x9aLv\\xfb\\x92B\\x8e\\x00\\xfc\\x94\\x1a\\xa0E)3\\x06\\x08\\x11\\xe0\\x82\\x7f\\xb6\\xe4\\xa7\\x1e\\x85\\x96y \\x91\\x95\\xc2\\x80\\x97re\\x0b\\xf5\\xd5\\xf61\\xf4\\xc9\\x8d\\xd6z^\\x87\\xc9\\x8b\\x9cp\\xe0,\\x8e\\xb4\\x1a9\\xac\\xa7*v\\x9a\\xc6A1=v\\xb4I.\\x91\\xa7-\\x00;h\\xeaD XQN\\xf3f\\xedj\\xdb\\x89\"\\xa8\\x11\\xdb\\'\\x0e\\xc8\\x9f\\xf6\\xf8\\xe2\\x16\\x96\\xfb\\xed\\xe9\\x16\\xc5\\xcbU\\x00\\xb5Q\\xfb\\xc8\\xc2\\xc4\\x941>o\\x04\\xb2\\x9a=*\\xcb2\\xf8t@i\\x93w\\xbc\\xe7\\xfauBw\\x13\\xa7\\xeb\\xdb;\\x95\\x8a\\xb4\\x12{UD)WtUx\\xd1\\xeaQb\\t)\\x01\\x9e\\x95::\\x9d\\xbeD*\\xe2\\xdb\\xc7\\x89$]Ys\\xaa\\xaa\\xd8&\\x9e\\x8f\\x18{=\\xedY\\x04\\xed\\x02\\xfb\\\\\\xac2A\\xbc\\x8f\\xb92\\x1a\\xd2\\x1f\\x92\\xa88\\xf4T\\xfa\\xef\\x97oW\\x01v|\\xcfL\\xb2\\x08b\\x8b\\xff\\xfe\\x1c\"\\x8b\\xde\\x86\\x95\\xca\\x90zQ\\xbf\\x9b\\xe3\\xe0\\xcb\\xc1\\xc3\\xbap\\xda\\xa8\\x0e\\xd8-\\xbb\\x8e\\xa1\\xcc\\xdf\\x92OP\\x81\\x143\\xaaN\\xf22\\x17GE\\xbf\\xe8\\xb5\\x12\\x13,\\x16\\x91c\\xf0\\'\\x13h\\xc3l\\xe3\\xddS\\x91\\xff\\xba\\xdf\\xec\\xfb\\xfb2\\xeb\\x15\\x904\\xb1\\x95_o\\xf4wM\\x94##U\\x99\\xc8>\\x18\\xe0.\\xcd\\x92\\xfdz\\t\\x91\\x8bl\\x01\\x16*\\x86\\xb6\\x98\\xabM?N\\x01[\\xcc\\x1f\\x1f\\xd8V\\x9c~\\x8b\\xef\\x07\\xd7,,\\x84\\x86\\x11\\x87\\x85\\xc4::\\x0c\\xcd\\x04_\\xcc\\xfd^\\xfa=\\xf8\\xcb\\xaa%\\xc1\\x12\"\\xf1\\x8eLD\\xe4\\x84\\xceJ\\xe7:S\\xd8:\\x04\\xaa\\x1c\\xca<%\\xa6\\x88\\x1a\\x86\\xcb\\x9b\\x1a \\xf2~\\xcd\\xd7\\x8bk\\xe0\\x87Z\\xc5\\xdb\\xf0\\xd7\\x1d\\x92\\xc3j\\x11 (VVN\\x0f\\xc1G\\r\\x9c\\xb3}\\x0f1\\x04\\x15\\n\\xa3\\xc8\\xb1\\xab\\x05\\xc1M\\x7f\\x07\\x9e\\xee\\xcf\\xd4\\xfe\\xd9\\xdb\\xb3e\\xe8\\xa4\\xcf*x\\xfb\\xdb\\x1f\\x02\\x1ccW\\xb5vNc\\n$~4\\x84\\xc2\\x88\\xa6\\x14\\x95YN\\xcc\\xbcL88f\\x89\\x83\\xc0\\xa8\\xa0\\x9f\\x994)\\xbf\\xd2\\xf8\\x05[\\xa7\\x1d\\xb4\\xb5o\\x80\\xe0z\\xd5\\xca\\xc4\\x8c\\xfd\\xe5\\xae\\xccq\\xfa):\\xa5\\xb4\\x8d\\x84\\xddo\\xde1\\xbaM\\xf5\\xf4\\x99\\x1d\\xb0W|nj\\xff\\xae\\xf9i\\x0fi,\\xf8\\xee\\xcegH\\xbb\\xf9\\xb8%\\xd4\\x06\\x8d\\xae\\x8d\\x99G\\xb6qs(A\\x00\\x12\\x0c\\xcb\\x01+c\\x90g\\x07_ \\xa9\\xd8n\\x8e\\xb7\\xd3\\xc4Z\\xd8\\xa0\\xbf\\xdf9\\xfe\\x1c\\xaf\\xf7y\\xde\\xf2\\xbb\\xdc\\x8e\\xd8\\x9f_F\\xf7\\xf1|\\x94\\xc8\\xe7iV\\xdeHfQ{\\xe2\\xbdR\\xcd\\'\\xe4p\\xaf\\xb5<b?y\\x1a1\\xdc\\xa8A\\x18*\\xff\\xf9\\xcb\\n\\xf6\\x1f\"=\\x14\\t\\xe0\\xcf\\x0c!\\xc9\\xd1\\xcb2\\x07\\xa8\\x94\\xf0)\\xb0\\x86\\'\\xc6\\x03\\x1e\\xb6\\xb7I_\\x8f\\xcc,m\\xbc>\\x04\\x80\\xdc\\\\]7z\\xfd\\x0c\\x805\\xfc\\\\\\xfc\\xcdJ\\x11\\xd8#\\x93R!\\x81\\xc0A\\xda\\x92\\x87\\xfcj\\x08>!\\x1c\\x07~A6 \\x8dZ0L\\xeb,\\x9d#\\r\\xfd\\xa5\\x14\\x0fL\\x90\\x0c\\x80\\x0c\\x00\\xe0\\x91\\xa0\\xcfH\\xf2b<\\x81(g\\xdd\\xf2&\\xeep)\\xe6\\x9f;\\xf5\\xae\\xf7fo\\x19\\xfc\\x8e\\xea\\xd4\\x9a\\xc6\\xc3f+m\\xcajk\\x90\\x9aQr?\\x0cu\\xf0\\xf5\\xa1`[\\x9bO1\\x8fe\\x01!\\xec\\xadH\\x0bU:n\\xb9\\xdd\\xa3sdy\\x1a>\\x02\\xdb\"\"\\x96\\xef\\xf2i\\xe8\\xfefoJ\\xf3\\xf9\\xe5y\\xad\\xdf\\x86\\xb8}\\x7f\\xc2\\xe8^\\xaf\\x84\\xf4\\xfd\\x84\\xf4WC\\x89}5\\xd5t\\xabf7\\x15nN9Ag\\xf6\\xe1\\x86\\xe6\\xd6\\x91$\\xee\\xba \\xb4;\\x12B\\x8f\\r\\xd8>\\xce\\x87\"\\x11\\x02\\xf1\\xd9B\\xef\\xc6\\xe0\\xf28\\x90\\x11X~\\xb2\\xa6\\x1fa9g\\x18N \\xb40\\x82;2y&}}\\xbe6\\x12g\\xf4A\\x93[-\\xfet\\xa0\\x97\\xf0\\xdd\\xea;\\xccg\\x12_\\xbe(\\x7f\\xbf\\x00\\xf33\\xd0\\xef\\xa6\\x00\\xda\\xb0\\xe2\\x08\\x8aS\\x08zv\\xe1\\x87\\xd2w\\x0fE\\x19\\x17g\\xcaR\\xc2O\\xe2\\xfd\\x0b\\x1b\\x80O\\x1dc\\x95 &r\\x19^sV&-\\xb9V\\x0c\\x00\\x19e\\xd1\\'u\\xc9c\\xe8\\x8f\\xe9\\xa7\\xf0\\xf1\\x03\\xc8\\x83\\xd43\\x95\\xcb\\x1dET\\x07\\xf5\\x94xC\\xd4\\x14\\xc1\\xba\\x15z\\xb9\\xb0\\xf9\\x08\\x1a\\xcc\\xb0\\x96Ul\\x85\\xad\\xfb|z\\xfe\\xfeh\\x15\\x05\\xc8\\xd7\\xea\\x05\\x04\\xf0\\xae\\xe4(\\xf8z[\\xfa6a\\xf3\\x8a\\x9b\\x10\\xfa\\xba\\xa7\\xf9\\xac\\xba\\xe0vgBS\\xba\\xa9\\xf6u>\\xb6\\xb2X\\xa6K\\xf7{{\\xf2\\xaf!~\\xdc\\xd1\\xd4Tv\\xd8A\\xfds\\r\\xa2\\xd0\\xea@?\\xd7\\xe5\\xa26\\x0c\\x01\\x0cJ\\x92*\\xdb\\xa0\\x8c+l\\x04\\x13\\x1c\\xc2\\xc9\\xfd\\xb4d\\xd9\\xc2\\x8c\\xf5 \\xe8\\xcb\\xef\\x1c\\x8f\\xfb.7\\x96\\xff\\xb0\\xb9\\x9b.\\xfe\\xeb\\x15\\xeeq\\x81Es\\xfe\\xe6V\\x11x\\xc8z!\\x8ci\\xd0\\xcaQ@wG\\xb55\\xe6O%9 \\xa4\\xb8\\xf8\\xbf\\xe3\\'\\xb5\\xa6\\xa0TV\\xc0\\x96k\\x02%\\x08\\x14\\nab\\xaex\\x15\\x0c.\\xa9j#gae~\\x9d\\x9f\\x9e \"\\xf0\\xd9\\x02G\\x91\\x17\\x9es\\x87\\xf3\\xfd0<\\xdc)\\x03L^\\xd0 \\x01t\\xebSR\\xc5\\x00\\x16\\xb4r\\xeb\\xd2\\tT\\xb9\\x84\\xa7\\x05al\\xea\\x0e\\x06\\'\\xcdo\\xa0\\x00\\xfd\\xef\\xbeR-\\xdaJ\\xc3\\x9c\\xa7\\xe1d\\xd2k+k\\xc6&f\\xef|\\x1e<;Y\\xbf\\xfd\\xd2w]r\\xba\\xa4\\xdf\\x9e\\x16\\x07\\x91#\\x97\\x98-\\xbdOk\\xf9\\x8b\\x9a7\\xd2\\xda\\xe9\\xe8m5B/>\\x08\\x80\\x17\\x08\\xfc\\x13gu\\xf1\\xff?~\\xe0\\xbd\\xc1\\x8c\\x95\\x9d_ \\xa7aB\\xf0\\xa1\"pp9yk\\xa0\\x10\\xae\\xb2\\xb8\\xb2To\\xb3\\xebv\\xf7\\xf7\\x1e\\xee\\xe6\\xd3\\xf3\\xcbR\\xad\\xe5v\\xb7\\r\\xcbD{\\xbe\\x88d\\xd4\\xe2\\x01Q\\xe8\\xbb \\x00x8\\x9a\\xf8\\x9dq\\xe9\\xb3\\xf0\\x17\\xc5\\xb4\\x0e\\xf6\\xf0Y\\xd4j\\x06\\xa5GW\\xb6\\x87\\'X;\\xf7\\xb9\\xdc\\xaa\\xad}\\xbc\\xd3\\xf3LZ\\xb3\\xa29Q;\\xf3\\xcf\\x19\\x01\\xb8=|\\xcbZ\\xc17\\xa3K}\\x8bU\\x97\\xce\\xb5\\xad\\xacj\\xe9\\x1b\\xeb<`9{\\xa1\\x13@\\xbf\\x968\\xbe5U62A\\x1f\\xc8\\xa4\\x17\\x19\\xff\\xb8\\xeb\\xe6\\xf7\\'\\xb5<\\xbd\\xec\\x81\\'\\xd1D?\\x81\\x83Y\\xcf\\xdc\\xd6\\xfb\\xfe\\x98/=m\\xa7O\\x92\\xbe\\xde\\xbd.\\xb8;\\xc0\\xa3r\\x8d\\x9e\\x10RR\\x14\\x8a\\xe2I%\\xf7\\xd8\\xf1\\xbe\\xe4ijn\\xa6\\x9a\\x86\\xdc`C\\xfeY\\x0577\\x17\\x97\\xd21\\xae4\\xf2\\xe2\\xf59\\x9f*\\x8d\\xd1ba\\xeb\\x18\\x9e\\xe6\\xa5P6Ey\\x1a\\xc1\\xcd\\x1e\\xbf\\xeb%\\xbb\\x82\\xda\\xba\\xfa\\xfd${\\x94\\xd7N\\x02!\\x19B\\xc9\\xe9e<\\x7f\\x04\\x13B\\x92\\xb9\\x81U>\"\\xc1\\x8e\\x84\\xec\\x91\\x08P\\xa8\\xa8JF&\\xa6\\x978\\x82\\xb36\\xbe{\\x905\\x14\\xec@\\xadvuJ^\\xbe6|~/D\\xba\\xc81\\xd7\\xd9\\xdbJ\\xc3\\xec_E\\x9c\\xa6\\xeeae\\xb8x|B\\xb3P\\xa4r&C\\xd1\\xe4\\xe8\\\\\\xa3\\xb2\\xcb\\x11\\xb2\\x82\\xb1\\xd2\\x90\\xf3\\x8ey=KB\\x8a\\'\\xaf\\xee\\xa6c\\xca\\x11\\xe9\\x90\\xe7\\xfd\\xd4\\x89\\x12\\xd0\\xb0\\xd6&\\xa1\\xe6\\xaa\\x1c\\xc0\\x9b=\\xdec\\xff\\xed\\x90\\xdd\\x02\\xca\\xba\\xf6\\xf9\\x8d\\xfb\\xfd\\x9d\"\\xb7x\\'a\\xc9Q\\xed\\x9f\\xfb\\x1b\\xcd\\xb6\\xf6g\\xe2\\xd3\\xcc\\x90b\\x15bvL\\xb6Z\\x1d3\\x1en\\x81G\\xddY\\xfb\\xb5\\xd0\\x06\\x8d\\xab\\xcb\\x08\\x94Q\\xf0\\xd9>\\xba\\x7f\\x8c\\xc3\\x9d\\xc4\\xa2\\xa5\\x93\\xc6/\\xea\\xed\\xa4\\x97G\\xac\\x15J\\xde<\\x81\\x9c\\xc8\\xa8\\x8d\\xdd\\x98\\xfc\\x97\\x91H\\xdd\\xb8\\xf8\\x82\\xfd(s\\xec\\\\\\xa5\\x82y\\x8f\\xfe\\xef\\xb6\\xa0\\x8b\\xea\\x83|?F6>\\x04<\\xca)\\xee\\xd1\\xf3N\\x1f]^\\xde:\\xb3\\x15\\xda\\xa3\\x1d\\xe3\\x81\\x1fR\\xfb%\\'\\xfb\\x17C\\xdf\\xe9\\x9d\\x8d\\tG\\xe9\\x00\\x98\\xa4\\xca\\r\\xf8\\x97\\xfb\\x1c\\xba\\x91\\x8e\\x93~h\\xf9m$\\x8f\\xad\\xef\\xced\\xa5\\x94\\xae6\\n\\x1c\\xaaR\\xe4\\xb1\\xbdk\\x9b\\x16i.\\x10\\xd2R5\\xe2\\x98\\xc9\\n\\xf8\\xcc\\xeb$\\x0b\\xa8l\\xba-\\xd9\\x1ch\\xfb\\xf2-ZA.\\x9be\\xb9\\xef\\xef\\xe5\\xd3\\xbb\\xab\\xbe?\\xe1JD<\\x082\\xd7\\xcd\\xcboCf\\x9d!\\xfa\\xfd\\x08\\x1c`C|;\\xbe\\x15\\xc3\\xaa\\x0cXJ\\x06\\x96li\\x89\\xf7\\xfb\\xf0\\xbc~]\\xff\\xf9\\x8b8\\x8d\\x94\\nGA\\x7fQ\\x9d\\x9f\\x88\\x08\\xb6\\xe9s\\xad|\\xb6w\\xceW\\x94\\xab*Z\\x1e\\xc2\\x8f\\x83\\x97\\x08\\x08\\x89\\xc3\\x01\\xc9\\xb1\\x95\\xcf\\x9e\\x1dz\\x9c\\xfe\\x97\\xa2\\xe0\\xdd\\xd1k\\xaa_\\xc6\\xcf\\x1e2\\x0c\\x8f\\x81\\xbcO\\xb5\\xfe^\\x12\\x86N{\\xf4\\xf4o\\xd0qU\\x9cj\\xaa\\xd4\\xcf\\xd1\\xdf\\x17Uo\\x14\\xba\\x0eF%\\x9f\\xe0\\xae\\xa9\\xf9\\xb2J\\xe6\\x1e=~\\xdbr\\xba\\xf5\\xea\\x8aS\\x90\\x9bF\\xbf1\\xb7\\xed\\xeb\\xb5w$\\xc2\\xb2r\\xfc(\\x81\\xb0\\x11{\\xcb\\xacjc\\xe6\\x99\\xf7\\x06\\xe4\\x851!;\\xf6\\x8aG\\xa5w\\xe9\\xa8\\xcd\\xe37\\xbc\\xd8\\x1a\\xe5a^\\xe0\\xd7CSE\\xd6\\xb6\\x8a\\x9c-\\x19\\xa3\\x15\\x06\\xe1\\x83\\x1fd_\\xa0\\xd7iN\"\\xc4E\\xf7c\\xb5\\xa2\\xba\\xda\\xa6\\xe5*\\x0b\\xc6\\x1dfr7\\xe3\\x9e\\x8e:\\xff(\\xb2\\x99\\xe0\\xa7\\x8e\\xaa\\xca\\x9e\\xb7\\x12{\\xf3\\x13\\xd4\\x12\\xdd\\xd5P\\xbd\\xc7q}\\xf5h\\xe4\\xf5\\xcd\\xe9u\\x1f\\xe7\\x04\\xe2\\x19\\x01,\\x87&\\xf7r\\x03$\\xe3 Ce\\xe9\\xb5\\xdc\\x92\\xc3n\\x97\\xedo\\xb7-[\\xc9\\x1d2\\x10\\xd7\\xf9N\\x93\\xec_\"\\xf8#j\\x13\\x1e\\xa2\\xd9\\x110v\\'\\x0cI\\x8a6\\x02`\\xad\\r\\xd5\\x8f\\x10X\\xe0\\xc7yh\\xeb\\xa3mz\\x0e5\\xbfi\\x1d\\x08-Xl\\xb60\\xc3\\x8a\\x84\\xd1\\x90%\\t\\x08T\\xee\\xbf\\x9dW\\x05:\\x01\\x96\\xd2\\xab\\xd7\\x9eF\\xe6\\xf9+_\\x9ew\\t\\xf3\\t\\xe2h\\xa7\\xc4\\x83\\xf3\\xc8\\xbb\\xdfR\\xa2\"\\xae\\xf9;\\x90\\xb1\\xdd\\xed\\xaeU\\x98\\t\\xc1\\xd4\\xa8\\x83\\xf1\\x14H\\x9eN\"\\x01\\x89\\xf6\\xa7\\x1dy=\\x18H\\x08\\xa7\\xc7\\xff\\xbc#\\xb0\\x1bI\\xfc\\xfa\\xc2\\xe3\\x17\\xd1K\\x83E\\xf7@]\\xf4C\\x98\\x97\\x1eb\\x80\\xbd\\x97\\x19\\x8b\\x1cDb\\x8d\\xf5\\xd9\\xe2(\\x15\\x1a\\xa5h\\xc5\\xf7k\\xfc\\xac\\x130;\\xd0\\xf1b\\x08\\x9a\\x8d\\xc7\\x9a\\xd1s4^\\xf8\\xd1\\xd2S\\xe4\\x83Jr\\xd8\\xf2Ei\\xd0i\\x84U\\xc0\\x1f\\x8c\\xee\\xdb\\xd1y\\xba\\xa0\\xb3\\x8eN\\xebf\\xbe\\xf5\\xae\\xb5\\x86Gc\\x81}\\xf5\\xe8\\xfa\\xf1&x\\x12\\xdf\\x05\\xdd\\x0b\\xbdEqE\\xbd\\x0c8\\xf4\\xb3\\t\\x1f\\xf5\\xd4p\\x82\\x86\\xac\\x80\\x9d3\\xd5\\xa0\\xbbS3}\\xc2\\xab\\xf3\\x847\\xc4\\xa2\\x97\\xe0\\'q\\x96B\\xf4\\xe5\\x89\\x0b\\x86\\xd5\\xc4\\xa0T\\xe2&\\x00\\x02\\x95\\x02\\xb72\\xafc\\xa9v\\xd4\\x8e\\xce\\xcfO\\xb9\\xa8[},\\x9a\\xc5\\xefU\\xd6J\\x93tPL\\xf9U\\n<-\\x91_\\xff\\xe1:\\xd1\\xab-\\x9e_\\xaa>\\xfa\\xc7;1\\x12r\\x9a\\xf3\\x94\\xcb\\xde\\xe6\\xbc\\xf9\\x8a\\xbf\\x8b\\x84VIJ2\\x82\\x1f\\x0c\\xec>\\x04\\x7f\\xae\\xb7\\xdf%LnX=:\\xe6\\xf6\\xa4\\x94\\'af*\\xc6\\x94\\xd2\\x90mg\\xdb\\xce\\xbb\\x1b\\xf9/\\x00V\\xacN \\x8c\\x9eE\\xb0m\\xfb\\x0e\\xc1\\x95\\x8d\\x14\\xf8\\xd8\\x87\\x15\\xca\\xd7\\xad3w\\x8dZ)X\\xceXK0\\xc0\\x81l\\x12Y\\xa8\\\\\\x98m\\xaccU#\\x07\\xa1W@A-\\xe3\\xb7\\x9b\\x1a\\xf8\\xf5|\\xf2#\\xa1V5\\xadK\\xf9\\x16h\\xfdA\\x122;\\x86&I\\x93nwF\\xa9H\\x0b\\x9bn#\\xc1\\x87?\\xb8\\xf2/k\\xfe\\xddg\\\\\\xee\\xbdO\\xda\\xd59B\\xe0\\xed\\xf3\\xa3>\\xc6\\x9f_\\xa3\\x83X\\x9a\\x89\\xe2):/\\x1d\\x00!\\xcd\\xbe\\x0e\\x0e\\x1e3\\x079L\\x93\\x93\\xfc\\x02\\xcb>\\x0c\\xe3\\xa9\\x80\\xb6C\\x81t4\\t\\x9a\\xa3y0\\x03\\xe9\\'!\\x06\\xb36\\xca\\x8c\\xefdADby&\\xe6\\x92sf 7:\\xe19\\x87M\\xd8\\xf1&a{lel1&\\x16A\\x8b\\x0fz\\x11_\\x8c)\\x84\\x1a\\xc9O\\x15\\xc3K\\xf8\\x9c\\xa6\\xc8\\xf9\\x1d+\\xadL\\x0f\\x83\\x8c\\xa2;#\\xfd\\xb7\\xd5\\xe2\\xf9K4\\x8c\\x99\\xdeS\\x87\\x9a\\xa8\\xfeh\\x1c\\xd2\\xa4\\xff\\xf6V\\xe7\\x87\\xc5\\xa3\\x1f\"/~\\xbc\\xf5X8|\\xeb\\x1d\\xaa|\\xe2\\xfdk\\xfa\\xe0 v=\\xc9aL\\xeb\\x81\\x17\\xaf\\x8eA\\x06\\x1b\\xf2\\x7f\\xc5;\\xb4\\xa4\\x178d\\xf0\\xeda\\x01[\\xf1\\xbd\\x03\\xe7\\xe9r8Tb=\\x85\\xbeAIK\\xbe\\xfc\\x14\\xd8\\x8e\\xa0\\x10]\\xb0\\xe8\\xe8M\\xf8\\xa7\\xdd\\xa9\\xaf\\xa3\\xe4\\x99\\xe8Q\\x81\\xa6\\xc4b9\\xcc\\xcbh\\x8c\\xf9\\xcb=\\xc5\\x12m\\xca\\'\\xd8\\xae\\xc4\\x1a\\x9e\\xd5!\\x8fv\\xe9\\xe5\\xa3\\xf3\\xb8\\xa3A\\x89gN\\x08\\xfd\\x8a\\xb4\\xa7\\xbf\\xa9\\xdd\\xd6\\xbb\\n\\x9a\\xb8&\\x9d\\x1f\\xff>\\xf7\\xe5\\xdd/\\xb2yB\\xf1\\rV}d\\xc7\\xf0\\xf8\\xe8.S\\x92\\xe1\\xfe\\xa7\\xf0\\xa7y\\x16c\\xc6\\xab7[\"\\xbcY\\xc9w\\xb4\\xa4<\"\\x1b\\x1f\\x9b\\x99r\\x8d)\\x99\\x188\"\\xeb\\xf5\\xa9\\x1f=5\\xeb\\xec9)7\\x06\\x8a0:c\\x95\\x97\\x8e\\x12\\xdb\\xfd\\x0c\\x85\\xdd\\xd7V6\\x9e\\xe0\\xe4\\x9bE5Q6\\x95C\\xb6\\xb5\\xf4q\\xc5\\x86\\xc6\\xc6\\xda\\xfd\\xc5u\\xbd\\xad\\xda\\xbb\\xd3v\\x05\\x19%\\x1e\\x1b\\xd2\\xe9\\xaff^\\xc4Qh\\x98\\'6\\xc2\\x93\\xe4*W\\xf1\\x19\\xf2\\x15\\x9c\\xd8wQ\\xd6\\xf1*T\\xe2\\xe1\\x97\\x9dG_5\\xc6\\xa5w\\x8c\\xf6z\\xed2\\xb4\\xf9\\x8f-\\xa3s\\x07#\\xdf&j.\\x89\\x1e\\x9a\\xf8=\\xd2\\xfb\\xea\\xb1\\xc7q4\\\\n\\xf6#\\xce\\xe8^\\xe8\\x90\\xc3\\xf6\\xed+\\xbbI\\xe0s\\x82\\xdf\\xad\\x8d\\x81\\x96\\x06\\x9a\\x0c\\xd8\\xa6\\x0fm\\xcf\\xa5\\xad\\x16\\xb8\\x11\\xc4^F\\x94\\xfa\\xa5</\\xec\\xd4\\xf4,2\\xc4\\xa3j\\xf3\\x8f~<\\xf1\\xcc6\\xcb\\xa6;\\xef^\\xb7UZ\\xd7\\x0b`6\\xb0\\xe8\\xe8\\xd4~\\xb4m\\xe7\\xbd2\\xf3\\x90#\\xaf\\x7fPrm\\xa5\\xee\\x10\\xcb\\x802\\x1fe\\x86\\x83\\xf10\\xb8\\xc2T~\\x80\\x0c\\x04\\x83\\xbe\\xdc\\x1a\\xd8\\xfb\\xfd\\xfb\\xb7V\\n(\\x0e\\xd2\\x12e\\xb3$\\xa8j-P\\xd0\\n~\\xbe\\xc5\\xa5\\xe1\\xbd>\\xb4!%1\\xe6 )\\x0c\\x9a\\xc9\\r\\xf5F\\xfdP\\xf9\\xa9\\xb1z\\xe4\\xa0\\x16<\\x91R(\\x08(\\xae\\xdf\\xecx?\\x95M\\xe9P\\x8b\\xdf?\\xe7>\\xac\\xa0\\x9d\\xf0\\xf1\\xd6\\xd5\\xefe|5\\x1cUJr\\xf1\\xdb^\\xb92s\\xd6$\\x8dm\\xa4I\\xc5A\\xc8\\x81\\'j\\xc8\\xf1%\\xbdN\\xe0y\\xd9\\x08\\x11\\x07\\x9f\\xe0\\x89\\xb3\\x1b\\xda\\x86\\x8d\\x9fX\\x10IlO\\xa9\\x98H\\x10_\\xfe\\xfdK\\x04\\xa0\\xa1\\xb3\\xb5\\xcc\\x9az\\xcf\\xc0\\xf0M\\xa6\\xae\\xf5\\xc3\\xc9\\xf0\\x01@\\x9c\\xbe\\x92U\\xc16\\x0b\\x82f\\xbe+X\\xfc\\xdaa\\x96E\\xd1\\xc9\\xaekX\\x89\\xbd\\xa1\\x9f\\xd2\\xad\\x808\\xb4\\x82\\xe1\\xa4\\x97\\xf1\\xe2\\xdf0\\'O{\\x05O\\xf7\\xdb|\\xfbl\\xc2\\x16\\xf6Yl\\xbf\\xbaK_\\x8b\\x14\\x08\\xc3S\\xd2g\\xb6\\xfa%y\\xe8-^u\\xd5Tw\\xb8\\x16\\x98\\xdbBH\\xc7\\xa4\\xb7\\xd5\\x15\\x8ff\\xab\\x7fM\\x7fH\\xf5\\xfc\\xff\\xea\\xf8\\xeeh\\xb6\\xdf\\xf0\\xed\\x18_\\xa3\\xd4\\xa8=J\\xadjk\\xc4jmZ[\\xb5\\x94\\x8a=\\xabh\\xa5\\xc4\\xde\\x92*J\\x8b\\xa2j\\xd5HQE\\xec]3FE\\xad\\xa8*\\xa9M\\x95\\xd4\\x8c\\x1dA\\x927~\\xbfs\\xdes\\xde?\\xde\\x9c|N\\xfe\\xc9\\xf3y\\xee\\xfb~\\xae\\xfb\\xba\\xae\\xfbsrr\\xd4\\xf72g\\xa0\\xcf\\xdc\\x11\\xd4m\\xfe\\x84\\xf3\\x07\\x02\\xf1\\xe6F\\xec\\xb3\\xbc\\x83\\x05\\x01\\xcf\\xc7H\\xd9V4\\x9e\\xb4\\x01\\xc9G\\x06\\x8b\\xa1v\\x07\\xe9q\\xe4?\\x920\\x0b\\x90\\x98\\x07\\xd55n\\xe3\\xe4Kg\\x91\\xd1\\x08yVo\\x05\\xd6\\xbb\\xe0 We\\xd1\\xa0\\xbb\\xfd?\\xc7\\x8b\\xbe\\xd2G\\x9e\\xa57(\\xbb.\\xfaWdv\\xef>\\xd5\\xffpf\\xe5\\x07\\xe8\\xde\\x1f\\xda_\\x95\\xca\\xf2\\xbcM#\\x00V\\x9f\\xafn\\xe2V\\xfdB\\xb0x\\xfb}\\xc4\\xdd1\\xc2\\xf0\\xedR\\xe7X[\\xbeOKE\\xf9\\x0f\\x0b\\xd0\\x7fq\\xa99\\x9b\\xb7\\x94\\xd6\\x89\\xd69\\xb45\\xfb\\xad\\xc2\\xd4\\xb7,2\\xf5\\xafz=]k3\\xc8(|\\x05\\xe0\\xa5d\\xc2\\xf3#/\\xb5r\\xfd\\xe9|\\x13\\x18B\\x9c$\\xef\\xc2\\xc2IM\\x15\\t\\x81\\xf8a\\xe06,N\\x9b\\x14\\x02S\\x11LQ\\xf3\\x90\\xfd5\\x19\\xea\\xe9\\x99\\xf9Z\\xb7\\xe8O\\x97\\x98\\x8c\\xb0Z\\xba\\x98\\xdd\\x92m\\xc9q\\xc3\\xfd\\x9b\\x9eQN\\xe6\\x94\\xaa\\t_\\x0e\\xb9M\\x8b\\xea,\\xe8\\xad\\xe3I0\\x1c\\xfb\\xc1\\x1f\\xb0\\xd7[\\xb2\\x9a\\xb1\\x9acB\\xf3\\n\\xdf\\x95\\x1bb\\xf4\\x04\\xa0\\x84J\\xbd=\\xef\\x84\\xacv\\x04mL\\xad\\xdd\\xf9\\x96\\xea\\t\\xad[\\xc4\\xf2n\\xb6yd\\xde\\xb8{]j@_\\x9e\\x1f\\xb4\\xb2W!\\xbb\\x0f\\xfd\\xc3X)\\x1f\\xdbVm,>u\\x1b\\x11\\x8b\\xb0\\x02\\xa5s\\xfa2\\xdb\\x82e\\n\\x87\\xd5!Q\\x9b\\x18+Y\\xa7\\x7f\\x87g\\x80\\xda\\xda\\x8eH\\xd2\\xd0m2\\x16&\\xd8\\xca\\x9d\\xf6\\x08\\xd37\\xfa\\xb0\\xc0\\x9ce~\\x8a\\xb9\\xc7\\xcd\\xebeJ3}\\xc1\\xb4T\\x80%\\xb5\\xf2|\\xd0\\xd8\\x0b\\xd6s\\xdf_;\\x8c\\xd3\\xed\\xf4z\\x81{\\xe7\\xfd\\x1apU>\\x9b\\xec7\\xdf\\xb19\\x8f\\xe3\\xa5\\xb5\\x86\\x91\\xc4d\\x9cCW\\xe4\\xbc*\\xf2h\\tM\\xafMH\\x8fh\\xd1\\x9e\\x9d\\x9b\\xcb\\xdb\\x0cdx\\xe9k\\x89\\x11\\xa9\\xe5\\xcfe5t/my\\x9c\\xcc\\x14\\xd5\\x1f\\x1f\\x05\\xf7\\xa5\\xa6)\\xa4\\x96\\xc0\\xbf\\xc9\\xb9\\xa72%\\xc2\\xfe\\x9bw\\xe2MZ\\x8eq\\xd2\\xd1\\xf4\\x9f\\xd6&\\xab\\xf6\\x0fI\\x83\\x11D\\x9f\\x96\\xd2\\xd4u\\xab$y\\x1fo\\x8d\\xb2\\xb7\\xfe\\x14\\xa0Q\\x0b\\x8d\\xc6\\xbd\\x1e\\xe8\\x87\\xcf\\xb2\\x8e\\x85\\x92\\x9f\\xc1!\\x07\\x8dc7\\xb8;%}\\x83\\xee2\\x0e\\xc8\\xbbT\\xd9\\xda\\xda\\xd5\\x07{\\x80<\\x98\\xeb\\xaa\\xa5\\xc0U4\\xc9h\\x19iib>y\\x12\\x06\\xddCm\\x86\\xb5\\xd8\\xbf\\x1b\\xd0&\\x14\\x0b\\x13\\'\\xc8kd\\xe8A\\x03\\xebF\\xdbu\\x80\\x8e=\\xa7;\\xd7o5\\xd9\\xb7m\\xbc\\xef6\\x10\\x1fJ\\x7fi\\x1e\\x17\\xf9\\xf62\\xbe\\xa8z\\xeci\"\\xf7V\\xa1\\xbaX\\x04Q\\x91\\x7f\\xaftvPM\\\\\\xd4\\xbd\\x84\\x08\\x95\\xfb\\xe2\\xcf\\xcd@|Z2\\x161\\x1f\\x90U\\xc3\\xf9\\x9f\\xbbWH\\xf0\\x9dz\\x8d\\xd9\\xd3}+\\xcd\\x05\\xc9\\xd5O\\x9f\\x048\\x85\\xb2\\xb3mc\\x9e$\\xdcx\\xcd\\x7f\\x1c\\xa0\\xf2\\xdc\\x00\\x1a\\x9a\\xb2^P-\\xb1\\xd0\"}SH\\xfe\\x9fD:\\x9f\\xd1v\\x96\\xe9\\xc7\\xa0\\xa5\\x97\\x07\\x91\\xbf\\xec\\xa1\\xbf\\xfa\\x8dp\\xcc\\x9bO\\x16W\\xbe3[\\xdf\\xfb\\x93\\x84O\\x9f\\xeb\\xd5\\x1bS\\xcd/\\xbd\\x1d\\x0c>\\xeb\\xa1\\xbay\\xc8\\xb61\\xfe\\xf5\\xf7o\\xbe\\xa3\\xc8\\x05ai\\xe7p\\xe2(\\xa6\\xeb\\x14=\\x93!\\xb5\\xee|\\xc6\\xc4T\\xb4\\xabN\\xc6\\x90Ml\\xa7\\x0e\\xe6MU\\xa5Uo%\\xf8\\xe0^p\\x8a\\xac\\x85\\xe1\\xd0X\\xf8\\xa6\\xd4\\x02W\\xe4O\\xc6\\xad\\xb9\\x9fC\\xaan\\xde\\xa0\\xacA\\x16\\x01\\x8aZm\\xc3\\xcb\\xae\\x89\\x8e\\xf8\\xcd\\xfcw{\\xcac\\xbe\\xfav3\\xaf\\xf7\\x00o\\x13j\\xf9\\x99M\\xc6*43\\x00B\\xd5\\xb7\\x87\\x0e\\x98QQ\\x1e\\x88\\xca\\xd6\\x90\\x89\\x86\\xeb\\x0e\\x8ao\\x19.\\x19&v\\xc2\\x8bJ\\xf2\\xff\\x13\\xb5\\xcb\\xb6\\xcf\\xd6w\\xe1\\xbai\\xb0Rt\\x83\\x99\\x0f\\x17U\\x83\\xb1\\xb7\\xd1\\xc4\\\\\\xdd\\nf\\x08>#\\x12\\xfaK\\xa4ql: L\\xe1%\\x91X\\xb5\\xd7\\xdb~\\xe6\\x93u\\xda\\xce\\xf5[,\\tP}\\xbf^\\xc6-\\x05\\xd8\\xf2\\xbe\\x04\\xee`y\\xca@\\xb4VRG\\xf7o\\xe5\\xed;\\xc6\\xc6\\xa2\\x00\\xc3\\xb4xaC\\xb7\\xca\\xb7\\xdc+\\xaf\\x86\\xaf\\x88\\xfbx\\xfbp\\xf6\\xb1\\xc7w\\xfa\\x93\\x8a\\xae\\xa86\\xd3^/r\\xd3\\xfe\\xd5\\x86\\xa7\\x1d9ln\\xbd\\x8d\\x19\\xb33|bU{+\\x9f\\x15\\xa0\\xa1\\xd1q0\\xdd\\xab\\x8e\\x9f\\xb2\\x87\\x8cy\\xb5\\xb3\\x06}\\x8d8\\x98:>\\xce\\x14QB}U\\xfa\\x1d\\x86pI\\xd4\\x956,\\xe6\\xf5\\x1af\\xbe\\x85\\xe0\\x8f\\x1b\\xbe\\x95d\\xe8\\xde\\x9f\\xf4T= \\x00%\\xd4\\x00\\xde\\x90\\xe8a\\x94\\xf4\\xcd\\xf4\\xc4Na\\xda\\xe7w\\xb6\\xd9\\xe4.w|\\xe3\\xd5\\xbf\\xf6PR\\x1ee\\xc7\\x84\\n\\xde\\x9f\\xd3\\x16\\xbc)\"*~\\xa9Pv\\xf8\\xd5o\\x96\\xf8\\xbe\\xbdct\\xb1?I0GL\\xf9\\x0f\\xe0\\x12m\\xa8\\xe5\\x99\\x8aw(^/\\xfb\\x98S\\xe3\\xf6\\xe2\\x89\\xa0\\xcc\\xee\\xa1\\xb3\\xfd\\xcf!\\xda\\xf5\\x9a\\xb1j:&@[>Z\\x00\\x02\\x95\\xc0m\\t\\x7fCTl\\xa4_\\x0co\\x0b\\xfc\\x81\\rl:W7\\xe2\\xe3m\\xee2\\x17\\xf2\\xb2\\xe8\\xda\\x96\\x7f\\x83J\\xd2\\x83\\xa4\\x98\\x1f\\xd5\\xbd\\xf5\\x0b\\xf6sw\\xdf\\xde\\xc8h\\xb0\\xfb\\x97\\xc5\\xaf\\xd7X\\xdb\\xf8\\xb5\\xb6\\xf6\\xc1\\xd3\\xa4\\x92G\\x18w\\xe60\\xe6 f>[\\xc0\\xee\\xd4\\xa9\\x0f\\xc4\\xdd=\\x8a\\xf2\\xc5S\\xfady\\xb4\\n(\\xe1V\\x8e\\xfc\\xb37q\\xc2\\xc96SA\\x8eV\\xab>\\xcf6\\x18_\\xfc,\\xe8\\xdc\\x11:;~\\x10V\\x8fU:\\x8e\\xd2F}\\x05F\\xcf7\\xfc\\x8a\\x1bn\\x88\\x94S\\xf6\\xf4\\xe4\\xb4\\xfb\\x05:Z\\xc5\\xc2Y\\x07\\xc4\\x0c\\xdbF?\\xa6\\xcd\\x07l\\x88\\nV\\\\\\xba~&\\xe8\\xc6\\xfc\\x9e\\xeb\\x9a\\xd5\\xbf\\xc0\\xf0,\\x9f\\x8e\\xba\\xf0\\xf5+W[ \\x84\\x8b\\x02\\xc9\\x01\\x02\\xcf:\\tq\\x12n\\xde\\xaf-\\xadA\\\\%k6\\xf1\\x8f\\xd23x\\xef)\\x05t-\\n\\xab\\xe0S]>\\x8eE\\x15\\x84\\x08\\x9a\\x97\\xce\\xe6;;\\xe49;\\x04\\x9e\\x19\\x8bf\\xea\\xf3!.\\xe9\\xdd\\x0b\\xa6?\\xbe*0!X0\\xf5\\xd1K\\xdb\\xb7\\xfb\\xce\\xd9s\\xd5\\xc6A}\\xd8\\xafD\\x9f\\x81\\xb4f%\\xe8[g5\\xa6\\xa9i\\x1aQ\\x9b G\\xc8\\x1c\\xd2\\xda\\xda}\\xf5\\x814\\xe2\\xdeB\\x13\\x9a\\xe3!\\xbb\\x05\\x97eG\\x08\\x9f\\xab#\\xe6\\xf9R\\xe8\\x92\\xcd@\\xed\\x0f\\x81\\xb9Pl\\'!\\xdez\\xdb\\x9a\\x9d\\xe2\\x96\\xb5\\x86\\xb9\\xb32\\xfd\\xe1\\xaazX\\xc1z\\xaaoe\\x16\\x98\\xa0+\\xf5+jIw\\x84\\xb6^\\xbc8\\xc4\\xd2W\\x89m\\xd7\\xbfp\\xf5[\\x86\\xb6`\\xe0\\xc3\\xd6\\x98)n\\xeb\\xa9\\xe3\\xf97 \\x90#\\x88\\xab\\x16\\xf0Fas\\x9c8kk\\xa1 \\x936c\\xf0=&\\xb1\\xa5\\x80;\\xcb\\xe3\\xcd\\xaf\\xed79-\\xf6\\x7f<\\xe9\\xf5\\x1aQ?_`\\x8ae+\\x96}%e\\x82\\x0b/1\\xfc^\\xc7\\x97\\xbaYPl\\x19\\xdb\\xab\\x06%\\xd9\\xa2[\\x08\\xafG\\xee\\x9f\\t\\xfd\\x19R\\xce\\x84\\xfb0\\xd7\\xe5\\x1c\\xa7\\xde\\x80\\xee\\xf1\\xf09\\'}\\x15\\x9c5\\xba*\\x0c^R\\xab\\x18F\\x8ffx\\xc6\\xc6\"b\\x94PW)4G\\xda7$\\x1f\\xe2\\xbbN&%W\\xcb\\x06\\xb9l\\xc1<YYt1\\xad\\x14\\x1a\\x0f\\x00\\x83yd\\x1dw\\x0e\\xc3#\\xbe\\x17#\\n\\xabU\\xbfY\\x06\\xd4H\\xef~\\x03Q\\xa5\\xf8\\xdc.%Nb}\\xdbg~~8\\x8e(M\\x1c\\xf92KW\\xd5tlk\\xc5.V\\xd4\\x84\\x1a!\\xbdEH\\x0f\\xd5_\\xebE\\xb9\\x8a\\xf8\\xdb\\xca\\xa6\\xdfn\\x94\\x1dn\\x93N\\\\\\xbe3\\xf0C:\\xf2\\xf5w\\x95zTH\\x84\\xd4&6k\\n\\xdd\\xb9\\xc1.\\xadr\\x99[\\x05\\xf7W\\n\\x8c\\xdd7m\\xf9\\xbd\\xc0\\xc9\\xbe\\x1f\\xec\\xc0]T7\\x91\\xab\\xfbm\\xef\\xd9\\xd3\\x869\\xab~g\\xd2I\\x8aV(9\\x86|\\x82#v\\xb6t\\x11\\x9a\\x9e\\xba.\\x9c\\xceD\\xc0\\xf6\\x8a\\x85e*\\xd1UUp\\xa4/\\xc1\\x7fa{g]|\\xe9;\\xab\\xd0\\x0b@\\x99\\xe2\\x9d\\xa9\\xa3?s\\x91\\xe6\\x9c\\x7fC\\x14\\xab\\'\\x84\\x0br\\x98\\xc6=<Rs\\x94\\xf4\\x05\\x1f\\xe4j>\\xd4\\x96\\xe9\\x9bp\\n\\x0cg\\x9a\\xef\\xf2Eoom}\\xe3\\xe5\\xe1\\xe6\\xa6\\xd8\\xe4\\xbd\\xdf\\x11\\xda\\x9b\\x91\\x1e~\\xf5\\xdb\\xf4\\x0b-[\\x84]\\x8c\\xba\\xd4[R\\x195\\xa3\\x88\\xda&\\xcb\\xef\\xf3\\xc5\\xce\\xa0\\x08\\x15~Yii\\x16\\xb5\\xb0\\x81S\\x8a\\xc09\\x93\\xa6\\xe1\\x8b\\'M\\x10+w>]A\\x08\\x04\\xb6\\x8b\\x85\\xed\\x93\\x9c\\xcfmm3\\xf9\\xbd\\x00e\\x9b^6V\\xeeW\\xb1k<\\x8b\\x918pL\\xff@\\x92t\\x94\\x84\\xef>\\xe3V\\x07\\xd2\\xf7h\\x88p\\x90\\xa5%\\xe4\\xc3\\x91\\xf6\\xf9\\x9e\\x16\\x00\\x90^H\\x7f\\xa9\\x9b\\xb9\\x8en\\tqc\\xd8/-D\\xfd\\xe5Re\\xd8J2&^\\x03\\x91\\x13\\xf7\\xc3\\xc3\\'\\xe5\\xb6\\x11\\xe3S\\x90\\x04`\\xdc\\xe0=\\xd1\\xb8v\\xc0\\x18\\xda\\x88\\xb8\\t\\xe2\\xe9\\xed3\\xff\\xd3Lru\\xfeL\\xcd\\x08\\xf6>\\xab\\xc3z\\x8c\\xc0\\xd9\\xf4\\x02\\xbb\\x85l\\xf4\\x92\\xeaLLLr\\xee\\x95W<q\\x98k\\x0bJ\\x8f\\x89%\\xab%\\xa6\\xb5(\\xdf\\xd9x\\xe2\\xb9\\xb90\\x9a\\x9c\\xeb,.\\xa3\\xee\\xe1\\x91\\xf6\\xbd\\xf7R\\xd7l{\\xe8vS\\x1f\\xf3e\\x18\\x812Z1\\x03*6\\xc15\\x9d$\\x94\\xa4p\\x87\\x99\\x9eN\\x19\\xed\\xad\\x1f\\xcc\\xad\\xee\\xe3\\xdfyW{[\\x0f\\xb2\\x16\\xa0Y\\x0c-B/\\xbe\\xb5\\ty\\xfb\\\\\\xc6-\"\\xc3\\t?\\x81\\xc8\\xf3\\xaf\\xd2Rt\\xf5\\xb6\\xcd\\x98\\x95\\xfb\\xe2W\\xeez\\xeb\\xfc\\xa0\\xd7+d\\xf5\\xf1\\x08m\\xbc\\xc2\\xe4\\t~\\xf4P`\\xd9Q&zzq6\\xd3u\\xcb\\xbcS\\xe5g\\x98\\x10\\x97\\xd9\\xb2J\\x02\\xba\\xcdV\\xb6\\xb1V\\x057\\x85\\xae\\xc1\\x04t.\\xa3P\\x06\\x1d<ns\\xbf\\xbf\\xe2\\xd5\\x91\\x07\\xe4\\x93\\xdd\\x83\\xd9\\xe2\\xa2l\\xb7\\xae\\xda9\\xd5\\x96\\xc6\\xdfc\\x8az\\xcc\\xd1\\xe0\\xccn\\xf9Wh\\xa0l~{\\xe8\\x1emY[\\xdfM\\x91\\xdd\\xb9\\x9f\\x7fr\\x9d\\xcff\\x90\\xa7X\\xe4@.3wz5\\xa7b<\\x9b\\x17B\\xd7\\xb6_\\xad\\xf2\\x90>\\xd1\\xc4\\xc4\\x19\\xba\\xbf\\x07\\x84\\x9dN\\x10\\x08\\x04zxT\\xd7\\xd1\\xea\\xe8QF@\\x16\\xd0\\xf9\\xa8\\x93t\\xde\\'\\xa1%cy\\x17t%\\xc2\\xb8g\\x04M#\\xfc`\\xc9\\xf0\\xb9\\xc6\\xb6\\xa4\\x19\\xc6\\xbf\\xdbr\\xda\\xca\\xfe<\\xf4n\\x90\\xe1\\x93\\xaf\\t/7\"aKIWY\\xe2\\xe9m\\xb6\\xb2\\xe2\\xbb\\x13\\x96\\xf2rA\\x0c\\xa3\\x82n\\x0c\\xb6k\\xf9\\xc1\\xc9\\x0c\\xb4\\x06\\xdcl\\xb7\\xfd\\xce\\xe6\\xba\\xb5o\\xdc\\xe9\\xe4J\\xd4\\xa4V2\\xba\\xc1\\xaf\\x93 \\x1d\\xc4\\x89\\xddO\\xcc\\xaa\\x91\\xa9\\xc9W\\xa7\\x8aI[\\xfa\\xc0\\xa62|\\xc0d]-\\r\\xac\\x99\\xeb\"\\xa8\\xf2\\x89\\xc5\\xca\\xdfg(\\xfcu\\x05|O\\xe2\\xde?ii(a/^8j\\x7f\\xd0\\x0c\\xb6\\xff\\x98s\\x15\\xe1\\xb4.3\\x02#\\xb7t\\xe1g\\x91\\xde\\xea\\xf9\\xad\\xab\\xab;sb\\xb4Vw\\xef\\xa7w|\\\\v\\x1b\\xf8N\\xd3B\\xbb\\xd0\\xf2\\x8aZ\\xa8|\\xc7H\\xd6\\xef\\xf4\\x00\\xe0\\xd9\\xae\\x7f\\x89\\'\\x9e-\\x13\\xcb\\xb3\\x10\\xb1Y\\x91ko\\xbf\\xb2W\\xf6no\\x15_\\xc48\\xc8\\xef\\xb6\\xcd\\xfc\\xf1f\\x82\\x173eh\\x18\\x1e/C\\xdczZ>\\x8c\\x98\\xdd\\x0e\\xc4l\\x9d\\xfe\\xb9\\xbb1S\\xae\\x163\\xc2|\\r\\x04\\x9a\\x04T*d\\xc3#\\xb0\\xf6\\x8bvZ-\\xa7E5\\xb8\\xf5%K6^\\x00\\xb7U&\\x10\\x19L\\x8c\\xc1\\xc3\\xdeef\\xa4\\xc6IU\\x1bra,,A\\xbc\\xf1\\x88\\x86\\x8e\\xcf9L\\xee\\xe6\\x98\\xd5\\x98\\xf6\\x10\\xc5O\\xab\\xe8\\xbc\\xa3\\xe9\\x9f\\xfdL]\\x98Q\\xb5\\xb3\\xad,\\xb64!\\x1fF\\x8dk_`\\xb5\\xff\\x15h\\xad\\x1d2E}\\xde\\x94+\\t\\x9by6\\xd5\\x05\\x12\\x8e`\\xb9!\\xba\\xd0\\xda\\xb2\\x18z\\x009?B\\xfa\\x9d\\xa1\\xb7\\xc7 P\\xc2\\xf4(\\xb0 Hm\\xe3\\xb9\\x8d\\x8b\\xd2\\xd3\\xa4i\\xf2\\x97\\xb6\\x11\\xa0\\xb4LUe5y\\x1f\\x9d\\x0f\\xec:yrFz\\xfd\\xda\\x86\\xab\\x04\\xdd\\x9e\\xd1_\\xd2\\xea\\xc4\\x1a\\xc9\\xfd\\xd6/\\xc9\\x1cqM\\xd4\\xdd\\x16\\x1105\\xd3t\\x94\\x88\\x83\\x1e\\xe4\\x12\\t\\xad\\xa5\\xfe9@\\xc1\\xd2\\xb8\\xee\\x988\\x02\\xbe\\xebl\\x1eN\\xea\\x87\\xbf{;\\xd6[\\xc6\\x96\\xa6\\xf6\\xebQby\\x89`Fq\\xdb\\xd6b\\'\\x8f\\x8cLe^\\xbb\\x1f1\\\\\\xda\\x84UI[\\x1b\\x19E&\\xa1\\xd7\\xa66\\\\\\xc8\\x8cjF\\x0f\\x1d\\x12\\xae;B\\x13\\xbe\"\\x0f\\xd1\\xd1\\xb4\\x0bn\\xda\\xf8F\\x8e\\xadiF\\xc5\\x80b\\xe7\\xb3\\xda\\xdc(\\xdf_!\\xae>\\xcb\\xca\\xb0\\x15\\xe5.\\xd2h\\xcd|{\\x08\\xd9\\xf9\\xbcG8\\xf2d\\xb0\\x86B\\xcb\\x1d\\x1a\\xb4t\\xb4\\n\\x1eS:\\xbazX\\xa0\\xe39\\x18I\\x9c\\xad\\xe3\\x85\\x9d\\x8e\\xc7\\x87\\xec\\xcc\\xdd\\xe3f\\xa9\\x93\\x9ed\\x0f\\xee\\x08\\xbaumD\\x84[_U(%\\x83\\x99=h\\x8d\\xc7\\x99<\\x94+\\xb5\\t\\x96\\xec\\x83\\xbd\\x9eH\\xa57\\xfdw|\\x86Y\\x88<P\\x87\\x1d\\xc5c\\xadeO\\xa4\\x1fO\\xf2\\xba\\x81@\\xfa\\xe6I\\x06\\xc5{\\xe8\\xdd\\xb5,\\xe7\\x85\\xae \\x13\\xf1\\xe33\\xa2\\xde\\xebG\\xd6\\xc2\\xe7\\x7f\\xb0!]\\'\\n\\xe8GF\\x12\\xa2\\xe0\\x07Rg\\xa1[\\xf6a\\xbe{\\x07\\x05)o\\x18\\x14\\xcdB8\\x05\\xa5\\xe9\\xde\\x07>\\x95\\xad\\xacA\\x12\\x8fg\\xad\\xab\\x1d\\x9d\\x9c\\x9d\\xed\\xed\\x1c\\xfe\\x8ayMu\\xb1]{\\xd9{\\xaf\\xa2\\xfb|\\xffg\\xc9&\\x06y\\xb4\\x89\\x94\\xff\\xc7\\xfaSm\\xb5\\xb3%\\xfb\\x03<\\xe4\\xa8m\\xc8\\xab\\xa3N\\xfe\\xdd\\x08\\x9a e\\xed|\\xb6\\xc3\\n\\xfdz\\xb2\\xc1\\xe3\\xd2\\xa4\"\\xc3\\xcd\\x0b\\xf0\\xe9 Z\\x85\\xfc\\x80\\xdb;\\x9d\\x92\\xcf\\xd10\\xe2r\\x0c>\\xcce\\xe4\\x15\\x1f\\x8b!\\x7f\\xd8\\x8f\\xedd\\xe19\\xe1\\xfe\\x7f\\xbf\\x1d\\xda|I\\x02\\xd6>\\xe7\\x1b1\\xac\\xda\\'\\xc3\\xda\\xceN\\xb6D\\x8a\\x7f\\xcd\\xdd\\xc4uND/\\x14\\xd3?\\xb0cc\\xe7T{\\'\\x96\\xcc\\\\!\\xaf\\x10\\xa1&\\xa2\\xa51\\xa1\\xc4^sYLr0ZS}VS\\xf1\\x11\\xd5\\xa7*\\xcd\\x05\\x0e\\xb3\\x82\\x121\\xef\\xa4pCT\\xefjE\\xd6i\\x0ctaP\\x9bp^l:\\x90\\xb8\\xb5\\xd8\\xf2\\xe2)\\xd9\\xb0\\xa8nw&\\x9cwT\\nz\\xff\\xba\\x8b\\x99 \\x0b;\\xe3`\\xaa\\xaa\\x8arV\\x88\\x9a\\xed\\xc2\\xfa\\xf4B\\xb8\\';\\x18]U1\\xf5\\x1d\\x1b\\xc6\\xe7\\xf6T\\x08\\xe4j\\x03\\xca\\xc3\\x8f$\\xf7\\xb3\\xaf\\x9c\\x97T,\\x12r\\xc9=\\x18(1b\\xbe\\xa7\\xa2\\xea?\\xcd\\xe4\\xc7z.\\nk\\x7f&+\\xb4Ora\\xe0\\xb0\\xa3\\xb9\\x14\\xf2h\\xcaN$a\\xb5s\\xb6E\\xfb\\xf4_\\xb1\\n\\xff\\x1b\\x9d\\x96\\x89\\xab\\xef\\x06\\x9c\\x17\\xdar\\xdc\\xa1\\xd5\\x8b\\xce\\x0e\\xb6\\x06/w\\\\|\\t\\x1bM\\x9a2\\xb1\\x13\\xcf\\x94\\x8bn\"\\x0e\\xc5\\xa1\\xc5B\\xfa5+\\x0c\\xd6\\x0f\\xffVFm\\xa2r\\xb1Sh\\to~\\xbd@\\xf4\\xd4\\xf2\\xcdd\\xf3\\xc8\\xcc\\xd4\\x81\\xf9\\xb1\\xfa\\x1bPB:<\\x8aD\\xf04\\x7f\\x1a\\xe4Z\\x08\\x0fy\\xcbu\\xff^;\\x02a\\xd0\\xff\\xb5\\x1a\\xdc\\xd8\\x85\\x8d\\xc0@:\\x88\\xc2DI\\xf2:\\x84t\\x84l\\xae\\xef:.\\x02n>\\xff\\xc3\\xc9\\xae\\xb2\\xdc;)U\\x81\\xc5 \\xcf\\x88\\xb8,\\xfd:?r\\xcf\\x00\\x8e\\xbco\\xadM&P:\\xa4\\x83\\xb0>\\x00\\x8f:\\\\\\x9ez\\xe6\\tn\\x9c\\x80\\x0b\\x8c\\xc8\\xc8\\xd8\\xe1\\xac\\x80N\\xc4\\x8d\\x96\\xae\\xf1|\\x99\\x05\\xb8R\\xe1\\x97\\xc4\\xb3\\x94!\\x8d\\xfc\\xc2\\x8c\\xa0_\\xd7&*\\xc7\\xc4\\x9e\\xd4L\\x10w\\xf0]\\xed\\xb5\\x8d\\x80\\x87QE\\xa3\\xf5[\\xab\\x92\\xb5\\xaf\\xb42\\xbb\\xfb\\x9f\\x1dJ\\xc2\\xce\\x07\\x84\\xe7\\xce\\xb7\\x9ehe;\\xdbma\\xf3#\\xd3\\x9a[(\\xc2\\xa1\\xdc\\x12\\xaf\\x9b\\x15$\\xeb\\x1cF\\x1c\\r\\xe9\\xdaK\\xc6E\\xe2F\\xf1\\x0b\\x9d\\xc7\\xa7\\xc9\\x04\\x0e\\xf3\\xa8\\xdb\\xc9\\x8f\\r]\\x00\\xbe\\x0b\\xc0Ji\\x9a\\xee\\xd3U\\x13\\x08l\\x05\\\\\\x9c\\x9f\\xbf\\x87\\xfe\\xb70jO>\\xc6\\x93\\x97RH\\xab8\\xed\\xafD\\xfd\\xbd\\xbd\\x9a\\xd3\\xf9\\x9d\\x8d\\x8dV\\xcc\\x02a\\xe3\\xcf\\xc6>U\\xfcGYKS \\xf3\\xd5\\xe4^C\\x89\\xbf\\xe6\\xda\\x90\\x84)+\\xeb\\xc50|~\\x8f\\x0b\\x00\\xf0\\xf4\\xfb\\xc8;\\xe6\\xce\\xa7wA\\xd14-=\\xb6\\x0b\\xad\\x91G3\\xb3\\xd6>\\x81\\x95\\xdb\\xa3\\xacJ\\xf7\\xcd9\\xfb\\xf6Tj+\\xab\\x1d\\xcf\\xa7B\\xa0+\\xda\\xe7p2\\x10\\xe8\\x8c\\xd4B6\\xfe\\xca\\x11yp\\x86XQ\\xba\\x12\\xca\\x1a\\x1es\\x0f\"g\\xd3Y\\x0b=\\x92\\xaa\\x81\\xe1\\x16\\xcf\\x96\\xc9\\xbb\\xac\\xa4Y\\xed\\x13\\x1edK\\x00\\xa4/\\xf8\\xd4k$z\\x8c\\xb5v7\\xb04z\\xc3O\\xdc\\xee\\xf0F\\xf8\\xb8\\xe1\\x7f\\xd4\\x0e\\x1a0\\xbf\\xed\\xc8\\x15e5p\\xfb<4\\xa9\\xe6e&\\xe2\\xcem\\x05z\"u\\xe6\\x94\\x15y\\x07F\\xc2s\\x9f\\xce;\\x93\\xd6\\xe1\\xde\\xf3Hg\\xee\\x15\\xf5\\x95Q\\x1f\\xc8n\\x15%\\xe13\\xd8\\n\\x844\\x03\\x89\"\\x9fgHM\\xbf0\\x1f\\xe6x\\xa9H\\x8d+R\\xff\\x07[\\xdd\\xc4\\x15 \\xfd\\xd7[H\\xc7\\x10r\\x0f\\x19\\x07\\x8f<\\x1d\\xa7\\xc7+\\xb7\\x88\\ns\\xd6\\xae\\xf2\\xea\\x87\\x9a]\\x9dL\\xf3\\xfd\\xe5}`\\xae\\x8d\\xcb\\x87\\x9dm\\xb7Dt^g\\xf0\\xccWoi\\x0c\\xff5\\xf8\\x1c\\xc8F\\xef\\\\\\x15\\xb4\\xd3\\x0b\\xa6\\xa0\\x15B:k\\xd1\"n\\xad\\x8d\\x02\\x1f\\xae-\\x84\\x111]\\xf8\\x18\\xe1.\\xfc6\\xc4\\x99\"\\xdf\\x84\\x92\\xf459\\\\\\x00\\xbd\\xd3!cG \\xaf\\xb4l\\xe46\\x06\\x19@@\\x81[\\x90\\'\\xfeJ\\x82\\xab\\xf99\\x12\\xb8\\x11\\x0b\\xd0\\xed\\x01\\x06\\x15\\xcd\\x95\\xcd\\xef\\xb1s!\\xac\\x91\\xdd\\xd8\\x94\\xc0\\xf3\\x92\\xfe~H\\xe4f.\\xd1xn2\"d\\xfdgI\\x16\\x92ys\\x97\\'7h\\x7fr8\\xab\\xba\\xeb(sx\\xbf\\x05yt\\x14\\x02[\\xc1d\\x01\\xf3\\xe0\\xcev\\xe1\\xe3XR\\x9e\\xaf\\xc1\\x12\\xb1\\xeek[\\xfd\\xd76\\x0b\\xeb\\xa6\\xb1\\xf3\\xca1_\\x8akRA%\\xa0u\\xc0\\xd1)\\xb71\\x9b\\xb6\\xdf\\xe0T\\xd7\\x0eH\\xa7\\x19`\\x0c\\xc4\\x01\\xcf\\xa1\\xca\\x8e\\x9d;\\xda\\xacq_\\x88?\\xa9\\xa7\\xafcI\\xe9\\xf9\\xd3[C\\xdc\\xa5_$\\xe2\\xc9\\xa73\\x19&L\\x927\\x06\"x\\xf3\\xd8O\\xae\\tv;\\x01\\xca6N\\x17:#d\\x0f\\xfa\\xf6l8\\xe9bzP\\xa8\\xd7\\rt\\xc7\\x93\\xc6\\xdc\\xc6\\x83\\x0b\\x9a\\xf49%<\\xc4gN\\x81v-\\x84\\xf1\\xae\\xc5;\\xf1sP \\xfb\\xe5\\xf0\\xf9\\xa6\\x00p@@\\xbb{\\x8cmf\\xbe6\\x12\\xeas4w\\xd2`vLt\\xd2(\\xdaX\\xad4\\x1bC0\\xe7\\x06\\x91R\\x8e\\xdd\\x12n0\\xad\\x88<\\xb94\\x7f\\x8f\\xbc\\r\\x81q\\xa4\\xa8D\\x13\\x9e.)9\\x1dL\\xe80\\xbb\\x1e\\xf4\\xa0\\x02\\x8f\\xfa\\x99\\x92v\\xfe\\xfcJ\\xf8\\x12\\xa85\\xf2\"9\\x02\\xdf\\x89o\\x9b\\x9f\\x07\\xbcX\\x18\\xacAB\\xdd\\x9eC\\x97\\xff[hYoF\\xf4\\xc1N\\xe4\\xb3`\\xb7\\xa6\\x99<i\\xa1W\\xbe}\\xb7\\x9f\\x9d-:-\\xfbGH\\xd7\\xf5t\\x99\\xc2rD?^~\\xaa\\xbe\\x00u\\xf5\\xd9m\\xaa\\x81U\\x91}\\x97\\xc7]|vO\\xc1\\xca\\n8a\\xd8\\x95\\xb1\\xa5s|\\xa0\\xf3\\x83\\xd9\\xe5\\xa8\\xee\\x9a\\xe3\\xdf\\xb1X\\n:\\x84\\x85{5\\x04Y@J\\xeeV\\xf0\\x1d\\x96\\xe3P\\xda\\x02\\x8f\\x84\\x90\\xe3\\xa1\\x92a,\\xd0\\xe9\\xf7\\xc1\\xa0\\xc6\\x18\\xf2t\\xb2E}L\\xa5\\xb5\\xc8\\x8c\\x99\\x9d\\x9dK\\xf3\\xc9\\xa3\\xdd\\xc6\\xe5\\xa4\\xee\\x01zE\\xd6x\\xf5K3\\x99\\x06\\x1d\\xbf\\xa9\\xdfL\\xa5\\x9b\\xcd\\xb3\\xe4K\\x93O1\\xc8\\xa9\\xeb\\xa9v\\x7f\\xc3H\\x94\\xbd;1\\xebW\\xb1\\xea\\x05t\\xc7[Pa\\x0e\\x7f\\xed\\x15\\\\\\xb4\\n\\xd3\\x93\\xab\\xc2\\xa2\\xf5\\x9a\\x0bV\\xf3M\\xddf{K\\x86\\x9a\\x1f\\x13\\xc4\\'\\xd5A\\x0f\\x9f/L\\xae\\xaeB\\xa0\\x9b\\xf6\\xf9\\x86\\x1f\\xe0\\x91k\\x14eN\\xc6T;t\\x06\\xe1\\xd0\\r\\xb9\\x07\\x9f\\x1af%\\xf1\\x12\\xbb\\xc5p\\xb3WQ\\x9e\\xccZ\\xbc\\x9e\\xdc\\'\\'li\\xe3\\xa1em\\x02~Q\\xd1\\xb2\\x81v\\x86y\\x01\\xc6\\xb1\\xf3\\xfc\\x01+\\xa7G\\x18\\x1f\\x07\\xdcV\\xd6\\xc0\\xc5#n\\xd8\\xf6f\\xbe\\xe7\\xcdKG\\x7f#\\x96<\\xde\\xfe\\xe1\\x83\\xb1~\\xe3\\x8bNa\\x05U!\\xee\\x83\\x8e\\x99\\xb9#E\\x8c\\xb6\\x1f\\r\\xf2\\xb8xx\\x8e&\\x0b(ss\\xaf\\xe1\\x89\\xbe5\\x8b\\x11\\xd8\\xfc\\x10\\xfaN\\x9eiPiJ\\xa2\\xbe\\x14\\xa0\\xe1\\xbb\\x94\\x16\\xe9\\xc0ve$NK\\x8b\\xcd/\\x08\\xba\\xfa\\x18\\xaf\\x7f[P]\\xbf\\xea\\x15\\xc5%\\xfbr\\xaeO\\xc5\\x08\\xff0<\\x18\\x8c@\\\\\\x9b\\xc5\\xe7\\x07\\x80@\\x9a\\xa1\\xbb\\x9f&\\xd6GFGWs\\x9c\\xb5a\\xd0\\xcc\\xdd\"<)?d\\xb1\\x1cq\\xa9(X\\x9d\\xc8[\\x1c\\x00\\x8d\\x88P\\x1f;\\xb8{\\xa6>\\xa9!\\xb6bb\\xd8Heg\\xa8\\xa7\\xf4\\xa1m\\xe7\\xf1pZ\\xd9--\\xff\\xd0\\'\\xfa\\xe3\\x9e\\x9a#\\xdb\\xa0\\x81\\x9c\\xff\\xb4\\xb4\\xe4\\x18g\\x1e\\xda\\xbe\\xe7y\\x16\\xfbXm\\xc6.\\xf7\\xef\"\\xcf\\x1a\\x16\\xe2\\x80,\\x18\\x95\\xd5\\xb3u\\xb0;\\x9fR_\\xfc\\x17\\xac&\\x8fRzB\\xe7Q\\xd1\\x86d\\xfb\\\\\\x99MA\\xef]\\xca\\xc5\\xf8\\xf2_\\xa5\\xa6\\xcb\\xd2\\xef\\x03\\xbd$\\xf6\\x89]I=\\x1d\\r$\\x94449L\\xcfV?\\xb1\\xdd\\x81_h\\xcf\\x19\\xb3\\xa3.u<\\x94?^0<=_N\\xa1\\xe1\\xc8x\\xcf\\x13\\x05v\\xf6\\xea\\xd0\\x93\\xda\\x91\\xa2\\xf7\\x92\\x80|y\\x9b\\xe3\\xfc\\xab\\x1b\\xcf\\xeb\\xa6^\\x99\\x90*\\xeb\\xdc\\xa6\\x94]\\xd8\\x9f\\x95\\x8a\\x9d>\\x12P\\xcek\\xaa\\xca\\xfc\\xde\\xc3\\x91]\\x80|+\\x91\\x18\\xcb\\xdbg\\x02\\xd4\\xd8}\\xe2g\\xb0\\xb4B\\xc3>Z\\xfd\\x9f\\xd6\\x97\\xd50\\xbb\\x1f\\xc6&\\xc5\\t\\xbc\\xba5\\x8e\\xed\\xc1\\xbe\\xc2\\x95\\xf8i\\x02\\x13OBp\\xa9\\xacDk\\x07O\\x10\\xe9\\xcc\\xc9\\x9cY\\xfe\\x97\\'\\xad\\x16\\x03\\xe5\\xd2\\xfa\\x19\\xab%\\xde\\x1bO\\x8d\\x00\\xa2hK-\\xadn-\\x7fo\\xd8\\xfa\\xb9jB\\xea~b\\xec6\\xba\\xbf\\xe1\\x0f\\xc4\\x89\\xfa\\xd8\\x81\\xa9vC\\x17p\\xe62\\xc7\\xcb)\\xc5\\x08\\x91_\\x94\\xd3w\\xb9H\\xf2\\x07\\xf3e\\x13\\xe0\\xec\\x83\\x9f\\x89\"\\xbe\\x88\\x01S\\xfbi\\xd3\\x05\\xd5\\x90\\x9d\\xbc\\x88\\xbc\\xc3\\xbd\\xf3\\xde\\xf3\\x9f\\x7f\\xfed\\x85\\xe0\\xa8\\xee\\x0ey\\x94\\xaa\\xa5\\x8aE\\xe1\\x1a\\xc4\\xe4\\x00\\xb1l:\\x8e\\xa5\\xfc\\x19\\xd8P\\xa0\\xb3D\\xde|\\xd6J\\x0cC\\'>\\x16\\xd8\\xaf\\xf9`\\xced\\x94\\xd9\\x84\\x89\\x892\\xa9\\xd8\\x1eg\\x07\\xc7I\\x0fOa\\xa6\\xf2\\xc1\\xdc{\\x9c\\xdf\\xa0\\xe3\\x98=6\\xea\\x01\\xde\\xe2\\xbc&\\xa5\\x11\\xd4\\xf0\\x11SD\\x93K\\x12\\xdf!\\xbdm\\xa6\\xfe\\x1a\\x9b({\\x18\\xce\\xa4:%0\\xd5\\x96X\\xc7xv\\xcc5\\xa6\\xc6\\xa2\\xc8JG\\xf3.\\x8d\\x19=:\\xa6}\\\\\\x91\\x8f\\x07\\x837\\xe9\\x9e\\xdb\\x80\\xdcmU\\xb1\\x06\\xc5\\xe3\\xe6\\xd8Sto\\xe5X\\xae1\\xf4\\xd9\\xd8\\xd9\\x94]\\xfe\\x95r\\xc8\\xd3i.\\x94~\\x8f`\\x95z\\xc4#\\xfc\\x80\\x89\\xab\\xa6\\x93\\xf95\\x8b\\x85\\xf5\\xa5\\xcf\\xb6\\xce\\x92\\x7f\\xea\\xcdxR\\xaalf\\x0ejP\\xd9q\\x848\\rXd\\xce\\xd3L\\xf7\\x9a\\xf9\\xaf\\x05\\x0fB\\xea;\\x81\\xcd\\xd9[\\xe6\\tF\\xa0\\xccH\\x8fh\\xcf\\x15J7\\xc6\\xcb\\xff\\xda\\x0c\\xb6\\x15W\\xad\\xf6\\xe6\\xe9y\\xdcS\\xf9q\\x99F\\x0bn\\xc5\\xa6\\xfb\\xb5\\xb16\\xbb\\xf9\\x1b\\xbd\\xd8p\\x83\\xf2\"t\\xc2\\x96\\t\\xf0\\x9c\\xfad\\xd8`\\xe9\\xbb\\x9f\\x86\\x10\\x1c\\xf4X\\xe8\\x7f\\xba\\x1f\\x95Mr\\x01\\\\\\x92\\x89\\x86?\\xe1_+\\xfb\\xefJU\\xbd\\x06\\xbb\\xac\\xb4\\xac\\xa0\\x872\\xb8\\xaa3ru\\xe8\\xe7\\xc6\\xab\\x00\\xb4*\\xbe\\xbeN\\xd9\\x11\\x1d\\xaa\\xa1\\x850]*\\xef\\xbdh$\\x05%^\\xe6/\\xa5GZ\\xf3\\x1a\\x08\\xa16\\x08\\xf7u\\x9f\\x8e\\x84k\\x94\\xb2\\x8b\\xe6\\xe8\\x12=\\x04\\x82\\xde\\x8d\\x94j\\xec\\x0e?\\xb2h\\xc6\\x16\\r\\xf9\\xf9yD\\xb3v_\\xac\\xd1\\xf5\\xf0\\x81\\xa2\\xed\\x8a\\x11z\\x81\\xbc5G\\xbb*\\xc1\\xc6\\xc5\\xf2\\x1e~~\\xe3\\x1fu\\xf5\\xa3\\xf6M\\xb1\\x94)\\xcaj\\xc0}0*t\\x9a\\xa1\\xb2h\\xc5\\xff\\xf0J\\x1b\\x1d\\x90\\x15\\xcd\\x10\\x19\\xc9\\x0b^[\\xa3{\\xd3\\x82\\xca.\\xcd\\xad\\xd0@\\t\\xa9\\x10\\xd7\\x93\\x1cmm\\xe5\\x8f\\x1fU\\x18/\\x0c\"\\x8f\\xb6!G\\x11\\x9d\\x8d\\xd1\\xb0i\\x06f\\x06}P\\x01\\xfb\\t\\x80\\x82\\x8f\\x93\\xda)\\x16\\xba\\x989\\xcf\\x9b\\xd8\\xbd_\\x89\\x97Y\\xf8`>\\xda\\xe9K\\xf9\\x02\\xcc\\xa7\\xf1\\x81\\xf4\\x1d!\\x14\\x1f\\x1a\\xb6=49\\xd2\\x9e\\xf5#\\xcej\\x12Q=v\\x12\\x01@\\xff\\x04\\x9b\\xc5\\xfa\\xd4X\\xf7#0\\x9b \\x90\\x8c\\xe8\\xc2\\x99\\x8a\\xbaY;\\xee\\xac\\x81\\x1a\\xd3P\\xf4\\x88wv\\xc0\\x96\\n\\xf0Q\\xcbnP&\\xb8\\x1d\\xaa\"\\x989\\x19*\\xc7\\xab\\xd1\\xcc\\\\\\xa1\\xbf\\xb0\\xed\\xf0\\xb5\\xde\\x8a\\x94;>s:\\xf4L\\x89z\\x06N0\\x9cO\\x10\\nR5\\x19\\x80\\xfbl[L~\\x97\\x9f\\xcc\\xbc\\xba\\xfe\\xa8\\xf4\\x12\\x05\\xb8oRW\\xa7\\x9f\\xc0\\xc6y\\xd3\\xdf\\xa6:o\\r\\x96\\xdd\\x12\\xa5\\x84\\xe8\\xd3\\x12\\x11J:\\xa4\\x18*\\xf2\\x1a\\xeb\\x1a\\x1d1\\x0b\\x91^\\xd8\\xcf\\x84\\xac\\x00\\xaa\\xa2\\x19\\xce\\xf5v\\xd1G\\xf44\\\\\\x8c\"\\x1d\\xbe<\\x96\\xa0*y\\x93\\xc4\\xc4\\xfc\\x1dv\\x83\\xe7\\xc1m\\xf95Q\\x07\\x9b<Sc\\xa5S\\x84\\xd2\\xc9\\xc5\\xb3\\x0f\\xbb\\xef\\t\\x87@\\xe1\\x8b%\\xd7\\xdc\\x98\\xcd\\x93\\xe4\\xe3|\\x9d_\\x8cv\"\\xae\\xfc\\x99\\x19\\xba\\x0f\\xd5\\x1b\\xc5\\xb6\\x12\\x08-]\\xfb\\xd7{\\xdd>\\xfcs\\xfa~;\\xbfI^0\\xa9\\xa1\\xfd\\xe0\\xb3\\xd1[\\xee\\xd3F\\xec\\xfb\\xab4\\xa2\\xd4\\x0c\\xd8\\xcc\\xac|\\xed-:\\x95\\xc2\\x89\\xed\\xc8U)gyC\\x88~8K\\xad\\xd9m\\xd5\\x90}\\x8a\\xd4J\\xc6x\\xd9f\\x8c\\xe4\\x15\\xfd\\x00\\xfa\\n\\xe4 T*\\xe5\\x87\\x87\\x87\\r\\xbdo\\xf9/8\\xb6\\x93>\\x86T\\xcbl@\\x8d\\xa5\\xe5D\\xc3\\xb1\\xce\\'C\\'\\n+\\xd2\\x97\\x88z\\x8f&\\xd5\\xac\\xbc\\x15\\xef:b>t\\xd6\\xda#\\x10\\xe8\\xb6\\x8c\\xc9\\x805_\\x90\\xa0L^\\xc0&\\x0f\\x1a\\x1b\\x06e6\\xce\\xf7L\\xb6\\xfcL\\xd4\\xe9:\\xcd\\xe8\\xce\\xf9\\x0f*\\xda\\xd8o\\xf6\\xbc\\xe2\\x983\\x97\\xef]\\xbc\\xc6\\xd8\\x18\\\\\\x1b\\xf6kM\\x1d\\xec]\\x83\\xc1\\x05\\x1fd\\x8d\\xc6}AQ#\\xff\\x1d\\x84\\xbe\\xa1\\xa0\\t\\xce\\x80\\xe0\\x17\\x7f\\xcdV\\xdf\\xa1\\xc8\\x9f\\xdc6\\xef\\x93W\\x08\\xd7\\x90\\xba\\xea\\xffK\\xe9MN\\xe1\\x899\\xe6\\xe8\\xfc\\xdcE.\\x1b\\xb6}\\x84Q\\x84\\xfdMc\\xca\\xf7\\x89\\xcf\\xe3`W\\xf9C\\x18\\xf1\\xc7xV\\xb9\\xdfzX\\x03\\xa9pU\\x98\\xa7\\x99\\xeb\\xcaY\\xf0\\xe4F\\xf1\\x08;\\x84\\xe6\\\\\\xdc\\x93\\x93\\xf6PA\\xc3u!\"&t{c\\xb2\\xbf\\xa4Dw\\xca\\\\+\\x90K\\x0f\\xa8\\xf1\\xb6k\\xccV\\xe4X-?K\\xef\\xe0\\xef\\xea7J\\xa0\\x16\\x9f\\xe9\\xc9q\\xca\\x13\\xe18\\xd0\\xdf*\\xe5\\xc5\\xc8@\\xc1e\\xd7k\\xa2\\x91\\x95\\x1a\\xc7\\x8a\\x9d^\\nJ\\xff\\xc6\\xf2g\\x96\\xe7\\xe3{\\xf8\\xa2\\xe1l\\t\\x8f\\xb9O\\xfe\\xdb\\xd0\\xe1`W\\xc5\\'C\"\\xa5\\x16!\\x1f\\xa7\\xdd\\xd8\\xdd\\x92\\xe4\\xaf\\xb0\\x0b\\xa7\\xa5\\x8c}\\xe8\\x9e\\xfa\\xdd\\xe3\\x82\\x16\\x9a/T\\xd1T\\xb1\\x9f-`8-Z\\xfdd\\x1f\\xea\\xb9\\x08=\\xdb\\xc6w\\xed\\x1d\\xf9\\xe0\\x18\\xdcmdbUcw\\xeb[\\x7f\\xa0\\xb2\\xa1H\\xb3@\\x83\\xa5\\x1c\\x95\\x86n3Z\\xae7\\x82v\\xd4\\x92qx\\x1e\\xff\\xebS\\xbfq\\x91\\x07\\xb9\\x89\\x89\\x89\\x03g{\\x96\\xc3D\\xcaW\\xa7fL[\\x02\\x92d\\x88\\xeb\\x1710\\x88^Q\\xb9n\\x9c\\xcf#0\\xa4\\xd6R\\xbfO\\x81\\x99\\x15\\xd6f\\x8d\\x07\\xa0\\xb7\\x1aJ\\xec\\x1e{\\xd7\\x9d\\xf0\\xafc\\xb8\\xfe\\xdc\\xfd\\x80\\xc9\\xe9V\\xde\\xfcGI\\x1d\\xe6\\xbawGL!\\x85X\\xfa\\x18\\\\\\xd4Y\\xbb\\xf3\\x19J\\xf9\\x1dO\\x0f\\xf5\\xcb,\\xd7\\xcb34\\xa2\\xfe\\xe8\\xce\\x17\\x16\\x93@\\x01\\xf4\\x0e\\x9a\\xc3U\\x89\\xbf\\xb0\\x88wA\\xba9<f\\x01\\x8d6]{7e$\\xc7\\xd4\\xb0\\xdf\\'\\xb8\\xa11V\\x81\\x10}\\xd5\\xda\\xdaZ\\xc4\\xeb\\r\\x81 \\xfd\\x88\\xfb\\x10\\xe2\\x12}\\'i\\x8f>8 ivvv\\xe5\\xc9\\xc4R\\x92\\x84\\x0b\\x8a\\xf0\\xa9EQ\\x0b\\xfah\\xa1=\\x08\\xe3\\xf7\\xaa\\xad\\x1a\\xff7\\x9e\\xaa[m\\xf3\\xdc\\xed\\xef\\xba\\x99*Zzw/\\xcd2q\\xd3\\xc6L;`\\x8c\\xbf|\\xa3\"?\\xd6\\x12\\xd3\\xd4DR_<=nA\\xe2\\xe7{\\xe6\\x96B\\x07\\x1e\\x94p&\\x9c\\x04\\xbaw\\x16\\xb0=\\xb7\\x88U\\xcdS[,\\xef\\x9f\\x9eW\\xd5\\xcavW\\xe2\\x97\\x98\\xa0J\\x87\\x9ez\\x12K\\x06\\x9d$L\\xb8tn\\x0c\\xfb\\x07\\x05\\x1d\\x9d-\\x92+\\x98\\x12\\x13\\xcd\\xf6\\xb7\\xdft\\xc6c\\xf6\\x9e\\xedm}\\x14\\xb6\\x80\\x12K\\xec\\x1e;\\xe9\\xe4\\xb5\\xfe\\x180d^\\xa6\\xb8>\\x91\\xd7X\\xe3%\\xa5\\x03;=\\x80\\x12\\xeaY\\x15y\\xa7\\xa5\\xeb(\\x1f\\xb9o\\xbd\\xb6\\x86}\\x175\\xa2\\xe41\\xaej\\x1d/\\x06\\xfc76\\x83\\x0b-o^\\x05\\x8a\\\\D\\xca\\xae\\xd3\\x11\\x82\\x83&\\x88<\\x94\\x0c\\xd3\\xa2e\\x11\\x89e\\xb3\\xbbI\\xa0\\xe4/LZ\\x8a7\\x1961\\x0b\\xfd\\xdd\\x91\\x8e%\\x98p\\xe3@F\\xbaf\\xce\\x87a\\x1d\\xbfBs\\xa0\\xae5\\xfcz\\'$bD\\x10\\xc3X\\x00k\\x1e\\xe2|\\xa2z\\x92\\xe2`f\\x9a 0|{L\\xebJ\\xee\"-\\xdc=\\xa6g\\x89\\x97\\xdar\\xac\\x16\\xc6K\\x85V\\xaa\\x13\\x8a\\xbf\\xa0k\\x91og\\xf8\\x1d\\xbf\\xbf\\xd8u\\x1du\\xec\\xcc\\x8e>x{\\xb3\\xa6\\xb3\\x19\\xba\\xd7\\x9b\\x0e\\xe1<\\xe8\\x08\\xf0\\t\\x029\\xdf\\xa26\\xb3\\xaa\\xf0\\xf4\\xe51c\\xb9 O\\xdf\\xa4\\\\\\xfb\\xdcm\\xa1\\x13Bw\\x04\\x9c!)!\\x07o]\\xe3\\xb0\\x89O\\xc99\\xcb7X\\x18\\x04:w\\x94\\xed_\\xf1Va\\x1cg\\xcb\\x0f\\xfbA\\x7f\\xa1$\\x86W7\\xb6\\xf3\\xb7)\\xf8\\xff0\\xf9\\xd4\\xc3-\\xa9\\xa9\\xf9*a\\xf6\\xb4\\x8d^P|5\\xf6\\xcb\\xac\\xc8\\xdf\\xbb\\x1f\\xdc\\tK=4\\xa2C\\xf5\\x95\\x95\\x9b\\x02\\x90\\x0e\\xd7\\x02\\x83r\\xddLw\\xe4q2\\xc4\\xa9\\xc3\\xb7\\x0b\\x81\\xe0\\x9c\\xb8?\\xbb%=\\x9c\\x17\\x10\\xa4\\x19\\xf0o\\xaf\\x00\\xfc\\xe2\\xf6\\xcej\\x02\\x00\\xe0Q\\x8d\\xb8\\xa5\\x7f\\xd4 \\xad\\x88\\xb2\\xac\\xdb\\xb8\\xda\\xd2\\xbc\\xf5a\\x89\\xb2\\xd9@\\xa8J[\\x08y\\'T\\xc3\\xd4\\xc2fBC\\xe3\\xca;\\xa5h\\x91q\\xb1\\xbdHW\\xd7\\xe5\\xa1\\xc9\\n\\xd2\\xf3\\x0fj\\x81m\\xf3\\xf8.Rr5.\\x14\\x97\\x9e\\xc5\\xf28<j\\xc0\\x08x\\x95k}\\xa7I\\x93h\\xec\\xf1\\xc2\\xc7\\x07\\xedi\\xc8-\\xa9\\x02R\\x11\\xdb\\x95\\xef\\x19\\xc1\\xef\\xcc\\x9fm\\r\\x03g\\xb3w\\xd3k\\xf1\\xbb\\x8a\\xa9I\\xf2(^\\xd0\\x7f\\x93\\xfd\\xfd\\xfdGL\\xd8\\x86\\xd2\\xbd\\x04\\x017Y\\xa7\\xd6H\\x02*\\xb9\\x15\\n\\xbfn\\x14\\'*\\xba/\\xb8\\xc1\\xf7\\xfc\\xd2\\xf3G\\x1c\\xec2\\xc0*\\x8d\\xf8\\xa6\\x95\\x0c\\x14E\\xa8\\xde *\\x17\\xc8\\x84\\xb1\\xc4\\xa2\\x977\\xbb4\\xe3o\\xf8\\x98\\xb8\\xb0\\xdb\\xda;n\\xe3\\xcf\\xcc\\xc0\\xf4Z\\xca\\xcax\\x0cl\\x17\\xa3\\x80\\xad@\\\\Ik\\x9c\\xf0X\\xc3\\x8a\\x1d\\xba\\'\\x19\\xef\\x84\\xb4\\xb5\\xf1\\x16\\x87\\xec\\x9co\\x84E\\x18,\\xd1P,\\x91\\x9b(*\\xf4`\\x18\\xf8\\x86\\x7f\\xfa\\xdb\\xe7\\xef~\\x1d\\x9e\\x8e)\\n\\xf4\\xbc\\x80\\x9fb\\xef\\x12\\xb2\\x80\\x0e\\x1aNg\\xa4.\\xde\\x91\\xcb]d\\xe2\\xa2\\x9d\\x9d}\\xe5f\\x1b\\xe2\\x16eJ/\\xe9$\\x06\\xa4\\x0f?\\x14\\xb4\\x02y\\xa0\\x0f\\xd0`LM\\x88\\x9aYi\\xf3\\xf9\\xe7?\\x94b\\xe91,\\xa3\\xf3\\xd5\\x11\\xef\\x1f\\x18\\x86\\x1f\\xa8\\xda\\xb8\\x80\\xbc\\x0f+\\x92Z\\x03\\xd7\\x87\\x1e\\x1f\\xca\\xb1\\xfb\\x11{\\t\\xc8\\xe3\\\\\\xed\\x7fGjA\\x8e\\x92UsS3\\xda\\x9bg\\xe5\\xa3\\x81\\xfe/\\x86;\\xce\\x88\\xa4\\x8c\\n\\xeb}\\nx\\x12(\\x17\\x87|\\xecl\\x0bdR\\xbeW\\x9c&R\\xc3\\xb6\\xb2x\\'z\\x82\\x99G\\xefp\\xc19b{\\xc6\\x9c\\xeb)+\\xaa\\xf7O\\xef\\xe2\\xa9=2\\x8ap.\\xe1\\xe13\\xf0PP]%D\\xbcq|K\\xcf\\xc5\\xed\\x99\\x9f\\xab\\xab\\xb7\\xf7Q\\xe5\\x87\\xfd\\x0b\\x07\\x96]\\xb6y\\xba\\x96?\\x1b\\x04j\\xaa\\xd2\\x98(\\x96O\\x89\\xd6E\\x15\\xa5\\xcb\\x8b\\x17\\x11\\x08\\x04\\x93,\\xa0f\\x06\\x83\\x15\\x13x;Y\\xd9\\x99\\xbc1\\x0b\\xb1\\x07\\xbb%m\\x87h\\xc6\\xbf{\\xa5\\x19\\\\\\x90d\\x9b\\xed\\x1c\\xfa\\x9e\\x1a\\xf7\\xf8U\\x83\\xc7k\\xb7\\'\\x1a\\xb2\\x1bm\\xcdh\\x10\\xe8?\\xc0\\xdd\\xef#\\x14\\xd1\\xad\\x1b\\xac\\x92y8\\xb6\\xdaX\\xaa\\x99\\xbf\\xf5p.\\x9b\\x14\\x19.?\\x0c\\xd6_\\x8e\\xeb\\xef\\x1fMNv\\xaai\\xa9o;\\xfd\\xb5\\xd2G\\x84\\xc2\\xfc\\xc2\\xa6\\xd5\\x1e\\x1bTe4h\\x08\\xb0\\xc4\\x07\\xcck|X\\xa5\\xd2>*\\x9b\\xd5\\xae\\xa8\\xb4s\\x08p,\\x03p\\xd0\\xbc\\xba$\\x12\\xeb#\\xb9\\xb8\\xb0\\xf0v\\xf2\\x99\\x9f_\\x1aM\\xb5,\\xf0\\x10\\xfe\\xa9\\x8f\\xf0ai\\x84Z\\x98^\\xd4\\x82[\\xdf\\xd1\\xda\\xf0\\xb4\\xdc\\xf0\\xe1fc\\xbf\\x8f\\xb3\\xf0\\x0b\\xd4\\x84\\xb8\\x1evncc#=pw\\xecU\\x80\\x8f\\xb7\\xf7\\xe8\\x99\\xf46\\x83\\x9ex\\xeb\\xc4\\xd8?\\xd3f\\xa3\\xe0\\x85\\x08H\\x15W\\x9aS\\xcd\\x19\\xdazq\\xb0\\xddS`i\\xe0\\x02\\xc5\\xaf\\xbcl3\\r/mo\\xb9\\x02M\\xa9\\x84\\\\\\x81h\\x83\\x9f\\xb0#tg\\xf0\\xea\\xd0\\xe3\\x9b\\xcb\\xbfi6\\xb7\\xfe\\xfcy5|\\xbe\\xf3\\\\;\\xeb\\x81\\xc5\\xfe#\\x8b\\xc2g\\x8e\\x18\\n\\x0b\\xe1\\xa2V\\xc0\\x03V\\x0cj\\x9a*\\x01\\x85)\\x89b\\xf7\\xef\\x9a\\xf1\\x08\\\\_i\\x8eo\\x8b\\xd7Sx\\x84\\x9eN\\x04\\xf3\\xcc)\\x96\\xd5\\\\\\xfb\\xd61!\\xa2\\xf7,\\x049&\\x91\\xf0\\x1f@\\xde\\xc0-Ia\\x80w\\xac\\xa6\\xc6\\xf9k\\xe0\\xde\\xaa\\x17$\\xf2\\xa6_p\\xcc\\xbb\\xff\\xf46\\xe7\\xd2\\x0c\\xa0[\\x83\\xac\\x9a^P\\xe1&\\xd4YoD\\r\\xc2\\xe8+\\xa5P\\x96\\x88Ox\\'\\xbe4\\xbc\\xd0\\x87\\xc7w\\x7f\\xdb\\x81\\xe1\\x89\\xf5y\\x88/s\\\\\\x00\\xda\\x0c\\x8cs\\x84\\x9b/w\\x8f\\x1a-\\x85\\xbf\\xfc\\xee\\xeau:\\xe1\\x8d\\x84^\\xa8#+.\\xdb\\x96\\xe2S\\\\\\xa3\\x1f\\xbf>\\x9ek\\r\\x18\\xd3\\x91\\x9b\\xe6UTV\\x96{=#\\xf8\\xf3\\xc0X\\x8c}<\\xd4\\xc1\\x06|\\xf9I\\x01v\\x91x\\xe4\\xac]\\xa0C|\\xdew\\xd1.$\\x179\\xe5lE\\x94\\xaf\\xc6/\\xd3\\xaf\\x97\\x15p\\x8c\\x0eM\\x1f\\x16\\xfavm\\x07\\\\\\xdf%\\xa8(+\\x87\\xac\\x0f\\xadz\\x9aKnu\\xda\\xdb\\xd9\\x8d\\x1c\\x98F\\xb0\\x8c\\x95~T8\\xd2\\xa6\\xba\\x8b\\xc4\\xb4\\xfb\\x1e\\rY/F\\xe0_\\xd0D\\xf2^0\\xb0^\\x01\\x96bj<\\xe3\\xef\\xf4\\xd2\\xc7~Jy\\x9a\\xac\\xcb\\x00h\\xab\\xef\\xe8\\xa8\\xfdz\"\\xfd\\xca\\x06 \\x97\\r\\x17`^s}\\xbf\\x13\\xaee\\xfe\\xefo\\x89\\xd8\\x9f\\xde\\xf3^<\\xf2\\xa0\\xf3\\x80\\x07\\xa8\\xb1\\t\\xd1\\xe0\\xbb \\x81\\xb4UB;\\xae\\x0b\\xb3\\x19\\x88][C\\xad\\xd4\\xe1I\\xe7\\x84\\x83\\xbee9\\xfd7\\xe9;s\\x05\\x06\\xd3\\x99\\xac\\xdb\\xf4_tm\\xd7iR\\xaa\\xbe\\xed/p,\\x81yj\\x8e\\xe9\\xc7n\\x19\\xcel\\x1e\\r\\xf9\\xff\\xda\\x0e\\xd6\\xffK\\xcaW\\xbf\\xd0\\xd2\\x1b\\x7fU\\xbc\\xb4w\\x89g\\xf8\\xac\\xac,\\xf50\\xa1G\\xe45\\x08\\xf9\\xf8\\xbcw\\x9a\\xee\\xe4\\xd1\\xc56\\xf2\\xd9\\x02\\xe7K\\xf1\\xda\\x81Z\\xf4\\x93>-\\x02:\\xbfgf6\\x82S:\\xbcs\\xab\\x17U\\x1e\\x08\\x0e\\xf3\\xa6{N\\x97HY\\xd7\\x9f\\xdb\\xae\\x1a\\x1dh\\xc0\\xe1\\xf0xc\\x90\\x98\\x06\\x8f+\\xa2\\xbf_\\x9f\\xcb\\xbc\\x97<\\xbdHP\\xc7Enwz\\x86\\x04I2_\\xccA\\xb2\\xce\\x9d\\xa7\\xd6]xM\\x88\\xa3\\xc9\\xd2\\x8a\\xf7\\xac\\xd0Cv\\xe1]W\\xd1\\xa1\\xfd-\\xd4\\xa6r\\x1e\\xcc**x\\xa1}r\\x12\\xf4\\xf0j\\x1cZ\\x13\\xeeA\\x87\\xd3\\xe4\\x0f\\xc7u\\xe2I+\\xc83xu\\x9e}\\xd4\\x94s\\xc8\\x13\\x8aE[q\\x0b\\x0b\"\\xe0\\xc8Y\\xe4veH\\xa4\\xc4\\x98\\x82\\xdbH]|\\xcc\\xe8}\\xe0(5\\x93\\xf3\\xd7\\xd0\\xe5\\xe9\\xa06u\\x1ce(c\\xb9ba\\xb8\\x1c\\xf0>\\x83\\xa3\\x15\\xba\\x82\"\\x93`gx\\xe4\\xfe\\xa4\\xf2\\xd8\\xc7\\x13\\xd6\\x94\\x0b}\\x99\\x9a\\x11p\\x0e#\\xe2\\xce\\xe9a\\xea\\xf8\\xd6\\xa6;\\xc9\\xd2j\\x1b\\xf7\\x8eK\\x06\\xa8\\xfecN\\xc8\\xc6\\x12\\xce\\xcf\\xe7\\x14\\xdf\\xbaP\\xbd\\xc4\\x93\\xb6\\x95\\x17\\xee\\x97\\x98WMa\\x14\\xdb\\x13G\\xf5\\x83\\xc2;\\x91d$\\tH\\x1a\\x82\\x10=`\\xbe#T\\xf2\\xa5\\x1c\\x9e\\xb4PQiY\\x19\\x8a\\x08\\xc2\\xaa\\x167\\x11^\\xa5\\x13\\xc6\\xd4W\\r{\\xcdej\\x1b\\x82}||\\xe4\\x94\\xf1[\\xfe\\r\\xf3>\\xd8#e\\'\\\\\\xa0\\xda\\xcd\\x8e\\x0f\\xf7k\\xe0\\xeb\\xde\\x87S\\x8e\\xed\\x91\\x84Y$i~u2\\xc3\\xf3T_\\x92\\x95r\\x1f\\x8b\\xc3SM\\xb0\\xb7#\\xc8\\xf8\\xe5\\x1a\\xaf\\xa1\\xcaO!\\x95\\xe1\\xfa\\x8c\\x8c\\x0c\\xcf\\x8fb\\xfa\\xdf2&W\\t\\x840vc\\xaa\\x03O\\xcfm\\x8e\\x84\\xef6\\xb3\\x9a&\\xe7BW)\\x8b.\\xc9\\xa1v\\xd9#\\x04\\xec\\x04o_\\xcaw\\x9fn\\x9d\\x9c\\xf4\\xbc\\xfa9\\x9fr\\x18\\xb9\\xb94\\x00W\\x9f\\x08!\\xf8U\\xce\\xc3\\xf41-\\xa9\\xb7\\xfb\\x83\\xacA3\\x17\\x1e\\xb7\\x7f\\r\\xb56\\xdf\\x1e\\xa2>\\xdfe\\x18\\xd3PQ\\xef\\xb1\\xaa=\\xebW\\xe8]\\xa4\\x12Ve\\xdcQ-\\xe3\\xf6b\\x91\\xb5?fxss\\xa7\\xfc\\x92\\x9f\\xc6[\\n\\x0b\\xe4.\\x9e\\x07k\\xce8\\x15\\xe0<\\xbe\\xcd\\xb2\\xee\\x88b\\xba\\xd9U\\xeex\\x8a~$\\xa9{uY\\xfff\\x10\\xe0br\\xa1\\x92~%\\xd2x\\xf1\\x1b\\xdc\\x83U\\x1eg\\x8d\\xf8\\xb7i\\x1c\\xaf\\x15\\xa9\\xb5\\xd9w\\xe6[\\xf15\\xe4]\\xd8\\xdc\\xef\\xdfw\\xbf\\rx}\\x15fl\\x10\\xaf\\xef\\x08\\xc0b0\\xa3\\x8a>\\x13{\\x0b\\xa5\\x1e\\x8cy\\x8d\\x12\\x9a\\x135nk\\xdb\\xdb\\xdb\\xda$e\\xb2\\x078`3\\x07:>x\\xd1o)\\xf57`\\xa4\\t8\\x11\\xad}\\x92_\\x7f\\xe3q\\xe3\\xb1\\xf1O\\xa3x\\xf3\\x16]=p}b\\x96\\xac&\\xb8\\x0e\\x04w\\xc7@\\xe6\\x8c\\x10\\x1f\\xb65\\xf6<\\x99&\\x17)\\x988?\\xae\\x9a\\x1d;O4\\xe5\\xbe\\xf0\\x04s\\xadQX\\xf2!\\x8c\\xa4\\xddE^>\\xbb\\xf4\\xf1\\x8f\\xe6\\xc0\\xb3\\xf6\\xdc\\xfe\\xd9\\xe6+\\x01\\xac\\xc9X,7fjL{\\x93\\xd4%=\\x8cv\\xee\\xf8\\xf1z\\xa8 \\xe6zf\\xdd\\xf1\"q\\x1aN\\\\F\\x9ed\\xf5\\xe5/7\\x90\\xaa\\xd3c/\\xb4D\\x90\\x90\\xa5M\\xeeO!\\x9d\\xa4\\xd8\\x8a\\x0f\\xd7\\x8b\\x17\\x9cs\\x167E\\xac\\xd1I\\xd8\\x80\\xa7\\xd0pg\\xe4\\xee\\xc8*:\\xf9\\xf6Abb@\\xcc=\\x01\\xc7\\x88/\\xce\\xf4\\x00\\xdb\\xccd\\x83b2\\tO\\x1aD\\x1f\\x1f\\xff\\xdf\\xfb\\x14/\\xef\\xe2\\xc9\\xd3\\xda\\xc0\\xe1\\xf7IaW\"B\\xc5\\x99\\xb6\\xf2\\xed\\x9d\\x9dq\\xactc=\\xa5WG.\\xaf\\xd1\\xd1\\x00\\x8cb\\xdc\\n\\x8e0\"Ov\\xb6\\r\\x85\\xa3\\x027\\x87s\\xc7N\\xdbM\\xafP\\xb2y\\xc0\\xa9OX\\xa6\\x17\\x8em3\\xe5V\\xb8,\\xa1a\\xb0\\xb8\\x95v\\xdc\\xbd\\xe0\\xb9\\xb9\\xb9iK\\xfa\\xf5E^\\xf0e\\xc7\\x84m6\\xdc\\xf0e\\xa9@^n\\x946\\x93[\\x95\\xdcb[\\xd8\\x01\\x819@\\xf5\\x7f\\x08C\\x9e\\x9f\\x05\\x07Y\\x90\\xaa@T\\x83=Li\\xa1omS\\xa3\\x9e\\xcf\\x8d6\\x1c`\\x81Zp\\x0bW\\x1c\\xf1t\\xc6\\x8e\\x9f\\xf34\\x8f\\xe1E\\x92\\xc4\\xdc\\xf4t\\x98\\xe9$F\\x92\\xda\\xf3\\xad\\xe0\\xc0\\xb7g\\x9e\\'\\xfd\\xf9\\xeaR&L\\xeeW\\x07V\\xfcZ\\x94yS\\x06\\xf2MK\\xcbX\\xff\\xec.\\x1f\\xa5?v\\xba\\xaf\\x97\\x17\\xb0\\x10\\xa1W\\xb99\\xc3\\x1f@D\\x05\\xb9\\x15\\x0c\\xd4\\x83\\xf3\\xdb\\xa1\\xdb3\\xe8\\xb2\\x7fG\\xe1\\xee\\\\\\x05V\\x82Ri\\x1c\\xec\\xe9\\xe2\\xd7^\\x89\\x8a\\xbe\\xfa<>\\xb4R\\xf4\\xf4\\xcd\\x98k\\xa7\\x8a\\xfcET\\xe6\\x98 s\\xce4\\x81\\xbd\\x16I\\xf8H-}y\\xd6\\xa7\\xcb\\xd7J \\xaa0(q\\xa8\\t<Vj}g\\xb8\\x1e\\x03\\xe9X\\xee\\xe4\\x81\\n\\xf5s\\xa1U\\xb9\\xf6\\xc2\\xb4\\x94\\xb3a,\\xf7p\\x1c1\\x8a<\\xa7\\xd9F\\x1b\\xa9\\xdb\\xcfpn\\x86\\x19\\x1e\\xdeQ\\x8f%\\xac\\xf6G&$\\x15q5\\x0em\\x1a\\xd9\\x11\\xa6\\x16\\\\Z\\x07\\xca\\x0b\\xa1nr\\xbc\\xff,=\\xc9\\r4\\xec P\\x06\\x96@`\\xe2)\\x88aX{\\xd3sA\\xe7\\xa65\\xea\\xbc\\xcc\\x96\\x8dQ])\\xd8\\x93QQ\\xdf\\x9fOM\\'?\\xac\\xe7k\\x0cW;u}t\\x1fk\\xae\\xf9\\x14\\'\\xbf6w:\\xb3\\xb1qK\\xd0Q\\xed\\x80\\xd7e\\xad\\x8d\\x85B\\x99\\x9e\\x97\\x8d\\r/\\x9e\\x0c\\xbcq\\xaa\\t9\\xfa\\xa3\\x0ff~\\xb0\\xee\\xa8\\xd9\\xbf\\xb2\\xf9\\xab\\xb2\\xa1\\x91o\\'\\xa8\\xbd\\xa6\\xf3\\xf8c\\xc0\\xd8\\x9bn\\xc0\\x8fM<\\xb0\\xbaf\\xa5\\x01X\\xf2`\\x97\"\\x93\\xeb\\xf7\\xb1\\xff\\xea\\xf5J\\xf9(<x]m\\x1em\\xedtv\\x7f\\x8d\\x188s\\xcc;\\x90\\xe3\\x1e\\xad\\xcbP\\xa5\\xe0\\x14.\\xaf\\xad\\x1cr43)\\r\\xfb\\xb8\\xc2\\xc0\\xfaz\\xec<#\\x91\\xe7\\xcd\\xc8\\x81_\\xa1\\xfa<\\xfa\\xa2\\xad\\xe7K\\xfdz)\\xed\\xebV4\\xb1\\xddu4\\xd9\\x92\\xfe\\xd6q\\x86Y;\\x88\\xba\\x94\\n^\\x8eJd\\x03^\\xfc\\xa7\\xd3\\xc6\\xaa\\xe7\\xfcG\\xf5\\xcb\\xd8\\xf3\\x8cak*x|m\\x04\\xff\\xf0\\xa3\\xc9\\xdb\\x07\\xb6,\\xeb\\x0c\\xff\\xab\\x1a\\xd3\\xabRY\\xed\\xf9;\\x95E\\x89\\x92\\xb1\\x0f\\x8c\\xc7\\xde&\\x84\\xec\\x9cNV\\xc4`\\xa5\\x94W:\\xdb\\xc3\\x8f\\x10\\x07$U\\xb6\\xaf7\\xde\\x8e?\\x8b$/\\x10O\\xff7\\xe0\\x9d\\xa1\\xbd:\\xe8\\x1e5/\\x87e[\\xe7N\\xd9\\x8d\\xc9\\x9fe\\xb2\\x8c\\xc9\\xa6\\x0f\\xe9|\\x9c\\xc7\\x10]\\x8f^ \\xde\\x1d\\xa3\\x873j\\xbb\\x1a\\xfd\\xc9\\xa4(\\x96\\xa3\\x12&\\x9e\\xaa\\xde~\\x130\\x91\\x140Y\\xf9}\\xff\\xfcHyq\\xeb(\\xbco\\xb96o\\x84\\xde\\x14\\xfb\\xa6=}\\xfe\\xd8\\xb9\\xd9#l\\xbeA\\xdcD-\\xff\\x9d\\xfc\\xe1\\xb2\\xa7p\\x8aA16,\\xb9F\\xedb\\xc6pM2N\\xe7\\xd3a\\x10}\\x95\\x80\\xda\\xaa\\xb7f-\\xad\\xf5\\x03X\\xe8\\x17\\xde\\x9e\\xe2m\\xa8U!\\x1f\\xe1\\xbbv\\x1a\\xb0-T\\xa66vNvNN\\xdc97\\xb9\\x94\\xc0\\xcc\\x1b\\xf2]& \\n6\\xc3\\xbe\\x0c\\xfbq^86#\\xc5\\xae\\t\\xba\\xdb\\x8c\\x86=\\xdf\\xb6\\xfe\\x99+U{P\\xb1\\xeb2$d\\xbb\\xe7\\xb4\\x1c\\x9f\\xf7\\'\\xd6\\xcc\\x7f%i(w3\\x86\\x95\\x06\\xec\\x9d\\x13\\x10\\x08O\\xf6\\x0c\\x8f%^L\\x05\\x80\\x12\"o\\n\\xfc\\xe0v\\xd7\\xcf\\xff\\xed\\x97wZ\\xa4\\xc9\\x9a\\xe0\\xd7\\xea\\x13\\xe7\\x91\\x8d\\xb0\\x7f\\xbf\\xb9oR:_i;\\xcf-\\r\\\\\\xd3y\\xa7\\xa5v\\xf7\\x1c\\xa88\\xdcP\\xe3\\x80L\\xcb|/\\xb6\\\\\\xe6\\xfc\\xc1\\xc2/\\xc81\\xcb\\xdd\\xcf\\xea~X\\xe8E\\x10_#\\xce\\xd0\\xda\\x84\\x01\\xf2I\\xcf\\x1a\\xaa\\xba(\\xc3h\\xbfD\\x98\\xb8+/m\\xa1\\xd0<\\xfa\\x1d\\x98\\xd6\\xb2\\x18.\\x85\\xebx\\xf9\\\\l\\xc1\\x13\\xd2E\\x98\\nx\\x06\\x7f\\x04\\xd2y\\xba\\x86\\xa8L\\x91\\xdc\\tS\\xf3\\xe3\\xfe\\xa6\\xc6b\\xd07\\x8e$\\xf5i\\x9f[\\xc3\\x0e\\x8b\\xb7\\x97YlY9Zrr\\x18?\\xaa-h\\xf6\\xb5\\xa7\\x9cr%0$\\xa0x=\\xbeh\\x9cmX/F\\x91H\\x8a\\x80\\xbf\\xf9\\xe7\\xa7\\x9b5\\x9e\\xb6V .\\xa5\\xe8\\x8au\\xed\\x14[X3\\xd0b\\xbe\\xecR_\\x0e\\x95\\x96\\xd2\\x85\\xff\\x91\\xe3g!\\x8f\\xe3H+\\xea\\xf8\\x1d\\t\\x88\\xaa\\xc4\\x8b\\xe5\\xf2\\x9d\\xe8\\xf4\\xde\\xcc\\x00\\xb4m\\xc4\\xd1P\\x06\\xc5\\x85#S\\xc3\\x9c\\xa7fJJVM\\xb2dG\\xfd3<\\xdf\\x98\\t\\x1d%Z\\x1c\\x95\\xe1\\x0b\\x92\\xa2=\\x0b\\x1a\\xd5T)\\x95\\xf1\\xabm\\xe8$\\x0e\\x96\\xc2\\xe9\\xaa\\x1f\\xb7\\xbf`\\xa0\\xca^.7(\\x9c-\\xb3) P\\xa8\\x98\\xb7\\xe3\\xab_n\\'\\x147\\xf7gH\\xfa\\xeaH\\xdf?6A:\\xc4}\\xd4_\\xdb\\xb5\\x0e\\xf5\\x15\\xdc\\xb2\\xdf\\x9a\\x8e0\\x9f\\xe8~\\x0f\\x10\\xda\\xba\\xb7t\\xcf\\x02bp\\xcd-\\xe9\\xc9Ad\\xc4\\xa2\\xa5a)\\xb2\\x19\\xe8qt\\x9a8\\x14\\xa8\\xa7<*&z\\xd7md\\nu\\x1dP\\xe9\\xd8qRU\\x03S\\x1cv\\xfa\\xfdu\\xd4\\xb44 \\xe4@\\x8b\\xaf/\\xfd\\xa9\\x85\\xbd\\xda-\\xd1\\x86\\x8f\\xe9\\x9e\\xfc\\xae^mb\\x12i\\x0e\\xff\\x01\\xd8\\xc4c\\x7fl\\x1e\\x8b\\x06d\\xba\\xafU\\n\\xac\\xffPi\\xe864\\xb0\\xe5\\xd4&$\"o\\xa0\\xfah\\xb6F\\x02\\xa5z\\xebd\\xde\\xcb\\x1b\\xe8\\xa9\\x85a\\x93\\x95\\x17#\\x0b$~D\\xb8\\xe4\\xdb;84r`\\x9f\\xf0\\x9b\\xd5\\xe9$&\\xc4\\xba\\xfb\\xf8T/j\\x0b\\xf8\\x04\\xd3\\xe6\\xc9\\x04\\x19\\x1a\\x98\\x7f\\xd0&%jW\\xf5\\xbam\\\\.\\x90k\\x13\\x13]\\x88\\xd0U\\xca\\x16v\\xa0\\x18\\xd28\\xbd\\xda+I\\xf2&&&\\x87r\\xd6\\xf0\\xeap\\xaa\\xcf\\xd0\\xa5\\xb6-|x\\xe7=\\xb2\\xbe\\xe3z\\xc5\\xc5\\xf0\\xc1\\xb7\\xb2\\xfc\\x0f\\x08=\\x9d\\xb0\\x95\\xf5\\x93\\xfaT\\x87\\x1d+\\x16]\\x7f\\xc1W\\xc4\\xc4#\\xab\\xd1r\\x9d\\x14\\xe5Zi\\xeb\\xe0\\xa0\\xf79PDep\\xda\\x94\\xe1<P\\x07\\xa5g\\x99Y\\x12\\xb2\\xa3\\xfa\\xcb\\x11.N\\x81\\xce\\xf7\\xdf3s\\x1d0244\\xcf\\xffOA\\x02\\xda\\x1c>\\xfcWG\\x1d\\xdcu\\xba6\\x0b\\x14\\xa7\\x99\\xeb\\xb5\\x8b\\x08#\\x16\\xdd\\xe6\\xa0\\x96\\x94\\x91\\x8a<}\\xfe\\x19\\x81\\xd0e\\x08\\x02!\\xbb\\x13\\xa3V}\\x9b\\xe9\\xb5\\xf8c\\tS\\xa3\\xf6 \\xd0\\xd5/\\xbf?I\\xec\\xee\\xfd\\xbc\\x05H\\rQ\\x83 \\x0f\\xd0L\\x87p\\xaa\\xee\\x082\\xc5\\xd1\\x8b`\\xbf\\\\}[ZM\\xf5\\x05!\\xf2\\x9a2dG\\x1d\\xaf\\x97zN~\\x88\\x1f\\xa0\\x90\\xdakD5\\x04\\xba\\xd7\\xef\\x00\\xf9\\xe2\\xf5\\xad\\xf1y\\xf8\\xbei_\\xc6\\xea*X\\xd9\\xe7\\xe9Xg\\xbc+\\x7f\\x98$\\xd2\\x7f\\x1b\\xd1t<\\xce\\x14\\xf6\\x96\\xd6\\x14T\\x16\\x82\\x9b#\\x18\\x92\\xff!g\\xe7~GFc\\xce\\xbc\\x96\\x93\\xba\\ri\\xe2C\\xb1\\xc7W\\x15\\xe2\\xa3|\\xe1\\xb1\\xdd\\t\\xb5\\x17\\xaf\\xafw\\x81v%u\\xda\\xcaF\\xecM\\xf1f\\xb8\\xe7>V\\x8fE\\x06\\xd6\\x8e\\xa7pD\\x12\\x0eIN\\xc4\\x8f5\\xce\\xb3\\xbei\\xd0\\xdc\\x1dgs\\x13\\xdcf\\xd6e\\xd7\\xf0\\xa0\\xa6\\x05\\x141\\x00.e\\xdb\\xd8\\xfdb\\xd5/\\x15\\xc6y\"\\x1e\\xffw\\xd7\\x92\\xd6\\x03\\xf0H\\x8f\\xcd\\xc8\\xdd\\xe6\\x03>\\x1c\\xf8\\x19\\x00f\\xed\\x08\\x10\\xbd\\xf2\\xd9\\x80VDBT_-\\xf4\\xf9\\xc7&\\xf0nm\\xae\\xcb,\\x91\\xa3[\\xd5\\x1a\\xc4\\xc54\\xd7\\x11v0F>\\x1c\\x83m\\xab/\\xee\\xc0\\xe3\\x8aY\\xa3)\\x07sY\\xfe[rr\\xf2\\xf7\\xa4\\x04\\x15\\x11o\\xfbL_\\x07\\x13u\\xd0\\x91|\\x10\\xad\\xaeG\\xd8\\xf3u\\xf7\\x1f6M\\x0bA\\xed\\x8e:\\x16\\xa1\\x97\\xc2\\x95\\'B\\xca/\\xcf$\\x1ay1\\xb1\\xa7\\x8du\\x9d(\\xa1\\x1a\\x8c\\x17\\xe3{\\x13a*N2\\xb1\\xbcw\\xee\\x08\\xc9)\\xb2\\x97\\x8b\\x02^\\xde\\xa1\\xd5*\\xa8\\xd0\\x00\\x81\\xcb\\'` \\x10x\\xa45\\x00\\x9b\\x14\\xb5w\\x0b\\x8bnmmUu{\\xf0w0\\xaeW\\x1e\\xff\\xdf\\x19\\xc9\\x12Q~]\\x14+(\\xb2\\xd0\\x15\\x82\\xbf\\xc9R\\xae:\\xad2KC&\\xcf\\xb67\\xaf5\\xfbIG\\xb1\\xf8\\x88\\x075\\xfc\\xfd\\xda^\\xe1\\x11\\xeet\\x1ctL&\\'\\xcdG-\"\\xaag>\\x96\\x07\\xb6M\\xd4\\xb9\\xa9\\xd7\\x8b_\\xe9\\x9e\\xa6O\\x95{\\xf0\\x86\\xb3\\xec+\\xc7\\xe7\\x18\\xdc\\xbd\\xb4\\xabo\\xb9\\xcdO|w\\xb0\\x0f\\xfa\\\\a\\xa1\\xb0\\xb3\\xf6\\n\\xa5\\x7f\\x84\\nY\\x93?\\xc2\\xe5\\xa5\\xaby\\xe4\\xd0\\x80>\\x1bjZ\\xee\\'\\r\\xd3_\\xa1i\\xae\\x15\\x9f\\x98\\xe4,\\x81\\xdb/\\\\J}4\\xb4\\xb4\\xee<l\\x8e.N\\x95\\xd8U\\xdaj\\x9e\\xc5\\xb7\\xb4\\xfc\\xf0\\xf9\\xb6\\xdb4\\x9b5\\xa1\\xa9\\xee\\xb4\\xa1\\xc65c\\xec&z\\xc5a\\xae\\xa3\\x95\\xa0\\x90\\x9e\\x8a\\xeaQ\\x85\\x05D\\xc9\\x84\\x9a\\xb8\\x00^&\\xbe\\x9ae\\xd3+\\x0cO\\xc1\\xd9\\x87]\\xfb\\xd3/\\xa3\\x85\\xd4}Jm\\x06`\\xf7\\xd6\\xf6\\x86\\xe0pi\\xf2nI\\x12\\xccMkSy\\xb9\\xd99\\x9c\\x96\\xd2\\xd1\\r\\x15\\xf3R\\x00\\x86\\x9b\\xd555\\x8fS\\xbb\\x93\\x0er7\\xc1%\\xe2/\\x88\\x91w:*m\\x1b\\xc1BS\\x0bw\\xb2o\\xae&r\\xf0a\\xfby\\xd6c\\x08\\x98n\\x8c\\xf6<R\\xe4Y\\x95\\xf6\\xc2\\xc2\\xceq\\x84H\\xec\\xe6\\xeb\\xd5\\x0ccgS\\xa5\\xa3\\x82\\xce\\xf0\\xbe]\\xc3\\x9e~\\x8a\\x00\\xff\\'`\\xc3\\xb07\\xc1\\xaa}\\xf3\\xe6\\xf2\\xaf\\x97\\xfd\\xe5*|\\x0f\\x82\\x87\\x1a\\x9a\\xb8\\x19n\\x81\\xa09\\xb6l0\\xaa\\xbf\\xee\\x1f\\x01\\xf3J-\\xb0\\xc8\\xb2\\xcd\\x99I\\xc6\\xa3\\xca\\x9e\\xb1\\x91\\x07j\\xd5w\\xa5\\xdf\\xfa\\xb7:|Y\\x8a\\xb3\\x8a;\\xdd+\\x85\\xd3\\xc2|*\\x03\\xe4\\x93#\\x08\\xcb\\xa4n\\x7f\\x0e\\xc6d\\xf9\\xcc\\xca+\\xb6\\xd4\\x03\\x7f6!\\xef \\x0cm\\xe3\\xe4\\x03grg\\xce\\xe8\\xc2\\xe2\\x02\\xa3\\x08\\xb3\\x08;\\x1f\\xd3\\x9dg\\x1e\\xca\\x81\\xe2\\xa7\\xad_\\x81\\xd2N\\x00\\x93\\xbf\\x0e*\\x7f-\\xef\\x03\\xf0H\\x8b\\x04\\xba%\\xaf\\x06cW)\\x1e\\xfd\\xbd1\\x18\\tK\\\\\\x11c\\x07MVV\\x83]:\\xa6\\xb7=*@n\\xa6\\x11\\xb9tX\\xa1\\x10\\xe3\\x9bz\\x7f\\x1by\\xf1\\xc5\\x16^\\xc8\\xc5\\xf6\\x9c\\x94\\x16\\xb8\\xd6\\x97\\xdd_\\x8b\\xb4\\xf5\\xb4\\x05\\x80\\xaa\\xa3\\xedm\\xfa\\x16\\xac\\xacQ\\x9dZf\\xdd\\xee\\xcf\\x98U\\xc8?\\xaf\\xa8\\xa9\\xcd \\xc2\\xd1\\xd0\\xcb\\x88l \\x0f\\x06\\x83\\xb1\\xcbm\\xab\\xee9\\x9a\\xd3\\xed\\xf8t6\\x97\\x8a\\x99W=\\x9e\\xb7\\xfc\\xdb\\xb7\\x9c*\\xf0\\xd8@\\xd4d\\x89QnF#2\\\\n&P)\\xe2X\\xa7\\x9d\\x89\\xcd\\xef\\xfb\\x9b\\xdbO7\\xaf\\x1cE\\xb5\\xea\\xc52\\xe8\\x1d\\xae\\x8c\\x8ebd\\xdc\\x18z\\xf8r\\xc7\\xb0\\x0c\\xbf\\x95\\x92?X\\xdcg\\xcc\\x13p\\xf3-b\\xe6}?\"\\x1bbq\\x7f}\\xe3\\xd2\\xcd\\x88\\xc2\\x95TF\\r*\\x83\\xcd\\x94\\x14<\\x8a\\x1f{_\\xc2eO\\xe1+\\xe6\\xf3>aT\\xb1\\xa2\\xef\\x97\\x0e\\xf5K\\xf2\\tAx])\\xab|3\\xbce\\x96q\\xf0rS\\xeb\\xe3\\xac\\xe7\\xad\\xbap\\xff\\x87\\xb5\\xaaX\\xe6\\xba\\xe7\\x1f\\xa5\\xa3\\xc5\\xd2@\\xff\\x18\\x9f\\xf1G\\xe1w?%3\\xe6\\xea\\xf4K\\xfd\\x1c\\xd8\\x8a\\xa3z\\xf3\\xb4\\x8a\\x82\\xc1m\\x1c\\xcc\\xac\\'fu\\xf7d7\\x14\\x06\\xab\\xf9p\\xebm\\xaf]E\\xd3\\x17\\x9fzB\\xc55\\xe9<Sl\\xf9\\x84\\xa1S9\\xa3\\xca\\x16^X;J\\x01\\xd5Xn\\r`\\xa3\\x85\\x0e\\xa8[\\n\\xb6\\xd7\\xd4J%Cj\\x18\\xe6\\x1b\\xf4,\\x86\\x90\\xc4\\xf3\\x066X\\xb8\\xe1\\x11/\\xdb8\\xb4EL\\xf4fI3\\x9c\\xcb\\x98\\xff\\xf4Z\\xb0\\xeeOU7\\x10hU\\xceB\\\\!Z\\xd2\\x059\\xab\\xa9\\xa5\\xa5\\xd5\\x9e\\xb7l;\\x1f\\x17p\\xfa\\xf7\\xd3\\xe5\\xb9mG\\x98\\x04\\xbb\\xc8]\\x10\\x08\\xe2\\xe3s%\\'89\\xc1\\x1d\\xe4\\x87.\\xbf^u\\x19`tS\\x15k\\x07~7\\xd1\\xb5\\xfc\\xe8m\\x06[Q5\\xb8\\xaai)R\\x15\\xeev\\xddWp_\\xa1\\xbf\\xd7\\xae}v{\\xa3\\x8d\\x85\\xfeZ\\xdc\\xbc\\xa4\\x18.@\\xc1s\\xe57S\\xd5g\\xcb\\xfb%\\r)Y\\x15\\x93/\\xee(\\xa2~\\x05%\\'\\xdc\\xbf\\x89n\\xcd\\xdf\\x89\\xfbB\\x15\\xca\\xc8\\x0cx\\xcf\\xf4\\xfd\\x8e\\xaf\\xe0{\\x95%$\\xa3R\\xd0\\x01\\x0eF\\x8chp8\\xc7\\x9d\\xe1\\x0f\\xfau\\xc0\\xdb\\x82\\xb5\\xdc|_\\xc3]\\x00\\x00\\x97\\xee\\xa5\\x0f\\xad\\xea\\x9f9\\xae<\\xa3\\xae\\x9fz\\x15\\x94?7(Ak}\\x7f+\\xd8l}ke:\\xb2\\xd9\\xa9\\x06FX\\xe5\\xf9\\xf3\\x80\\xa1n\\x11\\xb79o\\xca\\xf9\\xdf\\x9d\\x89\\xb9~\\xf1\\xf6}\\x0f\\x0c\\xfb\\x0c?\\xe0nm\\xfb\\xbcOk\\xb6\\xf1\\xa0\\xf0\\x0e\\x0e\"\\xbc\\x83<^\\x81*~\\xa7}\\x17\\xe7\\xf3\\xf1\\xe2!\\xfa#\\x8c\\xdc\\xc7o\\xda\\x7f\\xbd\\x85\\xdaH\\xbf\\x0b\\x02\\x87\\xc2\\x8ae\\xa8\\xf9\\xc1\\xe9r\\xaf\\xa8>sR\\x90da\\xbc\"\\\\j\\xf2\\xb6 \\\\jq~?\\xcc\\xbd\\xcd\\xe6\\xe3\\x19\\xf0\\x18\\xd1\\xb9O\\x9a\\xa1\\xdcA\\xbf\\xf8\\xa8\\xbd\\x05\\x92\\xfb\\xc5c\\x8b9zeZ\\xfd\\xd56\\xb4\\xe6R\\xff\\x95\\xfbF\\xbda\\xb6\\x99%3\\xca\\xd7-\\x8fJ\\xaf\\x84\\x96\\t\\xfd\\xe6\\xe0e\\x1fv\\x18aK~\\xb0d\\xf3\\xef\\x0b\\xe1h\\xde\\xdem;4\\xd5M\\xc5u\\xa5\\xd1(\\xac\\xb9$\\x86\\xa1\\xf61\\xc2\\xb3!L\\x8d\\x8a\\xab\\xeahe\"\\xfd\\x0c\\x81\\xe2e\\x04$9:\\x982\\x00g\\'D\\x1b\\xddJ\\xf2.kH\\r?X2\\xfa\\\\\\xaf\\xfd\\xd30\\xaa\\x8c\\x8c\\x9b\\xb7\\x07W\\xb1=\\xf9l\\x17\\x84\\xd8\\ty\\xdf\\xfd\\xf2Z\\x89\\xf4\\xd0~EK\\xc3\\x81\\x1cjn~\\xde\\x16\\x9c,/\\xcb\\xc0\\x9c\\xe4\\x87\\xbeg\\xd6\\x18m6I\\xd3.z\\xdf\\xd0E\\xcfa\\x84;\\xa7;\\x8d\\x12u\\xff\\xb2o\\xe8\\xd9f\\r\\xa0\\x9bW`}c\\'\\x91\\xfb\\xda\\xcf7Ao\\xbb\\x19n\\x94X\\xea\\xdf\\n\\xfb\\x00\\xb8\\x1b\\x8d\\xbb\\xda6\\xf8F\\x96\\xf9\\x0ec\\x97\\xd0o\\x1e\\xc85\\xd1\\x80\\xe2\\xe5\\xef6`U\\x9e\\x83i\\xe9\\x01\\nl\\xb3nr\\xc7\\x13\\xa1\\xed\\xf3v\\xa2\\xa8\\xdfF\\x03\\xd7\\xad\\xc5\\xb7\\x9c\\x88\\xb9\\xe5\\xc6\\xe4\\xa4\\xba\\xfe\\'\\x85\\x96\\xb72\\x98\\x01/\\x93\\x8co&\\x16\\xf9\\x06\\xc1:\\x11\\xdd\\xc6*\\xb6\\xac[\\xbc\\x9b\\xef\\x90^w\\xdc\\x18\\x0fE\\x08\\xd7S)\\xeb\\xcf\\x88\\xd0\\x96\\xd9\\xd6Qe\\x1d#g\\xf1-\\x0e\\x1975\\xa3#\\xea\\xe1\\x04\\x15\\xf8X\\xc9\\xfdo4\\x97\\x01\\xd7J\\xf2F=@\\xa08\\x0f\\x82\\x04\\xadP\\x19\\xfd\\xb1\\xab/\\xda\\xc6\\x03\\xa2Q\\x7f\\xe9\\xea\\x7f\\xe0ma$\\x12c\\xa7\\xad\\xa9)\\xf2\\x04\\x04\\x92\\xe5\\xc8\\x967H\\xa2yY\\xf77\\xd6\\xdb\\x0c\\x7f\\xf0~\\xc3W\\xe5\\xeb\\xe2a\\x87\\xc3\\x8c\\x17C\\xe0\\x8b\\xd7\\xb1\\xf3\\x9f|\\x0b\\xee*^eE\\xd9\\xd8f\\xa6\\xa4\\xa4\\xd8\\x81\\xb7\\xda<o\\x94\\xbc\\xcco\\x8e\\xa6\\x9f\\xa7\\xbd\\'y\\xd7\\x8d\\x19 \"\\xfa*(.6\\xef\\xa0\\xb4oy\\xbb\\x06\\x92<8id\\xfe\\xdd\\xd0\\x91\\xf3c[+q\\xb7\\x074r\\xe2,\\x14\\xef;\\xe0\\x08\\x1cH\\x966\\xac\\x9e{qg=\\xb4\\x16\\xf0\\x92I+w\\x94d\\xb9\\xf8\\x1e\\x196\\xa1\\xd4\\x9a\\'G\\xa1A\\xc3\\x1e\\xde\\x83\\x01\\x1c\\xae=\\xf8\\xc7|`\\x18@\\xa5\\xf0\\xb2\\xa9\\nG\\xbc\\xca\\x08\\x1b\\xac\\xa3\\xcbt(\\xadO\\x15\\x18\\xf3\\xef\\x1d\\x04E\\xb0\\x8b\\r\\xbe\\xac\\xc9\\xe7\\xb6\\xd49\\xc7\\xc7N9\\x88W\\xf2k\\xc7\\xc71\\x13\\xa9o\\xbe\\xff\\x9b\\xca\\xf0\\xaa*\\xa9F`\\xf6\\x92\\xb7\\xf8`\\xa0\\xa43\\xfa4G\\xc8\\x1dc}\\x0b^\\xb7\\xfb\\xe5\\xc7|\\xed\\xef\\xcb\\xad\\xaf\\xfb\\xb6\\xbf\\xf7\\r\\x0e\\x04\\xbf6\\xbc\\xee\\xcbY)\\x8f\\xc7\\x0b\\'\\xcb\\xdf\\xf7\\xb76\\xfd\\x17\\xa083\\xbf%\\xf0\\xa1\\xcf\\xa5\\x97\\xae\\xe3\\xaf7\\xbe\\x87\\x83G\\x11ei..\\x11\\xedH\\xa5\\x9b\\xad\\x10\\xe4wku\\x9d\\xab\\x99;\\xce7l\\xe9af\\xf7\\xf8\\xffl{|Lz\\x97\\x90\\x17qSZ\\xc7\\xff\\t_]r\\xa2\\x9d\\x9awG\\xdc\\xa0\\x8d\\xab&\\xc7\\xfe\\x04O\\xc3M\\xc4\\t\\x0f@A\\xfa\\xed\\x9f\\xb8\\xcb[C!\\xcbA\\xccA8\\xa8!\\xe0\\x80/]\\xb8K\\xf9)%U\\xbb\\x00\\xfc\\xee]\\x19k\\xb8;\\x04s%\\xf1G\\xc4\\xfb7\\x97\\xe7z\\x840\\xc4w\\xe7\\xfa\\xa2j\\xf6n\\xe7\\x12\\xd1\\t\\xa0O\\x9c\\x1dj=y\\x16+,\\x0c\\xa5+\\x91\\xdb\\x92\\xa4;\\xa9S\\xf2p\\xe9\\xca\\xa6\\xd9ytp\\xf2\\'\\x83\\x99\\xfb\\xcc\\xf3\\x85<\\x9a\\xfc-\\xb1\\xec\\xa9/w3\\x1a\\'\\xac\\xa9t\\xbf|\\xd8\\x88*\\xb4.\\xcdI\\xa1s\\xfe\\x81\\xdb?\\xd3\\xcb\\xec6\\x97CE\\xce\\xf8$\\xbeZ\\xd4\\xd6\\xe0\\xd4\\x1f/\\xd1U|\\xfd=:\\xfa?q\\x93/\\xe3?\\x18ztu\\xf7Tk\\x8ag\\xd3\\x98_RQ\\xfb\\x1b\\x8e\\xf17r\\xcc\\x8f\\xf0\\x8d=M\\x92\\x8fG\\xa1=\\x1bj\\x88?\\xa2\\xe4\\xd0\\xf8x:\\x80\\x83s\\x04\\xc0%i]W``\\xc7=\\x85\\x85o\\xb7\\xc3\\x0f\\xd3R\\xfct\\xae,0\\xeb\\xeb\\xfe\\xde\\xca\\x00\\xa1\\xa3\\xcd\\x0e\\xb8\\xd0\\t\\xab9\\x08\\xecU\\xb9H\\x8e\\xdf\\x1e\\x13\\xf4[\\xc5\\x9f\\xd6\\xb5\\x0bZ\\xe3g(\\xce\\xeb6\\xbc\\x8a\\x00\\x1f\\x14\\xd0\\xcem\\x8d\\x8d\\xa5\\xd0\\xd0k\\xc0\\x84\\x10\\xfc\\xbd6+\\x1b\\x12]\\xc7\\x1c0\\x01J5u&\\x94\\xe2\\xfb\\xa2\\xd5j&\\xbfgt^W\\xcfb\\xcf\\x0e\\x80\\x1e\\xf4\\xb1\\xbe\\tldB\\x824\\xa2\\xe3\\xab\\x99\\x1f\\xbc\\xe1\\xd9\\x01 \\xf5|\\x1ct\\x9b_\\x8a\\xa51\\n\\xfeg\\xe8\\xe2\\xbc\\x7fG\\xe7\\xbb\\xef\\xa9S6\\x8f\\xa6q\\xb0\\x1f\\x9a\\xc2\\xb2z\\xfcW\\xb7{!\\\\\\xb0\\xbd\\x1f\\x07\\xaf\\x11AFn\\xce\\xfd\\x93\\xb7\\xb07Uw-\\x0c\\xec\\xec\\xc5m\\x7f\\xc5\\xc7\\x98y4O\\xbd\\xa3\\xd5\\xbej\\x9d\\xe2\\xbddL\\xcb\\xad#\\xae05\\xd2\\xc7\\xb7\\x01\\xc7Y31<\\xd0\\x84w\\xd8\\x8b\\xf0d\\x9a\\xdcJVr\\x17o\\xd4\\xb70pT\\xb6\\xdb\\xbc\\x93\\xf2\\xd3\\xeee\\x8f\\x07\\xa7S\\xc0\\xf1\\x9f\\x19\\xf6P\\x0b+:l\\xc7y:G\\n\\xb0\\xfb3\\x8d\\xbbC\\x1c\\xf4\\x8eR\\xdb\"}\\xdf\\xe2\\'#\\xe97\\x12\\xee\\x94\\xd4\\x0b\\xcb\\xc1pCU4\\xaa\\xd6\\xf8\\x96\\x83\\x17\\x8dT\\xc9\\x90h\\xe1\\x13\\x8ay\\xf1\\xd9\\xb79\\\\\\xd5\\xb5\\xeeb\\xf8L\\xc0\\x8bDW >~\\xae\\x86\\x8d]\\xa0hj\\xe6\\xacZC\\xdf\\xcc\\x89\\x8f\\x84\\x19^\\x83\\xd4\\xb90gX\\x18\\xaf\\x8f\\xb1\\xd4\\xfc\\x8b\\x0b\\x86P\\x15\\xcc\\xae\\xa9q\\xf1\\xb3\\xf3\\xf5Y\\x13t\\x17\\x19\\xdf\\xcfJ<\\xd7\\x01{\\'\\xa9\\n\\xb2\\xe8\\x9bs\\xea\\xfb\\x85\\x84\\xa4$$\\x08\\xb2\\xdb\\xe6\\xea1.\\xad\\x9d\\xde\\xe7{\\xf7\\xd0_\\x18\\x1f=\\xb1\\x12Z.u\\xaa\\xaf\\xd7\\xa3\\xea\\xc6\\\\y\\xc7N\\xc0\\xed\\xfd\\xfd>j\\x00\\xed\\x8d\\xb7E\\xb72\\xee}mo\\x17s\\x03\\x8c\\xdb\\x81\\x93\\xe9\\x00\\xb4\\x81\\x93\\xe3\\xa4u:\\xac\\x88\\xfd\\x864\\x93[U\\xd3\\xe7\\xaa&=\\xefT\\x07\\x06\\xaaT7#\\x8eT\\x99\\xe4\\x83k\\xa2U\\x0f\\xcb\\x98\\xe3\\xd5\\'\\x9dih@]\\x9d,\\x19\\xbb\\x16\\x9d\\x1a]4\\xa2\\x99\\xee9\\x1fi\\x83[\\x7f\\xb4G9b\\x82\\xc0z\\xb49\\x85b|\\x1e\\x9d_\\xedB\\x1bU\\xad\\x14Qy\\xfeh^\\xb6\\xb4\\xdbw\\xcc$\\x93\\x0c\\xed\\xda\\xc5\\x1f\\xb2\\xa5\\xc9W]\\xdavj\\x15H\\x8exR\\r,P\\nO\\x89\\xd0\\xc3\\xff\\xbdB\\xfb\\x97\\'\\x0f\\x98er\\x93\\x83\\x89Z\\xd1\\t\\x94!PE\\xad\\x97\\x17\\x90l\\x84\\x1a\\x05\\xa9t\\xb2\\x90n\\x9f\\xbbg\\x8b\\xbdI\\xc8\\xf3\\xb3\\xfe)\\x1e[ke\\x0f\\xde\\x9cy\\x90\\xdc\\x16E\\xa9\\x98\\x16+\\xb8\\xca\\xa7\\x91\\xe7Z\\xd7\\xf5AINv\\xf3\\xd4\\xcfG\\xbd;\\xfd\\x00_\\x7f\\xadZlG\\xe2\\'\\x80\\x1c:s\\xd8\\xdd\\xeb\\x9eK\\xf9_\\xaf:/a\\xc1\\xb4\\x00\\x96\\x04\\x17\\x8a\\x9f\\xd7Jh\\x0f\\xfd6\\x86\\x1d\\x9c>~\\xef\\x1d\\xc4\\x17\\xa2\\xd2\\x9c\\xb8\\xc5\\x94\\xa2\\x88\\x16\\x05N\\x84\\xd9\\xb89\\xb2\\xfd\\xce\\tv$^\\x132Yr\\x82\\xa8100\\xd3\\x1cX\\x85\\xdfs\\x13}\\xaf\\xe3\\xe4\\xe8(\\xf1\\xef\\xb5c\\xb5U\\xee\\xe8\\x17\\xfc\\x96\\xee&\\xc0\\xd0C\\xdf,\\x8b%\\xa5\\xb9\\xf6\\xbb\\xf1\\xfd.\\xbb\\xaa+\\x91\\xe7Ji\\x94\\x9e\\xbcn\\xd7\\xc9\\xfe\\xc9{\\xc0\\x95\\xb9\\xa9!r\\xa6Uk\\xb7w#\\xe2\\xfa\\xae\\x8a[\\xe7\\xb5W>B\\xef!R\\r\\x0e\\xb2\\x8f+\\xe8\\xe9^\\x16\\xdd\\xa8\\xae\\xae\\xfe\\x06\\xc1m\\xf8\\xdc\\xe5\\xbc\\x1a\\x97\\x18.\\xadiP\\x96v\\xa8PdO\\xa6~\\x92a\\xc7 \\xe3\\xfa\\x94\\x1a\\x1e\\xdf4u;l9\\x8fCUf\\xe6y\\x12Q\\xaaSv\\x9b\\xfd\\xbe\\x8b\\x8a7\\rR:\\x02\\xf0$\\xc9Q&\\x8b\\x91?:\\xa9\\xb0\"2\\xd8\\xf4\\xa9\\x9e^\\xc9#x6?\\x07]_\\xc4\\x9dZ\\x9e*\\xd2_\\x7f8\\x83\\xf5\\xf5\\xdb\\xf4NCF;\\xd9flz\\x81ex(\\xf08\\xaf\\x8c\\xf4\\x91}9\\xe0\\xe7v\\xe4\\xcf\\x94\\xcb\\x00\\x8b\\x84U\\xff\\x1c\\xf4S\\x17V\\x91Xy\\x94\\r\\x93\\xa3O\\x8e\\xdb\\xcct\\x10\\x03\\xcf\\xe7\\x90\\xa2{\\xdd\\xc7\\xef6\\\\\\xea9\\xa4\\xf8\\te\\x894uE7\\n\\n\\n\\xa66\\x1fN(=\\x9c\\xb8Q2\\xf3\\x0c\\xc8\\x0b\\x1fHL\\xa0\\xa7y96\\xfb\\x81\\xad2\\xe29\\x98F\\x9d}\\x9e\\x08>\\xf6\\x1eiH\\xcc\\xb7\\xd3k\\xb6\\x93\\xe5\\x98\\xeb\\xcek\\xa8\\x97.\\x7f\\xbe\\xd6@8\\xf6c\\xd2\\x9b|1\\xc5\\xac4ud\\x0b&-\\x054W7-\\xc85\\x03\\xee.}\\x8442\\xfe}8\\x91\\xfaH\\xd9z\\x93\\xa2\\xc5\\x94\\x8eY\\xae\\xd5\\xde\\xc2G8g.u\\xda\\x0e\\x90nY\\x7f\\x8b\\xf8I\\x10d\\x14\\xf9\\x16\\xa9e\\xf6\\xe3r\\x85e\\x9d\\x8d\\xb4\\xcd\\x0f\\x1f\\xa8\\xb8]\\x84e\\xd9\\xcb\\x15\\xcc\\xd9\\xed\\x0f\\xfbf\\x90\\xbbDk\\x1d\\n\\x7fKO\\xcb!/\\xb1;.~yD\\x0c\\xd8\\xb1}\\xc7l\\x1a\\x17\\xe6\\x1dX\\xea/\\xf2\\xed\\x89\\x96Y\\xad\\xa0\\xe1\\xad&\\xa7\\x9a\\xc2\\xc4+\\xd3\\x01\\xf9\\x15\\xe1\\xe8\\x8e\\xec\\xf7\\xd2z\\x96\\x16\\xd2Y\\x15\\xb42\\tJi\\x8c\\x91B\\t6\\x9c\\xf7o\\xae*\\x14]\\x8dw\\xd4\\xe9\\xf5\\xfb\\xfa\\xbd\\xd4\\xe0\\xd8\\x87\\xe2>S\\x9a\\x1b-\\xbc\\xb4\\x9c\\xc5m\\xd8\\x86U\\xedk0Z<U\\xb7\\xaf\\xd1\\xf9\\n>\\xd8\\xa0\\xee\\xf7|m\\xfd!\\xce\\xae\\x06c\\x1c$f\\xccG\\xc8K\\x04<1\\xff0\\xdc\\xdf\\xfb\\x1c\\xedC\\xf7\\xd3\\xef;\\x86\\xe7\\x16\\xc1h\\xdd=|\\xa9\\xb2\\xd2\\xc3\\x18\\x8d\\xf9\\x9bW\\x93i\\xe29\\xd76 (\\xbcO\\x07\\xd4\\xedY\\x01\\xd9B[?[TTpam\\x1b\\xf5D(\\xc8\\xbb\\xf6\\xca\\xf2\\xfenpQ\\x16\\xa6\\x88\\x18|\\xf8\\x8a\\x81=\\x8c\\x8d\\xe3\\xd5\\xb8\\xe0\\xfa\\xceN\\'2\\x0e\\x04\\xca\\xb8\\x99|\\xcc\\xd2%\\x90\\x0b\\x02y\\xde\\x96\\xf34\\xac]f|Qx\\xe9j\\x87p\\x9bj\\xdb\\xbf\\xb6\\xa5\"\\xe9\\x8a\\x0b\\xefKIC\\xefs\\xd3\\x9d\\xe8\\xe1!\\xdb\\x8e_A\\xb3\\x9f>m\\xd3\\xa9K\\x04\\x180\\xcc\\xcd\\x96\\xe6\\x1dL\\xbf\\xb0\\xfap\\x93\\xfb\\x9b\\xe8\\x93\\xdb\\xb9A\\xcb\\x0e\\xaf\\x13\\xe46\\xbem\\x84\\x9d\\xa0\\x17\\xe6\\xd4Yb9\\xcb\\xb9\\xdc$\\x12\\x1f,\\x1d\\xd4f\\x06\\xb7;\\x16\\x0b\\x00\\x9f\\xf7y}N-\\xea\\xfc\\xfc\\xbd!|E^\\xc5-\\x91P$\\xfd\\xf8\\x85q\\x8f\\xaa\\xf5\\xbc\\xef\\xebr:\\x9d\\xbfj\\x8d\\x98\\xc3\\tW\\x05\\xba\\x8b-Q\\xd9D(ywwi\\x9f\\x9b\\x02\\x91\\xb7E\\xbb\\xb7+:\\xab\\xb6`\\x8b\\xb35\\x0b\\x9b+\\xf9w\\xf3\\x02P\\xd9\\xffM\\x08\\xb2\\x00\\x96\\xf8\\xefs\\xfcxRW\\xf6\\x13|i\\xbb 0 H\"\\xf6\\xb7O\\x0b-3{+\\x9b\\xd8\\x83\\xcd\\xaa$u\\xd2P}Q\\xb3\\x10/\\x00`\\x1fB\\xb5\\x1d\\xdc^o\\x89\\xcaf\\ra5k/\\r-%\\x86\\xbc{\\xb0\\xc4\\xf0#6\\x93\\xbfPS\\xb0k\\xef\\xcad\\xc0WPG\\xda\\xa7\\t}G\\x89\\xbe\\xc8\\xbaG\\xc6\\xd7i\\x14Q\\x7f=[.\\xedAk\\x82\\xef\\xfd\\x98\\xbev\\xc7\\xa1\\xfaK\\xb9d\\xb9\\xcc\\xa2\\xa2B\\xf4\\x18\\r{\\xf6\\x12z}\\x86\\xbf\\xad\\x8f\\xc5\\xc6Yr\\xee@?\\xfeV\\x1d\\xee6\\x13\\xe0A\\xa0\\xaa\\x83\\xf7\\x9a\\x9c\\xb3\\xa3\\xe3\\xcd\\x0c+y\\xdfv\\x16\\xe6\\xe1z\\xe6R\\xdav\\xcb\\x9dt\\x1eV\\xf9\\x1fGt\\x81\\x00\\x80\\x17G\\xc5C_3\\x95_9\\xddu\\x17\\\\\\xa3gy\\xffu\\xb1\\x9f\\xe1\\x88v}& \\xb5\\xcei\\xd2\\xd5F\\x89>:\\x7f\\xe4\\xa5nHr\\x93\\x95qS\\xd7\\xc2\\xe7\\x9c\\xd11^\\xa9\\xc4z\\x04B\\xae\\xca\\xeb\\xd9M\\x03\\x86\\xad\\x17\\xf4-\\n\\xa8\\x8fNm%l\\xbf\\x95\\x1eZ\\x15\\x8a\\xa5\\xe5\\x95\\x8a\\xeb_C\\x14\\xddxK\\x1d98\\x9b\\x10\\xbf\\x1e\\xe6[}V\\x8eK\\xba\\x1ca\\xd83\\\\\\x1eYm\\x83=\\x1d\\x15H\\xb3Qg\\xa1G\\x87\\xd9Z\\x1d\\x10\\x04\\xd9\\x81\\x99\\xa9\\xae:\\xf65\\xff\\xde\\xcf\\xbc\\x16\\x7f\\x80\\xcdT\\x1b7\\xda\\xfblv9I\\xfe\\xa6\\xde\\xef\\x15\\x8f\\xa4n\\xe0\\x80\\x82\\x8a\\xbb\\xfa\\x87>M\\xe4;mv\\xb6\\x84\\x84\\xcf\\x1fr+\\x82\\xbc\\x88\\x81\\x82\\xb1l [\\x19\\x8f\\x00kF\\xe6\\xe2[\\x87*\\x95M(\\x80[\\xd2\\xcbHn\\x04\\xf0\\xd6\\x1c\\xee\\xf8\\x7fM\\xeb\\xab&\\xcebej@\\xd7\\xaft]\\xd0\\x8f\\xc4E\\x9e\\xb6@\\xeb\\x84\\x15\\xbd\\x16\\n\\xe0\\xe1\\xa5\\xc6.z\\xd2C\\xbd\\xd3\\xdd\\x05\\xce\\x8f\\x1bF_\\xad\\x9d<\\xadr\\x17d\\xab\\x13\\xc8\\xf5a7\\x17h\\x98\\xf7\\xf1\\x16\\x02\\xf2\\xc7S\\x0e\\x85m2\\x88\\x83op+c>\\xd6\\xf4\\xf9\\xd8\\xecng\\xa1\\xe7kE\\xbd\\x9b\\x12\\x9e\\x1c\\xa7\\xa50W\\x06\\x91\\x0f\\xb7\\xd8\\xc6\\xc3\\xd6\\x80\\'\\x05\\xf7\\x1e\\xde\\x96C\\xa5\\xb6\\xea&k\\xc7\\xaf\\x02\\xb4\\xa3f\\xee<\\xdc\\x91\\x16\\x88#\\xd3\\x870F\\xf4?\\xc6q\\xe5\\x03\\x00\\x00\\x89@}\\x9b\\xc0\\xa7\\xae\\x81\\xeejn\\xfe\\xee\\x94\\x0f\\x80\\x82\\x9c\\x82\\x82\\x8c\\x1c\\xe5\\xadd)\\xaf\\xa2&/\\xaf\\xa6\\xa4,#wGMNnz\\ng\\xf9\\xff,\\xf0\\x86<}\\xee\\x11\\xf6\\xff_P\\x96h\\xfd\\x8f\\xb2\\x00`\\xaco\\xaaW\\xad\\xe3\\xf2\\xea\\xff\\x00PK\\x03\\x04\\x14\\x00\\x00\\x00\\x00\\x00\\xa1\\x01IT\\x00\\x00\\x00\\x00\\x00\\x00\\x00\\x00\\x00\\x00\\x00\\x00\\x17\\x00\\x00\\x00input_data/image-parse/PK\\x03\\x04\\x14\\x00\\x00\\x00\\x08\\x00\\t\\x8aCT\\x05\\xd66\\xabi\\x0b\\x00\\x00\\xb1\\x0b\\x00\\x00<\\x00\\x00\\x00input_data/image-parse/person@1=person_whole_front_label.pngUVy<\\xd4[\\x1f\\x9e~~\\xc3\\xfc\\x8c\\x18\\xb3\\xd8\\x97Qc(C\\xc6\\x9e\\xc2L\\xf6=K(\\xca\\xd0\\x82\\xa2F\\xb2\\xa4\\x89~C\\x96kO\\xa1B(\\xaa\\xf7\\xa2A\\x96\\xb2M(\\x94\\xa2\\xe5\\x0e!K\\x91q\\xa3$\\x8a\\xb8\\xbc\\x93\\xcf\\xbd\\x9f\\xfb\\xbe\\xff<\\x7f<\\xe7|\\xcf9\\x9f\\xf3|\\xcf\\xf3\\x9c\\xe4\\xbdN\\xd6\\x9bE\\xe5D\\x11\\x08\\xc4f[\\x1b\\x0bW\\x04b\\x13\\r\\x81\\x00\\x10(\\x01\\x81\\xe0\\xd9\\xff\\x99\\x88@\\xa0\\xa3l-\\xe8\\xeeQ\\xf9\\xb3\\x05C\\xa7\\x87\\xac0\\x16\\x86\\xa2\\x8b\\xb4\\xbbO\\xd7\\xd6{\\xef\\xbb%+\\x056\\xce\\xd3\\x0eFmz\\x84<\\x17P\\x16P\\xe7\\xbc\\xcf?\\xb9\\xec\\xe2$\\xbdw\\x06 \\x15\\xf1\\xe21{P*\\xf1\\x98\\xb6\\xeb\\xad%\"}\\x8f\\xddN\\xcc:/\\x10sl\\x89s\\xd3\\xdf4\\xac\\x12\\x17\\x80\\x1b/ZK\\xc3l\\xb4\\xe6\\xa6\\x7f\\xaa\\xe8\\\\\\x1c\\x06\\xa4W\\xf5u.\\xf6\\x00\\xb9\\x8b\\xb5V\\xa5\\x99^c!\\xb1i6\\xe3\\x7f\\xaa\\x9b\\xefW\\x96}\\xde\\x10\\x84\\x8b\\x1a\\xc5X\\xa3\\x82\\xbeO \\x15?\\xbc\\x971\\xeeTW\\x8a\\xf3\\x9f\\xc1\\xc75\\x94\\x9d\\xf2\\x12\\x8b\\x0b\\x90i\\xd7o\\xbe\\xb9E\\xc6\\xe4\\x11\\xa6rZ\\xd9}u\\xee\\x835\\xf3y\\x0e\\xf5b\\x86\\x19\\x0b\\xd1\\x1f,\\xef\\xba\\x80N\\x1aY\\xd3\\xf7\\xb6\\xc6\\xaf\\x8a\\x0eH\\xbd\\xca\\xe0\\xa3\\x0e\\xbad\\xabf\\x06\\x1b)2\\xd3\\x96\\xaa^\\xc6\\xb7\\x08k\\xc1\\x12\\xd8\\xe5-v\\xa8T\\x16A\\x1f\\x14nI=8\\x90\\xb3+*dv\\x94O\\x1d\\x8e\\xd3\\x80\\xa7\\xd0\\x97\\xfa\\x7f\\xac\\xdfQ\\xf1\\x16)\\xfc\\xdc+\\x11y^%\\xf5\\x80\\xd8iU\\xa6K\\xbbF\\xb8h76\\xaa\\xda\\xbc\\xb7\\xf6]\\x9a\\x9f;\\xf0\\x16\\x8c\\x91\\xf5\\xe9z\\xd7\\xaa\\x9c\\xa1\\xc5\\xbf\\xcc\\x8d\\xe4\\x81\\x85\\xcc\\xd2\\xbd\\xc0\\xe82&\\xaa\\xfe\\xebA\\xf57\\xa4j\\xc2\\xa5\\xbb\\xaa\\xf7\\xb8aq~\\xb7\\xef{!\\xbfO\\xa4l\\x89+\\x07\\x1a\\x97td\"\\x9d\\xae\\xfc\\xf4\\x8a\\xca\\xaa\\xe7\\r\\x9aFc|9/\\xda\\xd4&\\xcf\\x9e\\x9c\\x99]\\xea\\\\\\x11Rv\\x0b\\xf5\\x01\\xa6\\xed\\x96\\xee\\xbco\\x1b\\xd5\\xff\\x92\\xd1R\\xb8v\\x13\\xc3\\x07\\xb5\\xc2B\\xbe\\x0e3\\x14l\\xc1\\xcf\\xd2-\\xef/\\xf8\\x8e\\xb5|\\xdd\\xbf\\x0b>%\\xb5\\xf6\\xed\\x8cK\\xde\\xb3\\xefN\\xcai\\xac\\xc3yfp\\xee\\xcc\\x8f\\x8a\\x82\\xa5\\x94\\x93l\\x16\\xd4$\\xb1\\x8f\\xeeF\\xd66\\xde\\xe7]\\x84\\xcf\\x83 \\xd0\\x0f\\xdfP\\xcb^\\x9c.\\x0f\\xd3\\t\\xa7\\xd9\\xc1\\x0f\\x88\\xf8%\\xe7\\x05\\x84\\x01]\\x9d\\xb9\\xf5^U.kRZ&\\x15dk\\x8b\\x0e\\xf3\\xc08o\\xf2M\\xae\\xbb\\r\\x11U\\xcau@\\xcb\\xda\\xc1\\xdeI9\\xcf\\xb7i\\x0f>\\x156B\\x92\\xd9\\xee\\x8cH\\xb0\\xbd\\xc6n\\xbb\\xb6\\x04\\x16\\xd5\\xb6\\x9dS\\xa3\\xd7\\xae\\x91\\xe7\\xc1\\x90#a\\xe2=\\x18\\x9e\\xa1O<\\xb5\\xefq)\\x82\\xd2{\\xdc\\xf4y\\xd2\\x1d\\x86?lK\\x94ZZ\\x19\\xc1\\xc9\\x00]\\x94\\xb9\\x16\\xbap\\x1er\\x84\\xda5\\x9e{\\x80\\xb1\\xd2\\xbc%\\xb9]\\xf9\\x01\\x97\\xe0HZ\\xe3#G0\\xb5R\\x8e\\xbe|\\xa4\\xd6Cc\\xd3\\x85\\xf7\\xbb/Y\\xea\\xb0\\xac~F\\xae\\xac\\xacz\\x93uPG\\xc2\"\\x84OAnx\\xfe\\xf9(d\\x04w\\xcc\\xa8\\x96&\\x1c\\x88\\x8c(\\xfd\\xf46\\x1a\\xff\\xa3\\x980\\xd0\\xae\\x12\\x8dH\\xf3\\x18\\x0b\\x0b8\\x97\\x92A\\xbc\\xcd\\x8d\\xd91.,\\x8b4=U\\x85\\r\\xc9tf\\xb4\\xb6\\x1cF\\x8b\\x19tE\\x90\\xe6/\\xa4O\\xf5u\\xc7\\x7f\\xaaS\\xebE\\xfb\\xbe\\x9b`~\\x93wN\\x02M\\xef\\xb1\\xea\\xb9\\xb5\\xd5\\x98d\\x05@:\\xf8\\x1d\\xae!\\xf8\\xd9\\xa8_\\x13\\xd7\\xbb\\x8c\\xb7y\\xc4`rF\\xdbk\\xecZim\\xabw\\xfd\\xc4\\xb4\\xb6\\xebX\\xc1\\xf6\\xe6\\xbf\\xfaM\\xd8M\\xa4\\x04h&\\xef\\xd8)\\x93\\xd2\\xd7i\\x19m2p\\xc1\\xef\\xcd\\x93\\xb7\\x17S\\xbe\\xee\\x95Q\\xc1\\xecz\\xf5\\xee\\xc8\\xe3C\\xc5\\xad\\xdc\\x90N9\\xcf\\xde\\x91;\\x1d\\xc3E\\x8d\\xdc\\x8a\\xce\\xe3\\xd2\\xbd\\xa3Z\\x1d^\\xc5\\xf5\\xdc\\xc4\\xf4\\xf0\\xd6\\xa8\\x8e\\x84\\n\\xfaT\\r5#\\xdfx\\'%&\\xa8\\xf1y\\x0c\\x0b\\xb7\\xc4?qv=2\\xe3X\\xb7N\\\\%\\x90E\\xd9\\xbdUJls\\xb4\\xa8\\xd8\\xee\\xc5\\xa0\\x80\\xbe*\\x11\\xabB\\xe3\\xba!\\x83\\xd1m\\xe7\\xe5{\\xc4~B\\xa91?:Q\\x86\\xf0\\xcb\\xb5\\xf2:3{\\xe8\\xba\\xec\\x02VF\\x91\\xa6\\xfb\\xd1\\xb6\\xe8\\xa5\\xe9\\x19\\xac\\x97\\xc1\\x05]\\xd5\\xbec;~\\xa2\\xca\\xe5\\xb9w\\xb1\\x81\\xec\\x14Z\\x0e\\xe2@\\xaa9\\x04f\\xd10\\x120\\x85\\x10\\xac\\x83U\\xc5X\\x00t\\x05p\\xde\\x9d\\x83\\xccVe\\xae\\xbe\\xc8w\\x18\\x8b\"a:\\x0e1f\\xa5\\xee\\x80%=df\\x94\\x89\\x00\\x8c\\xb0(\\x7f-\\xce\\x92B\\tXbCL\\x02\\xd9^\\xe8\\xf2\\x11`\\xca~\\x8cob\\\\\\xc0})\\xa0\\xaa\\xb8\\xf3\\x9a{!\\x0b\\xc1\\xba\\x10XE\\xf0jEn\\x87\\xd5\\x055\\xdb3\\xab\\xd9\"\\x12v\\x1b\\x1b\\xda\\xc3\\x97\\t\\xbb\\xe56\\xf6\\x13C:\\xb9<\\xb2#\\xfe\\x06\\xb2\\x07\\xa0\\xfc\\x9b\\xec+4<\\x04R\\x1bSv\\x1cE~\\xf1\\x96?/\"Q7D\\xf4\\xe6\\xd4\\xaf\\x8eO\"\\xaf\\r\\x9eH0\\x1c\\x19W\\x1f\\xb7<of}\\xf2\\x11\\x05\\x16\\x01\\xe2x\\xd3\\'\\x1ck\\xb4\\x1d\\x8e\\xc2J\\x9b\\xf4\\xf2-\\xd2[]\\'\\xcdjn\\xc4JK\\xc7~\\xac\\x99\\xb3\\xcf3W\\x8eUR]\\xc5\\xce\\x0f=\\xcb_].\\x17\\xf2=\\x10\\xa8y\\xdd\\x9f<\\xb7\\xf2\\xf8\\x87\\x1a\\x952\\xa9\\xe3/\\x95\\xbev1~\\xd4j\\x8d\\x93y\\xb4\\x07\\x1e\\x97n\\xdb\\\\2o\\xdc\\x87\\xd4\\x80s59\\x14IhU\\x92\\xe3\\xa8\\xcb\\xb6\\x1bh\\x82\\x94\\x12\\nO\\xef/\\x0e\\x94\\xd8-f\\x1a\\x14.\\xbf\\x15\\x1e\\xd6dN\\x18\\x93\\x89\\xb0\\xb8\\xe6\\\\\\xdf5O0%\\x87\\xa3\\xac\\x8a\\x8c\\xae|\\xfd\\x17RI\\xa3\\xa1\\xa7*)\\x8d\\x96\\xbe\\xb3\\xa3\\x14\\xca\\xa1\\x8c7\\x8a\\xe5\\'L\\xe1\\x8d0\\x91pi\\xfa\\x87kY\\xdcB)>5%J\\x8f~E;\\xa9\\x9evIT\\xc90\\xe5\\x8dS\\x91\\xf9\\xe6N\\x88R}\\xb9\\x0e\\xd3\\xa0\\x93\\x98\\xe9>G;\\x9e\\xcb\\x11z\\x8c\\x1c4\\xa4\\xfb\\xc2\\x01\\x04\\x85A0\\xd1\\xb1\\xfd1.0\\x03\\xe6.\\xb9Q\\x0b\\x95\\xd3\\xc3\\x1d\\x19\\\\\\x85\\xe0\\x11p_\\x1b\\xf1\\xb5\\xa8\\x82~\\x8a\\x83\\x06\\x13_\\x08|RL\\xd0S\\xc5X\\x01\\xf4\\'\\xe8\\x99C\\xc2?\\xcby\\xe5\\xfd\\xd4t\\x88\\xf2\\x16\\xd8\\xd7\\xa6\\xfeMT\\xe1>&\\xdfs\\x8c\\xf8\\x1e\\xc4\\xfa\\x88\\xef\\x02T1\\x1d\\xce\\x8c\\xe7\\xb6^\\x90\\x85\\xac\\x16\\'Rq\\x96\\x07\\xa4y\\xbe\\xd2\\xc7\\xf1\\x8d\\xe8\\x7f\\xe0\\xf9\\x02I\\x1d(\\xcc\\x9e\\xe2\\xae\\x0e\\xa0\\x13\\xa3\\xca\\xe9\\nM\\xc2\\xa2\\xb6\\xc2D,\\xea=\\x99\\xc3/\\x9ec\\xc2_\\x95SC\\xcb\\x02\\xa1\\x15\\xc7yKd\\xa1\\xff9\\x03?\\x00\\xae\\x03!JM\\xba\\x07\\xe0\"h\\x17{\\xc6\\x1fG\\x19{\\x81O\\xf7\\xb9\\xdb\\xec\\x06\\xce(\\xe2\\xb6p\\xf6\"\\x9e\\x919\\x01\\xca\\x9bw\\xaa\\xce\\x92\\xe6\\x82\\xc5\\xef\\xe2\\xb9\\xd5\\xd0\\x99\\xc3\\xa2pN\\x8d\\xcd\\x05\\xae+\\xc1\\xc7\\x10>\\xd4x\\xb7\\x9c\\xb6\\x83\\x05\\x16:\\xb5I\\x12\\x82\\x07\\xc0O\\xe4\\xbe \\xeb?\\x08|\\x0b?\\xd8T\\xf2\\x8c\\xa4L\\xac\\xd6\\xb3J\\xe8\\xa1Z_\\xa8x\\xe8[\\xf7q\\xecw\\xaa\\xd7\\x81\\xa2D\\xba\\x04\\x0ck\\xce\\xbd.\\xda\\x8f[pbT\\x08\\x8d{4\\xc7+F\\xe4\\xc5q\\xf9\\x1f\\x8c\\xbc\\xff\\xa36\\x87\\xfb\\x9d\\xcc\\xd7\\xe0\\x1cB(\\x82O\\x94\\x13\\xf2\\\\\\x9b\\xe3[?W\\x05\\xb8\\xb7W\\x02h\\x0f\\xe62x\\xed\\xb0\\x16\\'\\n]^H[\\x19J\\x15<\\xa8\\x93\\xb0A\\x8d\\xcdWp\\xf0\\xb0&\\'\\x1a\\xed\\x0e\\xb8\\x1c\\xc3\\x06\\xbe\\x02M\\x90\\xc2\\xc3g\\x87bF\\xe4(s\\xf3\\xae\\x0f\\xe659,\\xe8\\x86e_I\\xc2\\xefh\\xbd\\x1d\\xfe\\x9epc\\xc1\\x14\\x8f\\xc5tb\\x98\\xc4\\xd5\\x01\\xf7\\xa60\\xeb\\x98B\\x1e\\x87\\x8e[\\xf8\\x02?\\xfe\\xd3\\xc8\\x1f\\xbb\\xadT\\xfb\\x98\\x94\\xb8\\x9bQK\\xc2\\xcd\\x1c\\xeaQW\\x99zqJ\\x89\\xf6i\\x95\\xe6!\\xa4\\xbdBh\\x95\\xcf\\x19\\xb1\\x88\\x8a\\xda\\xef\\x1aQ\\x18T\\x1d\\xb4\\xdb\\xac\\x9e\\xd3\\xba\\xa8\\xf7\\x9a$wC\\xe87\\xa71\\x91\\xc6\\xf2\\x9dzRK\\xe7\\xdb\\x97\\xcb\\x0f\\xcaS\\xbe.\\r\\xba\\xaabZ\\xc2x\\x88\\xe4\\xdc{\\x81\\xeb\\t\\x7f5\\xa5]\\xd7\\x9d8\\x86n\\x1a3\\xbae\\xad7\\x12K\\xfd\\x10C\\r[7\\xa0\\xd6\\xbd\\x99\\x93\\xbd^-3\\xd0\\xbd\\x9f\\x9ce\\xf9\\xd9\\x8e$\\xd3\\xbc\\x8cQJ\\x1f\\xdb%-\\xb4Z\\xbb0f\\xac\\xe6\\xc8d!ug\\xda\\x1d\\xfb\\xd2\"\\xf9{\\xa2C\\xb1\\xe4\\x87\\xb7\\'\\xf7!DH\\xd5\\xab\\xd7\\xedx=\\xa4\\xbe\"\\xa1\\x17\\xaa}\\xa0\\x08l\\xe1\\xd8w\\xa1\\x1b\\x97\\xe4\\xb9h\\x03\\xd7\\xde\\x8c\\x88K\\xc6\\x06\\xea$\\n\\x86\\x85!\\xf0\\xeaA\\xa2O\\x7f\\r:\\xfe*\\xadhVv\\x1a\\x02\\x07\\xb7\\xfc\\xea\\x8a\\x7f \\x01\\x88e\\xfa\\x1c=\\xdc\\xf8\\x9b\\x0b\\xe02\\x03\\x9e\\x9e\\xe8U\\x10t\\x99\\xd3\\xd8\\x0f\\xbc\\x9a\\xd7\\xb8sA\\x06>\\xca\\xe5\\xbe\\xec\\xea\\xf8\\x9dx:Y:\\xc9\\xd7P\\xe7\\x01-\\xbf\\x18P\\xdb\\xff \\x7f\\x9c%b\\xaf#\\xec\\xb3\\\\\\x8a\\x15\\x96\\xd5\\xc84\\n\\xf6p8/\\xf2L\\xb2\\xff\\xa4\\xb8\\x94M\\xf0\\xb3\\xa4\\x97P\\xcf\\x11f\\xd7\\xe3\\xf6v\\xfb\\x01\\xee\\xd8P\\x9e[tn\\xcb\\x13\\x1f\\x96\\xc9\\x9a\\xf9\\x90\\x99X:{4z\\xc7\\xab\\xe9\\x807\\xb5\\x9f\\xc87\\xa2\\xcd\\xc2\\xbb\\xf6\\xbf\\xfe\\xa0\\xf5W\\xfd\\xc3`\\x06C<\\xb1 {}y\\x99\\x9e\\x07\\xd7;qX\\xce\\x13\\xdfb+j\\xd7\\xec\\'g\\x96w\\xce\\xf3p9\\xd2\\x95}\\xfb\\xbe\\xf4\\x9e\\nYJ\\xdb\\xc5\\xaf\\\\}\\xe0?\\xd1x\\\\\\xf5\\xb3\\x8f{*\\tH\\x1b\\x1dF\\xdal\\xc9\\x94\\x86\\xc0b\\xe9.\\xef&k>\\xb2:\\xdb\\x92\\x18\\x82\\xa9A\\xdd\\xbax\\x90\\x182o\\xca\\x90\\xb6q\\x96\\x83\\xcb]\\x1c\\xb6f\\x12N\\xc3\\xe5\\x0fV\\xd8>D3,\\xea\\x9251H\\x7fJ\\xd2F\\xe0bL4Is\\xc8m\\x15\\xb4\\xea\\xd6\\x8e1\\xcc\\xdc\\x05\\x070\\x9fP\\xb3hN$\\x0c)\\x9b\\xf6T\\xee\\x05)\\x13\\xbb\\xe1\\x80\\xc7\\xe1\\\\\\xc7\\x8c*\\xc8\\x15\\xdds\\x01do\\xf8\\xa8 \\x1bk\\xb8\\xd4\\xec\\xca\\xcf\\xf2\\xedi \\x1b\\x83>\\xe2c\\xe0kN\\xd1\\x16\\x11\\xa4\\xa9\\x86\\xb65\\x12\\x87v\\x00*\\xb8\\xa4M\\x13\\x84<\\xa4 \\xb2\\ty\\xa5lEd\\xfaR<\\xa2\\xd8\\x83\\x07\\x96\\xc1\\xeeD\\xbf7\\'i\\x1b\\xe1{\\xc9\\x81\\xe8\\x1b\\xa4\\x86kP<1\\x99\\x0f,\\xb3#p\\x86p\\x9c\\xa9\\xba\\xdd\\xed\\x1c]89\\xf3\\x97)\\x17\\xe3\\x1bx|\\x03\\x03\\xfa\\xb7B\\xdbm\\xda\\xb8\\r\\xf5\\x04v\\xb3C>\\x05}\\xbf\\xd3\\x91\\xd1\\xa5\\x12\\xdfn%\\x8b\\xb3\\x89l\\xa8\\x13\\xbe\\xc9\\r7\\xe0/\\x0e\\xe0\\x96\\xc1K.\\xcb\\xd1~\\xb9\\x9a\\xdb\\x7f\\xa9\\xbdG\\x9d\\xe9>\\xb9\\xbc f\\r\\xdf\\xf5P{g$\\xaa\\x10\\xfe#qDq<\\xec\\xcb\\xd96\\xec\\x8b\\x8b {\\xe2\\xe7\\x19)\\x15\\x16\\xe4`\\xd0?\\x07)$\\xda\\x7f\\xd4\\x15\\xbd\\xf54\\xb0\\xce\\x99\\xdc\\x97E\\x85\\x7f\\xfd\\x1e\\nh\\xff\\x11\\xee\\xdfT\\xc0\\r\\xbe\\x85\\xef\\xba\\xfc\\xea2p\\x95\\x81\\xeb\\xc2Wj\\r\\x80e\\xe6\\x00\\xfd\\xb4(i\\xfbB>\\x90L\\xc4\\xd9\\xe0+\\x9c\\xba\\xc0\\x8f\\x02\\xae\\t\\xf40\\xb9n\\x99\\xc3eif:0\\x0cw\\x97e\\x8bN<\\xb2e\\xbc\\x95\\xea\\xbaB+l\\x9bI\\xb4cX\\xd9\\xa1\\x17\\x02\\x15J\\x91\\xd1D\\x98\\xe8\\x00\\xe8\\xbePq\\x02:\\r\\xb7\\xca\\xbdu\\x80\\x1clC`\\xf1\\xd7L\\x01\\xfcs\\xc9Y\\xb4kW\\xba\\xc9> \\xcf\\xe4\\xaa\\xe5\\x15n\\xfe\\xdf\\xf4?p\\x8b\\xd0U=\\xf3\\x1d\\xe3uV\\xb1\\xc0\\x10\\xa6lPs\\xa8#W\\t\\x06m[\\xb5\\xb7\\xfd\\xdb\\xed\\xe2\\x80\\xbdr\\x92\\xfa\\xaf\\\\\\xfb\\xbfG\\xf0/\\xe8\\x01\\xd9\\x85\\x99\\x1f%\\xf3\\x08\\x1bj\\xff\\r\\xdd\\x1a\\x99G\\xdee{\\x12\\xa1\\x8d)\\xb5H\\xa7\\x85F}\\xdb\\xb2\\xf8Y\\x0e\\xca!\\xe5\\x7f\\x0faC\\xb4\\xf1\\x87\\x15\\xec;;\\x80\\x9d\\x02\\xc1\\xb0\\xb0\\xc2\\xe4\\x12j]\\xc8\\x1a\\xa9z\\xe5\\x1c\\xa9\\xa4\\xe5\\xd7_\\xdc\\xd6\\xd2\\xc9\\xa2r\\x0f\\x83\\xfd_PK\\x03\\x04\\x14\\x00\\x00\\x00\\x00\\x00\\xaa\\x01IT\\x00\\x00\\x00\\x00\\x00\\x00\\x00\\x00\\x00\\x00\\x00\\x00\\x10\\x00\\x00\\x00input_data/pose/PK\\x03\\x04\\x14\\x00\\x00\\x00\\x08\\x00\\\\\\x8aCT\\'\\xd88\\xb2c\\x06\\x00\\x00\\xcf\\r\\x00\\x00:\\x00\\x00\\x00input_data/pose/person@1=person_whole_front_keypoints.json}\\x97\\xeb\\x8e\\x1dE\\x0c\\x84\\xdf%\\xbf\\x87Q\\xbb\\xbb\\xedn\\xf3*\\x08E\\x11Y \\x02e\\xa3\\x04!!\\xc4\\xbb\\xf3\\x95\\xe7d\\xcf\\t\\x89P~\\xecf<\\xe3KU\\xf9\\xb2\\x7f\\xbf\\xfa\\xf3\\xe9\\xe3\\xa7w\\xcf\\xef_}o\\xe78^}xz\\xfe\\xf0\\xfb\\xd3\\xab\\xef\\x7f\\xf8\\x9b_?~z~\\xff\\xfa\\xdd[\\xfe\\xf7\\x9d\\xfd\\x88\\xed\\xf9\\xd3\\xd3\\xeb\\xdf\\x9e\\xfe\\xfa\\xf0\\xfc\\xee\\xfd\\x1f\\x9f^w\\x19l\\xf5\\xd3l\\x1f\\xbe\\xce\\xd5{\\x1c\\xed\\xcc\\x16\\xb9\\xfaa\\xb1\\xf8u\\x1e\\xd6\\xc7\\xe9\\xee\\x18v\\xa4\\xcf\\xe0A;#6?\\xf5\\xa5\\x9e\\x0f\\xb3\\xb6\\x8f\\x8cs\\x8c1\\x8f\\xde\\xe2\\xf4\\xbee\\xc85\\xf7<6\\x86\\xd91\\xec<\\xe7\\xb4\\n\\xb1\\xf5E\\xb7<\\x07\\x91\\xfa<\\xd3\\x16\\xcfWb\\xe1\\xf9\\xf0\\xd3\\xdc\\xb0\\xf3hW\\xe8\\xed\\x8bX}\\xcau\\x1c=\\xfb9\\xda\\x15\"\\xf6T\\xb2qN\\xde\\xec\\xc4\\x8a2\\x04\\x11qe\\x83$}`\\xb8\\\\\\xb6\\xd33I\\xf3\\n\\xda\\xfd\\x98\\xe6d\\xa7\\xba\\xa3GL\\x0c\\xb6\\xce-@\\x9a\\x9f\\xd3e\\xb0\\xe1-\\t\\xda\\xc8\\x06`\\xfa\\xdeg\\x1b\\xf5\\x85E6\\xbb\\x19\\x02W\\xfd\\x9ck\\x96\\xab\\x04\\x1d\\x0c\\x04_\\x86+#\\xb8\\xbeh\\xe9m\\x19AB\\xd8\\x8dc\\x82:\\xe9\\x17\\xe8\\xdd\\xc0v\\xf3\\x9c$\\x9c<\\xdbJ\\x19xm\\xe4a\\xbc\\xb9{\\x1e\\x1eg\\xa7\\x1c!b\\xe6\\xd4\\x07\\x128;<\\xf9\\xae\\x10\\xb4\\xb1\\x81\\xf2\\x7f\\xff\\x19\\xb8w\\x98\\xaa\\x12\\xb7\\xc2\\xb7\\x9d\\xcd{\\xa2\\x91\\x9f\\xdf\\xfc\\xf4\\xb5F\\xe6>\\x1d\\xa2\\xf8\\x01\\x9f^\\x95\\xf7\\xd9(\\x83\\'\\x8dB}\\x82\\xba\\xb2\\x8a\\xb6\\xf6\\xf5X\\xef\\x07\\xe9\\xaf\\x98\\x05\\xfa^caH\\xb4\\x84a\\xf1\\xe6\\\\E\\x93\\xfb\\xa2\\x0c7\\xde\\xb1c\\x8dsFe\\xb4\\xfa\\xda\\x8d\\xba\\x1d\\xde\\xe2X\\x08e\\\\\\x12Y\\xcd\\xd0\\x90Q\\xf0L\\xb45\\xcf9ZU\\x0e\\xda\\x90a1\\xcf=\\xf7\\xb1\\x85l\\xf1\\x8apv\\xf8\\x01\\x11\\xb0\\x13\\x07\"l\\xa0&\\xc3l\\x1d\\x8cm-\\x14p\\xc0*4\\x97\\'\\x1c\\x8f\\x8b\\n\\xa9\\xd7\\xcf,7\\xe0C\\x86\\xf8:\\x1b\\n\\xdb&\\xc1X\\x19b\\x93\\xb2\\xc9\\x81\\xafc\\x05\\x9a\\xed\\x02c!\\xf2\\xc4Q6\\xfcS\\x1b\"XcW\\rs\\x0cqg\\x92\\xd0\\x11~z\\xf8U\\xb4\\xbb\\xc8\\x16\\xa9\\xc8\\x1c\\xfc:,\\x0b&JB\\xde2\\x8cm\\xc2\\x9b\\x86\\xc8\\xc2o\\x87\\\\\\x89\\x01\\xe4=\\xb1Ge\\x15k\\xf9\\x10Nt1\\xd5O8\\xd8\\xe5j\\x85o\\xf2\\xb70\\x12L\\x19P\\xa4\\x90\\x85\\xa1\\x00\\x1f#\\x9d\\x904\\xc9\\x9a\\x8e\\x90\\x81&\\n\\xc8\\x0b4F\\xa1S\\xd2\\xad\\xc6g\\x1e,\\x13\\x80t\\xe5r\\x19\\x10q\\xd5\\x07\\xfb\\x84\\x80\\xb5\\x00\\xd9id\\x1bU\\x9f\\xc5VR@;\\xc9\\xfan\\x80\\xf3T\\x08\\xc0\\xe6[y\\xda\\xcbU\\x9f\\xd3T>\\n\\xdc\\xd1\\x88\\xadI\\xe1\"i\\xd2\\xc7\\xa2\\x83\\xf15\\xe1\\xe7.M\\xcd\\x16\\xd1w3x?\\x9bW\\xb7\\xe6`X\\xf42t\\xe8\\x90\\xb0\\xec6\\xa6f\\xf3q7\\xe0\\xaa\\xaf\\xf24s\\x08\\x10\\x1e\\x80P\\x8c\\xb3\\xafk\\xe8X\\x9b\\xf2\\x04 \\x89\\x8aQ\\\\\\x1b\\xd5\\xde\\x1b\\x9e\\xc4\\x06T\\xe7\\x0e\\x19:}%WV3\\x07y/\\xe6\\xc1\\xc3sF\\x1d\\xb1ly\\xcdXBx\\xf7\"\\xc3\\xf1\\x14E\\x1f\\x1dRs\\xc2\\xb2\\x0c\\xddi/b\\x8bI\\xe8\\x8b\\xd34\\x83T\\xdeh\\x95\\x14\\xd9\\xd0\\x83\\x18\\xe6\\r\\x8f\\xd8\\xaa\\x8e\\t\\xc9(\\x17P\\x99\\xf36*\\x1a\\xcdi\\n\\xba\\xae\\x91\\xd3\\xf5|\\x8f\\x11\\xf4\\x81:\\x8cN\\xd0\\xf3\\x1eYs>\\xe8\\xb4Yt\\xd3\\xdc.\\x9e\\xb78B7\\xa1E\\x01\\xdd\\x8c\\x05EX#kj3?\\xb5In\\x9dt\\x0f\\xbd\\x99\\xcd)\\x03@\\x90\\x93\\x9a\\x7f\\x8e\\xea\\xee\\xbeL!\\xe8\\xae\\xd4\\xb4\\x1b\\x88s\\\\I1S\\xf3%\\x06\\xacz\\x8c\\x8aa\\xdd\\x04-\\xaa5F\\x90\\xb6Y^\\x86e\\xae\\x11\\xc5\\xac1F,\\\\\\xc5m\\xf9ta[\\xec)(\\xecRo!\\xe5I\\xcb\\xde\\xd9\\xdb\\xc8\\xb9\\xd2\\x85\\xab\\xa9Y\\xbbH\\x97\\x17\\x1e\\xbeh=\\x8b\\xef A\\x85\\xd8y!\\xb5\\xe9\\x1c\\x8d\\x1c\\xbd\\xf9\\x98\\xd3\\x16I/\\r#9\\xf4qAK\\xb6\\xfd%\\x02?\\xe6\\xae\\xfe\\xde\\x8bU\\x1b/9a`_\\x94!S#\\xf6s\\x15\\xf7/\\x92\\xe6m\\xd7F\\xdcl\\x82{\\x8c\\xb4dh\\xbc\\x00\\x82G\\x9a1.WU\\x85 \\xca\\xfe0\\xa7\\xa0\\x80\\xa1w\\x0f~7\\x8c\\xd0\\xcd\\xa0t[\\xff\\xd2\\xd0Z\\xf3*\\xb0\\x01\\x80Fn\\xdf\\xeb&\\x85\\xbcw\\xc0\\x17\\xaez\\xef\\xdf\\x8e\\x91\\x92\\xe17\\xb2\\xf2\\x9d\\xd7\\n\\x95$\\x1e[ci\\x19\\xd9fe\\xcf\\xf9 \\\\v\\xd0\\x9a\\xcer\\xfb\\xf5\\xcd\\xfb\\xb7\\xaf\\x7f\\x7f\\xfa\\xf9\\x8f\\xffn\\xb8>\\x9d\\xde_\\x1c\\x16\\\\\\x03%j\\x08\\xa69\\xd8r\\x8c\\xe0y\\x8cV\\x95\\xe8\\xf9\\xa60\\x0e\\x8d\\x11\\xd5.\\x83\\x9d_Suw\\x03*=fV\\x1d\\xa3N\\x9a\\xea2\\xb6P\\xbb\\x9d4\\x0c\\xcf\\xc1=\\x925U\\x17\\xbc\"\\x9a\\xae4\\xf5\\x81\\x02\\xd5F\\\\\\xa1\\x85\\xafS\\'\\x15\\xe0\\xe5\\x03\\xe66b\\xc7`4\\x8da@\\x9f\\xeb\\xaansu\\xbc\\x84\\xc6\\x1e\\xa5\\x90f::\\xba\\xcb\\x01\\x8e:]V3\\x15=t}\\xa0~\\x04Qn6\\xb5F\\xa9\\xd0\\x95\\xd1\\xd4\\x8bQ\\x01\\xc6%\\xdb\\xc6~\\x8a\\xaaA\\xa3dL\\xc1P\\xeb\\x1e?\\r\\xd4\\xe8S\\x18P\\x84^\\x9b\\x8f\\x85\\xc8\\xba\\xc4\\x13\\xdc\\xb1\\xc4Y\\xddj\\xa5\\xfa`\\x84\\x0e<\\r\\xf8Th\\xe0\\xbem\\xa5\\xcc[\\x11\\xdb\\xf5\\x05\\x17\\xc2u9p\\x16\\xe4\\xb8W\\xc1\\xe9\\x02\\x0c2\\xd0|kW\\x15\\xdaN,\\x1cb\\xc9\\x15\\x83\\x815\\xd6\\xe7P\\xdf\\xe2I\\x8d=\\xea\\xb93U\\xef\\x94\\x92T-\\xf6\\x19\\xd6Z~V\\xc7\\xc7w\\xbf\\xfc\\xfa\\x95<te\\xb0%\\x91\\xc7 \\xdf\\xeb\\xda\\x18\\xf4\\xec\\xc1\\x06\\xefj\\\\\\x84\\xc8\\xf8)\\xad\\r\\x81\\x8c\\x8cb*z\\x03\\x01\\xbf\\xa6-\\x93L\\xcfSg\\xcd\\xe0v\\xce:\\xe3B\\x97#\\xa73[{\\x15\\xd9\\xd6\\xaf\\t\\x02-~09\\x97\\xdc\\x98\\x8e\\x93r\\xc3$Zu\\x944\\xb5;[\\xe5\\xbc\\x1d\\x1b,3\\xda>52\\xe6.\\xf2\\xd0K\\t0\\xf6CBS7YE\\xb8\\xb6\\x1b\\xc7O\\x0eR\\x11\\xb0\\xec\\x9e\"o%\\x03c\\xd7|\\xb8\\xe4\\xe1u\\xdce\\xe3f\\x1b:\\x94\\xf6 \\xa68\\xa2\\xa8\\n\\xb1\\x9c\\xde\\x05\\x1c\\xf44+6\\xb4\\x14GC\\x17\\x91\\xebL\\xcf\\x87\\x10\\x8b\\xeb\\x86\\x17u\\xd55+&V\\xf5\\x16=\\x84\\xe0\\xb6VWzE\\xde\\x970\\xf9\\x93\\x04\\xd4@\\x1bG<\\xe7\\x08.\\xaa9:\\xb9\\x8fur\\xf5\\xb1F\\xc1t\\xbbOs?\\x06@\\x1b\\x9c\\x1ez\\xee`\\xb4\\xd9*\\xd3/\\x05\\xb4\\xcc\\xcb\\x0fzy\\x08<jD\\xea\\xca@\\xfb\\xe3\\xeb?\\x9d\\x86T\\xf1\\xf5\\xb5\\xfc\\xf9\\xf1\\xb7\\xe6\\xcc\\x17\\xb6\\xff\\xaa\\xec2\\xfe\\xf3\\xe3?\\xff\\x02PK\\x03\\x04\\x14\\x00\\x00\\x00\\x08\\x00n\\x01ITs9\\xb8\\xa1-\\x00\\x00\\x00:\\x00\\x00\\x00\\x19\\x00\\x00\\x00input_data/test_pairs.txt+H-*\\xce\\xcfs0\\xb4-\\x003\\xe2\\xcb3\\xf2sR\\xe3\\xd3\\x8a\\xf2\\xf3J\\xf4\\n\\xf2\\xd2\\x15\\x80 9\\'\\xbf$\\x03\\xa8\\x02LC\\xa5\\xb2\\n\\xd2\\x01PK\\x03\\x04\\x14\\x00\\x00\\x00\\x08\\x00e\\x01IT,\\x9ez\\xfb.\\x00\\x00\\x00;\\x00\\x00\\x00\\x1a\\x00\\x00\\x00input_data/train_pairs.txt+H-*\\xce\\xcfs0\\xb4-\\x003\\xe2\\xcb3\\xf2sR\\xe3\\xd3\\x8a\\xf2\\xf3J\\xf4\\n\\xf2\\xd2\\x15\\x80 9\\'\\xbf$\\x03\\xa8\\x02LC\\xa5\\xb2\\n\\xd2\\xb9\\x00PK\\x01\\x02\\x14\\x00\\x14\\x00\\x00\\x00\\x00\\x00\\xc1\\x01IT\\x00\\x00\\x00\\x00\\x00\\x00\\x00\\x00\\x00\\x00\\x00\\x00\\x11\\x00\\x00\\x00\\x00\\x00\\x00\\x00\\x00\\x00\\x10\\x00\\x00\\x00\\x00\\x00\\x00\\x00input_data/cloth/PK\\x01\\x02\\x14\\x00\\x14\\x00\\x00\\x00\\x08\\x00\\xe7\\x90ET\\x9a\\xb03\\xb9\\x00\\x1e\\x00\\x00\\xe6\\x1e\\x00\\x00(\\x00\\x00\\x00\\x00\\x00\\x00\\x00\\x00\\x00 \\x00\\x00\\x00/\\x00\\x00\\x00input_data/cloth/cloth@1=cloth_front.jpgPK\\x01\\x02\\x14\\x00\\x14\\x00\\x00\\x00\\x00\\x00\\xb8\\x01IT\\x00\\x00\\x00\\x00\\x00\\x00\\x00\\x00\\x00\\x00\\x00\\x00\\x16\\x00\\x00\\x00\\x00\\x00\\x00\\x00\\x00\\x00\\x10\\x00\\x00\\x00u\\x1e\\x00\\x00input_data/cloth-mask/PK\\x01\\x02\\x14\\x00\\x14\\x00\\x00\\x00\\x08\\x00\\xa4\\x19ET\\x83<Z\\x99\\xe1\\x19\\x00\\x00\\x9a\"\\x00\\x002\\x00\\x00\\x00\\x00\\x00\\x00\\x00\\x00\\x00 \\x00\\x00\\x00\\xa9\\x1e\\x00\\x00input_data/cloth-mask/cloth@1=cloth_front_mask.jpgPK\\x01\\x02\\x14\\x00\\x14\\x00\\x00\\x00\\x00\\x00\\x94\\x01IT\\x00\\x00\\x00\\x00\\x00\\x00\\x00\\x00\\x00\\x00\\x00\\x00\\x11\\x00\\x00\\x00\\x00\\x00\\x00\\x00\\x00\\x00\\x10\\x00\\x00\\x00\\xda8\\x00\\x00input_data/image/PK\\x01\\x02\\x14\\x00\\x14\\x00\\x00\\x00\\x08\\x00@-ET\\xaf\\xb0\\x03\\x1f\\xb3\\xfe\\x00\\x00\\x96\\xff\\x00\\x000\\x00\\x00\\x00\\x00\\x00\\x00\\x00\\x00\\x00 \\x00\\x00\\x00\\t9\\x00\\x00input_data/image/person@1=person_whole_front.pngPK\\x01\\x02\\x14\\x00\\x14\\x00\\x00\\x00\\x00\\x00\\xa1\\x01IT\\x00\\x00\\x00\\x00\\x00\\x00\\x00\\x00\\x00\\x00\\x00\\x00\\x17\\x00\\x00\\x00\\x00\\x00\\x00\\x00\\x00\\x00\\x10\\x00\\x00\\x00\\n8\\x01\\x00input_data/image-parse/PK\\x01\\x02\\x14\\x00\\x14\\x00\\x00\\x00\\x08\\x00\\t\\x8aCT\\x05\\xd66\\xabi\\x0b\\x00\\x00\\xb1\\x0b\\x00\\x00<\\x00\\x00\\x00\\x00\\x00\\x00\\x00\\x00\\x00 \\x00\\x00\\x00?8\\x01\\x00input_data/image-parse/person@1=person_whole_front_label.pngPK\\x01\\x02\\x14\\x00\\x14\\x00\\x00\\x00\\x00\\x00\\xaa\\x01IT\\x00\\x00\\x00\\x00\\x00\\x00\\x00\\x00\\x00\\x00\\x00\\x00\\x10\\x00\\x00\\x00\\x00\\x00\\x00\\x00\\x00\\x00\\x10\\x00\\x00\\x00\\x02D\\x01\\x00input_data/pose/PK\\x01\\x02\\x14\\x00\\x14\\x00\\x00\\x00\\x08\\x00\\\\\\x8aCT\\'\\xd88\\xb2c\\x06\\x00\\x00\\xcf\\r\\x00\\x00:\\x00\\x00\\x00\\x00\\x00\\x00\\x00\\x01\\x00 \\x00\\x00\\x000D\\x01\\x00input_data/pose/person@1=person_whole_front_keypoints.jsonPK\\x01\\x02\\x14\\x00\\x14\\x00\\x00\\x00\\x08\\x00n\\x01ITs9\\xb8\\xa1-\\x00\\x00\\x00:\\x00\\x00\\x00\\x19\\x00\\x00\\x00\\x00\\x00\\x00\\x00\\x01\\x00 \\x00\\x00\\x00\\xebJ\\x01\\x00input_data/test_pairs.txtPK\\x01\\x02\\x14\\x00\\x14\\x00\\x00\\x00\\x08\\x00e\\x01IT,\\x9ez\\xfb.\\x00\\x00\\x00;\\x00\\x00\\x00\\x1a\\x00\\x00\\x00\\x00\\x00\\x00\\x00\\x01\\x00 \\x00\\x00\\x00OK\\x01\\x00input_data/train_pairs.txtPK\\x05\\x06\\x00\\x00\\x00\\x00\\x0c\\x00\\x0c\\x00\\xba\\x03\\x00\\x00\\xb5K\\x01\\x00\\x00\\x00'}"
            ]
          },
          "metadata": {},
          "execution_count": 19
        }
      ]
    },
    {
      "cell_type": "code",
      "source": [
        "!unzip input_data.zip\n",
        "!rm input_data.zip"
      ],
      "metadata": {
        "id": "Xw0iGamXzMFK",
        "colab": {
          "base_uri": "https://localhost:8080/"
        },
        "outputId": "fe74128f-fa99-432c-ea05-f23d97c0c62c"
      },
      "execution_count": 20,
      "outputs": [
        {
          "output_type": "stream",
          "name": "stdout",
          "text": [
            "Archive:  input_data.zip\n",
            "   creating: input_data/cloth/\n",
            "  inflating: input_data/cloth/cloth@1=cloth_front.jpg  \n",
            "   creating: input_data/cloth-mask/\n",
            "  inflating: input_data/cloth-mask/cloth@1=cloth_front_mask.jpg  \n",
            "   creating: input_data/image/\n",
            "  inflating: input_data/image/person@1=person_whole_front.png  \n",
            "   creating: input_data/image-parse/\n",
            "  inflating: input_data/image-parse/person@1=person_whole_front_label.png  \n",
            "   creating: input_data/pose/\n",
            "  inflating: input_data/pose/person@1=person_whole_front_keypoints.json  \n",
            "  inflating: input_data/test_pairs.txt  \n",
            "  inflating: input_data/train_pairs.txt  \n"
          ]
        }
      ]
    },
    {
      "cell_type": "markdown",
      "source": [
        "## Creating cloth mask"
      ],
      "metadata": {
        "id": "rczaWRigv0b5"
      }
    },
    {
      "cell_type": "code",
      "source": [
        "img = cv2.imread('/content/m3d-vton/input_data/cloth/cloth@1=cloth_front.jpg')\n",
        "img= cv2.cvtColor(img,cv2.COLOR_BGR2GRAY)\n",
        "ret, thresh = cv2.threshold(img,200, 255, cv2.THRESH_BINARY_INV)\n",
        "cv2_imshow(thresh)\n",
        "cv2.imwrite('/content/m3d-vton/input_data/cloth-mask/cloth@1=cloth_front_mask.jpg', thresh)"
      ],
      "metadata": {
        "colab": {
          "base_uri": "https://localhost:8080/",
          "height": 546
        },
        "id": "UQA7Z3A7wdXt",
        "outputId": "af839aa6-ca1c-42d5-9a68-c9f1ea679908"
      },
      "execution_count": 21,
      "outputs": [
        {
          "output_type": "display_data",
          "data": {
            "image/png": "[encoded data removed]",
            "text/plain": [
              "<PIL.Image.Image image mode=L size=320x512 at 0x7FF7B460BF50>"
            ]
          },
          "metadata": {}
        },
        {
          "output_type": "execute_result",
          "data": {
            "text/plain": [
              "True"
            ]
          },
          "metadata": {},
          "execution_count": 21
        }
      ]
    },
    {
      "cell_type": "code",
      "source": [
        "cd .."
      ],
      "metadata": {
        "colab": {
          "base_uri": "https://localhost:8080/"
        },
        "id": "2wIuAEVOUfRg",
        "outputId": "866677d5-8e46-4173-da3a-d86be545f337"
      },
      "execution_count": 23,
      "outputs": [
        {
          "output_type": "stream",
          "name": "stdout",
          "text": [
            "/content\n"
          ]
        }
      ]
    },
    {
      "cell_type": "markdown",
      "source": [
        "## Creating image parse"
      ],
      "metadata": {
        "id": "aBW7zm40weTb"
      }
    },
    {
      "cell_type": "code",
      "source": [
        "cd 2D-Human-Parsing/inference"
      ],
      "metadata": {
        "colab": {
          "base_uri": "https://localhost:8080/"
        },
        "id": "18rtQuQPvFS6",
        "outputId": "5f37c588-e6ce-474c-eb39-bef3e540d2e3"
      },
      "execution_count": 25,
      "outputs": [
        {
          "output_type": "stream",
          "name": "stdout",
          "text": [
            "/content/2D-Human-Parsing/inference\n"
          ]
        }
      ]
    },
    {
      "cell_type": "code",
      "source": [
        "!cp -r '/content/m3d-vton/input_data/image/person@1=person_whole_front.png' '/content/2D-Human-Parsing/demo_imgs'"
      ],
      "metadata": {
        "id": "wjpnQaDFxZer"
      },
      "execution_count": 26,
      "outputs": []
    },
    {
      "cell_type": "markdown",
      "source": [
        "### Edit img_list.txt\n",
        "\n",
        "/content/2D-Human-Parsing/demo_imgs/person@1=person_whole_front.png"
      ],
      "metadata": {
        "id": "IyTOglxcwD4b"
      }
    },
    {
      "cell_type": "code",
      "source": [
        "with open('/content/2D-Human-Parsing/inference/img_list.txt', 'w') as f:\n",
        "  f.write('/content/2D-Human-Parsing/demo_imgs/person@1=person_whole_front.png')\n",
        "\n",
        "with open('/content/2D-Human-Parsing/demo_imgs/img_list.txt', 'w') as f:\n",
        "  f.write('/content/2D-Human-Parsing/demo_imgs/person@1=person_whole_front.png')"
      ],
      "metadata": {
        "id": "nhWir-bhx3Fz"
      },
      "execution_count": 27,
      "outputs": []
    },
    {
      "cell_type": "markdown",
      "source": [
        "## Edit demo.sh\n",
        "\n",
        "\n",
        "CUDA_VISIBLE_DEVICES=0 \\\n",
        "python inference_acc.py \\\n",
        "--loadmodel '../pretrained/deeplabv3plus-xception-vocNov14_20-51-38_epoch-89.pth' \\\n",
        "--img_list '../demo_imgs/img_list.txt' \\\n",
        "--output_dir '../parsing_result'"
      ],
      "metadata": {
        "id": "_R6NJqKJwH2m"
      }
    },
    {
      "cell_type": "code",
      "source": [
        "!bash demo.sh"
      ],
      "metadata": {
        "colab": {
          "base_uri": "https://localhost:8080/"
        },
        "id": "ZdFq2mIb01pf",
        "outputId": "0983bf62-5bbd-46ea-8efd-17d860df7704"
      },
      "execution_count": 28,
      "outputs": [
        {
          "output_type": "stream",
          "name": "stdout",
          "text": [
            "Constructing DeepLabv3+ model...\n",
            "Number of classes: 20\n",
            "Output stride: 16\n",
            "Number of Input Channels: 3\n",
            "missing keys in state_dict: \"{'xception_features.block11.rep.5.pointwise_bn.num_batches_tracked', 'aspp2.atrous_convolution.pointwise_bn.num_batches_tracked', 'aspp4.atrous_convolution.pointwise_bn.num_batches_tracked', 'decoder.0.atrous_convolution.depthwise_bn.num_batches_tracked', 'xception_features.block4.rep.1.depthwise_bn.num_batches_tracked', 'xception_features.block15.rep.1.pointwise_bn.num_batches_tracked', 'xception_features.block17.rep.1.depthwise_bn.num_batches_tracked', 'xception_features.block13.rep.3.pointwise_bn.num_batches_tracked', 'decoder.1.atrous_convolution.depthwise_bn.num_batches_tracked', 'xception_features.block14.rep.5.depthwise_bn.num_batches_tracked', 'xception_features.block9.rep.3.pointwise_bn.num_batches_tracked', 'xception_features.block10.rep.3.pointwise_bn.num_batches_tracked', 'xception_features.block4.rep.5.pointwise_bn.num_batches_tracked', 'xception_features.block12.rep.1.depthwise_bn.num_batches_tracked', 'xception_features.block7.rep.5.pointwise_bn.num_batches_tracked', 'xception_features.block9.rep.1.depthwise_bn.num_batches_tracked', 'xception_features.block16.rep.5.depthwise_bn.num_batches_tracked', 'xception_features.block2.block2_lastconv.1.depthwise_bn.num_batches_tracked', 'xception_features.block9.rep.5.depthwise_bn.num_batches_tracked', 'xception_features.block12.rep.5.depthwise_bn.num_batches_tracked', 'xception_features.block14.rep.3.pointwise_bn.num_batches_tracked', 'xception_features.block19.rep.5.pointwise_bn.num_batches_tracked', 'xception_features.block20.rep.1.pointwise_bn.num_batches_tracked', 'xception_features.block4.rep.3.depthwise_bn.num_batches_tracked', 'xception_features.block9.rep.5.pointwise_bn.num_batches_tracked', 'xception_features.block15.rep.3.pointwise_bn.num_batches_tracked', 'xception_features.block17.rep.5.depthwise_bn.num_batches_tracked', 'aspp1.bn.num_batches_tracked', 'xception_features.block19.rep.1.depthwise_bn.num_batches_tracked', 'xception_features.block11.rep.3.depthwise_bn.num_batches_tracked', 'xception_features.block16.rep.3.depthwise_bn.num_batches_tracked', 'xception_features.block12.rep.1.pointwise_bn.num_batches_tracked', 'xception_features.block16.rep.1.depthwise_bn.num_batches_tracked', 'xception_features.block11.rep.1.depthwise_bn.num_batches_tracked', 'xception_features.block18.rep.3.depthwise_bn.num_batches_tracked', 'xception_features.block3.rep.5.pointwise_bn.num_batches_tracked', 'xception_features.block8.rep.3.depthwise_bn.num_batches_tracked', 'xception_features.block14.rep.3.depthwise_bn.num_batches_tracked', 'xception_features.block6.rep.5.depthwise_bn.num_batches_tracked', 'xception_features.block7.rep.5.depthwise_bn.num_batches_tracked', 'xception_features.block5.rep.5.depthwise_bn.num_batches_tracked', 'xception_features.block1.rep.2.pointwise_bn.num_batches_tracked', 'xception_features.block6.rep.1.depthwise_bn.num_batches_tracked', 'xception_features.block7.rep.1.depthwise_bn.num_batches_tracked', 'xception_features.conv3.depthwise_bn.num_batches_tracked', 'xception_features.block7.rep.1.pointwise_bn.num_batches_tracked', 'aspp3.atrous_convolution.depthwise_bn.num_batches_tracked', 'xception_features.block13.rep.3.depthwise_bn.num_batches_tracked', 'xception_features.block16.rep.3.pointwise_bn.num_batches_tracked', 'xception_features.block16.rep.1.pointwise_bn.num_batches_tracked', 'xception_features.block19.rep.3.depthwise_bn.num_batches_tracked', 'xception_features.block11.rep.3.pointwise_bn.num_batches_tracked', 'xception_features.block7.rep.3.pointwise_bn.num_batches_tracked', 'xception_features.conv5.depthwise_bn.num_batches_tracked', 'xception_features.block4.rep.1.pointwise_bn.num_batches_tracked', 'xception_features.block5.rep.1.depthwise_bn.num_batches_tracked', 'xception_features.block10.rep.1.depthwise_bn.num_batches_tracked', 'xception_features.block18.rep.1.depthwise_bn.num_batches_tracked', 'decoder.0.atrous_convolution.pointwise_bn.num_batches_tracked', 'xception_features.block7.rep.3.depthwise_bn.num_batches_tracked', 'xception_features.block13.rep.1.depthwise_bn.num_batches_tracked', 'xception_features.block14.rep.5.pointwise_bn.num_batches_tracked', 'xception_features.block5.rep.3.depthwise_bn.num_batches_tracked', 'xception_features.block20.rep.1.depthwise_bn.num_batches_tracked', 'xception_features.block18.rep.5.pointwise_bn.num_batches_tracked', 'xception_features.block10.rep.3.depthwise_bn.num_batches_tracked', 'xception_features.block11.rep.5.depthwise_bn.num_batches_tracked', 'xception_features.block2.rep.1.depthwise_bn.num_batches_tracked', 'xception_features.block4.rep.5.depthwise_bn.num_batches_tracked', 'xception_features.block20.rep.3.pointwise_bn.num_batches_tracked', 'xception_features.block12.rep.5.pointwise_bn.num_batches_tracked', 'xception_features.block8.rep.1.pointwise_bn.num_batches_tracked', 'xception_features.block15.rep.5.depthwise_bn.num_batches_tracked', 'decoder.1.atrous_convolution.pointwise_bn.num_batches_tracked', 'xception_features.block1.rep.2.depthwise_bn.num_batches_tracked', 'xception_features.block20.rep.3.depthwise_bn.num_batches_tracked', 'xception_features.block3.rep.3.pointwise_bn.num_batches_tracked', 'xception_features.conv4.depthwise_bn.num_batches_tracked', 'xception_features.block2.rep.1.pointwise_bn.num_batches_tracked', 'xception_features.block2.rep.3.depthwise_bn.num_batches_tracked', 'xception_features.block20.skipbn.num_batches_tracked', 'xception_features.block3.skipbn.num_batches_tracked', 'aspp2.atrous_convolution.depthwise_bn.num_batches_tracked', 'xception_features.bn1.num_batches_tracked', 'xception_features.block17.rep.3.depthwise_bn.num_batches_tracked', 'xception_features.block18.rep.5.depthwise_bn.num_batches_tracked', 'xception_features.block17.rep.3.pointwise_bn.num_batches_tracked', 'xception_features.bn2.num_batches_tracked', 'aspp4.atrous_convolution.depthwise_bn.num_batches_tracked', 'xception_features.block3.rep.3.depthwise_bn.num_batches_tracked', 'xception_features.block3.rep.1.depthwise_bn.num_batches_tracked', 'xception_features.conv4.pointwise_bn.num_batches_tracked', 'xception_features.block12.rep.3.depthwise_bn.num_batches_tracked', 'xception_features.block3.rep.1.pointwise_bn.num_batches_tracked', 'xception_features.block13.rep.5.pointwise_bn.num_batches_tracked', 'xception_features.block10.rep.1.pointwise_bn.num_batches_tracked', 'xception_features.block8.rep.5.depthwise_bn.num_batches_tracked', 'xception_features.block2.rep.3.pointwise_bn.num_batches_tracked', 'xception_features.block19.rep.3.pointwise_bn.num_batches_tracked', 'xception_features.block2.block2_lastconv.1.pointwise_bn.num_batches_tracked', 'xception_features.block8.rep.1.depthwise_bn.num_batches_tracked', 'xception_features.block10.rep.5.depthwise_bn.num_batches_tracked', 'xception_features.block6.rep.5.pointwise_bn.num_batches_tracked', 'xception_features.block15.rep.5.pointwise_bn.num_batches_tracked', 'xception_features.block5.rep.3.pointwise_bn.num_batches_tracked', 'xception_features.block20.rep.5.depthwise_bn.num_batches_tracked', 'xception_features.block2.skipbn.num_batches_tracked', 'xception_features.block13.rep.5.depthwise_bn.num_batches_tracked', 'xception_features.block18.rep.1.pointwise_bn.num_batches_tracked', 'xception_features.block6.rep.3.depthwise_bn.num_batches_tracked', 'xception_features.block14.rep.1.pointwise_bn.num_batches_tracked', 'xception_features.block19.rep.1.pointwise_bn.num_batches_tracked', 'xception_features.block17.rep.5.pointwise_bn.num_batches_tracked', 'xception_features.conv5.pointwise_bn.num_batches_tracked', 'xception_features.block1.rep.0.depthwise_bn.num_batches_tracked', 'xception_features.conv3.pointwise_bn.num_batches_tracked', 'xception_features.block5.rep.1.pointwise_bn.num_batches_tracked', 'xception_features.block6.rep.1.pointwise_bn.num_batches_tracked', 'xception_features.block19.rep.5.depthwise_bn.num_batches_tracked', 'xception_features.block1.skipbn.num_batches_tracked', 'xception_features.block16.rep.5.pointwise_bn.num_batches_tracked', 'xception_features.block4.rep.3.pointwise_bn.num_batches_tracked', 'global_avg_pool.2.num_batches_tracked', 'xception_features.block9.rep.3.depthwise_bn.num_batches_tracked', 'feature_projection_bn1.num_batches_tracked', 'xception_features.block14.rep.1.depthwise_bn.num_batches_tracked', 'xception_features.block8.rep.3.pointwise_bn.num_batches_tracked', 'xception_features.block3.rep.5.depthwise_bn.num_batches_tracked', 'xception_features.block1.rep.4.depthwise_bn.num_batches_tracked', 'aspp3.atrous_convolution.pointwise_bn.num_batches_tracked', 'concat_projection_bn1.num_batches_tracked', 'xception_features.block20.rep.5.pointwise_bn.num_batches_tracked', 'xception_features.block13.rep.1.pointwise_bn.num_batches_tracked', 'xception_features.block12.rep.3.pointwise_bn.num_batches_tracked', 'xception_features.block15.rep.1.depthwise_bn.num_batches_tracked', 'xception_features.block18.rep.3.pointwise_bn.num_batches_tracked', 'xception_features.block11.rep.1.pointwise_bn.num_batches_tracked', 'xception_features.block6.rep.3.pointwise_bn.num_batches_tracked', 'xception_features.block9.rep.1.pointwise_bn.num_batches_tracked', 'xception_features.block15.rep.3.depthwise_bn.num_batches_tracked', 'xception_features.block5.rep.5.pointwise_bn.num_batches_tracked', 'xception_features.block1.rep.0.pointwise_bn.num_batches_tracked', 'xception_features.block8.rep.5.pointwise_bn.num_batches_tracked', 'xception_features.block1.rep.4.pointwise_bn.num_batches_tracked', 'xception_features.block17.rep.1.pointwise_bn.num_batches_tracked', 'xception_features.block10.rep.5.pointwise_bn.num_batches_tracked'}\"\n",
            "load model: ../pretrained/deeplabv3plus-xception-vocNov14_20-51-38_epoch-89.pth\n",
            "<class 'argparse.Namespace'>\n",
            "Namespace(data_root='', img_list='../demo_imgs/img_list.txt', loadmodel='../pretrained/deeplabv3plus-xception-vocNov14_20-51-38_epoch-89.pth', output_dir='../parsing_result', phase='train', use_gpu=1)\n",
            "delete exist finish\n",
            "/usr/local/lib/python3.7/dist-packages/torch/nn/functional.py:2952: UserWarning: nn.functional.upsample is deprecated. Use nn.functional.interpolate instead.\n",
            "  warnings.warn(\"nn.functional.upsample is deprecated. Use nn.functional.interpolate instead.\")\n"
          ]
        }
      ]
    },
    {
      "cell_type": "code",
      "source": [
        "!cp -r '/content/2D-Human-Parsing/parsing_result/train_parsing/demo_imgs/person@1=person_whole_front_label.png' '/content/m3d-vton/input_data/image-parse'"
      ],
      "metadata": {
        "id": "fezNmqq91AVy"
      },
      "execution_count": 29,
      "outputs": []
    },
    {
      "cell_type": "code",
      "source": [
        "cd .."
      ],
      "metadata": {
        "id": "FfSHmrdA1XPq",
        "colab": {
          "base_uri": "https://localhost:8080/"
        },
        "outputId": "71c67eb3-0110-44ec-f22f-22ce0066a137"
      },
      "execution_count": 30,
      "outputs": [
        {
          "output_type": "stream",
          "name": "stdout",
          "text": [
            "/content/2D-Human-Parsing\n"
          ]
        }
      ]
    },
    {
      "cell_type": "code",
      "source": [
        "cd .."
      ],
      "metadata": {
        "colab": {
          "base_uri": "https://localhost:8080/"
        },
        "id": "oijhZSao1YLR",
        "outputId": "5981bc21-4059-4da0-9d1c-f74fe5935f83"
      },
      "execution_count": 31,
      "outputs": [
        {
          "output_type": "stream",
          "name": "stdout",
          "text": [
            "/content\n"
          ]
        }
      ]
    },
    {
      "cell_type": "markdown",
      "source": [
        "## Creating pose keypoints"
      ],
      "metadata": {
        "id": "PMrjp50C1fDu"
      }
    },
    {
      "cell_type": "code",
      "source": [
        "cd openpose"
      ],
      "metadata": {
        "colab": {
          "base_uri": "https://localhost:8080/"
        },
        "id": "qZh6rcXd1h8Z",
        "outputId": "0dae6940-a818-45d5-f80d-f7bfae771cd2"
      },
      "execution_count": 32,
      "outputs": [
        {
          "output_type": "stream",
          "name": "stdout",
          "text": [
            "/content/openpose\n"
          ]
        }
      ]
    },
    {
      "cell_type": "code",
      "source": [
        "!cp -r '/content/m3d-vton/input_data/image/person@1=person_whole_front.png' '/content/openpose/examples/media'"
      ],
      "metadata": {
        "id": "J8fx2-4y17iD"
      },
      "execution_count": 33,
      "outputs": []
    },
    {
      "cell_type": "code",
      "source": [
        "! ./build/examples/openpose/openpose.bin --video /content/openpose/examples/media/person@1=person_whole_front.png --display 0 --render_pose 0 --face --hand --write_json output_json_folder/"
      ],
      "metadata": {
        "colab": {
          "base_uri": "https://localhost:8080/"
        },
        "id": "-m_QIvO8vzQa",
        "outputId": "46064ffc-0e5a-4333-e75a-a8ec546a8f3e"
      },
      "execution_count": 34,
      "outputs": [
        {
          "output_type": "stream",
          "name": "stdout",
          "text": [
            "Starting OpenPose demo...\n",
            "Configuring OpenPose...\n",
            "Starting thread(s)...\n",
            "Auto-detecting all available GPUs... Detected 1 GPU(s), using 1 of them starting at GPU 0.\n",
            "OpenPose demo successfully finished. Total time: 7.090200 seconds.\n"
          ]
        }
      ]
    },
    {
      "cell_type": "code",
      "source": [
        "!cp -r '/content/openpose/output_json_folder/person@1=person_whole_front_000000000000_keypoints.json' '/content/m3d-vton/input_data/pose/person@1=person_whole_front_keypoints.json'"
      ],
      "metadata": {
        "id": "OFzGCScfvzK5"
      },
      "execution_count": 42,
      "outputs": []
    },
    {
      "cell_type": "code",
      "source": [
        "cd .."
      ],
      "metadata": {
        "colab": {
          "base_uri": "https://localhost:8080/"
        },
        "id": "gA_i18tOVZwC",
        "outputId": "d6084d45-89de-4e8a-e0ab-f54a791962cd"
      },
      "execution_count": 38,
      "outputs": [
        {
          "output_type": "stream",
          "name": "stdout",
          "text": [
            "/content\n"
          ]
        }
      ]
    },
    {
      "cell_type": "markdown",
      "source": [
        "## Follow the following steps:\n",
        "\n",
        "### Custom Data\n",
        "\n",
        "If you want to process your own data, some more steps are needed (the &#8594; indicates the corresponding folder where the images should be put into):\n",
        "\n",
        "1. prepare an in-shop clothing image *C* (&#8594; `input_data/cloth`) and a frontal person image *P* (&#8594; `input_data/image`) with resolution of 320*512;\n",
        "\n",
        "2. obtain the mask of *C* (&#8594; `input_data/cloth-mask`) by thresholding or using [remove.bg](https://www.remove.bg/);\n",
        "\n",
        "3. obtain the human segmentation layout (&#8594; `input_data/image-parse`) by applying [2D-Human-Paring](https://github.com/fyviezhao/2D-Human-Parsing) on *P*;\n",
        "\n",
        "4. obtain the human joints (&#8594; `input_data/pose`) by applying [OpenPose](https://github.com/CMU-Perceptual-Computing-Lab/openpose) (25 keypoints) on *P*;\n",
        "\n",
        "5. run the data processing script `python util/data_preprocessing.py --MPV3D_root input_data` to automatically obtain the remaining inputs (pre-aligned clothing, palm mask, and image gradients);\n",
        "\n",
        "6. now the data preparation is finished and you should be able to run inference with the steps described in the next section \"Running Inference\". \n",
        "\n",
        "## Running Inference\n",
        "We provide demo inputs under the `input_data` folder, where the target clothing and the reference person are like:\n",
        "\n",
        "with inputs from the `input_data` folder, the easiest way to get start is to use the [pretrained models](https://figshare.com/s/fad809619d2f9ac666fc) and sequentially run the four steps below:\n",
        "\n",
        "### 1. Testing MTM Module\n",
        "```sh\n",
        "python test.py --model MTM --name MTM --dataroot input_data --datalist test_pairs --results_dir results\n",
        "```\n",
        "\n",
        "### 2. Testing DRM Module\n",
        "```sh\n",
        "python test.py --model DRM --name DRM --dataroot input_data --datalist test_pairs --results_dir results\n",
        "```  \n",
        "\n",
        "### 3. Testing TFM Module\n",
        "```sh\n",
        "python test.py --model TFM --name TFM --dataroot input_data --datalist test_pairs --results_dir results\n",
        "```\n",
        "\n",
        "### 4. Getting colored point cloud and Remeshing\n",
        "\n",
        "(Note: since the back-side person images are unavailable, in `rgbd2pcd.py` we provide a fast face inpainting function that produces the mirrored back-side image after a fashion. One may need manually inpaint other back-side texture areas to achieve better visual quality.)\n",
        "\n",
        "```sh\n",
        "python rgbd2pcd.py\n",
        "```\n",
        "\n",
        "Now you should get the point cloud file prepared for remeshing under `results/aligned/pcd/test_pairs/*.ply`. [MeshLab](https://www.meshlab.net/) can be used to remesh the predicted point cloud, with two simple steps below:\n",
        "\n",
        "- Normal Estimation: Open MeshLab and load the point cloud file, and then go to Filters --> Normals, Curvatures and Orientation --> Compute normals for point sets\n",
        "\n",
        "- Possion Remeshing: Go to Filters --> Remeshing, Simplification and Reconstruction --> Surface Reconstruction: Screen Possion (set reconstruction depth = 9)"
      ],
      "metadata": {
        "id": "2tJAXSmoza4A"
      }
    },
    {
      "cell_type": "markdown",
      "source": [
        "## Folder Structure\n",
        "\n",
        "Create a folder called input_data with the following structure:\n",
        "\n",
        "__input_data__\n",
        "\n",
        "-->__cloth__\n",
        "\n",
        "---->cloth@1=cloth_front.jpg\n",
        "\n",
        "---->cloth@2=cloth_front.jpg\n",
        "\n",
        "----> ...\n",
        "\n",
        "-->__cloth-mask__\n",
        "\n",
        "---->cloth@1=cloth_front_mask.jpg\n",
        "\n",
        "---->cloth@2=cloth_front_mask.jpg\n",
        "\n",
        "----> ...\n",
        "\n",
        "-->__image__\n",
        "\n",
        "---->person@1=person_whole_front.png\n",
        "\n",
        "---->person@2=person_whole_front.png\n",
        "\n",
        "----> ...\n",
        "\n",
        "-->__image-parse__\n",
        "\n",
        "---->person@1=person_whole_front_label.png\n",
        "\n",
        "---->person@2=person_whole_front_label.png\n",
        "\n",
        "----> ...\n",
        "\n",
        "-->__pose__\n",
        "\n",
        "---->person@1=person_whole_front_keypoints.json\n",
        "\n",
        "---->person@2=person_whole_front_keypoints.json\n",
        "\n",
        "----> ...\n",
        "\n",
        "-->test_pairs.txt\n",
        "\n",
        "-->train_pairs.txt"
      ],
      "metadata": {
        "id": "4BIqgTLFvynf"
      }
    },
    {
      "cell_type": "markdown",
      "source": [
        "The test_pairs.txt and train_pairs.txt file will have the following format:\n",
        "\n",
        "person@1=person_whole_front.png    cloth@1=cloth_front.jpg\n",
        "\n",
        "person@2=person_whole_front.png    cloth@2=cloth_front.jpg"
      ],
      "metadata": {
        "id": "ViHTEElMxoDg"
      }
    },
    {
      "cell_type": "markdown",
      "source": [
        "Each image should have the following proportions:\n",
        "- width= 320\n",
        "- height= 512\n",
        "- bit depth= 24"
      ],
      "metadata": {
        "id": "FlqKlEAVPqem"
      }
    },
    {
      "cell_type": "markdown",
      "source": [
        "# Preprocessing Data"
      ],
      "metadata": {
        "id": "5J24ZQfgyU1u"
      }
    },
    {
      "cell_type": "code",
      "source": [
        "cd m3d-vton"
      ],
      "metadata": {
        "colab": {
          "base_uri": "https://localhost:8080/"
        },
        "id": "zm9Kn-gQVeAA",
        "outputId": "8b65cd80-d62b-421d-cc8f-45f7e7b867ac"
      },
      "execution_count": 39,
      "outputs": [
        {
          "output_type": "stream",
          "name": "stdout",
          "text": [
            "/content/m3d-vton\n"
          ]
        }
      ]
    },
    {
      "cell_type": "markdown",
      "source": [
        "Replace line 194 and 233 in data_preprocessing.py with:\n",
        "\n",
        "sorted([i for \\_,_,i in os.walk(person_root)][0])\n",
        "\n",
        "\n"
      ],
      "metadata": {
        "id": "4zINGL0uZfLt"
      }
    },
    {
      "cell_type": "code",
      "source": [
        "!python util/data_preprocessing.py --MPV3D_root input_data"
      ],
      "metadata": {
        "colab": {
          "base_uri": "https://localhost:8080/"
        },
        "id": "UKZMtQwJcSMd",
        "outputId": "ad3933b7-ebbb-47dc-ae36-4d59bf3cebd1"
      },
      "execution_count": 43,
      "outputs": [
        {
          "output_type": "stream",
          "name": "stdout",
          "text": [
            "\r0it [00:00, ?it/s]\r1it [00:00, 16.78it/s]\n",
            "\r0it [00:00, ?it/s]\r1it [00:00, 17.69it/s]\n",
            "clothes pre-alignment done and saved to input_data/aligned/test_pairs/cloth!\n",
            "\r  0% 0/1 [00:00<?, ?it/s]\r100% 1/1 [00:00<00:00, 21.47it/s]\n",
            "palms segmentaion done and saved to input_data/palm-mask!\n",
            "100% 1/1 [00:00<00:00,  8.75it/s]\n",
            "Getting image sobel done and saving to input_data/image-sobel!\n",
            "******Data preprocessing done!******\n"
          ]
        }
      ]
    },
    {
      "cell_type": "markdown",
      "source": [
        "# Taking Infrence using models"
      ],
      "metadata": {
        "id": "KoJe5OP7ytsI"
      }
    },
    {
      "cell_type": "code",
      "source": [
        "!python test.py --model MTM --name MTM --dataroot input_data --datalist test_pairs --results_dir results"
      ],
      "metadata": {
        "colab": {
          "base_uri": "https://localhost:8080/"
        },
        "id": "u3jPoNgUJa6C",
        "outputId": "058104fd-8686-46d8-989d-231f1bb1a781"
      },
      "execution_count": 44,
      "outputs": [
        {
          "output_type": "stream",
          "name": "stdout",
          "text": [
            "----------------- Options ---------------\n",
            "                add_depth: True                          \n",
            "            add_grid_loss: False                         \n",
            "                add_segmt: True                          \n",
            "           add_theta_loss: False                         \n",
            "                  add_tps: True                          \n",
            "             aspect_ratio: 1.0                           \n",
            "               batch_size: 8                             \n",
            "          checkpoints_dir: pretrained                    \n",
            "                 datalist: test_pairs                    \n",
            "                 datamode: aligned                       \n",
            "                 dataroot: input_data                    \t[default: mpv3d_example]\n",
            "          display_winsize: 512                           \n",
            "                    epoch: latest                        \n",
            "                     eval: False                         \n",
            "                  gpu_ids: 0                             \n",
            "                grid_size: 3                             \n",
            "               img_height: 512                           \n",
            "                img_width: 320                           \n",
            "                init_gain: 0.02                          \n",
            "                init_type: normal                        \n",
            "               input_nc_A: 29                            \n",
            "               input_nc_B: 3                             \n",
            "                  isTrain: False                         \t[default: None]\n",
            "             lambda_depth: 1.0                           \n",
            "              lambda_grid: 1.0                           \n",
            "             lambda_segmt: 1.0                           \n",
            "             lambda_theta: 0.1                           \n",
            "              lambda_warp: 1.0                           \n",
            "                load_iter: 0                             \t[default: 0]\n",
            "         max_dataset_size: inf                           \n",
            "                    model: MTM                           \n",
            "               n_layers_D: 3                             \n",
            "    n_layers_feat_extract: 3                             \n",
            "                     name: MTM                           \n",
            "                      ndf: 64                            \n",
            "                     netD: basic                         \n",
            "                      ngf: 64                            \n",
            "            no_pin_memory: False                         \n",
            "                     norm: instance                      \n",
            "                 num_test: 10000                         \n",
            "              num_threads: 8                             \n",
            "                    phase: test                          \n",
            "                   radius: 5                             \n",
            "              results_dir: results                       \n",
            "           save_depth_vis: False                         \n",
            "          save_normal_vis: False                         \n",
            "           save_segmt_vis: False                         \n",
            "           serial_batches: False                         \n",
            "                   suffix:                               \n",
            "              use_dropout: False                         \n",
            "                  verbose: False                         \n",
            "----------------- End -------------------\n",
            "dataset [AlignedMPV3dDataset] was created\n",
            "initialize network with normal\n",
            "model [MTMModel] was created\n",
            "loading the model from pretrained/aligned/MTM/latest_net_MTM.pth\n",
            "---------- Networks initialized -------------\n",
            "[Network MTM] Total number of parameters : 40.003 M\n",
            "-----------------------------------------------\n",
            "/usr/local/lib/python3.7/dist-packages/torch/nn/functional.py:3385: UserWarning: Default grid_sample and affine_grid behavior has changed to align_corners=False since 1.3.0. Please specify align_corners=True if the old behavior is desired. See the documentation of grid_sample for details.\n",
            "  warnings.warn(\"Default grid_sample and affine_grid behavior has changed \"\n",
            "\n",
            "Testing MTM finished.\n"
          ]
        }
      ]
    },
    {
      "cell_type": "code",
      "source": [
        "!python test.py --model DRM --name DRM --dataroot input_data --datalist test_pairs --results_dir results"
      ],
      "metadata": {
        "id": "VIqi2ltrJqJy",
        "colab": {
          "base_uri": "https://localhost:8080/"
        },
        "outputId": "52ff57ff-8e46-445a-fe0c-c7073f78e70c"
      },
      "execution_count": 45,
      "outputs": [
        {
          "output_type": "stream",
          "name": "stdout",
          "text": [
            "----------------- Options ---------------\n",
            "             add_gan_loss: False                         \n",
            "            add_grad_loss: True                          \n",
            "          add_normal_loss: False                         \n",
            "             aspect_ratio: 1.0                           \n",
            "               batch_size: 8                             \n",
            "          checkpoints_dir: pretrained                    \n",
            "                 datalist: test_pairs                    \n",
            "                 datamode: aligned                       \n",
            "                 dataroot: input_data                    \t[default: mpv3d_example]\n",
            "            display_ncols: 2                             \n",
            "          display_winsize: 512                           \n",
            "                    epoch: latest                        \n",
            "                     eval: False                         \n",
            "                  gpu_ids: 0                             \n",
            "               img_height: 512                           \n",
            "                img_width: 320                           \n",
            "                init_gain: 0.02                          \n",
            "                init_type: normal                        \n",
            "           input_gradient: True                          \n",
            "                 input_nc: 8                             \n",
            "               input_nc_D: 4                             \n",
            "                  isTrain: False                         \t[default: None]\n",
            "             lambda_depth: 1.0                           \n",
            "               lambda_gan: 1.0                           \n",
            "              lambda_grad: 1.0                           \n",
            "            lambda_normal: 1.5                           \n",
            "                load_iter: 0                             \t[default: 0]\n",
            "         max_dataset_size: inf                           \n",
            "                    model: DRM                           \t[default: MTM]\n",
            "               n_layers_D: 3                             \n",
            "                     name: DRM                           \t[default: MTM]\n",
            "                      ndf: 64                            \n",
            "                     netD: basic                         \n",
            "                      ngf: 64                            \n",
            "            no_pin_memory: False                         \n",
            "                     norm: instance                      \n",
            "                 num_test: 10000                         \n",
            "              num_threads: 8                             \n",
            "                output_nc: 2                             \n",
            "                    phase: test                          \n",
            "                   radius: 5                             \n",
            "              results_dir: results                       \n",
            "           save_depth_vis: False                         \n",
            "          save_normal_vis: False                         \n",
            "           save_segmt_vis: False                         \n",
            "           serial_batches: False                         \n",
            "                   suffix:                               \n",
            "              use_dropout: False                         \n",
            "                  verbose: False                         \n",
            "                 warproot: results/aligned/MTM/test_pairs\n",
            "----------------- End -------------------\n",
            "dataset [AlignedMPV3dDataset] was created\n",
            "initialize network with normal\n",
            "model [DRMModel] was created\n",
            "loading the model from pretrained/aligned/DRM/latest_net_DRM.pth\n",
            "---------- Networks initialized -------------\n",
            "[Network DRM] Total number of parameters : 66.936 M\n",
            "-----------------------------------------------\n",
            "/usr/local/lib/python3.7/dist-packages/torch/nn/functional.py:3063: UserWarning: Default upsampling behavior when mode=bilinear is changed to align_corners=False since 0.4.0. Please specify align_corners=True if the old behavior is desired. See the documentation of nn.Upsample for details.\n",
            "  \"See the documentation of nn.Upsample for details.\".format(mode))\n",
            "processing (0001)-th / (0001) image...\n",
            "Testing DRM finished.\n"
          ]
        }
      ]
    },
    {
      "cell_type": "code",
      "source": [
        "!python test.py --model TFM --name TFM --dataroot input_data --datalist test_pairs --results_dir results"
      ],
      "metadata": {
        "id": "yfg3q8EsHOv8",
        "colab": {
          "base_uri": "https://localhost:8080/"
        },
        "outputId": "c065e6ad-c99a-4343-e581-5aa67df4a676"
      },
      "execution_count": 46,
      "outputs": [
        {
          "output_type": "stream",
          "name": "stdout",
          "text": [
            "----------------- Options ---------------\n",
            "             add_gan_loss: False                         \n",
            "             aspect_ratio: 1.0                           \n",
            "               batch_size: 8                             \n",
            "          checkpoints_dir: pretrained                    \n",
            "                 datalist: test_pairs                    \n",
            "                 datamode: aligned                       \n",
            "                 dataroot: input_data                    \t[default: mpv3d_example]\n",
            "          display_winsize: 512                           \n",
            "                    epoch: latest                        \n",
            "                     eval: False                         \n",
            "                  gpu_ids: 0                             \n",
            "               img_height: 512                           \n",
            "                img_width: 320                           \n",
            "                init_gain: 0.02                          \n",
            "                init_type: normal                        \n",
            "              input_depth: True                          \n",
            "                 input_nc: 7                             \n",
            "               input_nc_D: 12                            \n",
            "              input_segmt: True                          \n",
            "                  isTrain: False                         \t[default: None]\n",
            "               lambda_gan: 1.0                           \n",
            "                lambda_l1: 1.0                           \n",
            "              lambda_mask: 1.0                           \n",
            "               lambda_vgg: 1.0                           \n",
            "                load_iter: 0                             \t[default: 0]\n",
            "         max_dataset_size: inf                           \n",
            "                    model: TFM                           \t[default: MTM]\n",
            "               n_layers_D: 3                             \n",
            "                     name: TFM                           \t[default: MTM]\n",
            "                      ndf: 64                            \n",
            "                     netD: basic                         \n",
            "                      ngf: 64                            \n",
            "            no_pin_memory: False                         \n",
            "                     norm: instance                      \n",
            "                num_downs: 6                             \n",
            "                 num_test: 10000                         \n",
            "              num_threads: 8                             \n",
            "                output_nc: 4                             \n",
            "                    phase: test                          \n",
            "                   radius: 5                             \n",
            "              results_dir: results                       \n",
            "           save_depth_vis: False                         \n",
            "          save_normal_vis: False                         \n",
            "           save_segmt_vis: False                         \n",
            "           serial_batches: False                         \n",
            "                   suffix:                               \n",
            "              use_dropout: False                         \n",
            "                  verbose: False                         \n",
            "                 warproot: results/aligned/MTM/test_pairs\n",
            "----------------- End -------------------\n",
            "dataset [AlignedMPV3dDataset] was created\n",
            "initialize network with normal\n",
            "model [TFMModel] was created\n",
            "loading the model from pretrained/aligned/TFM/latest_net_TFM.pth\n",
            "---------- Networks initialized -------------\n",
            "[Network TFM] Total number of parameters : 21.333 M\n",
            "-----------------------------------------------\n",
            "processing (0001)-th / (0001) image...\n",
            "Testing TFM finished.\n"
          ]
        }
      ]
    },
    {
      "cell_type": "code",
      "source": [
        "!python rgbd2pcd.py --parse_root input_data/image-parse"
      ],
      "metadata": {
        "id": "LeA9SOPpHRfZ",
        "colab": {
          "base_uri": "https://localhost:8080/"
        },
        "outputId": "7b3c1efc-0f36-4abb-d2ff-b17ca463fe75"
      },
      "execution_count": 47,
      "outputs": [
        {
          "output_type": "stream",
          "name": "stdout",
          "text": [
            "100% 2/2 [00:00<00:00,  4.64it/s]\n",
            "The unprojected point cloud file(s) are saved to results/aligned/pcd/test_pairs\n"
          ]
        }
      ]
    },
    {
      "cell_type": "markdown",
      "source": [
        "# Post processing point cloud"
      ],
      "metadata": {
        "id": "0EiEyBfVz9FX"
      }
    },
    {
      "cell_type": "code",
      "source": [
        "!mkdir ./results/aligned/final_pcd"
      ],
      "metadata": {
        "id": "JIspEpGxuSpH"
      },
      "execution_count": 48,
      "outputs": []
    },
    {
      "cell_type": "code",
      "source": [
        "# post processing point cloud\n",
        "\n",
        "# load point cloud\n",
        "pcd = o3d.io.read_point_cloud('./results/aligned/pcd/test_pairs/person@1=person.ply')\n",
        "\n",
        "# normal estimation\n",
        "pcd.estimate_normals()\n",
        "pcd.orient_normals_consistent_tangent_plane(100)\n",
        "\n",
        "# poisson surface reconstruction\n",
        "mesh, densities = o3d.geometry.TriangleMesh.create_from_point_cloud_poisson(pcd, depth=9)\n",
        "\n",
        "# save mesh\n",
        "o3d.io.write_triangle_mesh('./results/aligned/final_pcd/person@1=person.ply', mesh)"
      ],
      "metadata": {
        "colab": {
          "base_uri": "https://localhost:8080/"
        },
        "id": "UdNQEV0-ro2U",
        "outputId": "6469bbf8-aa00-431a-ecfe-ce39cc0d573e"
      },
      "execution_count": 49,
      "outputs": [
        {
          "output_type": "execute_result",
          "data": {
            "text/plain": [
              "True"
            ]
          },
          "metadata": {},
          "execution_count": 49
        }
      ]
    },
    {
      "cell_type": "code",
      "source": [
        "# display 2D result\n",
        "\n",
        "img_path = './results/aligned/TFM/test_pairs/tryon/person@1=person_whole_front.png'\n",
        "img = cv2.imread(img_path)\n",
        "img = cv2.cvtColor(img, cv2.COLOR_BGR2RGB)\n",
        "\n",
        "\n",
        "plt.imshow(img)\n",
        "plt.axis('off')\n",
        "plt.show()"
      ],
      "metadata": {
        "colab": {
          "base_uri": "https://localhost:8080/",
          "height": 248
        },
        "id": "GhnzNAiIs_ej",
        "outputId": "0df922a1-c1bc-4244-a47d-92d27984dc71"
      },
      "execution_count": 50,
      "outputs": [
        {
          "output_type": "display_data",
          "data": {
            "image/png": "[encoded data removed]",
            "text/plain": [
              "<Figure size 432x288 with 1 Axes>"
            ]
          },
          "metadata": {
            "needs_background": "light"
          }
        }
      ]
    },
    {
      "cell_type": "code",
      "source": [
        ""
      ],
      "metadata": {
        "id": "_OYG9mwqu8h1"
      },
      "execution_count": null,
      "outputs": []
    }
  ]
}