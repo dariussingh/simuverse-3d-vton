{
  "nbformat": 4,
  "nbformat_minor": 0,
  "metadata": {
    "colab": {
      "name": "M3D-VTON_Final.ipynb",
      "provenance": [],
      "collapsed_sections": []
    },
    "kernelspec": {
      "name": "python3",
      "display_name": "Python 3"
    },
    "language_info": {
      "name": "python"
    },
    "accelerator": "GPU"
  },
  "cells": [
    {
      "cell_type": "markdown",
      "source": [
        "# Setup"
      ],
      "metadata": {
        "id": "0Y2rSXGjvHtx"
      }
    },
    {
      "cell_type": "markdown",
      "source": [
        "## Install dependencies"
      ],
      "metadata": {
        "id": "eEsG4KKNvfyX"
      }
    },
    {
      "cell_type": "code",
      "source": [
        "!pip install opencv-python\n",
        "!pip install pycocotools\n",
        "!pip install ipykernel\n",
        "!pip install scipy\n",
        "!pip install torch==1.7.1+cu110 torchvision==0.8.2+cu110 torchaudio==0.7.2 -f https://download.pytorch.org/whl/torch_stable.html\n",
        "!pip install networkx==2.6.2\n",
        "# !pip install torch==1.6.0 torchvision==0.7.0\n",
        "!pip install open3d"
      ],
      "metadata": {
        "id": "SN2Vu-ya8VOS"
      },
      "execution_count": null,
      "outputs": []
    },
    {
      "cell_type": "code",
      "source": [
        "import cv2\n",
        "import matplotlib.pyplot as plt\n",
        "from google.colab.patches import cv2_imshow\n",
        "import os\n",
        "from os.path import exists, join, basename, splitext\n",
        "import open3d as o3d "
      ],
      "metadata": {
        "id": "_6ws_llRx697"
      },
      "execution_count": 1,
      "outputs": []
    },
    {
      "cell_type": "code",
      "source": [
        "!python --version"
      ],
      "metadata": {
        "colab": {
          "base_uri": "https://localhost:8080/"
        },
        "id": "zdlzu-SUsJti",
        "outputId": "bfdbb2fa-19ab-44f0-ecea-1f19cbadcdf2"
      },
      "execution_count": 2,
      "outputs": [
        {
          "output_type": "stream",
          "name": "stdout",
          "text": [
            "Python 3.7.13\n"
          ]
        }
      ]
    },
    {
      "cell_type": "code",
      "source": [
        "!nvcc --version"
      ],
      "metadata": {
        "colab": {
          "base_uri": "https://localhost:8080/"
        },
        "id": "febFIhGVsPQK",
        "outputId": "162afdd2-27f2-4c54-c744-8681ab54bae1"
      },
      "execution_count": 3,
      "outputs": [
        {
          "output_type": "stream",
          "name": "stdout",
          "text": [
            "nvcc: NVIDIA (R) Cuda compiler driver\n",
            "Copyright (c) 2005-2020 NVIDIA Corporation\n",
            "Built on Mon_Oct_12_20:09:46_PDT_2020\n",
            "Cuda compilation tools, release 11.1, V11.1.105\n",
            "Build cuda_11.1.TC455_06.29190527_0\n"
          ]
        }
      ]
    },
    {
      "cell_type": "code",
      "source": [
        "!nvidia-smi "
      ],
      "metadata": {
        "colab": {
          "base_uri": "https://localhost:8080/"
        },
        "id": "dPpzPBwssP6o",
        "outputId": "e556823e-d817-4508-c06a-61d2264caef9"
      },
      "execution_count": 4,
      "outputs": [
        {
          "output_type": "stream",
          "name": "stdout",
          "text": [
            "Fri Mar 25 14:14:46 2022       \n",
            "+-----------------------------------------------------------------------------+\n",
            "| NVIDIA-SMI 460.32.03    Driver Version: 460.32.03    CUDA Version: 11.2     |\n",
            "|-------------------------------+----------------------+----------------------+\n",
            "| GPU  Name        Persistence-M| Bus-Id        Disp.A | Volatile Uncorr. ECC |\n",
            "| Fan  Temp  Perf  Pwr:Usage/Cap|         Memory-Usage | GPU-Util  Compute M. |\n",
            "|                               |                      |               MIG M. |\n",
            "|===============================+======================+======================|\n",
            "|   0  Tesla K80           Off  | 00000000:00:04.0 Off |                    0 |\n",
            "| N/A   48C    P8    30W / 149W |      3MiB / 11441MiB |      0%      Default |\n",
            "|                               |                      |                  N/A |\n",
            "+-------------------------------+----------------------+----------------------+\n",
            "                                                                               \n",
            "+-----------------------------------------------------------------------------+\n",
            "| Processes:                                                                  |\n",
            "|  GPU   GI   CI        PID   Type   Process name                  GPU Memory |\n",
            "|        ID   ID                                                   Usage      |\n",
            "|=============================================================================|\n",
            "|  No running processes found                                                 |\n",
            "+-----------------------------------------------------------------------------+\n"
          ]
        }
      ]
    },
    {
      "cell_type": "markdown",
      "source": [
        "## Clone M3D-VTON repo and download pretrained models"
      ],
      "metadata": {
        "id": "md2gI04LvlPG"
      }
    },
    {
      "cell_type": "code",
      "execution_count": 5,
      "metadata": {
        "colab": {
          "base_uri": "https://localhost:8080/"
        },
        "id": "35UMtQnDIsKJ",
        "outputId": "394ed8b9-6409-4985-ebbc-2321122f41f0"
      },
      "outputs": [
        {
          "output_type": "stream",
          "name": "stdout",
          "text": [
            "Cloning into 'm3d-vton'...\n",
            "remote: Enumerating objects: 122, done.\u001b[K\n",
            "remote: Counting objects: 100% (122/122), done.\u001b[K\n",
            "remote: Compressing objects: 100% (91/91), done.\u001b[K\n",
            "remote: Total 122 (delta 34), reused 108 (delta 27), pack-reused 0\u001b[K\n",
            "Receiving objects: 100% (122/122), 3.75 MiB | 17.36 MiB/s, done.\n",
            "Resolving deltas: 100% (34/34), done.\n"
          ]
        }
      ],
      "source": [
        "!git clone https://github.com/fyviezhao/m3d-vton"
      ]
    },
    {
      "cell_type": "code",
      "source": [
        "cd m3d-vton/pretrained"
      ],
      "metadata": {
        "colab": {
          "base_uri": "https://localhost:8080/"
        },
        "id": "8QNYAuFZJWVW",
        "outputId": "c2202579-5469-435e-9049-6a190cedc109"
      },
      "execution_count": 6,
      "outputs": [
        {
          "output_type": "stream",
          "name": "stdout",
          "text": [
            "/content/m3d-vton/pretrained\n"
          ]
        }
      ]
    },
    {
      "cell_type": "code",
      "source": [
        "!gdown https://drive.google.com/uc?id=1wpN-yfa1_MbezqkcLfVspa2jVTJV7bjN"
      ],
      "metadata": {
        "id": "evdw8cvn5-6f"
      },
      "execution_count": null,
      "outputs": []
    },
    {
      "cell_type": "code",
      "source": [
        "# !cp -r '/content/drive/MyDrive/TEST/M3D-VTON/M3D-VTON.zip' '/content/m3d-vton/pretrained'"
      ],
      "metadata": {
        "id": "Jg9CbVFxbzQq"
      },
      "execution_count": 9,
      "outputs": []
    },
    {
      "cell_type": "code",
      "source": [
        "!unzip -o M3D-VTON.zip \n",
        "!rm M3D-VTON.zip"
      ],
      "metadata": {
        "colab": {
          "base_uri": "https://localhost:8080/"
        },
        "id": "vqJ2ZTXgB0vW",
        "outputId": "b48ef9c6-79b9-4e1e-8071-de6bc7d87ba1"
      },
      "execution_count": 10,
      "outputs": [
        {
          "output_type": "stream",
          "name": "stdout",
          "text": [
            "Archive:  M3D-VTON.zip\n",
            " extracting: latest_net_TFM.pth      \n",
            " extracting: latest_net_MTM.pth      \n",
            " extracting: latest_net_DRM.pth      \n",
            " extracting: readme.txt              \n"
          ]
        }
      ]
    },
    {
      "cell_type": "code",
      "source": [
        "!mv latest_net_DRM.pth ./aligned/DRM/\n",
        "!mv latest_net_MTM.pth ./aligned/MTM/\n",
        "!mv latest_net_TFM.pth ./aligned/TFM/"
      ],
      "metadata": {
        "id": "nPjxI3p_CE5G"
      },
      "execution_count": 11,
      "outputs": []
    },
    {
      "cell_type": "code",
      "source": [
        "cd .."
      ],
      "metadata": {
        "colab": {
          "base_uri": "https://localhost:8080/"
        },
        "id": "gRiQ1pI2CRAm",
        "outputId": "ffeb6449-6042-413c-bb85-89a115978db7"
      },
      "execution_count": 12,
      "outputs": [
        {
          "output_type": "stream",
          "name": "stdout",
          "text": [
            "/content/m3d-vton\n"
          ]
        }
      ]
    },
    {
      "cell_type": "code",
      "source": [
        "cd .."
      ],
      "metadata": {
        "colab": {
          "base_uri": "https://localhost:8080/"
        },
        "id": "dpkEDt0Csb1J",
        "outputId": "5ee80e4b-0e5b-47df-c454-a3cb1d2b3555"
      },
      "execution_count": 13,
      "outputs": [
        {
          "output_type": "stream",
          "name": "stdout",
          "text": [
            "/content\n"
          ]
        }
      ]
    },
    {
      "cell_type": "markdown",
      "source": [
        "# Clone 2D Human Parsing Repo and download pretrained model"
      ],
      "metadata": {
        "id": "ipyZkIjtse_Z"
      }
    },
    {
      "cell_type": "code",
      "source": [
        "!git clone https://github.com/fyviezhao/2D-Human-Parsing"
      ],
      "metadata": {
        "colab": {
          "base_uri": "https://localhost:8080/"
        },
        "id": "x6Z-LYrWsdis",
        "outputId": "35b1ebec-4f30-4950-e9c8-56518e689fdd"
      },
      "execution_count": 14,
      "outputs": [
        {
          "output_type": "stream",
          "name": "stdout",
          "text": [
            "Cloning into '2D-Human-Parsing'...\n",
            "remote: Enumerating objects: 79, done.\u001b[K\n",
            "remote: Counting objects: 100% (79/79), done.\u001b[K\n",
            "remote: Compressing objects: 100% (57/57), done.\u001b[K\n",
            "remote: Total 79 (delta 23), reused 65 (delta 14), pack-reused 0\u001b[K\n",
            "Unpacking objects: 100% (79/79), done.\n"
          ]
        }
      ]
    },
    {
      "cell_type": "code",
      "source": [
        "cd 2D-Human-Parsing/pretrained"
      ],
      "metadata": {
        "colab": {
          "base_uri": "https://localhost:8080/"
        },
        "id": "gbBRASSwsogk",
        "outputId": "b9dc0403-a29c-49d3-e7f8-93c55188651a"
      },
      "execution_count": 15,
      "outputs": [
        {
          "output_type": "stream",
          "name": "stdout",
          "text": [
            "/content/2D-Human-Parsing/pretrained\n"
          ]
        }
      ]
    },
    {
      "cell_type": "code",
      "source": [
        "!gdown https://drive.google.com/uc?id=1cTYhbKbtrPfREVI_EkredmIq5WaT5GY6"
      ],
      "metadata": {
        "colab": {
          "base_uri": "https://localhost:8080/"
        },
        "id": "24rsmpXHsodx",
        "outputId": "b069b484-c3b5-441f-995e-13aa21a11550"
      },
      "execution_count": null,
      "outputs": [
        {
          "output_type": "stream",
          "name": "stdout",
          "text": [
            "Downloading...\n",
            "From: https://drive.google.com/uc?id=1cTYhbKbtrPfREVI_EkredmIq5WaT5GY6\n",
            "To: /content/2D-Human-Parsing/pretrained/deeplabv3plus-xception-vocNov14_20-51-38_epoch-89.pth\n",
            "100% 167M/167M [00:02<00:00, 71.7MB/s]\n"
          ]
        }
      ]
    },
    {
      "cell_type": "code",
      "source": [
        "# !cp -r '/content/drive/MyDrive/TEST/2D-Human-Parsing/deeplabv3plus-xception-vocNov14_20-51-38_epoch-89.pth' '/content/2D-Human-Parsing/pretrained'"
      ],
      "metadata": {
        "id": "8BnTuU25cIiy"
      },
      "execution_count": 16,
      "outputs": []
    },
    {
      "cell_type": "code",
      "source": [
        "cd .."
      ],
      "metadata": {
        "colab": {
          "base_uri": "https://localhost:8080/"
        },
        "id": "yuMuy5kNsobU",
        "outputId": "86dd2c92-7018-40cd-fc5b-52035b4ca3e7"
      },
      "execution_count": 17,
      "outputs": [
        {
          "output_type": "stream",
          "name": "stdout",
          "text": [
            "/content/2D-Human-Parsing\n"
          ]
        }
      ]
    },
    {
      "cell_type": "code",
      "source": [
        "cd .."
      ],
      "metadata": {
        "colab": {
          "base_uri": "https://localhost:8080/"
        },
        "id": "13Hi_Z9Wszy8",
        "outputId": "5f5754d3-14e5-48e7-f126-a4b248c0de53"
      },
      "execution_count": 18,
      "outputs": [
        {
          "output_type": "stream",
          "name": "stdout",
          "text": [
            "/content\n"
          ]
        }
      ]
    },
    {
      "cell_type": "markdown",
      "source": [
        "## Build Open Pose"
      ],
      "metadata": {
        "id": "fyOBNyfDs1OU"
      }
    },
    {
      "cell_type": "code",
      "source": [
        "git_repo_url = 'https://github.com/CMU-Perceptual-Computing-Lab/openpose.git'\n",
        "project_name = splitext(basename(git_repo_url))[0]\n",
        "if not exists(project_name):\n",
        "  # see: https://github.com/CMU-Perceptual-Computing-Lab/openpose/issues/949\n",
        "  # install new CMake becaue of CUDA10\n",
        "  !wget -q https://cmake.org/files/v3.13/cmake-3.13.0-Linux-x86_64.tar.gz\n",
        "  !tar xfz cmake-3.13.0-Linux-x86_64.tar.gz --strip-components=1 -C /usr/local\n",
        "  # clone openpose\n",
        "  !git clone -q --depth 1 $git_repo_url\n",
        "  !sed -i 's/execute_process(COMMAND git checkout master WORKING_DIRECTORY ${CMAKE_SOURCE_DIR}\\/3rdparty\\/caffe)/execute_process(COMMAND git checkout f019d0dfe86f49d1140961f8c7dec22130c83154 WORKING_DIRECTORY ${CMAKE_SOURCE_DIR}\\/3rdparty\\/caffe)/g' openpose/CMakeLists.txt\n",
        "  # install system dependencies\n",
        "  !apt-get -qq install -y libatlas-base-dev libprotobuf-dev libleveldb-dev libsnappy-dev libhdf5-serial-dev protobuf-compiler libgflags-dev libgoogle-glog-dev liblmdb-dev opencl-headers ocl-icd-opencl-dev libviennacl-dev\n",
        "  # install python dependencies\n",
        "  !pip install -q youtube-dl\n",
        "  # build openpose\n",
        "  !cd openpose && rm -rf build || true && mkdir build && cd build && cmake .. && make -j`nproc`"
      ],
      "metadata": {
        "colab": {
          "base_uri": "https://localhost:8080/"
        },
        "id": "Y4v-CVWus5Ax",
        "outputId": "05d94152-6448-410c-c0eb-3ed32ef9c3e3"
      },
      "execution_count": 19,
      "outputs": [
        {
          "output_type": "stream",
          "name": "stdout",
          "text": [
            "Selecting previously unselected package libgflags2.2.\n",
            "(Reading database ... 156210 files and directories currently installed.)\n",
            "Preparing to unpack .../00-libgflags2.2_2.2.1-1_amd64.deb ...\n",
            "Unpacking libgflags2.2 (2.2.1-1) ...\n",
            "Selecting previously unselected package libgflags-dev.\n",
            "Preparing to unpack .../01-libgflags-dev_2.2.1-1_amd64.deb ...\n",
            "Unpacking libgflags-dev (2.2.1-1) ...\n",
            "Selecting previously unselected package libgoogle-glog0v5.\n",
            "Preparing to unpack .../02-libgoogle-glog0v5_0.3.5-1_amd64.deb ...\n",
            "Unpacking libgoogle-glog0v5 (0.3.5-1) ...\n",
            "Selecting previously unselected package libgoogle-glog-dev.\n",
            "Preparing to unpack .../03-libgoogle-glog-dev_0.3.5-1_amd64.deb ...\n",
            "Unpacking libgoogle-glog-dev (0.3.5-1) ...\n",
            "Selecting previously unselected package libhdf5-serial-dev.\n",
            "Preparing to unpack .../04-libhdf5-serial-dev_1.10.0-patch1+docs-4_all.deb ...\n",
            "Unpacking libhdf5-serial-dev (1.10.0-patch1+docs-4) ...\n",
            "Selecting previously unselected package libleveldb1v5:amd64.\n",
            "Preparing to unpack .../05-libleveldb1v5_1.20-2_amd64.deb ...\n",
            "Unpacking libleveldb1v5:amd64 (1.20-2) ...\n",
            "Selecting previously unselected package libleveldb-dev:amd64.\n",
            "Preparing to unpack .../06-libleveldb-dev_1.20-2_amd64.deb ...\n",
            "Unpacking libleveldb-dev:amd64 (1.20-2) ...\n",
            "Selecting previously unselected package liblmdb0:amd64.\n",
            "Preparing to unpack .../07-liblmdb0_0.9.21-1ubuntu0.1_amd64.deb ...\n",
            "Unpacking liblmdb0:amd64 (0.9.21-1ubuntu0.1) ...\n",
            "Selecting previously unselected package liblmdb-dev:amd64.\n",
            "Preparing to unpack .../08-liblmdb-dev_0.9.21-1ubuntu0.1_amd64.deb ...\n",
            "Unpacking liblmdb-dev:amd64 (0.9.21-1ubuntu0.1) ...\n",
            "Selecting previously unselected package libprotobuf-lite10:amd64.\n",
            "Preparing to unpack .../09-libprotobuf-lite10_3.0.0-9.1ubuntu1_amd64.deb ...\n",
            "Unpacking libprotobuf-lite10:amd64 (3.0.0-9.1ubuntu1) ...\n",
            "Selecting previously unselected package lmdb-doc.\n",
            "Preparing to unpack .../10-lmdb-doc_0.9.21-1ubuntu0.1_all.deb ...\n",
            "Unpacking lmdb-doc (0.9.21-1ubuntu0.1) ...\n",
            "Selecting previously unselected package libprotobuf-dev:amd64.\n",
            "Preparing to unpack .../11-libprotobuf-dev_3.0.0-9.1ubuntu1_amd64.deb ...\n",
            "Unpacking libprotobuf-dev:amd64 (3.0.0-9.1ubuntu1) ...\n",
            "Selecting previously unselected package libsnappy-dev:amd64.\n",
            "Preparing to unpack .../12-libsnappy-dev_1.1.7-1_amd64.deb ...\n",
            "Unpacking libsnappy-dev:amd64 (1.1.7-1) ...\n",
            "Selecting previously unselected package libviennacl-dev.\n",
            "Preparing to unpack .../13-libviennacl-dev_1.7.1+dfsg1-2ubuntu1_all.deb ...\n",
            "Unpacking libviennacl-dev (1.7.1+dfsg1-2ubuntu1) ...\n",
            "Selecting previously unselected package opencl-clhpp-headers.\n",
            "Preparing to unpack .../14-opencl-clhpp-headers_2.0.10+git12-g5dd8bb9-1_all.deb ...\n",
            "Unpacking opencl-clhpp-headers (2.0.10+git12-g5dd8bb9-1) ...\n",
            "Selecting previously unselected package opencl-headers.\n",
            "Preparing to unpack .../15-opencl-headers_2.2~2018.02.21-gb5c3680-1_all.deb ...\n",
            "Unpacking opencl-headers (2.2~2018.02.21-gb5c3680-1) ...\n",
            "Setting up libviennacl-dev (1.7.1+dfsg1-2ubuntu1) ...\n",
            "Setting up libgflags2.2 (2.2.1-1) ...\n",
            "Setting up libgflags-dev (2.2.1-1) ...\n",
            "Setting up liblmdb0:amd64 (0.9.21-1ubuntu0.1) ...\n",
            "Setting up opencl-clhpp-headers (2.0.10+git12-g5dd8bb9-1) ...\n",
            "Setting up libleveldb1v5:amd64 (1.20-2) ...\n",
            "Setting up libhdf5-serial-dev (1.10.0-patch1+docs-4) ...\n",
            "Setting up libsnappy-dev:amd64 (1.1.7-1) ...\n",
            "Setting up libgoogle-glog0v5 (0.3.5-1) ...\n",
            "Setting up liblmdb-dev:amd64 (0.9.21-1ubuntu0.1) ...\n",
            "Setting up lmdb-doc (0.9.21-1ubuntu0.1) ...\n",
            "Setting up libprotobuf-lite10:amd64 (3.0.0-9.1ubuntu1) ...\n",
            "Setting up opencl-headers (2.2~2018.02.21-gb5c3680-1) ...\n",
            "Setting up libprotobuf-dev:amd64 (3.0.0-9.1ubuntu1) ...\n",
            "Setting up libleveldb-dev:amd64 (1.20-2) ...\n",
            "Setting up libgoogle-glog-dev (0.3.5-1) ...\n",
            "Processing triggers for man-db (2.8.3-2ubuntu0.1) ...\n",
            "Processing triggers for libc-bin (2.27-3ubuntu1.3) ...\n",
            "/sbin/ldconfig.real: /usr/local/lib/python3.7/dist-packages/ideep4py/lib/libmkldnn.so.0 is not a symbolic link\n",
            "\n",
            "\u001b[K     |████████████████████████████████| 1.9 MB 5.4 MB/s \n",
            "\u001b[?25h-- The C compiler identification is GNU 7.5.0\n",
            "-- The CXX compiler identification is GNU 7.5.0\n",
            "-- Check for working C compiler: /usr/bin/cc\n",
            "-- Check for working C compiler: /usr/bin/cc -- works\n",
            "-- Detecting C compiler ABI info\n",
            "-- Detecting C compiler ABI info - done\n",
            "-- Detecting C compile features\n",
            "-- Detecting C compile features - done\n",
            "-- Check for working CXX compiler: /usr/bin/c++\n",
            "-- Check for working CXX compiler: /usr/bin/c++ -- works\n",
            "-- Detecting CXX compiler ABI info\n",
            "-- Detecting CXX compiler ABI info - done\n",
            "-- Detecting CXX compile features\n",
            "-- Detecting CXX compile features - done\n",
            "-- GCC detected, adding compile flags\n",
            "-- GCC detected, adding compile flags\n",
            "-- Looking for pthread.h\n",
            "-- Looking for pthread.h - found\n",
            "-- Looking for pthread_create\n",
            "-- Looking for pthread_create - not found\n",
            "-- Looking for pthread_create in pthreads\n",
            "-- Looking for pthread_create in pthreads - not found\n",
            "-- Looking for pthread_create in pthread\n",
            "-- Looking for pthread_create in pthread - found\n",
            "-- Found Threads: TRUE  \n",
            "-- Found CUDA: /usr/local/cuda (found version \"11.1\") \n",
            "-- Building with CUDA.\n",
            "-- CUDA detected: 11.1\n",
            "-- Found cuDNN: ver. 7.6.5 found (include: /usr/include, library: /usr/lib/x86_64-linux-gnu/libcudnn.so)\n",
            "-- Added CUDA NVCC flags for: sm_37\n",
            "-- Found cuDNN: ver. 7.6.5 found (include: /usr/include, library: /usr/lib/x86_64-linux-gnu/libcudnn.so)\n",
            "-- Found GFlags: /usr/include  \n",
            "-- Found gflags  (include: /usr/include, library: /usr/lib/x86_64-linux-gnu/libgflags.so)\n",
            "-- Found Glog: /usr/include  \n",
            "-- Found glog    (include: /usr/include, library: /usr/lib/x86_64-linux-gnu/libglog.so)\n",
            "-- Found Protobuf: /usr/lib/x86_64-linux-gnu/libprotobuf.so;-lpthread (found version \"3.0.0\") \n",
            "-- Found OpenCV: /usr (found version \"3.2.0\") \n",
            "-- Caffe will be downloaded from source now. NOTE: This process might take several minutes depending\n",
            "        on your internet connection.\n",
            "Submodule '3rdparty/caffe' (https://github.com/CMU-Perceptual-Computing-Lab/caffe.git) registered for path '../3rdparty/caffe'\n",
            "Cloning into '/content/openpose/3rdparty/caffe'...\n",
            "Submodule path '../3rdparty/caffe': checked out 'b5ede488952e40861e84e51a9f9fd8fe2395cc8a'\n",
            "Previous HEAD position was b5ede488 Added TX2 JetPack3.3 support\n",
            "HEAD is now at 1807aada Added Ampere arch's (CUDA11)\n",
            "-- Caffe will be built from source now.\n",
            "-- Download the models.\n",
            "-- Downloading BODY_25 model...\n",
            "-- NOTE: This process might take several minutes depending on your internet connection.\n",
            "-- Not downloading body (COCO) model\n",
            "-- Not downloading body (MPI) model\n",
            "-- Downloading face model...\n",
            "-- NOTE: This process might take several minutes depending on your internet connection.\n",
            "-- Downloading hand model...\n",
            "-- NOTE: This process might take several minutes depending on your internet connection.\n",
            "-- Models Downloaded.\n",
            "-- Configuring done\n",
            "-- Generating done\n",
            "-- Build files have been written to: /content/openpose/build\n",
            "\u001b[35m\u001b[1mScanning dependencies of target openpose_lib\u001b[0m\n",
            "[ 12%] \u001b[34m\u001b[1mCreating directories for 'openpose_lib'\u001b[0m\n",
            "[ 25%] \u001b[34m\u001b[1mNo download step for 'openpose_lib'\u001b[0m\n",
            "[ 50%] \u001b[34m\u001b[1mNo patch step for 'openpose_lib'\u001b[0m\n",
            "[ 50%] \u001b[34m\u001b[1mNo update step for 'openpose_lib'\u001b[0m\n",
            "[ 62%] \u001b[34m\u001b[1mPerforming configure step for 'openpose_lib'\u001b[0m\n",
            "-- The C compiler identification is GNU 7.5.0\n",
            "-- The CXX compiler identification is GNU 7.5.0\n",
            "-- Check for working C compiler: /usr/bin/cc\n",
            "-- Check for working C compiler: /usr/bin/cc -- works\n",
            "-- Detecting C compiler ABI info\n",
            "-- Detecting C compiler ABI info - done\n",
            "-- Detecting C compile features\n",
            "-- Detecting C compile features - done\n",
            "-- Check for working CXX compiler: /usr/bin/c++\n",
            "-- Check for working CXX compiler: /usr/bin/c++ -- works\n",
            "-- Detecting CXX compiler ABI info\n",
            "-- Detecting CXX compiler ABI info - done\n",
            "-- Detecting CXX compile features\n",
            "-- Detecting CXX compile features - done\n",
            "-- Looking for pthread.h\n",
            "-- Looking for pthread.h - found\n",
            "-- Looking for pthread_create\n",
            "-- Looking for pthread_create - not found\n",
            "-- Looking for pthread_create in pthreads\n",
            "-- Looking for pthread_create in pthreads - not found\n",
            "-- Looking for pthread_create in pthread\n",
            "-- Looking for pthread_create in pthread - found\n",
            "-- Found Threads: TRUE  \n",
            "-- Boost version: 1.65.1\n",
            "-- Found the following Boost libraries:\n",
            "--   system\n",
            "--   thread\n",
            "--   filesystem\n",
            "--   chrono\n",
            "--   date_time\n",
            "--   atomic\n",
            "-- Found GFlags: /usr/include  \n",
            "-- Found gflags  (include: /usr/include, library: /usr/lib/x86_64-linux-gnu/libgflags.so)\n",
            "-- Found Glog: /usr/include  \n",
            "-- Found glog    (include: /usr/include, library: /usr/lib/x86_64-linux-gnu/libglog.so)\n",
            "-- Found Protobuf: /usr/lib/x86_64-linux-gnu/libprotobuf.so;-lpthread (found version \"3.0.0\") \n",
            "-- Found PROTOBUF Compiler: /usr/bin/protoc\n",
            "-- HDF5: Using hdf5 compiler wrapper to determine C configuration\n",
            "-- HDF5: Using hdf5 compiler wrapper to determine CXX configuration\n",
            "-- Found HDF5: /usr/lib/x86_64-linux-gnu/hdf5/serial/libhdf5_cpp.so;/usr/lib/x86_64-linux-gnu/hdf5/serial/libhdf5.so;/usr/lib/x86_64-linux-gnu/libpthread.so;/usr/lib/x86_64-linux-gnu/libsz.so;/usr/lib/x86_64-linux-gnu/libz.so;/usr/lib/x86_64-linux-gnu/libdl.so;/usr/lib/x86_64-linux-gnu/libm.so (found version \"1.10.0.1\") found components:  HL \n",
            "-- CUDA detected: 11.1\n",
            "-- Found cuDNN: ver. 7.6.5 found (include: /usr/include, library: /usr/lib/x86_64-linux-gnu/libcudnn.so)\n",
            "-- Added CUDA NVCC flags for: sm_37\n",
            "-- Found Atlas: /usr/include/x86_64-linux-gnu  \n",
            "-- Found Atlas (include: /usr/include/x86_64-linux-gnu library: /usr/lib/x86_64-linux-gnu/libatlas.so lapack: /usr/lib/x86_64-linux-gnu/liblapack.so\n",
            "-- Python interface is disabled or not all required dependencies found. Building without it...\n",
            "-- Found Git: /usr/bin/git (found version \"2.17.1\") \n",
            "-- \n",
            "-- ******************* Caffe Configuration Summary *******************\n",
            "-- General:\n",
            "--   Version           :   1.0.0\n",
            "--   Git               :   1.0-149-g1807aada\n",
            "--   System            :   Linux\n",
            "--   C++ compiler      :   /usr/bin/c++\n",
            "--   Release CXX flags :   -O3 -DNDEBUG -fPIC -Wall -std=c++11 -Wno-sign-compare -Wno-uninitialized\n",
            "--   Debug CXX flags   :   -g -fPIC -Wall -std=c++11 -Wno-sign-compare -Wno-uninitialized\n",
            "--   Build type        :   Release\n",
            "-- \n",
            "--   BUILD_SHARED_LIBS :   ON\n",
            "--   BUILD_python      :   OFF\n",
            "--   BUILD_matlab      :   OFF\n",
            "--   BUILD_docs        :   OFF\n",
            "--   CPU_ONLY          :   OFF\n",
            "--   USE_OPENCV        :   OFF\n",
            "--   USE_LEVELDB       :   OFF\n",
            "--   USE_LMDB          :   OFF\n",
            "--   USE_NCCL          :   OFF\n",
            "--   ALLOW_LMDB_NOLOCK :   OFF\n",
            "--   USE_HDF5          :   ON\n",
            "-- \n",
            "-- Dependencies:\n",
            "--   BLAS              :   Yes (Atlas)\n",
            "--   Boost             :   Yes (ver. 1.65)\n",
            "--   glog              :   Yes\n",
            "--   gflags            :   Yes\n",
            "--   protobuf          :   Yes (ver. 3.0.0)\n",
            "--   CUDA              :   Yes (ver. 11.1)\n",
            "-- \n",
            "-- NVIDIA CUDA:\n",
            "--   Target GPU(s)     :   Auto\n",
            "--   GPU arch(s)       :   sm_37\n",
            "--   cuDNN             :   Yes (ver. 7.6.5)\n",
            "-- \n",
            "-- Install:\n",
            "--   Install path      :   /content/openpose/build/caffe\n",
            "-- \n",
            "-- Configuring done\n",
            "-- Generating done\n",
            "CMake Warning:\n",
            "  Manually-specified variables were not used by the project:\n",
            "\n",
            "    CUDA_ARCH_BIN\n",
            "\n",
            "\n",
            "-- Build files have been written to: /content/openpose/build/caffe/src/openpose_lib-build\n",
            "[ 75%] \u001b[34m\u001b[1mPerforming build step for 'openpose_lib'\u001b[0m\n",
            "[  1%] \u001b[34m\u001b[1mRunning C++/Python protocol buffer compiler on /content/openpose/3rdparty/caffe/src/caffe/proto/caffe.proto\u001b[0m\n",
            "\u001b[35m\u001b[1mScanning dependencies of target caffeproto\u001b[0m\n",
            "[  1%] \u001b[32mBuilding CXX object src/caffe/CMakeFiles/caffeproto.dir/__/__/include/caffe/proto/caffe.pb.cc.o\u001b[0m\n",
            "[  1%] \u001b[32m\u001b[1mLinking CXX static library ../../lib/libcaffeproto.a\u001b[0m\n",
            "[  1%] Built target caffeproto\n",
            "[  1%] \u001b[34m\u001b[1mBuilding NVCC (Device) object src/caffe/CMakeFiles/cuda_compile_1.dir/util/cuda_compile_1_generated_math_functions.cu.o\u001b[0m\n",
            "[  1%] \u001b[34m\u001b[1mBuilding NVCC (Device) object src/caffe/CMakeFiles/cuda_compile_1.dir/layers/cuda_compile_1_generated_absval_layer.cu.o\u001b[0m\n",
            "nvcc warning : The 'compute_35', 'compute_37', 'compute_50', 'sm_35', 'sm_37' and 'sm_50' architectures are deprecated, and may be removed in a future release (Use -Wno-deprecated-gpu-targets to suppress warning).\n",
            "nvcc warning : The 'compute_35', 'compute_37', 'compute_50', 'sm_35', 'sm_37' and 'sm_50' architectures are deprecated, and may be removed in a future release (Use -Wno-deprecated-gpu-targets to suppress warning).\n",
            "In file included from /content/openpose/3rdparty/caffe/src/caffe/util/math_functions.cu:1:0:\n",
            "/usr/local/cuda/include/math_functions.h:54:2: warning: #warning \"math_functions.h is an internal header file and must not be used directly.  This file will be removed in a future CUDA release.  Please use cuda_runtime_api.h or cuda_runtime.h instead.\" [-Wcpp]\n",
            " #warning \"math_functions.h is an internal header file and must not be used directly.  This file will be removed in a future CUDA release.  Please use cuda_runtime_api.h or cuda_runtime.h instead.\"\n",
            "  ^~~~~~~\n",
            "In file included from /usr/local/cuda/include/thrust/detail/config/config.h:27:0,\n",
            "                 from /usr/local/cuda/include/thrust/detail/config.h:23,\n",
            "                 from /usr/local/cuda/include/thrust/device_vector.h:24,\n",
            "                 from /content/openpose/3rdparty/caffe/src/caffe/util/math_functions.cu:2:\n",
            "/usr/local/cuda/include/thrust/detail/config/cpp_dialect.h:104:13: warning: Thrust requires C++14. Please pass -std=c++14 to your compiler. Define THRUST_IGNORE_DEPRECATED_CPP_DIALECT to suppress this message.\n",
            "   THRUST_COMPILER_DEPRECATION(C++14, pass -std=c++14 to your compiler);\n",
            "             ^~~~~~~~~~~~~~~~~~~~~~~~~~~~~~~~~~~~~~~~~~~~~~~~~~~~~~~~~~~                                                                            \n",
            "In file included from /usr/local/cuda/include/cub/util_arch.cuh:36:0,\n",
            "                 from /usr/local/cuda/include/thrust/system/cuda/detail/util.h:32,\n",
            "                 from /usr/local/cuda/include/thrust/system/cuda/detail/for_each.h:34,\n",
            "                 from /usr/local/cuda/include/thrust/system/detail/adl/for_each.h:42,\n",
            "                 from /usr/local/cuda/include/thrust/detail/for_each.inl:27,\n",
            "                 from /usr/local/cuda/include/thrust/for_each.h:279,\n",
            "                 from /usr/local/cuda/include/thrust/system/detail/generic/transform.inl:19,\n",
            "                 from /usr/local/cuda/include/thrust/system/detail/generic/transform.h:105,\n",
            "                 from /usr/local/cuda/include/thrust/detail/transform.inl:25,\n",
            "                 from /usr/local/cuda/include/thrust/transform.h:724,\n",
            "                 from /usr/local/cuda/include/thrust/system/detail/generic/copy.inl:23,\n",
            "                 from /usr/local/cuda/include/thrust/system/detail/generic/copy.h:58,\n",
            "                 from /usr/local/cuda/include/thrust/detail/copy.inl:21,\n",
            "                 from /usr/local/cuda/include/thrust/detail/copy.h:90,\n",
            "                 from /usr/local/cuda/include/thrust/detail/allocator/copy_construct_range.inl:21,\n",
            "                 from /usr/local/cuda/include/thrust/detail/allocator/copy_construct_range.h:46,\n",
            "                 from /usr/local/cuda/include/thrust/detail/contiguous_storage.inl:23,\n",
            "                 from /usr/local/cuda/include/thrust/detail/contiguous_storage.h:235,\n",
            "                 from /usr/local/cuda/include/thrust/detail/vector_base.h:30,\n",
            "                 from /usr/local/cuda/include/thrust/device_vector.h:25,\n",
            "                 from /content/openpose/3rdparty/caffe/src/caffe/util/math_functions.cu:2:\n",
            "/usr/local/cuda/include/cub/util_cpp_dialect.cuh:129:13: warning: CUB requires C++14. Please pass -std=c++14 to your compiler. Define CUB_IGNORE_DEPRECATED_CPP_DIALECT to suppress this message.\n",
            "   CUB_COMPILER_DEPRECATION(C++14, pass -std=c++14 to your compiler);\n",
            "             ^~~~~~~~~~~~~~~~~~~~~~~~~~~~~~~~~~~~~~~~~~~~~~~~~~~~~~~~                                                                         \n",
            "nvcc warning : The 'compute_35', 'compute_37', 'compute_50', 'sm_35', 'sm_37' and 'sm_50' architectures are deprecated, and may be removed in a future release (Use -Wno-deprecated-gpu-targets to suppress warning).\n",
            "In file included from /content/openpose/3rdparty/caffe/src/caffe/util/math_functions.cu:1:0:\n",
            "/usr/local/cuda/include/math_functions.h:54:2: warning: #warning \"math_functions.h is an internal header file and must not be used directly.  This file will be removed in a future CUDA release.  Please use cuda_runtime_api.h or cuda_runtime.h instead.\" [-Wcpp]\n",
            " #warning \"math_functions.h is an internal header file and must not be used directly.  This file will be removed in a future CUDA release.  Please use cuda_runtime_api.h or cuda_runtime.h instead.\"\n",
            "  ^~~~~~~\n",
            "In file included from /usr/local/cuda/include/thrust/detail/config/config.h:27:0,\n",
            "                 from /usr/local/cuda/include/thrust/detail/config.h:23,\n",
            "                 from /usr/local/cuda/include/thrust/device_vector.h:24,\n",
            "                 from /content/openpose/3rdparty/caffe/src/caffe/util/math_functions.cu:2:\n",
            "/usr/local/cuda/include/thrust/detail/config/cpp_dialect.h:104:13: warning: Thrust requires C++14. Please pass -std=c++14 to your compiler. Define THRUST_IGNORE_DEPRECATED_CPP_DIALECT to suppress this message.\n",
            "   THRUST_COMPILER_DEPRECATION(C++14, pass -std=c++14 to your compiler);\n",
            "             ^~~~~~~~~~~~~~~~~~~~~~~~~~~~~~~~~~~~~~~~~~~~~~~~~~~~~~~~~~~                                                                            \n",
            "In file included from /usr/local/cuda/include/cub/util_arch.cuh:36:0,\n",
            "                 from /usr/local/cuda/include/thrust/system/cuda/detail/util.h:32,\n",
            "                 from /usr/local/cuda/include/thrust/system/cuda/detail/for_each.h:34,\n",
            "                 from /usr/local/cuda/include/thrust/system/detail/adl/for_each.h:42,\n",
            "                 from /usr/local/cuda/include/thrust/detail/for_each.inl:27,\n",
            "                 from /usr/local/cuda/include/thrust/for_each.h:279,\n",
            "                 from /usr/local/cuda/include/thrust/system/detail/generic/transform.inl:19,\n",
            "                 from /usr/local/cuda/include/thrust/system/detail/generic/transform.h:105,\n",
            "                 from /usr/local/cuda/include/thrust/detail/transform.inl:25,\n",
            "                 from /usr/local/cuda/include/thrust/transform.h:724,\n",
            "                 from /usr/local/cuda/include/thrust/system/detail/generic/copy.inl:23,\n",
            "                 from /usr/local/cuda/include/thrust/system/detail/generic/copy.h:58,\n",
            "                 from /usr/local/cuda/include/thrust/detail/copy.inl:21,\n",
            "                 from /usr/local/cuda/include/thrust/detail/copy.h:90,\n",
            "                 from /usr/local/cuda/include/thrust/detail/allocator/copy_construct_range.inl:21,\n",
            "                 from /usr/local/cuda/include/thrust/detail/allocator/copy_construct_range.h:46,\n",
            "                 from /usr/local/cuda/include/thrust/detail/contiguous_storage.inl:23,\n",
            "                 from /usr/local/cuda/include/thrust/detail/contiguous_storage.h:235,\n",
            "                 from /usr/local/cuda/include/thrust/detail/vector_base.h:30,\n",
            "                 from /usr/local/cuda/include/thrust/device_vector.h:25,\n",
            "                 from /content/openpose/3rdparty/caffe/src/caffe/util/math_functions.cu:2:\n",
            "/usr/local/cuda/include/cub/util_cpp_dialect.cuh:129:13: warning: CUB requires C++14. Please pass -std=c++14 to your compiler. Define CUB_IGNORE_DEPRECATED_CPP_DIALECT to suppress this message.\n",
            "   CUB_COMPILER_DEPRECATION(C++14, pass -std=c++14 to your compiler);\n",
            "             ^~~~~~~~~~~~~~~~~~~~~~~~~~~~~~~~~~~~~~~~~~~~~~~~~~~~~~~~                                                                         \n",
            "nvcc warning : The 'compute_35', 'compute_37', 'compute_50', 'sm_35', 'sm_37' and 'sm_50' architectures are deprecated, and may be removed in a future release (Use -Wno-deprecated-gpu-targets to suppress warning).\n",
            "In file included from /content/openpose/3rdparty/caffe/src/caffe/util/math_functions.cu:1:0:\n",
            "/usr/local/cuda/include/math_functions.h:54:2: warning: #warning \"math_functions.h is an internal header file and must not be used directly.  This file will be removed in a future CUDA release.  Please use cuda_runtime_api.h or cuda_runtime.h instead.\" [-Wcpp]\n",
            " #warning \"math_functions.h is an internal header file and must not be used directly.  This file will be removed in a future CUDA release.  Please use cuda_runtime_api.h or cuda_runtime.h instead.\"\n",
            "  ^~~~~~~\n",
            "In file included from /usr/local/cuda/include/thrust/detail/config/config.h:27:0,\n",
            "                 from /usr/local/cuda/include/thrust/detail/config.h:23,\n",
            "                 from /usr/local/cuda/include/thrust/device_vector.h:24,\n",
            "                 from /content/openpose/3rdparty/caffe/src/caffe/util/math_functions.cu:2:\n",
            "/usr/local/cuda/include/thrust/detail/config/cpp_dialect.h:104:13: warning: Thrust requires C++14. Please pass -std=c++14 to your compiler. Define THRUST_IGNORE_DEPRECATED_CPP_DIALECT to suppress this message.\n",
            "   THRUST_COMPILER_DEPRECATION(C++14, pass -std=c++14 to your compiler);\n",
            "             ^~~~~~~~~~~~~~~~~~~~~~~~~~~~~~~~~~~~~~~~~~~~~~~~~~~~~~~~~~~                                                                            \n",
            "In file included from /usr/local/cuda/include/cub/util_arch.cuh:36:0,\n",
            "                 from /usr/local/cuda/include/thrust/system/cuda/detail/util.h:32,\n",
            "                 from /usr/local/cuda/include/thrust/system/cuda/detail/for_each.h:34,\n",
            "                 from /usr/local/cuda/include/thrust/system/detail/adl/for_each.h:42,\n",
            "                 from /usr/local/cuda/include/thrust/detail/for_each.inl:27,\n",
            "                 from /usr/local/cuda/include/thrust/for_each.h:279,\n",
            "                 from /usr/local/cuda/include/thrust/system/detail/generic/transform.inl:19,\n",
            "                 from /usr/local/cuda/include/thrust/system/detail/generic/transform.h:105,\n",
            "                 from /usr/local/cuda/include/thrust/detail/transform.inl:25,\n",
            "                 from /usr/local/cuda/include/thrust/transform.h:724,\n",
            "                 from /usr/local/cuda/include/thrust/system/detail/generic/copy.inl:23,\n",
            "                 from /usr/local/cuda/include/thrust/system/detail/generic/copy.h:58,\n",
            "                 from /usr/local/cuda/include/thrust/detail/copy.inl:21,\n",
            "                 from /usr/local/cuda/include/thrust/detail/copy.h:90,\n",
            "                 from /usr/local/cuda/include/thrust/detail/allocator/copy_construct_range.inl:21,\n",
            "                 from /usr/local/cuda/include/thrust/detail/allocator/copy_construct_range.h:46,\n",
            "                 from /usr/local/cuda/include/thrust/detail/contiguous_storage.inl:23,\n",
            "                 from /usr/local/cuda/include/thrust/detail/contiguous_storage.h:235,\n",
            "                 from /usr/local/cuda/include/thrust/detail/vector_base.h:30,\n",
            "                 from /usr/local/cuda/include/thrust/device_vector.h:25,\n",
            "                 from /content/openpose/3rdparty/caffe/src/caffe/util/math_functions.cu:2:\n",
            "/usr/local/cuda/include/cub/util_cpp_dialect.cuh:129:13: warning: CUB requires C++14. Please pass -std=c++14 to your compiler. Define CUB_IGNORE_DEPRECATED_CPP_DIALECT to suppress this message.\n",
            "   CUB_COMPILER_DEPRECATION(C++14, pass -std=c++14 to your compiler);\n",
            "             ^~~~~~~~~~~~~~~~~~~~~~~~~~~~~~~~~~~~~~~~~~~~~~~~~~~~~~~~                                                                         \n",
            "In file included from /content/openpose/3rdparty/caffe/src/caffe/util/math_functions.cu:1:0:\n",
            "/usr/local/cuda/include/math_functions.h:54:2: warning: #warning \"math_functions.h is an internal header file and must not be used directly.  This file will be removed in a future CUDA release.  Please use cuda_runtime_api.h or cuda_runtime.h instead.\" [-Wcpp]\n",
            " #warning \"math_functions.h is an internal header file and must not be used directly.  This file will be removed in a future CUDA release.  Please use cuda_runtime_api.h or cuda_runtime.h instead.\"\n",
            "  ^~~~~~~\n",
            "In file included from /usr/local/cuda/include/thrust/detail/config/config.h:27:0,\n",
            "                 from /usr/local/cuda/include/thrust/detail/config.h:23,\n",
            "                 from /usr/local/cuda/include/thrust/device_vector.h:24,\n",
            "                 from /content/openpose/3rdparty/caffe/src/caffe/util/math_functions.cu:2:\n",
            "/usr/local/cuda/include/thrust/detail/config/cpp_dialect.h:104:13: warning: Thrust requires C++14. Please pass -std=c++14 to your compiler. Define THRUST_IGNORE_DEPRECATED_CPP_DIALECT to suppress this message.\n",
            "   THRUST_COMPILER_DEPRECATION(C++14, pass -std=c++14 to your compiler);\n",
            "             ^~~~~~~~~~~~~~~~~~~~~~~~~~~~~~~~~~~~~~~~~~~~~~~~~~~~~~~~~~~                                                                            \n",
            "In file included from /usr/local/cuda/include/cub/util_arch.cuh:36:0,\n",
            "                 from /usr/local/cuda/include/thrust/system/cuda/detail/util.h:32,\n",
            "                 from /usr/local/cuda/include/thrust/system/cuda/detail/for_each.h:34,\n",
            "                 from /usr/local/cuda/include/thrust/system/detail/adl/for_each.h:42,\n",
            "                 from /usr/local/cuda/include/thrust/detail/for_each.inl:27,\n",
            "                 from /usr/local/cuda/include/thrust/for_each.h:279,\n",
            "                 from /usr/local/cuda/include/thrust/system/detail/generic/transform.inl:19,\n",
            "                 from /usr/local/cuda/include/thrust/system/detail/generic/transform.h:105,\n",
            "                 from /usr/local/cuda/include/thrust/detail/transform.inl:25,\n",
            "                 from /usr/local/cuda/include/thrust/transform.h:724,\n",
            "                 from /usr/local/cuda/include/thrust/system/detail/generic/copy.inl:23,\n",
            "                 from /usr/local/cuda/include/thrust/system/detail/generic/copy.h:58,\n",
            "                 from /usr/local/cuda/include/thrust/detail/copy.inl:21,\n",
            "                 from /usr/local/cuda/include/thrust/detail/copy.h:90,\n",
            "                 from /usr/local/cuda/include/thrust/detail/allocator/copy_construct_range.inl:21,\n",
            "                 from /usr/local/cuda/include/thrust/detail/allocator/copy_construct_range.h:46,\n",
            "                 from /usr/local/cuda/include/thrust/detail/contiguous_storage.inl:23,\n",
            "                 from /usr/local/cuda/include/thrust/detail/contiguous_storage.h:235,\n",
            "                 from /usr/local/cuda/include/thrust/detail/vector_base.h:30,\n",
            "                 from /usr/local/cuda/include/thrust/device_vector.h:25,\n",
            "                 from /content/openpose/3rdparty/caffe/src/caffe/util/math_functions.cu:2:\n",
            "/usr/local/cuda/include/cub/util_cpp_dialect.cuh:129:13: warning: CUB requires C++14. Please pass -std=c++14 to your compiler. Define CUB_IGNORE_DEPRECATED_CPP_DIALECT to suppress this message.\n",
            "   CUB_COMPILER_DEPRECATION(C++14, pass -std=c++14 to your compiler);\n",
            "             ^~~~~~~~~~~~~~~~~~~~~~~~~~~~~~~~~~~~~~~~~~~~~~~~~~~~~~~~                                                                         \n",
            "[  1%] \u001b[34m\u001b[1mBuilding NVCC (Device) object src/caffe/CMakeFiles/cuda_compile_1.dir/layers/cuda_compile_1_generated_accuracy_layer.cu.o\u001b[0m\n",
            "nvcc warning : The 'compute_35', 'compute_37', 'compute_50', 'sm_35', 'sm_37' and 'sm_50' architectures are deprecated, and may be removed in a future release (Use -Wno-deprecated-gpu-targets to suppress warning).\n",
            "nvcc warning : The 'compute_35', 'compute_37', 'compute_50', 'sm_35', 'sm_37' and 'sm_50' architectures are deprecated, and may be removed in a future release (Use -Wno-deprecated-gpu-targets to suppress warning).\n",
            "[  2%] \u001b[34m\u001b[1mBuilding NVCC (Device) object src/caffe/CMakeFiles/cuda_compile_1.dir/layers/cuda_compile_1_generated_base_data_layer.cu.o\u001b[0m\n",
            "nvcc warning : The 'compute_35', 'compute_37', 'compute_50', 'sm_35', 'sm_37' and 'sm_50' architectures are deprecated, and may be removed in a future release (Use -Wno-deprecated-gpu-targets to suppress warning).\n",
            "nvcc warning : The 'compute_35', 'compute_37', 'compute_50', 'sm_35', 'sm_37' and 'sm_50' architectures are deprecated, and may be removed in a future release (Use -Wno-deprecated-gpu-targets to suppress warning).\n",
            "[  2%] \u001b[34m\u001b[1mBuilding NVCC (Device) object src/caffe/CMakeFiles/cuda_compile_1.dir/layers/cuda_compile_1_generated_batch_norm_layer.cu.o\u001b[0m\n",
            "nvcc warning : The 'compute_35', 'compute_37', 'compute_50', 'sm_35', 'sm_37' and 'sm_50' architectures are deprecated, and may be removed in a future release (Use -Wno-deprecated-gpu-targets to suppress warning).\n",
            "nvcc warning : The 'compute_35', 'compute_37', 'compute_50', 'sm_35', 'sm_37' and 'sm_50' architectures are deprecated, and may be removed in a future release (Use -Wno-deprecated-gpu-targets to suppress warning).\n",
            "[  2%] \u001b[34m\u001b[1mBuilding NVCC (Device) object src/caffe/CMakeFiles/cuda_compile_1.dir/layers/cuda_compile_1_generated_batch_reindex_layer.cu.o\u001b[0m\n",
            "nvcc warning : The 'compute_35', 'compute_37', 'compute_50', 'sm_35', 'sm_37' and 'sm_50' architectures are deprecated, and may be removed in a future release (Use -Wno-deprecated-gpu-targets to suppress warning).\n",
            "nvcc warning : The 'compute_35', 'compute_37', 'compute_50', 'sm_35', 'sm_37' and 'sm_50' architectures are deprecated, and may be removed in a future release (Use -Wno-deprecated-gpu-targets to suppress warning).\n",
            "[  4%] \u001b[34m\u001b[1mBuilding NVCC (Device) object src/caffe/CMakeFiles/cuda_compile_1.dir/layers/cuda_compile_1_generated_bias_layer.cu.o\u001b[0m\n",
            "nvcc warning : The 'compute_35', 'compute_37', 'compute_50', 'sm_35', 'sm_37' and 'sm_50' architectures are deprecated, and may be removed in a future release (Use -Wno-deprecated-gpu-targets to suppress warning).\n",
            "nvcc warning : The 'compute_35', 'compute_37', 'compute_50', 'sm_35', 'sm_37' and 'sm_50' architectures are deprecated, and may be removed in a future release (Use -Wno-deprecated-gpu-targets to suppress warning).\n",
            "[  4%] \u001b[34m\u001b[1mBuilding NVCC (Device) object src/caffe/CMakeFiles/cuda_compile_1.dir/layers/cuda_compile_1_generated_bnll_layer.cu.o\u001b[0m\n",
            "nvcc warning : The 'compute_35', 'compute_37', 'compute_50', 'sm_35', 'sm_37' and 'sm_50' architectures are deprecated, and may be removed in a future release (Use -Wno-deprecated-gpu-targets to suppress warning).\n",
            "nvcc warning : The 'compute_35', 'compute_37', 'compute_50', 'sm_35', 'sm_37' and 'sm_50' architectures are deprecated, and may be removed in a future release (Use -Wno-deprecated-gpu-targets to suppress warning).\n",
            "[  5%] \u001b[34m\u001b[1mBuilding NVCC (Device) object src/caffe/CMakeFiles/cuda_compile_1.dir/layers/cuda_compile_1_generated_clip_layer.cu.o\u001b[0m\n",
            "nvcc warning : The 'compute_35', 'compute_37', 'compute_50', 'sm_35', 'sm_37' and 'sm_50' architectures are deprecated, and may be removed in a future release (Use -Wno-deprecated-gpu-targets to suppress warning).\n",
            "nvcc warning : The 'compute_35', 'compute_37', 'compute_50', 'sm_35', 'sm_37' and 'sm_50' architectures are deprecated, and may be removed in a future release (Use -Wno-deprecated-gpu-targets to suppress warning).\n",
            "[  5%] \u001b[34m\u001b[1mBuilding NVCC (Device) object src/caffe/CMakeFiles/cuda_compile_1.dir/layers/cuda_compile_1_generated_concat_layer.cu.o\u001b[0m\n",
            "nvcc warning : The 'compute_35', 'compute_37', 'compute_50', 'sm_35', 'sm_37' and 'sm_50' architectures are deprecated, and may be removed in a future release (Use -Wno-deprecated-gpu-targets to suppress warning).\n",
            "nvcc warning : The 'compute_35', 'compute_37', 'compute_50', 'sm_35', 'sm_37' and 'sm_50' architectures are deprecated, and may be removed in a future release (Use -Wno-deprecated-gpu-targets to suppress warning).\n",
            "[  5%] \u001b[34m\u001b[1mBuilding NVCC (Device) object src/caffe/CMakeFiles/cuda_compile_1.dir/layers/cuda_compile_1_generated_contrastive_loss_layer.cu.o\u001b[0m\n",
            "nvcc warning : The 'compute_35', 'compute_37', 'compute_50', 'sm_35', 'sm_37' and 'sm_50' architectures are deprecated, and may be removed in a future release (Use -Wno-deprecated-gpu-targets to suppress warning).\n",
            "nvcc warning : The 'compute_35', 'compute_37', 'compute_50', 'sm_35', 'sm_37' and 'sm_50' architectures are deprecated, and may be removed in a future release (Use -Wno-deprecated-gpu-targets to suppress warning).\n",
            "[  6%] \u001b[34m\u001b[1mBuilding NVCC (Device) object src/caffe/CMakeFiles/cuda_compile_1.dir/layers/cuda_compile_1_generated_conv_layer.cu.o\u001b[0m\n",
            "nvcc warning : The 'compute_35', 'compute_37', 'compute_50', 'sm_35', 'sm_37' and 'sm_50' architectures are deprecated, and may be removed in a future release (Use -Wno-deprecated-gpu-targets to suppress warning).\n",
            "nvcc warning : The 'compute_35', 'compute_37', 'compute_50', 'sm_35', 'sm_37' and 'sm_50' architectures are deprecated, and may be removed in a future release (Use -Wno-deprecated-gpu-targets to suppress warning).\n",
            "[  6%] \u001b[34m\u001b[1mBuilding NVCC (Device) object src/caffe/CMakeFiles/cuda_compile_1.dir/layers/cuda_compile_1_generated_crop_layer.cu.o\u001b[0m\n",
            "nvcc warning : The 'compute_35', 'compute_37', 'compute_50', 'sm_35', 'sm_37' and 'sm_50' architectures are deprecated, and may be removed in a future release (Use -Wno-deprecated-gpu-targets to suppress warning).\n",
            "nvcc warning : The 'compute_35', 'compute_37', 'compute_50', 'sm_35', 'sm_37' and 'sm_50' architectures are deprecated, and may be removed in a future release (Use -Wno-deprecated-gpu-targets to suppress warning).\n",
            "[  6%] \u001b[34m\u001b[1mBuilding NVCC (Device) object src/caffe/CMakeFiles/cuda_compile_1.dir/layers/cuda_compile_1_generated_cudnn_conv_layer.cu.o\u001b[0m\n",
            "nvcc warning : The 'compute_35', 'compute_37', 'compute_50', 'sm_35', 'sm_37' and 'sm_50' architectures are deprecated, and may be removed in a future release (Use -Wno-deprecated-gpu-targets to suppress warning).\n",
            "nvcc warning : The 'compute_35', 'compute_37', 'compute_50', 'sm_35', 'sm_37' and 'sm_50' architectures are deprecated, and may be removed in a future release (Use -Wno-deprecated-gpu-targets to suppress warning).\n",
            "[  8%] \u001b[34m\u001b[1mBuilding NVCC (Device) object src/caffe/CMakeFiles/cuda_compile_1.dir/layers/cuda_compile_1_generated_cudnn_deconv_layer.cu.o\u001b[0m\n",
            "nvcc warning : The 'compute_35', 'compute_37', 'compute_50', 'sm_35', 'sm_37' and 'sm_50' architectures are deprecated, and may be removed in a future release (Use -Wno-deprecated-gpu-targets to suppress warning).\n",
            "nvcc warning : The 'compute_35', 'compute_37', 'compute_50', 'sm_35', 'sm_37' and 'sm_50' architectures are deprecated, and may be removed in a future release (Use -Wno-deprecated-gpu-targets to suppress warning).\n",
            "[  8%] \u001b[34m\u001b[1mBuilding NVCC (Device) object src/caffe/CMakeFiles/cuda_compile_1.dir/layers/cuda_compile_1_generated_cudnn_lcn_layer.cu.o\u001b[0m\n",
            "nvcc warning : The 'compute_35', 'compute_37', 'compute_50', 'sm_35', 'sm_37' and 'sm_50' architectures are deprecated, and may be removed in a future release (Use -Wno-deprecated-gpu-targets to suppress warning).\n",
            "nvcc warning : The 'compute_35', 'compute_37', 'compute_50', 'sm_35', 'sm_37' and 'sm_50' architectures are deprecated, and may be removed in a future release (Use -Wno-deprecated-gpu-targets to suppress warning).\n",
            "[  9%] \u001b[34m\u001b[1mBuilding NVCC (Device) object src/caffe/CMakeFiles/cuda_compile_1.dir/layers/cuda_compile_1_generated_cudnn_lrn_layer.cu.o\u001b[0m\n",
            "nvcc warning : The 'compute_35', 'compute_37', 'compute_50', 'sm_35', 'sm_37' and 'sm_50' architectures are deprecated, and may be removed in a future release (Use -Wno-deprecated-gpu-targets to suppress warning).\n",
            "nvcc warning : The 'compute_35', 'compute_37', 'compute_50', 'sm_35', 'sm_37' and 'sm_50' architectures are deprecated, and may be removed in a future release (Use -Wno-deprecated-gpu-targets to suppress warning).\n",
            "[  9%] \u001b[34m\u001b[1mBuilding NVCC (Device) object src/caffe/CMakeFiles/cuda_compile_1.dir/layers/cuda_compile_1_generated_cudnn_pooling_layer.cu.o\u001b[0m\n",
            "nvcc warning : The 'compute_35', 'compute_37', 'compute_50', 'sm_35', 'sm_37' and 'sm_50' architectures are deprecated, and may be removed in a future release (Use -Wno-deprecated-gpu-targets to suppress warning).\n",
            "nvcc warning : The 'compute_35', 'compute_37', 'compute_50', 'sm_35', 'sm_37' and 'sm_50' architectures are deprecated, and may be removed in a future release (Use -Wno-deprecated-gpu-targets to suppress warning).\n",
            "[  9%] \u001b[34m\u001b[1mBuilding NVCC (Device) object src/caffe/CMakeFiles/cuda_compile_1.dir/layers/cuda_compile_1_generated_cudnn_relu_layer.cu.o\u001b[0m\n",
            "nvcc warning : The 'compute_35', 'compute_37', 'compute_50', 'sm_35', 'sm_37' and 'sm_50' architectures are deprecated, and may be removed in a future release (Use -Wno-deprecated-gpu-targets to suppress warning).\n",
            "nvcc warning : The 'compute_35', 'compute_37', 'compute_50', 'sm_35', 'sm_37' and 'sm_50' architectures are deprecated, and may be removed in a future release (Use -Wno-deprecated-gpu-targets to suppress warning).\n",
            "[ 10%] \u001b[34m\u001b[1mBuilding NVCC (Device) object src/caffe/CMakeFiles/cuda_compile_1.dir/layers/cuda_compile_1_generated_cudnn_sigmoid_layer.cu.o\u001b[0m\n",
            "nvcc warning : The 'compute_35', 'compute_37', 'compute_50', 'sm_35', 'sm_37' and 'sm_50' architectures are deprecated, and may be removed in a future release (Use -Wno-deprecated-gpu-targets to suppress warning).\n",
            "nvcc warning : The 'compute_35', 'compute_37', 'compute_50', 'sm_35', 'sm_37' and 'sm_50' architectures are deprecated, and may be removed in a future release (Use -Wno-deprecated-gpu-targets to suppress warning).\n",
            "[ 10%] \u001b[34m\u001b[1mBuilding NVCC (Device) object src/caffe/CMakeFiles/cuda_compile_1.dir/layers/cuda_compile_1_generated_cudnn_softmax_layer.cu.o\u001b[0m\n",
            "nvcc warning : The 'compute_35', 'compute_37', 'compute_50', 'sm_35', 'sm_37' and 'sm_50' architectures are deprecated, and may be removed in a future release (Use -Wno-deprecated-gpu-targets to suppress warning).\n",
            "In file included from /usr/local/cuda/include/thrust/detail/config/config.h:27:0,\n",
            "                 from /usr/local/cuda/include/thrust/detail/config.h:23,\n",
            "                 from /usr/local/cuda/include/thrust/device_vector.h:24,\n",
            "                 from /content/openpose/3rdparty/caffe/src/caffe/layers/cudnn_softmax_layer.cu:4:\n",
            "/usr/local/cuda/include/thrust/detail/config/cpp_dialect.h:104:13: warning: Thrust requires C++14. Please pass -std=c++14 to your compiler. Define THRUST_IGNORE_DEPRECATED_CPP_DIALECT to suppress this message.\n",
            "   THRUST_COMPILER_DEPRECATION(C++14, pass -std=c++14 to your compiler);\n",
            "             ^~~~~~~~~~~~~~~~~~~~~~~~~~~~~~~~~~~~~~~~~~~~~~~~~~~~~~~~~~~                                                                            \n",
            "In file included from /usr/local/cuda/include/cub/util_arch.cuh:36:0,\n",
            "                 from /usr/local/cuda/include/thrust/system/cuda/detail/util.h:32,\n",
            "                 from /usr/local/cuda/include/thrust/system/cuda/detail/for_each.h:34,\n",
            "                 from /usr/local/cuda/include/thrust/system/detail/adl/for_each.h:42,\n",
            "                 from /usr/local/cuda/include/thrust/detail/for_each.inl:27,\n",
            "                 from /usr/local/cuda/include/thrust/for_each.h:279,\n",
            "                 from /usr/local/cuda/include/thrust/system/detail/generic/transform.inl:19,\n",
            "                 from /usr/local/cuda/include/thrust/system/detail/generic/transform.h:105,\n",
            "                 from /usr/local/cuda/include/thrust/detail/transform.inl:25,\n",
            "                 from /usr/local/cuda/include/thrust/transform.h:724,\n",
            "                 from /usr/local/cuda/include/thrust/system/detail/generic/copy.inl:23,\n",
            "                 from /usr/local/cuda/include/thrust/system/detail/generic/copy.h:58,\n",
            "                 from /usr/local/cuda/include/thrust/detail/copy.inl:21,\n",
            "                 from /usr/local/cuda/include/thrust/detail/copy.h:90,\n",
            "                 from /usr/local/cuda/include/thrust/detail/allocator/copy_construct_range.inl:21,\n",
            "                 from /usr/local/cuda/include/thrust/detail/allocator/copy_construct_range.h:46,\n",
            "                 from /usr/local/cuda/include/thrust/detail/contiguous_storage.inl:23,\n",
            "                 from /usr/local/cuda/include/thrust/detail/contiguous_storage.h:235,\n",
            "                 from /usr/local/cuda/include/thrust/detail/vector_base.h:30,\n",
            "                 from /usr/local/cuda/include/thrust/device_vector.h:25,\n",
            "                 from /content/openpose/3rdparty/caffe/src/caffe/layers/cudnn_softmax_layer.cu:4:\n",
            "/usr/local/cuda/include/cub/util_cpp_dialect.cuh:129:13: warning: CUB requires C++14. Please pass -std=c++14 to your compiler. Define CUB_IGNORE_DEPRECATED_CPP_DIALECT to suppress this message.\n",
            "   CUB_COMPILER_DEPRECATION(C++14, pass -std=c++14 to your compiler);\n",
            "             ^~~~~~~~~~~~~~~~~~~~~~~~~~~~~~~~~~~~~~~~~~~~~~~~~~~~~~~~                                                                         \n",
            "In file included from /usr/local/cuda/include/thrust/detail/config/config.h:27:0,\n",
            "                 from /usr/local/cuda/include/thrust/detail/config.h:23,\n",
            "                 from /usr/local/cuda/include/thrust/device_vector.h:24,\n",
            "                 from /content/openpose/3rdparty/caffe/src/caffe/layers/cudnn_softmax_layer.cu:4:\n",
            "/usr/local/cuda/include/thrust/detail/config/cpp_dialect.h:104:13: warning: Thrust requires C++14. Please pass -std=c++14 to your compiler. Define THRUST_IGNORE_DEPRECATED_CPP_DIALECT to suppress this message.\n",
            "   THRUST_COMPILER_DEPRECATION(C++14, pass -std=c++14 to your compiler);\n",
            "             ^~~~~~~~~~~~~~~~~~~~~~~~~~~~~~~~~~~~~~~~~~~~~~~~~~~~~~~~~~~                                                                            \n",
            "In file included from /usr/local/cuda/include/cub/util_arch.cuh:36:0,\n",
            "                 from /usr/local/cuda/include/thrust/system/cuda/detail/util.h:32,\n",
            "                 from /usr/local/cuda/include/thrust/system/cuda/detail/for_each.h:34,\n",
            "                 from /usr/local/cuda/include/thrust/system/detail/adl/for_each.h:42,\n",
            "                 from /usr/local/cuda/include/thrust/detail/for_each.inl:27,\n",
            "                 from /usr/local/cuda/include/thrust/for_each.h:279,\n",
            "                 from /usr/local/cuda/include/thrust/system/detail/generic/transform.inl:19,\n",
            "                 from /usr/local/cuda/include/thrust/system/detail/generic/transform.h:105,\n",
            "                 from /usr/local/cuda/include/thrust/detail/transform.inl:25,\n",
            "                 from /usr/local/cuda/include/thrust/transform.h:724,\n",
            "                 from /usr/local/cuda/include/thrust/system/detail/generic/copy.inl:23,\n",
            "                 from /usr/local/cuda/include/thrust/system/detail/generic/copy.h:58,\n",
            "                 from /usr/local/cuda/include/thrust/detail/copy.inl:21,\n",
            "                 from /usr/local/cuda/include/thrust/detail/copy.h:90,\n",
            "                 from /usr/local/cuda/include/thrust/detail/allocator/copy_construct_range.inl:21,\n",
            "                 from /usr/local/cuda/include/thrust/detail/allocator/copy_construct_range.h:46,\n",
            "                 from /usr/local/cuda/include/thrust/detail/contiguous_storage.inl:23,\n",
            "                 from /usr/local/cuda/include/thrust/detail/contiguous_storage.h:235,\n",
            "                 from /usr/local/cuda/include/thrust/detail/vector_base.h:30,\n",
            "                 from /usr/local/cuda/include/thrust/device_vector.h:25,\n",
            "                 from /content/openpose/3rdparty/caffe/src/caffe/layers/cudnn_softmax_layer.cu:4:\n",
            "/usr/local/cuda/include/cub/util_cpp_dialect.cuh:129:13: warning: CUB requires C++14. Please pass -std=c++14 to your compiler. Define CUB_IGNORE_DEPRECATED_CPP_DIALECT to suppress this message.\n",
            "   CUB_COMPILER_DEPRECATION(C++14, pass -std=c++14 to your compiler);\n",
            "             ^~~~~~~~~~~~~~~~~~~~~~~~~~~~~~~~~~~~~~~~~~~~~~~~~~~~~~~~                                                                         \n",
            "nvcc warning : The 'compute_35', 'compute_37', 'compute_50', 'sm_35', 'sm_37' and 'sm_50' architectures are deprecated, and may be removed in a future release (Use -Wno-deprecated-gpu-targets to suppress warning).\n",
            "In file included from /usr/local/cuda/include/thrust/detail/config/config.h:27:0,\n",
            "                 from /usr/local/cuda/include/thrust/detail/config.h:23,\n",
            "                 from /usr/local/cuda/include/thrust/device_vector.h:24,\n",
            "                 from /content/openpose/3rdparty/caffe/src/caffe/layers/cudnn_softmax_layer.cu:4:\n",
            "/usr/local/cuda/include/thrust/detail/config/cpp_dialect.h:104:13: warning: Thrust requires C++14. Please pass -std=c++14 to your compiler. Define THRUST_IGNORE_DEPRECATED_CPP_DIALECT to suppress this message.\n",
            "   THRUST_COMPILER_DEPRECATION(C++14, pass -std=c++14 to your compiler);\n",
            "             ^~~~~~~~~~~~~~~~~~~~~~~~~~~~~~~~~~~~~~~~~~~~~~~~~~~~~~~~~~~                                                                            \n",
            "In file included from /usr/local/cuda/include/cub/util_arch.cuh:36:0,\n",
            "                 from /usr/local/cuda/include/thrust/system/cuda/detail/util.h:32,\n",
            "                 from /usr/local/cuda/include/thrust/system/cuda/detail/for_each.h:34,\n",
            "                 from /usr/local/cuda/include/thrust/system/detail/adl/for_each.h:42,\n",
            "                 from /usr/local/cuda/include/thrust/detail/for_each.inl:27,\n",
            "                 from /usr/local/cuda/include/thrust/for_each.h:279,\n",
            "                 from /usr/local/cuda/include/thrust/system/detail/generic/transform.inl:19,\n",
            "                 from /usr/local/cuda/include/thrust/system/detail/generic/transform.h:105,\n",
            "                 from /usr/local/cuda/include/thrust/detail/transform.inl:25,\n",
            "                 from /usr/local/cuda/include/thrust/transform.h:724,\n",
            "                 from /usr/local/cuda/include/thrust/system/detail/generic/copy.inl:23,\n",
            "                 from /usr/local/cuda/include/thrust/system/detail/generic/copy.h:58,\n",
            "                 from /usr/local/cuda/include/thrust/detail/copy.inl:21,\n",
            "                 from /usr/local/cuda/include/thrust/detail/copy.h:90,\n",
            "                 from /usr/local/cuda/include/thrust/detail/allocator/copy_construct_range.inl:21,\n",
            "                 from /usr/local/cuda/include/thrust/detail/allocator/copy_construct_range.h:46,\n",
            "                 from /usr/local/cuda/include/thrust/detail/contiguous_storage.inl:23,\n",
            "                 from /usr/local/cuda/include/thrust/detail/contiguous_storage.h:235,\n",
            "                 from /usr/local/cuda/include/thrust/detail/vector_base.h:30,\n",
            "                 from /usr/local/cuda/include/thrust/device_vector.h:25,\n",
            "                 from /content/openpose/3rdparty/caffe/src/caffe/layers/cudnn_softmax_layer.cu:4:\n",
            "/usr/local/cuda/include/cub/util_cpp_dialect.cuh:129:13: warning: CUB requires C++14. Please pass -std=c++14 to your compiler. Define CUB_IGNORE_DEPRECATED_CPP_DIALECT to suppress this message.\n",
            "   CUB_COMPILER_DEPRECATION(C++14, pass -std=c++14 to your compiler);\n",
            "             ^~~~~~~~~~~~~~~~~~~~~~~~~~~~~~~~~~~~~~~~~~~~~~~~~~~~~~~~                                                                         \n",
            "In file included from /usr/local/cuda/include/thrust/detail/config/config.h:27:0,\n",
            "                 from /usr/local/cuda/include/thrust/detail/config.h:23,\n",
            "                 from /usr/local/cuda/include/thrust/device_vector.h:24,\n",
            "                 from /content/openpose/3rdparty/caffe/src/caffe/layers/cudnn_softmax_layer.cu:4:\n",
            "/usr/local/cuda/include/thrust/detail/config/cpp_dialect.h:104:13: warning: Thrust requires C++14. Please pass -std=c++14 to your compiler. Define THRUST_IGNORE_DEPRECATED_CPP_DIALECT to suppress this message.\n",
            "   THRUST_COMPILER_DEPRECATION(C++14, pass -std=c++14 to your compiler);\n",
            "             ^~~~~~~~~~~~~~~~~~~~~~~~~~~~~~~~~~~~~~~~~~~~~~~~~~~~~~~~~~~                                                                            \n",
            "In file included from /usr/local/cuda/include/cub/util_arch.cuh:36:0,\n",
            "                 from /usr/local/cuda/include/thrust/system/cuda/detail/util.h:32,\n",
            "                 from /usr/local/cuda/include/thrust/system/cuda/detail/for_each.h:34,\n",
            "                 from /usr/local/cuda/include/thrust/system/detail/adl/for_each.h:42,\n",
            "                 from /usr/local/cuda/include/thrust/detail/for_each.inl:27,\n",
            "                 from /usr/local/cuda/include/thrust/for_each.h:279,\n",
            "                 from /usr/local/cuda/include/thrust/system/detail/generic/transform.inl:19,\n",
            "                 from /usr/local/cuda/include/thrust/system/detail/generic/transform.h:105,\n",
            "                 from /usr/local/cuda/include/thrust/detail/transform.inl:25,\n",
            "                 from /usr/local/cuda/include/thrust/transform.h:724,\n",
            "                 from /usr/local/cuda/include/thrust/system/detail/generic/copy.inl:23,\n",
            "                 from /usr/local/cuda/include/thrust/system/detail/generic/copy.h:58,\n",
            "                 from /usr/local/cuda/include/thrust/detail/copy.inl:21,\n",
            "                 from /usr/local/cuda/include/thrust/detail/copy.h:90,\n",
            "                 from /usr/local/cuda/include/thrust/detail/allocator/copy_construct_range.inl:21,\n",
            "                 from /usr/local/cuda/include/thrust/detail/allocator/copy_construct_range.h:46,\n",
            "                 from /usr/local/cuda/include/thrust/detail/contiguous_storage.inl:23,\n",
            "                 from /usr/local/cuda/include/thrust/detail/contiguous_storage.h:235,\n",
            "                 from /usr/local/cuda/include/thrust/detail/vector_base.h:30,\n",
            "                 from /usr/local/cuda/include/thrust/device_vector.h:25,\n",
            "                 from /content/openpose/3rdparty/caffe/src/caffe/layers/cudnn_softmax_layer.cu:4:\n",
            "/usr/local/cuda/include/cub/util_cpp_dialect.cuh:129:13: warning: CUB requires C++14. Please pass -std=c++14 to your compiler. Define CUB_IGNORE_DEPRECATED_CPP_DIALECT to suppress this message.\n",
            "   CUB_COMPILER_DEPRECATION(C++14, pass -std=c++14 to your compiler);\n",
            "             ^~~~~~~~~~~~~~~~~~~~~~~~~~~~~~~~~~~~~~~~~~~~~~~~~~~~~~~~                                                                         \n",
            "[ 10%] \u001b[34m\u001b[1mBuilding NVCC (Device) object src/caffe/CMakeFiles/cuda_compile_1.dir/layers/cuda_compile_1_generated_cudnn_tanh_layer.cu.o\u001b[0m\n",
            "nvcc warning : The 'compute_35', 'compute_37', 'compute_50', 'sm_35', 'sm_37' and 'sm_50' architectures are deprecated, and may be removed in a future release (Use -Wno-deprecated-gpu-targets to suppress warning).\n",
            "nvcc warning : The 'compute_35', 'compute_37', 'compute_50', 'sm_35', 'sm_37' and 'sm_50' architectures are deprecated, and may be removed in a future release (Use -Wno-deprecated-gpu-targets to suppress warning).\n",
            "[ 12%] \u001b[34m\u001b[1mBuilding NVCC (Device) object src/caffe/CMakeFiles/cuda_compile_1.dir/layers/cuda_compile_1_generated_deconv_layer.cu.o\u001b[0m\n",
            "nvcc warning : The 'compute_35', 'compute_37', 'compute_50', 'sm_35', 'sm_37' and 'sm_50' architectures are deprecated, and may be removed in a future release (Use -Wno-deprecated-gpu-targets to suppress warning).\n",
            "nvcc warning : The 'compute_35', 'compute_37', 'compute_50', 'sm_35', 'sm_37' and 'sm_50' architectures are deprecated, and may be removed in a future release (Use -Wno-deprecated-gpu-targets to suppress warning).\n",
            "[ 12%] \u001b[34m\u001b[1mBuilding NVCC (Device) object src/caffe/CMakeFiles/cuda_compile_1.dir/layers/cuda_compile_1_generated_dropout_layer.cu.o\u001b[0m\n",
            "nvcc warning : The 'compute_35', 'compute_37', 'compute_50', 'sm_35', 'sm_37' and 'sm_50' architectures are deprecated, and may be removed in a future release (Use -Wno-deprecated-gpu-targets to suppress warning).\n",
            "nvcc warning : The 'compute_35', 'compute_37', 'compute_50', 'sm_35', 'sm_37' and 'sm_50' architectures are deprecated, and may be removed in a future release (Use -Wno-deprecated-gpu-targets to suppress warning).\n",
            "[ 13%] \u001b[34m\u001b[1mBuilding NVCC (Device) object src/caffe/CMakeFiles/cuda_compile_1.dir/layers/cuda_compile_1_generated_eltwise_layer.cu.o\u001b[0m\n",
            "nvcc warning : The 'compute_35', 'compute_37', 'compute_50', 'sm_35', 'sm_37' and 'sm_50' architectures are deprecated, and may be removed in a future release (Use -Wno-deprecated-gpu-targets to suppress warning).\n",
            "nvcc warning : The 'compute_35', 'compute_37', 'compute_50', 'sm_35', 'sm_37' and 'sm_50' architectures are deprecated, and may be removed in a future release (Use -Wno-deprecated-gpu-targets to suppress warning).\n",
            "[ 13%] \u001b[34m\u001b[1mBuilding NVCC (Device) object src/caffe/CMakeFiles/cuda_compile_1.dir/layers/cuda_compile_1_generated_elu_layer.cu.o\u001b[0m\n",
            "nvcc warning : The 'compute_35', 'compute_37', 'compute_50', 'sm_35', 'sm_37' and 'sm_50' architectures are deprecated, and may be removed in a future release (Use -Wno-deprecated-gpu-targets to suppress warning).\n",
            "nvcc warning : The 'compute_35', 'compute_37', 'compute_50', 'sm_35', 'sm_37' and 'sm_50' architectures are deprecated, and may be removed in a future release (Use -Wno-deprecated-gpu-targets to suppress warning).\n",
            "[ 13%] \u001b[34m\u001b[1mBuilding NVCC (Device) object src/caffe/CMakeFiles/cuda_compile_1.dir/layers/cuda_compile_1_generated_embed_layer.cu.o\u001b[0m\n",
            "nvcc warning : The 'compute_35', 'compute_37', 'compute_50', 'sm_35', 'sm_37' and 'sm_50' architectures are deprecated, and may be removed in a future release (Use -Wno-deprecated-gpu-targets to suppress warning).\n",
            "nvcc warning : The 'compute_35', 'compute_37', 'compute_50', 'sm_35', 'sm_37' and 'sm_50' architectures are deprecated, and may be removed in a future release (Use -Wno-deprecated-gpu-targets to suppress warning).\n",
            "[ 15%] \u001b[34m\u001b[1mBuilding NVCC (Device) object src/caffe/CMakeFiles/cuda_compile_1.dir/layers/cuda_compile_1_generated_euclidean_loss_layer.cu.o\u001b[0m\n",
            "nvcc warning : The 'compute_35', 'compute_37', 'compute_50', 'sm_35', 'sm_37' and 'sm_50' architectures are deprecated, and may be removed in a future release (Use -Wno-deprecated-gpu-targets to suppress warning).\n",
            "nvcc warning : The 'compute_35', 'compute_37', 'compute_50', 'sm_35', 'sm_37' and 'sm_50' architectures are deprecated, and may be removed in a future release (Use -Wno-deprecated-gpu-targets to suppress warning).\n",
            "[ 15%] \u001b[34m\u001b[1mBuilding NVCC (Device) object src/caffe/CMakeFiles/cuda_compile_1.dir/layers/cuda_compile_1_generated_exp_layer.cu.o\u001b[0m\n",
            "nvcc warning : The 'compute_35', 'compute_37', 'compute_50', 'sm_35', 'sm_37' and 'sm_50' architectures are deprecated, and may be removed in a future release (Use -Wno-deprecated-gpu-targets to suppress warning).\n",
            "nvcc warning : The 'compute_35', 'compute_37', 'compute_50', 'sm_35', 'sm_37' and 'sm_50' architectures are deprecated, and may be removed in a future release (Use -Wno-deprecated-gpu-targets to suppress warning).\n",
            "[ 15%] \u001b[34m\u001b[1mBuilding NVCC (Device) object src/caffe/CMakeFiles/cuda_compile_1.dir/layers/cuda_compile_1_generated_filter_layer.cu.o\u001b[0m\n",
            "nvcc warning : The 'compute_35', 'compute_37', 'compute_50', 'sm_35', 'sm_37' and 'sm_50' architectures are deprecated, and may be removed in a future release (Use -Wno-deprecated-gpu-targets to suppress warning).\n",
            "nvcc warning : The 'compute_35', 'compute_37', 'compute_50', 'sm_35', 'sm_37' and 'sm_50' architectures are deprecated, and may be removed in a future release (Use -Wno-deprecated-gpu-targets to suppress warning).\n",
            "[ 16%] \u001b[34m\u001b[1mBuilding NVCC (Device) object src/caffe/CMakeFiles/cuda_compile_1.dir/layers/cuda_compile_1_generated_hdf5_data_layer.cu.o\u001b[0m\n",
            "nvcc warning : The 'compute_35', 'compute_37', 'compute_50', 'sm_35', 'sm_37' and 'sm_50' architectures are deprecated, and may be removed in a future release (Use -Wno-deprecated-gpu-targets to suppress warning).\n",
            "nvcc warning : The 'compute_35', 'compute_37', 'compute_50', 'sm_35', 'sm_37' and 'sm_50' architectures are deprecated, and may be removed in a future release (Use -Wno-deprecated-gpu-targets to suppress warning).\n",
            "[ 16%] \u001b[34m\u001b[1mBuilding NVCC (Device) object src/caffe/CMakeFiles/cuda_compile_1.dir/layers/cuda_compile_1_generated_hdf5_output_layer.cu.o\u001b[0m\n",
            "nvcc warning : The 'compute_35', 'compute_37', 'compute_50', 'sm_35', 'sm_37' and 'sm_50' architectures are deprecated, and may be removed in a future release (Use -Wno-deprecated-gpu-targets to suppress warning).\n",
            "nvcc warning : The 'compute_35', 'compute_37', 'compute_50', 'sm_35', 'sm_37' and 'sm_50' architectures are deprecated, and may be removed in a future release (Use -Wno-deprecated-gpu-targets to suppress warning).\n",
            "[ 17%] \u001b[34m\u001b[1mBuilding NVCC (Device) object src/caffe/CMakeFiles/cuda_compile_1.dir/layers/cuda_compile_1_generated_im2col_layer.cu.o\u001b[0m\n",
            "nvcc warning : The 'compute_35', 'compute_37', 'compute_50', 'sm_35', 'sm_37' and 'sm_50' architectures are deprecated, and may be removed in a future release (Use -Wno-deprecated-gpu-targets to suppress warning).\n",
            "nvcc warning : The 'compute_35', 'compute_37', 'compute_50', 'sm_35', 'sm_37' and 'sm_50' architectures are deprecated, and may be removed in a future release (Use -Wno-deprecated-gpu-targets to suppress warning).\n",
            "[ 17%] \u001b[34m\u001b[1mBuilding NVCC (Device) object src/caffe/CMakeFiles/cuda_compile_1.dir/layers/cuda_compile_1_generated_inner_product_layer.cu.o\u001b[0m\n",
            "nvcc warning : The 'compute_35', 'compute_37', 'compute_50', 'sm_35', 'sm_37' and 'sm_50' architectures are deprecated, and may be removed in a future release (Use -Wno-deprecated-gpu-targets to suppress warning).\n",
            "nvcc warning : The 'compute_35', 'compute_37', 'compute_50', 'sm_35', 'sm_37' and 'sm_50' architectures are deprecated, and may be removed in a future release (Use -Wno-deprecated-gpu-targets to suppress warning).\n",
            "[ 17%] \u001b[34m\u001b[1mBuilding NVCC (Device) object src/caffe/CMakeFiles/cuda_compile_1.dir/layers/cuda_compile_1_generated_log_layer.cu.o\u001b[0m\n",
            "nvcc warning : The 'compute_35', 'compute_37', 'compute_50', 'sm_35', 'sm_37' and 'sm_50' architectures are deprecated, and may be removed in a future release (Use -Wno-deprecated-gpu-targets to suppress warning).\n",
            "nvcc warning : The 'compute_35', 'compute_37', 'compute_50', 'sm_35', 'sm_37' and 'sm_50' architectures are deprecated, and may be removed in a future release (Use -Wno-deprecated-gpu-targets to suppress warning).\n",
            "[ 19%] \u001b[34m\u001b[1mBuilding NVCC (Device) object src/caffe/CMakeFiles/cuda_compile_1.dir/layers/cuda_compile_1_generated_lrn_layer.cu.o\u001b[0m\n",
            "nvcc warning : The 'compute_35', 'compute_37', 'compute_50', 'sm_35', 'sm_37' and 'sm_50' architectures are deprecated, and may be removed in a future release (Use -Wno-deprecated-gpu-targets to suppress warning).\n",
            "nvcc warning : The 'compute_35', 'compute_37', 'compute_50', 'sm_35', 'sm_37' and 'sm_50' architectures are deprecated, and may be removed in a future release (Use -Wno-deprecated-gpu-targets to suppress warning).\n",
            "[ 19%] \u001b[34m\u001b[1mBuilding NVCC (Device) object src/caffe/CMakeFiles/cuda_compile_1.dir/layers/cuda_compile_1_generated_lstm_unit_layer.cu.o\u001b[0m\n",
            "nvcc warning : The 'compute_35', 'compute_37', 'compute_50', 'sm_35', 'sm_37' and 'sm_50' architectures are deprecated, and may be removed in a future release (Use -Wno-deprecated-gpu-targets to suppress warning).\n",
            "nvcc warning : The 'compute_35', 'compute_37', 'compute_50', 'sm_35', 'sm_37' and 'sm_50' architectures are deprecated, and may be removed in a future release (Use -Wno-deprecated-gpu-targets to suppress warning).\n",
            "[ 19%] \u001b[34m\u001b[1mBuilding NVCC (Device) object src/caffe/CMakeFiles/cuda_compile_1.dir/layers/cuda_compile_1_generated_mvn_layer.cu.o\u001b[0m\n",
            "nvcc warning : The 'compute_35', 'compute_37', 'compute_50', 'sm_35', 'sm_37' and 'sm_50' architectures are deprecated, and may be removed in a future release (Use -Wno-deprecated-gpu-targets to suppress warning).\n",
            "nvcc warning : The 'compute_35', 'compute_37', 'compute_50', 'sm_35', 'sm_37' and 'sm_50' architectures are deprecated, and may be removed in a future release (Use -Wno-deprecated-gpu-targets to suppress warning).\n",
            "[ 20%] \u001b[34m\u001b[1mBuilding NVCC (Device) object src/caffe/CMakeFiles/cuda_compile_1.dir/layers/cuda_compile_1_generated_pooling_layer.cu.o\u001b[0m\n",
            "nvcc warning : The 'compute_35', 'compute_37', 'compute_50', 'sm_35', 'sm_37' and 'sm_50' architectures are deprecated, and may be removed in a future release (Use -Wno-deprecated-gpu-targets to suppress warning).\n",
            "nvcc warning : The 'compute_35', 'compute_37', 'compute_50', 'sm_35', 'sm_37' and 'sm_50' architectures are deprecated, and may be removed in a future release (Use -Wno-deprecated-gpu-targets to suppress warning).\n",
            "[ 20%] \u001b[34m\u001b[1mBuilding NVCC (Device) object src/caffe/CMakeFiles/cuda_compile_1.dir/layers/cuda_compile_1_generated_power_layer.cu.o\u001b[0m\n",
            "nvcc warning : The 'compute_35', 'compute_37', 'compute_50', 'sm_35', 'sm_37' and 'sm_50' architectures are deprecated, and may be removed in a future release (Use -Wno-deprecated-gpu-targets to suppress warning).\n",
            "nvcc warning : The 'compute_35', 'compute_37', 'compute_50', 'sm_35', 'sm_37' and 'sm_50' architectures are deprecated, and may be removed in a future release (Use -Wno-deprecated-gpu-targets to suppress warning).\n",
            "[ 21%] \u001b[34m\u001b[1mBuilding NVCC (Device) object src/caffe/CMakeFiles/cuda_compile_1.dir/layers/cuda_compile_1_generated_prelu_layer.cu.o\u001b[0m\n",
            "nvcc warning : The 'compute_35', 'compute_37', 'compute_50', 'sm_35', 'sm_37' and 'sm_50' architectures are deprecated, and may be removed in a future release (Use -Wno-deprecated-gpu-targets to suppress warning).\n",
            "[ 21%] \u001b[34m\u001b[1mBuilding NVCC (Device) object src/caffe/CMakeFiles/cuda_compile_1.dir/layers/cuda_compile_1_generated_recurrent_layer.cu.o\u001b[0m\n",
            "nvcc warning : The 'compute_35', 'compute_37', 'compute_50', 'sm_35', 'sm_37' and 'sm_50' architectures are deprecated, and may be removed in a future release (Use -Wno-deprecated-gpu-targets to suppress warning).\n",
            "nvcc warning : The 'compute_35', 'compute_37', 'compute_50', 'sm_35', 'sm_37' and 'sm_50' architectures are deprecated, and may be removed in a future release (Use -Wno-deprecated-gpu-targets to suppress warning).\n",
            "nvcc warning : The 'compute_35', 'compute_37', 'compute_50', 'sm_35', 'sm_37' and 'sm_50' architectures are deprecated, and may be removed in a future release (Use -Wno-deprecated-gpu-targets to suppress warning).\n",
            "[ 21%] \u001b[34m\u001b[1mBuilding NVCC (Device) object src/caffe/CMakeFiles/cuda_compile_1.dir/layers/cuda_compile_1_generated_reduction_layer.cu.o\u001b[0m\n",
            "nvcc warning : The 'compute_35', 'compute_37', 'compute_50', 'sm_35', 'sm_37' and 'sm_50' architectures are deprecated, and may be removed in a future release (Use -Wno-deprecated-gpu-targets to suppress warning).\n",
            "[ 23%] \u001b[34m\u001b[1mBuilding NVCC (Device) object src/caffe/CMakeFiles/cuda_compile_1.dir/layers/cuda_compile_1_generated_relu_layer.cu.o\u001b[0m\n",
            "nvcc warning : The 'compute_35', 'compute_37', 'compute_50', 'sm_35', 'sm_37' and 'sm_50' architectures are deprecated, and may be removed in a future release (Use -Wno-deprecated-gpu-targets to suppress warning).\n",
            "nvcc warning : The 'compute_35', 'compute_37', 'compute_50', 'sm_35', 'sm_37' and 'sm_50' architectures are deprecated, and may be removed in a future release (Use -Wno-deprecated-gpu-targets to suppress warning).\n",
            "nvcc warning : The 'compute_35', 'compute_37', 'compute_50', 'sm_35', 'sm_37' and 'sm_50' architectures are deprecated, and may be removed in a future release (Use -Wno-deprecated-gpu-targets to suppress warning).\n",
            "[ 23%] \u001b[34m\u001b[1mBuilding NVCC (Device) object src/caffe/CMakeFiles/cuda_compile_1.dir/layers/cuda_compile_1_generated_scale_layer.cu.o\u001b[0m\n",
            "nvcc warning : The 'compute_35', 'compute_37', 'compute_50', 'sm_35', 'sm_37' and 'sm_50' architectures are deprecated, and may be removed in a future release (Use -Wno-deprecated-gpu-targets to suppress warning).\n",
            "[ 23%] \u001b[34m\u001b[1mBuilding NVCC (Device) object src/caffe/CMakeFiles/cuda_compile_1.dir/layers/cuda_compile_1_generated_sigmoid_cross_entropy_loss_layer.cu.o\u001b[0m\n",
            "nvcc warning : The 'compute_35', 'compute_37', 'compute_50', 'sm_35', 'sm_37' and 'sm_50' architectures are deprecated, and may be removed in a future release (Use -Wno-deprecated-gpu-targets to suppress warning).\n",
            "nvcc warning : The 'compute_35', 'compute_37', 'compute_50', 'sm_35', 'sm_37' and 'sm_50' architectures are deprecated, and may be removed in a future release (Use -Wno-deprecated-gpu-targets to suppress warning).\n",
            "nvcc warning : The 'compute_35', 'compute_37', 'compute_50', 'sm_35', 'sm_37' and 'sm_50' architectures are deprecated, and may be removed in a future release (Use -Wno-deprecated-gpu-targets to suppress warning).\n",
            "[ 24%] \u001b[34m\u001b[1mBuilding NVCC (Device) object src/caffe/CMakeFiles/cuda_compile_1.dir/layers/cuda_compile_1_generated_sigmoid_layer.cu.o\u001b[0m\n",
            "nvcc warning : The 'compute_35', 'compute_37', 'compute_50', 'sm_35', 'sm_37' and 'sm_50' architectures are deprecated, and may be removed in a future release (Use -Wno-deprecated-gpu-targets to suppress warning).\n",
            "[ 24%] \u001b[34m\u001b[1mBuilding NVCC (Device) object src/caffe/CMakeFiles/cuda_compile_1.dir/layers/cuda_compile_1_generated_silence_layer.cu.o\u001b[0m\n",
            "nvcc warning : The 'compute_35', 'compute_37', 'compute_50', 'sm_35', 'sm_37' and 'sm_50' architectures are deprecated, and may be removed in a future release (Use -Wno-deprecated-gpu-targets to suppress warning).\n",
            "nvcc warning : The 'compute_35', 'compute_37', 'compute_50', 'sm_35', 'sm_37' and 'sm_50' architectures are deprecated, and may be removed in a future release (Use -Wno-deprecated-gpu-targets to suppress warning).\n",
            "nvcc warning : The 'compute_35', 'compute_37', 'compute_50', 'sm_35', 'sm_37' and 'sm_50' architectures are deprecated, and may be removed in a future release (Use -Wno-deprecated-gpu-targets to suppress warning).\n",
            "[ 26%] \u001b[34m\u001b[1mBuilding NVCC (Device) object src/caffe/CMakeFiles/cuda_compile_1.dir/layers/cuda_compile_1_generated_slice_layer.cu.o\u001b[0m\n",
            "[ 26%] \u001b[34m\u001b[1mBuilding NVCC (Device) object src/caffe/CMakeFiles/cuda_compile_1.dir/layers/cuda_compile_1_generated_softmax_layer.cu.o\u001b[0m\n",
            "nvcc warning : The 'compute_35', 'compute_37', 'compute_50', 'sm_35', 'sm_37' and 'sm_50' architectures are deprecated, and may be removed in a future release (Use -Wno-deprecated-gpu-targets to suppress warning).\n",
            "nvcc warning : The 'compute_35', 'compute_37', 'compute_50', 'sm_35', 'sm_37' and 'sm_50' architectures are deprecated, and may be removed in a future release (Use -Wno-deprecated-gpu-targets to suppress warning).\n",
            "In file included from /usr/local/cuda/include/thrust/detail/config/config.h:27:0,\n",
            "                 from /usr/local/cuda/include/thrust/detail/config.h:23,\n",
            "                 from /usr/local/cuda/include/thrust/device_vector.h:24,\n",
            "                 from /content/openpose/3rdparty/caffe/src/caffe/layers/softmax_layer.cu:5:\n",
            "/usr/local/cuda/include/thrust/detail/config/cpp_dialect.h:104:13: warning: Thrust requires C++14. Please pass -std=c++14 to your compiler. Define THRUST_IGNORE_DEPRECATED_CPP_DIALECT to suppress this message.\n",
            "   THRUST_COMPILER_DEPRECATION(C++14, pass -std=c++14 to your compiler);\n",
            "             ^~~~~~~~~~~~~~~~~~~~~~~~~~~~~~~~~~~~~~~~~~~~~~~~~~~~~~~~~~~                                                                            \n",
            "In file included from /usr/local/cuda/include/cub/util_arch.cuh:36:0,\n",
            "                 from /usr/local/cuda/include/thrust/system/cuda/detail/util.h:32,\n",
            "                 from /usr/local/cuda/include/thrust/system/cuda/detail/for_each.h:34,\n",
            "                 from /usr/local/cuda/include/thrust/system/detail/adl/for_each.h:42,\n",
            "                 from /usr/local/cuda/include/thrust/detail/for_each.inl:27,\n",
            "                 from /usr/local/cuda/include/thrust/for_each.h:279,\n",
            "                 from /usr/local/cuda/include/thrust/system/detail/generic/transform.inl:19,\n",
            "                 from /usr/local/cuda/include/thrust/system/detail/generic/transform.h:105,\n",
            "                 from /usr/local/cuda/include/thrust/detail/transform.inl:25,\n",
            "                 from /usr/local/cuda/include/thrust/transform.h:724,\n",
            "                 from /usr/local/cuda/include/thrust/system/detail/generic/copy.inl:23,\n",
            "                 from /usr/local/cuda/include/thrust/system/detail/generic/copy.h:58,\n",
            "                 from /usr/local/cuda/include/thrust/detail/copy.inl:21,\n",
            "                 from /usr/local/cuda/include/thrust/detail/copy.h:90,\n",
            "                 from /usr/local/cuda/include/thrust/detail/allocator/copy_construct_range.inl:21,\n",
            "                 from /usr/local/cuda/include/thrust/detail/allocator/copy_construct_range.h:46,\n",
            "                 from /usr/local/cuda/include/thrust/detail/contiguous_storage.inl:23,\n",
            "                 from /usr/local/cuda/include/thrust/detail/contiguous_storage.h:235,\n",
            "                 from /usr/local/cuda/include/thrust/detail/vector_base.h:30,\n",
            "                 from /usr/local/cuda/include/thrust/device_vector.h:25,\n",
            "                 from /content/openpose/3rdparty/caffe/src/caffe/layers/softmax_layer.cu:5:\n",
            "/usr/local/cuda/include/cub/util_cpp_dialect.cuh:129:13: warning: CUB requires C++14. Please pass -std=c++14 to your compiler. Define CUB_IGNORE_DEPRECATED_CPP_DIALECT to suppress this message.\n",
            "   CUB_COMPILER_DEPRECATION(C++14, pass -std=c++14 to your compiler);\n",
            "             ^~~~~~~~~~~~~~~~~~~~~~~~~~~~~~~~~~~~~~~~~~~~~~~~~~~~~~~~                                                                         \n",
            "In file included from /usr/local/cuda/include/thrust/detail/config/config.h:27:0,\n",
            "                 from /usr/local/cuda/include/thrust/detail/config.h:23,\n",
            "                 from /usr/local/cuda/include/thrust/device_vector.h:24,\n",
            "                 from /content/openpose/3rdparty/caffe/src/caffe/layers/softmax_layer.cu:5:\n",
            "/usr/local/cuda/include/thrust/detail/config/cpp_dialect.h:104:13: warning: Thrust requires C++14. Please pass -std=c++14 to your compiler. Define THRUST_IGNORE_DEPRECATED_CPP_DIALECT to suppress this message.\n",
            "   THRUST_COMPILER_DEPRECATION(C++14, pass -std=c++14 to your compiler);\n",
            "             ^~~~~~~~~~~~~~~~~~~~~~~~~~~~~~~~~~~~~~~~~~~~~~~~~~~~~~~~~~~                                                                            \n",
            "In file included from /usr/local/cuda/include/cub/util_arch.cuh:36:0,\n",
            "                 from /usr/local/cuda/include/thrust/system/cuda/detail/util.h:32,\n",
            "                 from /usr/local/cuda/include/thrust/system/cuda/detail/for_each.h:34,\n",
            "                 from /usr/local/cuda/include/thrust/system/detail/adl/for_each.h:42,\n",
            "                 from /usr/local/cuda/include/thrust/detail/for_each.inl:27,\n",
            "                 from /usr/local/cuda/include/thrust/for_each.h:279,\n",
            "                 from /usr/local/cuda/include/thrust/system/detail/generic/transform.inl:19,\n",
            "                 from /usr/local/cuda/include/thrust/system/detail/generic/transform.h:105,\n",
            "                 from /usr/local/cuda/include/thrust/detail/transform.inl:25,\n",
            "                 from /usr/local/cuda/include/thrust/transform.h:724,\n",
            "                 from /usr/local/cuda/include/thrust/system/detail/generic/copy.inl:23,\n",
            "                 from /usr/local/cuda/include/thrust/system/detail/generic/copy.h:58,\n",
            "                 from /usr/local/cuda/include/thrust/detail/copy.inl:21,\n",
            "                 from /usr/local/cuda/include/thrust/detail/copy.h:90,\n",
            "                 from /usr/local/cuda/include/thrust/detail/allocator/copy_construct_range.inl:21,\n",
            "                 from /usr/local/cuda/include/thrust/detail/allocator/copy_construct_range.h:46,\n",
            "                 from /usr/local/cuda/include/thrust/detail/contiguous_storage.inl:23,\n",
            "                 from /usr/local/cuda/include/thrust/detail/contiguous_storage.h:235,\n",
            "                 from /usr/local/cuda/include/thrust/detail/vector_base.h:30,\n",
            "                 from /usr/local/cuda/include/thrust/device_vector.h:25,\n",
            "                 from /content/openpose/3rdparty/caffe/src/caffe/layers/softmax_layer.cu:5:\n",
            "/usr/local/cuda/include/cub/util_cpp_dialect.cuh:129:13: warning: CUB requires C++14. Please pass -std=c++14 to your compiler. Define CUB_IGNORE_DEPRECATED_CPP_DIALECT to suppress this message.\n",
            "   CUB_COMPILER_DEPRECATION(C++14, pass -std=c++14 to your compiler);\n",
            "             ^~~~~~~~~~~~~~~~~~~~~~~~~~~~~~~~~~~~~~~~~~~~~~~~~~~~~~~~                                                                         \n",
            "nvcc warning : The 'compute_35', 'compute_37', 'compute_50', 'sm_35', 'sm_37' and 'sm_50' architectures are deprecated, and may be removed in a future release (Use -Wno-deprecated-gpu-targets to suppress warning).\n",
            "nvcc warning : The 'compute_35', 'compute_37', 'compute_50', 'sm_35', 'sm_37' and 'sm_50' architectures are deprecated, and may be removed in a future release (Use -Wno-deprecated-gpu-targets to suppress warning).\n",
            "In file included from /usr/local/cuda/include/thrust/detail/config/config.h:27:0,\n",
            "                 from /usr/local/cuda/include/thrust/detail/config.h:23,\n",
            "                 from /usr/local/cuda/include/thrust/device_vector.h:24,\n",
            "                 from /content/openpose/3rdparty/caffe/src/caffe/layers/softmax_layer.cu:5:\n",
            "/usr/local/cuda/include/thrust/detail/config/cpp_dialect.h:104:13: warning: Thrust requires C++14. Please pass -std=c++14 to your compiler. Define THRUST_IGNORE_DEPRECATED_CPP_DIALECT to suppress this message.\n",
            "   THRUST_COMPILER_DEPRECATION(C++14, pass -std=c++14 to your compiler);\n",
            "             ^~~~~~~~~~~~~~~~~~~~~~~~~~~~~~~~~~~~~~~~~~~~~~~~~~~~~~~~~~~                                                                            \n",
            "In file included from /usr/local/cuda/include/cub/util_arch.cuh:36:0,\n",
            "                 from /usr/local/cuda/include/thrust/system/cuda/detail/util.h:32,\n",
            "                 from /usr/local/cuda/include/thrust/system/cuda/detail/for_each.h:34,\n",
            "                 from /usr/local/cuda/include/thrust/system/detail/adl/for_each.h:42,\n",
            "                 from /usr/local/cuda/include/thrust/detail/for_each.inl:27,\n",
            "                 from /usr/local/cuda/include/thrust/for_each.h:279,\n",
            "                 from /usr/local/cuda/include/thrust/system/detail/generic/transform.inl:19,\n",
            "                 from /usr/local/cuda/include/thrust/system/detail/generic/transform.h:105,\n",
            "                 from /usr/local/cuda/include/thrust/detail/transform.inl:25,\n",
            "                 from /usr/local/cuda/include/thrust/transform.h:724,\n",
            "                 from /usr/local/cuda/include/thrust/system/detail/generic/copy.inl:23,\n",
            "                 from /usr/local/cuda/include/thrust/system/detail/generic/copy.h:58,\n",
            "                 from /usr/local/cuda/include/thrust/detail/copy.inl:21,\n",
            "                 from /usr/local/cuda/include/thrust/detail/copy.h:90,\n",
            "                 from /usr/local/cuda/include/thrust/detail/allocator/copy_construct_range.inl:21,\n",
            "                 from /usr/local/cuda/include/thrust/detail/allocator/copy_construct_range.h:46,\n",
            "                 from /usr/local/cuda/include/thrust/detail/contiguous_storage.inl:23,\n",
            "                 from /usr/local/cuda/include/thrust/detail/contiguous_storage.h:235,\n",
            "                 from /usr/local/cuda/include/thrust/detail/vector_base.h:30,\n",
            "                 from /usr/local/cuda/include/thrust/device_vector.h:25,\n",
            "                 from /content/openpose/3rdparty/caffe/src/caffe/layers/softmax_layer.cu:5:\n",
            "/usr/local/cuda/include/cub/util_cpp_dialect.cuh:129:13: warning: CUB requires C++14. Please pass -std=c++14 to your compiler. Define CUB_IGNORE_DEPRECATED_CPP_DIALECT to suppress this message.\n",
            "   CUB_COMPILER_DEPRECATION(C++14, pass -std=c++14 to your compiler);\n",
            "             ^~~~~~~~~~~~~~~~~~~~~~~~~~~~~~~~~~~~~~~~~~~~~~~~~~~~~~~~                                                                         \n",
            "In file included from /usr/local/cuda/include/thrust/detail/config/config.h:27:0,\n",
            "                 from /usr/local/cuda/include/thrust/detail/config.h:23,\n",
            "                 from /usr/local/cuda/include/thrust/device_vector.h:24,\n",
            "                 from /content/openpose/3rdparty/caffe/src/caffe/layers/softmax_layer.cu:5:\n",
            "/usr/local/cuda/include/thrust/detail/config/cpp_dialect.h:104:13: warning: Thrust requires C++14. Please pass -std=c++14 to your compiler. Define THRUST_IGNORE_DEPRECATED_CPP_DIALECT to suppress this message.\n",
            "   THRUST_COMPILER_DEPRECATION(C++14, pass -std=c++14 to your compiler);\n",
            "             ^~~~~~~~~~~~~~~~~~~~~~~~~~~~~~~~~~~~~~~~~~~~~~~~~~~~~~~~~~~                                                                            \n",
            "In file included from /usr/local/cuda/include/cub/util_arch.cuh:36:0,\n",
            "                 from /usr/local/cuda/include/thrust/system/cuda/detail/util.h:32,\n",
            "                 from /usr/local/cuda/include/thrust/system/cuda/detail/for_each.h:34,\n",
            "                 from /usr/local/cuda/include/thrust/system/detail/adl/for_each.h:42,\n",
            "                 from /usr/local/cuda/include/thrust/detail/for_each.inl:27,\n",
            "                 from /usr/local/cuda/include/thrust/for_each.h:279,\n",
            "                 from /usr/local/cuda/include/thrust/system/detail/generic/transform.inl:19,\n",
            "                 from /usr/local/cuda/include/thrust/system/detail/generic/transform.h:105,\n",
            "                 from /usr/local/cuda/include/thrust/detail/transform.inl:25,\n",
            "                 from /usr/local/cuda/include/thrust/transform.h:724,\n",
            "                 from /usr/local/cuda/include/thrust/system/detail/generic/copy.inl:23,\n",
            "                 from /usr/local/cuda/include/thrust/system/detail/generic/copy.h:58,\n",
            "                 from /usr/local/cuda/include/thrust/detail/copy.inl:21,\n",
            "                 from /usr/local/cuda/include/thrust/detail/copy.h:90,\n",
            "                 from /usr/local/cuda/include/thrust/detail/allocator/copy_construct_range.inl:21,\n",
            "                 from /usr/local/cuda/include/thrust/detail/allocator/copy_construct_range.h:46,\n",
            "                 from /usr/local/cuda/include/thrust/detail/contiguous_storage.inl:23,\n",
            "                 from /usr/local/cuda/include/thrust/detail/contiguous_storage.h:235,\n",
            "                 from /usr/local/cuda/include/thrust/detail/vector_base.h:30,\n",
            "                 from /usr/local/cuda/include/thrust/device_vector.h:25,\n",
            "                 from /content/openpose/3rdparty/caffe/src/caffe/layers/softmax_layer.cu:5:\n",
            "/usr/local/cuda/include/cub/util_cpp_dialect.cuh:129:13: warning: CUB requires C++14. Please pass -std=c++14 to your compiler. Define CUB_IGNORE_DEPRECATED_CPP_DIALECT to suppress this message.\n",
            "   CUB_COMPILER_DEPRECATION(C++14, pass -std=c++14 to your compiler);\n",
            "             ^~~~~~~~~~~~~~~~~~~~~~~~~~~~~~~~~~~~~~~~~~~~~~~~~~~~~~~~                                                                         \n",
            "[ 26%] \u001b[34m\u001b[1mBuilding NVCC (Device) object src/caffe/CMakeFiles/cuda_compile_1.dir/layers/cuda_compile_1_generated_softmax_loss_layer.cu.o\u001b[0m\n",
            "nvcc warning : The 'compute_35', 'compute_37', 'compute_50', 'sm_35', 'sm_37' and 'sm_50' architectures are deprecated, and may be removed in a future release (Use -Wno-deprecated-gpu-targets to suppress warning).\n",
            "nvcc warning : The 'compute_35', 'compute_37', 'compute_50', 'sm_35', 'sm_37' and 'sm_50' architectures are deprecated, and may be removed in a future release (Use -Wno-deprecated-gpu-targets to suppress warning).\n",
            "[ 27%] \u001b[34m\u001b[1mBuilding NVCC (Device) object src/caffe/CMakeFiles/cuda_compile_1.dir/layers/cuda_compile_1_generated_split_layer.cu.o\u001b[0m\n",
            "nvcc warning : The 'compute_35', 'compute_37', 'compute_50', 'sm_35', 'sm_37' and 'sm_50' architectures are deprecated, and may be removed in a future release (Use -Wno-deprecated-gpu-targets to suppress warning).\n",
            "nvcc warning : The 'compute_35', 'compute_37', 'compute_50', 'sm_35', 'sm_37' and 'sm_50' architectures are deprecated, and may be removed in a future release (Use -Wno-deprecated-gpu-targets to suppress warning).\n",
            "[ 27%] \u001b[34m\u001b[1mBuilding NVCC (Device) object src/caffe/CMakeFiles/cuda_compile_1.dir/layers/cuda_compile_1_generated_swish_layer.cu.o\u001b[0m\n",
            "nvcc warning : The 'compute_35', 'compute_37', 'compute_50', 'sm_35', 'sm_37' and 'sm_50' architectures are deprecated, and may be removed in a future release (Use -Wno-deprecated-gpu-targets to suppress warning).\n",
            "nvcc warning : The 'compute_35', 'compute_37', 'compute_50', 'sm_35', 'sm_37' and 'sm_50' architectures are deprecated, and may be removed in a future release (Use -Wno-deprecated-gpu-targets to suppress warning).\n",
            "[ 28%] \u001b[34m\u001b[1mBuilding NVCC (Device) object src/caffe/CMakeFiles/cuda_compile_1.dir/layers/cuda_compile_1_generated_tanh_layer.cu.o\u001b[0m\n",
            "nvcc warning : The 'compute_35', 'compute_37', 'compute_50', 'sm_35', 'sm_37' and 'sm_50' architectures are deprecated, and may be removed in a future release (Use -Wno-deprecated-gpu-targets to suppress warning).\n",
            "nvcc warning : The 'compute_35', 'compute_37', 'compute_50', 'sm_35', 'sm_37' and 'sm_50' architectures are deprecated, and may be removed in a future release (Use -Wno-deprecated-gpu-targets to suppress warning).\n",
            "[ 28%] \u001b[34m\u001b[1mBuilding NVCC (Device) object src/caffe/CMakeFiles/cuda_compile_1.dir/layers/cuda_compile_1_generated_threshold_layer.cu.o\u001b[0m\n",
            "nvcc warning : The 'compute_35', 'compute_37', 'compute_50', 'sm_35', 'sm_37' and 'sm_50' architectures are deprecated, and may be removed in a future release (Use -Wno-deprecated-gpu-targets to suppress warning).\n",
            "nvcc warning : The 'compute_35', 'compute_37', 'compute_50', 'sm_35', 'sm_37' and 'sm_50' architectures are deprecated, and may be removed in a future release (Use -Wno-deprecated-gpu-targets to suppress warning).\n",
            "[ 28%] \u001b[34m\u001b[1mBuilding NVCC (Device) object src/caffe/CMakeFiles/cuda_compile_1.dir/layers/cuda_compile_1_generated_tile_layer.cu.o\u001b[0m\n",
            "nvcc warning : The 'compute_35', 'compute_37', 'compute_50', 'sm_35', 'sm_37' and 'sm_50' architectures are deprecated, and may be removed in a future release (Use -Wno-deprecated-gpu-targets to suppress warning).\n",
            "nvcc warning : The 'compute_35', 'compute_37', 'compute_50', 'sm_35', 'sm_37' and 'sm_50' architectures are deprecated, and may be removed in a future release (Use -Wno-deprecated-gpu-targets to suppress warning).\n",
            "[ 30%] \u001b[34m\u001b[1mBuilding NVCC (Device) object src/caffe/CMakeFiles/cuda_compile_1.dir/solvers/cuda_compile_1_generated_adadelta_solver.cu.o\u001b[0m\n",
            "nvcc warning : The 'compute_35', 'compute_37', 'compute_50', 'sm_35', 'sm_37' and 'sm_50' architectures are deprecated, and may be removed in a future release (Use -Wno-deprecated-gpu-targets to suppress warning).\n",
            "nvcc warning : The 'compute_35', 'compute_37', 'compute_50', 'sm_35', 'sm_37' and 'sm_50' architectures are deprecated, and may be removed in a future release (Use -Wno-deprecated-gpu-targets to suppress warning).\n",
            "[ 30%] \u001b[34m\u001b[1mBuilding NVCC (Device) object src/caffe/CMakeFiles/cuda_compile_1.dir/solvers/cuda_compile_1_generated_adagrad_solver.cu.o\u001b[0m\n",
            "nvcc warning : The 'compute_35', 'compute_37', 'compute_50', 'sm_35', 'sm_37' and 'sm_50' architectures are deprecated, and may be removed in a future release (Use -Wno-deprecated-gpu-targets to suppress warning).\n",
            "nvcc warning : The 'compute_35', 'compute_37', 'compute_50', 'sm_35', 'sm_37' and 'sm_50' architectures are deprecated, and may be removed in a future release (Use -Wno-deprecated-gpu-targets to suppress warning).\n",
            "[ 30%] \u001b[34m\u001b[1mBuilding NVCC (Device) object src/caffe/CMakeFiles/cuda_compile_1.dir/solvers/cuda_compile_1_generated_adam_solver.cu.o\u001b[0m\n",
            "nvcc warning : The 'compute_35', 'compute_37', 'compute_50', 'sm_35', 'sm_37' and 'sm_50' architectures are deprecated, and may be removed in a future release (Use -Wno-deprecated-gpu-targets to suppress warning).\n",
            "nvcc warning : The 'compute_35', 'compute_37', 'compute_50', 'sm_35', 'sm_37' and 'sm_50' architectures are deprecated, and may be removed in a future release (Use -Wno-deprecated-gpu-targets to suppress warning).\n",
            "[ 31%] \u001b[34m\u001b[1mBuilding NVCC (Device) object src/caffe/CMakeFiles/cuda_compile_1.dir/solvers/cuda_compile_1_generated_nesterov_solver.cu.o\u001b[0m\n",
            "nvcc warning : The 'compute_35', 'compute_37', 'compute_50', 'sm_35', 'sm_37' and 'sm_50' architectures are deprecated, and may be removed in a future release (Use -Wno-deprecated-gpu-targets to suppress warning).\n",
            "nvcc warning : The 'compute_35', 'compute_37', 'compute_50', 'sm_35', 'sm_37' and 'sm_50' architectures are deprecated, and may be removed in a future release (Use -Wno-deprecated-gpu-targets to suppress warning).\n",
            "[ 31%] \u001b[34m\u001b[1mBuilding NVCC (Device) object src/caffe/CMakeFiles/cuda_compile_1.dir/solvers/cuda_compile_1_generated_rmsprop_solver.cu.o\u001b[0m\n",
            "nvcc warning : The 'compute_35', 'compute_37', 'compute_50', 'sm_35', 'sm_37' and 'sm_50' architectures are deprecated, and may be removed in a future release (Use -Wno-deprecated-gpu-targets to suppress warning).\n",
            "nvcc warning : The 'compute_35', 'compute_37', 'compute_50', 'sm_35', 'sm_37' and 'sm_50' architectures are deprecated, and may be removed in a future release (Use -Wno-deprecated-gpu-targets to suppress warning).\n",
            "[ 32%] \u001b[34m\u001b[1mBuilding NVCC (Device) object src/caffe/CMakeFiles/cuda_compile_1.dir/solvers/cuda_compile_1_generated_sgd_solver.cu.o\u001b[0m\n",
            "nvcc warning : The 'compute_35', 'compute_37', 'compute_50', 'sm_35', 'sm_37' and 'sm_50' architectures are deprecated, and may be removed in a future release (Use -Wno-deprecated-gpu-targets to suppress warning).\n",
            "nvcc warning : The 'compute_35', 'compute_37', 'compute_50', 'sm_35', 'sm_37' and 'sm_50' architectures are deprecated, and may be removed in a future release (Use -Wno-deprecated-gpu-targets to suppress warning).\n",
            "[ 32%] \u001b[34m\u001b[1mBuilding NVCC (Device) object src/caffe/CMakeFiles/cuda_compile_1.dir/util/cuda_compile_1_generated_im2col.cu.o\u001b[0m\n",
            "nvcc warning : The 'compute_35', 'compute_37', 'compute_50', 'sm_35', 'sm_37' and 'sm_50' architectures are deprecated, and may be removed in a future release (Use -Wno-deprecated-gpu-targets to suppress warning).\n",
            "nvcc warning : The 'compute_35', 'compute_37', 'compute_50', 'sm_35', 'sm_37' and 'sm_50' architectures are deprecated, and may be removed in a future release (Use -Wno-deprecated-gpu-targets to suppress warning).\n",
            "\u001b[35m\u001b[1mScanning dependencies of target caffe\u001b[0m\n",
            "[ 34%] \u001b[32mBuilding CXX object src/caffe/CMakeFiles/caffe.dir/blob.cpp.o\u001b[0m\n",
            "[ 34%] \u001b[32mBuilding CXX object src/caffe/CMakeFiles/caffe.dir/common.cpp.o\u001b[0m\n",
            "[ 34%] \u001b[32mBuilding CXX object src/caffe/CMakeFiles/caffe.dir/data_transformer.cpp.o\u001b[0m\n",
            "[ 35%] \u001b[32mBuilding CXX object src/caffe/CMakeFiles/caffe.dir/internal_thread.cpp.o\u001b[0m\n",
            "[ 35%] \u001b[32mBuilding CXX object src/caffe/CMakeFiles/caffe.dir/layer.cpp.o\u001b[0m\n",
            "[ 36%] \u001b[32mBuilding CXX object src/caffe/CMakeFiles/caffe.dir/layer_factory.cpp.o\u001b[0m\n",
            "[ 36%] \u001b[32mBuilding CXX object src/caffe/CMakeFiles/caffe.dir/layers/absval_layer.cpp.o\u001b[0m\n",
            "[ 36%] \u001b[32mBuilding CXX object src/caffe/CMakeFiles/caffe.dir/layers/accuracy_layer.cpp.o\u001b[0m\n",
            "[ 38%] \u001b[32mBuilding CXX object src/caffe/CMakeFiles/caffe.dir/layers/argmax_layer.cpp.o\u001b[0m\n",
            "[ 38%] \u001b[32mBuilding CXX object src/caffe/CMakeFiles/caffe.dir/layers/base_conv_layer.cpp.o\u001b[0m\n",
            "[ 38%] \u001b[32mBuilding CXX object src/caffe/CMakeFiles/caffe.dir/layers/base_data_layer.cpp.o\u001b[0m\n",
            "[ 39%] \u001b[32mBuilding CXX object src/caffe/CMakeFiles/caffe.dir/layers/batch_norm_layer.cpp.o\u001b[0m\n",
            "[ 39%] \u001b[32mBuilding CXX object src/caffe/CMakeFiles/caffe.dir/layers/batch_reindex_layer.cpp.o\u001b[0m\n",
            "[ 41%] \u001b[32mBuilding CXX object src/caffe/CMakeFiles/caffe.dir/layers/bias_layer.cpp.o\u001b[0m\n",
            "[ 41%] \u001b[32mBuilding CXX object src/caffe/CMakeFiles/caffe.dir/layers/bnll_layer.cpp.o\u001b[0m\n",
            "[ 41%] \u001b[32mBuilding CXX object src/caffe/CMakeFiles/caffe.dir/layers/clip_layer.cpp.o\u001b[0m\n",
            "[ 42%] \u001b[32mBuilding CXX object src/caffe/CMakeFiles/caffe.dir/layers/concat_layer.cpp.o\u001b[0m\n",
            "[ 42%] \u001b[32mBuilding CXX object src/caffe/CMakeFiles/caffe.dir/layers/contrastive_loss_layer.cpp.o\u001b[0m\n",
            "[ 42%] \u001b[32mBuilding CXX object src/caffe/CMakeFiles/caffe.dir/layers/conv_layer.cpp.o\u001b[0m\n",
            "[ 43%] \u001b[32mBuilding CXX object src/caffe/CMakeFiles/caffe.dir/layers/crop_layer.cpp.o\u001b[0m\n",
            "[ 43%] \u001b[32mBuilding CXX object src/caffe/CMakeFiles/caffe.dir/layers/cudnn_conv_layer.cpp.o\u001b[0m\n",
            "[ 45%] \u001b[32mBuilding CXX object src/caffe/CMakeFiles/caffe.dir/layers/cudnn_deconv_layer.cpp.o\u001b[0m\n",
            "[ 45%] \u001b[32mBuilding CXX object src/caffe/CMakeFiles/caffe.dir/layers/cudnn_lcn_layer.cpp.o\u001b[0m\n",
            "[ 45%] \u001b[32mBuilding CXX object src/caffe/CMakeFiles/caffe.dir/layers/cudnn_lrn_layer.cpp.o\u001b[0m\n",
            "[ 46%] \u001b[32mBuilding CXX object src/caffe/CMakeFiles/caffe.dir/layers/cudnn_pooling_layer.cpp.o\u001b[0m\n",
            "[ 46%] \u001b[32mBuilding CXX object src/caffe/CMakeFiles/caffe.dir/layers/cudnn_relu_layer.cpp.o\u001b[0m\n",
            "[ 46%] \u001b[32mBuilding CXX object src/caffe/CMakeFiles/caffe.dir/layers/cudnn_sigmoid_layer.cpp.o\u001b[0m\n",
            "[ 47%] \u001b[32mBuilding CXX object src/caffe/CMakeFiles/caffe.dir/layers/cudnn_softmax_layer.cpp.o\u001b[0m\n",
            "In file included from \u001b[01m\u001b[K/usr/local/cuda/include/thrust/detail/config/config.h:27:0\u001b[m\u001b[K,\n",
            "                 from \u001b[01m\u001b[K/usr/local/cuda/include/thrust/detail/config.h:23\u001b[m\u001b[K,\n",
            "                 from \u001b[01m\u001b[K/usr/local/cuda/include/thrust/device_vector.h:24\u001b[m\u001b[K,\n",
            "                 from \u001b[01m\u001b[K/content/openpose/3rdparty/caffe/src/caffe/layers/cudnn_softmax_layer.cpp:4\u001b[m\u001b[K:\n",
            "\u001b[01m\u001b[K/usr/local/cuda/include/thrust/detail/config/cpp_dialect.h:104:13:\u001b[m\u001b[K \u001b[01;35m\u001b[Kwarning: \u001b[m\u001b[KThrust requires C++14. Please pass -std=c++14 to your compiler. Define THRUST_IGNORE_DEPRECATED_CPP_DIALECT to suppress this message.\n",
            "   THRUST_COM\u001b[01;35m\u001b[KPILER_DEPRECATION(C++14, pass -std=c++14 to your compiler);\u001b[m\u001b[K\n",
            "             \u001b[01;35m\u001b[K^~~~~~~~~~~~~~~~~~~~~~~~~~~~~~~~~~~~~~~~~~~~~~~~~~~~~~~~~~~\u001b[m\u001b[K                                                                            \n",
            "In file included from \u001b[01m\u001b[K/usr/local/cuda/include/cub/util_arch.cuh:36:0\u001b[m\u001b[K,\n",
            "                 from \u001b[01m\u001b[K/usr/local/cuda/include/thrust/system/cuda/detail/util.h:32\u001b[m\u001b[K,\n",
            "                 from \u001b[01m\u001b[K/usr/local/cuda/include/thrust/system/cuda/detail/internal/copy_cross_system.h:39\u001b[m\u001b[K,\n",
            "                 from \u001b[01m\u001b[K/usr/local/cuda/include/thrust/system/cuda/detail/copy.h:100\u001b[m\u001b[K,\n",
            "                 from \u001b[01m\u001b[K/usr/local/cuda/include/thrust/system/detail/adl/copy.h:42\u001b[m\u001b[K,\n",
            "                 from \u001b[01m\u001b[K/usr/local/cuda/include/thrust/detail/copy.inl:22\u001b[m\u001b[K,\n",
            "                 from \u001b[01m\u001b[K/usr/local/cuda/include/thrust/detail/copy.h:90\u001b[m\u001b[K,\n",
            "                 from \u001b[01m\u001b[K/usr/local/cuda/include/thrust/detail/allocator/copy_construct_range.inl:21\u001b[m\u001b[K,\n",
            "                 from \u001b[01m\u001b[K/usr/local/cuda/include/thrust/detail/allocator/copy_construct_range.h:46\u001b[m\u001b[K,\n",
            "                 from \u001b[01m\u001b[K/usr/local/cuda/include/thrust/detail/contiguous_storage.inl:23\u001b[m\u001b[K,\n",
            "                 from \u001b[01m\u001b[K/usr/local/cuda/include/thrust/detail/contiguous_storage.h:235\u001b[m\u001b[K,\n",
            "                 from \u001b[01m\u001b[K/usr/local/cuda/include/thrust/detail/vector_base.h:30\u001b[m\u001b[K,\n",
            "                 from \u001b[01m\u001b[K/usr/local/cuda/include/thrust/device_vector.h:25\u001b[m\u001b[K,\n",
            "                 from \u001b[01m\u001b[K/content/openpose/3rdparty/caffe/src/caffe/layers/cudnn_softmax_layer.cpp:4\u001b[m\u001b[K:\n",
            "\u001b[01m\u001b[K/usr/local/cuda/include/cub/util_cpp_dialect.cuh:129:13:\u001b[m\u001b[K \u001b[01;35m\u001b[Kwarning: \u001b[m\u001b[KCUB requires C++14. Please pass -std=c++14 to your compiler. Define CUB_IGNORE_DEPRECATED_CPP_DIALECT to suppress this message.\n",
            "   CUB_COMPIL\u001b[01;35m\u001b[KER_DEPRECATION(C++14, pass -std=c++14 to your compiler);\u001b[m\u001b[K\n",
            "             \u001b[01;35m\u001b[K^~~~~~~~~~~~~~~~~~~~~~~~~~~~~~~~~~~~~~~~~~~~~~~~~~~~~~~~\u001b[m\u001b[K                                                                         \n",
            "[ 47%] \u001b[32mBuilding CXX object src/caffe/CMakeFiles/caffe.dir/layers/cudnn_tanh_layer.cpp.o\u001b[0m\n",
            "[ 49%] \u001b[32mBuilding CXX object src/caffe/CMakeFiles/caffe.dir/layers/data_layer.cpp.o\u001b[0m\n",
            "[ 49%] \u001b[32mBuilding CXX object src/caffe/CMakeFiles/caffe.dir/layers/deconv_layer.cpp.o\u001b[0m\n",
            "[ 49%] \u001b[32mBuilding CXX object src/caffe/CMakeFiles/caffe.dir/layers/dropout_layer.cpp.o\u001b[0m\n",
            "[ 50%] \u001b[32mBuilding CXX object src/caffe/CMakeFiles/caffe.dir/layers/dummy_data_layer.cpp.o\u001b[0m\n",
            "[ 50%] \u001b[32mBuilding CXX object src/caffe/CMakeFiles/caffe.dir/layers/eltwise_layer.cpp.o\u001b[0m\n",
            "[ 50%] \u001b[32mBuilding CXX object src/caffe/CMakeFiles/caffe.dir/layers/elu_layer.cpp.o\u001b[0m\n",
            "[ 52%] \u001b[32mBuilding CXX object src/caffe/CMakeFiles/caffe.dir/layers/embed_layer.cpp.o\u001b[0m\n",
            "[ 52%] \u001b[32mBuilding CXX object src/caffe/CMakeFiles/caffe.dir/layers/euclidean_loss_layer.cpp.o\u001b[0m\n",
            "[ 53%] \u001b[32mBuilding CXX object src/caffe/CMakeFiles/caffe.dir/layers/exp_layer.cpp.o\u001b[0m\n",
            "[ 53%] \u001b[32mBuilding CXX object src/caffe/CMakeFiles/caffe.dir/layers/filter_layer.cpp.o\u001b[0m\n",
            "[ 53%] \u001b[32mBuilding CXX object src/caffe/CMakeFiles/caffe.dir/layers/flatten_layer.cpp.o\u001b[0m\n",
            "[ 54%] \u001b[32mBuilding CXX object src/caffe/CMakeFiles/caffe.dir/layers/hdf5_data_layer.cpp.o\u001b[0m\n",
            "[ 54%] \u001b[32mBuilding CXX object src/caffe/CMakeFiles/caffe.dir/layers/hdf5_output_layer.cpp.o\u001b[0m\n",
            "[ 56%] \u001b[32mBuilding CXX object src/caffe/CMakeFiles/caffe.dir/layers/hinge_loss_layer.cpp.o\u001b[0m\n",
            "[ 56%] \u001b[32mBuilding CXX object src/caffe/CMakeFiles/caffe.dir/layers/im2col_layer.cpp.o\u001b[0m\n",
            "[ 56%] \u001b[32mBuilding CXX object src/caffe/CMakeFiles/caffe.dir/layers/image_data_layer.cpp.o\u001b[0m\n",
            "[ 57%] \u001b[32mBuilding CXX object src/caffe/CMakeFiles/caffe.dir/layers/infogain_loss_layer.cpp.o\u001b[0m\n",
            "[ 57%] \u001b[32mBuilding CXX object src/caffe/CMakeFiles/caffe.dir/layers/inner_product_layer.cpp.o\u001b[0m\n",
            "[ 57%] \u001b[32mBuilding CXX object src/caffe/CMakeFiles/caffe.dir/layers/input_layer.cpp.o\u001b[0m\n",
            "[ 58%] \u001b[32mBuilding CXX object src/caffe/CMakeFiles/caffe.dir/layers/log_layer.cpp.o\u001b[0m\n",
            "[ 58%] \u001b[32mBuilding CXX object src/caffe/CMakeFiles/caffe.dir/layers/loss_layer.cpp.o\u001b[0m\n",
            "[ 60%] \u001b[32mBuilding CXX object src/caffe/CMakeFiles/caffe.dir/layers/lrn_layer.cpp.o\u001b[0m\n",
            "[ 60%] \u001b[32mBuilding CXX object src/caffe/CMakeFiles/caffe.dir/layers/lstm_layer.cpp.o\u001b[0m\n",
            "[ 60%] \u001b[32mBuilding CXX object src/caffe/CMakeFiles/caffe.dir/layers/lstm_unit_layer.cpp.o\u001b[0m\n",
            "[ 61%] \u001b[32mBuilding CXX object src/caffe/CMakeFiles/caffe.dir/layers/memory_data_layer.cpp.o\u001b[0m\n",
            "[ 61%] \u001b[32mBuilding CXX object src/caffe/CMakeFiles/caffe.dir/layers/multinomial_logistic_loss_layer.cpp.o\u001b[0m\n",
            "[ 61%] \u001b[32mBuilding CXX object src/caffe/CMakeFiles/caffe.dir/layers/mvn_layer.cpp.o\u001b[0m\n",
            "[ 63%] \u001b[32mBuilding CXX object src/caffe/CMakeFiles/caffe.dir/layers/neuron_layer.cpp.o\u001b[0m\n",
            "[ 63%] \u001b[32mBuilding CXX object src/caffe/CMakeFiles/caffe.dir/layers/parameter_layer.cpp.o\u001b[0m\n",
            "[ 64%] \u001b[32mBuilding CXX object src/caffe/CMakeFiles/caffe.dir/layers/pooling_layer.cpp.o\u001b[0m\n",
            "[ 64%] \u001b[32mBuilding CXX object src/caffe/CMakeFiles/caffe.dir/layers/power_layer.cpp.o\u001b[0m\n",
            "[ 64%] \u001b[32mBuilding CXX object src/caffe/CMakeFiles/caffe.dir/layers/prelu_layer.cpp.o\u001b[0m\n",
            "[ 65%] \u001b[32mBuilding CXX object src/caffe/CMakeFiles/caffe.dir/layers/recurrent_layer.cpp.o\u001b[0m\n",
            "[ 65%] \u001b[32mBuilding CXX object src/caffe/CMakeFiles/caffe.dir/layers/reduction_layer.cpp.o\u001b[0m\n",
            "[ 65%] \u001b[32mBuilding CXX object src/caffe/CMakeFiles/caffe.dir/layers/relu_layer.cpp.o\u001b[0m\n",
            "[ 67%] \u001b[32mBuilding CXX object src/caffe/CMakeFiles/caffe.dir/layers/reshape_layer.cpp.o\u001b[0m\n",
            "[ 67%] \u001b[32mBuilding CXX object src/caffe/CMakeFiles/caffe.dir/layers/rnn_layer.cpp.o\u001b[0m\n",
            "[ 68%] \u001b[32mBuilding CXX object src/caffe/CMakeFiles/caffe.dir/layers/scale_layer.cpp.o\u001b[0m\n",
            "[ 68%] \u001b[32mBuilding CXX object src/caffe/CMakeFiles/caffe.dir/layers/sigmoid_cross_entropy_loss_layer.cpp.o\u001b[0m\n",
            "[ 68%] \u001b[32mBuilding CXX object src/caffe/CMakeFiles/caffe.dir/layers/sigmoid_layer.cpp.o\u001b[0m\n",
            "[ 69%] \u001b[32mBuilding CXX object src/caffe/CMakeFiles/caffe.dir/layers/silence_layer.cpp.o\u001b[0m\n",
            "[ 69%] \u001b[32mBuilding CXX object src/caffe/CMakeFiles/caffe.dir/layers/slice_layer.cpp.o\u001b[0m\n",
            "[ 69%] \u001b[32mBuilding CXX object src/caffe/CMakeFiles/caffe.dir/layers/softmax_layer.cpp.o\u001b[0m\n",
            "[ 71%] \u001b[32mBuilding CXX object src/caffe/CMakeFiles/caffe.dir/layers/softmax_loss_layer.cpp.o\u001b[0m\n",
            "[ 71%] \u001b[32mBuilding CXX object src/caffe/CMakeFiles/caffe.dir/layers/split_layer.cpp.o\u001b[0m\n",
            "[ 72%] \u001b[32mBuilding CXX object src/caffe/CMakeFiles/caffe.dir/layers/spp_layer.cpp.o\u001b[0m\n",
            "[ 72%] \u001b[32mBuilding CXX object src/caffe/CMakeFiles/caffe.dir/layers/swish_layer.cpp.o\u001b[0m\n",
            "[ 72%] \u001b[32mBuilding CXX object src/caffe/CMakeFiles/caffe.dir/layers/tanh_layer.cpp.o\u001b[0m\n",
            "[ 73%] \u001b[32mBuilding CXX object src/caffe/CMakeFiles/caffe.dir/layers/threshold_layer.cpp.o\u001b[0m\n",
            "[ 73%] \u001b[32mBuilding CXX object src/caffe/CMakeFiles/caffe.dir/layers/tile_layer.cpp.o\u001b[0m\n",
            "[ 73%] \u001b[32mBuilding CXX object src/caffe/CMakeFiles/caffe.dir/layers/window_data_layer.cpp.o\u001b[0m\n",
            "[ 75%] \u001b[32mBuilding CXX object src/caffe/CMakeFiles/caffe.dir/net.cpp.o\u001b[0m\n",
            "[ 75%] \u001b[32mBuilding CXX object src/caffe/CMakeFiles/caffe.dir/parallel.cpp.o\u001b[0m\n",
            "[ 76%] \u001b[32mBuilding CXX object src/caffe/CMakeFiles/caffe.dir/solver.cpp.o\u001b[0m\n",
            "[ 76%] \u001b[32mBuilding CXX object src/caffe/CMakeFiles/caffe.dir/solvers/adadelta_solver.cpp.o\u001b[0m\n",
            "[ 76%] \u001b[32mBuilding CXX object src/caffe/CMakeFiles/caffe.dir/solvers/adagrad_solver.cpp.o\u001b[0m\n",
            "[ 78%] \u001b[32mBuilding CXX object src/caffe/CMakeFiles/caffe.dir/solvers/adam_solver.cpp.o\u001b[0m\n",
            "[ 78%] \u001b[32mBuilding CXX object src/caffe/CMakeFiles/caffe.dir/solvers/nesterov_solver.cpp.o\u001b[0m\n",
            "[ 78%] \u001b[32mBuilding CXX object src/caffe/CMakeFiles/caffe.dir/solvers/rmsprop_solver.cpp.o\u001b[0m\n",
            "[ 79%] \u001b[32mBuilding CXX object src/caffe/CMakeFiles/caffe.dir/solvers/sgd_solver.cpp.o\u001b[0m\n",
            "[ 79%] \u001b[32mBuilding CXX object src/caffe/CMakeFiles/caffe.dir/syncedmem.cpp.o\u001b[0m\n",
            "[ 80%] \u001b[32mBuilding CXX object src/caffe/CMakeFiles/caffe.dir/util/benchmark.cpp.o\u001b[0m\n",
            "[ 80%] \u001b[32mBuilding CXX object src/caffe/CMakeFiles/caffe.dir/util/blocking_queue.cpp.o\u001b[0m\n",
            "[ 80%] \u001b[32mBuilding CXX object src/caffe/CMakeFiles/caffe.dir/util/cudnn.cpp.o\u001b[0m\n",
            "[ 82%] \u001b[32mBuilding CXX object src/caffe/CMakeFiles/caffe.dir/util/db.cpp.o\u001b[0m\n",
            "[ 82%] \u001b[32mBuilding CXX object src/caffe/CMakeFiles/caffe.dir/util/db_leveldb.cpp.o\u001b[0m\n",
            "[ 83%] \u001b[32mBuilding CXX object src/caffe/CMakeFiles/caffe.dir/util/db_lmdb.cpp.o\u001b[0m\n",
            "[ 83%] \u001b[32mBuilding CXX object src/caffe/CMakeFiles/caffe.dir/util/hdf5.cpp.o\u001b[0m\n",
            "[ 83%] \u001b[32mBuilding CXX object src/caffe/CMakeFiles/caffe.dir/util/im2col.cpp.o\u001b[0m\n",
            "[ 84%] \u001b[32mBuilding CXX object src/caffe/CMakeFiles/caffe.dir/util/insert_splits.cpp.o\u001b[0m\n",
            "[ 84%] \u001b[32mBuilding CXX object src/caffe/CMakeFiles/caffe.dir/util/io.cpp.o\u001b[0m\n",
            "[ 84%] \u001b[32mBuilding CXX object src/caffe/CMakeFiles/caffe.dir/util/math_functions.cpp.o\u001b[0m\n",
            "[ 86%] \u001b[32mBuilding CXX object src/caffe/CMakeFiles/caffe.dir/util/signal_handler.cpp.o\u001b[0m\n",
            "[ 86%] \u001b[32mBuilding CXX object src/caffe/CMakeFiles/caffe.dir/util/upgrade_proto.cpp.o\u001b[0m\n",
            "[ 87%] \u001b[32m\u001b[1mLinking CXX shared library ../../lib/libcaffe.so\u001b[0m\n",
            "[ 87%] Built target caffe\n",
            "\u001b[35m\u001b[1mScanning dependencies of target upgrade_solver_proto_text\u001b[0m\n",
            "\u001b[35m\u001b[1mScanning dependencies of target compute_image_mean\u001b[0m\n",
            "[ 89%] \u001b[32mBuilding CXX object tools/CMakeFiles/upgrade_solver_proto_text.dir/upgrade_solver_proto_text.cpp.o\u001b[0m\n",
            "[ 89%] \u001b[32mBuilding CXX object tools/CMakeFiles/compute_image_mean.dir/compute_image_mean.cpp.o\u001b[0m\n",
            "[ 89%] \u001b[32m\u001b[1mLinking CXX executable compute_image_mean\u001b[0m\n",
            "[ 89%] Built target compute_image_mean\n",
            "\u001b[35m\u001b[1mScanning dependencies of target caffe.bin\u001b[0m\n",
            "[ 89%] \u001b[32mBuilding CXX object tools/CMakeFiles/caffe.bin.dir/caffe.cpp.o\u001b[0m\n",
            "[ 90%] \u001b[32m\u001b[1mLinking CXX executable upgrade_solver_proto_text\u001b[0m\n",
            "[ 90%] Built target upgrade_solver_proto_text\n",
            "\u001b[35m\u001b[1mScanning dependencies of target upgrade_net_proto_binary\u001b[0m\n",
            "[ 91%] \u001b[32mBuilding CXX object tools/CMakeFiles/upgrade_net_proto_binary.dir/upgrade_net_proto_binary.cpp.o\u001b[0m\n",
            "[ 91%] \u001b[32m\u001b[1mLinking CXX executable upgrade_net_proto_binary\u001b[0m\n",
            "[ 91%] Built target upgrade_net_proto_binary\n",
            "\u001b[35m\u001b[1mScanning dependencies of target convert_imageset\u001b[0m\n",
            "[ 91%] \u001b[32mBuilding CXX object tools/CMakeFiles/convert_imageset.dir/convert_imageset.cpp.o\u001b[0m\n",
            "[ 91%] \u001b[32m\u001b[1mLinking CXX executable caffe\u001b[0m\n",
            "[ 91%] Built target caffe.bin\n",
            "\u001b[35m\u001b[1mScanning dependencies of target extract_features\u001b[0m\n",
            "[ 91%] \u001b[32mBuilding CXX object tools/CMakeFiles/extract_features.dir/extract_features.cpp.o\u001b[0m\n",
            "[ 91%] \u001b[32m\u001b[1mLinking CXX executable convert_imageset\u001b[0m\n",
            "[ 91%] Built target convert_imageset\n",
            "\u001b[35m\u001b[1mScanning dependencies of target upgrade_net_proto_text\u001b[0m\n",
            "[ 91%] \u001b[32mBuilding CXX object tools/CMakeFiles/upgrade_net_proto_text.dir/upgrade_net_proto_text.cpp.o\u001b[0m\n",
            "[ 93%] \u001b[32m\u001b[1mLinking CXX executable extract_features\u001b[0m\n",
            "[ 93%] Built target extract_features\n",
            "\u001b[35m\u001b[1mScanning dependencies of target classification\u001b[0m\n",
            "[ 94%] \u001b[32mBuilding CXX object examples/CMakeFiles/classification.dir/cpp_classification/classification.cpp.o\u001b[0m\n",
            "[ 95%] \u001b[32m\u001b[1mLinking CXX executable upgrade_net_proto_text\u001b[0m\n",
            "[ 95%] Built target upgrade_net_proto_text\n",
            "\u001b[35m\u001b[1mScanning dependencies of target convert_mnist_data\u001b[0m\n",
            "[ 97%] \u001b[32mBuilding CXX object examples/CMakeFiles/convert_mnist_data.dir/mnist/convert_mnist_data.cpp.o\u001b[0m\n",
            "[ 97%] \u001b[32m\u001b[1mLinking CXX executable mnist/convert_mnist_data\u001b[0m\n",
            "[ 97%] Built target convert_mnist_data\n",
            "\u001b[35m\u001b[1mScanning dependencies of target convert_cifar_data\u001b[0m\n",
            "[ 97%] \u001b[32mBuilding CXX object examples/CMakeFiles/convert_cifar_data.dir/cifar10/convert_cifar_data.cpp.o\u001b[0m\n",
            "[ 97%] \u001b[32m\u001b[1mLinking CXX executable cpp_classification/classification\u001b[0m\n",
            "[ 97%] Built target classification\n",
            "\u001b[35m\u001b[1mScanning dependencies of target convert_mnist_siamese_data\u001b[0m\n",
            "[ 98%] \u001b[32mBuilding CXX object examples/CMakeFiles/convert_mnist_siamese_data.dir/siamese/convert_mnist_siamese_data.cpp.o\u001b[0m\n",
            "[100%] \u001b[32m\u001b[1mLinking CXX executable cifar10/convert_cifar_data\u001b[0m\n",
            "[100%] Built target convert_cifar_data\n",
            "[100%] \u001b[32m\u001b[1mLinking CXX executable siamese/convert_mnist_siamese_data\u001b[0m\n",
            "[100%] Built target convert_mnist_siamese_data\n",
            "[ 87%] \u001b[34m\u001b[1mPerforming install step for 'openpose_lib'\u001b[0m\n",
            "-- Boost version: 1.65.1\n",
            "-- Found the following Boost libraries:\n",
            "--   system\n",
            "--   thread\n",
            "--   filesystem\n",
            "--   chrono\n",
            "--   date_time\n",
            "--   atomic\n",
            "-- Found gflags  (include: /usr/include, library: /usr/lib/x86_64-linux-gnu/libgflags.so)\n",
            "-- Found glog    (include: /usr/include, library: /usr/lib/x86_64-linux-gnu/libglog.so)\n",
            "-- Found PROTOBUF Compiler: /usr/bin/protoc\n",
            "-- HDF5: Using hdf5 compiler wrapper to determine C configuration\n",
            "-- HDF5: Using hdf5 compiler wrapper to determine CXX configuration\n",
            "-- CUDA detected: 11.1\n",
            "-- Found cuDNN: ver. 7.6.5 found (include: /usr/include, library: /usr/lib/x86_64-linux-gnu/libcudnn.so)\n",
            "-- Added CUDA NVCC flags for: sm_37\n",
            "-- Found Atlas (include: /usr/include/x86_64-linux-gnu library: /usr/lib/x86_64-linux-gnu/libatlas.so lapack: /usr/lib/x86_64-linux-gnu/liblapack.so\n",
            "-- Python interface is disabled or not all required dependencies found. Building without it...\n",
            "-- \n",
            "-- ******************* Caffe Configuration Summary *******************\n",
            "-- General:\n",
            "--   Version           :   1.0.0\n",
            "--   Git               :   1.0-149-g1807aada\n",
            "--   System            :   Linux\n",
            "--   C++ compiler      :   /usr/bin/c++\n",
            "--   Release CXX flags :   -O3 -DNDEBUG -fPIC -Wall -std=c++11 -Wno-sign-compare -Wno-uninitialized\n",
            "--   Debug CXX flags   :   -g -fPIC -Wall -std=c++11 -Wno-sign-compare -Wno-uninitialized\n",
            "--   Build type        :   Release\n",
            "-- \n",
            "--   BUILD_SHARED_LIBS :   ON\n",
            "--   BUILD_python      :   OFF\n",
            "--   BUILD_matlab      :   OFF\n",
            "--   BUILD_docs        :   OFF\n",
            "--   CPU_ONLY          :   OFF\n",
            "--   USE_OPENCV        :   OFF\n",
            "--   USE_LEVELDB       :   OFF\n",
            "--   USE_LMDB          :   OFF\n",
            "--   USE_NCCL          :   OFF\n",
            "--   ALLOW_LMDB_NOLOCK :   OFF\n",
            "--   USE_HDF5          :   ON\n",
            "-- \n",
            "-- Dependencies:\n",
            "--   BLAS              :   Yes (Atlas)\n",
            "--   Boost             :   Yes (ver. 1.65)\n",
            "--   glog              :   Yes\n",
            "--   gflags            :   Yes\n",
            "--   protobuf          :   Yes (ver. 3.0.0)\n",
            "--   CUDA              :   Yes (ver. 11.1)\n",
            "-- \n",
            "-- NVIDIA CUDA:\n",
            "--   Target GPU(s)     :   Auto\n",
            "--   GPU arch(s)       :   sm_37\n",
            "--   cuDNN             :   Yes (ver. 7.6.5)\n",
            "-- \n",
            "-- Install:\n",
            "--   Install path      :   /content/openpose/build/caffe\n",
            "-- \n",
            "-- Configuring done\n",
            "-- Generating done\n",
            "-- Build files have been written to: /content/openpose/build/caffe/src/openpose_lib-build\n",
            "[  2%] Built target caffeproto\n",
            "\u001b[35m\u001b[1mScanning dependencies of target caffe\u001b[0m\n",
            "[  4%] \u001b[32m\u001b[1mLinking CXX shared library ../../lib/libcaffe.so\u001b[0m\n",
            "[ 89%] Built target caffe\n",
            "[ 90%] \u001b[32m\u001b[1mLinking CXX executable compute_image_mean\u001b[0m\n",
            "[ 90%] \u001b[32m\u001b[1mLinking CXX executable upgrade_solver_proto_text\u001b[0m\n",
            "[ 91%] Built target compute_image_mean\n",
            "[ 91%] \u001b[32m\u001b[1mLinking CXX executable caffe\u001b[0m\n",
            "[ 91%] Built target upgrade_solver_proto_text\n",
            "[ 91%] \u001b[32m\u001b[1mLinking CXX executable upgrade_net_proto_binary\u001b[0m\n",
            "[ 91%] Built target caffe.bin\n",
            "[ 93%] \u001b[32m\u001b[1mLinking CXX executable convert_imageset\u001b[0m\n",
            "[ 94%] Built target upgrade_net_proto_binary\n",
            "[ 95%] \u001b[32m\u001b[1mLinking CXX executable extract_features\u001b[0m\n",
            "[ 95%] Built target convert_imageset\n",
            "[ 97%] \u001b[32m\u001b[1mLinking CXX executable upgrade_net_proto_text\u001b[0m\n",
            "[ 97%] Built target extract_features\n",
            "[ 97%] \u001b[32m\u001b[1mLinking CXX executable cpp_classification/classification\u001b[0m\n",
            "[ 97%] Built target upgrade_net_proto_text\n",
            "[ 97%] \u001b[32m\u001b[1mLinking CXX executable mnist/convert_mnist_data\u001b[0m\n",
            "[ 97%] Built target classification\n",
            "[ 98%] \u001b[32m\u001b[1mLinking CXX executable cifar10/convert_cifar_data\u001b[0m\n",
            "[ 98%] Built target convert_mnist_data\n",
            "[ 98%] \u001b[32m\u001b[1mLinking CXX executable siamese/convert_mnist_siamese_data\u001b[0m\n",
            "[100%] Built target convert_mnist_siamese_data\n",
            "[100%] Built target convert_cifar_data\n",
            "\u001b[36mInstall the project...\u001b[0m\n",
            "-- Install configuration: \"Release\"\n",
            "-- Installing: /content/openpose/build/caffe/share/Caffe/CaffeConfig.cmake\n",
            "-- Installing: /content/openpose/build/caffe/share/Caffe/CaffeTargets.cmake\n",
            "-- Installing: /content/openpose/build/caffe/share/Caffe/CaffeTargets-release.cmake\n",
            "-- Installing: /content/openpose/build/caffe/include/caffe\n",
            "-- Installing: /content/openpose/build/caffe/include/caffe/util\n",
            "-- Installing: /content/openpose/build/caffe/include/caffe/util/db.hpp\n",
            "-- Installing: /content/openpose/build/caffe/include/caffe/util/device_alternate.hpp\n",
            "-- Installing: /content/openpose/build/caffe/include/caffe/util/signal_handler.h\n",
            "-- Installing: /content/openpose/build/caffe/include/caffe/util/mkl_alternate.hpp\n",
            "-- Installing: /content/openpose/build/caffe/include/caffe/util/gpu_util.cuh\n",
            "-- Installing: /content/openpose/build/caffe/include/caffe/util/im2col.hpp\n",
            "-- Installing: /content/openpose/build/caffe/include/caffe/util/upgrade_proto.hpp\n",
            "-- Installing: /content/openpose/build/caffe/include/caffe/util/benchmark.hpp\n",
            "-- Installing: /content/openpose/build/caffe/include/caffe/util/nccl.hpp\n",
            "-- Installing: /content/openpose/build/caffe/include/caffe/util/rng.hpp\n",
            "-- Installing: /content/openpose/build/caffe/include/caffe/util/cudnn.hpp\n",
            "-- Installing: /content/openpose/build/caffe/include/caffe/util/format.hpp\n",
            "-- Installing: /content/openpose/build/caffe/include/caffe/util/hdf5.hpp\n",
            "-- Installing: /content/openpose/build/caffe/include/caffe/util/io.hpp\n",
            "-- Installing: /content/openpose/build/caffe/include/caffe/util/db_leveldb.hpp\n",
            "-- Installing: /content/openpose/build/caffe/include/caffe/util/insert_splits.hpp\n",
            "-- Installing: /content/openpose/build/caffe/include/caffe/util/db_lmdb.hpp\n",
            "-- Installing: /content/openpose/build/caffe/include/caffe/util/math_functions.hpp\n",
            "-- Installing: /content/openpose/build/caffe/include/caffe/util/blocking_queue.hpp\n",
            "-- Installing: /content/openpose/build/caffe/include/caffe/test\n",
            "-- Installing: /content/openpose/build/caffe/include/caffe/test/test_caffe_main.hpp\n",
            "-- Installing: /content/openpose/build/caffe/include/caffe/test/test_gradient_check_util.hpp\n",
            "-- Installing: /content/openpose/build/caffe/include/caffe/solver_factory.hpp\n",
            "-- Installing: /content/openpose/build/caffe/include/caffe/blob.hpp\n",
            "-- Installing: /content/openpose/build/caffe/include/caffe/internal_thread.hpp\n",
            "-- Installing: /content/openpose/build/caffe/include/caffe/sgd_solvers.hpp\n",
            "-- Installing: /content/openpose/build/caffe/include/caffe/layer_factory.hpp\n",
            "-- Installing: /content/openpose/build/caffe/include/caffe/filler.hpp\n",
            "-- Installing: /content/openpose/build/caffe/include/caffe/net.hpp\n",
            "-- Installing: /content/openpose/build/caffe/include/caffe/caffe.hpp\n",
            "-- Installing: /content/openpose/build/caffe/include/caffe/data_transformer.hpp\n",
            "-- Installing: /content/openpose/build/caffe/include/caffe/layer.hpp\n",
            "-- Installing: /content/openpose/build/caffe/include/caffe/layers\n",
            "-- Installing: /content/openpose/build/caffe/include/caffe/layers/cudnn_lrn_layer.hpp\n",
            "-- Installing: /content/openpose/build/caffe/include/caffe/layers/cudnn_pooling_layer.hpp\n",
            "-- Installing: /content/openpose/build/caffe/include/caffe/layers/bias_layer.hpp\n",
            "-- Installing: /content/openpose/build/caffe/include/caffe/layers/bnll_layer.hpp\n",
            "-- Installing: /content/openpose/build/caffe/include/caffe/layers/batch_reindex_layer.hpp\n",
            "-- Installing: /content/openpose/build/caffe/include/caffe/layers/log_layer.hpp\n",
            "-- Installing: /content/openpose/build/caffe/include/caffe/layers/cudnn_tanh_layer.hpp\n",
            "-- Installing: /content/openpose/build/caffe/include/caffe/layers/batch_norm_layer.hpp\n",
            "-- Installing: /content/openpose/build/caffe/include/caffe/layers/threshold_layer.hpp\n",
            "-- Installing: /content/openpose/build/caffe/include/caffe/layers/python_layer.hpp\n",
            "-- Installing: /content/openpose/build/caffe/include/caffe/layers/cudnn_softmax_layer.hpp\n",
            "-- Installing: /content/openpose/build/caffe/include/caffe/layers/cudnn_sigmoid_layer.hpp\n",
            "-- Installing: /content/openpose/build/caffe/include/caffe/layers/hdf5_output_layer.hpp\n",
            "-- Installing: /content/openpose/build/caffe/include/caffe/layers/softmax_layer.hpp\n",
            "-- Installing: /content/openpose/build/caffe/include/caffe/layers/cudnn_deconv_layer.hpp\n",
            "-- Installing: /content/openpose/build/caffe/include/caffe/layers/recurrent_layer.hpp\n",
            "-- Installing: /content/openpose/build/caffe/include/caffe/layers/concat_layer.hpp\n",
            "-- Installing: /content/openpose/build/caffe/include/caffe/layers/power_layer.hpp\n",
            "-- Installing: /content/openpose/build/caffe/include/caffe/layers/lstm_layer.hpp\n",
            "-- Installing: /content/openpose/build/caffe/include/caffe/layers/data_layer.hpp\n",
            "-- Installing: /content/openpose/build/caffe/include/caffe/layers/infogain_loss_layer.hpp\n",
            "-- Installing: /content/openpose/build/caffe/include/caffe/layers/crop_layer.hpp\n",
            "-- Installing: /content/openpose/build/caffe/include/caffe/layers/elu_layer.hpp\n",
            "-- Installing: /content/openpose/build/caffe/include/caffe/layers/rnn_layer.hpp\n",
            "-- Installing: /content/openpose/build/caffe/include/caffe/layers/lrn_layer.hpp\n",
            "-- Installing: /content/openpose/build/caffe/include/caffe/layers/slice_layer.hpp\n",
            "-- Installing: /content/openpose/build/caffe/include/caffe/layers/absval_layer.hpp\n",
            "-- Installing: /content/openpose/build/caffe/include/caffe/layers/prelu_layer.hpp\n",
            "-- Installing: /content/openpose/build/caffe/include/caffe/layers/inner_product_layer.hpp\n",
            "-- Installing: /content/openpose/build/caffe/include/caffe/layers/image_data_layer.hpp\n",
            "-- Installing: /content/openpose/build/caffe/include/caffe/layers/deconv_layer.hpp\n",
            "-- Installing: /content/openpose/build/caffe/include/caffe/layers/softmax_loss_layer.hpp\n",
            "-- Installing: /content/openpose/build/caffe/include/caffe/layers/cudnn_relu_layer.hpp\n",
            "-- Installing: /content/openpose/build/caffe/include/caffe/layers/argmax_layer.hpp\n",
            "-- Installing: /content/openpose/build/caffe/include/caffe/layers/spp_layer.hpp\n",
            "-- Installing: /content/openpose/build/caffe/include/caffe/layers/sigmoid_cross_entropy_loss_layer.hpp\n",
            "-- Installing: /content/openpose/build/caffe/include/caffe/layers/dropout_layer.hpp\n",
            "-- Installing: /content/openpose/build/caffe/include/caffe/layers/conv_layer.hpp\n",
            "-- Installing: /content/openpose/build/caffe/include/caffe/layers/base_conv_layer.hpp\n",
            "-- Installing: /content/openpose/build/caffe/include/caffe/layers/swish_layer.hpp\n",
            "-- Installing: /content/openpose/build/caffe/include/caffe/layers/neuron_layer.hpp\n",
            "-- Installing: /content/openpose/build/caffe/include/caffe/layers/split_layer.hpp\n",
            "-- Installing: /content/openpose/build/caffe/include/caffe/layers/base_data_layer.hpp\n",
            "-- Installing: /content/openpose/build/caffe/include/caffe/layers/relu_layer.hpp\n",
            "-- Installing: /content/openpose/build/caffe/include/caffe/layers/im2col_layer.hpp\n",
            "-- Installing: /content/openpose/build/caffe/include/caffe/layers/filter_layer.hpp\n",
            "-- Installing: /content/openpose/build/caffe/include/caffe/layers/pooling_layer.hpp\n",
            "-- Installing: /content/openpose/build/caffe/include/caffe/layers/exp_layer.hpp\n",
            "-- Installing: /content/openpose/build/caffe/include/caffe/layers/eltwise_layer.hpp\n",
            "-- Installing: /content/openpose/build/caffe/include/caffe/layers/euclidean_loss_layer.hpp\n",
            "-- Installing: /content/openpose/build/caffe/include/caffe/layers/cudnn_conv_layer.hpp\n",
            "-- Installing: /content/openpose/build/caffe/include/caffe/layers/parameter_layer.hpp\n",
            "-- Installing: /content/openpose/build/caffe/include/caffe/layers/silence_layer.hpp\n",
            "-- Installing: /content/openpose/build/caffe/include/caffe/layers/loss_layer.hpp\n",
            "-- Installing: /content/openpose/build/caffe/include/caffe/layers/mvn_layer.hpp\n",
            "-- Installing: /content/openpose/build/caffe/include/caffe/layers/tile_layer.hpp\n",
            "-- Installing: /content/openpose/build/caffe/include/caffe/layers/window_data_layer.hpp\n",
            "-- Installing: /content/openpose/build/caffe/include/caffe/layers/dummy_data_layer.hpp\n",
            "-- Installing: /content/openpose/build/caffe/include/caffe/layers/reshape_layer.hpp\n",
            "-- Installing: /content/openpose/build/caffe/include/caffe/layers/tanh_layer.hpp\n",
            "-- Installing: /content/openpose/build/caffe/include/caffe/layers/flatten_layer.hpp\n",
            "-- Installing: /content/openpose/build/caffe/include/caffe/layers/hinge_loss_layer.hpp\n",
            "-- Installing: /content/openpose/build/caffe/include/caffe/layers/embed_layer.hpp\n",
            "-- Installing: /content/openpose/build/caffe/include/caffe/layers/memory_data_layer.hpp\n",
            "-- Installing: /content/openpose/build/caffe/include/caffe/layers/reduction_layer.hpp\n",
            "-- Installing: /content/openpose/build/caffe/include/caffe/layers/hdf5_data_layer.hpp\n",
            "-- Installing: /content/openpose/build/caffe/include/caffe/layers/contrastive_loss_layer.hpp\n",
            "-- Installing: /content/openpose/build/caffe/include/caffe/layers/accuracy_layer.hpp\n",
            "-- Installing: /content/openpose/build/caffe/include/caffe/layers/scale_layer.hpp\n",
            "-- Installing: /content/openpose/build/caffe/include/caffe/layers/input_layer.hpp\n",
            "-- Installing: /content/openpose/build/caffe/include/caffe/layers/sigmoid_layer.hpp\n",
            "-- Installing: /content/openpose/build/caffe/include/caffe/layers/clip_layer.hpp\n",
            "-- Installing: /content/openpose/build/caffe/include/caffe/layers/cudnn_lcn_layer.hpp\n",
            "-- Installing: /content/openpose/build/caffe/include/caffe/layers/multinomial_logistic_loss_layer.hpp\n",
            "-- Installing: /content/openpose/build/caffe/include/caffe/solver.hpp\n",
            "-- Installing: /content/openpose/build/caffe/include/caffe/common.hpp\n",
            "-- Installing: /content/openpose/build/caffe/include/caffe/syncedmem.hpp\n",
            "-- Installing: /content/openpose/build/caffe/include/caffe/parallel.hpp\n",
            "-- Installing: /content/openpose/build/caffe/include/caffe/proto/caffe.pb.h\n",
            "-- Installing: /content/openpose/build/caffe/lib/libcaffe.so.1.0.0\n",
            "-- Set runtime path of \"/content/openpose/build/caffe/lib/libcaffe.so.1.0.0\" to \"/content/openpose/build/caffe/lib:/usr/lib/x86_64-linux-gnu/hdf5/serial:/usr/local/cuda/lib64\"\n",
            "-- Installing: /content/openpose/build/caffe/lib/libcaffe.so\n",
            "-- Installing: /content/openpose/build/caffe/lib/libcaffeproto.a\n",
            "-- Installing: /content/openpose/build/caffe/python/caffe/proto/caffe_pb2.py\n",
            "-- Installing: /content/openpose/build/caffe/python/caffe/proto/__init__.py\n",
            "-- Installing: /content/openpose/build/caffe/bin/caffe\n",
            "-- Set runtime path of \"/content/openpose/build/caffe/bin/caffe\" to \"/content/openpose/build/caffe/lib:/usr/lib/x86_64-linux-gnu/hdf5/serial:/usr/local/cuda/lib64\"\n",
            "-- Installing: /content/openpose/build/caffe/bin/compute_image_mean\n",
            "-- Set runtime path of \"/content/openpose/build/caffe/bin/compute_image_mean\" to \"/content/openpose/build/caffe/lib:/usr/lib/x86_64-linux-gnu/hdf5/serial:/usr/local/cuda/lib64\"\n",
            "-- Installing: /content/openpose/build/caffe/bin/convert_imageset\n",
            "-- Set runtime path of \"/content/openpose/build/caffe/bin/convert_imageset\" to \"/content/openpose/build/caffe/lib:/usr/lib/x86_64-linux-gnu/hdf5/serial:/usr/local/cuda/lib64\"\n",
            "-- Installing: /content/openpose/build/caffe/bin/extract_features\n",
            "-- Set runtime path of \"/content/openpose/build/caffe/bin/extract_features\" to \"/content/openpose/build/caffe/lib:/usr/lib/x86_64-linux-gnu/hdf5/serial:/usr/local/cuda/lib64\"\n",
            "-- Installing: /content/openpose/build/caffe/bin/upgrade_net_proto_binary\n",
            "-- Set runtime path of \"/content/openpose/build/caffe/bin/upgrade_net_proto_binary\" to \"/content/openpose/build/caffe/lib:/usr/lib/x86_64-linux-gnu/hdf5/serial:/usr/local/cuda/lib64\"\n",
            "-- Installing: /content/openpose/build/caffe/bin/upgrade_net_proto_text\n",
            "-- Set runtime path of \"/content/openpose/build/caffe/bin/upgrade_net_proto_text\" to \"/content/openpose/build/caffe/lib:/usr/lib/x86_64-linux-gnu/hdf5/serial:/usr/local/cuda/lib64\"\n",
            "-- Installing: /content/openpose/build/caffe/bin/upgrade_solver_proto_text\n",
            "-- Set runtime path of \"/content/openpose/build/caffe/bin/upgrade_solver_proto_text\" to \"/content/openpose/build/caffe/lib:/usr/lib/x86_64-linux-gnu/hdf5/serial:/usr/local/cuda/lib64\"\n",
            "-- Installing: /content/openpose/build/caffe/bin/convert_cifar_data\n",
            "-- Set runtime path of \"/content/openpose/build/caffe/bin/convert_cifar_data\" to \"/content/openpose/build/caffe/lib:/usr/lib/x86_64-linux-gnu/hdf5/serial:/usr/local/cuda/lib64\"\n",
            "-- Installing: /content/openpose/build/caffe/bin/classification\n",
            "-- Set runtime path of \"/content/openpose/build/caffe/bin/classification\" to \"/content/openpose/build/caffe/lib:/usr/lib/x86_64-linux-gnu/hdf5/serial:/usr/local/cuda/lib64\"\n",
            "-- Installing: /content/openpose/build/caffe/bin/convert_mnist_data\n",
            "-- Set runtime path of \"/content/openpose/build/caffe/bin/convert_mnist_data\" to \"/content/openpose/build/caffe/lib:/usr/lib/x86_64-linux-gnu/hdf5/serial:/usr/local/cuda/lib64\"\n",
            "-- Installing: /content/openpose/build/caffe/bin/convert_mnist_siamese_data\n",
            "-- Set runtime path of \"/content/openpose/build/caffe/bin/convert_mnist_siamese_data\" to \"/content/openpose/build/caffe/lib:/usr/lib/x86_64-linux-gnu/hdf5/serial:/usr/local/cuda/lib64\"\n",
            "[100%] \u001b[34m\u001b[1mCompleted 'openpose_lib'\u001b[0m\n",
            "\u001b[34m\u001b[1mRerunning cmake after building Caffe submodule\u001b[0m\n",
            "-- GCC detected, adding compile flags\n",
            "-- GCC detected, adding compile flags\n",
            "-- Building with CUDA.\n",
            "-- CUDA detected: 11.1\n",
            "-- Found cuDNN: ver. 7.6.5 found (include: /usr/include, library: /usr/lib/x86_64-linux-gnu/libcudnn.so)\n",
            "-- Added CUDA NVCC flags for: sm_37\n",
            "-- Found cuDNN: ver. 7.6.5 found (include: /usr/include, library: /usr/lib/x86_64-linux-gnu/libcudnn.so)\n",
            "-- Found gflags  (include: /usr/include, library: /usr/lib/x86_64-linux-gnu/libgflags.so)\n",
            "-- Found glog    (include: /usr/include, library: /usr/lib/x86_64-linux-gnu/libglog.so)\n",
            "-- Caffe will be downloaded from source now. NOTE: This process might take several minutes depending\n",
            "        on your internet connection.\n",
            "-- Caffe has already been downloaded.\n",
            "HEAD is now at 1807aada Added Ampere arch's (CUDA11)\n",
            "-- Caffe will be built from source now.\n",
            "-- Adding Example calibration.bin\n",
            "-- Adding Example tutorial_add_module_custom_post_processing.bin\n",
            "-- Adding Example tutorial_api_thread_1_user_processing_function.bin\n",
            "-- Adding Example tutorial_api_thread_2_user_input_processing_output_and_datum.bin\n",
            "-- Adding Example openpose.bin\n",
            "-- Adding Example 01_body_from_image_default.bin\n",
            "-- Adding Example 02_whole_body_from_image_default.bin\n",
            "-- Adding Example 03_keypoints_from_image.bin\n",
            "-- Adding Example 04_keypoints_from_images.bin\n",
            "-- Adding Example 05_keypoints_from_images_multi_gpu.bin\n",
            "-- Adding Example 06_face_from_image.bin\n",
            "-- Adding Example 07_hand_from_image.bin\n",
            "-- Adding Example 08_heatmaps_from_image.bin\n",
            "-- Adding Example 09_keypoints_from_heatmaps.bin\n",
            "-- Adding Example 10_asynchronous_custom_input.bin\n",
            "-- Adding Example 11_asynchronous_custom_input_multi_camera.bin\n",
            "-- Adding Example 12_asynchronous_custom_output.bin\n",
            "-- Adding Example 13_asynchronous_custom_input_output_and_datum.bin\n",
            "-- Adding Example 14_synchronous_custom_input.bin\n",
            "-- Adding Example 15_synchronous_custom_preprocessing.bin\n",
            "-- Adding Example 16_synchronous_custom_postprocessing.bin\n",
            "-- Adding Example 17_synchronous_custom_output.bin\n",
            "-- Adding Example 18_synchronous_custom_all_and_datum.bin\n",
            "-- Adding Example handFromJsonTest.bin\n",
            "-- Adding Example resizeTest.bin\n",
            "-- Download the models.\n",
            "-- Downloading BODY_25 model...\n",
            "-- Model already exists.\n",
            "-- Not downloading body (COCO) model\n",
            "-- Not downloading body (MPI) model\n",
            "-- Downloading face model...\n",
            "-- Model already exists.\n",
            "-- Downloading hand model...\n",
            "-- Model already exists.\n",
            "-- Models Downloaded.\n",
            "-- Configuring done\n",
            "-- Generating done\n",
            "-- Build files have been written to: /content/openpose/build\n",
            "[  0%] \u001b[34m\u001b[1mBuilding NVCC (Device) object src/openpose/CMakeFiles/openpose.dir/tracking/openpose_generated_pyramidalLK.cu.o\u001b[0m\n",
            "[  2%] Built target openpose_lib\n",
            "[  2%] \u001b[34m\u001b[1mBuilding NVCC (Device) object src/openpose/CMakeFiles/openpose.dir/face/openpose_generated_renderFace.cu.o\u001b[0m\n",
            "nvcc warning : The 'compute_35', 'compute_37', 'compute_50', 'sm_35', 'sm_37' and 'sm_50' architectures are deprecated, and may be removed in a future release (Use -Wno-deprecated-gpu-targets to suppress warning).\n",
            "nvcc warning : The 'compute_35', 'compute_37', 'compute_50', 'sm_35', 'sm_37' and 'sm_50' architectures are deprecated, and may be removed in a future release (Use -Wno-deprecated-gpu-targets to suppress warning).\n",
            "nvcc warning : The 'compute_35', 'compute_37', 'compute_50', 'sm_35', 'sm_37' and 'sm_50' architectures are deprecated, and may be removed in a future release (Use -Wno-deprecated-gpu-targets to suppress warning).\n",
            "nvcc warning : The 'compute_35', 'compute_37', 'compute_50', 'sm_35', 'sm_37' and 'sm_50' architectures are deprecated, and may be removed in a future release (Use -Wno-deprecated-gpu-targets to suppress warning).\n",
            "[  2%] \u001b[34m\u001b[1mBuilding NVCC (Device) object src/openpose/CMakeFiles/openpose.dir/gpu/openpose_generated_cuda.cu.o\u001b[0m\n",
            "nvcc warning : The 'compute_35', 'compute_37', 'compute_50', 'sm_35', 'sm_37' and 'sm_50' architectures are deprecated, and may be removed in a future release (Use -Wno-deprecated-gpu-targets to suppress warning).\n",
            "nvcc warning : The 'compute_35', 'compute_37', 'compute_50', 'sm_35', 'sm_37' and 'sm_50' architectures are deprecated, and may be removed in a future release (Use -Wno-deprecated-gpu-targets to suppress warning).\n",
            "[  3%] \u001b[34m\u001b[1mBuilding NVCC (Device) object src/openpose/CMakeFiles/openpose.dir/hand/openpose_generated_renderHand.cu.o\u001b[0m\n",
            "nvcc warning : The 'compute_35', 'compute_37', 'compute_50', 'sm_35', 'sm_37' and 'sm_50' architectures are deprecated, and may be removed in a future release (Use -Wno-deprecated-gpu-targets to suppress warning).\n",
            "nvcc warning : The 'compute_35', 'compute_37', 'compute_50', 'sm_35', 'sm_37' and 'sm_50' architectures are deprecated, and may be removed in a future release (Use -Wno-deprecated-gpu-targets to suppress warning).\n",
            "[  3%] \u001b[34m\u001b[1mBuilding NVCC (Device) object src/openpose/CMakeFiles/openpose.dir/net/openpose_generated_bodyPartConnectorBase.cu.o\u001b[0m\n",
            "nvcc warning : The 'compute_35', 'compute_37', 'compute_50', 'sm_35', 'sm_37' and 'sm_50' architectures are deprecated, and may be removed in a future release (Use -Wno-deprecated-gpu-targets to suppress warning).\n",
            "nvcc warning : The 'compute_35', 'compute_37', 'compute_50', 'sm_35', 'sm_37' and 'sm_50' architectures are deprecated, and may be removed in a future release (Use -Wno-deprecated-gpu-targets to suppress warning).\n",
            "[  3%] \u001b[34m\u001b[1mBuilding NVCC (Device) object src/openpose/CMakeFiles/openpose.dir/net/openpose_generated_maximumBase.cu.o\u001b[0m\n",
            "nvcc warning : The 'compute_35', 'compute_37', 'compute_50', 'sm_35', 'sm_37' and 'sm_50' architectures are deprecated, and may be removed in a future release (Use -Wno-deprecated-gpu-targets to suppress warning).\n",
            "nvcc warning : The 'compute_35', 'compute_37', 'compute_50', 'sm_35', 'sm_37' and 'sm_50' architectures are deprecated, and may be removed in a future release (Use -Wno-deprecated-gpu-targets to suppress warning).\n",
            "[  3%] \u001b[34m\u001b[1mBuilding NVCC (Device) object src/openpose/CMakeFiles/openpose.dir/net/openpose_generated_nmsBase.cu.o\u001b[0m\n",
            "nvcc warning : The 'compute_35', 'compute_37', 'compute_50', 'sm_35', 'sm_37' and 'sm_50' architectures are deprecated, and may be removed in a future release (Use -Wno-deprecated-gpu-targets to suppress warning).\n",
            "nvcc warning : The 'compute_35', 'compute_37', 'compute_50', 'sm_35', 'sm_37' and 'sm_50' architectures are deprecated, and may be removed in a future release (Use -Wno-deprecated-gpu-targets to suppress warning).\n",
            "[  4%] \u001b[34m\u001b[1mBuilding NVCC (Device) object src/openpose/CMakeFiles/openpose.dir/net/openpose_generated_resizeAndMergeBase.cu.o\u001b[0m\n",
            "nvcc warning : The 'compute_35', 'compute_37', 'compute_50', 'sm_35', 'sm_37' and 'sm_50' architectures are deprecated, and may be removed in a future release (Use -Wno-deprecated-gpu-targets to suppress warning).\n",
            "nvcc warning : The 'compute_35', 'compute_37', 'compute_50', 'sm_35', 'sm_37' and 'sm_50' architectures are deprecated, and may be removed in a future release (Use -Wno-deprecated-gpu-targets to suppress warning).\n",
            "[  4%] \u001b[34m\u001b[1mBuilding NVCC (Device) object src/openpose/CMakeFiles/openpose.dir/pose/openpose_generated_renderPose.cu.o\u001b[0m\n",
            "nvcc warning : The 'compute_35', 'compute_37', 'compute_50', 'sm_35', 'sm_37' and 'sm_50' architectures are deprecated, and may be removed in a future release (Use -Wno-deprecated-gpu-targets to suppress warning).\n",
            "nvcc warning : The 'compute_35', 'compute_37', 'compute_50', 'sm_35', 'sm_37' and 'sm_50' architectures are deprecated, and may be removed in a future release (Use -Wno-deprecated-gpu-targets to suppress warning).\n",
            "\u001b[35m\u001b[1mScanning dependencies of target openpose\u001b[0m\n",
            "[  5%] \u001b[32mBuilding CXX object src/openpose/CMakeFiles/openpose.dir/3d/cameraParameterReader.cpp.o\u001b[0m\n",
            "[  5%] \u001b[32mBuilding CXX object src/openpose/CMakeFiles/openpose.dir/3d/defineTemplates.cpp.o\u001b[0m\n",
            "[  5%] \u001b[32mBuilding CXX object src/openpose/CMakeFiles/openpose.dir/3d/jointAngleEstimation.cpp.o\u001b[0m\n",
            "[  6%] \u001b[32mBuilding CXX object src/openpose/CMakeFiles/openpose.dir/3d/poseTriangulation.cpp.o\u001b[0m\n",
            "[  6%] \u001b[32mBuilding CXX object src/openpose/CMakeFiles/openpose.dir/3d/poseTriangulationPrivate.cpp.o\u001b[0m\n",
            "[  6%] \u001b[32mBuilding CXX object src/openpose/CMakeFiles/openpose.dir/calibration/cameraParameterEstimation.cpp.o\u001b[0m\n",
            "[  6%] \u001b[32mBuilding CXX object src/openpose/CMakeFiles/openpose.dir/calibration/gridPatternFunctions.cpp.o\u001b[0m\n",
            "[  7%] \u001b[32mBuilding CXX object src/openpose/CMakeFiles/openpose.dir/core/array.cpp.o\u001b[0m\n",
            "[  7%] \u001b[32mBuilding CXX object src/openpose/CMakeFiles/openpose.dir/core/arrayCpuGpu.cpp.o\u001b[0m\n",
            "[  7%] \u001b[32mBuilding CXX object src/openpose/CMakeFiles/openpose.dir/core/cvMatToOpInput.cpp.o\u001b[0m\n",
            "[  8%] \u001b[32mBuilding CXX object src/openpose/CMakeFiles/openpose.dir/core/cvMatToOpOutput.cpp.o\u001b[0m\n",
            "[  8%] \u001b[32mBuilding CXX object src/openpose/CMakeFiles/openpose.dir/core/datum.cpp.o\u001b[0m\n",
            "[  8%] \u001b[32mBuilding CXX object src/openpose/CMakeFiles/openpose.dir/core/defineTemplates.cpp.o\u001b[0m\n",
            "[  9%] \u001b[32mBuilding CXX object src/openpose/CMakeFiles/openpose.dir/core/gpuRenderer.cpp.o\u001b[0m\n",
            "[  9%] \u001b[32mBuilding CXX object src/openpose/CMakeFiles/openpose.dir/core/keepTopNPeople.cpp.o\u001b[0m\n",
            "[  9%] \u001b[32mBuilding CXX object src/openpose/CMakeFiles/openpose.dir/core/keypointScaler.cpp.o\u001b[0m\n",
            "[ 10%] \u001b[32mBuilding CXX object src/openpose/CMakeFiles/openpose.dir/core/matrix.cpp.o\u001b[0m\n",
            "[ 10%] \u001b[32mBuilding CXX object src/openpose/CMakeFiles/openpose.dir/core/opOutputToCvMat.cpp.o\u001b[0m\n",
            "[ 10%] \u001b[32mBuilding CXX object src/openpose/CMakeFiles/openpose.dir/core/point.cpp.o\u001b[0m\n",
            "[ 10%] \u001b[32mBuilding CXX object src/openpose/CMakeFiles/openpose.dir/core/rectangle.cpp.o\u001b[0m\n",
            "[ 11%] \u001b[32mBuilding CXX object src/openpose/CMakeFiles/openpose.dir/core/renderer.cpp.o\u001b[0m\n",
            "[ 11%] \u001b[32mBuilding CXX object src/openpose/CMakeFiles/openpose.dir/core/scaleAndSizeExtractor.cpp.o\u001b[0m\n",
            "[ 11%] \u001b[32mBuilding CXX object src/openpose/CMakeFiles/openpose.dir/core/string.cpp.o\u001b[0m\n",
            "[ 12%] \u001b[32mBuilding CXX object src/openpose/CMakeFiles/openpose.dir/core/verbosePrinter.cpp.o\u001b[0m\n",
            "[ 12%] \u001b[32mBuilding CXX object src/openpose/CMakeFiles/openpose.dir/face/defineTemplates.cpp.o\u001b[0m\n",
            "[ 12%] \u001b[32mBuilding CXX object src/openpose/CMakeFiles/openpose.dir/face/faceDetector.cpp.o\u001b[0m\n",
            "[ 13%] \u001b[32mBuilding CXX object src/openpose/CMakeFiles/openpose.dir/face/faceDetectorOpenCV.cpp.o\u001b[0m\n",
            "[ 13%] \u001b[32mBuilding CXX object src/openpose/CMakeFiles/openpose.dir/face/faceExtractorCaffe.cpp.o\u001b[0m\n",
            "[ 13%] \u001b[32mBuilding CXX object src/openpose/CMakeFiles/openpose.dir/face/faceExtractorNet.cpp.o\u001b[0m\n",
            "[ 13%] \u001b[32mBuilding CXX object src/openpose/CMakeFiles/openpose.dir/face/faceCpuRenderer.cpp.o\u001b[0m\n",
            "[ 14%] \u001b[32mBuilding CXX object src/openpose/CMakeFiles/openpose.dir/face/faceGpuRenderer.cpp.o\u001b[0m\n",
            "[ 14%] \u001b[32mBuilding CXX object src/openpose/CMakeFiles/openpose.dir/face/faceRenderer.cpp.o\u001b[0m\n",
            "[ 14%] \u001b[32mBuilding CXX object src/openpose/CMakeFiles/openpose.dir/face/renderFace.cpp.o\u001b[0m\n",
            "[ 15%] \u001b[32mBuilding CXX object src/openpose/CMakeFiles/openpose.dir/filestream/bvhSaver.cpp.o\u001b[0m\n",
            "[ 15%] \u001b[32mBuilding CXX object src/openpose/CMakeFiles/openpose.dir/filestream/cocoJsonSaver.cpp.o\u001b[0m\n",
            "[ 15%] \u001b[32mBuilding CXX object src/openpose/CMakeFiles/openpose.dir/filestream/defineTemplates.cpp.o\u001b[0m\n",
            "[ 16%] \u001b[32mBuilding CXX object src/openpose/CMakeFiles/openpose.dir/filestream/fileSaver.cpp.o\u001b[0m\n",
            "[ 16%] \u001b[32mBuilding CXX object src/openpose/CMakeFiles/openpose.dir/filestream/fileStream.cpp.o\u001b[0m\n",
            "[ 16%] \u001b[32mBuilding CXX object src/openpose/CMakeFiles/openpose.dir/filestream/heatMapSaver.cpp.o\u001b[0m\n",
            "[ 16%] \u001b[32mBuilding CXX object src/openpose/CMakeFiles/openpose.dir/filestream/imageSaver.cpp.o\u001b[0m\n",
            "[ 17%] \u001b[32mBuilding CXX object src/openpose/CMakeFiles/openpose.dir/filestream/jsonOfstream.cpp.o\u001b[0m\n",
            "[ 17%] \u001b[32mBuilding CXX object src/openpose/CMakeFiles/openpose.dir/filestream/keypointSaver.cpp.o\u001b[0m\n",
            "[ 17%] \u001b[32mBuilding CXX object src/openpose/CMakeFiles/openpose.dir/filestream/peopleJsonSaver.cpp.o\u001b[0m\n",
            "[ 18%] \u001b[32mBuilding CXX object src/openpose/CMakeFiles/openpose.dir/filestream/udpSender.cpp.o\u001b[0m\n",
            "[ 18%] \u001b[32mBuilding CXX object src/openpose/CMakeFiles/openpose.dir/filestream/videoSaver.cpp.o\u001b[0m\n",
            "[ 18%] \u001b[32mBuilding CXX object src/openpose/CMakeFiles/openpose.dir/gpu/cuda.cpp.o\u001b[0m\n",
            "[ 19%] \u001b[32mBuilding CXX object src/openpose/CMakeFiles/openpose.dir/gpu/gpu.cpp.o\u001b[0m\n",
            "[ 19%] \u001b[32mBuilding CXX object src/openpose/CMakeFiles/openpose.dir/gpu/opencl.cpp.o\u001b[0m\n",
            "[ 19%] \u001b[32mBuilding CXX object src/openpose/CMakeFiles/openpose.dir/gui/defineTemplates.cpp.o\u001b[0m\n",
            "[ 20%] \u001b[32mBuilding CXX object src/openpose/CMakeFiles/openpose.dir/gui/frameDisplayer.cpp.o\u001b[0m\n",
            "[ 20%] \u001b[32mBuilding CXX object src/openpose/CMakeFiles/openpose.dir/gui/gui.cpp.o\u001b[0m\n",
            "[ 20%] \u001b[32mBuilding CXX object src/openpose/CMakeFiles/openpose.dir/gui/guiAdam.cpp.o\u001b[0m\n",
            "[ 20%] \u001b[32mBuilding CXX object src/openpose/CMakeFiles/openpose.dir/gui/gui3D.cpp.o\u001b[0m\n",
            "[ 21%] \u001b[32mBuilding CXX object src/openpose/CMakeFiles/openpose.dir/gui/guiInfoAdder.cpp.o\u001b[0m\n",
            "[ 21%] \u001b[32mBuilding CXX object src/openpose/CMakeFiles/openpose.dir/hand/defineTemplates.cpp.o\u001b[0m\n",
            "[ 21%] \u001b[32mBuilding CXX object src/openpose/CMakeFiles/openpose.dir/hand/handDetector.cpp.o\u001b[0m\n",
            "[ 22%] \u001b[32mBuilding CXX object src/openpose/CMakeFiles/openpose.dir/hand/handDetectorFromTxt.cpp.o\u001b[0m\n",
            "[ 22%] \u001b[32mBuilding CXX object src/openpose/CMakeFiles/openpose.dir/hand/handExtractorCaffe.cpp.o\u001b[0m\n",
            "[ 22%] \u001b[32mBuilding CXX object src/openpose/CMakeFiles/openpose.dir/hand/handExtractorNet.cpp.o\u001b[0m\n",
            "[ 23%] \u001b[32mBuilding CXX object src/openpose/CMakeFiles/openpose.dir/hand/handCpuRenderer.cpp.o\u001b[0m\n",
            "[ 23%] \u001b[32mBuilding CXX object src/openpose/CMakeFiles/openpose.dir/hand/handGpuRenderer.cpp.o\u001b[0m\n",
            "[ 23%] \u001b[32mBuilding CXX object src/openpose/CMakeFiles/openpose.dir/hand/handRenderer.cpp.o\u001b[0m\n",
            "[ 23%] \u001b[32mBuilding CXX object src/openpose/CMakeFiles/openpose.dir/hand/renderHand.cpp.o\u001b[0m\n",
            "[ 24%] \u001b[32mBuilding CXX object src/openpose/CMakeFiles/openpose.dir/net/bodyPartConnectorBase.cpp.o\u001b[0m\n",
            "[ 24%] \u001b[32mBuilding CXX object src/openpose/CMakeFiles/openpose.dir/net/bodyPartConnectorBaseCL.cpp.o\u001b[0m\n",
            "[ 24%] \u001b[32mBuilding CXX object src/openpose/CMakeFiles/openpose.dir/net/bodyPartConnectorCaffe.cpp.o\u001b[0m\n",
            "[ 25%] \u001b[32mBuilding CXX object src/openpose/CMakeFiles/openpose.dir/net/maximumBase.cpp.o\u001b[0m\n",
            "[ 25%] \u001b[32mBuilding CXX object src/openpose/CMakeFiles/openpose.dir/net/maximumCaffe.cpp.o\u001b[0m\n",
            "[ 25%] \u001b[32mBuilding CXX object src/openpose/CMakeFiles/openpose.dir/net/netCaffe.cpp.o\u001b[0m\n",
            "[ 26%] \u001b[32mBuilding CXX object src/openpose/CMakeFiles/openpose.dir/net/netOpenCv.cpp.o\u001b[0m\n",
            "[ 26%] \u001b[32mBuilding CXX object src/openpose/CMakeFiles/openpose.dir/net/nmsBase.cpp.o\u001b[0m\n",
            "[ 26%] \u001b[32mBuilding CXX object src/openpose/CMakeFiles/openpose.dir/net/nmsBaseCL.cpp.o\u001b[0m\n",
            "[ 26%] \u001b[32mBuilding CXX object src/openpose/CMakeFiles/openpose.dir/net/nmsCaffe.cpp.o\u001b[0m\n",
            "[ 27%] \u001b[32mBuilding CXX object src/openpose/CMakeFiles/openpose.dir/net/resizeAndMergeBase.cpp.o\u001b[0m\n",
            "[ 27%] \u001b[32mBuilding CXX object src/openpose/CMakeFiles/openpose.dir/net/resizeAndMergeBaseCL.cpp.o\u001b[0m\n",
            "[ 27%] \u001b[32mBuilding CXX object src/openpose/CMakeFiles/openpose.dir/net/resizeAndMergeCaffe.cpp.o\u001b[0m\n",
            "[ 28%] \u001b[32mBuilding CXX object src/openpose/CMakeFiles/openpose.dir/pose/defineTemplates.cpp.o\u001b[0m\n",
            "[ 28%] \u001b[32mBuilding CXX object src/openpose/CMakeFiles/openpose.dir/pose/poseCpuRenderer.cpp.o\u001b[0m\n",
            "[ 28%] \u001b[32mBuilding CXX object src/openpose/CMakeFiles/openpose.dir/pose/poseExtractor.cpp.o\u001b[0m\n",
            "[ 29%] \u001b[32mBuilding CXX object src/openpose/CMakeFiles/openpose.dir/pose/poseExtractorCaffe.cpp.o\u001b[0m\n",
            "[ 29%] \u001b[32mBuilding CXX object src/openpose/CMakeFiles/openpose.dir/pose/poseExtractorNet.cpp.o\u001b[0m\n",
            "[ 29%] \u001b[32mBuilding CXX object src/openpose/CMakeFiles/openpose.dir/pose/poseGpuRenderer.cpp.o\u001b[0m\n",
            "[ 30%] \u001b[32mBuilding CXX object src/openpose/CMakeFiles/openpose.dir/pose/poseParameters.cpp.o\u001b[0m\n",
            "[ 30%] \u001b[32mBuilding CXX object src/openpose/CMakeFiles/openpose.dir/pose/poseParametersRender.cpp.o\u001b[0m\n",
            "[ 30%] \u001b[32mBuilding CXX object src/openpose/CMakeFiles/openpose.dir/pose/poseRenderer.cpp.o\u001b[0m\n",
            "[ 30%] \u001b[32mBuilding CXX object src/openpose/CMakeFiles/openpose.dir/pose/renderPose.cpp.o\u001b[0m\n",
            "[ 31%] \u001b[32mBuilding CXX object src/openpose/CMakeFiles/openpose.dir/producer/datumProducer.cpp.o\u001b[0m\n",
            "[ 31%] \u001b[32mBuilding CXX object src/openpose/CMakeFiles/openpose.dir/producer/defineTemplates.cpp.o\u001b[0m\n",
            "[ 31%] \u001b[32mBuilding CXX object src/openpose/CMakeFiles/openpose.dir/producer/flirReader.cpp.o\u001b[0m\n",
            "[ 32%] \u001b[32mBuilding CXX object src/openpose/CMakeFiles/openpose.dir/producer/imageDirectoryReader.cpp.o\u001b[0m\n",
            "[ 32%] \u001b[32mBuilding CXX object src/openpose/CMakeFiles/openpose.dir/producer/ipCameraReader.cpp.o\u001b[0m\n",
            "[ 32%] \u001b[32mBuilding CXX object src/openpose/CMakeFiles/openpose.dir/producer/producer.cpp.o\u001b[0m\n",
            "[ 33%] \u001b[32mBuilding CXX object src/openpose/CMakeFiles/openpose.dir/producer/spinnakerWrapper.cpp.o\u001b[0m\n",
            "[ 33%] \u001b[32mBuilding CXX object src/openpose/CMakeFiles/openpose.dir/producer/videoCaptureReader.cpp.o\u001b[0m\n",
            "[ 33%] \u001b[32mBuilding CXX object src/openpose/CMakeFiles/openpose.dir/producer/videoReader.cpp.o\u001b[0m\n",
            "[ 33%] \u001b[32mBuilding CXX object src/openpose/CMakeFiles/openpose.dir/producer/webcamReader.cpp.o\u001b[0m\n",
            "[ 34%] \u001b[32mBuilding CXX object src/openpose/CMakeFiles/openpose.dir/thread/defineTemplates.cpp.o\u001b[0m\n",
            "[ 34%] \u001b[32mBuilding CXX object src/openpose/CMakeFiles/openpose.dir/tracking/defineTemplates.cpp.o\u001b[0m\n",
            "[ 34%] \u001b[32mBuilding CXX object src/openpose/CMakeFiles/openpose.dir/tracking/personIdExtractor.cpp.o\u001b[0m\n",
            "[ 35%] \u001b[32mBuilding CXX object src/openpose/CMakeFiles/openpose.dir/tracking/personTracker.cpp.o\u001b[0m\n",
            "[ 35%] \u001b[32mBuilding CXX object src/openpose/CMakeFiles/openpose.dir/tracking/pyramidalLK.cpp.o\u001b[0m\n",
            "[ 35%] \u001b[32mBuilding CXX object src/openpose/CMakeFiles/openpose.dir/unity/unityBinding.cpp.o\u001b[0m\n",
            "[ 36%] \u001b[32mBuilding CXX object src/openpose/CMakeFiles/openpose.dir/utilities/errorAndLog.cpp.o\u001b[0m\n",
            "[ 36%] \u001b[32mBuilding CXX object src/openpose/CMakeFiles/openpose.dir/utilities/fileSystem.cpp.o\u001b[0m\n",
            "[ 36%] \u001b[32mBuilding CXX object src/openpose/CMakeFiles/openpose.dir/utilities/flagsToOpenPose.cpp.o\u001b[0m\n",
            "[ 36%] \u001b[32mBuilding CXX object src/openpose/CMakeFiles/openpose.dir/utilities/keypoint.cpp.o\u001b[0m\n",
            "[ 37%] \u001b[32mBuilding CXX object src/openpose/CMakeFiles/openpose.dir/utilities/openCv.cpp.o\u001b[0m\n",
            "[ 37%] \u001b[32mBuilding CXX object src/openpose/CMakeFiles/openpose.dir/utilities/openCvPrivate.cpp.o\u001b[0m\n",
            "[ 37%] \u001b[32mBuilding CXX object src/openpose/CMakeFiles/openpose.dir/utilities/profiler.cpp.o\u001b[0m\n",
            "[ 38%] \u001b[32mBuilding CXX object src/openpose/CMakeFiles/openpose.dir/utilities/string.cpp.o\u001b[0m\n",
            "[ 38%] \u001b[32mBuilding CXX object src/openpose/CMakeFiles/openpose.dir/wrapper/defineTemplates.cpp.o\u001b[0m\n",
            "[ 38%] \u001b[32mBuilding CXX object src/openpose/CMakeFiles/openpose.dir/wrapper/wrapperAuxiliary.cpp.o\u001b[0m\n",
            "[ 39%] \u001b[32mBuilding CXX object src/openpose/CMakeFiles/openpose.dir/wrapper/wrapperStructExtra.cpp.o\u001b[0m\n",
            "[ 39%] \u001b[32mBuilding CXX object src/openpose/CMakeFiles/openpose.dir/wrapper/wrapperStructFace.cpp.o\u001b[0m\n",
            "[ 39%] \u001b[32mBuilding CXX object src/openpose/CMakeFiles/openpose.dir/wrapper/wrapperStructGui.cpp.o\u001b[0m\n",
            "[ 40%] \u001b[32mBuilding CXX object src/openpose/CMakeFiles/openpose.dir/wrapper/wrapperStructHand.cpp.o\u001b[0m\n",
            "[ 40%] \u001b[32mBuilding CXX object src/openpose/CMakeFiles/openpose.dir/wrapper/wrapperStructInput.cpp.o\u001b[0m\n",
            "[ 40%] \u001b[32mBuilding CXX object src/openpose/CMakeFiles/openpose.dir/wrapper/wrapperStructOutput.cpp.o\u001b[0m\n",
            "[ 40%] \u001b[32mBuilding CXX object src/openpose/CMakeFiles/openpose.dir/wrapper/wrapperStructPose.cpp.o\u001b[0m\n",
            "[ 41%] \u001b[32m\u001b[1mLinking CXX shared library libopenpose.so\u001b[0m\n",
            "[ 41%] Built target openpose\n",
            "\u001b[35m\u001b[1mScanning dependencies of target calibration.bin\u001b[0m\n",
            "\u001b[35m\u001b[1mScanning dependencies of target openpose_core\u001b[0m\n",
            "[ 42%] \u001b[32mBuilding CXX object examples/calibration/CMakeFiles/calibration.bin.dir/calibration.cpp.o\u001b[0m\n",
            "[ 42%] \u001b[32mBuilding CXX object src/openpose/core/CMakeFiles/openpose_core.dir/array.cpp.o\u001b[0m\n",
            "[ 42%] \u001b[32m\u001b[1mLinking CXX executable calibration.bin\u001b[0m\n",
            "[ 42%] Built target calibration.bin\n",
            "[ 43%] \u001b[32mBuilding CXX object src/openpose/core/CMakeFiles/openpose_core.dir/arrayCpuGpu.cpp.o\u001b[0m\n",
            "[ 43%] \u001b[32mBuilding CXX object src/openpose/core/CMakeFiles/openpose_core.dir/cvMatToOpInput.cpp.o\u001b[0m\n",
            "[ 43%] \u001b[32mBuilding CXX object src/openpose/core/CMakeFiles/openpose_core.dir/cvMatToOpOutput.cpp.o\u001b[0m\n",
            "[ 44%] \u001b[32mBuilding CXX object src/openpose/core/CMakeFiles/openpose_core.dir/datum.cpp.o\u001b[0m\n",
            "[ 44%] \u001b[32mBuilding CXX object src/openpose/core/CMakeFiles/openpose_core.dir/defineTemplates.cpp.o\u001b[0m\n",
            "[ 44%] \u001b[32mBuilding CXX object src/openpose/core/CMakeFiles/openpose_core.dir/gpuRenderer.cpp.o\u001b[0m\n",
            "[ 44%] \u001b[32mBuilding CXX object src/openpose/core/CMakeFiles/openpose_core.dir/keepTopNPeople.cpp.o\u001b[0m\n",
            "[ 45%] \u001b[32mBuilding CXX object src/openpose/core/CMakeFiles/openpose_core.dir/keypointScaler.cpp.o\u001b[0m\n",
            "[ 45%] \u001b[32mBuilding CXX object src/openpose/core/CMakeFiles/openpose_core.dir/matrix.cpp.o\u001b[0m\n",
            "[ 45%] \u001b[32mBuilding CXX object src/openpose/core/CMakeFiles/openpose_core.dir/opOutputToCvMat.cpp.o\u001b[0m\n",
            "\u001b[35m\u001b[1mScanning dependencies of target tutorial_api_thread_1_user_processing_function.bin\u001b[0m\n",
            "[ 46%] \u001b[32mBuilding CXX object examples/deprecated/CMakeFiles/tutorial_api_thread_1_user_processing_function.bin.dir/tutorial_api_thread_1_user_processing_function.cpp.o\u001b[0m\n",
            "[ 47%] \u001b[32mBuilding CXX object src/openpose/core/CMakeFiles/openpose_core.dir/point.cpp.o\u001b[0m\n",
            "[ 47%] \u001b[32mBuilding CXX object src/openpose/core/CMakeFiles/openpose_core.dir/rectangle.cpp.o\u001b[0m\n",
            "[ 47%] \u001b[32m\u001b[1mLinking CXX executable tutorial_api_thread_1_user_processing_function.bin\u001b[0m\n",
            "[ 47%] Built target tutorial_api_thread_1_user_processing_function.bin\n",
            "\u001b[35m\u001b[1mScanning dependencies of target tutorial_add_module_custom_post_processing.bin\u001b[0m\n",
            "[ 47%] \u001b[32mBuilding CXX object examples/deprecated/CMakeFiles/tutorial_add_module_custom_post_processing.bin.dir/tutorial_add_module_custom_post_processing.cpp.o\u001b[0m\n",
            "[ 47%] \u001b[32mBuilding CXX object src/openpose/core/CMakeFiles/openpose_core.dir/renderer.cpp.o\u001b[0m\n",
            "[ 48%] \u001b[32mBuilding CXX object src/openpose/core/CMakeFiles/openpose_core.dir/scaleAndSizeExtractor.cpp.o\u001b[0m\n",
            "[ 48%] \u001b[32mBuilding CXX object src/openpose/core/CMakeFiles/openpose_core.dir/string.cpp.o\u001b[0m\n",
            "[ 48%] \u001b[32mBuilding CXX object src/openpose/core/CMakeFiles/openpose_core.dir/verbosePrinter.cpp.o\u001b[0m\n",
            "[ 49%] \u001b[32m\u001b[1mLinking CXX shared library libopenpose_core.so\u001b[0m\n",
            "[ 49%] Built target openpose_core\n",
            "\u001b[35m\u001b[1mScanning dependencies of target tutorial_api_thread_2_user_input_processing_output_and_datum.bin\u001b[0m\n",
            "[ 49%] \u001b[32mBuilding CXX object examples/deprecated/CMakeFiles/tutorial_api_thread_2_user_input_processing_output_and_datum.bin.dir/tutorial_api_thread_2_user_input_processing_output_and_datum.cpp.o\u001b[0m\n",
            "[ 50%] \u001b[32m\u001b[1mLinking CXX executable tutorial_api_thread_2_user_input_processing_output_and_datum.bin\u001b[0m\n",
            "[ 50%] Built target tutorial_api_thread_2_user_input_processing_output_and_datum.bin\n",
            "\u001b[35m\u001b[1mScanning dependencies of target openpose.bin\u001b[0m\n",
            "[ 50%] \u001b[32mBuilding CXX object examples/openpose/CMakeFiles/openpose.bin.dir/openpose.cpp.o\u001b[0m\n",
            "[ 50%] \u001b[32m\u001b[1mLinking CXX executable openpose.bin\u001b[0m\n",
            "[ 50%] Built target openpose.bin\n",
            "\u001b[35m\u001b[1mScanning dependencies of target 18_synchronous_custom_all_and_datum.bin\u001b[0m\n",
            "[ 50%] \u001b[32mBuilding CXX object examples/tutorial_api_cpp/CMakeFiles/18_synchronous_custom_all_and_datum.bin.dir/18_synchronous_custom_all_and_datum.cpp.o\u001b[0m\n",
            "[ 50%] \u001b[32m\u001b[1mLinking CXX executable tutorial_add_module_custom_post_processing.bin\u001b[0m\n",
            "[ 50%] Built target tutorial_add_module_custom_post_processing.bin\n",
            "\u001b[35m\u001b[1mScanning dependencies of target 17_synchronous_custom_output.bin\u001b[0m\n",
            "[ 51%] \u001b[32mBuilding CXX object examples/tutorial_api_cpp/CMakeFiles/17_synchronous_custom_output.bin.dir/17_synchronous_custom_output.cpp.o\u001b[0m\n",
            "[ 51%] \u001b[32m\u001b[1mLinking CXX executable 17_synchronous_custom_output.bin\u001b[0m\n",
            "[ 51%] Built target 17_synchronous_custom_output.bin\n",
            "\u001b[35m\u001b[1mScanning dependencies of target 05_keypoints_from_images_multi_gpu.bin\u001b[0m\n",
            "[ 51%] \u001b[32mBuilding CXX object examples/tutorial_api_cpp/CMakeFiles/05_keypoints_from_images_multi_gpu.bin.dir/05_keypoints_from_images_multi_gpu.cpp.o\u001b[0m\n",
            "[ 52%] \u001b[32m\u001b[1mLinking CXX executable 05_keypoints_from_images_multi_gpu.bin\u001b[0m\n",
            "[ 52%] Built target 05_keypoints_from_images_multi_gpu.bin\n",
            "\u001b[35m\u001b[1mScanning dependencies of target 03_keypoints_from_image.bin\u001b[0m\n",
            "[ 52%] \u001b[32mBuilding CXX object examples/tutorial_api_cpp/CMakeFiles/03_keypoints_from_image.bin.dir/03_keypoints_from_image.cpp.o\u001b[0m\n",
            "[ 52%] \u001b[32m\u001b[1mLinking CXX executable 18_synchronous_custom_all_and_datum.bin\u001b[0m\n",
            "[ 52%] Built target 18_synchronous_custom_all_and_datum.bin\n",
            "\u001b[35m\u001b[1mScanning dependencies of target 06_face_from_image.bin\u001b[0m\n",
            "[ 52%] \u001b[32mBuilding CXX object examples/tutorial_api_cpp/CMakeFiles/06_face_from_image.bin.dir/06_face_from_image.cpp.o\u001b[0m\n",
            "[ 52%] \u001b[32m\u001b[1mLinking CXX executable 03_keypoints_from_image.bin\u001b[0m\n",
            "[ 52%] Built target 03_keypoints_from_image.bin\n",
            "\u001b[35m\u001b[1mScanning dependencies of target 07_hand_from_image.bin\u001b[0m\n",
            "[ 52%] \u001b[32mBuilding CXX object examples/tutorial_api_cpp/CMakeFiles/07_hand_from_image.bin.dir/07_hand_from_image.cpp.o\u001b[0m\n",
            "[ 52%] \u001b[32m\u001b[1mLinking CXX executable 06_face_from_image.bin\u001b[0m\n",
            "[ 52%] Built target 06_face_from_image.bin\n",
            "\u001b[35m\u001b[1mScanning dependencies of target 04_keypoints_from_images.bin\u001b[0m\n",
            "[ 53%] \u001b[32mBuilding CXX object examples/tutorial_api_cpp/CMakeFiles/04_keypoints_from_images.bin.dir/04_keypoints_from_images.cpp.o\u001b[0m\n",
            "[ 54%] \u001b[32m\u001b[1mLinking CXX executable 07_hand_from_image.bin\u001b[0m\n",
            "[ 54%] Built target 07_hand_from_image.bin\n",
            "\u001b[35m\u001b[1mScanning dependencies of target 01_body_from_image_default.bin\u001b[0m\n",
            "[ 54%] \u001b[32mBuilding CXX object examples/tutorial_api_cpp/CMakeFiles/01_body_from_image_default.bin.dir/01_body_from_image_default.cpp.o\u001b[0m\n",
            "[ 54%] \u001b[32m\u001b[1mLinking CXX executable 04_keypoints_from_images.bin\u001b[0m\n",
            "[ 54%] \u001b[32m\u001b[1mLinking CXX executable 01_body_from_image_default.bin\u001b[0m\n",
            "[ 54%] Built target 04_keypoints_from_images.bin\n",
            "\u001b[35m\u001b[1mScanning dependencies of target 09_keypoints_from_heatmaps.bin\u001b[0m\n",
            "[ 55%] \u001b[32mBuilding CXX object examples/tutorial_api_cpp/CMakeFiles/09_keypoints_from_heatmaps.bin.dir/09_keypoints_from_heatmaps.cpp.o\u001b[0m\n",
            "[ 55%] Built target 01_body_from_image_default.bin\n",
            "\u001b[35m\u001b[1mScanning dependencies of target 02_whole_body_from_image_default.bin\u001b[0m\n",
            "[ 55%] \u001b[32mBuilding CXX object examples/tutorial_api_cpp/CMakeFiles/02_whole_body_from_image_default.bin.dir/02_whole_body_from_image_default.cpp.o\u001b[0m\n",
            "[ 56%] \u001b[32m\u001b[1mLinking CXX executable 02_whole_body_from_image_default.bin\u001b[0m\n",
            "[ 56%] \u001b[32m\u001b[1mLinking CXX executable 09_keypoints_from_heatmaps.bin\u001b[0m\n",
            "[ 56%] Built target 02_whole_body_from_image_default.bin\n",
            "\u001b[35m\u001b[1mScanning dependencies of target 13_asynchronous_custom_input_output_and_datum.bin\u001b[0m\n",
            "[ 56%] \u001b[32mBuilding CXX object examples/tutorial_api_cpp/CMakeFiles/13_asynchronous_custom_input_output_and_datum.bin.dir/13_asynchronous_custom_input_output_and_datum.cpp.o\u001b[0m\n",
            "[ 56%] Built target 09_keypoints_from_heatmaps.bin\n",
            "\u001b[35m\u001b[1mScanning dependencies of target 08_heatmaps_from_image.bin\u001b[0m\n",
            "[ 56%] \u001b[32mBuilding CXX object examples/tutorial_api_cpp/CMakeFiles/08_heatmaps_from_image.bin.dir/08_heatmaps_from_image.cpp.o\u001b[0m\n",
            "[ 56%] \u001b[32m\u001b[1mLinking CXX executable 08_heatmaps_from_image.bin\u001b[0m\n",
            "[ 56%] Built target 08_heatmaps_from_image.bin\n",
            "\u001b[35m\u001b[1mScanning dependencies of target 16_synchronous_custom_postprocessing.bin\u001b[0m\n",
            "[ 56%] \u001b[32mBuilding CXX object examples/tutorial_api_cpp/CMakeFiles/16_synchronous_custom_postprocessing.bin.dir/16_synchronous_custom_postprocessing.cpp.o\u001b[0m\n",
            "[ 56%] \u001b[32m\u001b[1mLinking CXX executable 16_synchronous_custom_postprocessing.bin\u001b[0m\n",
            "[ 56%] Built target 16_synchronous_custom_postprocessing.bin\n",
            "\u001b[35m\u001b[1mScanning dependencies of target 11_asynchronous_custom_input_multi_camera.bin\u001b[0m\n",
            "[ 56%] \u001b[32mBuilding CXX object examples/tutorial_api_cpp/CMakeFiles/11_asynchronous_custom_input_multi_camera.bin.dir/11_asynchronous_custom_input_multi_camera.cpp.o\u001b[0m\n",
            "[ 56%] \u001b[32m\u001b[1mLinking CXX executable 11_asynchronous_custom_input_multi_camera.bin\u001b[0m\n",
            "[ 56%] Built target 11_asynchronous_custom_input_multi_camera.bin\n",
            "\u001b[35m\u001b[1mScanning dependencies of target 14_synchronous_custom_input.bin\u001b[0m\n",
            "[ 57%] \u001b[32mBuilding CXX object examples/tutorial_api_cpp/CMakeFiles/14_synchronous_custom_input.bin.dir/14_synchronous_custom_input.cpp.o\u001b[0m\n",
            "[ 57%] \u001b[32m\u001b[1mLinking CXX executable 13_asynchronous_custom_input_output_and_datum.bin\u001b[0m\n",
            "[ 57%] \u001b[32m\u001b[1mLinking CXX executable 14_synchronous_custom_input.bin\u001b[0m\n",
            "[ 57%] Built target 13_asynchronous_custom_input_output_and_datum.bin\n",
            "\u001b[35m\u001b[1mScanning dependencies of target 15_synchronous_custom_preprocessing.bin\u001b[0m\n",
            "[ 57%] \u001b[32mBuilding CXX object examples/tutorial_api_cpp/CMakeFiles/15_synchronous_custom_preprocessing.bin.dir/15_synchronous_custom_preprocessing.cpp.o\u001b[0m\n",
            "[ 57%] Built target 14_synchronous_custom_input.bin\n",
            "\u001b[35m\u001b[1mScanning dependencies of target 10_asynchronous_custom_input.bin\u001b[0m\n",
            "[ 57%] \u001b[32mBuilding CXX object examples/tutorial_api_cpp/CMakeFiles/10_asynchronous_custom_input.bin.dir/10_asynchronous_custom_input.cpp.o\u001b[0m\n",
            "[ 58%] \u001b[32m\u001b[1mLinking CXX executable 15_synchronous_custom_preprocessing.bin\u001b[0m\n",
            "[ 59%] \u001b[32m\u001b[1mLinking CXX executable 10_asynchronous_custom_input.bin\u001b[0m\n",
            "[ 59%] Built target 15_synchronous_custom_preprocessing.bin\n",
            "\u001b[35m\u001b[1mScanning dependencies of target 12_asynchronous_custom_output.bin\u001b[0m\n",
            "[ 59%] \u001b[32mBuilding CXX object examples/tutorial_api_cpp/CMakeFiles/12_asynchronous_custom_output.bin.dir/12_asynchronous_custom_output.cpp.o\u001b[0m\n",
            "[ 59%] Built target 10_asynchronous_custom_input.bin\n",
            "\u001b[35m\u001b[1mScanning dependencies of target resizeTest.bin\u001b[0m\n",
            "[ 59%] \u001b[32mBuilding CXX object examples/tests/CMakeFiles/resizeTest.bin.dir/resizeTest.cpp.o\u001b[0m\n",
            "[ 60%] \u001b[32m\u001b[1mLinking CXX executable resizeTest.bin\u001b[0m\n",
            "[ 61%] \u001b[32m\u001b[1mLinking CXX executable 12_asynchronous_custom_output.bin\u001b[0m\n",
            "[ 61%] Built target resizeTest.bin\n",
            "\u001b[35m\u001b[1mScanning dependencies of target handFromJsonTest.bin\u001b[0m\n",
            "[ 61%] \u001b[32mBuilding CXX object examples/tests/CMakeFiles/handFromJsonTest.bin.dir/handFromJsonTest.cpp.o\u001b[0m\n",
            "[ 61%] Built target 12_asynchronous_custom_output.bin\n",
            "\u001b[35m\u001b[1mScanning dependencies of target openpose_3d\u001b[0m\n",
            "[ 62%] \u001b[32mBuilding CXX object src/openpose/3d/CMakeFiles/openpose_3d.dir/cameraParameterReader.cpp.o\u001b[0m\n",
            "[ 62%] \u001b[32mBuilding CXX object src/openpose/3d/CMakeFiles/openpose_3d.dir/defineTemplates.cpp.o\u001b[0m\n",
            "[ 62%] \u001b[32mBuilding CXX object src/openpose/3d/CMakeFiles/openpose_3d.dir/jointAngleEstimation.cpp.o\u001b[0m\n",
            "[ 63%] \u001b[32mBuilding CXX object src/openpose/3d/CMakeFiles/openpose_3d.dir/poseTriangulation.cpp.o\u001b[0m\n",
            "[ 64%] \u001b[32m\u001b[1mLinking CXX executable handFromJsonTest.bin\u001b[0m\n",
            "[ 64%] Built target handFromJsonTest.bin\n",
            "\u001b[35m\u001b[1mScanning dependencies of target openpose_calibration\u001b[0m\n",
            "[ 64%] \u001b[32mBuilding CXX object src/openpose/calibration/CMakeFiles/openpose_calibration.dir/cameraParameterEstimation.cpp.o\u001b[0m\n",
            "[ 64%] \u001b[32mBuilding CXX object src/openpose/3d/CMakeFiles/openpose_3d.dir/poseTriangulationPrivate.cpp.o\u001b[0m\n",
            "[ 64%] \u001b[32m\u001b[1mLinking CXX shared library libopenpose_3d.so\u001b[0m\n",
            "[ 64%] Built target openpose_3d\n",
            "[ 64%] \u001b[34m\u001b[1mBuilding NVCC (Device) object src/openpose/face/CMakeFiles/openpose_face.dir/openpose_face_generated_renderFace.cu.o\u001b[0m\n",
            "nvcc warning : The 'compute_35', 'compute_37', 'compute_50', 'sm_35', 'sm_37' and 'sm_50' architectures are deprecated, and may be removed in a future release (Use -Wno-deprecated-gpu-targets to suppress warning).\n",
            "nvcc warning : The 'compute_35', 'compute_37', 'compute_50', 'sm_35', 'sm_37' and 'sm_50' architectures are deprecated, and may be removed in a future release (Use -Wno-deprecated-gpu-targets to suppress warning).\n",
            "[ 65%] \u001b[32mBuilding CXX object src/openpose/calibration/CMakeFiles/openpose_calibration.dir/gridPatternFunctions.cpp.o\u001b[0m\n",
            "\u001b[35m\u001b[1mScanning dependencies of target openpose_face\u001b[0m\n",
            "[ 65%] \u001b[32mBuilding CXX object src/openpose/face/CMakeFiles/openpose_face.dir/defineTemplates.cpp.o\u001b[0m\n",
            "[ 65%] \u001b[32mBuilding CXX object src/openpose/face/CMakeFiles/openpose_face.dir/faceDetector.cpp.o\u001b[0m\n",
            "[ 65%] \u001b[32m\u001b[1mLinking CXX shared library libopenpose_calibration.so\u001b[0m\n",
            "[ 65%] Built target openpose_calibration\n",
            "\u001b[35m\u001b[1mScanning dependencies of target openpose_filestream\u001b[0m\n",
            "[ 65%] \u001b[32mBuilding CXX object src/openpose/filestream/CMakeFiles/openpose_filestream.dir/bvhSaver.cpp.o\u001b[0m\n",
            "[ 65%] \u001b[32mBuilding CXX object src/openpose/filestream/CMakeFiles/openpose_filestream.dir/cocoJsonSaver.cpp.o\u001b[0m\n",
            "[ 66%] \u001b[32mBuilding CXX object src/openpose/face/CMakeFiles/openpose_face.dir/faceDetectorOpenCV.cpp.o\u001b[0m\n",
            "[ 67%] \u001b[32mBuilding CXX object src/openpose/filestream/CMakeFiles/openpose_filestream.dir/defineTemplates.cpp.o\u001b[0m\n",
            "[ 67%] \u001b[32mBuilding CXX object src/openpose/face/CMakeFiles/openpose_face.dir/faceExtractorCaffe.cpp.o\u001b[0m\n",
            "[ 67%] \u001b[32mBuilding CXX object src/openpose/filestream/CMakeFiles/openpose_filestream.dir/fileSaver.cpp.o\u001b[0m\n",
            "[ 67%] \u001b[32mBuilding CXX object src/openpose/filestream/CMakeFiles/openpose_filestream.dir/fileStream.cpp.o\u001b[0m\n",
            "[ 67%] \u001b[32mBuilding CXX object src/openpose/face/CMakeFiles/openpose_face.dir/faceExtractorNet.cpp.o\u001b[0m\n",
            "[ 68%] \u001b[32mBuilding CXX object src/openpose/filestream/CMakeFiles/openpose_filestream.dir/heatMapSaver.cpp.o\u001b[0m\n",
            "[ 68%] \u001b[32mBuilding CXX object src/openpose/filestream/CMakeFiles/openpose_filestream.dir/imageSaver.cpp.o\u001b[0m\n",
            "[ 69%] \u001b[32mBuilding CXX object src/openpose/face/CMakeFiles/openpose_face.dir/faceCpuRenderer.cpp.o\u001b[0m\n",
            "[ 69%] \u001b[32mBuilding CXX object src/openpose/face/CMakeFiles/openpose_face.dir/faceGpuRenderer.cpp.o\u001b[0m\n",
            "[ 69%] \u001b[32mBuilding CXX object src/openpose/filestream/CMakeFiles/openpose_filestream.dir/jsonOfstream.cpp.o\u001b[0m\n",
            "[ 69%] \u001b[32mBuilding CXX object src/openpose/face/CMakeFiles/openpose_face.dir/faceRenderer.cpp.o\u001b[0m\n",
            "[ 70%] \u001b[32mBuilding CXX object src/openpose/filestream/CMakeFiles/openpose_filestream.dir/keypointSaver.cpp.o\u001b[0m\n",
            "[ 71%] \u001b[32mBuilding CXX object src/openpose/face/CMakeFiles/openpose_face.dir/renderFace.cpp.o\u001b[0m\n",
            "[ 71%] \u001b[32mBuilding CXX object src/openpose/filestream/CMakeFiles/openpose_filestream.dir/peopleJsonSaver.cpp.o\u001b[0m\n",
            "[ 71%] \u001b[32m\u001b[1mLinking CXX shared library libopenpose_face.so\u001b[0m\n",
            "[ 71%] \u001b[32mBuilding CXX object src/openpose/filestream/CMakeFiles/openpose_filestream.dir/udpSender.cpp.o\u001b[0m\n",
            "[ 71%] Built target openpose_face\n",
            "[ 71%] \u001b[34m\u001b[1mBuilding NVCC (Device) object src/openpose/gpu/CMakeFiles/openpose_gpu.dir/openpose_gpu_generated_cuda.cu.o\u001b[0m\n",
            "nvcc warning : The 'compute_35', 'compute_37', 'compute_50', 'sm_35', 'sm_37' and 'sm_50' architectures are deprecated, and may be removed in a future release (Use -Wno-deprecated-gpu-targets to suppress warning).\n",
            "nvcc warning : The 'compute_35', 'compute_37', 'compute_50', 'sm_35', 'sm_37' and 'sm_50' architectures are deprecated, and may be removed in a future release (Use -Wno-deprecated-gpu-targets to suppress warning).\n",
            "[ 71%] \u001b[32mBuilding CXX object src/openpose/filestream/CMakeFiles/openpose_filestream.dir/videoSaver.cpp.o\u001b[0m\n",
            "[ 72%] \u001b[32m\u001b[1mLinking CXX shared library libopenpose_filestream.so\u001b[0m\n",
            "[ 72%] Built target openpose_filestream\n",
            "[ 72%] \u001b[34m\u001b[1mBuilding NVCC (Device) object src/openpose/pose/CMakeFiles/openpose_pose.dir/openpose_pose_generated_renderPose.cu.o\u001b[0m\n",
            "nvcc warning : The 'compute_35', 'compute_37', 'compute_50', 'sm_35', 'sm_37' and 'sm_50' architectures are deprecated, and may be removed in a future release (Use -Wno-deprecated-gpu-targets to suppress warning).\n",
            "\u001b[35m\u001b[1mScanning dependencies of target openpose_gpu\u001b[0m\n",
            "[ 72%] \u001b[32mBuilding CXX object src/openpose/gpu/CMakeFiles/openpose_gpu.dir/cuda.cpp.o\u001b[0m\n",
            "nvcc warning : The 'compute_35', 'compute_37', 'compute_50', 'sm_35', 'sm_37' and 'sm_50' architectures are deprecated, and may be removed in a future release (Use -Wno-deprecated-gpu-targets to suppress warning).\n",
            "[ 73%] \u001b[32mBuilding CXX object src/openpose/gpu/CMakeFiles/openpose_gpu.dir/gpu.cpp.o\u001b[0m\n",
            "[ 73%] \u001b[32mBuilding CXX object src/openpose/gpu/CMakeFiles/openpose_gpu.dir/opencl.cpp.o\u001b[0m\n",
            "[ 73%] \u001b[32m\u001b[1mLinking CXX shared library libopenpose_gpu.so\u001b[0m\n",
            "[ 73%] Built target openpose_gpu\n",
            "[ 74%] \u001b[34m\u001b[1mBuilding NVCC (Device) object src/openpose/hand/CMakeFiles/openpose_hand.dir/openpose_hand_generated_renderHand.cu.o\u001b[0m\n",
            "nvcc warning : The 'compute_35', 'compute_37', 'compute_50', 'sm_35', 'sm_37' and 'sm_50' architectures are deprecated, and may be removed in a future release (Use -Wno-deprecated-gpu-targets to suppress warning).\n",
            "nvcc warning : The 'compute_35', 'compute_37', 'compute_50', 'sm_35', 'sm_37' and 'sm_50' architectures are deprecated, and may be removed in a future release (Use -Wno-deprecated-gpu-targets to suppress warning).\n",
            "\u001b[35m\u001b[1mScanning dependencies of target openpose_pose\u001b[0m\n",
            "[ 74%] \u001b[32mBuilding CXX object src/openpose/pose/CMakeFiles/openpose_pose.dir/defineTemplates.cpp.o\u001b[0m\n",
            "\u001b[35m\u001b[1mScanning dependencies of target openpose_hand\u001b[0m\n",
            "[ 74%] \u001b[32mBuilding CXX object src/openpose/hand/CMakeFiles/openpose_hand.dir/defineTemplates.cpp.o\u001b[0m\n",
            "[ 75%] \u001b[32mBuilding CXX object src/openpose/pose/CMakeFiles/openpose_pose.dir/poseCpuRenderer.cpp.o\u001b[0m\n",
            "[ 75%] \u001b[32mBuilding CXX object src/openpose/pose/CMakeFiles/openpose_pose.dir/poseExtractor.cpp.o\u001b[0m\n",
            "[ 75%] \u001b[32mBuilding CXX object src/openpose/hand/CMakeFiles/openpose_hand.dir/handDetector.cpp.o\u001b[0m\n",
            "[ 75%] \u001b[32mBuilding CXX object src/openpose/pose/CMakeFiles/openpose_pose.dir/poseExtractorCaffe.cpp.o\u001b[0m\n",
            "[ 76%] \u001b[32mBuilding CXX object src/openpose/hand/CMakeFiles/openpose_hand.dir/handDetectorFromTxt.cpp.o\u001b[0m\n",
            "[ 76%] \u001b[32mBuilding CXX object src/openpose/hand/CMakeFiles/openpose_hand.dir/handExtractorCaffe.cpp.o\u001b[0m\n",
            "[ 76%] \u001b[32mBuilding CXX object src/openpose/pose/CMakeFiles/openpose_pose.dir/poseExtractorNet.cpp.o\u001b[0m\n",
            "[ 77%] \u001b[32mBuilding CXX object src/openpose/pose/CMakeFiles/openpose_pose.dir/poseGpuRenderer.cpp.o\u001b[0m\n",
            "[ 77%] \u001b[32mBuilding CXX object src/openpose/hand/CMakeFiles/openpose_hand.dir/handExtractorNet.cpp.o\u001b[0m\n",
            "[ 77%] \u001b[32mBuilding CXX object src/openpose/pose/CMakeFiles/openpose_pose.dir/poseParameters.cpp.o\u001b[0m\n",
            "[ 78%] \u001b[32mBuilding CXX object src/openpose/hand/CMakeFiles/openpose_hand.dir/handCpuRenderer.cpp.o\u001b[0m\n",
            "[ 78%] \u001b[32mBuilding CXX object src/openpose/hand/CMakeFiles/openpose_hand.dir/handGpuRenderer.cpp.o\u001b[0m\n",
            "[ 78%] \u001b[32mBuilding CXX object src/openpose/pose/CMakeFiles/openpose_pose.dir/poseParametersRender.cpp.o\u001b[0m\n",
            "[ 79%] \u001b[32mBuilding CXX object src/openpose/pose/CMakeFiles/openpose_pose.dir/poseRenderer.cpp.o\u001b[0m\n",
            "[ 79%] \u001b[32mBuilding CXX object src/openpose/hand/CMakeFiles/openpose_hand.dir/handRenderer.cpp.o\u001b[0m\n",
            "[ 79%] \u001b[32mBuilding CXX object src/openpose/hand/CMakeFiles/openpose_hand.dir/renderHand.cpp.o\u001b[0m\n",
            "[ 79%] \u001b[32mBuilding CXX object src/openpose/pose/CMakeFiles/openpose_pose.dir/renderPose.cpp.o\u001b[0m\n",
            "[ 80%] \u001b[32m\u001b[1mLinking CXX shared library libopenpose_hand.so\u001b[0m\n",
            "[ 80%] Built target openpose_hand\n",
            "[ 80%] \u001b[34m\u001b[1mBuilding NVCC (Device) object src/openpose/net/CMakeFiles/openpose_net.dir/openpose_net_generated_resizeAndMergeBase.cu.o\u001b[0m\n",
            "nvcc warning : The 'compute_35', 'compute_37', 'compute_50', 'sm_35', 'sm_37' and 'sm_50' architectures are deprecated, and may be removed in a future release (Use -Wno-deprecated-gpu-targets to suppress warning).\n",
            "[ 80%] \u001b[32m\u001b[1mLinking CXX shared library libopenpose_pose.so\u001b[0m\n",
            "[ 80%] Built target openpose_pose\n",
            "[ 80%] \u001b[34m\u001b[1mBuilding NVCC (Device) object src/openpose/net/CMakeFiles/openpose_net.dir/openpose_net_generated_bodyPartConnectorBase.cu.o\u001b[0m\n",
            "nvcc warning : The 'compute_35', 'compute_37', 'compute_50', 'sm_35', 'sm_37' and 'sm_50' architectures are deprecated, and may be removed in a future release (Use -Wno-deprecated-gpu-targets to suppress warning).\n",
            "nvcc warning : The 'compute_35', 'compute_37', 'compute_50', 'sm_35', 'sm_37' and 'sm_50' architectures are deprecated, and may be removed in a future release (Use -Wno-deprecated-gpu-targets to suppress warning).\n",
            "nvcc warning : The 'compute_35', 'compute_37', 'compute_50', 'sm_35', 'sm_37' and 'sm_50' architectures are deprecated, and may be removed in a future release (Use -Wno-deprecated-gpu-targets to suppress warning).\n",
            "[ 81%] \u001b[34m\u001b[1mBuilding NVCC (Device) object src/openpose/net/CMakeFiles/openpose_net.dir/openpose_net_generated_maximumBase.cu.o\u001b[0m\n",
            "nvcc warning : The 'compute_35', 'compute_37', 'compute_50', 'sm_35', 'sm_37' and 'sm_50' architectures are deprecated, and may be removed in a future release (Use -Wno-deprecated-gpu-targets to suppress warning).\n",
            "\u001b[35m\u001b[1mScanning dependencies of target openpose_thread\u001b[0m\n",
            "[ 81%] \u001b[32mBuilding CXX object src/openpose/thread/CMakeFiles/openpose_thread.dir/defineTemplates.cpp.o\u001b[0m\n",
            "nvcc warning : The 'compute_35', 'compute_37', 'compute_50', 'sm_35', 'sm_37' and 'sm_50' architectures are deprecated, and may be removed in a future release (Use -Wno-deprecated-gpu-targets to suppress warning).\n",
            "[ 81%] \u001b[32m\u001b[1mLinking CXX shared library libopenpose_thread.so\u001b[0m\n",
            "[ 81%] Built target openpose_thread\n",
            "\u001b[35m\u001b[1mScanning dependencies of target openpose_tracking\u001b[0m\n",
            "[ 82%] \u001b[32mBuilding CXX object src/openpose/tracking/CMakeFiles/openpose_tracking.dir/defineTemplates.cpp.o\u001b[0m\n",
            "[ 82%] \u001b[32mBuilding CXX object src/openpose/tracking/CMakeFiles/openpose_tracking.dir/personIdExtractor.cpp.o\u001b[0m\n",
            "[ 82%] \u001b[32mBuilding CXX object src/openpose/tracking/CMakeFiles/openpose_tracking.dir/personTracker.cpp.o\u001b[0m\n",
            "[ 82%] \u001b[32mBuilding CXX object src/openpose/tracking/CMakeFiles/openpose_tracking.dir/pyramidalLK.cpp.o\u001b[0m\n",
            "[ 82%] \u001b[34m\u001b[1mBuilding NVCC (Device) object src/openpose/net/CMakeFiles/openpose_net.dir/openpose_net_generated_nmsBase.cu.o\u001b[0m\n",
            "nvcc warning : The 'compute_35', 'compute_37', 'compute_50', 'sm_35', 'sm_37' and 'sm_50' architectures are deprecated, and may be removed in a future release (Use -Wno-deprecated-gpu-targets to suppress warning).\n",
            "nvcc warning : The 'compute_35', 'compute_37', 'compute_50', 'sm_35', 'sm_37' and 'sm_50' architectures are deprecated, and may be removed in a future release (Use -Wno-deprecated-gpu-targets to suppress warning).\n",
            "[ 83%] \u001b[32m\u001b[1mLinking CXX shared library libopenpose_tracking.so\u001b[0m\n",
            "[ 83%] Built target openpose_tracking\n",
            "\u001b[35m\u001b[1mScanning dependencies of target openpose_unity\u001b[0m\n",
            "[ 83%] \u001b[32mBuilding CXX object src/openpose/unity/CMakeFiles/openpose_unity.dir/unityBinding.cpp.o\u001b[0m\n",
            "[ 83%] \u001b[32m\u001b[1mLinking CXX shared library libopenpose_unity.so\u001b[0m\n",
            "[ 83%] Built target openpose_unity\n",
            "\u001b[35m\u001b[1mScanning dependencies of target openpose_gui\u001b[0m\n",
            "[ 84%] \u001b[32mBuilding CXX object src/openpose/gui/CMakeFiles/openpose_gui.dir/defineTemplates.cpp.o\u001b[0m\n",
            "[ 84%] \u001b[32mBuilding CXX object src/openpose/gui/CMakeFiles/openpose_gui.dir/frameDisplayer.cpp.o\u001b[0m\n",
            "[ 84%] \u001b[32mBuilding CXX object src/openpose/gui/CMakeFiles/openpose_gui.dir/gui.cpp.o\u001b[0m\n",
            "[ 85%] \u001b[32mBuilding CXX object src/openpose/gui/CMakeFiles/openpose_gui.dir/guiAdam.cpp.o\u001b[0m\n",
            "[ 85%] \u001b[32mBuilding CXX object src/openpose/gui/CMakeFiles/openpose_gui.dir/gui3D.cpp.o\u001b[0m\n",
            "\u001b[35m\u001b[1mScanning dependencies of target openpose_net\u001b[0m\n",
            "[ 86%] \u001b[32mBuilding CXX object src/openpose/net/CMakeFiles/openpose_net.dir/bodyPartConnectorBase.cpp.o\u001b[0m\n",
            "[ 86%] \u001b[32mBuilding CXX object src/openpose/gui/CMakeFiles/openpose_gui.dir/guiInfoAdder.cpp.o\u001b[0m\n",
            "[ 86%] \u001b[32m\u001b[1mLinking CXX shared library libopenpose_gui.so\u001b[0m\n",
            "[ 86%] Built target openpose_gui\n",
            "\u001b[35m\u001b[1mScanning dependencies of target openpose_producer\u001b[0m\n",
            "[ 87%] \u001b[32mBuilding CXX object src/openpose/producer/CMakeFiles/openpose_producer.dir/datumProducer.cpp.o\u001b[0m\n",
            "[ 87%] \u001b[32mBuilding CXX object src/openpose/net/CMakeFiles/openpose_net.dir/bodyPartConnectorBaseCL.cpp.o\u001b[0m\n",
            "[ 87%] \u001b[32mBuilding CXX object src/openpose/net/CMakeFiles/openpose_net.dir/bodyPartConnectorCaffe.cpp.o\u001b[0m\n",
            "[ 87%] \u001b[32mBuilding CXX object src/openpose/producer/CMakeFiles/openpose_producer.dir/defineTemplates.cpp.o\u001b[0m\n",
            "[ 87%] \u001b[32mBuilding CXX object src/openpose/producer/CMakeFiles/openpose_producer.dir/flirReader.cpp.o\u001b[0m\n",
            "[ 88%] \u001b[32mBuilding CXX object src/openpose/net/CMakeFiles/openpose_net.dir/maximumBase.cpp.o\u001b[0m\n",
            "[ 88%] \u001b[32mBuilding CXX object src/openpose/net/CMakeFiles/openpose_net.dir/maximumCaffe.cpp.o\u001b[0m\n",
            "[ 88%] \u001b[32mBuilding CXX object src/openpose/producer/CMakeFiles/openpose_producer.dir/imageDirectoryReader.cpp.o\u001b[0m\n",
            "[ 88%] \u001b[32mBuilding CXX object src/openpose/net/CMakeFiles/openpose_net.dir/netCaffe.cpp.o\u001b[0m\n",
            "[ 89%] \u001b[32mBuilding CXX object src/openpose/producer/CMakeFiles/openpose_producer.dir/ipCameraReader.cpp.o\u001b[0m\n",
            "[ 90%] \u001b[32mBuilding CXX object src/openpose/net/CMakeFiles/openpose_net.dir/netOpenCv.cpp.o\u001b[0m\n",
            "[ 90%] \u001b[32mBuilding CXX object src/openpose/producer/CMakeFiles/openpose_producer.dir/producer.cpp.o\u001b[0m\n",
            "[ 90%] \u001b[32mBuilding CXX object src/openpose/net/CMakeFiles/openpose_net.dir/nmsBase.cpp.o\u001b[0m\n",
            "[ 90%] \u001b[32mBuilding CXX object src/openpose/producer/CMakeFiles/openpose_producer.dir/spinnakerWrapper.cpp.o\u001b[0m\n",
            "[ 90%] \u001b[32mBuilding CXX object src/openpose/net/CMakeFiles/openpose_net.dir/nmsBaseCL.cpp.o\u001b[0m\n",
            "[ 91%] \u001b[32mBuilding CXX object src/openpose/producer/CMakeFiles/openpose_producer.dir/videoCaptureReader.cpp.o\u001b[0m\n",
            "[ 91%] \u001b[32mBuilding CXX object src/openpose/net/CMakeFiles/openpose_net.dir/nmsCaffe.cpp.o\u001b[0m\n",
            "[ 91%] \u001b[32mBuilding CXX object src/openpose/producer/CMakeFiles/openpose_producer.dir/videoReader.cpp.o\u001b[0m\n",
            "[ 92%] \u001b[32mBuilding CXX object src/openpose/net/CMakeFiles/openpose_net.dir/resizeAndMergeBase.cpp.o\u001b[0m\n",
            "[ 92%] \u001b[32mBuilding CXX object src/openpose/producer/CMakeFiles/openpose_producer.dir/webcamReader.cpp.o\u001b[0m\n",
            "[ 92%] \u001b[32mBuilding CXX object src/openpose/net/CMakeFiles/openpose_net.dir/resizeAndMergeBaseCL.cpp.o\u001b[0m\n",
            "[ 92%] \u001b[32mBuilding CXX object src/openpose/net/CMakeFiles/openpose_net.dir/resizeAndMergeCaffe.cpp.o\u001b[0m\n",
            "[ 93%] \u001b[32m\u001b[1mLinking CXX shared library libopenpose_producer.so\u001b[0m\n",
            "[ 93%] Built target openpose_producer\n",
            "\u001b[35m\u001b[1mScanning dependencies of target openpose_utilities\u001b[0m\n",
            "[ 94%] \u001b[32mBuilding CXX object src/openpose/utilities/CMakeFiles/openpose_utilities.dir/errorAndLog.cpp.o\u001b[0m\n",
            "[ 94%] \u001b[32mBuilding CXX object src/openpose/utilities/CMakeFiles/openpose_utilities.dir/fileSystem.cpp.o\u001b[0m\n",
            "[ 95%] \u001b[32m\u001b[1mLinking CXX shared library libopenpose_net.so\u001b[0m\n",
            "[ 95%] Built target openpose_net\n",
            "[ 95%] \u001b[32mBuilding CXX object src/openpose/utilities/CMakeFiles/openpose_utilities.dir/flagsToOpenPose.cpp.o\u001b[0m\n",
            "[ 96%] \u001b[32mBuilding CXX object src/openpose/utilities/CMakeFiles/openpose_utilities.dir/keypoint.cpp.o\u001b[0m\n",
            "[ 96%] \u001b[32mBuilding CXX object src/openpose/utilities/CMakeFiles/openpose_utilities.dir/openCv.cpp.o\u001b[0m\n",
            "[ 96%] \u001b[32mBuilding CXX object src/openpose/utilities/CMakeFiles/openpose_utilities.dir/openCvPrivate.cpp.o\u001b[0m\n",
            "[ 96%] \u001b[32mBuilding CXX object src/openpose/utilities/CMakeFiles/openpose_utilities.dir/profiler.cpp.o\u001b[0m\n",
            "[ 97%] \u001b[32mBuilding CXX object src/openpose/utilities/CMakeFiles/openpose_utilities.dir/string.cpp.o\u001b[0m\n",
            "[ 97%] \u001b[32m\u001b[1mLinking CXX shared library libopenpose_utilities.so\u001b[0m\n",
            "[ 97%] Built target openpose_utilities\n",
            "\u001b[35m\u001b[1mScanning dependencies of target openpose_wrapper\u001b[0m\n",
            "[ 97%] \u001b[32mBuilding CXX object src/openpose/wrapper/CMakeFiles/openpose_wrapper.dir/defineTemplates.cpp.o\u001b[0m\n",
            "[ 98%] \u001b[32mBuilding CXX object src/openpose/wrapper/CMakeFiles/openpose_wrapper.dir/wrapperAuxiliary.cpp.o\u001b[0m\n",
            "[ 98%] \u001b[32mBuilding CXX object src/openpose/wrapper/CMakeFiles/openpose_wrapper.dir/wrapperStructExtra.cpp.o\u001b[0m\n",
            "[ 98%] \u001b[32mBuilding CXX object src/openpose/wrapper/CMakeFiles/openpose_wrapper.dir/wrapperStructFace.cpp.o\u001b[0m\n",
            "[ 99%] \u001b[32mBuilding CXX object src/openpose/wrapper/CMakeFiles/openpose_wrapper.dir/wrapperStructGui.cpp.o\u001b[0m\n",
            "[ 99%] \u001b[32mBuilding CXX object src/openpose/wrapper/CMakeFiles/openpose_wrapper.dir/wrapperStructHand.cpp.o\u001b[0m\n",
            "[ 99%] \u001b[32mBuilding CXX object src/openpose/wrapper/CMakeFiles/openpose_wrapper.dir/wrapperStructInput.cpp.o\u001b[0m\n",
            "[ 99%] \u001b[32mBuilding CXX object src/openpose/wrapper/CMakeFiles/openpose_wrapper.dir/wrapperStructOutput.cpp.o\u001b[0m\n",
            "[100%] \u001b[32mBuilding CXX object src/openpose/wrapper/CMakeFiles/openpose_wrapper.dir/wrapperStructPose.cpp.o\u001b[0m\n",
            "[100%] \u001b[32m\u001b[1mLinking CXX shared library libopenpose_wrapper.so\u001b[0m\n",
            "[100%] Built target openpose_wrapper\n",
            "Built target openpose_lib\n"
          ]
        }
      ]
    },
    {
      "cell_type": "markdown",
      "source": [
        "# Input setup (Upload input_data)"
      ],
      "metadata": {
        "id": "ci73LcEsuGZ5"
      }
    },
    {
      "cell_type": "markdown",
      "source": [
        "Upload the input_data folder with the following:\n",
        "- cloth (contains the image of the cloth)\n",
        "- cloth-mask\n",
        "- image (contains the image of the person)\n",
        "- image-parse\n",
        "- pose\n",
        "- train_pairs.txt\n",
        "- test_paris.txt\n",
        "\n",
        "The cloth file image should be named as follows: cloth@1=cloth_front.jpg\n",
        "\n",
        "The image file image should be named as follows: person@1=person_whole_front.png"
      ],
      "metadata": {
        "id": "SHclx55VvGHs"
      }
    },
    {
      "cell_type": "code",
      "source": [
        "cd /content/m3d-vton"
      ],
      "metadata": {
        "colab": {
          "base_uri": "https://localhost:8080/"
        },
        "id": "NOq9w0g8zdKi",
        "outputId": "6c2bc4e2-4af8-45f3-e55d-8aef94fb7d7c"
      },
      "execution_count": 24,
      "outputs": [
        {
          "output_type": "stream",
          "name": "stdout",
          "text": [
            "/content/m3d-vton\n"
          ]
        }
      ]
    },
    {
      "cell_type": "code",
      "source": [
        "from google.colab import files\n",
        "files.upload()"
      ],
      "metadata": {
        "id": "qkbuyqlKUBMj"
      },
      "execution_count": null,
      "outputs": []
    },
    {
      "cell_type": "code",
      "source": [
        "!unzip input_data.zip\n",
        "!rm input_data.zip"
      ],
      "metadata": {
        "id": "Xw0iGamXzMFK",
        "colab": {
          "base_uri": "https://localhost:8080/"
        },
        "outputId": "fb9d2d49-7fab-46bc-973e-51cae3ec1ec2"
      },
      "execution_count": 26,
      "outputs": [
        {
          "output_type": "stream",
          "name": "stdout",
          "text": [
            "Archive:  input_data.zip\n",
            "   creating: input_data/cloth/\n",
            "  inflating: input_data/cloth/cloth@1=cloth_front.jpg  \n",
            "  inflating: input_data/cloth/cloth@2=cloth_front.jpg  \n",
            "  inflating: input_data/cloth/cloth@3=cloth_front.jpg  \n",
            "  inflating: input_data/cloth/cloth@4=cloth_front.jpg  \n",
            "   creating: input_data/cloth-mask/\n",
            "  inflating: input_data/cloth-mask/cloth@1=cloth_front_mask.jpg  \n",
            "   creating: input_data/image/\n",
            "  inflating: input_data/image/person@1=person_whole_front.png  \n",
            "  inflating: input_data/image/person@2=person_whole_front.png  \n",
            "  inflating: input_data/image/person@3=person_whole_front.png  \n",
            "  inflating: input_data/image/person@4=person_whole_front.png  \n",
            "   creating: input_data/image-parse/\n",
            "  inflating: input_data/image-parse/person@1=person_whole_front_label.png  \n",
            "   creating: input_data/pose/\n",
            "  inflating: input_data/pose/person@1=person_whole_front_keypoints.json  \n",
            "  inflating: input_data/test_pairs.txt  \n",
            "  inflating: input_data/train_pairs.txt  \n"
          ]
        }
      ]
    },
    {
      "cell_type": "markdown",
      "source": [
        "## Creating cloth mask"
      ],
      "metadata": {
        "id": "rczaWRigv0b5"
      }
    },
    {
      "cell_type": "code",
      "source": [
        "img = cv2.imread('/content/m3d-vton/input_data/cloth/cloth@1=cloth_front.jpg')\n",
        "img= cv2.cvtColor(img,cv2.COLOR_BGR2GRAY)\n",
        "ret, thresh = cv2.threshold(img,200, 255, cv2.THRESH_BINARY_INV)\n",
        "cv2_imshow(thresh)\n",
        "cv2.imwrite('/content/m3d-vton/input_data/cloth-mask/cloth@1=cloth_front_mask.jpg', thresh)"
      ],
      "metadata": {
        "colab": {
          "base_uri": "https://localhost:8080/",
          "height": 547
        },
        "id": "UQA7Z3A7wdXt",
        "outputId": "e90cf81f-db95-4570-8af9-1141041b208b"
      },
      "execution_count": 30,
      "outputs": [
        {
          "output_type": "display_data",
          "data": {
            "text/plain": [
              "<PIL.Image.Image image mode=L size=320x512 at 0x7F4C31783E10>"
            ],
            "image/png": "[encoded data removed]"
          },
          "metadata": {}
        },
        {
          "output_type": "execute_result",
          "data": {
            "text/plain": [
              "True"
            ]
          },
          "metadata": {},
          "execution_count": 30
        }
      ]
    },
    {
      "cell_type": "code",
      "source": [
        "cd .."
      ],
      "metadata": {
        "colab": {
          "base_uri": "https://localhost:8080/"
        },
        "id": "2wIuAEVOUfRg",
        "outputId": "bec68ea4-3e33-4c40-dbc1-e83b1afc613c"
      },
      "execution_count": 31,
      "outputs": [
        {
          "output_type": "stream",
          "name": "stdout",
          "text": [
            "/content\n"
          ]
        }
      ]
    },
    {
      "cell_type": "markdown",
      "source": [
        "## Creating image parse"
      ],
      "metadata": {
        "id": "aBW7zm40weTb"
      }
    },
    {
      "cell_type": "code",
      "source": [
        "cd 2D-Human-Parsing/inference"
      ],
      "metadata": {
        "colab": {
          "base_uri": "https://localhost:8080/"
        },
        "id": "18rtQuQPvFS6",
        "outputId": "88bb72ce-a657-47de-8ade-5df59a58997d"
      },
      "execution_count": 40,
      "outputs": [
        {
          "output_type": "stream",
          "name": "stdout",
          "text": [
            "[Errno 2] No such file or directory: '2D-Human-Parsing/inference'\n",
            "/content/2D-Human-Parsing/inference\n"
          ]
        }
      ]
    },
    {
      "cell_type": "code",
      "source": [
        "!cp -r '/content/m3d-vton/input_data/image/person@1=person_whole_front.png' '/content/2D-Human-Parsing/demo_imgs'"
      ],
      "metadata": {
        "id": "wjpnQaDFxZer"
      },
      "execution_count": 36,
      "outputs": []
    },
    {
      "cell_type": "markdown",
      "source": [
        "### Edit img_list.txt\n",
        "\n",
        "/content/2D-Human-Parsing/demo_imgs/person@1=person_whole_front.png"
      ],
      "metadata": {
        "id": "IyTOglxcwD4b"
      }
    },
    {
      "cell_type": "code",
      "source": [
        "with open('/content/2D-Human-Parsing/inference/img_list.txt', 'w') as f:\n",
        "  f.write('/content/2D-Human-Parsing/demo_imgs/person@1=person_whole_front.png')\n",
        "\n",
        "with open('/content/2D-Human-Parsing/demo_imgs/img_list.txt', 'w') as f:\n",
        "  f.write('/content/2D-Human-Parsing/demo_imgs/person@1=person_whole_front.png')"
      ],
      "metadata": {
        "id": "nhWir-bhx3Fz"
      },
      "execution_count": 50,
      "outputs": []
    },
    {
      "cell_type": "markdown",
      "source": [
        "## Edit demo.sh\n",
        "\n",
        "\n",
        "CUDA_VISIBLE_DEVICES=0 \\\n",
        "python inference_acc.py \\\n",
        "--loadmodel '../pretrained/deeplabv3plus-xception-vocNov14_20-51-38_epoch-89.pth' \\\n",
        "--img_list '../demo_imgs/img_list.txt' \\\n",
        "--output_dir '../parsing_result'"
      ],
      "metadata": {
        "id": "_R6NJqKJwH2m"
      }
    },
    {
      "cell_type": "code",
      "source": [
        "!bash demo.sh"
      ],
      "metadata": {
        "colab": {
          "base_uri": "https://localhost:8080/"
        },
        "id": "ZdFq2mIb01pf",
        "outputId": "f33bf620-e840-4ddd-e86e-260db552af57"
      },
      "execution_count": 51,
      "outputs": [
        {
          "output_type": "stream",
          "name": "stdout",
          "text": [
            "Constructing DeepLabv3+ model...\n",
            "Number of classes: 20\n",
            "Output stride: 16\n",
            "Number of Input Channels: 3\n",
            "missing keys in state_dict: \"{'xception_features.block14.rep.3.pointwise_bn.num_batches_tracked', 'xception_features.block11.rep.1.depthwise_bn.num_batches_tracked', 'xception_features.block16.rep.3.pointwise_bn.num_batches_tracked', 'xception_features.block11.rep.5.depthwise_bn.num_batches_tracked', 'xception_features.block12.rep.1.pointwise_bn.num_batches_tracked', 'xception_features.block4.rep.3.pointwise_bn.num_batches_tracked', 'aspp1.bn.num_batches_tracked', 'xception_features.block16.rep.1.pointwise_bn.num_batches_tracked', 'xception_features.block17.rep.5.pointwise_bn.num_batches_tracked', 'xception_features.block3.rep.5.depthwise_bn.num_batches_tracked', 'xception_features.block14.rep.5.depthwise_bn.num_batches_tracked', 'xception_features.block6.rep.3.depthwise_bn.num_batches_tracked', 'xception_features.block3.rep.5.pointwise_bn.num_batches_tracked', 'xception_features.block20.rep.3.pointwise_bn.num_batches_tracked', 'xception_features.block9.rep.3.depthwise_bn.num_batches_tracked', 'xception_features.block7.rep.1.depthwise_bn.num_batches_tracked', 'xception_features.block10.rep.5.depthwise_bn.num_batches_tracked', 'xception_features.conv5.pointwise_bn.num_batches_tracked', 'xception_features.block2.block2_lastconv.1.depthwise_bn.num_batches_tracked', 'xception_features.block8.rep.3.pointwise_bn.num_batches_tracked', 'xception_features.block5.rep.3.pointwise_bn.num_batches_tracked', 'xception_features.block12.rep.5.depthwise_bn.num_batches_tracked', 'xception_features.block19.rep.1.pointwise_bn.num_batches_tracked', 'xception_features.block9.rep.5.pointwise_bn.num_batches_tracked', 'xception_features.block10.rep.1.pointwise_bn.num_batches_tracked', 'xception_features.block18.rep.5.pointwise_bn.num_batches_tracked', 'xception_features.block7.rep.5.depthwise_bn.num_batches_tracked', 'xception_features.block17.rep.3.depthwise_bn.num_batches_tracked', 'xception_features.conv4.depthwise_bn.num_batches_tracked', 'xception_features.block9.rep.1.pointwise_bn.num_batches_tracked', 'xception_features.block19.rep.5.pointwise_bn.num_batches_tracked', 'xception_features.block18.rep.3.depthwise_bn.num_batches_tracked', 'xception_features.block3.rep.1.depthwise_bn.num_batches_tracked', 'aspp4.atrous_convolution.depthwise_bn.num_batches_tracked', 'xception_features.block5.rep.3.depthwise_bn.num_batches_tracked', 'xception_features.block4.rep.3.depthwise_bn.num_batches_tracked', 'xception_features.block18.rep.3.pointwise_bn.num_batches_tracked', 'xception_features.block3.rep.3.depthwise_bn.num_batches_tracked', 'xception_features.block3.skipbn.num_batches_tracked', 'xception_features.block14.rep.1.depthwise_bn.num_batches_tracked', 'xception_features.block18.rep.1.depthwise_bn.num_batches_tracked', 'xception_features.block13.rep.3.pointwise_bn.num_batches_tracked', 'xception_features.block16.rep.5.pointwise_bn.num_batches_tracked', 'xception_features.block4.rep.1.depthwise_bn.num_batches_tracked', 'xception_features.block15.rep.1.pointwise_bn.num_batches_tracked', 'aspp2.atrous_convolution.pointwise_bn.num_batches_tracked', 'xception_features.block20.rep.1.depthwise_bn.num_batches_tracked', 'xception_features.block20.rep.5.depthwise_bn.num_batches_tracked', 'xception_features.block17.rep.3.pointwise_bn.num_batches_tracked', 'aspp4.atrous_convolution.pointwise_bn.num_batches_tracked', 'xception_features.block1.skipbn.num_batches_tracked', 'xception_features.block15.rep.1.depthwise_bn.num_batches_tracked', 'xception_features.block19.rep.5.depthwise_bn.num_batches_tracked', 'xception_features.block16.rep.5.depthwise_bn.num_batches_tracked', 'xception_features.block18.rep.5.depthwise_bn.num_batches_tracked', 'xception_features.block15.rep.5.pointwise_bn.num_batches_tracked', 'aspp3.atrous_convolution.depthwise_bn.num_batches_tracked', 'xception_features.block2.block2_lastconv.1.pointwise_bn.num_batches_tracked', 'xception_features.block3.rep.3.pointwise_bn.num_batches_tracked', 'xception_features.block11.rep.1.pointwise_bn.num_batches_tracked', 'xception_features.block20.rep.5.pointwise_bn.num_batches_tracked', 'aspp3.atrous_convolution.pointwise_bn.num_batches_tracked', 'xception_features.block12.rep.5.pointwise_bn.num_batches_tracked', 'xception_features.conv5.depthwise_bn.num_batches_tracked', 'xception_features.block13.rep.5.pointwise_bn.num_batches_tracked', 'concat_projection_bn1.num_batches_tracked', 'xception_features.block1.rep.4.depthwise_bn.num_batches_tracked', 'xception_features.block2.rep.3.depthwise_bn.num_batches_tracked', 'xception_features.block12.rep.3.depthwise_bn.num_batches_tracked', 'xception_features.conv3.pointwise_bn.num_batches_tracked', 'xception_features.block12.rep.1.depthwise_bn.num_batches_tracked', 'xception_features.block10.rep.3.pointwise_bn.num_batches_tracked', 'xception_features.block13.rep.1.pointwise_bn.num_batches_tracked', 'xception_features.block9.rep.1.depthwise_bn.num_batches_tracked', 'xception_features.block13.rep.1.depthwise_bn.num_batches_tracked', 'aspp2.atrous_convolution.depthwise_bn.num_batches_tracked', 'xception_features.block17.rep.5.depthwise_bn.num_batches_tracked', 'xception_features.block1.rep.4.pointwise_bn.num_batches_tracked', 'xception_features.block9.rep.5.depthwise_bn.num_batches_tracked', 'xception_features.block7.rep.1.pointwise_bn.num_batches_tracked', 'xception_features.block19.rep.1.depthwise_bn.num_batches_tracked', 'xception_features.block6.rep.1.pointwise_bn.num_batches_tracked', 'xception_features.block17.rep.1.pointwise_bn.num_batches_tracked', 'xception_features.block14.rep.5.pointwise_bn.num_batches_tracked', 'xception_features.block4.rep.5.pointwise_bn.num_batches_tracked', 'xception_features.block5.rep.1.depthwise_bn.num_batches_tracked', 'xception_features.bn2.num_batches_tracked', 'xception_features.block4.rep.5.depthwise_bn.num_batches_tracked', 'xception_features.block18.rep.1.pointwise_bn.num_batches_tracked', 'xception_features.block10.rep.5.pointwise_bn.num_batches_tracked', 'xception_features.block6.rep.5.pointwise_bn.num_batches_tracked', 'xception_features.block15.rep.3.depthwise_bn.num_batches_tracked', 'decoder.1.atrous_convolution.pointwise_bn.num_batches_tracked', 'xception_features.block12.rep.3.pointwise_bn.num_batches_tracked', 'xception_features.block14.rep.1.pointwise_bn.num_batches_tracked', 'xception_features.block6.rep.5.depthwise_bn.num_batches_tracked', 'xception_features.block7.rep.5.pointwise_bn.num_batches_tracked', 'xception_features.block8.rep.1.depthwise_bn.num_batches_tracked', 'xception_features.block13.rep.5.depthwise_bn.num_batches_tracked', 'xception_features.block2.rep.3.pointwise_bn.num_batches_tracked', 'xception_features.block1.rep.2.depthwise_bn.num_batches_tracked', 'xception_features.block9.rep.3.pointwise_bn.num_batches_tracked', 'xception_features.block17.rep.1.depthwise_bn.num_batches_tracked', 'decoder.0.atrous_convolution.depthwise_bn.num_batches_tracked', 'xception_features.block19.rep.3.pointwise_bn.num_batches_tracked', 'xception_features.block8.rep.5.pointwise_bn.num_batches_tracked', 'xception_features.block19.rep.3.depthwise_bn.num_batches_tracked', 'xception_features.block7.rep.3.depthwise_bn.num_batches_tracked', 'xception_features.block15.rep.5.depthwise_bn.num_batches_tracked', 'decoder.1.atrous_convolution.depthwise_bn.num_batches_tracked', 'global_avg_pool.2.num_batches_tracked', 'xception_features.block14.rep.3.depthwise_bn.num_batches_tracked', 'xception_features.block16.rep.3.depthwise_bn.num_batches_tracked', 'xception_features.block8.rep.1.pointwise_bn.num_batches_tracked', 'xception_features.block16.rep.1.depthwise_bn.num_batches_tracked', 'xception_features.block20.rep.3.depthwise_bn.num_batches_tracked', 'feature_projection_bn1.num_batches_tracked', 'xception_features.bn1.num_batches_tracked', 'xception_features.block13.rep.3.depthwise_bn.num_batches_tracked', 'xception_features.block11.rep.3.pointwise_bn.num_batches_tracked', 'xception_features.block4.rep.1.pointwise_bn.num_batches_tracked', 'xception_features.block3.rep.1.pointwise_bn.num_batches_tracked', 'xception_features.block5.rep.5.pointwise_bn.num_batches_tracked', 'xception_features.block6.rep.1.depthwise_bn.num_batches_tracked', 'xception_features.block10.rep.3.depthwise_bn.num_batches_tracked', 'xception_features.block11.rep.3.depthwise_bn.num_batches_tracked', 'decoder.0.atrous_convolution.pointwise_bn.num_batches_tracked', 'xception_features.block20.skipbn.num_batches_tracked', 'xception_features.block2.rep.1.pointwise_bn.num_batches_tracked', 'xception_features.block8.rep.3.depthwise_bn.num_batches_tracked', 'xception_features.block1.rep.0.depthwise_bn.num_batches_tracked', 'xception_features.block5.rep.1.pointwise_bn.num_batches_tracked', 'xception_features.block1.rep.0.pointwise_bn.num_batches_tracked', 'xception_features.block10.rep.1.depthwise_bn.num_batches_tracked', 'xception_features.block2.skipbn.num_batches_tracked', 'xception_features.block20.rep.1.pointwise_bn.num_batches_tracked', 'xception_features.block8.rep.5.depthwise_bn.num_batches_tracked', 'xception_features.conv3.depthwise_bn.num_batches_tracked', 'xception_features.block6.rep.3.pointwise_bn.num_batches_tracked', 'xception_features.block7.rep.3.pointwise_bn.num_batches_tracked', 'xception_features.block15.rep.3.pointwise_bn.num_batches_tracked', 'xception_features.conv4.pointwise_bn.num_batches_tracked', 'xception_features.block2.rep.1.depthwise_bn.num_batches_tracked', 'xception_features.block5.rep.5.depthwise_bn.num_batches_tracked', 'xception_features.block1.rep.2.pointwise_bn.num_batches_tracked', 'xception_features.block11.rep.5.pointwise_bn.num_batches_tracked'}\"\n",
            "load model: ../pretrained/deeplabv3plus-xception-vocNov14_20-51-38_epoch-89.pth\n",
            "<class 'argparse.Namespace'>\n",
            "Namespace(data_root='', img_list='../demo_imgs/img_list.txt', loadmodel='../pretrained/deeplabv3plus-xception-vocNov14_20-51-38_epoch-89.pth', output_dir='../parsing_result', phase='train', use_gpu=1)\n",
            "delete exist finish\n",
            "/usr/local/lib/python3.7/dist-packages/torch/nn/functional.py:2952: UserWarning: nn.functional.upsample is deprecated. Use nn.functional.interpolate instead.\n",
            "  warnings.warn(\"nn.functional.upsample is deprecated. Use nn.functional.interpolate instead.\")\n"
          ]
        }
      ]
    },
    {
      "cell_type": "code",
      "source": [
        "!cp -r '/content/2D-Human-Parsing/parsing_result/train_parsing/demo_imgs/person@1=person_whole_front_label.png' '/content/m3d-vton/input_data/image-parse'"
      ],
      "metadata": {
        "id": "fezNmqq91AVy"
      },
      "execution_count": 53,
      "outputs": []
    },
    {
      "cell_type": "code",
      "source": [
        "cd .."
      ],
      "metadata": {
        "id": "FfSHmrdA1XPq",
        "colab": {
          "base_uri": "https://localhost:8080/"
        },
        "outputId": "276b780f-2ca3-4c1f-a835-474a42e9d65c"
      },
      "execution_count": 54,
      "outputs": [
        {
          "output_type": "stream",
          "name": "stdout",
          "text": [
            "/content/2D-Human-Parsing\n"
          ]
        }
      ]
    },
    {
      "cell_type": "code",
      "source": [
        "cd .."
      ],
      "metadata": {
        "colab": {
          "base_uri": "https://localhost:8080/"
        },
        "id": "oijhZSao1YLR",
        "outputId": "918c48a1-1bd2-499e-8190-8b205ba4aba9"
      },
      "execution_count": 55,
      "outputs": [
        {
          "output_type": "stream",
          "name": "stdout",
          "text": [
            "/content\n"
          ]
        }
      ]
    },
    {
      "cell_type": "markdown",
      "source": [
        "## Creating pose keypoints"
      ],
      "metadata": {
        "id": "PMrjp50C1fDu"
      }
    },
    {
      "cell_type": "code",
      "source": [
        "cd openpose"
      ],
      "metadata": {
        "colab": {
          "base_uri": "https://localhost:8080/"
        },
        "id": "qZh6rcXd1h8Z",
        "outputId": "e0f6871c-f4ca-4bbf-e926-d78965a1538d"
      },
      "execution_count": 56,
      "outputs": [
        {
          "output_type": "stream",
          "name": "stdout",
          "text": [
            "/content/openpose\n"
          ]
        }
      ]
    },
    {
      "cell_type": "code",
      "source": [
        "!cp -r '/content/m3d-vton/input_data/image/person@1=person_whole_front.png' '/content/openpose/examples/media'"
      ],
      "metadata": {
        "id": "J8fx2-4y17iD"
      },
      "execution_count": 60,
      "outputs": []
    },
    {
      "cell_type": "code",
      "source": [
        "! ./build/examples/openpose/openpose.bin --video /content/openpose/examples/media/person@1=person_whole_front.png --display 0 --render_pose 0 --face --hand --write_json output_json_folder/"
      ],
      "metadata": {
        "colab": {
          "base_uri": "https://localhost:8080/"
        },
        "id": "-m_QIvO8vzQa",
        "outputId": "b7bf4e41-fcb2-429c-d36e-28abe89c2932"
      },
      "execution_count": 67,
      "outputs": [
        {
          "output_type": "stream",
          "name": "stdout",
          "text": [
            "Starting OpenPose demo...\n",
            "Configuring OpenPose...\n",
            "Starting thread(s)...\n",
            "Auto-detecting all available GPUs... Detected 1 GPU(s), using 1 of them starting at GPU 0.\n",
            "OpenPose demo successfully finished. Total time: 4.275611 seconds.\n"
          ]
        }
      ]
    },
    {
      "cell_type": "code",
      "source": [
        "!cp -r '/content/openpose/output_json_folder/person@1=person_whole_front_000000000000_keypoints.json' '/content/m3d-vton/input_data/pose/person@1=person_whole_front_keypoints.json'"
      ],
      "metadata": {
        "id": "OFzGCScfvzK5"
      },
      "execution_count": 68,
      "outputs": []
    },
    {
      "cell_type": "code",
      "source": [
        "cd .."
      ],
      "metadata": {
        "colab": {
          "base_uri": "https://localhost:8080/"
        },
        "id": "gA_i18tOVZwC",
        "outputId": "25f17151-8cba-41c5-bf0b-0e9b71ef0003"
      },
      "execution_count": 69,
      "outputs": [
        {
          "output_type": "stream",
          "name": "stdout",
          "text": [
            "/content\n"
          ]
        }
      ]
    },
    {
      "cell_type": "markdown",
      "source": [
        "## Follow the following steps:\n",
        "\n",
        "### Custom Data\n",
        "\n",
        "If you want to process your own data, some more steps are needed (the &#8594; indicates the corresponding folder where the images should be put into):\n",
        "\n",
        "1. prepare an in-shop clothing image *C* (&#8594; `input_data/cloth`) and a frontal person image *P* (&#8594; `input_data/image`) with resolution of 320*512;\n",
        "\n",
        "2. obtain the mask of *C* (&#8594; `input_data/cloth-mask`) by thresholding or using [remove.bg](https://www.remove.bg/);\n",
        "\n",
        "3. obtain the human segmentation layout (&#8594; `input_data/image-parse`) by applying [2D-Human-Paring](https://github.com/fyviezhao/2D-Human-Parsing) on *P*;\n",
        "\n",
        "4. obtain the human joints (&#8594; `input_data/pose`) by applying [OpenPose](https://github.com/CMU-Perceptual-Computing-Lab/openpose) (25 keypoints) on *P*;\n",
        "\n",
        "5. run the data processing script `python util/data_preprocessing.py --MPV3D_root input_data` to automatically obtain the remaining inputs (pre-aligned clothing, palm mask, and image gradients);\n",
        "\n",
        "6. now the data preparation is finished and you should be able to run inference with the steps described in the next section \"Running Inference\". \n",
        "\n",
        "## Running Inference\n",
        "We provide demo inputs under the `input_data` folder, where the target clothing and the reference person are like:\n",
        "\n",
        "with inputs from the `input_data` folder, the easiest way to get start is to use the [pretrained models](https://figshare.com/s/fad809619d2f9ac666fc) and sequentially run the four steps below:\n",
        "\n",
        "### 1. Testing MTM Module\n",
        "```sh\n",
        "python test.py --model MTM --name MTM --dataroot input_data --datalist test_pairs --results_dir results\n",
        "```\n",
        "\n",
        "### 2. Testing DRM Module\n",
        "```sh\n",
        "python test.py --model DRM --name DRM --dataroot input_data --datalist test_pairs --results_dir results\n",
        "```  \n",
        "\n",
        "### 3. Testing TFM Module\n",
        "```sh\n",
        "python test.py --model TFM --name TFM --dataroot input_data --datalist test_pairs --results_dir results\n",
        "```\n",
        "\n",
        "### 4. Getting colored point cloud and Remeshing\n",
        "\n",
        "(Note: since the back-side person images are unavailable, in `rgbd2pcd.py` we provide a fast face inpainting function that produces the mirrored back-side image after a fashion. One may need manually inpaint other back-side texture areas to achieve better visual quality.)\n",
        "\n",
        "```sh\n",
        "python rgbd2pcd.py\n",
        "```\n",
        "\n",
        "Now you should get the point cloud file prepared for remeshing under `results/aligned/pcd/test_pairs/*.ply`. [MeshLab](https://www.meshlab.net/) can be used to remesh the predicted point cloud, with two simple steps below:\n",
        "\n",
        "- Normal Estimation: Open MeshLab and load the point cloud file, and then go to Filters --> Normals, Curvatures and Orientation --> Compute normals for point sets\n",
        "\n",
        "- Possion Remeshing: Go to Filters --> Remeshing, Simplification and Reconstruction --> Surface Reconstruction: Screen Possion (set reconstruction depth = 9)"
      ],
      "metadata": {
        "id": "2tJAXSmoza4A"
      }
    },
    {
      "cell_type": "markdown",
      "source": [
        "## Folder Structure\n",
        "\n",
        "Create a folder called input_data with the following structure:\n",
        "\n",
        "__input_data__\n",
        "\n",
        "-->__cloth__\n",
        "\n",
        "---->cloth@1=cloth_front.jpg\n",
        "\n",
        "---->cloth@2=cloth_front.jpg\n",
        "\n",
        "----> ...\n",
        "\n",
        "-->__cloth-mask__\n",
        "\n",
        "---->cloth@1=cloth_front_mask.jpg\n",
        "\n",
        "---->cloth@2=cloth_front_mask.jpg\n",
        "\n",
        "----> ...\n",
        "\n",
        "-->__image__\n",
        "\n",
        "---->person@1=person_whole_front.png\n",
        "\n",
        "---->person@2=person_whole_front.png\n",
        "\n",
        "----> ...\n",
        "\n",
        "-->__image-parse__\n",
        "\n",
        "---->person@1=person_whole_front_label.png\n",
        "\n",
        "---->person@2=person_whole_front_label.png\n",
        "\n",
        "----> ...\n",
        "\n",
        "-->__pose__\n",
        "\n",
        "---->person@1=person_whole_front_keypoints.json\n",
        "\n",
        "---->person@2=person_whole_front_keypoints.json\n",
        "\n",
        "----> ...\n",
        "\n",
        "-->test_pairs.txt\n",
        "\n",
        "-->train_pairs.txt"
      ],
      "metadata": {
        "id": "4BIqgTLFvynf"
      }
    },
    {
      "cell_type": "markdown",
      "source": [
        "The test_pairs.txt and train_pairs.txt file will have the following format:\n",
        "\n",
        "person@1=person_whole_front.png    cloth@1=cloth_front.jpg\n",
        "\n",
        "person@2=person_whole_front.png    cloth@2=cloth_front.jpg"
      ],
      "metadata": {
        "id": "ViHTEElMxoDg"
      }
    },
    {
      "cell_type": "markdown",
      "source": [
        "Each image should have the following proportions:\n",
        "- width= 320\n",
        "- height= 512\n",
        "- bit depth= 24"
      ],
      "metadata": {
        "id": "FlqKlEAVPqem"
      }
    },
    {
      "cell_type": "markdown",
      "source": [
        "# Preprocessing Data"
      ],
      "metadata": {
        "id": "5J24ZQfgyU1u"
      }
    },
    {
      "cell_type": "code",
      "source": [
        "cd m3d-vton"
      ],
      "metadata": {
        "colab": {
          "base_uri": "https://localhost:8080/"
        },
        "id": "zm9Kn-gQVeAA",
        "outputId": "e6e50b4e-62b3-429b-8227-5ff0f60be1e6"
      },
      "execution_count": 70,
      "outputs": [
        {
          "output_type": "stream",
          "name": "stdout",
          "text": [
            "/content/m3d-vton\n"
          ]
        }
      ]
    },
    {
      "cell_type": "markdown",
      "source": [
        "Replace line 194 and 233 in data_preprocessing.py with:\n",
        "\n",
        "sorted([i for \\_,_,i in os.walk(person_root)][0])\n",
        "\n",
        "\n"
      ],
      "metadata": {
        "id": "4zINGL0uZfLt"
      }
    },
    {
      "cell_type": "code",
      "source": [
        "!python util/data_preprocessing.py --MPV3D_root input_data"
      ],
      "metadata": {
        "colab": {
          "base_uri": "https://localhost:8080/"
        },
        "id": "UKZMtQwJcSMd",
        "outputId": "d889a62a-73ff-4507-8896-95487ec6cb06"
      },
      "execution_count": 71,
      "outputs": [
        {
          "output_type": "stream",
          "name": "stdout",
          "text": [
            "4it [00:00, 29.15it/s]\n",
            "4it [00:00, 31.92it/s]\n",
            "clothes pre-alignment done and saved to input_data/aligned/test_pairs/cloth!\n",
            "100% 4/4 [00:00<00:00, 39.19it/s]\n",
            "palms segmentaion done and saved to input_data/palm-mask!\n",
            "100% 4/4 [00:00<00:00, 11.84it/s]\n",
            "Getting image sobel done and saving to input_data/image-sobel!\n",
            "******Data preprocessing done!******\n"
          ]
        }
      ]
    },
    {
      "cell_type": "markdown",
      "source": [
        "# Taking Infrence using models"
      ],
      "metadata": {
        "id": "KoJe5OP7ytsI"
      }
    },
    {
      "cell_type": "code",
      "source": [
        "!python test.py --model MTM --name MTM --dataroot input_data --datalist test_pairs --results_dir results"
      ],
      "metadata": {
        "colab": {
          "base_uri": "https://localhost:8080/"
        },
        "id": "u3jPoNgUJa6C",
        "outputId": "d462d778-04ef-473d-ab63-656655d95ad2"
      },
      "execution_count": 72,
      "outputs": [
        {
          "output_type": "stream",
          "name": "stdout",
          "text": [
            "----------------- Options ---------------\n",
            "                add_depth: True                          \n",
            "            add_grid_loss: False                         \n",
            "                add_segmt: True                          \n",
            "           add_theta_loss: False                         \n",
            "                  add_tps: True                          \n",
            "             aspect_ratio: 1.0                           \n",
            "               batch_size: 8                             \n",
            "          checkpoints_dir: pretrained                    \n",
            "                 datalist: test_pairs                    \n",
            "                 datamode: aligned                       \n",
            "                 dataroot: input_data                    \t[default: mpv3d_example]\n",
            "          display_winsize: 512                           \n",
            "                    epoch: latest                        \n",
            "                     eval: False                         \n",
            "                  gpu_ids: 0                             \n",
            "                grid_size: 3                             \n",
            "               img_height: 512                           \n",
            "                img_width: 320                           \n",
            "                init_gain: 0.02                          \n",
            "                init_type: normal                        \n",
            "               input_nc_A: 29                            \n",
            "               input_nc_B: 3                             \n",
            "                  isTrain: False                         \t[default: None]\n",
            "             lambda_depth: 1.0                           \n",
            "              lambda_grid: 1.0                           \n",
            "             lambda_segmt: 1.0                           \n",
            "             lambda_theta: 0.1                           \n",
            "              lambda_warp: 1.0                           \n",
            "                load_iter: 0                             \t[default: 0]\n",
            "         max_dataset_size: inf                           \n",
            "                    model: MTM                           \n",
            "               n_layers_D: 3                             \n",
            "    n_layers_feat_extract: 3                             \n",
            "                     name: MTM                           \n",
            "                      ndf: 64                            \n",
            "                     netD: basic                         \n",
            "                      ngf: 64                            \n",
            "            no_pin_memory: False                         \n",
            "                     norm: instance                      \n",
            "                 num_test: 10000                         \n",
            "              num_threads: 8                             \n",
            "                    phase: test                          \n",
            "                   radius: 5                             \n",
            "              results_dir: results                       \n",
            "           save_depth_vis: False                         \n",
            "          save_normal_vis: False                         \n",
            "           save_segmt_vis: False                         \n",
            "           serial_batches: False                         \n",
            "                   suffix:                               \n",
            "              use_dropout: False                         \n",
            "                  verbose: False                         \n",
            "----------------- End -------------------\n",
            "dataset [AlignedMPV3dDataset] was created\n",
            "initialize network with normal\n",
            "model [MTMModel] was created\n",
            "loading the model from pretrained/aligned/MTM/latest_net_MTM.pth\n",
            "---------- Networks initialized -------------\n",
            "[Network MTM] Total number of parameters : 40.003 M\n",
            "-----------------------------------------------\n",
            "/usr/local/lib/python3.7/dist-packages/torch/nn/functional.py:3385: UserWarning: Default grid_sample and affine_grid behavior has changed to align_corners=False since 1.3.0. Please specify align_corners=True if the old behavior is desired. See the documentation of grid_sample for details.\n",
            "  warnings.warn(\"Default grid_sample and affine_grid behavior has changed \"\n",
            "processing (0004)-th / (0004) image...\n",
            "Testing MTM finished.\n"
          ]
        }
      ]
    },
    {
      "cell_type": "code",
      "source": [
        "!python test.py --model DRM --name DRM --dataroot input_data --datalist test_pairs --results_dir results"
      ],
      "metadata": {
        "id": "VIqi2ltrJqJy",
        "colab": {
          "base_uri": "https://localhost:8080/"
        },
        "outputId": "ba0424c4-7b68-410b-baa6-a707ff5e2dac"
      },
      "execution_count": 73,
      "outputs": [
        {
          "output_type": "stream",
          "name": "stdout",
          "text": [
            "----------------- Options ---------------\n",
            "             add_gan_loss: False                         \n",
            "            add_grad_loss: True                          \n",
            "          add_normal_loss: False                         \n",
            "             aspect_ratio: 1.0                           \n",
            "               batch_size: 8                             \n",
            "          checkpoints_dir: pretrained                    \n",
            "                 datalist: test_pairs                    \n",
            "                 datamode: aligned                       \n",
            "                 dataroot: input_data                    \t[default: mpv3d_example]\n",
            "            display_ncols: 2                             \n",
            "          display_winsize: 512                           \n",
            "                    epoch: latest                        \n",
            "                     eval: False                         \n",
            "                  gpu_ids: 0                             \n",
            "               img_height: 512                           \n",
            "                img_width: 320                           \n",
            "                init_gain: 0.02                          \n",
            "                init_type: normal                        \n",
            "           input_gradient: True                          \n",
            "                 input_nc: 8                             \n",
            "               input_nc_D: 4                             \n",
            "                  isTrain: False                         \t[default: None]\n",
            "             lambda_depth: 1.0                           \n",
            "               lambda_gan: 1.0                           \n",
            "              lambda_grad: 1.0                           \n",
            "            lambda_normal: 1.5                           \n",
            "                load_iter: 0                             \t[default: 0]\n",
            "         max_dataset_size: inf                           \n",
            "                    model: DRM                           \t[default: MTM]\n",
            "               n_layers_D: 3                             \n",
            "                     name: DRM                           \t[default: MTM]\n",
            "                      ndf: 64                            \n",
            "                     netD: basic                         \n",
            "                      ngf: 64                            \n",
            "            no_pin_memory: False                         \n",
            "                     norm: instance                      \n",
            "                 num_test: 10000                         \n",
            "              num_threads: 8                             \n",
            "                output_nc: 2                             \n",
            "                    phase: test                          \n",
            "                   radius: 5                             \n",
            "              results_dir: results                       \n",
            "           save_depth_vis: False                         \n",
            "          save_normal_vis: False                         \n",
            "           save_segmt_vis: False                         \n",
            "           serial_batches: False                         \n",
            "                   suffix:                               \n",
            "              use_dropout: False                         \n",
            "                  verbose: False                         \n",
            "                 warproot: results/aligned/MTM/test_pairs\n",
            "----------------- End -------------------\n",
            "dataset [AlignedMPV3dDataset] was created\n",
            "initialize network with normal\n",
            "model [DRMModel] was created\n",
            "loading the model from pretrained/aligned/DRM/latest_net_DRM.pth\n",
            "---------- Networks initialized -------------\n",
            "[Network DRM] Total number of parameters : 66.936 M\n",
            "-----------------------------------------------\n",
            "/usr/local/lib/python3.7/dist-packages/torch/nn/functional.py:3063: UserWarning: Default upsampling behavior when mode=bilinear is changed to align_corners=False since 0.4.0. Please specify align_corners=True if the old behavior is desired. See the documentation of nn.Upsample for details.\n",
            "  \"See the documentation of nn.Upsample for details.\".format(mode))\n",
            "\n",
            "Testing DRM finished.\n"
          ]
        }
      ]
    },
    {
      "cell_type": "code",
      "source": [
        "!python test.py --model TFM --name TFM --dataroot input_data --datalist test_pairs --results_dir results"
      ],
      "metadata": {
        "id": "yfg3q8EsHOv8",
        "colab": {
          "base_uri": "https://localhost:8080/"
        },
        "outputId": "5aded0eb-a164-4b66-8a2a-3ccfa1223579"
      },
      "execution_count": 74,
      "outputs": [
        {
          "output_type": "stream",
          "name": "stdout",
          "text": [
            "----------------- Options ---------------\n",
            "             add_gan_loss: False                         \n",
            "             aspect_ratio: 1.0                           \n",
            "               batch_size: 8                             \n",
            "          checkpoints_dir: pretrained                    \n",
            "                 datalist: test_pairs                    \n",
            "                 datamode: aligned                       \n",
            "                 dataroot: input_data                    \t[default: mpv3d_example]\n",
            "          display_winsize: 512                           \n",
            "                    epoch: latest                        \n",
            "                     eval: False                         \n",
            "                  gpu_ids: 0                             \n",
            "               img_height: 512                           \n",
            "                img_width: 320                           \n",
            "                init_gain: 0.02                          \n",
            "                init_type: normal                        \n",
            "              input_depth: True                          \n",
            "                 input_nc: 7                             \n",
            "               input_nc_D: 12                            \n",
            "              input_segmt: True                          \n",
            "                  isTrain: False                         \t[default: None]\n",
            "               lambda_gan: 1.0                           \n",
            "                lambda_l1: 1.0                           \n",
            "              lambda_mask: 1.0                           \n",
            "               lambda_vgg: 1.0                           \n",
            "                load_iter: 0                             \t[default: 0]\n",
            "         max_dataset_size: inf                           \n",
            "                    model: TFM                           \t[default: MTM]\n",
            "               n_layers_D: 3                             \n",
            "                     name: TFM                           \t[default: MTM]\n",
            "                      ndf: 64                            \n",
            "                     netD: basic                         \n",
            "                      ngf: 64                            \n",
            "            no_pin_memory: False                         \n",
            "                     norm: instance                      \n",
            "                num_downs: 6                             \n",
            "                 num_test: 10000                         \n",
            "              num_threads: 8                             \n",
            "                output_nc: 4                             \n",
            "                    phase: test                          \n",
            "                   radius: 5                             \n",
            "              results_dir: results                       \n",
            "           save_depth_vis: False                         \n",
            "          save_normal_vis: False                         \n",
            "           save_segmt_vis: False                         \n",
            "           serial_batches: False                         \n",
            "                   suffix:                               \n",
            "              use_dropout: False                         \n",
            "                  verbose: False                         \n",
            "                 warproot: results/aligned/MTM/test_pairs\n",
            "----------------- End -------------------\n",
            "dataset [AlignedMPV3dDataset] was created\n",
            "initialize network with normal\n",
            "model [TFMModel] was created\n",
            "loading the model from pretrained/aligned/TFM/latest_net_TFM.pth\n",
            "---------- Networks initialized -------------\n",
            "[Network TFM] Total number of parameters : 21.333 M\n",
            "-----------------------------------------------\n",
            "processing (0004)-th / (0004) image...\n",
            "Testing TFM finished.\n"
          ]
        }
      ]
    },
    {
      "cell_type": "code",
      "source": [
        "!python rgbd2pcd.py --parse_root input_data/image-parse"
      ],
      "metadata": {
        "id": "LeA9SOPpHRfZ",
        "colab": {
          "base_uri": "https://localhost:8080/"
        },
        "outputId": "3df524d3-18aa-4e66-bfaa-a56ddefa64c6"
      },
      "execution_count": 75,
      "outputs": [
        {
          "output_type": "stream",
          "name": "stdout",
          "text": [
            "100% 8/8 [00:01<00:00,  4.99it/s]\n",
            "The unprojected point cloud file(s) are saved to results/aligned/pcd/test_pairs\n"
          ]
        }
      ]
    },
    {
      "cell_type": "markdown",
      "source": [
        "# Post processing point cloud"
      ],
      "metadata": {
        "id": "0EiEyBfVz9FX"
      }
    },
    {
      "cell_type": "code",
      "source": [
        "!mkdir ./results/aligned/final_pcd"
      ],
      "metadata": {
        "id": "JIspEpGxuSpH"
      },
      "execution_count": 76,
      "outputs": []
    },
    {
      "cell_type": "code",
      "source": [
        "# post processing point cloud\n",
        "\n",
        "# load point cloud\n",
        "pcd = o3d.io.read_point_cloud('./results/aligned/pcd/test_pairs/person@4=person.ply')\n",
        "\n",
        "# normal estimation\n",
        "pcd.estimate_normals()\n",
        "pcd.orient_normals_consistent_tangent_plane(100)\n",
        "\n",
        "# poisson surface reconstruction\n",
        "mesh, densities = o3d.geometry.TriangleMesh.create_from_point_cloud_poisson(pcd, depth=9)\n",
        "\n",
        "# save mesh\n",
        "o3d.io.write_triangle_mesh('./results/aligned/final_pcd/person@4=person.ply', mesh)"
      ],
      "metadata": {
        "colab": {
          "base_uri": "https://localhost:8080/"
        },
        "id": "UdNQEV0-ro2U",
        "outputId": "3b181d9f-7078-4a12-93d1-937ecbc8bdd2"
      },
      "execution_count": 83,
      "outputs": [
        {
          "output_type": "execute_result",
          "data": {
            "text/plain": [
              "True"
            ]
          },
          "metadata": {},
          "execution_count": 83
        }
      ]
    },
    {
      "cell_type": "code",
      "source": [
        "# display 2D result\n",
        "\n",
        "img_path = './results/aligned/TFM/test_pairs/tryon/person@4=person_whole_front.png'\n",
        "img = cv2.imread(img_path)\n",
        "img = cv2.cvtColor(img, cv2.COLOR_BGR2RGB)\n",
        "\n",
        "\n",
        "plt.imshow(img)\n",
        "plt.axis('off')\n",
        "plt.show()"
      ],
      "metadata": {
        "colab": {
          "base_uri": "https://localhost:8080/",
          "height": 248
        },
        "id": "GhnzNAiIs_ej",
        "outputId": "845ee316-9f28-427b-ffd7-6ff4ee83c3ce"
      },
      "execution_count": 84,
      "outputs": [
        {
          "output_type": "display_data",
          "data": {
            "text/plain": [
              "<Figure size 432x288 with 1 Axes>"
            ],
            "image/png": "[encoded data removed]"
          },
          "metadata": {
            "needs_background": "light"
          }
        }
      ]
    },
    {
      "cell_type": "code",
      "source": [
        "cd '/content/m3d-vton/results/aligned'"
      ],
      "metadata": {
        "id": "zLq_trdDs6n8",
        "colab": {
          "base_uri": "https://localhost:8080/"
        },
        "outputId": "04a15867-3336-458b-9744-434c95487b15"
      },
      "execution_count": 85,
      "outputs": [
        {
          "output_type": "stream",
          "name": "stdout",
          "text": [
            "/content/m3d-vton/results/aligned\n"
          ]
        }
      ]
    },
    {
      "cell_type": "code",
      "source": [
        "!zip -r '/content/m3d-vton/results/aligned/TFM.zip' '/content/m3d-vton/results/aligned/TFM'"
      ],
      "metadata": {
        "colab": {
          "base_uri": "https://localhost:8080/"
        },
        "id": "7tJPrk312p4v",
        "outputId": "3f150076-951e-4a95-c006-7e3507aeacf3"
      },
      "execution_count": 94,
      "outputs": [
        {
          "output_type": "stream",
          "name": "stdout",
          "text": [
            "updating: content/m3d-vton/results/aligned/TFM/ (stored 0%)\n",
            "  adding: content/m3d-vton/results/aligned/TFM/test_pairs/ (stored 0%)\n",
            "  adding: content/m3d-vton/results/aligned/TFM/test_pairs/tryon/ (stored 0%)\n",
            "  adding: content/m3d-vton/results/aligned/TFM/test_pairs/tryon/person@2=person_whole_front.png (deflated 1%)\n",
            "  adding: content/m3d-vton/results/aligned/TFM/test_pairs/tryon/person@1=person_whole_front.png (deflated 0%)\n",
            "  adding: content/m3d-vton/results/aligned/TFM/test_pairs/tryon/person@4=person_whole_front.png (deflated 0%)\n",
            "  adding: content/m3d-vton/results/aligned/TFM/test_pairs/tryon/person@3=person_whole_front.png (deflated 1%)\n"
          ]
        }
      ]
    },
    {
      "cell_type": "code",
      "source": [
        ""
      ],
      "metadata": {
        "id": "zbauKAB82txk"
      },
      "execution_count": null,
      "outputs": []
    }
  ]
}