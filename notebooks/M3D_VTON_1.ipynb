{
  "nbformat": 4,
  "nbformat_minor": 0,
  "metadata": {
    "colab": {
      "name": "M3D-VTON_1.ipynb",
      "provenance": [],
      "collapsed_sections": []
    },
    "kernelspec": {
      "name": "python3",
      "display_name": "Python 3"
    },
    "language_info": {
      "name": "python"
    },
    "accelerator": "GPU"
  },
  "cells": [
    {
      "cell_type": "markdown",
      "source": [
        "# Setup"
      ],
      "metadata": {
        "id": "0Y2rSXGjvHtx"
      }
    },
    {
      "cell_type": "markdown",
      "source": [
        "## Install Conda (Optional)"
      ],
      "metadata": {
        "id": "7Yrprx2ivOaU"
      }
    },
    {
      "cell_type": "code",
      "source": [
        "!wget https://repo.anaconda.com/miniconda/Miniconda3-py37_4.8.2-Linux-x86_64.sh\n",
        "\n",
        "!chmod +x Miniconda3-py37_4.8.2-Linux-x86_64.sh\n",
        "\n",
        "!bash ./Miniconda3-py37_4.8.2-Linux-x86_64.sh -b -f -p /usr/local \n",
        "import sys\n",
        "sys.path.append('/usr/local/lib/python3.7/site-packages/')"
      ],
      "metadata": {
        "id": "7vZI_Zhy6GJJ"
      },
      "execution_count": null,
      "outputs": []
    },
    {
      "cell_type": "markdown",
      "source": [
        "## Install python==3.8 (Optional)"
      ],
      "metadata": {
        "id": "n1yUJzWSvWCm"
      }
    },
    {
      "cell_type": "code",
      "source": [
        "!conda install python=3.8"
      ],
      "metadata": {
        "id": "OguprYxJ6FrQ"
      },
      "execution_count": null,
      "outputs": []
    },
    {
      "cell_type": "code",
      "source": [
        "!python --version"
      ],
      "metadata": {
        "colab": {
          "base_uri": "https://localhost:8080/"
        },
        "id": "8LvBuMjuzCU6",
        "outputId": "41dc995d-bd31-4c2d-b877-eb0ed7527e7d"
      },
      "execution_count": 1,
      "outputs": [
        {
          "output_type": "stream",
          "name": "stdout",
          "text": [
            "Python 3.7.12\n"
          ]
        }
      ]
    },
    {
      "cell_type": "markdown",
      "source": [
        "## Install dependencies"
      ],
      "metadata": {
        "id": "eEsG4KKNvfyX"
      }
    },
    {
      "cell_type": "code",
      "source": [
        "!pip install opencv-python\n",
        "!pip install pycocotools\n",
        "!pip install ipykernel\n",
        "!pip install scipy\n",
        "!pip install torch==1.6.0 torchvision==0.7.0\n",
        "!pip install open3d"
      ],
      "metadata": {
        "id": "SN2Vu-ya8VOS"
      },
      "execution_count": null,
      "outputs": []
    },
    {
      "cell_type": "markdown",
      "source": [
        "## Clone M3D-VTON repo"
      ],
      "metadata": {
        "id": "md2gI04LvlPG"
      }
    },
    {
      "cell_type": "code",
      "execution_count": 3,
      "metadata": {
        "colab": {
          "base_uri": "https://localhost:8080/"
        },
        "id": "35UMtQnDIsKJ",
        "outputId": "4dded0c3-7cda-4dfd-97ff-694e4f0b14f0"
      },
      "outputs": [
        {
          "output_type": "stream",
          "name": "stdout",
          "text": [
            "Cloning into 'm3d-vton'...\n",
            "remote: Enumerating objects: 109, done.\u001b[K\n",
            "remote: Counting objects: 100% (109/109), done.\u001b[K\n",
            "remote: Compressing objects: 100% (85/85), done.\u001b[K\n",
            "remote: Total 109 (delta 24), reused 100 (delta 20), pack-reused 0\u001b[K\n",
            "Receiving objects: 100% (109/109), 3.75 MiB | 13.23 MiB/s, done.\n",
            "Resolving deltas: 100% (24/24), done.\n"
          ]
        }
      ],
      "source": [
        "!git clone https://github.com/fyviezhao/m3d-vton"
      ]
    },
    {
      "cell_type": "markdown",
      "source": [
        "## Download Pretrained Models"
      ],
      "metadata": {
        "id": "oqxF2fhDvq7p"
      }
    },
    {
      "cell_type": "code",
      "source": [
        "cd m3d-vton/pretrained"
      ],
      "metadata": {
        "colab": {
          "base_uri": "https://localhost:8080/"
        },
        "id": "8QNYAuFZJWVW",
        "outputId": "1ff40913-3deb-4cbb-9a6e-da262482447d"
      },
      "execution_count": 1,
      "outputs": [
        {
          "output_type": "stream",
          "name": "stdout",
          "text": [
            "/content/m3d-vton/pretrained\n"
          ]
        }
      ]
    },
    {
      "cell_type": "code",
      "source": [
        "!gdown https://drive.google.com/uc?id=1wpN-yfa1_MbezqkcLfVspa2jVTJV7bjN"
      ],
      "metadata": {
        "colab": {
          "base_uri": "https://localhost:8080/"
        },
        "id": "evdw8cvn5-6f",
        "outputId": "50c7f1c8-93ff-4703-c7cf-e3df66fea9c0"
      },
      "execution_count": 5,
      "outputs": [
        {
          "output_type": "stream",
          "name": "stdout",
          "text": [
            "Downloading...\n",
            "From: https://drive.google.com/uc?id=1wpN-yfa1_MbezqkcLfVspa2jVTJV7bjN\n",
            "To: /content/m3d-vton/pretrained/M3D-VTON.zip\n",
            "100% 513M/513M [00:02<00:00, 214MB/s]\n"
          ]
        }
      ]
    },
    {
      "cell_type": "code",
      "source": [
        "!unzip M3D-VTON.zip "
      ],
      "metadata": {
        "colab": {
          "base_uri": "https://localhost:8080/"
        },
        "id": "vqJ2ZTXgB0vW",
        "outputId": "1b8528f6-a12a-4409-9300-da98cbd7e866"
      },
      "execution_count": 6,
      "outputs": [
        {
          "output_type": "stream",
          "name": "stdout",
          "text": [
            "Archive:  M3D-VTON.zip\n",
            " extracting: latest_net_TFM.pth      \n",
            " extracting: latest_net_MTM.pth      \n",
            " extracting: latest_net_DRM.pth      \n",
            "replace readme.txt? [y]es, [n]o, [A]ll, [N]one, [r]ename: y\n",
            " extracting: readme.txt              \n"
          ]
        }
      ]
    },
    {
      "cell_type": "code",
      "source": [
        "!mv latest_net_DRM.pth ./aligned/DRM/\n",
        "!mv latest_net_MTM.pth ./aligned/MTM/\n",
        "!mv latest_net_TFM.pth ./aligned/TFM/"
      ],
      "metadata": {
        "id": "nPjxI3p_CE5G"
      },
      "execution_count": 7,
      "outputs": []
    },
    {
      "cell_type": "code",
      "source": [
        "cd .."
      ],
      "metadata": {
        "colab": {
          "base_uri": "https://localhost:8080/"
        },
        "id": "gRiQ1pI2CRAm",
        "outputId": "aa5548c0-e593-4632-8b6e-e0fd1177ca15"
      },
      "execution_count": 2,
      "outputs": [
        {
          "output_type": "stream",
          "name": "stdout",
          "text": [
            "/content/m3d-vton\n"
          ]
        }
      ]
    },
    {
      "cell_type": "code",
      "source": [
        "# import cv2\n",
        "# import matplotlib.pyplot as plt\n",
        "# from google.colab.patches import cv2_imshow\n",
        "\n",
        "# img = cv2.imread('/content/m3d-vton/mpv3d_example/cloth-mask/s.jpg')\n",
        "# img= cv2.cvtColor(img,cv2.COLOR_BGR2GRAY)\n",
        "# ret, thresh = cv2.threshold(img,200, 255, cv2.THRESH_BINARY_INV)\n",
        "# cv2_imshow(thresh)\n",
        "# cv2.imwrite('/content/m3d-vton/mpv3d_example/cloth-mask/s_mask.jpg', thresh)"
      ],
      "metadata": {
        "id": "oKDIZfd_qw0z"
      },
      "execution_count": null,
      "outputs": []
    },
    {
      "cell_type": "markdown",
      "source": [
        "# Input Setup"
      ],
      "metadata": {
        "id": "tUaeOwV3zU7_"
      }
    },
    {
      "cell_type": "markdown",
      "source": [
        "## Follow the following steps:\n",
        "\n",
        "### Custom Data\n",
        "\n",
        "If you want to process your own data, some more steps are needed (the &#8594; indicates the corresponding folder where the images should be put into):\n",
        "\n",
        "1. prepare an in-shop clothing image *C* (&#8594; `input_data/cloth`) and a frontal person image *P* (&#8594; `input_data/image`) with resolution of 320*512;\n",
        "\n",
        "2. obtain the mask of *C* (&#8594; `input_data/cloth-mask`) by thresholding or using [remove.bg](https://www.remove.bg/);\n",
        "\n",
        "3. obtain the human segmentation layout (&#8594; `input_data/image-parse`) by applying [2D-Human-Paring](https://github.com/fyviezhao/2D-Human-Parsing) on *P*;\n",
        "\n",
        "4. obtain the human joints (&#8594; `input_data/pose`) by applying [OpenPose](https://github.com/CMU-Perceptual-Computing-Lab/openpose) (25 keypoints) on *P*;\n",
        "\n",
        "5. run the data processing script `python util/data_preprocessing.py --MPV3D_root input_data` to automatically obtain the remaining inputs (pre-aligned clothing, palm mask, and image gradients);\n",
        "\n",
        "6. now the data preparation is finished and you should be able to run inference with the steps described in the next section \"Running Inference\". \n",
        "\n",
        "## Running Inference\n",
        "We provide demo inputs under the `input_data` folder, where the target clothing and the reference person are like:\n",
        "\n",
        "with inputs from the `input_data` folder, the easiest way to get start is to use the [pretrained models](https://figshare.com/s/fad809619d2f9ac666fc) and sequentially run the four steps below:\n",
        "\n",
        "### 1. Testing MTM Module\n",
        "```sh\n",
        "python test.py --model MTM --name MTM --dataroot input_data --datalist test_pairs --results_dir results\n",
        "```\n",
        "\n",
        "### 2. Testing DRM Module\n",
        "```sh\n",
        "python test.py --model DRM --name DRM --dataroot input_data --datalist test_pairs --results_dir results\n",
        "```  \n",
        "\n",
        "### 3. Testing TFM Module\n",
        "```sh\n",
        "python test.py --model TFM --name TFM --dataroot input_data --datalist test_pairs --results_dir results\n",
        "```\n",
        "\n",
        "### 4. Getting colored point cloud and Remeshing\n",
        "\n",
        "(Note: since the back-side person images are unavailable, in `rgbd2pcd.py` we provide a fast face inpainting function that produces the mirrored back-side image after a fashion. One may need manually inpaint other back-side texture areas to achieve better visual quality.)\n",
        "\n",
        "```sh\n",
        "python rgbd2pcd.py\n",
        "```\n",
        "\n",
        "Now you should get the point cloud file prepared for remeshing under `results/aligned/pcd/test_pairs/*.ply`. [MeshLab](https://www.meshlab.net/) can be used to remesh the predicted point cloud, with two simple steps below:\n",
        "\n",
        "- Normal Estimation: Open MeshLab and load the point cloud file, and then go to Filters --> Normals, Curvatures and Orientation --> Compute normals for point sets\n",
        "\n",
        "- Possion Remeshing: Go to Filters --> Remeshing, Simplification and Reconstruction --> Surface Reconstruction: Screen Possion (set reconstruction depth = 9)"
      ],
      "metadata": {
        "id": "2tJAXSmoza4A"
      }
    },
    {
      "cell_type": "markdown",
      "source": [
        "## Folder Structure\n",
        "\n",
        "Create a folder called input_data with the following structure:\n",
        "\n",
        "__input_data__\n",
        "\n",
        "-->__cloth__\n",
        "\n",
        "---->cloth@1=cloth_front.jpg\n",
        "\n",
        "---->cloth@2=cloth_front.jpg\n",
        "\n",
        "----> ...\n",
        "\n",
        "-->__cloth-mask__\n",
        "\n",
        "---->cloth@1=cloth_front_mask.jpg\n",
        "\n",
        "---->cloth@2=cloth_front_mask.jpg\n",
        "\n",
        "----> ...\n",
        "\n",
        "-->__image__\n",
        "\n",
        "---->person@1=person_whole_front.png\n",
        "\n",
        "---->person@2=person_whole_front.png\n",
        "\n",
        "----> ...\n",
        "\n",
        "-->__image-parse__\n",
        "\n",
        "---->person@1=person_whole_front_label.png\n",
        "\n",
        "---->person@2=person_whole_front_label.png\n",
        "\n",
        "----> ...\n",
        "\n",
        "-->__pose__\n",
        "\n",
        "---->person@1=person_whole_front_keypoints.json\n",
        "\n",
        "---->person@2=person_whole_front_keypoints.json\n",
        "\n",
        "----> ...\n",
        "\n",
        "-->test_pairs.txt\n",
        "\n",
        "-->train_pairs.txt"
      ],
      "metadata": {
        "id": "4BIqgTLFvynf"
      }
    },
    {
      "cell_type": "markdown",
      "source": [
        "The test_pairs.txt and train_pairs.txt file will have the following format:\n",
        "\n",
        "person@1=person_whole_front.png    cloth@1=cloth_front.jpg\n",
        "\n",
        "person@2=person_whole_front.png    cloth@2=cloth_front.jpg"
      ],
      "metadata": {
        "id": "ViHTEElMxoDg"
      }
    },
    {
      "cell_type": "markdown",
      "source": [
        "Each image should have the following proportions:\n",
        "- width= 320\n",
        "- height= 512\n",
        "- bit depth= 24"
      ],
      "metadata": {
        "id": "FlqKlEAVPqem"
      }
    },
    {
      "cell_type": "markdown",
      "source": [
        "# Preprocessing Data"
      ],
      "metadata": {
        "id": "5J24ZQfgyU1u"
      }
    },
    {
      "cell_type": "markdown",
      "source": [
        "Replace line 194 and 233 in data_preprocessing.py with:\n",
        "\n",
        "sorted([i for \\_,_,i in os.walk(person_root)][0])\n",
        "\n",
        "\n"
      ],
      "metadata": {
        "id": "4zINGL0uZfLt"
      }
    },
    {
      "cell_type": "code",
      "source": [
        "!python util/data_preprocessing.py --MPV3D_root input_data"
      ],
      "metadata": {
        "colab": {
          "base_uri": "https://localhost:8080/"
        },
        "id": "UKZMtQwJcSMd",
        "outputId": "bcccddf7-90b3-4775-fcc8-1948d969cb13"
      },
      "execution_count": 20,
      "outputs": [
        {
          "output_type": "stream",
          "name": "stdout",
          "text": [
            "\r0it [00:00, ?it/s]\r1it [00:00, 13.07it/s]\n",
            "\r0it [00:00, ?it/s]\r1it [00:00, 17.91it/s]\n",
            "clothes pre-alignment done and saved to input_data/aligned/test_pairs/cloth!\n",
            "\r  0% 0/1 [00:00<?, ?it/s]\r100% 1/1 [00:00<00:00, 53.72it/s]\n",
            "palms segmentaion done and saved to input_data/palm-mask!\n",
            "100% 1/1 [00:00<00:00, 11.19it/s]\n",
            "Getting image sobel done and saving to input_data/image-sobel!\n",
            "******Data preprocessing done!******\n"
          ]
        }
      ]
    },
    {
      "cell_type": "markdown",
      "source": [
        "# Taking Infrence using models"
      ],
      "metadata": {
        "id": "KoJe5OP7ytsI"
      }
    },
    {
      "cell_type": "code",
      "source": [
        "!python test.py --model MTM --name MTM --dataroot input_data --datalist test_pairs --results_dir results"
      ],
      "metadata": {
        "colab": {
          "base_uri": "https://localhost:8080/"
        },
        "id": "u3jPoNgUJa6C",
        "outputId": "1558efcb-c5a4-4eb5-829f-772b01b8bbdb"
      },
      "execution_count": 21,
      "outputs": [
        {
          "output_type": "stream",
          "name": "stdout",
          "text": [
            "----------------- Options ---------------\n",
            "                add_depth: True                          \n",
            "            add_grid_loss: False                         \n",
            "                add_segmt: True                          \n",
            "           add_theta_loss: False                         \n",
            "                  add_tps: True                          \n",
            "             aspect_ratio: 1.0                           \n",
            "               batch_size: 8                             \n",
            "          checkpoints_dir: pretrained                    \n",
            "                 datalist: test_pairs                    \n",
            "                 datamode: aligned                       \n",
            "                 dataroot: input_data                    \t[default: mpv3d_example]\n",
            "          display_winsize: 512                           \n",
            "                    epoch: latest                        \n",
            "                     eval: False                         \n",
            "                  gpu_ids: 0                             \n",
            "                grid_size: 3                             \n",
            "               img_height: 512                           \n",
            "                img_width: 320                           \n",
            "                init_gain: 0.02                          \n",
            "                init_type: normal                        \n",
            "               input_nc_A: 29                            \n",
            "               input_nc_B: 3                             \n",
            "                  isTrain: False                         \t[default: None]\n",
            "             lambda_depth: 1.0                           \n",
            "              lambda_grid: 1.0                           \n",
            "             lambda_segmt: 1.0                           \n",
            "             lambda_theta: 0.1                           \n",
            "              lambda_warp: 1.0                           \n",
            "                load_iter: 0                             \t[default: 0]\n",
            "         max_dataset_size: inf                           \n",
            "                    model: MTM                           \n",
            "               n_layers_D: 3                             \n",
            "    n_layers_feat_extract: 3                             \n",
            "                     name: MTM                           \n",
            "                      ndf: 64                            \n",
            "                     netD: basic                         \n",
            "                      ngf: 64                            \n",
            "            no_pin_memory: False                         \n",
            "                     norm: instance                      \n",
            "                 num_test: 10000                         \n",
            "              num_threads: 8                             \n",
            "                    phase: test                          \n",
            "                   radius: 5                             \n",
            "              results_dir: results                       \n",
            "           save_depth_vis: False                         \n",
            "          save_normal_vis: False                         \n",
            "           save_segmt_vis: False                         \n",
            "           serial_batches: False                         \n",
            "                   suffix:                               \n",
            "              use_dropout: False                         \n",
            "                  verbose: False                         \n",
            "----------------- End -------------------\n",
            "dataset [AlignedMPV3dDataset] was created\n",
            "initialize network with normal\n",
            "model [MTMModel] was created\n",
            "loading the model from pretrained/aligned/MTM/latest_net_MTM.pth\n",
            "---------- Networks initialized -------------\n",
            "[Network MTM] Total number of parameters : 40.003 M\n",
            "-----------------------------------------------\n",
            "/usr/local/lib/python3.7/dist-packages/torch/nn/functional.py:3384: UserWarning: Default grid_sample and affine_grid behavior has changed to align_corners=False since 1.3.0. Please specify align_corners=True if the old behavior is desired. See the documentation of grid_sample for details.\n",
            "  warnings.warn(\"Default grid_sample and affine_grid behavior has changed \"\n",
            "processing (0001)-th / (0001) image...\n",
            "Testing MTM finished.\n"
          ]
        }
      ]
    },
    {
      "cell_type": "code",
      "source": [
        "!python test.py --model DRM --name DRM --dataroot input_data --datalist test_pairs --results_dir results"
      ],
      "metadata": {
        "id": "VIqi2ltrJqJy",
        "colab": {
          "base_uri": "https://localhost:8080/"
        },
        "outputId": "d1a13956-9857-4934-8ad6-1e1ce3d9b315"
      },
      "execution_count": 22,
      "outputs": [
        {
          "output_type": "stream",
          "name": "stdout",
          "text": [
            "----------------- Options ---------------\n",
            "             add_gan_loss: False                         \n",
            "            add_grad_loss: True                          \n",
            "          add_normal_loss: False                         \n",
            "             aspect_ratio: 1.0                           \n",
            "               batch_size: 8                             \n",
            "          checkpoints_dir: pretrained                    \n",
            "                 datalist: test_pairs                    \n",
            "                 datamode: aligned                       \n",
            "                 dataroot: input_data                    \t[default: mpv3d_example]\n",
            "            display_ncols: 2                             \n",
            "          display_winsize: 512                           \n",
            "                    epoch: latest                        \n",
            "                     eval: False                         \n",
            "                  gpu_ids: 0                             \n",
            "               img_height: 512                           \n",
            "                img_width: 320                           \n",
            "                init_gain: 0.02                          \n",
            "                init_type: normal                        \n",
            "           input_gradient: True                          \n",
            "                 input_nc: 8                             \n",
            "               input_nc_D: 4                             \n",
            "                  isTrain: False                         \t[default: None]\n",
            "             lambda_depth: 1.0                           \n",
            "               lambda_gan: 1.0                           \n",
            "              lambda_grad: 1.0                           \n",
            "            lambda_normal: 1.5                           \n",
            "                load_iter: 0                             \t[default: 0]\n",
            "         max_dataset_size: inf                           \n",
            "                    model: DRM                           \t[default: MTM]\n",
            "               n_layers_D: 3                             \n",
            "                     name: DRM                           \t[default: MTM]\n",
            "                      ndf: 64                            \n",
            "                     netD: basic                         \n",
            "                      ngf: 64                            \n",
            "            no_pin_memory: False                         \n",
            "                     norm: instance                      \n",
            "                 num_test: 10000                         \n",
            "              num_threads: 8                             \n",
            "                output_nc: 2                             \n",
            "                    phase: test                          \n",
            "                   radius: 5                             \n",
            "              results_dir: results                       \n",
            "           save_depth_vis: False                         \n",
            "          save_normal_vis: False                         \n",
            "           save_segmt_vis: False                         \n",
            "           serial_batches: False                         \n",
            "                   suffix:                               \n",
            "              use_dropout: False                         \n",
            "                  verbose: False                         \n",
            "                 warproot: results/aligned/MTM/test_pairs\n",
            "----------------- End -------------------\n",
            "dataset [AlignedMPV3dDataset] was created\n",
            "initialize network with normal\n",
            "model [DRMModel] was created\n",
            "loading the model from pretrained/aligned/DRM/latest_net_DRM.pth\n",
            "---------- Networks initialized -------------\n",
            "[Network DRM] Total number of parameters : 66.936 M\n",
            "-----------------------------------------------\n",
            "/usr/local/lib/python3.7/dist-packages/torch/nn/functional.py:3121: UserWarning: Default upsampling behavior when mode=bilinear is changed to align_corners=False since 0.4.0. Please specify align_corners=True if the old behavior is desired. See the documentation of nn.Upsample for details.\n",
            "  \"See the documentation of nn.Upsample for details.\".format(mode))\n",
            "\n",
            "Testing DRM finished.\n"
          ]
        }
      ]
    },
    {
      "cell_type": "code",
      "source": [
        "!python test.py --model TFM --name TFM --dataroot input_data --datalist test_pairs --results_dir results"
      ],
      "metadata": {
        "id": "yfg3q8EsHOv8",
        "colab": {
          "base_uri": "https://localhost:8080/"
        },
        "outputId": "e1cbfe3a-8dc7-4108-bbb8-0a057a3c311f"
      },
      "execution_count": 23,
      "outputs": [
        {
          "output_type": "stream",
          "name": "stdout",
          "text": [
            "----------------- Options ---------------\n",
            "             add_gan_loss: False                         \n",
            "             aspect_ratio: 1.0                           \n",
            "               batch_size: 8                             \n",
            "          checkpoints_dir: pretrained                    \n",
            "                 datalist: test_pairs                    \n",
            "                 datamode: aligned                       \n",
            "                 dataroot: input_data                    \t[default: mpv3d_example]\n",
            "          display_winsize: 512                           \n",
            "                    epoch: latest                        \n",
            "                     eval: False                         \n",
            "                  gpu_ids: 0                             \n",
            "               img_height: 512                           \n",
            "                img_width: 320                           \n",
            "                init_gain: 0.02                          \n",
            "                init_type: normal                        \n",
            "              input_depth: True                          \n",
            "                 input_nc: 7                             \n",
            "               input_nc_D: 12                            \n",
            "              input_segmt: True                          \n",
            "                  isTrain: False                         \t[default: None]\n",
            "               lambda_gan: 1.0                           \n",
            "                lambda_l1: 1.0                           \n",
            "              lambda_mask: 1.0                           \n",
            "               lambda_vgg: 1.0                           \n",
            "                load_iter: 0                             \t[default: 0]\n",
            "         max_dataset_size: inf                           \n",
            "                    model: TFM                           \t[default: MTM]\n",
            "               n_layers_D: 3                             \n",
            "                     name: TFM                           \t[default: MTM]\n",
            "                      ndf: 64                            \n",
            "                     netD: basic                         \n",
            "                      ngf: 64                            \n",
            "            no_pin_memory: False                         \n",
            "                     norm: instance                      \n",
            "                num_downs: 6                             \n",
            "                 num_test: 10000                         \n",
            "              num_threads: 8                             \n",
            "                output_nc: 4                             \n",
            "                    phase: test                          \n",
            "                   radius: 5                             \n",
            "              results_dir: results                       \n",
            "           save_depth_vis: False                         \n",
            "          save_normal_vis: False                         \n",
            "           save_segmt_vis: False                         \n",
            "           serial_batches: False                         \n",
            "                   suffix:                               \n",
            "              use_dropout: False                         \n",
            "                  verbose: False                         \n",
            "                 warproot: results/aligned/MTM/test_pairs\n",
            "----------------- End -------------------\n",
            "dataset [AlignedMPV3dDataset] was created\n",
            "initialize network with normal\n",
            "model [TFMModel] was created\n",
            "loading the model from pretrained/aligned/TFM/latest_net_TFM.pth\n",
            "---------- Networks initialized -------------\n",
            "[Network TFM] Total number of parameters : 21.333 M\n",
            "-----------------------------------------------\n",
            "processing (0001)-th / (0001) image...\n",
            "Testing TFM finished.\n"
          ]
        }
      ]
    },
    {
      "cell_type": "code",
      "source": [
        "!python rgbd2pcd.py --parse_root input_data/image-parse"
      ],
      "metadata": {
        "id": "LeA9SOPpHRfZ",
        "colab": {
          "base_uri": "https://localhost:8080/"
        },
        "outputId": "b56f23e5-795a-4496-cfcd-b132b0f19c8b"
      },
      "execution_count": 25,
      "outputs": [
        {
          "output_type": "stream",
          "name": "stdout",
          "text": [
            "100% 2/2 [00:00<00:00,  4.69it/s]\n",
            "The unprojected point cloud file(s) are saved to results/aligned/pcd/test_pairs\n"
          ]
        }
      ]
    },
    {
      "cell_type": "markdown",
      "source": [
        "# Post processing point cloud"
      ],
      "metadata": {
        "id": "0EiEyBfVz9FX"
      }
    },
    {
      "cell_type": "code",
      "source": [
        "!mkdir ./results/aligned/final_pcd"
      ],
      "metadata": {
        "id": "JIspEpGxuSpH"
      },
      "execution_count": 7,
      "outputs": []
    },
    {
      "cell_type": "code",
      "source": [
        "# post processing point cloud\n",
        "\n",
        "import open3d as o3d \n",
        "\n",
        "# load point cloud\n",
        "pcd = o3d.io.read_point_cloud('./results/aligned/pcd/test_pairs/person@1=person.ply')\n",
        "\n",
        "# normal estimation\n",
        "pcd.estimate_normals()\n",
        "pcd.orient_normals_consistent_tangent_plane(100)\n",
        "\n",
        "# poisson surface reconstruction\n",
        "mesh, densities = o3d.geometry.TriangleMesh.create_from_point_cloud_poisson(pcd, depth=9)\n",
        "\n",
        "# save mesh\n",
        "o3d.io.write_triangle_mesh('./results/aligned/final_pcd/person@1=person.ply', mesh)"
      ],
      "metadata": {
        "colab": {
          "base_uri": "https://localhost:8080/"
        },
        "id": "UdNQEV0-ro2U",
        "outputId": "bccf231d-4306-471d-a3a1-bb0eb1a2aca0"
      },
      "execution_count": 8,
      "outputs": [
        {
          "output_type": "execute_result",
          "data": {
            "text/plain": [
              "True"
            ]
          },
          "metadata": {},
          "execution_count": 8
        }
      ]
    },
    {
      "cell_type": "code",
      "source": [
        "# display 2D result\n",
        "\n",
        "import cv2\n",
        "import matplotlib.pyplot as plt\n",
        "\n",
        "img_path = './results/aligned/TFM/test_pairs/tryon/person@1=person_whole_front.png'\n",
        "img = cv2.imread(img_path)\n",
        "img = cv2.cvtColor(img, cv2.COLOR_BGR2RGB)\n",
        "\n",
        "\n",
        "plt.imshow(img)\n",
        "plt.axis('off')\n",
        "plt.show()"
      ],
      "metadata": {
        "colab": {
          "base_uri": "https://localhost:8080/",
          "height": 248
        },
        "id": "GhnzNAiIs_ej",
        "outputId": "797a7ec0-eb83-43c9-8d2c-2996f785b54d"
      },
      "execution_count": 10,
      "outputs": [
        {
          "output_type": "display_data",
          "data": {
            "image/png": "[encoded data removed]",
            "text/plain": [
              "<Figure size 432x288 with 1 Axes>"
            ]
          },
          "metadata": {
            "needs_background": "light"
          }
        }
      ]
    },
    {
      "cell_type": "code",
      "source": [
        ""
      ],
      "metadata": {
        "id": "_OYG9mwqu8h1"
      },
      "execution_count": null,
      "outputs": []
    }
  ]
}